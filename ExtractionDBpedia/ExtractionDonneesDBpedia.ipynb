{
 "cells": [
  {
   "cell_type": "markdown",
   "source": [
    "(Merge entre l'extraction des noms des auteurs effectuée par michel, et la comparaison avec le reste des données)\n"
   ],
   "metadata": {
    "collapsed": false,
    "pycharm": {
     "name": "#%% md\n"
    }
   }
  },
  {
   "cell_type": "code",
   "execution_count": 5,
   "metadata": {},
   "outputs": [],
   "source": [
    "import Levenshtein\n",
    "import os.path\n",
    "\n",
    "from tqdm import tqdm\n",
    "from SPARQLWrapper import SPARQLWrapper, JSON\n",
    "from statistics import mean\n",
    "\n",
    "import sys\n",
    "sys.path.append('../')\n",
    "\n",
    "from Identification_couples_livres.extract_books_from_DB import *"
   ]
  },
  {
   "cell_type": "code",
   "execution_count": 21,
   "metadata": {},
   "outputs": [],
   "source": [
    "# Fonctions utiles\n",
    "\n",
    "# Pour enlever la qualificatif entre () dans un nom provenant de DBpedia\n",
    "def traiter_nom(chaine):\n",
    "    c = chaine.split(' (')\n",
    "    return c[0]\n"
   ]
  },
  {
   "cell_type": "markdown",
   "metadata": {},
   "source": [
    "# Recherche des auteurs dans DBpedia français\n",
    "\n",
    "Une première approche pour trouver les auteurs dans DBpedia consiste à trouver ceux qui sont associés à une catégorie désignant un auteur:\n",
    "\n",
    "* Écrivain québécois\n",
    "* Poète québécois\n",
    "* Dramaturge québécois\n",
    "* ...\n",
    "\n",
    "On note que les catégories forment une hiérarchie dominée par la catégorie \"Écrivain québécois\" \n",
    "\n",
    "On note aussi que plusieurs auteurs ont un URI, mais ne sont le sujet d'aucun triplet dans DBpedia. On peut les retrouver en recherchant ceux qui sont l'objet de la relation <http://dbpedia.org/ontology/wikiPageWikiLink> \n",
    "avec un prix littéraire comme sujet. Le problème ici est que cette relation est vague et que l'objet peut \n",
    "être bien autre chose qu'une personne."
   ]
  },
  {
   "cell_type": "code",
   "execution_count": 22,
   "metadata": {},
   "outputs": [],
   "source": [
    "# Recherche dans DBpedia français\n",
    "sparql = SPARQLWrapper(\"http://fr.dbpedia.org/sparql\")\n",
    "sparql.setQuery(\"\"\"\n",
    "  PREFIX dcterms: <http://purl.org/dc/terms/>\n",
    "  PREFIX skos: <http://www.w3.org/2004/02/skos/core#>\n",
    "  PREFIX rdfs: <http://www.w3.org/2000/01/rdf-schema#>\n",
    "  SELECT DISTINCT ?s ?label ?naissance\n",
    "  WHERE {\n",
    "    ?s dcterms:subject ?cat .\n",
    "    ?cat skos:broader* <http://fr.dbpedia.org/resource/Catégorie:Écrivain_québécois> .\n",
    "  \n",
    "    ?s  rdfs:label ?label . \n",
    "    OPTIONAL { ?s <http://dbpedia.org/ontology/birthDate> ?naissance .}\n",
    "    FILTER (lang(?label) = \"fr\")\n",
    "  } \n",
    "\"\"\")\n",
    "\n",
    "sparql.setReturnFormat(JSON)\n",
    "results_dbpedia_fr = sparql.query().convert()"
   ]
  },
  {
   "cell_type": "code",
   "execution_count": 23,
   "metadata": {
    "scrolled": false
   },
   "outputs": [
    {
     "name": "stdout",
     "output_type": "stream",
     "text": [
      "1259 écrivains du Québec trouvés dans DBpedia français\n"
     ]
    }
   ],
   "source": [
    "filtre = [\"Liste d'écrivains québécois par ordre alphabétique\",\n",
    "           \"Association des écrivaines et des écrivains québécois pour la jeunesse\",\n",
    "           \"Liste de poètes québécois\",\n",
    "           \"Liste d'auteurs québécois par ordre chronologique\",\n",
    "           \"Liste d'auteurs québécois par ordre chronologique de décès\"]\n",
    "\n",
    "\n",
    "# On récupère les données extraites par la requête SPARQL\n",
    "ecrivains_dbpedia_fr = set([(b['s']['value'],\n",
    "                         traiter_nom(b['label']['value']), \n",
    "                         b['naissance']['value'][:4] if 'naissance' in b else 'X') \n",
    "                        for b in results_dbpedia_fr['results']['bindings']])\n",
    "\n",
    "\n",
    "# On retire ceux qui ne correspondent pas à des écrivains\n",
    "ecrivains_dbpedia_fr = [(uri,nom,naiss) for (uri,nom,naiss) in ecrivains_dbpedia_fr if nom not in filtre]\n",
    "\n",
    "print(len(ecrivains_dbpedia_fr), 'écrivains du Québec trouvés dans DBpedia français')\n",
    "      \n",
    "file_writers = open(\"../Data/DBpedia/ecrivains_dbpedia_fr.txt\",\"w\")\n",
    "for e in ecrivains_dbpedia_fr:\n",
    "    file_writers.write(e[0] + \" ; \" + e[1] + '\\n')\n",
    "file_writers.close()\n",
    "\n"
   ]
  },
  {
   "cell_type": "markdown",
   "metadata": {},
   "source": [
    "### Recherche des auteurs dans DBpedia anglais\n",
    "\n",
    "Plusieurs auteurs se retrouvent de DBpedia anglais. Même, certains sont présents seulement dans DBpedia anglais.\n",
    "Pour les retrouver, on pourrait chercher ceux qui sont liés à la catégorie Writers_from_Quebec, ou une de ses sous-catégories. Mais cela couvrerait trop large, puisqu'il y a des sous-catégories, comme \"McGill University alumni\", qui ne représentent pas nécessairement des écrivains. Il faut donc lister toutes les sous-catégories pertinentes. Si on essaie d'utiliser toute la hiérarchie de Writers_from_Quebec et filtrer par la suite les instances du sous-arrbre dominé par la catégorie Academics_in_Quebec, ça ne marche pas, à cause d'un problème de mémoire sur le serveur.\n",
    "\n",
    "À noter que l'on retrouve plus systématiquement les dates de naissance dans DBpedia anglais.\n",
    "    \n",
    "    "
   ]
  },
  {
   "cell_type": "code",
   "execution_count": 24,
   "metadata": {},
   "outputs": [],
   "source": [
    "\n",
    "sparql = SPARQLWrapper(\"http://dbpedia.org/sparql\")\n",
    "sparql.setQuery(\"\"\"\n",
    "   PREFIX dcterms: <http://purl.org/dc/terms/>\n",
    "   PREFIX skos: <http://www.w3.org/2004/02/skos/core#>\n",
    "   PREFIX rdfs: <http://www.w3.org/2000/01/rdf-schema#>\n",
    "   SELECT DISTINCT ?s ?label ?naissance  \n",
    "   WHERE {\n",
    "     {?s dcterms:subject <http://dbpedia.org/resource/Category:Writers_from_Quebec> }\n",
    "     UNION\n",
    "     {?s dcterms:subject <http://dbpedia.org/resource/Category:Writers_from_Montreal> }\n",
    "     UNION\n",
    "     {?s dcterms:subject <http://dbpedia.org/resource/Category:Writers_from_Quebec_City>}\n",
    "\n",
    "     ?s rdfs:label ?label . \n",
    "     OPTIONAL { ?s <http://dbpedia.org/ontology/birthDate> ?naissance .}\n",
    "     \n",
    "     FILTER (lang(?label) IN (\"fr\", \"en\"))\n",
    "    } \n",
    "\"\"\")\n",
    "sparql.setReturnFormat(JSON)\n",
    "results_dbpedia_en = sparql.query().convert()\n",
    "\n"
   ]
  },
  {
   "cell_type": "code",
   "execution_count": 25,
   "metadata": {
    "scrolled": false
   },
   "outputs": [
    {
     "name": "stdout",
     "output_type": "stream",
     "text": [
      "784 écrivains du Québec trouvés dans DBpedia anglais\n"
     ]
    }
   ],
   "source": [
    "ecrivains_dbpedia_en = set([(b['s']['value'],\n",
    "                             traiter_nom(b['label']['value']),\n",
    "                             b['naissance']['value'][:4] if 'naissance' in b else 'X')\n",
    "                            for b in results_dbpedia_en['results']['bindings']])\n",
    "\n",
    "print(len(ecrivains_dbpedia_en), 'écrivains du Québec trouvés dans DBpedia anglais')\n",
    "\n",
    "\n",
    "\n",
    "file_writers = open(\"../Data/DBpedia/ecrivains_dbpedia_en.txt\",\"w\")\n",
    "for e in ecrivains_dbpedia_en:\n",
    "    file_writers.write(e[0] + \" ; \" + e[1] + '\\n')\n",
    "file_writers.close()\n",
    "    \n",
    "    \n",
    "    "
   ]
  },
  {
   "cell_type": "markdown",
   "metadata": {},
   "source": [
    "Deux écrivains sont dédoublés parce qu'ils ont deux dates de naissances différentes (erreurs dans DBpedia anglais)\n",
    "* Victor Barbeau\n",
    "* Angeline Hango\n",
    "\n",
    "À noter qu'il y a deux écrivains qui ont deux homonymes dans DBpedia français et qui se trouvent aussi dans DBpedia anglais:\n",
    "* Pierre Morency\n",
    "* Louis Émond"
   ]
  },
  {
   "cell_type": "markdown",
   "source": [
    "# Comparaison avec les auteurs contenus dans les bases de données"
   ],
   "metadata": {
    "collapsed": false,
    "pycharm": {
     "name": "#%% md\n"
    }
   }
  },
  {
   "cell_type": "code",
   "execution_count": 8,
   "outputs": [
    {
     "name": "stderr",
     "output_type": "stream",
     "text": [
      "100%|██████████| 1259/1259 [03:17<00:00,  6.37it/s]\n"
     ]
    },
    {
     "name": "stdout",
     "output_type": "stream",
     "text": [
      "nombre d'autheurs en commun:  1005  soit  5.035574706884457 %\n",
      "nombre d'autheurs reconnus:  1080  soit  1.0746268656716418  auteur dans nos bases de donnée par auteur reconnu dans Dbpedia\n",
      "Frequence de reconnaissance des 10 auteurs de DBpedia les plus reconnus:  [(' Michel Tremblay\\n', 3), (' Sylvie Bérard\\n', 3), (' Denise Boucher\\n', 3), (' Jacques Brossard\\n', 3), (' Jocelyne Robert\\n', 2), (' Jacques Godbout\\n', 2), (' Michel David\\n', 2), (' Paul Chanel Malenfant\\n', 2), (' Louis Hamelin\\n', 2), (' Christiane Lahaie\\n', 2)]\n",
      "\n",
      "Répartition des livres des auteurs reconnus dans les bases de données: \n",
      "1/8:  {\"ILE\": 16471, \"Depot_legal\": 9317, \"ADP\": 3184, \"Babelio\": 2568}\n",
      "\n",
      "20 premiers couples à la limite d'être considérés comme égaux\n",
      "Autheur DB:  chantal fortin                           Autheur DBpedia:   Chantal Morin\n",
      "\n",
      "Autheur DB:  marco belanger                           Autheur DBpedia:   Marcel Bélanger\n",
      "\n",
      "Autheur DB:  sylvain houde                            Autheur DBpedia:   Sylvain Hotte\n",
      "\n",
      "Autheur DB:  rodrigue pare                            Autheur DBpedia:   Rodrigue Larue\n",
      "\n",
      "Autheur DB:  lise bouchard                            Autheur DBpedia:   Louise Bouchard\n",
      "\n",
      "Autheur DB:  gaëtan richard                           Autheur DBpedia:   Gaëtan Picard\n",
      "\n",
      "Autheur DB:  jacques menard                           Autheur DBpedia:   Jacques Renaud\n",
      "\n",
      "Autheur DB:  emmanuel comte                           Autheur DBpedia:   Emmanuel Cocke\n",
      "\n",
      "Autheur DB:  suzanne marcil                           Autheur DBpedia:   Suzanne Martel\n",
      "\n",
      "Autheur DB:  suzanne morel                            Autheur DBpedia:   Suzanne Martel\n",
      "\n",
      "Autheur DB:  louise tremblay                          Autheur DBpedia:   Lise Tremblay\n",
      "\n",
      "Autheur DB:  rachel leclerc                           Autheur DBpedia:   Michel Leclerc\n",
      "\n",
      "Autheur DB:  louise deschenes                         Autheur DBpedia:   Louise Dechêne\n",
      "\n",
      "Autheur DB:  louise duchesne                          Autheur DBpedia:   Louise Dechêne\n",
      "\n",
      "Autheur DB:  gilles devault                           Autheur DBpedia:   Gilles Hénault\n",
      "\n",
      "Autheur DB:  danielle gagnon                          Autheur DBpedia:   Daniel Gagnon\n",
      "\n",
      "Autheur DB:  gilles laporte                           Autheur DBpedia:   Gilles Lapointe\n",
      "\n",
      "Autheur DB:  alain turgeon                            Autheur DBpedia:   Élaine Turgeon\n",
      "\n",
      "Autheur DB:  jean-francois bibeau                     Autheur DBpedia:   Jean-François Nadeau\n",
      "\n",
      "Autheur DB:  dany tremblay                            Autheur DBpedia:   Tony Tremblay\n",
      "\n"
     ]
    }
   ],
   "source": [
    "if os.path.isfile('../Data/authors_ls.json'):\n",
    "    with open('../Data/authors_ls.json', 'r') as input_file:\n",
    "        author_ls = json.load(input_file, cls=BookJSONDecoder)\n",
    "else:\n",
    "    all_books = generate_all_books()\n",
    "    author_ls, _ = generate_all_authors(all_books)\n",
    "\n",
    "with open('../Data/DBpedia/ecrivains_dbpedia_fr.txt', 'r') as input_file:\n",
    "    DBpedia_authors = []\n",
    "    for line in input_file:\n",
    "        DBpedia_authors.append(line.split(';')[-1])\n",
    "\n",
    "# Couple dont on estime que les deux auteurs sont les mêmes\n",
    "couple_writers = []\n",
    "# Couple dont on estime que les deux auteurs sont différents mais à la limite d'être les mêmes\n",
    "neg_couple_writers = []\n",
    "\n",
    "# Compte les livres des auteurs par base de donnée (permet de voir si une base de donnée n'a aucun match)\n",
    "data_base_stats = {}\n",
    "# Compte les auteurs de wikidata qui ont été trouvé dans nos bases de donnée\n",
    "found_at_least_once = 0\n",
    "# Compte le nombre de couples\n",
    "nb_couple = 0\n",
    "# Compte le nombre de fois qu'un auteur de wikidata a été trouvé dans nos bases de donnée\n",
    "author_found_freq = {}\n",
    "\n",
    "for author_DBpedia in tqdm(DBpedia_authors):\n",
    "    DB_pedia_author_found_count = 0\n",
    "    for DB_author, DB_author_books in author_ls.items():\n",
    "        normalised_DBpedia_title = normalize(author_DBpedia)\n",
    "        dist_auteur = Levenshtein.distance(DB_author, normalised_DBpedia_title)\n",
    "        if max(1, min(len(DB_author), len(normalised_DBpedia_title)) / 6) > dist_auteur > max(1, min(len(author_DB), len(normalised_DBpedia_title)) / 8):\n",
    "            neg_couple_writers.append({\n",
    "                        'author_DB': {'name': DB_author, 'books': DB_author_books},\n",
    "                        'author_DBpedia': author_DBpedia\n",
    "                    })\n",
    "        elif dist_auteur < max(1, min(len(DB_author), len(normalised_DBpedia_title)) / 8):\n",
    "            new_couple = {\n",
    "                        'author_DB': {'name': DB_author, 'books': DB_author_books},\n",
    "                        'author_DBpedia': author_DBpedia\n",
    "                    }\n",
    "            nb_couple += 1\n",
    "            DB_pedia_author_found_count += 1\n",
    "\n",
    "            couple_writers.append(new_couple)\n",
    "            for book in DB_author_books:\n",
    "                try:\n",
    "                    data_base_stats[book.data_base] += 1\n",
    "                except:\n",
    "                    data_base_stats[book.data_base] = 1\n",
    "\n",
    "    if DB_pedia_author_found_count:\n",
    "        found_at_least_once += 1\n",
    "        author_found_freq[author_DBpedia] = DB_pedia_author_found_count\n",
    "\n",
    "\n",
    "print(\"nombre d'autheurs en commun: \", found_at_least_once, \" soit \", found_at_least_once * 100 / len(list(author_ls)), \"%\")\n",
    "print(\"nombre d'autheurs reconnus: \", nb_couple, \" soit \", nb_couple/found_at_least_once, ' auteur dans nos bases de donnée par auteur reconnu dans Dbpedia')\n",
    "print(\"Frequence de reconnaissance des 10 auteurs de DBpedia les plus reconnus: \", sorted(author_found_freq.items(), key=lambda item: item[1], reverse=True)[:10])\n",
    "\n",
    "\n",
    "print(\"\\nRépartition des livres des auteurs reconnus dans les bases de données: \")\n",
    "print('1/8: ', json.dumps(data_base_stats))\n",
    "\n",
    "print(\"\\n20 premiers couples à la limite d'être considérés comme égaux\")\n",
    "for couple in neg_couple_writers[:20]:\n",
    "    print(\"Autheur DB: \", couple['author_DB']['name'] + \" \" * (40 - len(couple['author_DB']['name'])),\n",
    "          \"Autheur DBpedia: \", couple['author_DBpedia'])\n",
    "\n",
    "with open('../Data/DBpedia/couple_authors_DBpedia.json', 'w') as outfile:\n",
    "    json.dump(couple_writers, outfile, cls=BookJSONEncoder)"
   ],
   "metadata": {
    "collapsed": false,
    "pycharm": {
     "name": "#%%\n"
    }
   }
  },
  {
   "cell_type": "markdown",
   "source": [
    "# Extraction  des champs disponibles depuis DBpédia pour les auteurs en commun\n",
    "\n",
    "## Récupération de tout les champs"
   ],
   "metadata": {
    "collapsed": false,
    "pycharm": {
     "name": "#%% md\n"
    }
   }
  },
  {
   "cell_type": "code",
   "execution_count": 9,
   "outputs": [
    {
     "ename": "KeyError",
     "evalue": "'http://fr.dbpedia.org/resource/Renaud_Longchamps '",
     "output_type": "error",
     "traceback": [
      "\u001B[0;31m---------------------------------------------------------------------------\u001B[0m",
      "\u001B[0;31mKeyError\u001B[0m                                  Traceback (most recent call last)",
      "\u001B[0;32m<ipython-input-9-4441451a75b2>\u001B[0m in \u001B[0;36m<module>\u001B[0;34m\u001B[0m\n\u001B[1;32m     18\u001B[0m     \u001B[0mresult\u001B[0m\u001B[0;34m[\u001B[0m\u001B[0mauthor_uri\u001B[0m\u001B[0;34m.\u001B[0m\u001B[0mreplace\u001B[0m\u001B[0;34m(\u001B[0m\u001B[0;34m\" \"\u001B[0m\u001B[0;34m,\u001B[0m \u001B[0;34m\"\"\u001B[0m\u001B[0;34m)\u001B[0m\u001B[0;34m]\u001B[0m \u001B[0;34m=\u001B[0m \u001B[0;34m[\u001B[0m\u001B[0;34m(\u001B[0m\u001B[0mduo\u001B[0m\u001B[0;34m[\u001B[0m\u001B[0;34m'hasprop'\u001B[0m\u001B[0;34m]\u001B[0m\u001B[0;34m[\u001B[0m\u001B[0;34m'value'\u001B[0m\u001B[0;34m]\u001B[0m\u001B[0;34m,\u001B[0m \u001B[0mduo\u001B[0m\u001B[0;34m[\u001B[0m\u001B[0;34m'v'\u001B[0m\u001B[0;34m]\u001B[0m\u001B[0;34m[\u001B[0m\u001B[0;34m'value'\u001B[0m\u001B[0;34m]\u001B[0m\u001B[0;34m)\u001B[0m \u001B[0;32mfor\u001B[0m \u001B[0mduo\u001B[0m \u001B[0;32min\u001B[0m \u001B[0mresults_dbpedia_fr\u001B[0m\u001B[0;34m[\u001B[0m\u001B[0;34m'results'\u001B[0m\u001B[0;34m]\u001B[0m\u001B[0;34m[\u001B[0m\u001B[0;34m'bindings'\u001B[0m\u001B[0;34m]\u001B[0m\u001B[0;34m]\u001B[0m\u001B[0;34m\u001B[0m\u001B[0;34m\u001B[0m\u001B[0m\n\u001B[1;32m     19\u001B[0m \u001B[0;34m\u001B[0m\u001B[0m\n\u001B[0;32m---> 20\u001B[0;31m \u001B[0mprint\u001B[0m\u001B[0;34m(\u001B[0m\u001B[0;34m'Exemple de champs: '\u001B[0m\u001B[0;34m,\u001B[0m \u001B[0mresult\u001B[0m\u001B[0;34m[\u001B[0m\u001B[0mDBpedia_authors_uri\u001B[0m\u001B[0;34m[\u001B[0m\u001B[0;36m0\u001B[0m\u001B[0;34m]\u001B[0m\u001B[0;34m]\u001B[0m\u001B[0;34m[\u001B[0m\u001B[0;36m0\u001B[0m\u001B[0;34m:\u001B[0m\u001B[0;36m2\u001B[0m\u001B[0;34m]\u001B[0m\u001B[0;34m)\u001B[0m\u001B[0;34m\u001B[0m\u001B[0;34m\u001B[0m\u001B[0m\n\u001B[0m\u001B[1;32m     21\u001B[0m \u001B[0;34m\u001B[0m\u001B[0m\n",
      "\u001B[0;31mKeyError\u001B[0m: 'http://fr.dbpedia.org/resource/Renaud_Longchamps '"
     ]
    }
   ],
   "source": [
    "with open('../Data/DBpedia/ecrivains_dbpedia_fr.txt', 'r') as input_file:\n",
    "    DBpedia_authors_uri = []\n",
    "    for line in input_file:\n",
    "        DBpedia_authors_uri.append(line.split(';')[0])\n",
    "\n",
    "sparql = SPARQLWrapper(\"http://fr.dbpedia.org/sparql\")\n",
    "sparql.setReturnFormat(JSON)\n",
    "\n",
    "result = {}\n",
    "\n",
    "for author_uri in DBpedia_authors_uri:\n",
    "    time.sleep(1)\n",
    "    sparql.setQuery(\"\"\"\n",
    "    SELECT DISTINCT ?hasprop ?v\n",
    "    where {{ {0} ?hasprop ?v}}\n",
    "\"\"\".format(\"<\" + author_uri.replace(\" \", \"\") + \">\"))\n",
    "    results_dbpedia_fr = sparql.query().convert()\n",
    "    result[author_uri.replace(\" \", \"\")] = [(duo['hasprop']['value'], duo['v']['value']) for duo in results_dbpedia_fr['results']['bindings']]\n",
    "\n",
    "print('Exemple de champs: ', result[DBpedia_authors_uri[0]][0:2])"
   ],
   "metadata": {
    "collapsed": false,
    "pycharm": {
     "name": "#%%\n"
    }
   }
  },
  {
   "cell_type": "markdown",
   "source": [
    "## Tri et sauvegarde des champs"
   ],
   "metadata": {
    "collapsed": false,
    "pycharm": {
     "name": "#%% md\n"
    }
   }
  },
  {
   "cell_type": "code",
   "execution_count": null,
   "outputs": [],
   "source": [
    "prop_dict = {}\n",
    "prop_counter = {}\n",
    "for author_uri, properties in result.items():\n",
    "    for property in properties:\n",
    "        try:\n",
    "            prop_counter[property[0]] += 1\n",
    "        except:\n",
    "            prop_counter[property[0]] = 1\n",
    "\n",
    "for author_uri, properties in result.items():\n",
    "    for rep_prop in prop_counter:\n",
    "        counter = 0\n",
    "        for property in properties:\n",
    "            if property[0] == rep_prop:\n",
    "                counter += 1\n",
    "        try:\n",
    "            prop_dict[rep_prop].append(counter)\n",
    "        except:\n",
    "            prop_dict[rep_prop] = [counter]\n",
    "\n",
    "prop_resume = {}\n",
    "for rep_prop in prop_dict:\n",
    "    prop_resume[rep_prop] = {\n",
    "        'non_null_mean': mean([e for e in prop_dict[rep_prop] if e]),\n",
    "        'nb_non_null': sum([1 for e in prop_dict[rep_prop] if e]),\n",
    "        'sum': sum(prop_dict[rep_prop]),\n",
    "    }\n",
    "\n",
    "print('Exemple: ', json.dumps(sorted(prop_resume.items(), key=lambda item: item[1]['nb_non_null'], reverse=True)[0:5], indent=1))\n",
    "\n",
    "with open('../Data/DBpedia/list_properies_by_author.csv', 'w') as csvfile:\n",
    "        writer = csv.DictWriter(csvfile, fieldnames=['name', 'non_null_mean', 'nb_non_null', 'sum' ])\n",
    "        writer.writeheader()\n",
    "        for rep_prop_name, rep_prop_dict in prop_resume.items():\n",
    "            rep_prop_dict['name'] = rep_prop_name\n",
    "            writer.writerow(rep_prop_dict)"
   ],
   "metadata": {
    "collapsed": false,
    "pycharm": {
     "name": "#%%\n"
    }
   }
  }
 ],
 "metadata": {
  "kernelspec": {
   "display_name": "Python 3",
   "language": "python",
   "name": "python3"
  },
  "language_info": {
   "codemirror_mode": {
    "name": "ipython",
    "version": 3
   },
   "file_extension": ".py",
   "mimetype": "text/x-python",
   "name": "python",
   "nbconvert_exporter": "python",
   "pygments_lexer": "ipython3",
   "version": "3.7.1"
  }
 },
 "nbformat": 4,
 "nbformat_minor": 2
}