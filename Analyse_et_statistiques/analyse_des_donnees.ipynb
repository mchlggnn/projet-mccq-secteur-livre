{
 "cells": [
  {
   "cell_type": "markdown",
   "metadata": {},
   "source": [
    "# Analyse du traitement des données"
   ]
  },
  {
   "cell_type": "code",
   "execution_count": 1,
   "metadata": {
    "pycharm": {
     "is_executing": false,
     "name": "#%%\n"
    }
   },
   "outputs": [],
   "source": [
    "import re\n",
    "import rdflib\n",
    "import time\n",
    "import csv\n",
    "import json\n",
    "import Levenshtein\n",
    "import random\n",
    "import itertools"
   ]
  },
  {
   "cell_type": "markdown",
   "metadata": {},
   "source": [
    "Le but des deux fonctions suivantes est de nettoyer les chaines de caractères, de supprimer les caractères non-ascii\n",
    "ou de les remplacer par leurs equivalents"
   ]
  },
  {
   "cell_type": "code",
   "execution_count": 2,
   "metadata": {
    "pycharm": {
     "is_executing": false,
     "name": "#%%\n"
    }
   },
   "outputs": [],
   "source": [
    "def nettoyer_unicode(c):\n",
    "    liste_codes = {\n",
    "        'Ã\\xa0': 'à',\n",
    "        'Ã€': 'À',\n",
    "        'Ã¢': 'â',\n",
    "        'Ã‚': 'Â',\n",
    "        'Ã©': 'é',\n",
    "        'Ã\\x89': 'É',\n",
    "        'Ã\\xa8': 'è',\n",
    "        'Ã\\xaa': 'ê',\n",
    "        'Ã\\x8a': 'Ê',\n",
    "        'Ã«': 'ë',\n",
    "        'Ã®': 'î',\n",
    "        'Ã\\x8e': 'Î',\n",
    "        'Ã¯': 'ï',\n",
    "        'Ã´': 'ô',\n",
    "        'Ã\\x94': 'Ô',\n",
    "        'Ã¹': 'ù',\n",
    "        'Ã»': 'û',\n",
    "        'Å\\x93': 'œ',\n",
    "        'Â«': '«',\n",
    "        'Â»': '»',\n",
    "        'Ã§': 'ç',\n",
    "        'Ã\\x87': 'Ç',\n",
    "        'Âº': 'º',\n",
    "        'â\\x80\\x99': '’',\n",
    "        'â\\x80\\xa6': '…',\n",
    "    }\n",
    "\n",
    "    for code in liste_codes:\n",
    "        c = c.replace(code, liste_codes[code])\n",
    "\n",
    "    return c\n",
    "\n",
    "\n",
    "def nettoyer_accents(c):\n",
    "    \"\"\"\n",
    "    remplace les caractères et accents par leurs équivalents sans accents\n",
    "    :param c: str\n",
    "    :return: même str sans accents\n",
    "    \"\"\"\n",
    "    liste_codes = {\n",
    "        'ã': 'a',\n",
    "        'ã'.upper(): 'A',\n",
    "        'â': 'a',\n",
    "        'Â': 'A',\n",
    "        'à': 'a',\n",
    "        'À': 'A',\n",
    "        'ä': 'a',\n",
    "        'Ä': 'A',\n",
    "        'é': 'e',\n",
    "        'É': 'E',\n",
    "        'è': 'e',\n",
    "        'È': 'E',\n",
    "        'ê': 'e',\n",
    "        'Ê': 'E',\n",
    "        'ï': 'i',\n",
    "        'Ï': 'I',\n",
    "        'î': 'i',\n",
    "        'Î': 'I',\n",
    "        'ô': 'o',\n",
    "        'Ô': 'O',\n",
    "        'ö': 'o',\n",
    "        'Ö': 'O',\n",
    "        'ù': 'u',\n",
    "        'Ù': 'U',\n",
    "        'ü': 'u',\n",
    "        'Ü': 'U',\n",
    "        'û': 'u',\n",
    "        'Û': 'U',\n",
    "        'ÿ': 'y',\n",
    "        'Ÿ': 'y',\n",
    "        'ç': 'c',\n",
    "        'œ': 'oe',\n",
    "        '\\'': ' ',\n",
    "        '\"': '',\n",
    "    }\n",
    "\n",
    "    try:\n",
    "        for code in liste_codes:\n",
    "            c = c.replace(code, liste_codes[code])\n",
    "\n",
    "        return c\n",
    "\n",
    "    except:\n",
    "        return None"
   ]
  },
  {
   "cell_type": "markdown",
   "metadata": {},
   "source": [
    "Fonction qui retire toutes les informations à l'interieur des parenthèses.\n",
    "Nous devons utiliser une boucle car les parenthèses peuvent être imbriquées\n",
    "ex: titre_de_l_oeuvre ( nom_auteur (principale))"
   ]
  },
  {
   "cell_type": "code",
   "execution_count": 3,
   "metadata": {
    "pycharm": {
     "is_executing": false,
     "name": "#%%\n"
    }
   },
   "outputs": [],
   "source": [
    "def remove_text_between_parentheses(text):\n",
    "    n = 1  # run at least once\n",
    "    while n:\n",
    "        text, n = re.subn(r'\\([^()]*\\)', '', text)  # remove non-nested/flat balanced parts\n",
    "    return text"
   ]
  },
  {
   "cell_type": "markdown",
   "metadata": {},
   "source": [
    "- On retire les caractères non-ascii et accents\n",
    "- On retire les parenthèses et leurs contenus\n",
    "- On supprimes tout les caractères non-alpha-numériques, et les doubles espaces, sauf le caractère \"-\", \n",
    "nécessaire pour les noms composés\n",
    "- On passe la chaine de caractère en lettres minuscules"
   ]
  },
  {
   "cell_type": "code",
   "execution_count": 4,
   "metadata": {
    "pycharm": {
     "is_executing": false,
     "name": "#%%\n"
    }
   },
   "outputs": [],
   "source": [
    "def normalize(string):\n",
    "    \"\"\"\n",
    "    normalise une chaine de caractère pour faciliter leurs comparaisons\n",
    "    :param string: chaine de caractère à normaliser\n",
    "    :return: même chaine de caractère normalisée\n",
    "    \"\"\"\n",
    "\n",
    "    if isinstance(string, str) and string:\n",
    "        string = nettoyer_accents(nettoyer_unicode(string))\n",
    "        string = remove_text_between_parentheses(string)\n",
    "        string = ' '.join(re.sub(r'[^\\w\\s\\-]', ' ', string).split()).lower()\n",
    "        \n",
    "        return string\n",
    "    else:\n",
    "        return None"
   ]
  },
  {
   "cell_type": "markdown",
   "metadata": {},
   "source": [
    "On normalise la chaine de caractère et on supprimer les lettres seules\n",
    "ex: A. Nom_de_famille => Nom_de_famille"
   ]
  },
  {
   "cell_type": "code",
   "execution_count": 5,
   "metadata": {
    "pycharm": {
     "is_executing": false,
     "name": "#%%\n"
    }
   },
   "outputs": [],
   "source": [
    "def normalize_author(string):\n",
    "    \"\"\"\n",
    "    Processus de normalisation des auteurs,\n",
    "    permet de retirer les lettres isolées\n",
    "    :param string: chaine de caractère a traiter\n",
    "    :return: chaine de caractère traitée\n",
    "    \"\"\"\n",
    "    if isinstance(string, str) and string:\n",
    "        return re.sub(r'^\\w\\s|\\s\\w\\s|\\s\\w$', '', normalize(string))\n",
    "    else:\n",
    "        return None"
   ]
  },
  {
   "cell_type": "markdown",
   "metadata": {},
   "source": [
    "- On retire le texte entre parenthèse\n",
    "- on supprime les carctères autre que numérique et 'X'\n",
    "- Si l'isbn est un isbn 10, on le transforme en isbn 13 en ajoutant '978' au début\n",
    "- On supprime le dernier chiffre et on le remplace par X (chiffre de controle). Si un chiffre manque, on l'ajoute simplement"
   ]
  },
  {
   "cell_type": "code",
   "execution_count": 6,
   "metadata": {
    "pycharm": {
     "is_executing": false,
     "name": "#%%\n"
    }
   },
   "outputs": [],
   "source": [
    "def normalize_isbn(isbn):\n",
    "    \"\"\"\n",
    "    Retire tout les autres symboles que les chiffres\n",
    "    :param isbn: chaine de caractère\n",
    "    :return: chaine de caratère\n",
    "    \"\"\"\n",
    "    isbn = remove_text_between_parentheses(isbn)\n",
    "    isbn = re.sub(r'[^\\dX]', '', isbn)\n",
    "    if len(isbn) <= 10:\n",
    "        isbn = '978' + isbn\n",
    "    if len(isbn) == 13 or len(isbn) == 10:\n",
    "        isbn = isbn[:-1] + 'X'\n",
    "    elif len(isbn) == 12 or len(isbn) == 9:\n",
    "        isbn = isbn + 'X'\n",
    "    return isbn"
   ]
  },
  {
   "cell_type": "markdown",
   "metadata": {},
   "source": [
    "## Analyse du traitement des données ADP"
   ]
  },
  {
   "cell_type": "code",
   "execution_count": 7,
   "metadata": {
    "pycharm": {
     "is_executing": false,
     "name": "#%%\n"
    }
   },
   "outputs": [
    {
     "name": "stdout",
     "output_type": "stream",
     "text": [
      "ADP_loading_time:  17.803131580352783\n"
     ]
    }
   ],
   "source": [
    "start_loading_data_time = time.time()\n",
    "# Loading des données sauvegardées dans la mémoire ram\n",
    "g_book_ADP = rdflib.Graph()\n",
    "g_author_ADP = rdflib.Graph()\n",
    "ADP_book_graph = g_book_ADP.parse(\"../Graphes/grapheADPLivres.rdf\")\n",
    "ADP_author_graph = g_author_ADP.parse(\"../Graphes/grapheADPAuteurs.rdf\")\n",
    "\n",
    "ADP_books = []\n",
    "# Analyse des données ADP à partir des graphs\n",
    "# parcour des triplets du graph\n",
    "for subj, pred in g_book_ADP.subject_predicates(rdflib.URIRef(\"http://www.sogides.com/classe/Livre\")):\n",
    "    book_ADP = g_book_ADP.predicate_objects(subj)\n",
    "    book_ADP_resume = { 'id': subj.n3(), \"data_base\": \"ADP\",\n",
    "                        'title': '', 'author': [], 'isbn': [],\n",
    "                        'title_raw': '', 'author_raw': [], 'isbn_raw': []}\n",
    "\n",
    "    for info in book_ADP:\n",
    "        if info[0] == rdflib.URIRef(\"https://schema.org/name\"):\n",
    "            if not info[1].n3():\n",
    "                print(\"problème !!! infoADP: \", info)\n",
    "            book_ADP_resume['title'] = normalize(info[1])\n",
    "            book_ADP_resume['title_raw'] = info[1]\n",
    "        elif info[0] == rdflib.URIRef(\"https://schema.org/author\"):\n",
    "            author_ADP = g_author_ADP.predicate_objects(info[1])\n",
    "            for author_info in author_ADP:\n",
    "                if author_info[0] == rdflib.URIRef(\"https://schema.org/name\"):\n",
    "                    book_ADP_resume['author_raw'].append(author_info[1].n3())\n",
    "                    if author_info[1].n3().replace(\"\\\"\", \"\"):\n",
    "                        book_ADP_resume['author'].append(normalize_author(author_info[1].n3()))\n",
    "        elif info[0] == rdflib.URIRef(\"https://schema.org/isbn\"):\n",
    "            if isinstance(info[1].n3(), list):\n",
    "                print(\"stop\")\n",
    "            book_ADP_resume['isbn_raw'].append(info[1].n3())\n",
    "            book_ADP_resume['isbn'].append(normalize_isbn(info[1].n3()))\n",
    "    ADP_books.append(book_ADP_resume)\n",
    "\n",
    "ADP_loading_time = time.time()\n",
    "print(\"ADP_loading_time: \", ADP_loading_time - start_loading_data_time)"
   ]
  },
  {
   "cell_type": "markdown",
   "metadata": {},
   "source": [
    "### titre\n",
    "Pour le titre on normalise simplement:"
   ]
  },
  {
   "cell_type": "code",
   "execution_count": 8,
   "metadata": {
    "pycharm": {
     "is_executing": false,
     "name": "#%%\n"
    }
   },
   "outputs": [
    {
     "name": "stdout",
     "output_type": "stream",
     "text": [
      "titre intial: TOUR DE GUET (LA) T03  titre traité:  tour de guet t03\n"
     ]
    }
   ],
   "source": [
    "for exemple in ADP_books:\n",
    "    if \"(\" in exemple[\"title_raw\"]:\n",
    "        print(\"titre intial:\", exemple[\"title_raw\"], \" titre traité: \", exemple[\"title\"] )\n",
    "        break"
   ]
  },
  {
   "cell_type": "markdown",
   "metadata": {},
   "source": [
    "### auteur\n",
    "Pour les auteurs, on normalise en utilisant la fonction de normalisation. Il n'y a pas besoin de traiter plus loin,\n",
    "car la séparation des auteurs est déjà effectuée dans le graph. On retire aussi les caractères '\"' qui sont redondants"
   ]
  },
  {
   "cell_type": "code",
   "execution_count": 9,
   "metadata": {
    "pycharm": {
     "is_executing": false,
     "name": "#%%\n"
    }
   },
   "outputs": [
    {
     "name": "stdout",
     "output_type": "stream",
     "text": [
      "auteur(s) initial(s):  ['\"Laurens Van Den Muyzenberg\"', '\"Sa Sainteté Le Dalaï-Lama\"'] auteur(s) traité:  ['laurens van den muyzenberg', 'sa saintete le dalai-lama']\n"
     ]
    }
   ],
   "source": [
    "for exemple in ADP_books:\n",
    "    good_exemple = False\n",
    "    if len(exemple[\"author\"]) > 1:\n",
    "        for author in exemple[\"author\"]:\n",
    "            if '-' in author:\n",
    "                good_exemple = True\n",
    "    if good_exemple:            \n",
    "        print(\"auteur(s) initial(s): \", exemple[\"author_raw\"], \"auteur(s) traité: \", exemple[\"author\"])\n",
    "        break"
   ]
  },
  {
   "cell_type": "markdown",
   "metadata": {},
   "source": [
    "### isbn\n",
    "Pour ADP, on sait que l'isbn est unique et qu'il sont tous des isbn 13.\n",
    "En revanche certains manquent le chiffre de contrôle. On se contente de le normaliser"
   ]
  },
  {
   "cell_type": "code",
   "execution_count": 10,
   "metadata": {
    "pycharm": {
     "is_executing": false,
     "name": "#%%\n"
    }
   },
   "outputs": [
    {
     "name": "stdout",
     "output_type": "stream",
     "text": [
      "exemple d'isbn avec le chiffre de controle manquant: \n",
      "isbn initial(s):  ['\"629048046827\"'] isbn traité:  ['629048046827X']\n",
      "exemple d'isbn 13 normalisé: \n",
      "isbn initial(s):  ['\"9782760401310\"'] isbn traité:  ['978276040131X']\n"
     ]
    }
   ],
   "source": [
    "for exemple in ADP_books:\n",
    "    if len(exemple[\"isbn_raw\"][0].replace(\"\\\"\", \"\")) == 12:\n",
    "        print(\"exemple d'isbn avec le chiffre de controle manquant: \\nisbn initial(s): \", exemple[\"isbn_raw\"], \"isbn traité: \", exemple[\"isbn\"])\n",
    "        break\n",
    "for exemple in ADP_books:\n",
    "    if len(exemple[\"isbn_raw\"][0].replace(\"\\\"\", \"\")) == 13 and exemple[\"isbn_raw\"][0].replace(\"\\\"\", \"\")[-1] != 'X':\n",
    "        print(\"exemple d'isbn 13 normalisé: \\nisbn initial(s): \", exemple[\"isbn_raw\"], \"isbn traité: \", exemple[\"isbn\"])\n",
    "        break"
   ]
  },
  {
   "cell_type": "markdown",
   "metadata": {},
   "source": [
    "## Analyse du traitement des données Depot_legal"
   ]
  },
  {
   "cell_type": "code",
   "execution_count": 11,
   "metadata": {
    "pycharm": {
     "is_executing": false,
     "name": "#%%\n"
    }
   },
   "outputs": [
    {
     "name": "stdout",
     "output_type": "stream",
     "text": [
      "DL_loading_time:  73.84276819229126\n"
     ]
    }
   ],
   "source": [
    "start_loading_data_time = time.time()\n",
    "g_item_DL = rdflib.Graph()\n",
    "book_graph_DL = g_item_DL.parse(\"../Graphes/grapheDepotLegal.rdf\")\n",
    "\n",
    "DL_books = []\n",
    "\n",
    "for subj, pred in g_item_DL.subject_predicates(rdflib.URIRef(\"http://dbpedia.org/ontology/Book\")):\n",
    "    book_DL = g_item_DL.predicate_objects(subj)\n",
    "    book_DL_resume = { 'id': subj.n3(), \"data_base\": \"Depot_legal\",\n",
    "                        'title': '', 'author': [], 'isbn': [],\n",
    "                        'title_raw': '', 'author_raw': [], 'isbn_raw': []}\n",
    "    for info in book_DL:\n",
    "        if info[0] == rdflib.URIRef(\"https://schema.org/name\"):\n",
    "            if info[1].n3():\n",
    "                book_DL_resume['title'] = normalize(info[1])\n",
    "                book_DL_resume['title_raw'] = info[1]\n",
    "            else:\n",
    "                print(\"gros probleme DL: \", subj)\n",
    "        elif info[0] == rdflib.URIRef(\"https://schema.org/author\"):\n",
    "            familyName = None\n",
    "            givenName = None\n",
    "            familyName_raw = None\n",
    "            givenName_raw = None\n",
    "            author_ADP = g_item_DL.predicate_objects(info[1])\n",
    "            for author_info in author_ADP:\n",
    "                if author_info[0] == rdflib.URIRef(\"https://schema.org/givenName\"):\n",
    "                    givenName = normalize_author(author_info[1].n3().replace(\"\\\"\", \"\")) if author_info[1].n3() else None\n",
    "                    givenName_raw = author_info[1].n3()\n",
    "                elif author_info[0] == rdflib.URIRef(\"https://schema.org/familyName\"):\n",
    "                    familyName = normalize_author(author_info[1].n3().replace(\"\\\"\", \"\")) if author_info[1].n3() else None\n",
    "                    familyName_raw = author_info[1].n3()\n",
    "            if familyName and givenName:\n",
    "                book_DL_resume['author'].append(\" \".join([givenName, familyName]))\n",
    "                book_DL_resume['author_raw'].append(\" \".join([givenName_raw, familyName_raw]))\n",
    "            elif familyName:\n",
    "                book_DL_resume['author'].append(familyName)\n",
    "                book_DL_resume['author_raw'].append(familyName)\n",
    "            elif givenName:\n",
    "                book_DL_resume['author'].append(givenName)\n",
    "                book_DL_resume['author_raw'].append(givenName)\n",
    "\n",
    "        elif info[0] == rdflib.URIRef(\"https://schema.org/isbn\"):\n",
    "            book_DL_resume['isbn'].append(normalize_isbn(info[1].n3()))\n",
    "            book_DL_resume['isbn_raw'].append(info[1].n3())\n",
    "\n",
    "    DL_books.append(book_DL_resume)\n",
    "    \n",
    "DL_loading_time = time.time()\n",
    "print(\"DL_loading_time: \", DL_loading_time - start_loading_data_time)"
   ]
  },
  {
   "cell_type": "markdown",
   "metadata": {},
   "source": [
    "### titre\n",
    "Pour le titre on normalise simplement\n",
    "On peut remaquer quelques problèmes, par exemples nous n'avons pas le titre \n",
    "pour certains livres"
   ]
  },
  {
   "cell_type": "code",
   "execution_count": 12,
   "metadata": {
    "pycharm": {
     "is_executing": false,
     "name": "#%%\n"
    }
   },
   "outputs": [
    {
     "name": "stdout",
     "output_type": "stream",
     "text": [
      "exemple simple: titre intial: La chambre noire (incubo)  titre traité:  la chambre noire\n",
      "titre non existant: titre intial: (K)  titre traité:  \n"
     ]
    }
   ],
   "source": [
    "for exemple in DL_books:\n",
    "    if \"(\" in exemple[\"title_raw\"] and exemple[\"title\"]:\n",
    "        print(\"exemple simple: titre intial:\", exemple[\"title_raw\"], \" titre traité: \", exemple[\"title\"] )\n",
    "        break\n",
    "for exemple in DL_books:\n",
    "    if not exemple[\"title\"]:\n",
    "        print(\"titre non existant: titre intial:\", exemple[\"title_raw\"], \" titre traité: \", exemple[\"title\"] )\n",
    "        break"
   ]
  },
  {
   "cell_type": "markdown",
   "metadata": {},
   "source": [
    "### auteur\n",
    "Pour les auteurs, on normalise en utilisant la fonction de normalisation. Il n'y a pas besoin de traiter plus loin,\n",
    "car la séparation des auteurs est déjà effectuée dans le graph. On retire aussi les caractères '\"' qui sont redondants\n",
    "En revanche, Dépot légal fait la différence entre le nom de famille et le prénom, ce que ne font pas les autres bases\n",
    "de donnée. On va donc simplement concaténer les chaines de caractères avec un espace entre les noms et prénoms"
   ]
  },
  {
   "cell_type": "code",
   "execution_count": 13,
   "metadata": {
    "pycharm": {
     "is_executing": false,
     "name": "#%%\n"
    }
   },
   "outputs": [
    {
     "name": "stdout",
     "output_type": "stream",
     "text": [
      "auteur(s) initial(s):  ['\"Anik\" \"Lessard\"', '\"Marie-Claude\" \"Martel\"'] auteur(s) traité:  ['anik lessard', 'marie-claude martel']\n"
     ]
    }
   ],
   "source": [
    "for exemple in DL_books:\n",
    "    good_exemple = False\n",
    "    if len(exemple[\"author\"]) > 1:\n",
    "        for author in exemple[\"author\"]:\n",
    "            if '-' in author:\n",
    "                good_exemple = True\n",
    "    if good_exemple:            \n",
    "        print(\"auteur(s) initial(s): \", exemple[\"author_raw\"], \"auteur(s) traité: \", exemple[\"author\"])\n",
    "        break"
   ]
  },
  {
   "cell_type": "markdown",
   "metadata": {},
   "source": [
    "### isbn\n",
    "Pour Dépot legal, on sait que l'isbn peut être multiple et de forme variée,\n",
    " mais la séparation s'est faite dans la création du graph. On se contente de normaliser\n",
    " On peut remarque que certains livres ont une liste conséquente d'isbn"
   ]
  },
  {
   "cell_type": "code",
   "execution_count": 14,
   "metadata": {
    "pycharm": {
     "is_executing": false,
     "name": "#%%\n"
    }
   },
   "outputs": [
    {
     "name": "stdout",
     "output_type": "stream",
     "text": [
      "exemple d'isbn 13 normalisé: \n",
      "isbn initial(s):  ['\"9782896514168\"'] isbn traité:  ['978289651416X']\n",
      "exemple d'isbn 10 normalisé: \n",
      "isbn initial(s):  ['\"2896380639\"'] isbn traité:  ['978289638063X']\n",
      "exemple de livre avec plus de 60 isbn \n",
      "isbn initial(s):  ['\"2895433917\"', '\"2895432287\"', '\"289543543X\"', '\"9782895435440\"', '\"2895433097\"', '\"2895432295\"', ... isbn traité:  ['97828954...\n",
      "nb d'isbn:  65\n"
     ]
    }
   ],
   "source": [
    "for exemple in DL_books:\n",
    "    if len(exemple[\"isbn_raw\"][0].replace(\"\\\"\", \"\")) == 13 and exemple[\"isbn_raw\"][0].replace(\"\\\"\", \"\")[-1] != 'X':\n",
    "        print(\"exemple d'isbn 13 normalisé: \\nisbn initial(s): \", exemple[\"isbn_raw\"], \"isbn traité: \", exemple[\"isbn\"])\n",
    "        break\n",
    "for exemple in DL_books:\n",
    "    if len(exemple[\"isbn_raw\"][0].replace(\"\\\"\", \"\")) == 10 and exemple[\"isbn_raw\"][0].replace(\"\\\"\", \"\")[-1] != 'X':\n",
    "        print(\"exemple d'isbn 10 normalisé: \\nisbn initial(s): \", exemple[\"isbn_raw\"], \"isbn traité: \", exemple[\"isbn\"])\n",
    "        break\n",
    "for exemple in DL_books:\n",
    "    if len(exemple[\"isbn_raw\"]) > 60:\n",
    "        print(\"exemple de livre avec plus de 60 isbn \\nisbn initial(s): \", str(exemple[\"isbn_raw\"])[0:100] + \"...\", \"isbn traité: \", str(exemple[\"isbn\"])[0:10] + \"...\")\n",
    "        print('nb d\\'isbn: ', len(exemple[\"isbn_raw\"]))\n",
    "        break"
   ]
  },
  {
   "cell_type": "markdown",
   "metadata": {},
   "source": [
    "## Analyse du traitement des données ILE"
   ]
  },
  {
   "cell_type": "code",
   "execution_count": 15,
   "metadata": {
    "pycharm": {
     "is_executing": false,
     "name": "#%%\n"
    }
   },
   "outputs": [
    {
     "name": "stdout",
     "output_type": "stream",
     "text": [
      "ILE_loading time:  80.57568097114563\n"
     ]
    }
   ],
   "source": [
    "start_loading_data_time = time.time()\n",
    "g_item_ILE = rdflib.Graph()\n",
    "item_graph_ILE = g_item_ILE.parse(\"../Graphes/grapheILE.rdf\")\n",
    "book_graph_DL = g_item_DL.parse(\"../Graphes/grapheDepotLegal.rdf\")\n",
    "\n",
    "ILE_books = []\n",
    "\n",
    "for subj, pred in g_item_ILE.subject_predicates(rdflib.URIRef(\"http://recif.litterature.org/ontologie/classe/oeuvre\")):\n",
    "    # count_book += 1\n",
    "    ILE_book = g_item_ILE.predicate_objects(subj)\n",
    "    book_ILE_resume = { 'id': subj.n3(), \"data_base\": \"ILE\",\n",
    "                        'title': '', 'author': [], 'isbn': [],\n",
    "                        'title_raw': '', 'author_raw': [], 'isbn_raw': []}\n",
    "    for info in ILE_book:\n",
    "        if info[0] == rdflib.URIRef(\"https://schema.org/name\"):\n",
    "            if info[1].n3():\n",
    "                book_ILE_resume['title'] = normalize(info[1])\n",
    "                book_ILE_resume['title_raw'] = info[1]\n",
    "            else:\n",
    "                print(\"gros probleme ILE: \", subj)\n",
    "        elif info[0] == rdflib.URIRef(\"https://schema.org/author\"):\n",
    "            author_ILE = g_item_ILE.predicate_objects(info[1])\n",
    "            for author_info in author_ILE:\n",
    "                if author_info[0] == rdflib.URIRef(\"https://schema.org/name\"):\n",
    "                    book_ILE_resume['author_raw'].append(author_info[1].n3())\n",
    "                    if author_info[1].n3().replace(\"\\\"\", \"\"):\n",
    "                        book_ILE_resume['author'].append(normalize_author(author_info[1].n3()))\n",
    "        elif info[0] == rdflib.URIRef(\"https://schema.org/isbn\"):\n",
    "            book_ILE_resume['isbn_raw'].append(info[1].n3())\n",
    "            if normalize_isbn(info[1].n3()).replace(\"\\\"\", \"\")\\\n",
    "                and len(normalize_isbn(info[1].n3()).replace(\"\\\"\", \"\")) >= 8:\n",
    "                for isbn in re.split(\"[|;,]\", info[1].n3().replace(\"\\\"\", \"\")):\n",
    "                    book_ILE_resume['isbn'].append(normalize_isbn(isbn))\n",
    "\n",
    "    ILE_books.append(book_ILE_resume)\n",
    "    \n",
    "ILE_loading_time = time.time()\n",
    "print(\"ILE_loading time: \", ILE_loading_time - start_loading_data_time)"
   ]
  },
  {
   "cell_type": "markdown",
   "metadata": {},
   "source": [
    "### titre\n",
    "Pour le titre on normalise simplement\n",
    "On peut remaquer quelques problèmes, par exemples nous n'avons pas le titre \n",
    "pour certains livres"
   ]
  },
  {
   "cell_type": "code",
   "execution_count": 16,
   "metadata": {
    "pycharm": {
     "is_executing": false,
     "name": "#%%\n"
    }
   },
   "outputs": [
    {
     "name": "stdout",
     "output_type": "stream",
     "text": [
      "exemple simple: titre intial: Les confitures de coings et autres textes (1972, 1971)  titre traité:  les confitures de coings et autres textes\n",
      "titre non existant: titre intial: (Parenthèses)  titre traité:  \n"
     ]
    }
   ],
   "source": [
    "for exemple in ILE_books:\n",
    "    if \"(\" in exemple[\"title_raw\"] and exemple[\"title\"]:\n",
    "        print(\"exemple simple: titre intial:\", exemple[\"title_raw\"], \" titre traité: \", exemple[\"title\"] )\n",
    "        break\n",
    "for exemple in ILE_books:\n",
    "    if not exemple[\"title\"]:\n",
    "        print(\"titre non existant: titre intial:\", exemple[\"title_raw\"], \" titre traité: \", exemple[\"title\"] )\n",
    "        break"
   ]
  },
  {
   "cell_type": "markdown",
   "metadata": {},
   "source": [
    "### auteur\n",
    "Pour les auteurs, on normalise en utilisant la fonction de normalisation. Il n'y a pas besoin de traiter plus loin,\n",
    "car la séparation des auteurs est déjà effectuée dans le graph. On retire aussi les caractères '\"' qui sont redondants"
   ]
  },
  {
   "cell_type": "code",
   "execution_count": 17,
   "metadata": {
    "pycharm": {
     "is_executing": false,
     "name": "#%%\n"
    }
   },
   "outputs": [
    {
     "name": "stdout",
     "output_type": "stream",
     "text": [
      "auteur(s) initial(s):  ['\"Bernier, Jovette-Alice\"'] auteur(s) traité:  ['bernier jovette-alice']\n"
     ]
    }
   ],
   "source": [
    "for exemple in ILE_books:\n",
    "    good_exemple = False\n",
    "    for author in exemple[\"author\"]:\n",
    "        if '-' in author:\n",
    "            good_exemple = True\n",
    "    if good_exemple:            \n",
    "        print(\"auteur(s) initial(s): \", exemple[\"author_raw\"], \"auteur(s) traité: \", exemple[\"author\"])\n",
    "        break"
   ]
  },
  {
   "cell_type": "markdown",
   "metadata": {},
   "source": [
    "### isbn\n",
    "Pour ILE, on sait que l'isbn peut être multiple et de forme variée \n",
    "(séparé par des caractères: \"-\", et suivit de parenthèses), une première division s'est faite dans le graph\n",
    "mais cela demande une deuxième passe, notament pour les séparateurs \"|\" et \";\". On normalise par la suite.\n",
    "On peut remarque que certains livres ont une liste conséquente d'isbn"
   ]
  },
  {
   "cell_type": "code",
   "execution_count": 18,
   "metadata": {
    "pycharm": {
     "is_executing": false,
     "name": "#%%\n"
    }
   },
   "outputs": [
    {
     "name": "stdout",
     "output_type": "stream",
     "text": [
      "exemple d'isbn 13 normalisé: \n",
      "isbn initial(s):  ['\"9782764436387\"'] isbn traité:  ['978276443638X']\n",
      "exemple d'isbn 10 normalisé: \n",
      "isbn initial(s):  ['\"2-922109-89-5\"'] isbn traité:  ['978292210989X']\n",
      "exemple d'isbn séparable par '|':  ['\"978-2-922327-41-0 (br.)|2-922327-41-8\"']... isbn traité:  ['97829223...\n",
      "nb d'isbn:  1\n",
      "exemple de livre avec plus de 10 isbn \n",
      "isbn initial(s):  ['\"9782896951949 (cycle 1, livre 1) ; 9782896951956 (cycle 1, livre 2) ; 9782896952489 (cycle 1, liv... isbn traité:  ['97828969...\n",
      "nb d'isbn:  14\n"
     ]
    }
   ],
   "source": [
    "for exemple in ILE_books:\n",
    "    if len(exemple[\"isbn_raw\"][0].replace(\"\\\"\", \"\").replace(\"-\", \"\")) == 13 and exemple[\"isbn_raw\"][0].replace(\"\\\"\", \"\")[-1] != 'X':\n",
    "        print(\"exemple d'isbn 13 normalisé: \\nisbn initial(s): \", exemple[\"isbn_raw\"], \"isbn traité: \", exemple[\"isbn\"])\n",
    "        break\n",
    "for exemple in ILE_books:\n",
    "    if len(exemple[\"isbn_raw\"][0].replace(\"\\\"\", \"\").replace(\"-\", \"\")) == 10 and exemple[\"isbn_raw\"][0].replace(\"\\\"\", \"\")[-1] != 'X':\n",
    "        print(\"exemple d'isbn 10 normalisé: \\nisbn initial(s): \", exemple[\"isbn_raw\"], \"isbn traité: \", exemple[\"isbn\"])\n",
    "        break\n",
    "for exemple in ILE_books:\n",
    "    good_example = False\n",
    "    for isbn in exemple[\"isbn_raw\"]:\n",
    "        if \"|\" in isbn:\n",
    "            good_example = True\n",
    "    if good_example:\n",
    "        print(\"exemple d'isbn séparable par '|': \", str(exemple[\"isbn_raw\"])[0:100] + \"...\", \"isbn traité: \", str(exemple[\"isbn\"])[0:10] + \"...\")\n",
    "        print('nb d\\'isbn: ', len(exemple[\"isbn_raw\"]))\n",
    "        break\n",
    "for exemple in ILE_books:\n",
    "    if len(exemple[\"isbn\"]) > 10:\n",
    "        print(\"exemple de livre avec plus de 10 isbn \\nisbn initial(s): \", str(exemple[\"isbn_raw\"])[0:100] + \"...\", \"isbn traité: \", str(exemple[\"isbn\"])[0:10] + \"...\")\n",
    "        print('nb d\\'isbn: ', len(exemple[\"isbn\"]))\n",
    "        break"
   ]
  },
  {
   "cell_type": "markdown",
   "metadata": {},
   "source": [
    "## Analyse du traitement des données d'Hurtubise"
   ]
  },
  {
   "cell_type": "code",
   "execution_count": 19,
   "metadata": {
    "pycharm": {
     "is_executing": false,
     "name": "#%%\n"
    }
   },
   "outputs": [],
   "source": [
    "books_Hurtubise_file = open(\"./Hurtubise/Exportation-Hurtubise.csv\", \"r\", encoding='ISO-8859-1')\n",
    "csv_reader = csv.DictReader(books_Hurtubise_file, delimiter=',', fieldnames=[\n",
    "    \"Editeur\", \"ISBN Papier\", \"ISBN PDF\", \"ISBN epub\", \"Titre\", \"Sous - titre\", \"Titre de la serie\",\n",
    "    \"Contributeurs\", \"Contributeur(premier)\", \"Langue\", \"Langue Origine\", \"Resume\", \"Nombre de pages\",\n",
    "    \"Date de parution\", \"Annee de parution\", \"Sujet  THEMA principal\", \"Sujet THEMA\",\n",
    "    \"Quantificateur Georaphique\", \"Quantificateur de langue\", \"Quantificateur Historique\", \"Niveau soclaire FR\",\n",
    "    \"Niveau scolaire QC\", \"Cycle scolaire FR\", \"Niveau de lecture\", \"Echele CECR\", \"Quantificateur d'interet\",\n",
    "    \"Quantificateur d'age\", \"Quantificateur de style\", \"Classification Editoriale\", \"Mots cles\"\n",
    "\n",
    "])\n",
    "Hurtubise_books = []\n",
    "first_line = next(csv_reader)\n",
    "for book in csv_reader:\n",
    "    book_Hurtubise_resume = { 'id':None, \"data_base\": \"Hurtubise\",\n",
    "                        'title': '', 'author': [], 'isbn': [],\n",
    "                        'title_raw': '', 'author_raw': [], 'isbn_raw': []}\n",
    "\n",
    "    for key, value in book.items():\n",
    "        if value:\n",
    "            if key == 'Titre':\n",
    "                book_Hurtubise_resume['title'] = normalize(value)\n",
    "                book_Hurtubise_resume['title_raw'] = value\n",
    "\n",
    "            elif key == 'Contributeurs':\n",
    "                book_Hurtubise_resume['author_raw'].append(value.split(','))\n",
    "                for author in value.split(','):\n",
    "                    book_Hurtubise_resume['author'].append(normalize_author(author))\n",
    "\n",
    "            elif key == 'ISBN Papier' or key == 'ISBN PDF' or key == 'ISBN epub':\n",
    "                if key == 'ISBN Papier':\n",
    "                    book_Hurtubise_resume['id'] = value\n",
    "\n",
    "                book_Hurtubise_resume['isbn'].append(normalize_isbn(value))\n",
    "                book_Hurtubise_resume['isbn_raw'].append(value)\n",
    "\n",
    "    Hurtubise_books.append(book_Hurtubise_resume)\n",
    "books_Hurtubise_file.close()"
   ]
  },
  {
   "cell_type": "markdown",
   "metadata": {},
   "source": [
    "### titre\n",
    "Pour le titre on normalise simplement\n",
    "On peut remaquer quelques problèmes, par exemple nous n'avons pas le titre \n",
    "pour certains livres"
   ]
  },
  {
   "cell_type": "code",
   "execution_count": 20,
   "metadata": {
    "pycharm": {
     "is_executing": false,
     "name": "#%%\n"
    }
   },
   "outputs": [
    {
     "name": "stdout",
     "output_type": "stream",
     "text": [
      "exemple simple: titre intial: Selfies et sushis (coffret)  titre traité:  selfies et sushis\n",
      "titre non existant: titre intial:   titre traité:  \n"
     ]
    }
   ],
   "source": [
    "for exemple in Hurtubise_books:\n",
    "    if \"(\" in exemple[\"title_raw\"] and exemple[\"title\"]:\n",
    "        print(\"exemple simple: titre intial:\", exemple[\"title_raw\"], \" titre traité: \", exemple[\"title\"] )\n",
    "        break\n",
    "for exemple in Hurtubise_books:\n",
    "    if not exemple[\"title\"]:\n",
    "        print(\"titre non existant: titre intial:\", exemple[\"title_raw\"], \" titre traité: \", exemple[\"title\"] )\n",
    "        break"
   ]
  },
  {
   "cell_type": "markdown",
   "metadata": {},
   "source": [
    "### auteur\n",
    "Pour les auteurs, on normalise en utilisant la fonction de normalisation. Il n'y a pas besoin de traiter plus loin,\n",
    "car la séparation des auteurs est déjà effectuée dans le graph. On peut remarquer que beaucoup d'information\n",
    "sur le status des auteurs est contenue dans les parenthèses"
   ]
  },
  {
   "cell_type": "code",
   "execution_count": 21,
   "metadata": {
    "pycharm": {
     "is_executing": false,
     "name": "#%%\n"
    }
   },
   "outputs": [
    {
     "name": "stdout",
     "output_type": "stream",
     "text": [
      "auteur(s) initial(s):  [['David Skuy (De (auteur))', ' Michel Rudel-Tessier (Traduit par)']] auteur(s) traité:  ['david skuy', 'michel rudel-tessier']\n"
     ]
    }
   ],
   "source": [
    "for exemple in Hurtubise_books:\n",
    "    good_exemple = False\n",
    "    if len(exemple[\"author\"]) > 1:\n",
    "        for author in exemple[\"author\"]:\n",
    "            if '-' in author:\n",
    "                good_exemple = True\n",
    "    if good_exemple:            \n",
    "        print(\"auteur(s) initial(s): \", exemple[\"author_raw\"], \"auteur(s) traité: \", exemple[\"author\"])\n",
    "        break"
   ]
  },
  {
   "cell_type": "markdown",
   "metadata": {},
   "source": [
    "### isbn\n",
    "Pour Hurtubise, on sait que l'isbn peut être multiple, mais toujours de taille 13. On normalise donc simplement.\n",
    "On peut remarque que certains livres ont plusieurs isbns, mais pas plus de 3"
   ]
  },
  {
   "cell_type": "code",
   "execution_count": 22,
   "metadata": {
    "pycharm": {
     "is_executing": false,
     "name": "#%%\n"
    }
   },
   "outputs": [
    {
     "name": "stdout",
     "output_type": "stream",
     "text": [
      "exemple d'isbn 13 normalisé: \n",
      "isbn initial(s):  ['9782897815189', '9782896473304', '9782896476503'] isbn traité:  ['978289781518X', '978289647330X', '978289647650X']\n",
      "exemple de livre avec plus de 60 isbn \n",
      "isbn initial(s):  ['9782897815189', '9782896473304', '9782896476503']... isbn traité:  ['97828978...\n",
      "nb d'isbn:  3\n"
     ]
    }
   ],
   "source": [
    "for exemple in Hurtubise_books:\n",
    "    if len(exemple[\"isbn_raw\"][0].replace(\"\\\"\", \"\")) == 13 and exemple[\"isbn_raw\"][0].replace(\"\\\"\", \"\")[-1] != 'X':\n",
    "        print(\"exemple d'isbn 13 normalisé: \\nisbn initial(s): \", exemple[\"isbn_raw\"], \"isbn traité: \", exemple[\"isbn\"])\n",
    "        break\n",
    "for exemple in Hurtubise_books:\n",
    "    if len(exemple[\"isbn_raw\"]) > 2:\n",
    "        print(\"exemple de livre avec plus de 60 isbn \\nisbn initial(s): \", str(exemple[\"isbn_raw\"])[0:100] + \"...\", \"isbn traité: \", str(exemple[\"isbn\"])[0:10] + \"...\")\n",
    "        print('nb d\\'isbn: ', len(exemple[\"isbn_raw\"]))\n",
    "        break"
   ]
  },
  {
   "cell_type": "markdown",
   "metadata": {},
   "source": [
    "## Analyse du traitement des données de Babelio"
   ]
  },
  {
   "cell_type": "code",
   "execution_count": 23,
   "metadata": {
    "pycharm": {
     "is_executing": false,
     "name": "#%%\n"
    }
   },
   "outputs": [],
   "source": [
    "babelioJsonBooks = open(\"./Babelio/babelio_livres.json\", \"r\")\n",
    "Babelio_books = []\n",
    "\n",
    "for book in json.load(babelioJsonBooks):\n",
    "    book_Babelio_resume = { 'id':None, \"data_base\": \"Babelio\",\n",
    "                        'title': '', 'author': [], 'isbn': [],\n",
    "                        'title_raw': '', 'author_raw': [], 'isbn_raw': []}\n",
    "\n",
    "    for key, value in book.items():\n",
    "        if value:\n",
    "            if key == 'titre':\n",
    "                book_Babelio_resume['title'] = normalize(value)\n",
    "                book_Babelio_resume['title_raw'] = value\n",
    "\n",
    "            elif key == 'auteur':\n",
    "                book_Babelio_resume['author_raw'].append(value)\n",
    "                for author in value:\n",
    "                    book_Babelio_resume['author'].append(normalize_author(author))\n",
    "\n",
    "            elif key == 'isbn':\n",
    "                book_Babelio_resume['isbn'].append(normalize_isbn(value))\n",
    "                book_Babelio_resume['isbn_raw'].append(value)\n",
    "\n",
    "            elif key == 'url':\n",
    "                book_Babelio_resume['id'] = value\n",
    "\n",
    "    Babelio_books.append(book_Babelio_resume)\n",
    "babelioJsonBooks.close()"
   ]
  },
  {
   "cell_type": "markdown",
   "metadata": {},
   "source": [
    "### titre\n",
    "Pour le titre on normalise simplement"
   ]
  },
  {
   "cell_type": "code",
   "execution_count": 24,
   "metadata": {
    "pycharm": {
     "is_executing": false,
     "name": "#%%\n"
    }
   },
   "outputs": [
    {
     "name": "stdout",
     "output_type": "stream",
     "text": [
      "exemple simple: titre intial:  Les fleurs sauvages du Québec (tome 2)   titre traité:  les fleurs sauvages du quebec\n"
     ]
    }
   ],
   "source": [
    "for exemple in Babelio_books:\n",
    "    if \"(\" in exemple[\"title_raw\"] and exemple[\"title\"]:\n",
    "        print(\"exemple simple: titre intial:\", exemple[\"title_raw\"], \" titre traité: \", exemple[\"title\"] )\n",
    "        break"
   ]
  },
  {
   "cell_type": "markdown",
   "metadata": {},
   "source": [
    "### auteur\n",
    "Pour les auteurs, on normalise en utilisant la fonction de normalisation. Il n'y a pas besoin de traiter plus loin.\n",
    "On peut remarque que certains livres comportent une quantité conséquente d'auteur"
   ]
  },
  {
   "cell_type": "code",
   "execution_count": 25,
   "metadata": {
    "pycharm": {
     "is_executing": false,
     "name": "#%%\n"
    }
   },
   "outputs": [
    {
     "name": "stdout",
     "output_type": "stream",
     "text": [
      "auteur(s) initial(s):  [['Maxime  Robin', 'Jean-Michel  Girouard', 'Erika  Soucis', 'Jocelyn  Pelletier', \"Noémie  O'Farrell\", 'Sophie  Grenier-Héroux', 'Lorraine  Côté']] auteur(s) traité:  ['maxime robin', 'jean-michel girouard', 'erika soucis', 'jocelyn pelletier', 'noemiefarrell', 'sophie grenier-heroux', 'lorraine cote']\n"
     ]
    }
   ],
   "source": [
    "for exemple in Babelio_books:\n",
    "    good_exemple = False\n",
    "    if len(exemple[\"author\"]) > 3:\n",
    "        for author in exemple[\"author\"]:\n",
    "            if '-' in author:\n",
    "                good_exemple = True\n",
    "    if good_exemple:            \n",
    "        print(\"auteur(s) initial(s): \", exemple[\"author_raw\"], \"auteur(s) traité: \", exemple[\"author\"])\n",
    "        break"
   ]
  },
  {
   "cell_type": "markdown",
   "metadata": {},
   "source": [
    "### isbn\n",
    "Pour Babelio, on sait que l'isbn est unique et de la forme isbn 13 (car EAN)"
   ]
  },
  {
   "cell_type": "code",
   "execution_count": 26,
   "metadata": {
    "pycharm": {
     "is_executing": false,
     "name": "#%%\n"
    }
   },
   "outputs": [
    {
     "name": "stdout",
     "output_type": "stream",
     "text": [
      "exemple d'isbn 13 normalisé: \n",
      "isbn initial(s):  ['9782892618617'] isbn traité:  ['978289261861X']\n"
     ]
    }
   ],
   "source": [
    "for exemple in Babelio_books:\n",
    "    if len(exemple[\"isbn_raw\"][0].replace(\"\\\"\", \"\")) == 13 and exemple[\"isbn_raw\"][0].replace(\"\\\"\", \"\")[-1] != 'X':\n",
    "        print(\"exemple d'isbn 13 normalisé: \\nisbn initial(s): \", exemple[\"isbn_raw\"], \"isbn traité: \", exemple[\"isbn\"])\n",
    "        break"
   ]
  },
  {
   "cell_type": "markdown",
   "metadata": {},
   "source": [
    "# Comparaison des livres"
   ]
  },
  {
   "cell_type": "code",
   "execution_count": null,
   "outputs": [],
   "source": [
    "all_books = ADP_books + ILE_books + Hurtubise_books + Babelio_books + DL_books\n",
    "random.shuffle(all_books)\n",
    "couple_books = itertools.combinations(all_books, 2)"
   ],
   "metadata": {
    "collapsed": false,
    "pycharm": {
     "name": "#%%\n"
    }
   }
  },
  {
   "cell_type": "markdown",
   "metadata": {},
   "source": [
    "## isbn"
   ]
  },
  {
   "cell_type": "code",
   "execution_count": 28,
   "metadata": {
    "pycharm": {
     "is_executing": false,
     "name": "#%%\n"
    }
   },
   "outputs": [
    {
     "name": "stdout",
     "output_type": "stream",
     "text": [
      "exemple de concordance d'isbn => isbn1:  ['\"2-89021-652-7 (br.)\"']  isbn2:  ['\"2890216527\"']\n",
      "exemple de manque d'information d'isbn => isbn1:  ['\"2-89021-652-7 (br.)\"']  isbn2:  ['\"\"']\n",
      "exemple d'isbn différents => isbn1:  ['\"2-89021-652-7 (br.)\"']  isbn2:  ['\"9782897740870\"', '\"9782897740887\"']\n"
     ]
    }
   ],
   "source": [
    "def compare_book_by_isbn(book1, book2):\n",
    "    isbn_boolean = True\n",
    "    isbn_in_common = False\n",
    "    if book1[\"isbn\"] and book2[\"isbn\"]:\n",
    "        isbn_boolean = False\n",
    "        isbn_in_common = False\n",
    "        for isbn1 in book1[\"isbn\"]:\n",
    "            for isbn2 in book2[\"isbn\"]:\n",
    "                if compare_isbn(isbn1, isbn2):\n",
    "                    isbn_boolean = True\n",
    "                    isbn_in_common = True\n",
    "    return isbn_boolean, isbn_in_common\n",
    "\n",
    "def compare_isbn(isbn1, isbn2):\n",
    "    \"\"\"\n",
    "    verifie si deux isbns sont identiques à partir de leur chaine de caractère\n",
    "    cette fonction comporte la logique de la comparaison, les données sont normalement déjà formatées\n",
    "    :param isbn1: 1er isbn\n",
    "    :param isbn2: 2eme isbn\n",
    "    :return: boolean\n",
    "    \"\"\"\n",
    "    return isbn1 == isbn2\n",
    "\n",
    "\n",
    "for book1, book2 in couple_books:\n",
    "    isbn_boolean, isbn_in_common = compare_book_by_isbn(book1, book2)\n",
    "    if isbn_in_common: \n",
    "        print(\"exemple de concordance d'isbn => isbn1: \", book1[\"isbn_raw\"], \" isbn2: \", book2[\"isbn_raw\"])\n",
    "        break\n",
    "for book1, book2 in couple_books:\n",
    "    isbn_boolean, isbn_in_common = compare_book_by_isbn(book1, book2)\n",
    "    if isbn_boolean:\n",
    "        print(\"exemple de manque d'information d'isbn => isbn1: \", book1[\"isbn_raw\"], \" isbn2: \", book2[\"isbn_raw\"])\n",
    "        break\n",
    "for book1, book2 in couple_books:\n",
    "    isbn_boolean, isbn_in_common = compare_book_by_isbn(book1, book2)\n",
    "    if not isbn_boolean:\n",
    "        print(\"exemple d'isbn différents => isbn1: \", book1[\"isbn_raw\"], \" isbn2: \", book2[\"isbn_raw\"])\n",
    "        break"
   ]
  },
  {
   "cell_type": "markdown",
   "metadata": {},
   "source": [
    "## auteur"
   ]
  },
  {
   "cell_type": "code",
   "execution_count": 29,
   "metadata": {
    "pycharm": {
     "is_executing": false,
     "name": "#%%\n"
    }
   },
   "outputs": [
    {
     "name": "stdout",
     "output_type": "stream",
     "text": [
      "exemple de concordance d'auteurs => isbn1:  ['9782897237363', '9782897237370', '9782897237387']  isbn2:  ['\"9782897237363\"']\n",
      "exemple de manque d'information des auteurs => isbn1:  ['9782897237363', '9782897237370', '9782897237387']  isbn2:  ['\" Rel\"']\n",
      "exemple d'auteurs différents => isbn1:  ['9782897237363', '9782897237370', '9782897237387']  isbn2:  ['\"9782896861484\"']\n"
     ]
    }
   ],
   "source": [
    "def compare_book_by_author(book1, book2):\n",
    "    author_boolean = True\n",
    "    author_in_common = False\n",
    "    if book1['author'] and book2['author']:\n",
    "        author_boolean = False\n",
    "        author_in_common = False\n",
    "        for author1 in book1['author']:\n",
    "            for author2 in book2['author']:\n",
    "                if compare_authors(author1, author2):\n",
    "                    author_in_common = True\n",
    "                    author_boolean = True\n",
    "    return author_boolean, author_in_common\n",
    "\n",
    "def compare_authors(author1, author2):\n",
    "    \"\"\"\n",
    "    verifie si deux auteurs sont identiques à partir de leur nom\n",
    "    cette fonction comporte la logique de la comparaison, les données sont normalement déjà formatées\n",
    "    :param author1: nom du premier auteur\n",
    "    :param author2: nom du second auteur\n",
    "    :return: boolean\n",
    "    \"\"\"\n",
    "    if not author1 or not author2:\n",
    "        return False\n",
    "    author1 = author1.split(\" \")\n",
    "    author2 = author2.split(\" \")\n",
    "    return True if list(set(author1) & set(author2)) else False\n",
    "\n",
    "for book1, book2 in couple_books:\n",
    "    author_boolean, author_in_common = compare_book_by_isbn(book1, book2)\n",
    "    if author_in_common: \n",
    "        print(\"exemple de concordance d'auteurs => isbn1: \", book1[\"isbn_raw\"], \" isbn2: \", book2[\"isbn_raw\"])\n",
    "        break\n",
    "for book1, book2 in couple_books:\n",
    "    author_boolean, author_in_common = compare_book_by_isbn(book1, book2)\n",
    "    if author_boolean:\n",
    "        print(\"exemple de manque d'information des auteurs => isbn1: \", book1[\"isbn_raw\"], \" isbn2: \", book2[\"isbn_raw\"])\n",
    "        break\n",
    "for book1, book2 in couple_books:\n",
    "    author_boolean, author_in_common = compare_book_by_isbn(book1, book2)\n",
    "    if not author_boolean:\n",
    "        print(\"exemple d'auteurs différents => isbn1: \", book1[\"isbn_raw\"], \" isbn2: \", book2[\"isbn_raw\"])\n",
    "        break"
   ]
  },
  {
   "cell_type": "markdown",
   "metadata": {},
   "source": [
    "## titres"
   ]
  },
  {
   "cell_type": "code",
   "execution_count": 30,
   "metadata": {
    "pycharm": {
     "is_executing": false,
     "name": "#%%\n"
    }
   },
   "outputs": [
    {
     "name": "stdout",
     "output_type": "stream",
     "text": [
      "exemple de concordance de titre => isbn1:  ['9782897237363', '9782897237370', '9782897237387']  isbn2:  []\n",
      "exemple de manque d'information des titres => isbn1:  ['9782897237363', '9782897237370', '9782897237387']  isbn2:  ['\"\"']\n",
      "exemple de titres différents => isbn1:  ['9782897237363', '9782897237370', '9782897237387']  isbn2:  ['\"9782897237387\"', '\"9782897237370\"']\n"
     ]
    }
   ],
   "source": [
    "def compare_book_by_title(book1, book2):\n",
    "    dist_titre = Levenshtein.distance(book1['title'], book2['title'])\n",
    "    dist_bool = dist_titre < max(1, min(len(book1['title']), len(book2['title'])) / 4)\n",
    "    dist_bool_neg = dist_titre >= min(len(book1['title']), len(book2['title'])) / 2\n",
    "    return dist_bool, dist_bool_neg\n",
    "\n",
    "\n",
    "for book1, book2 in couple_books:\n",
    "    dist_bool, dist_bool_neg = compare_book_by_isbn(book1, book2)\n",
    "    if dist_bool: \n",
    "        print(\"exemple de concordance de titre => isbn1: \", book1[\"isbn_raw\"], \" isbn2: \", book2[\"isbn_raw\"])\n",
    "        break\n",
    "for book1, book2 in couple_books:\n",
    "    dist_bool, dist_bool_neg = compare_book_by_isbn(book1, book2)\n",
    "    if not dist_bool_neg and dist_bool:\n",
    "        print(\"exemple de manque d'information des titres => isbn1: \", book1[\"isbn_raw\"], \" isbn2: \", book2[\"isbn_raw\"])\n",
    "        break\n",
    "for book1, book2 in couple_books:\n",
    "    dist_bool, dist_bool_neg = compare_book_by_isbn(book1, book2)\n",
    "    if dist_bool_neg:\n",
    "        print(\"exemple de titres différents => isbn1: \", book1[\"isbn_raw\"], \" isbn2: \", book2[\"isbn_raw\"])\n",
    "        break"
   ]
  },
  {
   "cell_type": "markdown",
   "metadata": {},
   "source": [
    "# Analyse de la décision\n",
    "## Comparaison des livres sur plusieurs critères"
   ]
  },
  {
   "cell_type": "code",
   "execution_count": 31,
   "metadata": {
    "pycharm": {
     "is_executing": false,
     "name": "#%%\n"
    }
   },
   "outputs": [
    {
     "name": "stdout",
     "output_type": "stream",
     "text": [
      "isbn egaux et titre similaire titre1:  Zazou zazou  titre2:  zazou  isbn:  ['\"978-2-89595-322-7\"']  isbn:  ['\"9782895953227\"']  auteur1  ['\"Perreault, Valérie\"']  auteur2  ['\"Valérie\" \"Perreault\"']\n",
      "isbn egaux mais titre legerement differents titre1:  la tour de guet  titre2:  tour de guet t01  isbn:  ['\"9782896513932\"', '\"9782896952571\"']  isbn:  ['\"9782896513932\"']  auteur1  ['\"Ève\" \"Patenaude\"']  auteur2  ['\"Ã\\x88VE PATENAUDE\"']\n",
      "isbn egaux mais titre très differents titre1:  l epidemie  titre2:  l epidemie histoires de deserteurs  isbn:  ['\"2760400980\"']  isbn:  ['\"9782760400986\"']  auteur1  ['\"Major, André\"']  auteur2  ['\"André Major\"']\n",
      "isbn different mais titres equivalents titre1:  traverses  titre2:  traversees  isbn:  ['\"978-2-89634-077-4\"']  isbn:  ['\"9782921956321\"']  auteur1  ['\"Atalla, Nora\"']  auteur2  []\n",
      "isbn different mais titre et auteurs egaux titre1:  la naissance d une heroine  titre2:  la naissance d une etoile  isbn:  ['\"9782981478603\"']  isbn:  ['\"9782981630100\"']  auteur1  ['\"Marie-Eve\" \"Provencher\"']  auteur2  ['\"Marie-Eve\" \"Morin\"']\n",
      "titre equivalents mais auteurs differents titre1:  la naissance d une heroine  titre2:  la naissance d une race  isbn:  ['\"9782981478603\"']  isbn:  ['\"\"']  auteur1  ['\"Marie-Eve\" \"Provencher\"']  auteur2  ['\"Groulx, Lionel\"']\n",
      "titre equivalent mais pas d'infos en plus titre1:  les demi-civilises  titre2:  les demi-civilises  isbn:  ['\"\"']  isbn:  ['\"9782894063989\"']  auteur1  ['\"Harvey, Jean-Charles\"']  auteur2  []\n",
      "titre equivalent et auteurs egaux titre1:  les demi-civilises  titre2:  les demi-civilises  isbn:  ['\"\"']  isbn:  ['\"2892950872\"']  auteur1  ['\"Harvey, Jean-Charles\"']  auteur2  ['\"Jean-Charles\" \"Harvey\"']\n"
     ]
    }
   ],
   "source": [
    "def compare_books(book1, book2):\n",
    "    \"\"\"\n",
    "    verifie si deux livres sont identiques à partir de leur informations\n",
    "    cette fonction comporte la logique de la comparaison, les données sont normalement déjà formatées\n",
    "    :param book1: (title: str, author: [str,...], isbns: [str,...])\n",
    "    :param book2: (title: str, author: [str,...], isbns: [str,...])\n",
    "    :return: boolean\n",
    "    \"\"\"\n",
    "    \n",
    "    if not book1['title'] or not book2['title']:\n",
    "        return {\"conclusion\": False,\n",
    "            \"isbn egaux et titre similaire\": False,\n",
    "            \"isbn egaux mais titre legerement differents\": False,\n",
    "            \"isbn egaux mais titre très differents\": False,\n",
    "            \"isbn different mais titres equivalents\": False,\n",
    "            \"isbn different mais titre et auteurs egaux\": False,\n",
    "            \"titre equivalents mais auteurs differents\": False,\n",
    "            \"titre egaux mais pas d'infos en plus\": False,\n",
    "            \"titre et auteurs egaux\": False}\n",
    "    \n",
    "    isbn_boolean, isbn_in_common = compare_book_by_isbn(book1, book2)\n",
    "\n",
    "    author_boolean ,author_in_common = compare_book_by_author(book1, book2)\n",
    "\n",
    "    dist_bool ,dist_bool_neg = compare_book_by_title(book1, book2)\n",
    "\n",
    "    return {\"conclusion\": (dist_bool and author_in_common) or isbn_in_common,\n",
    "            \"isbn egaux et titre similaire\": isbn_in_common and dist_bool,\n",
    "            \"isbn egaux mais titre legerement differents\": isbn_in_common and not dist_bool and not dist_bool_neg,\n",
    "            \"isbn egaux mais titre très differents\": isbn_in_common and dist_bool_neg,\n",
    "            \"isbn different mais titres equivalents\": not isbn_boolean and dist_bool and author_boolean and not author_in_common,\n",
    "            \"isbn different mais titre et auteurs egaux\": not isbn_boolean and dist_bool and author_in_common,\n",
    "            \"titre equivalents mais auteurs differents\": isbn_boolean and not isbn_in_common and dist_bool and not author_boolean,\n",
    "            \"titre egaux mais pas d'infos en plus\": isbn_boolean and not isbn_in_common and dist_bool and author_boolean and not author_in_common,\n",
    "            \"titre et auteurs egaux\": isbn_boolean and not isbn_in_common and dist_bool and author_in_common}\n",
    "\n",
    "for book1, book2 in couple_books:\n",
    "    results = compare_books(book1, book2)\n",
    "    if results[\"isbn egaux et titre similaire\"] == True:\n",
    "        print(\"isbn egaux et titre similaire titre1: \", book1['title_raw'], book1['title'], ' titre2: ', book2['title'], ' isbn: ',\n",
    "            book1['isbn_raw'], ' isbn: ', book2['isbn_raw'], \" auteur1 \", book1[\"author_raw\"], \" auteur2 \", book2[\"author_raw\"])\n",
    "        break\n",
    "for book1, book2 in couple_books:\n",
    "    results = compare_books(book1, book2)\n",
    "    if results[\"isbn egaux mais titre legerement differents\"] == True:\n",
    "        print(\"isbn egaux mais titre legerement differents titre1: \", book1['title'], ' titre2: ', book2['title'], ' isbn: ',\n",
    "            book1['isbn_raw'], ' isbn: ', book2['isbn_raw'], \" auteur1 \", book1[\"author_raw\"], \" auteur2 \", book2[\"author_raw\"])\n",
    "        break\n",
    "for book1, book2 in couple_books:\n",
    "    results = compare_books(book1, book2)\n",
    "    if results[\"isbn egaux mais titre très differents\"] == True:\n",
    "        print(\"isbn egaux mais titre très differents titre1: \", book1['title'], ' titre2: ', book2['title'], ' isbn: ',\n",
    "            book1['isbn_raw'], ' isbn: ', book2['isbn_raw'], \" auteur1 \", book1[\"author_raw\"], \" auteur2 \", book2[\"author_raw\"])\n",
    "        break\n",
    "for book1, book2 in couple_books:\n",
    "    results = compare_books(book1, book2)\n",
    "    if results[\"isbn different mais titres equivalents\"] == True:\n",
    "        print(\"isbn different mais titres equivalents titre1: \", book1['title'], ' titre2: ', book2['title'], ' isbn: ',\n",
    "            book1['isbn_raw'], ' isbn: ', book2['isbn_raw'], \" auteur1 \", book1[\"author_raw\"], \" auteur2 \", book2[\"author_raw\"])\n",
    "        break\n",
    "for book1, book2 in couple_books:\n",
    "    results = compare_books(book1, book2)\n",
    "    if results[\"isbn different mais titre et auteurs egaux\"] == True:\n",
    "        print(\"isbn different mais titre et auteurs egaux titre1: \", book1['title'], ' titre2: ', book2['title'], ' isbn: ',\n",
    "            book1['isbn_raw'], ' isbn: ', book2['isbn_raw'], \" auteur1 \", book1[\"author_raw\"], \" auteur2 \", book2[\"author_raw\"])\n",
    "        break\n",
    "for book1, book2 in couple_books:\n",
    "    results = compare_books(book1, book2)\n",
    "    if results[\"titre equivalents mais auteurs differents\"] == True:\n",
    "        print(\"titre equivalents mais auteurs differents titre1: \", book1['title'], ' titre2: ', book2['title'], ' isbn: ',\n",
    "            book1['isbn_raw'], ' isbn: ', book2['isbn_raw'], \" auteur1 \", book1[\"author_raw\"], \" auteur2 \", book2[\"author_raw\"])\n",
    "        break\n",
    "for book1, book2 in couple_books:\n",
    "    results = compare_books(book1, book2)\n",
    "    if results[\"titre egaux mais pas d'infos en plus\"] == True:\n",
    "        print(\"titre equivalent mais pas d'infos en plus titre1: \", book1['title'], ' titre2: ', book2['title'], ' isbn: ',\n",
    "            book1['isbn_raw'], ' isbn: ', book2['isbn_raw'], \" auteur1 \", book1[\"author_raw\"], \" auteur2 \", book2[\"author_raw\"])\n",
    "        break\n",
    "for book1, book2 in couple_books:\n",
    "    results = compare_books(book1, book2)\n",
    "    if results[\"titre et auteurs egaux\"] == True:\n",
    "        print(\"titre equivalent et auteurs egaux titre1: \", book1['title'], ' titre2: ', book2['title'], ' isbn: ',\n",
    "            book1['isbn_raw'], ' isbn: ', book2['isbn_raw'], \" auteur1 \", book1[\"author_raw\"], \" auteur2 \", book2[\"author_raw\"])\n",
    "        break"
   ]
  },
  {
   "cell_type": "markdown",
   "metadata": {},
   "source": [
    "## Comparaison basée sur le titre"
   ]
  },
  {
   "cell_type": "code",
   "execution_count": 32,
   "metadata": {
    "pycharm": {
     "is_executing": false,
     "name": "#%%\n"
    }
   },
   "outputs": [
    {
     "name": "stdout",
     "output_type": "stream",
     "text": [
      "maximum titre equivalent pour /2 titre1:  les demi-civilises  titre2:  les eminences grises  isbn:  ['\"\"']  isbn:  ['9782894288870']  auteur1  ['\"Harvey, Jean-Charles\"']  auteur2  [['Yves ThÃ©orÃªt (De (auteur))', ' AndrÃ©-A. Lafrance (De (auteur))']]\n",
      "maximum titre equivalent pour /3 titre1:  le defi de l amour  titre2:  le masque de l amour  isbn:  ['\"2921493330\"']  isbn:  ['\"2922414140\"']  auteur1  ['\"Diane\" \"Gagnon\"']  auteur2  ['\"François A.\" \"Gouin\"']\n",
      "maximum titre equivalent pour /4 titre1:  soho  titre2:  solo  isbn:  ['\"2890055507\"']  isbn:  ['\"0-88910-449-2\"']  auteur1  ['\"François\" \"Piazza\"']  auteur2  ['\"Tremblay, Michel\"']\n",
      "maximum titre equivalent pour /5 titre1:  garfield - nº 67  titre2:  garfield - na 8  isbn:  ['\"9782897510251\"']  isbn:  ['\"9782895432272\"']  auteur1  ['\"Jim Davis\"']  auteur2  ['\"Jim Davis\"']\n",
      "maximum titre equivalent pour /6 titre1:  retour  titre2:  retours  isbn:  ['\"\"']  isbn:  ['\"\"']  auteur1  ['\"Rioux, Hélène\"']  auteur2  ['\"Trottier, Pierre\"']\n",
      "maximum titre equivalent pour /7 titre1:  mensonges sur le plateau-mont-royal  titre2:  mensonges sur le plateau mont-royal t 2  isbn:  ['\"9782897232818\"']  isbn:  ['\"9782897233549\"']  auteur1  []  auteur2  []\n",
      "maximum titre equivalent pour /8 titre1:  chroniques sauva teshkan  titre2:  chroniques sauvages teshkan  isbn:  ['\"9782923621043\"']  isbn:  ['\"978-2-923621-04-3\"']  auteur1  ['\"François Lapierre\"']  auteur2  ['\"Lapierre, François\"']\n",
      "maximum titre equivalent pour /9 titre1:  princesses  titre2:  princesse  isbn:  ['\"9782760904187\"']  isbn:  ['\"9782896602100\"', '\"9782896601776\"', '\"9782896602124\"', '\"9782896602094\"', '\"9782896602063\"', '\"9782896602087\"', '\"9782896602131\"', '\"9782896602049\"', '\"9782896602148\"', '\"9782896602070\"', '\"9782896602117\"', '\"9782896602032\"', '\"9782896602056\"']  auteur1  ['\"Catherine\" \"Léger\"']  auteur2  []\n",
      "maximum titre equivalent pour /10 titre1:  noire poesie tome 21  titre2:  noire poesie tome 17  isbn:  ['\"9781365586422\"']  isbn:  ['\"9781365487415\"']  auteur1  []  auteur2  []\n"
     ]
    }
   ],
   "source": [
    "for book1, book2 in couple_books:\n",
    "    if book1[\"title\"] and book2[\"title\"]:\n",
    "        dist_bool = Levenshtein.distance(book1['title'], book2['title']) == min(len(book1['title']), len(book2['title'])) / 2\n",
    "        if dist_bool:\n",
    "            print(\"maximum titre equivalent pour /2 titre1: \", book1['title'], ' titre2: ', book2['title'], ' isbn: ',\n",
    "                book1['isbn_raw'], ' isbn: ', book2['isbn_raw'], \" auteur1 \", book1[\"author_raw\"], \" auteur2 \", book2[\"author_raw\"])\n",
    "            break\n",
    "for book1, book2 in couple_books:\n",
    "    if book1[\"title\"] and book2[\"title\"]:\n",
    "        dist_bool = Levenshtein.distance(book1['title'], book2['title']) == min(len(book1['title']), len(book2['title'])) / 3\n",
    "        if dist_bool:\n",
    "            print(\"maximum titre equivalent pour /3 titre1: \", book1['title'], ' titre2: ', book2['title'], ' isbn: ',\n",
    "                book1['isbn_raw'], ' isbn: ', book2['isbn_raw'], \" auteur1 \", book1[\"author_raw\"], \" auteur2 \", book2[\"author_raw\"])\n",
    "            break\n",
    "for book1, book2 in couple_books:\n",
    "    if book1[\"title\"] and book2[\"title\"]:\n",
    "        dist_bool = Levenshtein.distance(book1['title'], book2['title']) == min(len(book1['title']), len(book2['title'])) / 4\n",
    "        if dist_bool:\n",
    "            print(\"maximum titre equivalent pour /4 titre1: \", book1['title'], ' titre2: ', book2['title'], ' isbn: ',\n",
    "                book1['isbn_raw'], ' isbn: ', book2['isbn_raw'], \" auteur1 \", book1[\"author_raw\"], \" auteur2 \", book2[\"author_raw\"])\n",
    "            break\n",
    "for book1, book2 in couple_books:\n",
    "    if book1[\"title\"] and book2[\"title\"]:\n",
    "        dist_bool = Levenshtein.distance(book1['title'], book2['title']) == min(len(book1['title']), len(book2['title'])) / 5\n",
    "        if dist_bool:\n",
    "            print(\"maximum titre equivalent pour /5 titre1: \", book1['title'], ' titre2: ', book2['title'], ' isbn: ',\n",
    "                book1['isbn_raw'], ' isbn: ', book2['isbn_raw'], \" auteur1 \", book1[\"author_raw\"], \" auteur2 \", book2[\"author_raw\"])\n",
    "            break\n",
    "for book1, book2 in couple_books:\n",
    "    if book1[\"title\"] and book2[\"title\"]:\n",
    "        dist_bool = Levenshtein.distance(book1['title'], book2['title']) == min(len(book1['title']), len(book2['title'])) / 6\n",
    "        if dist_bool:\n",
    "            print(\"maximum titre equivalent pour /6 titre1: \", book1['title'], ' titre2: ', book2['title'], ' isbn: ',\n",
    "                book1['isbn_raw'], ' isbn: ', book2['isbn_raw'], \" auteur1 \", book1[\"author_raw\"], \" auteur2 \", book2[\"author_raw\"])\n",
    "            break\n",
    "for book1, book2 in couple_books:\n",
    "    if book1[\"title\"] and book2[\"title\"]:\n",
    "        dist_bool = Levenshtein.distance(book1['title'], book2['title']) == min(len(book1['title']), len(book2['title'])) / 7\n",
    "        if dist_bool:\n",
    "            print(\"maximum titre equivalent pour /7 titre1: \", book1['title'], ' titre2: ', book2['title'], ' isbn: ',\n",
    "                book1['isbn_raw'], ' isbn: ', book2['isbn_raw'], \" auteur1 \", book1[\"author_raw\"], \" auteur2 \", book2[\"author_raw\"])\n",
    "            break       \n",
    "for book1, book2 in couple_books:\n",
    "    if book1[\"title\"] and book2[\"title\"]:\n",
    "        dist_bool = Levenshtein.distance(book1['title'], book2['title']) == min(len(book1['title']), len(book2['title'])) / 8\n",
    "        if dist_bool:\n",
    "            print(\"maximum titre equivalent pour /8 titre1: \", book1['title'], ' titre2: ', book2['title'], ' isbn: ',\n",
    "                book1['isbn_raw'], ' isbn: ', book2['isbn_raw'], \" auteur1 \", book1[\"author_raw\"], \" auteur2 \", book2[\"author_raw\"])\n",
    "            break\n",
    "for book1, book2 in couple_books:\n",
    "    if book1[\"title\"] and book2[\"title\"]:\n",
    "        dist_bool = Levenshtein.distance(book1['title'], book2['title']) == min(len(book1['title']), len(book2['title'])) / 9\n",
    "        if dist_bool:\n",
    "            print(\"maximum titre equivalent pour /9 titre1: \", book1['title'], ' titre2: ', book2['title'], ' isbn: ',\n",
    "                book1['isbn_raw'], ' isbn: ', book2['isbn_raw'], \" auteur1 \", book1[\"author_raw\"], \" auteur2 \", book2[\"author_raw\"])\n",
    "            break\n",
    "for book1, book2 in couple_books:\n",
    "    if book1[\"title\"] and book2[\"title\"]:\n",
    "        dist_bool = Levenshtein.distance(book1['title'], book2['title']) == min(len(book1['title']), len(book2['title'])) / 10\n",
    "        if dist_bool:\n",
    "            print(\"maximum titre equivalent pour /10 titre1: \", book1['title'], ' titre2: ', book2['title'], ' isbn: ',\n",
    "                book1['isbn_raw'], ' isbn: ', book2['isbn_raw'], \" auteur1 \", book1[\"author_raw\"], \" auteur2 \", book2[\"author_raw\"])\n",
    "            break"
   ]
  }
 ],
 "metadata": {
  "kernelspec": {
   "display_name": "Python 3",
   "language": "python",
   "name": "python3"
  },
  "language_info": {
   "codemirror_mode": {
    "name": "ipython",
    "version": 3
   },
   "file_extension": ".py",
   "mimetype": "text/x-python",
   "name": "python",
   "nbconvert_exporter": "python",
   "pygments_lexer": "ipython3",
   "version": "3.7.5"
  }
 },
 "nbformat": 4,
 "nbformat_minor": 1
}