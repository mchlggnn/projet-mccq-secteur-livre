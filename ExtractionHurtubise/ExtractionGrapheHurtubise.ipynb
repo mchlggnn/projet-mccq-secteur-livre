{
 "cells": [
  {
   "cell_type": "markdown",
   "metadata": {},
   "source": [
    "# Extraction du graphe pour les données de Hurtubise"
   ]
  },
  {
   "cell_type": "markdown",
   "metadata": {},
   "source": [
    "## Récupération des données"
   ]
  },
  {
   "cell_type": "code",
   "execution_count": 36,
   "metadata": {},
   "outputs": [],
   "source": [
    "class ISBN:\n",
    "    def __init__(self,papier = \"\", pdf = \"\", epub = \"\"):\n",
    "        self.papier = papier\n",
    "        self.pdf = pdf\n",
    "        self.epub = epub\n",
    "    \n",
    "\n",
    "class Livre:\n",
    "    def __init__(self):\n",
    "        self.editeur = \"\"\n",
    "        self.isbn = None\n",
    "        self.titre = \"\"\n",
    "        self.sous_titre = \"\"\n",
    "        self.titre_serie = \"\"\n",
    "        self.contributeurs = \"\"\n",
    "        self.auteur = []\n",
    "        self.langue = \"\"\n",
    "        self.langue_origine = \"\"\n",
    "        self.resume = \"\"\n",
    "        self.nombre_pages = \"\"\n",
    "        self.annee_parution = \"\"\n",
    "        self.thema_principal = \"\"\n",
    "        self.thema_autre = \"\"\n",
    "        self.quant_geo = \"\"\n",
    "        self.quant_langue = \"\"\n",
    "        self.quant_hist = \"\"\n",
    "        self.niveau_scolaire = \"\"\n",
    "        self.niveau_lecture = \"\"\n",
    "        self.echelle_CECR = \"\"\n",
    "        self.quant_interet = \"\"\n",
    "        self.quant_age = \"\"\n",
    "        self.quant_style = \"\"\n",
    "        self.classification_editoriale = \"\"\n",
    "        self.mots_cles = []\n",
    "        \n",
    "        "
   ]
  },
  {
   "cell_type": "code",
   "execution_count": 48,
   "metadata": {},
   "outputs": [],
   "source": [
    "f = open('../Data/Hurtubise/Exportation-Hurtubise-Nettoye.txt')\n",
    "lignes = f.readlines()\n",
    "\n",
    "livres = []\n",
    "\n",
    "for ligne in lignes:\n",
    "    items = ligne.split('<>')\n",
    "    livre = Livre()\n",
    "    livre.editeur = items[0]\n",
    "    \n",
    "    # Il y a trois numéros ISBN, dans cet ordre:  papier, pdf et epub\n",
    "    livre.isbn = ISBN(items[1],items[2],items[3])\n",
    "    livre.titre = items[4]\n",
    "    livre.sous_titre = items[5]\n",
    "    livre.titre_serie = items[6]\n",
    "    livre.contributeurs = items[7]\n",
    "    livre.auteur = [nom.strip() for nom in items[8].split(', ')]\n",
    "    livre.langue = items[9]\n",
    "    livre.langue_origine = items[10]\n",
    "    livre.resume = items[11]\n",
    "    if len(items) > 12:\n",
    "        livre.nombre_pages = items[12]\n",
    "        # on ne prend pas la date de parution (info trop précise) qui se trouve à la position items[13]\n",
    "        livre.annee_parution = items[14]\n",
    "        livre.thema_principal = items[15]\n",
    "        livre.thema_autre = items[16]\n",
    "        livre.quant_geo = items[17]\n",
    "        livre.quant_langue = items[18]\n",
    "        livre.quant_hist = items[19]\n",
    "        # on ne prend pas les niveaux et cycle scolaire de la France (en positions 20 et 22)\n",
    "        livre.niveau_scolaire = items[21]\n",
    "        livre.niveau_lecture = items[23]\n",
    "        livre.echelle_CECR = items[24]\n",
    "        livre.quant_interet = items[25]\n",
    "        livre.quant_age = items[26]\n",
    "        livre.quant_style = items[27]\n",
    "        livre.classification_editoriale = items[28]\n",
    "        livre.mots_cles = [mot.strip() for mot in items[29].strip().split(', ') if mot.strip() != '']\n",
    "    livres.append(livre)\n",
    "   "
   ]
  },
  {
   "cell_type": "code",
   "execution_count": 49,
   "metadata": {},
   "outputs": [
    {
     "name": "stdout",
     "output_type": "stream",
     "text": [
      "1313 livres au total\n"
     ]
    }
   ],
   "source": [
    "print(len(livres), 'livres au total')"
   ]
  },
  {
   "cell_type": "code",
   "execution_count": 50,
   "metadata": {},
   "outputs": [],
   "source": [
    "# statistiques  sur les mots clés\n",
    "\n",
    "mots_cles = {}\n",
    "\n",
    "for l in livres:\n",
    "    if l.mots_cles:\n",
    "        for mot in l.mots_cles:\n",
    "            if mot in mots_cles:\n",
    "                mots_cles[mot] += 1\n",
    "            else:\n",
    "                mots_cles[mot] = 1\n",
    "            \n",
    "liste_mots_cles = sorted([(nombre, mot) for (mot, nombre) in mots_cles.items()], reverse = True)\n",
    "\n",
    "# for mot in liste_mots_cles[:100]:\n",
    "#      print(mot)\n"
   ]
  },
  {
   "cell_type": "code",
   "execution_count": 52,
   "metadata": {},
   "outputs": [
    {
     "name": "stdout",
     "output_type": "stream",
     "text": [
      "(117, 'FV - Roman historique')\n",
      "(59, 'YFC - Fiction jeunesse : romans d’action et d’aventures')\n",
      "(35, 'DNL - Essais littéraires')\n",
      "(26, 'FBA - Littérature moderne et contemporaine')\n",
      "(24, 'YFCF - Fiction jeunesse : romans policiers et à suspense')\n",
      "(22, 'YBCS - Livres d’histoires illustrés')\n",
      "(20, 'YFN - Fiction jeunesse : histoires familiales et de la vie de tous les jours')\n",
      "(18, 'YFT - Fiction jeunesse : romans historiques')\n",
      "(15, 'YFCB - Fiction jeunesse : thrillers')\n",
      "(15, 'CJBG - Apprentissage des langues : grammaire, vocabulaire et prononciation')\n",
      "(13, 'JNT - Compétences et techniques éducatives')\n",
      "(13, 'FYB - Nouvelles')\n",
      "(12, 'FS - Roman abordant la vie familiale')\n",
      "(10, 'VFXB - Grossesse, naissance et soins du bébé : conseils et questions')\n",
      "(9, 'YNT - Documentaires jeunesse : sciences et technologie')\n",
      "(9, 'YFM - Fiction jeunesse : romans sentimentaux, d’amour et histoires de relation')\n",
      "(9, 'YFH - Fiction jeunesse : fantasy')\n",
      "(7, 'YFA - Fiction jeunesse : les classiques')\n",
      "(7, 'DNBL - Biographie : littérature')\n",
      "(7, 'ATFG - Guides et critiques de film')\n",
      "(6, 'FT - Sagas familiales')\n",
      "(5, 'NHTB - Histoire sociale et culturelle')\n",
      "(5, 'JNU - Enseignement de sujets spécifiques')\n",
      "(5, 'DNBL1 - Autobiographie : littérature')\n",
      "(4, 'YFD - Fiction jeunesse : histoires d’horreur et de fantômes, histoires d’épouvante')\n",
      "(4, 'FFP - Enquête policière')\n",
      "(4, 'FC - Biographie romancée')\n",
      "(4, 'DNT - Anthologies : généralités')\n",
      "(4, 'CBG - Usages et guides grammaticaux')\n",
      "(4, 'ATFA - Histoire, théorie et critique cinématographique')\n",
      "(4, 'AM - Architecture')\n",
      "(3, 'YXN - Jeunesse : questions personnelles et de société : racisme et multiculturalisme')\n",
      "(3, 'YNNC - Documentaires jeunesse : écosystèmes')\n",
      "(3, 'YNMC - Documentaires jeunesse : pays, cultures et identité nationale')\n",
      "(3, 'YFX - Fiction jeunesse : biographie romancée')\n",
      "(3, 'YFS - Fiction jeunesse : histoires d’école')\n",
      "(3, 'YFP - Fiction jeunesse : histoires de nature et d’animaux')\n",
      "(3, 'YFHR - Fiction jeunesse (adolescents) : fantasy sentimentale')\n",
      "(3, 'YFCW - Fiction jeunesse : romans de guerre')\n",
      "(3, 'SFC - Baseball')\n",
      "(3, 'KJMP - Gestion des projets')\n",
      "(3, 'JNDH - Éducation : examens et évaluations')\n",
      "(3, 'FJH - Roman d’aventures historiques')\n",
      "(3, 'FHX - Thriller psychologique')\n",
      "(3, 'FFH - Roman à énigme ou crime historique')\n",
      "(3, 'AKT - Mode et textiles')\n",
      "(3, 'ABA - Théorie de l’art')\n",
      "(2, 'YZSN - Jeunesse : papeterie sans contenu')\n",
      "(2, 'YNTA - Documentaires jeunesse : sciences : corps humain')\n",
      "(2, 'YNN - Documentaires jeunesse : nature, animaux et le monde naturel')\n",
      "(2, 'YFJ - Fiction jeunesse : mythes, contes et légendes')\n",
      "(2, 'WDKX - Jeux de questions')\n",
      "(2, 'WBXD1 - Nourriture et boisson : vins')\n",
      "(2, 'VFXC - Soins et éducation d’un enfant : conseils pour les parents')\n",
      "(2, 'SCX - Histoire du sport')\n",
      "(2, 'KNTP1 - Édition et commerce du livre')\n",
      "(2, 'JPHC - Constitution : gouvernement et État')\n",
      "(2, 'JN - Éducation')\n",
      "(2, 'JKV - Crime et criminologie')\n",
      "(2, 'FW - Roman religieux et spirituel')\n",
      "(2, 'FRU - Roman sentimental : voyage dans le temps')\n",
      "(2, 'FJMS - Roman se déroulant durant la Seconde Guerre mondiale')\n",
      "(2, 'FF - Roman policier')\n",
      "(2, 'DNC - Mémoires')\n",
      "(2, 'DNBS - Biographie : sport')\n",
      "(2, 'DNBA - Autobiographie : généralités')\n",
      "(2, 'DCF - Poésie (un seul auteur)')\n",
      "(2, 'CJB - Enseignement des langues : matériel pédagogique')\n",
      "(2, 'AMK - Architecture : habitations et architecture domestique')\n",
      "(2, 'AFC - Peinture et tableaux')\n",
      "(1, 'YXT - Jeunesse : questions personnelles et de société : absentéisme et problèmes scolaires')\n",
      "(1, 'YPCA4 - Enseignement : langue maternelle / première langue : grammaire et ponctuation')\n",
      "(1, 'YNTD - Documentaires jeunesse : inventeurs, inventions et expériences')\n",
      "(1, 'YNTC - Documentaires jeunesse : sciences : informatique et technologie de l’information')\n",
      "(1, 'YNPC - Documentaires jeunesse : cuisine et alimentation')\n",
      "(1, 'YNP - Documentaires jeunesse : considérations pratiques')\n",
      "(1, 'YNNZ - Documentaires jeunesse : espace, étoiles et système solaire')\n",
      "(1, 'YNNV - Documentaires jeunesse : géologie, météorologie et monde physique')\n",
      "(1, 'YNNB - Documentaires jeunesse : vie sauvage')\n",
      "(1, 'YNL - Documentaires jeunesse : littérature, livres et écrivains')\n",
      "(1, 'YNHD - Documentaires jeunesse : découverte et expédition')\n",
      "(1, 'YNB - Documentaires jeunesse : biographie et autobiographie')\n",
      "(1, 'YFU - Fiction jeunesse : nouvelles')\n",
      "(1, 'YFR - Fiction jeunesse : histoires de sport')\n",
      "(1, 'XAD - Bande dessinée (tradition européenne)')\n",
      "(1, 'XA - Romans graphiques, livres de bande dessinée : typologie')\n",
      "(1, 'WTM - Lieux et peuples : travaux généraux et illustrés')\n",
      "(1, 'WNC - Vie sauvage : généralités')\n",
      "(1, 'VXWM - Magie, charmes et alchimie')\n",
      "(1, 'VXPS - Guides spirituels, anges et channeling')\n",
      "(1, 'VXPH - Chakras, auras et énergie spirituelle')\n",
      "(1, 'VFX - Être parent : conseils et questions')\n",
      "(1, 'TBY - Inventions et inventeurs')\n",
      "(1, 'RNFY - Ressources énergétiques')\n",
      "(1, 'QRSL - Religion romaine et mythologie')\n",
      "(1, 'QRSA - Religion égyptienne')\n",
      "(1, 'QR - Religion et croyances')\n",
      "(1, 'QDH - Histoire de la philosophie, traditions philosophiques')\n",
      "(1, 'PHQ - Physique quantique (mécanique quantique et théorie quantique des champs)')\n",
      "(1, 'PGT - Diagrammes et atlas astronomiques')\n"
     ]
    }
   ],
   "source": [
    "# Statistiques sur les Thema\n",
    "\n",
    "themas = {}\n",
    "\n",
    "for l in livres:\n",
    "    if l.thema_principal:\n",
    "        if l.thema_principal in themas:\n",
    "            themas[l.thema_principal] += 1\n",
    "        else:\n",
    "            themas[l.thema_principal] = 1\n",
    "            \n",
    "liste_themas = sorted([(nombre, mot) for (mot, nombre) in themas.items()], reverse = True)\n",
    "\n",
    "for thema in liste_themas[:100]:\n",
    "     print(thema)\n"
   ]
  },
  {
   "cell_type": "markdown",
   "metadata": {},
   "source": [
    "## Code pour l'extraction des contributeurs d'un livre"
   ]
  },
  {
   "cell_type": "code",
   "execution_count": null,
   "metadata": {
    "scrolled": true
   },
   "outputs": [],
   "source": [
    "# typesContributeurs = [\n",
    "    '(De (auteur))', \n",
    "    '(Coordination éditoriale de)', \n",
    "    '(Photographies de)',\n",
    "    '(Postface de)',\n",
    "    '(Préface de)',\n",
    "    '(De (photographe))',\n",
    "    '(Traduit par)',\n",
    "    '(Avant-propos de)',\n",
    "    '(Illustré par)',\n",
    "    '(Texte de)',\n",
    "    '(Adapté par)']\n",
    " \n",
    "\n",
    "def extraireContributeur(chaine):\n",
    "    for c in typesContributeurs:\n",
    "        position = chaine.strip().find(c)\n",
    "        if position != -1:\n",
    "            return chaine.strip()[:position-1]\n",
    "           \n",
    "    return \"\"\n",
    "\n",
    "    \n",
    "def extraireTypeContributeur(chaine):\n",
    "    for c in typesContributeurs:\n",
    "        position = chaine.strip().find(c)\n",
    "        if position != -1:\n",
    "            return chaine.strip()[position:]\n",
    "           \n",
    "    return \"\"\n",
    "    \n",
    "\n",
    "# for l in livres:\n",
    "#     cont = []\n",
    "#     typeAuteur = set(['(De (auteur))','(De (photographe))','(Coordination éditoriale de)'])\n",
    "#     for a in l.contributeurs.split(','):\n",
    "#         cont.append(extraireContributeur(a.strip()))    \n",
    "#     print(cont)\n"
   ]
  },
  {
   "cell_type": "markdown",
   "metadata": {},
   "source": [
    "## Création du graphe"
   ]
  },
  {
   "cell_type": "code",
   "execution_count": 59,
   "metadata": {},
   "outputs": [],
   "source": [
    "from rdflib import Graph, Namespace, Literal, URIRef, BNode\n",
    "from rdflib import RDF, RDFS, OWL, XSD\n",
    "\n",
    "\n",
    "SCHEMA = Namespace(\"http://schema.org/\")\n",
    "HURTUBISE = Namespace(\"https://distributionhmh.com/onto/\")\n",
    "THEMA = Namespace(\"https://www.editeur.org/Thema/\")\n",
    "\n",
    "\n",
    "mapppingContributeurs = {\n",
    "    '(De (auteur))': SCHEMA.author, \n",
    "    '(Coordination éditoriale de)': SCHEMA.editor, \n",
    "    '(Photographies de)': HURTUBISE.photographiesDe,\n",
    "    '(Postface de)': HURTUBISE.postfaceDe,\n",
    "    '(Préface de)': HURTUBISE.PrefaceDe,\n",
    "    '(De (photographe))': SCHEMA.author,\n",
    "    '(Traduit par)': SCHEMA.translator,\n",
    "    '(Avant-propos de)': HURTUBISE.avantProposDe,\n",
    "    '(Illustré par)': SCHEMA.illustrator,\n",
    "    '(Texte de)': HURTUBISE.texteDe,\n",
    "    '(Adapté par)': HURTUBISE.adaptePar\n",
    "}\n",
    "\n"
   ]
  },
  {
   "cell_type": "markdown",
   "metadata": {},
   "source": [
    "On va d'abord extraire les auteurs et autres contributeurs.\n",
    "À noter que dans les données, il y a un champ pour les auteurs, mais on retrouve la même information dans la liste des contributeurs. Il y a par contre un différence. Dans le champs auteur, le nom de famille apparaît en premier, alors que dans la liste de contributeurs, il apparaît en dernier. \n",
    "On va donc prendre la liste de contributeurs."
   ]
  },
  {
   "cell_type": "code",
   "execution_count": null,
   "metadata": {},
   "outputs": [],
   "source": [
    "\n",
    "contributeurs = set()\n",
    "for l in livres:\n",
    "    for c in l.contributeurs.split(','):\n",
    "        contributeurs.add(extraireContributeur(c.strip()))\n",
    "        \n",
    "\n",
    "# for c in contributeurs:\n",
    "#     print(c)\n",
    "    \n",
    "\n",
    "contributeurs.remove('Collectif')\n",
    "    \n",
    "print(len(contributeurs), 'contributeurs au total')\n",
    "\n",
    "\n",
    "    "
   ]
  },
  {
   "cell_type": "code",
   "execution_count": 60,
   "metadata": {},
   "outputs": [],
   "source": [
    "grapheHurtubise = Graph()\n",
    "grapheHurtubise.bind(\"schema\",\"https://schema.org/\", override=True)\n",
    "grapheHurtubise.bind(\"hurtubise\",\"https://distributionhmh.com/onto/\", override=True)\n",
    "grapheHurtubise.bind(\"thema\",\"https://www.editeur.org/Thema/\", override=True)\n",
    "\n"
   ]
  },
  {
   "cell_type": "code",
   "execution_count": 55,
   "metadata": {},
   "outputs": [
    {
     "name": "stdout",
     "output_type": "stream",
     "text": [
      "11062 triplets dans le graphe de contributeurs\n"
     ]
    }
   ],
   "source": [
    "id = 0\n",
    "\n",
    "uri_contributeur = {}\n",
    "\n",
    "for c in contributeurs:\n",
    "    id += 1\n",
    "    uri_contributeur[c] = HURTUBISE['contributeur' + str(id)]\n",
    "    grapheHurtubise.add((uri_contributeur[c], SCHEMA.name, Literal(c)))\n",
    "    \n",
    "    \n",
    "print(len(grapheHurtubise), 'triplets dans le graphe de contributeurs')"
   ]
  },
  {
   "cell_type": "markdown",
   "metadata": {},
   "source": [
    "On peut maintenant ajouter les livres au graphe. Dans un premier temps, on crée les URI des livres. On stocke ces URI dans un dictionnaire, en utilisant les isbn comme clés.  "
   ]
  },
  {
   "cell_type": "code",
   "execution_count": null,
   "metadata": {},
   "outputs": [],
   "source": [
    "id = 0\n",
    "\n",
    "uri_livre = {}\n",
    "\n",
    "for l in livres:\n",
    "    id += 1\n",
    "    grapheHurtubise.add((HURTUBISE['livre' + str(id)], RDF.type, SCHEMA.Book))\n",
    "    uri_livre[l.isbn.papier + l.isbn.pdf +l.isbn.epub] = HURTUBISE['livre' + str(id)]\n",
    "        \n",
    "\n",
    "print(len(grapheHurtubise), 'triplets dans le graphe de contributeurs')        "
   ]
  },
  {
   "cell_type": "markdown",
   "metadata": {},
   "source": [
    "Tel que spécifié précédemment, on va récupérer les auteurs dans la liste des contributeurs, plutôt que le champ \"auteur\". \n",
    "À noter ici qu'on suppose qu'il n'y a pas d'ambiguïté dans les noms d'auteurs.\n",
    "À noter aussi qu'on a un cas spécial qui se présente parfois: les ouvrages collectifs, où une liste d'auteurs n'est pas toujours spécifiée.\n"
   ]
  },
  {
   "cell_type": "code",
   "execution_count": null,
   "metadata": {},
   "outputs": [],
   "source": [
    "# Pour voir les cas où on a un ouvrage collectif\n",
    "for l in livres:\n",
    "    if \"Collectif\" in l.auteur:\n",
    "        print(l.auteur)\n",
    "        print(l.contributeurs)"
   ]
  },
  {
   "cell_type": "code",
   "execution_count": null,
   "metadata": {},
   "outputs": [],
   "source": [
    "for l in livres:\n",
    "    uri = uri_livre[l.isbn.papier + l.isbn.pdf +l.isbn.epub]\n",
    "    \n",
    "    for contributeur in l.contributeurs.split(','):\n",
    "        contributeur = contributeur.strip()\n",
    "        nom = extraireContributeur(contributeur)\n",
    "        type = extraireTypeContributeur(contributeur)\n",
    "        if nom == 'Collectif':\n",
    "            bnode = BNode()\n",
    "            grapheHurtubise.add((bnode, RDF.type, HURTUBISE.Collectif))\n",
    "            grapheHurtubise.add((uri, mapppingContributeurs[type], bnode))\n",
    "\n",
    "        else:\n",
    "            grapheHurtubise.add((uri, mapppingContributeurs[type], uri_contributeur[nom]))\n",
    "\n",
    "print(len(grapheHurtubise), 'triplets dans le graphe de contributeurs')                   "
   ]
  },
  {
   "cell_type": "markdown",
   "metadata": {},
   "source": [
    "On va maintenant extraires les autres informations sur  l'oeuvre"
   ]
  },
  {
   "cell_type": "code",
   "execution_count": null,
   "metadata": {},
   "outputs": [],
   "source": [
    "mappingLangue = {\n",
    "    \"Allemand\": \"de\",\n",
    "    \"Anglais\": \"en\",\n",
    "    \"Arabe\": \"ar\",\n",
    "    \"Brésilien\": \"pt-BR\",\n",
    "    \"Espagnol\": \"es\",\n",
    "    \"Français\": \"fr\",\n",
    "    \"Italien\": \"it\",\n",
    "    \"Latin\": \"la\",\n",
    "    \"Portugais\": \"pt\",\n",
    "}\n"
   ]
  },
  {
   "cell_type": "code",
   "execution_count": 82,
   "metadata": {},
   "outputs": [
    {
     "name": "stdout",
     "output_type": "stream",
     "text": [
      "10319 triplets dans le graphe de contributeurs\n"
     ]
    }
   ],
   "source": [
    "\n",
    "\n",
    "for l in livres:\n",
    "    uri = uri_livre[l.isbn.papier + l.isbn.pdf +l.isbn.epub]\n",
    "    grapheHurtubise.add((uri, SCHEMA.name, Literal(l.titre)))\n",
    "    \n",
    "    if l.sous_titre:\n",
    "        grapheHurtubise.add((uri, SCHEMA.alternativeHeadline, Literal(l.sous_titre)))\n",
    " \n",
    "    if l.titre_serie:\n",
    "        grapheHurtubise.add((uri, HURTUBISE.serie, Literal(l.titre_serie)))\n",
    "        \n",
    "    if l.langue:\n",
    "        listeLangues = l.langue.split(', ')\n",
    "        for langue in listeLangues:\n",
    "            grapheHurtubise.add((uri, SCHEMA.inLanguage, Literal(mappingLangue[langue])))\n",
    "        \n",
    "    if l.langue_origine:   \n",
    "        listeLangues = l.langue_origine.split(', ')\n",
    "        for langue in listeLangues:\n",
    "            grapheHurtubise.add((uri, HURTUBISE.langueOriginale, Literal(mappingLangue[langue])))\n",
    "            \n",
    "    if l.resume:\n",
    "        grapheHurtubise.add((uri, SCHEMA.abstract, Literal(l.resume)))\n",
    "        \n",
    "    if l.annee_parution:\n",
    "        grapheHurtubise.add((uri, SCHEMA.datePublished, Literal(l.annee_parution)))\n",
    "        \n",
    "    if l.thema_principal:\n",
    "        thema = l.thema_principal.split(' - ')[0]\n",
    "        grapheHurtubise.add((uri, HURTUBISE.thema_principal, THEMA[thema]))\n",
    "\n",
    "    if l.thema_autre:\n",
    "        thema = l.thema_autre.split(' - ')[0]\n",
    "        grapheHurtubise.add((uri, HURTUBISE.thema_autre, THEMA[thema]))\n",
    "\n",
    "        \n",
    "    if l.quant_geo:\n",
    "        thema = l.quant_geo.split(' - ')[0]\n",
    "        grapheHurtubise.add((uri, HURTUBISE.thema_quant_geo, THEMA[thema]))\n",
    "\n",
    "        \n",
    "    if l.quant_langue:\n",
    "        thema = l.quant_langue.split(' - ')[0]\n",
    "        grapheHurtubise.add((uri, HURTUBISE.thema_quant_lang, THEMA[thema]))\n",
    "\n",
    "        \n",
    "    if l.quant_hist:\n",
    "        thema = l.quant_hist.split(' - ')[0]\n",
    "        grapheHurtubise.add((uri, HURTUBISE.thema_quant_hist, THEMA[thema]))\n",
    "\n",
    "    if l.quant_interet:\n",
    "        thema = l.quant_interet.split(' - ')[0]\n",
    "        grapheHurtubise.add((uri, HURTUBISE.thema_quant_interet, THEMA[thema]))\n",
    "\n",
    "    if l.quant_style:\n",
    "        thema = l.quant_style.split(' - ')[0]\n",
    "        grapheHurtubise.add((uri, HURTUBISE.thema_quant_style, THEMA[thema]))\n",
    "\n",
    "    if l.quant_age:\n",
    "        thema = l.quant_age.split(' - ')[0]\n",
    "        grapheHurtubise.add((uri, HURTUBISE.thema_quant_age, THEMA[thema]))\n",
    " \n",
    "    if l.mots_cles:\n",
    "        for mot in l.mots_cles:\n",
    "            grapheHurtubise.add((uri, HURTUBISE.mot_cle, Literal(mot)))\n",
    "           \n",
    "\n",
    "    if l.niveau_scolaire:\n",
    "        for n in l.niveau_scolaire.split(', '):\n",
    "            grapheHurtubise.add((uri, HURTUBISE.niveau_scolaire, Literal(n))) \n",
    "    if l.niveau_lecture:\n",
    "        pass # Aucun item n'a cette information\n",
    "    if l.echelle_CECR:\n",
    "        pass # Aucun item n'a cette information\n",
    "    if l.nombre_pages:\n",
    "        grapheHurtubise.add((uri, SCHEMA.numberOfPages, Literal(l.nombre_pages, datatype=XSD.integer))) \n",
    "        \n",
    "    if l.classification_editoriale:\n",
    "        grapheHurtubise.add((uri, HURTUBISE.classification_editoriale, Literal(l.classification_editoriale))) \n",
    "        \n",
    "        \n",
    "print(len(grapheHurtubise), 'triplets dans le graphe de contributeurs')                   "
   ]
  },
  {
   "cell_type": "code",
   "execution_count": 83,
   "metadata": {},
   "outputs": [],
   "source": [
    "fichier_hurtubise = open(\"../Graphes/grapheHurtubise.rdf\",\"wb\")\n",
    "grapheHurtubise.serialize(fichier_hurtubise) \n",
    "fichier_hurtubise.close()\n"
   ]
  },
  {
   "cell_type": "code",
   "execution_count": null,
   "metadata": {},
   "outputs": [],
   "source": []
  },
  {
   "cell_type": "code",
   "execution_count": null,
   "metadata": {},
   "outputs": [],
   "source": []
  }
 ],
 "metadata": {
  "kernelspec": {
   "display_name": "Python 3",
   "language": "python",
   "name": "python3"
  },
  "language_info": {
   "codemirror_mode": {
    "name": "ipython",
    "version": 3
   },
   "file_extension": ".py",
   "mimetype": "text/x-python",
   "name": "python",
   "nbconvert_exporter": "python",
   "pygments_lexer": "ipython3",
   "version": "3.7.1"
  }
 },
 "nbformat": 4,
 "nbformat_minor": 2
}
