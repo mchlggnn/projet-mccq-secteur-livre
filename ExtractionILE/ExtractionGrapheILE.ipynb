{
 "cells": [
  {
   "cell_type": "code",
   "execution_count": 1,
   "metadata": {},
   "outputs": [],
   "source": [
    "class Auteur:\n",
    "    def __init__(self, nom = \"\"):\n",
    "        self.nom = nom\n",
    "        self.uri = \"\"\n",
    "        self.bio = \"\"\n",
    "        self.genres = []\n",
    "        self.site = \"\"\n",
    "        self.pseudonyme = \"\"\n",
    "\n",
    "class Oeuvre:\n",
    "    def __init__(self, id, titre = \" \"):\n",
    "        self.id = id\n",
    "        self.titre = titre\n",
    "        self.auteurs = []\n",
    "        self.lieuPublication = \"\"\n",
    "        self.editeur = \"\"\n",
    "        self.annee = \"\"\n",
    "        self.isbn = \"\"\n",
    "        "
   ]
  },
  {
   "cell_type": "code",
   "execution_count": 2,
   "metadata": {},
   "outputs": [],
   "source": [
    "auteurs = []\n",
    "oeuvres = []"
   ]
  },
  {
   "cell_type": "code",
   "execution_count": 7,
   "metadata": {
    "tags": [
     "outputPrepend",
     "outputPrepend",
     "outputPrepend",
     "outputPrepend",
     "outputPrepend",
     "outputPrepend",
     "outputPrepend",
     "outputPrepend"
    ]
   },
   "outputs": [
    {
     "output_type": "stream",
     "name": "stdout",
     "text": "http://recif.litterature.org/recherche/ecrivains/vonarburg-elisabeth-466/']\nAilleurs et au Japon['http://recif.litterature.org/recherche/ecrivains/vonarburg-elisabeth-466/']\nAilleurs ici['http://recif.litterature.org/recherche/ecrivains/vonarburg-elisabeth-466/']\nBlood out of a stone['http://recif.litterature.org/recherche/ecrivains/vonarburg-elisabeth-466/']\nChanson pour une sirène['http://recif.litterature.org/recherche/ecrivains/vonarburg-elisabeth-466/']\nChroniques du pays des mères['http://recif.litterature.org/recherche/ecrivains/vonarburg-elisabeth-466/']\nChroniques du pays des mères['http://recif.litterature.org/recherche/ecrivains/vonarburg-elisabeth-466/']\nChroniques du pays des mères['http://recif.litterature.org/recherche/ecrivains/vonarburg-elisabeth-466/']\nComment écrire des histoires['http://recif.litterature.org/recherche/ecrivains/vonarburg-elisabeth-466/']\nLes contes de la Chatte Rouge['http://recif.litterature.org/recherche/ecrivains/vonarburg-elisabeth-466/']\nContes de Tyranaël['http://recif.litterature.org/recherche/ecrivains/vonarburg-elisabeth-466/']\nDie Shweigende Stadt['http://recif.litterature.org/recherche/ecrivains/vonarburg-elisabeth-466/']\nDreams of the Sea['http://recif.litterature.org/recherche/ecrivains/vonarburg-elisabeth-466/']\nL'Eldorado dans les glaces['http://recif.litterature.org/recherche/ecrivains/vonarburg-elisabeth-466/']\nEstampivre['http://recif.litterature.org/recherche/ecrivains/vonarburg-elisabeth-466/']\nEt autres petits mensonges ['http://recif.litterature.org/recherche/ecrivains/vonarburg-elisabeth-466/']\nHistoire de la princesse et du dragon['http://recif.litterature.org/recherche/ecrivains/vonarburg-elisabeth-466/']\nImages d'ailleurs['http://recif.litterature.org/recherche/ecrivains/vonarburg-elisabeth-466/']\nIn the Mothers' Land['http://recif.litterature.org/recherche/ecrivains/vonarburg-elisabeth-466/']\nJanus['http://recif.litterature.org/recherche/ecrivains/vonarburg-elisabeth-466/']\nLe jeu des coquilles de Nautilus['http://recif.litterature.org/recherche/ecrivains/vonarburg-elisabeth-466/']\nUn lac, un fjord['http://recif.litterature.org/recherche/ecrivains/vonarburg-elisabeth-466/']\nLe lever du récit['http://recif.litterature.org/recherche/ecrivains/vonarburg-elisabeth-466/']\nLe Lever du Récit['http://recif.litterature.org/recherche/ecrivains/vonarburg-elisabeth-466/']\nLes lions d'Al-Rassan['http://recif.litterature.org/recherche/ecrivains/vonarburg-elisabeth-466/']\nThe Maerlande Chronicles['http://recif.litterature.org/recherche/ecrivains/vonarburg-elisabeth-466/']\nThe Maerlande Chroniken['http://recif.litterature.org/recherche/ecrivains/vonarburg-elisabeth-466/']\nLa maison au bord de la mer['http://recif.litterature.org/recherche/ecrivains/vonarburg-elisabeth-466/']\nMême les pierres['http://recif.litterature.org/recherche/ecrivains/vonarburg-elisabeth-466/']\nMemory Babe['http://recif.litterature.org/recherche/ecrivains/vonarburg-elisabeth-466/']\nLa mosaïque de Sarance['http://recif.litterature.org/recherche/ecrivains/vonarburg-elisabeth-466/']\nL'Oeil de la nuit['http://recif.litterature.org/recherche/ecrivains/vonarburg-elisabeth-466/']\nReine de Mémoire['http://recif.litterature.org/recherche/ecrivains/vonarburg-elisabeth-466/']\nReine de Mémoire['http://recif.litterature.org/recherche/ecrivains/vonarburg-elisabeth-466/']\nThe Reluctant Voyagers['http://recif.litterature.org/recherche/ecrivains/vonarburg-elisabeth-466/']\nThe Reluctant Voyagers['http://recif.litterature.org/recherche/ecrivains/vonarburg-elisabeth-466/']\nSang de pierre['http://recif.litterature.org/recherche/ecrivains/vonarburg-elisabeth-466/']\nLe Silence de la cité['http://recif.litterature.org/recherche/ecrivains/vonarburg-elisabeth-466/']\nLe Silence de la cité['http://recif.litterature.org/recherche/ecrivains/vonarburg-elisabeth-466/']\nThe Silent City['http://recif.litterature.org/recherche/ecrivains/vonarburg-elisabeth-466/']\nThe Silent City['http://recif.litterature.org/recherche/ecrivains/vonarburg-elisabeth-466/']\nThe Silent City['http://recif.litterature.org/recherche/ecrivains/vonarburg-elisabeth-466/']\nSlow dance['http://recif.litterature.org/recherche/ecrivains/vonarburg-elisabeth-466/']\nThe Slow Engines of Time and Other Stories['http://recif.litterature.org/recherche/ecrivains/vonarburg-elisabeth-466/']\nTyranaël['http://recif.litterature.org/recherche/ecrivains/vonarburg-elisabeth-466/']\nLes voyageurs malgré eux['http://recif.litterature.org/recherche/ecrivains/vonarburg-elisabeth-466/']\nLes voyageurs malgré eux['http://recif.litterature.org/recherche/ecrivains/vonarburg-elisabeth-466/']\nDétails et dédales['http://recif.litterature.org/recherche/ecrivains/voyer-leger-catherine-1584/']\n13 Histoires['http://recif.litterature.org/recherche/ecrivains/warnant-cote-marie-andree-467/']\nAdieu, ma seule amie!['http://recif.litterature.org/recherche/ecrivains/warnant-cote-marie-andree-467/']\nL'album-souvenir['http://recif.litterature.org/recherche/ecrivains/warnant-cote-marie-andree-467/']\nLes Amérindiens['http://recif.litterature.org/recherche/ecrivains/warnant-cote-marie-andree-467/']\nAmnésie['http://recif.litterature.org/recherche/ecrivains/warnant-cote-marie-andree-467/']\nAmour fou['http://recif.litterature.org/recherche/ecrivains/warnant-cote-marie-andree-467/']\nAppels anonymes['http://recif.litterature.org/recherche/ecrivains/warnant-cote-marie-andree-467/']\nArtisans, artisanes['http://recif.litterature.org/recherche/ecrivains/warnant-cote-marie-andree-467/']\nLe camp de la terreur['http://recif.litterature.org/recherche/ecrivains/warnant-cote-marie-andree-467/']\nCauchemars['http://recif.litterature.org/recherche/ecrivains/warnant-cote-marie-andree-467/']\nLa Cavernale['http://recif.litterature.org/recherche/ecrivains/warnant-cote-marie-andree-467/']\nLa Cavernale['http://recif.litterature.org/recherche/ecrivains/warnant-cote-marie-andree-467/']\nLa cavernale, dix ans après['http://recif.litterature.org/recherche/ecrivains/warnant-cote-marie-andree-467/']\nLa cible['http://recif.litterature.org/recherche/ecrivains/warnant-cote-marie-andree-467/']\nCoeur de glace['http://recif.litterature.org/recherche/ecrivains/warnant-cote-marie-andree-467/']\nCoup de foudre['http://recif.litterature.org/recherche/ecrivains/warnant-cote-marie-andree-467/']\nDanger ! Élève au volant['http://recif.litterature.org/recherche/ecrivains/warnant-cote-marie-andree-467/']\nAu dessus de tout soupçon['http://recif.litterature.org/recherche/ecrivains/warnant-cote-marie-andree-467/']\nDes dieux et des hommes['http://recif.litterature.org/recherche/ecrivains/warnant-cote-marie-andree-467/']\nÉlisabeth tombée au monde['http://recif.litterature.org/recherche/ecrivains/warnant-cote-marie-andree-467/']\nÉmonde et Scie['http://recif.litterature.org/recherche/ecrivains/warnant-cote-marie-andree-467/']\nL'enchanteur du pays d'Oz['http://recif.litterature.org/recherche/ecrivains/warnant-cote-marie-andree-467/']\nLa Fête['http://recif.litterature.org/recherche/ecrivains/warnant-cote-marie-andree-467/']\nFêtons l'Action de Grâces['http://recif.litterature.org/recherche/ecrivains/warnant-cote-marie-andree-467/']\nLes flammes accusatrices['http://recif.litterature.org/recherche/ecrivains/warnant-cote-marie-andree-467/']\nUne fleur m'a dit['http://recif.litterature.org/recherche/ecrivains/warnant-cote-marie-andree-467/']\nLe grand livre du temps['http://recif.litterature.org/recherche/ecrivains/warnant-cote-marie-andree-467/']\nLes Grandes explorations['http://recif.litterature.org/recherche/ecrivains/warnant-cote-marie-andree-467/']\nIncendie criminel['http://recif.litterature.org/recherche/ecrivains/warnant-cote-marie-andree-467/']\nJalousie fatale['http://recif.litterature.org/recherche/ecrivains/warnant-cote-marie-andree-467/']\nJardins abandonnés['http://recif.litterature.org/recherche/ecrivains/warnant-cote-marie-andree-467/']\nLes jumelles['http://recif.litterature.org/recherche/ecrivains/warnant-cote-marie-andree-467/']\nKidnappés!['http://recif.litterature.org/recherche/ecrivains/warnant-cote-marie-andree-467/']\nUne lumière dans la nuit['http://recif.litterature.org/recherche/ecrivains/warnant-cote-marie-andree-467/']\nMaya['http://recif.litterature.org/recherche/ecrivains/warnant-cote-marie-andree-467/']\nLes Modes de vie en Nouvelle-France dans les années 1600 et 1700['http://recif.litterature.org/recherche/ecrivains/warnant-cote-marie-andree-467/']\nNorbert Nipkin et la pierre aux énigmes['http://recif.litterature.org/recherche/ecrivains/warnant-cote-marie-andree-467/']\nOn se reverra['http://recif.litterature.org/recherche/ecrivains/warnant-cote-marie-andree-467/']\nLe parfait petit dinosaure/Voici le leptocératops['http://recif.litterature.org/recherche/ecrivains/warnant-cote-marie-andree-467/']\nPassionnément mienne['http://recif.litterature.org/recherche/ecrivains/warnant-cote-marie-andree-467/']\nLa Préhistoire['http://recif.litterature.org/recherche/ecrivains/warnant-cote-marie-andree-467/']\nLe prof piégé['http://recif.litterature.org/recherche/ecrivains/warnant-cote-marie-andree-467/']\nLes Rites initiatiques['http://recif.litterature.org/recherche/ecrivains/warnant-cote-marie-andree-467/']\nLe secret de l'auberge['http://recif.litterature.org/recherche/ecrivains/warnant-cote-marie-andree-467/']\nSon dernier bal['http://recif.litterature.org/recherche/ecrivains/warnant-cote-marie-andree-467/']\nLa Sorcellerie['http://recif.litterature.org/recherche/ecrivains/warnant-cote-marie-andree-467/']\nTerreur noire['http://recif.litterature.org/recherche/ecrivains/warnant-cote-marie-andree-467/']\nLes tours de Maître Lapin['http://recif.litterature.org/recherche/ecrivains/warnant-cote-marie-andree-467/']\nLe triangle turbulent['http://recif.litterature.org/recherche/ecrivains/warnant-cote-marie-andree-467/']\nL'Univers merveilleux['http://recif.litterature.org/recherche/ecrivains/warnant-cote-marie-andree-467/']\nVagues de peur['http://recif.litterature.org/recherche/ecrivains/warnant-cote-marie-andree-467/']\nLa vengeance du fantôme['http://recif.litterature.org/recherche/ecrivains/warnant-cote-marie-andree-467/']\nVivre sans Julie['http://recif.litterature.org/recherche/ecrivains/warnant-cote-marie-andree-467/']\nL'Amant gris['http://recif.litterature.org/recherche/ecrivains/warren-louise-749/']\nAnthologie du présent ['http://recif.litterature.org/recherche/ecrivains/warren-louise-749/']\nApparitions. Inventaire de l'atelier['http://recif.litterature.org/recherche/ecrivains/warren-louise-749/']\nAttachements. Observation d'une bibliothèque['http://recif.litterature.org/recherche/ecrivains/warren-louise-749/']\nBleu de Delft['http://recif.litterature.org/recherche/ecrivains/warren-louise-749/']\nBleu de Delft['http://recif.litterature.org/recherche/ecrivains/warren-louise-749/']\nUne collection de lumières['http://recif.litterature.org/recherche/ecrivains/warren-louise-749/']\nComme deux femmes peintres['http://recif.litterature.org/recherche/ecrivains/warren-louise-749/']\nÉcrire la lumière['http://recif.litterature.org/recherche/ecrivains/warren-louise-749/']\nLa forme et le deuil['http://recif.litterature.org/recherche/ecrivains/warren-louise-749/']\nInterroger l'intensité['http://recif.litterature.org/recherche/ecrivains/warren-louise-749/']\nLéonise Valois, femme de lettres (1993)['http://recif.litterature.org/recherche/ecrivains/warren-louise-749/']\nLe lièvre de mars['http://recif.litterature.org/recherche/ecrivains/warren-louise-749/']\nLa lumière, l'arbre, le trait['http://recif.litterature.org/recherche/ecrivains/warren-louise-749/']\nMadeleine de janvier à septembre['http://recif.litterature.org/recherche/ecrivains/warren-louise-749/']\nNotes et paysages['http://recif.litterature.org/recherche/ecrivains/warren-louise-749/']\nNoyée quelques secondes['http://recif.litterature.org/recherche/ecrivains/warren-louise-749/']\nNuage de marbre['http://recif.litterature.org/recherche/ecrivains/warren-louise-749/']\nLe plus petit espace['http://recif.litterature.org/recherche/ecrivains/warren-louise-749/']\nLa poésie mémoire de l'art: anthologie['http://recif.litterature.org/recherche/ecrivains/warren-louise-749/']\nLa pratique du bleu['http://recif.litterature.org/recherche/ecrivains/warren-louise-749/']\nSoleil comme un oracle['http://recif.litterature.org/recherche/ecrivains/warren-louise-749/']\nSuite pour une robe['http://recif.litterature.org/recherche/ecrivains/warren-louise-749/']\nTableaux d'Aurélie['http://recif.litterature.org/recherche/ecrivains/warren-louise-749/']\nTerra incognita['http://recif.litterature.org/recherche/ecrivains/warren-louise-749/']\nLa vie flottante. Une pensée de la création['http://recif.litterature.org/recherche/ecrivains/warren-louise-749/']\nVoir venir la patience['http://recif.litterature.org/recherche/ecrivains/warren-louise-749/']\nAlentour filer['http://recif.litterature.org/recherche/ecrivains/watteyne-nathalie-985/']\nCelle qui['http://recif.litterature.org/recherche/ecrivains/watteyne-nathalie-985/']\nD'ici et d'ailleurs['http://recif.litterature.org/recherche/ecrivains/watteyne-nathalie-985/']\nBouquets aux parfums poétiques['http://recif.litterature.org/recherche/ecrivains/way-maureen-1630/']\nLes Raconteurs tome I : La naissance['http://recif.litterature.org/recherche/ecrivains/way-maureen-1630/']\nLes Raconteurs tome II : La vie['http://recif.litterature.org/recherche/ecrivains/way-maureen-1630/']\nChasse à l'étranger['http://recif.litterature.org/recherche/ecrivains/wekape-lottin-1220/']\nJ'appartiens au monde['http://recif.litterature.org/recherche/ecrivains/wekape-lottin-1220/']\nJe ne sifflerai pas deux fois['http://recif.litterature.org/recherche/ecrivains/wekape-lottin-1220/']\nMontréal, mon amour['http://recif.litterature.org/recherche/ecrivains/wekape-lottin-1220/']\nLe perroquet d'Afrique['http://recif.litterature.org/recherche/ecrivains/wekape-lottin-1220/']\nwww.romeoetjuliette.unis.com['http://recif.litterature.org/recherche/ecrivains/wekape-lottin-1220/']\nOss['http://recif.litterature.org/recherche/ecrivains/wilhelmy-audree-1579/']\nLes sangs['http://recif.litterature.org/recherche/ecrivains/wilhelmy-audree-1579/']\nLes sangs['http://recif.litterature.org/recherche/ecrivains/wilhelmy-audree-1579/']\n¿Adónde vas madre?['http://recif.litterature.org/recherche/ecrivains/worlitzky-aspasia-1623/']\nDécouverte de la sclérose en plaques['http://recif.litterature.org/recherche/ecrivains/yanacopoulo-andree-1342/']\nHans Selye['http://recif.litterature.org/recherche/ecrivains/yanacopoulo-andree-1342/']\nHenri F. Ellenberger['http://recif.litterature.org/recherche/ecrivains/yanacopoulo-andree-1342/']\nMichel Chartrand et Simonne Monet-Chartrand['http://recif.litterature.org/recherche/ecrivains/yanacopoulo-andree-1342/']\nPrendre acte['http://recif.litterature.org/recherche/ecrivains/yanacopoulo-andree-1342/']\nLe Regroupement des femmes québécoises, 1976-1981['http://recif.litterature.org/recherche/ecrivains/yanacopoulo-andree-1342/']\nSigné Hubert Aquin['http://recif.litterature.org/recherche/ecrivains/yanacopoulo-andree-1342/']\nSigné Hubert Aquin['http://recif.litterature.org/recherche/ecrivains/yanacopoulo-andree-1342/']\n1999['http://recif.litterature.org/recherche/ecrivains/yergeau-pierre-468/']\nLes amours perdues['http://recif.litterature.org/recherche/ecrivains/yergeau-pierre-468/']\nBallade sous la pluie['http://recif.litterature.org/recherche/ecrivains/yergeau-pierre-468/']\nBanlieue['http://recif.litterature.org/recherche/ecrivains/yergeau-pierre-468/']\nLa cité des vents['http://recif.litterature.org/recherche/ecrivains/yergeau-pierre-468/']\nLa complainte d'Alexis-le-trotteur['http://recif.litterature.org/recherche/ecrivains/yergeau-pierre-468/']\nConséquences lyriques['http://recif.litterature.org/recherche/ecrivains/yergeau-pierre-468/']\nLa désertion['http://recif.litterature.org/recherche/ecrivains/yergeau-pierre-468/']\nDu virtuel à la romance['http://recif.litterature.org/recherche/ecrivains/yergeau-pierre-468/']\nL'écrivain public['http://recif.litterature.org/recherche/ecrivains/yergeau-pierre-468/']\nL'écrivain public['http://recif.litterature.org/recherche/ecrivains/yergeau-pierre-468/']\nLa recherche de l'histoire['http://recif.litterature.org/recherche/ecrivains/yergeau-pierre-468/']\nTu attends la neige, Léonard?['http://recif.litterature.org/recherche/ecrivains/yergeau-pierre-468/']\nÀ tout prix['http://recif.litterature.org/recherche/ecrivains/yergeau-robert-750/']\nArt, argent, arrangement['http://recif.litterature.org/recherche/ecrivains/yergeau-robert-750/']\nDéchirure de l'ombre ; suivi de, Le Poème dans la poésie (1982é)['http://recif.litterature.org/recherche/ecrivains/yergeau-robert-750/']\nLe Nordir['http://recif.litterature.org/recherche/ecrivains/yergeau-robert-750/']\nL'Oralité de l'émeute['http://recif.litterature.org/recherche/ecrivains/yergeau-robert-750/']\nPrésence unanime['http://recif.litterature.org/recherche/ecrivains/yergeau-robert-750/']\nPrière pour un fantôme['http://recif.litterature.org/recherche/ecrivains/yergeau-robert-750/']\nLe Tombeau d'Adélina Albert['http://recif.litterature.org/recherche/ecrivains/yergeau-robert-750/']\nL'Usage du réel['http://recif.litterature.org/recherche/ecrivains/yergeau-robert-750/']\nAquarelles['http://recif.litterature.org/recherche/ecrivains/young-lelia-914/']\nLa cohésion référentielle dans le discours oral d'enfants hypothyroïdienscongénitaux et normaux['http://recif.litterature.org/recherche/ecrivains/young-lelia-914/']\nEntre l'outil et la matière['http://recif.litterature.org/recherche/ecrivains/young-lelia-914/']\nJ'écris ces mots / I write these words['http://recif.litterature.org/recherche/ecrivains/young-lelia-914/']\nLangage et créativité['http://recif.litterature.org/recherche/ecrivains/young-lelia-914/']\nLangages poétiques et poésie francophone en Amérique du Nord['http://recif.litterature.org/recherche/ecrivains/young-lelia-914/']\nProblèmes théoriques et pratiques de la traduction des                  textes poétiques['http://recif.litterature.org/recherche/ecrivains/young-lelia-914/']\nRéverbère['http://recif.litterature.org/recherche/ecrivains/young-lelia-914/']\nSi loin des cyprès['http://recif.litterature.org/recherche/ecrivains/young-lelia-914/']\nEmprunter aux oiseaux['http://recif.litterature.org/recherche/ecrivains/younsi-ouanessa-1484/']\nPrendre langue['http://recif.litterature.org/recherche/ecrivains/younsi-ouanessa-1484/']\nSoigner, aimer['http://recif.litterature.org/recherche/ecrivains/younsi-ouanessa-1484/']\nL'âme/défigurée['http://recif.litterature.org/recherche/ecrivains/yvon-josee-469/']\nLa chienne de l'Hôtel Tropicana['http://recif.litterature.org/recherche/ecrivains/yvon-josee-469/']\nLa cobaye['http://recif.litterature.org/recherche/ecrivains/yvon-josee-469/']\nDanseuse-mamelouk['http://recif.litterature.org/recherche/ecrivains/yvon-josee-469/']\nFilles-commandos bandées['http://recif.litterature.org/recherche/ecrivains/yvon-josee-469/']\nFilles-missiles['http://recif.litterature.org/recherche/ecrivains/yvon-josee-469/']\nGogo-boy['http://recif.litterature.org/recherche/ecrivains/yvon-josee-469/']\nKoréphilie['http://recif.litterature.org/recherche/ecrivains/yvon-josee-469/']\nLes Laides otages['http://recif.litterature.org/recherche/ecrivains/yvon-josee-469/']\nLettres['http://recif.litterature.org/recherche/ecrivains/yvon-josee-469/']\nMaîtresses-Cherokees['http://recif.litterature.org/recherche/ecrivains/yvon-josee-469/']\nPulsations['http://recif.litterature.org/recherche/ecrivains/yvon-josee-469/']\nTravaux pratiques['http://recif.litterature.org/recherche/ecrivains/yvon-josee-469/']\nTravesties-kamikaze['http://recif.litterature.org/recherche/ecrivains/yvon-josee-469/']\nDu frimas sur la mer['http://recif.litterature.org/recherche/ecrivains/zalitis-dominique-1599/']\nEntre les murs de la Baltique['http://recif.litterature.org/recherche/ecrivains/zalitis-dominique-1599/']\nRecoudre la lumière['http://recif.litterature.org/recherche/ecrivains/zalitis-dominique-1599/']\nStarp Baltijas mūriem : dzeja['http://recif.litterature.org/recherche/ecrivains/zalitis-dominique-1599/']\n27111\n"
    }
   ],
   "source": [
    "\n",
    "f = open('../Data/ILE/auteurs_ILE.csv',encoding=\"UTF-8\")\n",
    "document = f.read().split('\\n-----\\n')\n",
    "for item in document:\n",
    "    auteur = Auteur()\n",
    "    if item:\n",
    "        infos = item.split('<>')\n",
    "        auteur.uri = infos[0]\n",
    "        auteur.nom = infos[1]\n",
    "        auteur.genres = infos[2].split(',')\n",
    "        if infos[3] != ' ':\n",
    "            auteur.pseudonyme = infos[3]\n",
    "        if infos[4] != ' ':\n",
    "            auteur.site = infos[4]\n",
    "        auteur.bio = infos[5]    \n",
    "        auteurs.append(auteur)\n",
    "    \n",
    "f.close()\n",
    "print(len(auteurs))\n",
    "\n",
    "f = open('../Data/ILE/oeuvres_ILE.csv',encoding=\"UTF-8\")\n",
    "document = f.read().split('\\n')\n",
    "for item in document:\n",
    "    if item:\n",
    "        infos = item.split('<>')\n",
    "        oeuvre = Oeuvre(infos[0],infos[1])\n",
    "        oeuvre.annee = infos[2]\n",
    "        oeuvre.auteurs = infos[3].split(',')\n",
    "        oeuvre.editeur = infos[4]\n",
    "        oeuvre.lieuPublication = infos[5]\n",
    "        oeuvre.isbn = infos[6]\n",
    "        oeuvres.append(oeuvre)\n",
    "        \n",
    "print(len(oeuvres))\n",
    "        \n",
    "        \n",
    "# for o in oeuvres.values():\n",
    "#     f.write(\"{}<>{}<>{}<>\".format(o.id, o.titre, o.annee))\n",
    "#     f.write(\",\".join(o.auteurs) + \"<>\")\n",
    "#     f.write(\"{}<>{}<>{}\".format(o.editeur, o.lieuPublication, o.isbn))\n",
    "#     f.write(\"\\n\")\n",
    "# f.close()\n",
    "\n",
    "\n",
    "    "
   ]
  },
  {
   "cell_type": "code",
   "execution_count": 10,
   "metadata": {},
   "outputs": [
    {
     "output_type": "error",
     "ename": "NameError",
     "evalue": "name 'traiter_bio' is not defined",
     "traceback": [
      "\u001b[1;31m---------------------------------------------------------------------------\u001b[0m",
      "\u001b[1;31mNameError\u001b[0m                                 Traceback (most recent call last)",
      "\u001b[1;32m<ipython-input-10-0508c566b898>\u001b[0m in \u001b[0;36m<module>\u001b[1;34m\u001b[0m\n\u001b[0;32m     50\u001b[0m \u001b[1;33m\u001b[0m\u001b[0m\n\u001b[0;32m     51\u001b[0m     \u001b[1;32mif\u001b[0m \u001b[0ma\u001b[0m\u001b[1;33m.\u001b[0m\u001b[0mbio\u001b[0m\u001b[1;33m:\u001b[0m\u001b[1;33m\u001b[0m\u001b[1;33m\u001b[0m\u001b[0m\n\u001b[1;32m---> 52\u001b[1;33m         \u001b[0mgrapheILE\u001b[0m\u001b[1;33m.\u001b[0m\u001b[0madd\u001b[0m\u001b[1;33m(\u001b[0m\u001b[1;33m(\u001b[0m\u001b[0mcreer_URI_auteur\u001b[0m\u001b[1;33m(\u001b[0m\u001b[0ma\u001b[0m\u001b[1;33m.\u001b[0m\u001b[0muri\u001b[0m\u001b[1;33m)\u001b[0m\u001b[1;33m,\u001b[0m \u001b[0mILE_PROP\u001b[0m\u001b[1;33m.\u001b[0m\u001b[0mbio\u001b[0m\u001b[1;33m,\u001b[0m \u001b[0mLiteral\u001b[0m\u001b[1;33m(\u001b[0m\u001b[0mtraiter_bio\u001b[0m\u001b[1;33m(\u001b[0m\u001b[0ma\u001b[0m\u001b[1;33m.\u001b[0m\u001b[0mbio\u001b[0m\u001b[1;33m)\u001b[0m\u001b[1;33m)\u001b[0m\u001b[1;33m)\u001b[0m\u001b[1;33m)\u001b[0m\u001b[1;33m\u001b[0m\u001b[1;33m\u001b[0m\u001b[0m\n\u001b[0m\u001b[0;32m     53\u001b[0m \u001b[1;33m\u001b[0m\u001b[0m\n\u001b[0;32m     54\u001b[0m     \u001b[1;32mif\u001b[0m \u001b[0ma\u001b[0m\u001b[1;33m.\u001b[0m\u001b[0msite\u001b[0m\u001b[1;33m:\u001b[0m\u001b[1;33m\u001b[0m\u001b[1;33m\u001b[0m\u001b[0m\n",
      "\u001b[1;31mNameError\u001b[0m: name 'traiter_bio' is not defined"
     ]
    }
   ],
   "source": [
    "from rdflib import Graph, Namespace, Literal, URIRef\n",
    "from rdflib import RDF, RDFS, OWL, XSD\n",
    "\n",
    "BANQ = Namespace(\"http://banq.qc.ca/\")\n",
    "SCHEMA = Namespace(\"https://schema.org/\")\n",
    "DBO = Namespace(\"http://dbpedia.org/ontology/\")\n",
    "WDT = Namespace(\"http://www.wikidata.org/prop/direct/\")\n",
    "WD = Namespace(\"http://www.wikidata.org/entity/\")\n",
    "ILE_OEUVRE = Namespace(\"http://recif.litterature.org/ontologie/entite/oeuvre/\")\n",
    "ILE_AUTEUR = Namespace(\"http://recif.litterature.org/ontologie/entite/ecrivain/\")\n",
    "ILE_PROP = Namespace(\"http://recif.litterature.org/ontologie/propriete/\")\n",
    "ILE_CLASSE = Namespace(\"http://recif.litterature.org/ontologie/classe/\")\n",
    "\n",
    "def creer_URI_auteur(lien):\n",
    "    lien_decompose = lien.split('/')\n",
    "    if lien_decompose[-1] == \"\":\n",
    "        return ILE_AUTEUR[lien_decompose[-2]]\n",
    "    else:\n",
    "        print('OUPS')\n",
    "        return ILE_AUTEUR[lien_decompose[-1]]\n",
    "\n",
    "def traiter_lieu_publication(lieu):\n",
    "    return lieu\n",
    "\n",
    "def traiter_bio(bio):\n",
    "    return bio\n",
    "\n",
    "\n",
    "grapheILE = Graph()\n",
    "\n",
    "grapheILE.bind(\"schema\",\"https://schema.org/\", override=True)\n",
    "grapheILE.bind(\"ile\",\"http://recif.litterature.org/ontologie/propriete/\", override=True)\n",
    "\n",
    "\n",
    "\n",
    "for o in oeuvres:\n",
    "    grapheILE.add((ILE_OEUVRE[o.id], RDF.type, ILE_CLASSE.oeuvre))   \n",
    "    grapheILE.add((ILE_OEUVRE[o.id], SCHEMA.name, Literal(o.titre)))\n",
    "    grapheILE.add((ILE_OEUVRE[o.id], ILE_PROP.lieuPublication, Literal(traiter_lieu_publication(o.lieuPublication))))\n",
    "    grapheILE.add((ILE_OEUVRE[o.id], SCHEMA.bookEdition, Literal(o.editeur)))\n",
    "    grapheILE.add((ILE_OEUVRE[o.id], SCHEMA.isbn, Literal(o.isbn)))    \n",
    "    grapheILE.add((ILE_OEUVRE[o.id], SCHEMA.datePublished, Literal(o.annee)))        \n",
    "    for a in o.auteurs:\n",
    "        grapheILE.add((ILE_OEUVRE[o.id], SCHEMA.author, creer_URI_auteur(a)))\n",
    "\n",
    "for a in auteurs:\n",
    "    (nomFamille, prenom) = a.nom.split(\", \")\n",
    "    grapheILE.add((creer_URI_auteur(a.uri), RDF.type, ILE_CLASSE.ecrivain))\n",
    "    grapheILE.add((creer_URI_auteur(a.uri), SCHEMA.name, Literal(a.nom)))\n",
    "    grapheILE.add((creer_URI_auteur(a.uri), SCHEMA.givenName, Literal(prenom)))\n",
    "    grapheILE.add((creer_URI_auteur(a.uri), SCHEMA.familyName, Literal(nomFamille)))   \n",
    "    grapheILE.add((creer_URI_auteur(a.uri), ILE_PROP.uri, URIRef(a.uri)))\n",
    "\n",
    "    if a.bio:\n",
    "        grapheILE.add((creer_URI_auteur(a.uri), ILE_PROP.bio, Literal(traiter_bio(a.bio))))\n",
    "        \n",
    "    if a.site:\n",
    "        grapheILE.add((creer_URI_auteur(a.uri), ILE_PROP.site, Literal(a.site)))\n",
    "\n",
    "    if a.pseudonyme:\n",
    "        grapheILE.add((creer_URI_auteur(a.uri), ILE_PROP.pseudonyme, Literal(a.pseudonyme)))\n",
    "        \n",
    "    for g in a.genres:\n",
    "        grapheILE.add((creer_URI_auteur(a.uri), ILE_PROP.genre, Literal(g)))\n",
    "    "
   ]
  },
  {
   "cell_type": "code",
   "execution_count": 51,
   "metadata": {},
   "outputs": [
    {
     "name": "stdout",
     "output_type": "stream",
     "text": [
      "http://recif.litterature.org/ontologie/entite/oeuvre/4760 https://schema.org/datePublished 1970\n",
      "http://recif.litterature.org/ontologie/entite/oeuvre/4760 https://schema.org/isbn \n",
      "http://recif.litterature.org/ontologie/entite/oeuvre/4760 https://schema.org/name Elie, Elie, pourquoi\n",
      "http://recif.litterature.org/ontologie/entite/oeuvre/4760 http://www.w3.org/1999/02/22-rdf-syntax-ns#type http://recif.litterature.org/ontologie/classe/oeuvre\n",
      "http://recif.litterature.org/ontologie/entite/oeuvre/4760 http://recif.litterature.org/ontologie/propriete/lieuPublication Montréal\n",
      "http://recif.litterature.org/ontologie/entite/oeuvre/4760 https://schema.org/bookEdition Editions du Jour, Collection Les Poètes du jour ; M-24, 1970, 61 p. 20 cm.\n",
      "----\n",
      "http://recif.litterature.org/ontologie/entite/ecrivain/lavallee-loise-1135 http://recif.litterature.org/ontologie/propriete/genre Conte\n",
      "http://recif.litterature.org/ontologie/entite/ecrivain/lavallee-loise-1135 http://recif.litterature.org/ontologie/propriete/genre Roman\n",
      "http://recif.litterature.org/ontologie/entite/ecrivain/lavallee-loise-1135 http://www.w3.org/1999/02/22-rdf-syntax-ns#type http://recif.litterature.org/ontologie/classe/ecrivain\n",
      "http://recif.litterature.org/ontologie/entite/ecrivain/lavallee-loise-1135 http://recif.litterature.org/ontologie/propriete/genre Poésie\n",
      "http://recif.litterature.org/ontologie/entite/ecrivain/lavallee-loise-1135 http://recif.litterature.org/ontologie/propriete/uri http://recif.litterature.org/recherche/ecrivains/lavallee-loise-1135/\n",
      "http://recif.litterature.org/ontologie/entite/ecrivain/lavallee-loise-1135 http://recif.litterature.org/ontologie/propriete/genre Nouvelle\n",
      "http://recif.litterature.org/ontologie/entite/ecrivain/lavallee-loise-1135 https://schema.org/familyName Lavallée\n",
      "http://recif.litterature.org/ontologie/entite/ecrivain/lavallee-loise-1135 https://schema.org/name Lavallée, Loïse\n",
      "http://recif.litterature.org/ontologie/entite/ecrivain/lavallee-loise-1135 http://recif.litterature.org/ontologie/propriete/bio Auteure multi-genres, Loïse Lavallée détient une maîtrise en Littératures françaises de l’Université de Montréal. C’est en 1994 qu’elle publie son premier livre Éloïse, poste restante. Elle a donné plusieurs conférences portant sur les rituels entourant la mort et la perte d’un enfant. Ses publications subséquentes lui ont valu, entre autres, le Prix Jacques-Poirier 2019 et le Prix coup de Cœur à la Ville de Gatineau en 2015. Elle sera conviée à une série d’animations en Belgique, invitée à la Foire du livre de Bruxelles et participera également à une résidence d’écrivain en France à la Maison Jules Roy en Bourgogne. Pendant 10 ans, elle a été est membre du Conseil d’administration de l’Association des auteurs et auteures de l’Outaouais. Loïse Lavallée continue de participer à des spectacles de poésie tels la Soirée de la poésie, Paroles d’ici Paroles d’ailleurs, ainsi qu’à diverses lectures publiques.\n",
      "\n",
      " \n",
      "http://recif.litterature.org/ontologie/entite/ecrivain/lavallee-loise-1135 https://schema.org/givenName Loïse\n"
     ]
    }
   ],
   "source": [
    "for s,p,o in grapheILE.triples((ILE_OEUVRE['4760'],None,None)):\n",
    "    print(s,p,o)\n",
    "\n",
    "print('----')    \n",
    "for s,p,o in grapheILE.triples((ILE_AUTEUR['lavallee-loise-1135'],None,None)):\n",
    "    print(s,p,o)\n",
    "\n",
    "# for s,p,o in grapheILE.triples((None,ILE_PROP.site,None)):\n",
    "#     print(s,p,o)\n",
    " \n",
    "# for s,p,o in grapheILE.triples((None,ILE_PROP.lieuPublication,None)):\n",
    "#     print(s,p,o)\n",
    " \n",
    "    "
   ]
  },
  {
   "cell_type": "code",
   "execution_count": 625,
   "metadata": {},
   "outputs": [],
   "source": [
    "fichier_ile = open(\"grapheILE.rdf\",\"wb\")\n",
    "grapheILE.serialize(fichier_ile) \n",
    "fichier_ile.close()\n"
   ]
  },
  {
   "cell_type": "code",
   "execution_count": 50,
   "metadata": {},
   "outputs": [
    {
     "name": "stdout",
     "output_type": "stream",
     "text": [
      "179160\n"
     ]
    }
   ],
   "source": [
    "print(len(grapheILE))"
   ]
  },
  {
   "cell_type": "markdown",
   "metadata": {},
   "source": [
    "À faire:\n",
    "* Alignement avec graphe extrait à partir du dépôt légal\n",
    "* Extraction des informations pertinentes à partir des biographies\n",
    "* Nettoyage des informations exraites duy champ \"édition\""
   ]
  },
  {
   "cell_type": "code",
   "execution_count": null,
   "metadata": {},
   "outputs": [],
   "source": []
  }
 ],
 "metadata": {
  "kernelspec": {
   "display_name": "Python 3.7.4 64-bit",
   "language": "python",
   "name": "python37464bit52bf83dddf48432ca2f7ce4e0faf0fc0"
  },
  "language_info": {
   "codemirror_mode": {
    "name": "ipython",
    "version": 3
   },
   "file_extension": ".py",
   "mimetype": "text/x-python",
   "name": "python",
   "nbconvert_exporter": "python",
   "pygments_lexer": "ipython3",
   "version": "3.7.4-final"
  }
 },
 "nbformat": 4,
 "nbformat_minor": 2
}