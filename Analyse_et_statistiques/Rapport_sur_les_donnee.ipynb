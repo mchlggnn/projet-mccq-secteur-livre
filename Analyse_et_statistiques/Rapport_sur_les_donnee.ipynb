{
 "cells": [
  {
   "cell_type": "code",
   "execution_count": 1,
   "outputs": [],
   "source": [
    "from collections import Counter\n",
    "from itertools import combinations\n",
    "\n",
    "from Analyse_et_statistiques.stats import *\n",
    "from Identification_couples_livres.extraction_couples_livres import *\n",
    "\n",
    "def text_between_parentheses(text: str) -> list:\n",
    "    \"\"\"\n",
    "    Récupère le contenu du texte entre parenthèse\n",
    "    :param str text: chaine de caractère contenant ou non du texte entre prenthèse\n",
    "    :return list[str]: contenu du text entre parenthèse\n",
    "    \"\"\"\n",
    "    n = 1  # run at least once\n",
    "    parenthese = []\n",
    "    while n:\n",
    "        if re.search(r'\\([^()]*\\)', text):\n",
    "            parenthese.append(re.search(r'\\([^()]*\\)', text).group(0))\n",
    "        text, n = re.subn(r'\\([^()]*\\)', '', text)  # remove non-nested/flat balanced parts\n",
    "    return parenthese"
   ],
   "metadata": {
    "collapsed": false,
    "pycharm": {
     "name": "#%%\n"
    }
   }
  },
  {
   "cell_type": "markdown",
   "metadata": {
    "collapsed": true,
    "pycharm": {
     "name": "#%% md\n"
    }
   },
   "source": [
    "# Rapport sur les données complêtes\n",
    "## Par base de donnée:\n",
    "### ADP\n",
    "#### Global"
   ]
  },
  {
   "cell_type": "code",
   "execution_count": 2,
   "outputs": [
    {
     "name": "stdout",
     "output_type": "stream",
     "text": [
      "{\n",
      "    \"total\": 15469,\n",
      "    \"auteurs\": 17266,\n",
      "    \"editeurs\": 15469,\n",
      "    \"sujet_principal\": 8092,\n",
      "    \"sujet\": 9109,\n",
      "    \"auteurs_by_value\": {\n",
      "        \"Collectif\": 676,\n",
      "        \"Alain M. Bergeron\": 215,\n",
      "        \"Jim Davis\": 196,\n",
      "        \"Sampar\": 192,\n",
      "        \"Michel Quintin\": 173,\n",
      "        \"Eric S\\u00e9vigny\": 88,\n",
      "        \"BOBBIE KALMAN\": 81,\n",
      "        \"Anne-Marie Chalifoux\": 64,\n",
      "        \"Pierre Brignaud\": 60,\n",
      "        \"Jean Morin\": 58\n",
      "    },\n",
      "    \"editeurs_by_value\": {\n",
      "        \"Les \\u00c9ditions Qu\\u00e9bec-Livres\": 2282,\n",
      "        \"Libre Expression\": 1211,\n",
      "        \"Presses Aventure\": 979,\n",
      "        \"Tr\\u00e9carr\\u00e9\": 978,\n",
      "        \"VLB \\u00e9diteur\": 833,\n",
      "        \"Bayard Canada\": 782,\n",
      "        \"Michel Quintin\": 779,\n",
      "        \"Stank\\u00e9\": 759,\n",
      "        \"Les \\u00c9ditions de l'Hexagone\": 752,\n",
      "        \"La Courte \\u00e9chelle\": 734\n",
      "    },\n",
      "    \"sujet_principal_by_value\": {\n",
      "        \"FB\": 1270,\n",
      "        \"WZS\": 965,\n",
      "        \"YFB\": 892,\n",
      "        \"JM\": 688,\n",
      "        \"JNLB\": 519,\n",
      "        \"DC\": 417,\n",
      "        \"VX\": 249,\n",
      "        \"XAK\": 220,\n",
      "        \"MB\": 205,\n",
      "        \"SC\": 180\n",
      "    },\n",
      "    \"sujet_by_value\": {\n",
      "        \"FB\": 1288,\n",
      "        \"YFB\": 992,\n",
      "        \"WZS\": 966,\n",
      "        \"JM\": 690,\n",
      "        \"JNLB\": 519,\n",
      "        \"DC\": 423,\n",
      "        \"VX\": 251,\n",
      "        \"XAK\": 229,\n",
      "        \"MB\": 206,\n",
      "        \"SC\": 181\n",
      "    },\n",
      "    \"22-rdf-syntax-ns#type\": 15469,\n",
      "    \"22-rdf-syntax-ns#type_by_value\": {\n",
      "        \"http://www.sogides.com/classe/Livre\": 15469\n",
      "    },\n",
      "    \"name\": 15469,\n",
      "    \"name_by_value\": {\n",
      "        \"Garfield\": 25,\n",
      "        \"L'ann\\u00e9e de la science-fiction et du fantastique qu\\u00e9b\\u00e9cois\": 16,\n",
      "        \"Je r\\u00e9vise avec mon enfant\": 12,\n",
      "        \"R\\u00e9duisez vos imp\\u00f4ts\": 8,\n",
      "        \"Caillou\": 7,\n",
      "        \"Techniques d'impact pour grandir\": 7,\n",
      "        \"Les dragouilles\": 7,\n",
      "        \"Les Fridolinades\": 5,\n",
      "        \"Gu\\u00e9rir l'anxi\\u00e9t\\u00e9 de nos enfants\": 5,\n",
      "        \"L'homme rapaill\\u00e9\": 5\n",
      "    },\n",
      "    \"isbn\": 15469,\n",
      "    \"isbn_by_value\": {\n",
      "        \"0000000435970\": 1,\n",
      "        \"9782896512072\": 1,\n",
      "        \"9782896954759\": 1,\n",
      "        \"9782896605583\": 1,\n",
      "        \"9782764025628\": 1,\n",
      "        \"9782895623601\": 1,\n",
      "        \"9782896951819\": 1,\n",
      "        \"9782896513710\": 1,\n",
      "        \"9782760405745\": 1,\n",
      "        \"9782890896116\": 1\n",
      "    },\n",
      "    \"description\": 7076,\n",
      "    \"description_by_value\": {\n",
      "        \"Coloriages, labyrinthes, casse-t\\u00eate, jeux d'erreurs et d'associations.... P..\": 6,\n",
      "        \"Ce cahier propose plus de 60 activit\\u00e9s stimulantes pour s\\u2019amuser et apprend..\": 4,\n",
      "        \"Un tout-petit peut : <br />\\n<br />\\n\\u00e2\\u0080\\u00a2 chercher, montrer et associer <br />..\": 4,\n",
      "        \"Un album de bandes dessin\\u00e9es d'aventures de Garfield toutes en couleur!\": 4,\n",
      "        \"Du plaisir en bo\\u00eete! Voici 120 grilles de mots myst\\u00e8res de niveau facile \\u00e0 ..\": 3,\n",
      "        \"Apprends \\u00e0 jouer la chanson de Caillou avec ton livre-piano, puis amuse-toi..\": 3,\n",
      "        \"La nuit, quand les gens dorment, un monde s'agite dans l'ombre.\": 3,\n",
      "        \"Qu'il aboie joyeusement pour r\\u00e9clamer sa promenade ou qu'il vous r\\u00e9conforte..\": 3,\n",
      "        \"Accordez-vous une pause plaisir! Voici plus de 50 grilles de mots crois\\u00e9s d..\": 2,\n",
      "        \"Mordu de Garfield? Cette \\u00e9dition Poids lourd est pour vous! Retrouvez le c\\u00e9..\": 2\n",
      "    },\n",
      "    \"descriptionPromotionnelle\": 1464,\n",
      "    \"descriptionPromotionnelle_by_value\": {\n",
      "        \"Savais-tu? La collection des enfants curieux des b\\u00eates curieuses!\": 28,\n",
      "        \"D\\u00e9tendez-vous tout en cr\\u00e9ant de merveilleuses images\": 9,\n",
      "        \"Des documentaires humoristiques sur les animaux servis \\u00e0 la mani\\u00e8re BD. Un ..\": 8,\n",
      "        \"SAVAIS-TU ? La collection des enfants curieux des b\\u00eates curieuses!\": 6,\n",
      "        \"Carnet de dessins magiques et cr\\u00e9atifs hauts en couleur !\": 5,\n",
      "        \"Une saga historique avec intrigues et suspense \\u00e0 profusion\\u00c2\\u00a0!\": 5,\n",
      "        \"<span style=\\\"font-weight: bold;\\\">Cinq auteurs, cinq styles, cinq romans, ci..\": 5,\n",
      "        \"Collection de poche 10 sur 10, de grands ouvrages dans de petits livres.\": 4,\n",
      "        \"D\\u00e9couvrez ou red\\u00e9couvrez cette \\u00e9pop\\u00e9e qui a captiv\\u00e9 des millions d'admirateurs \\u00e0 travers le monde!\": 4,\n",
      "        \"Des carnets secrets color\\u00e9s avec les personnages pr\\u00e9f\\u00e9r\\u00e9s des enfants !\": 4\n",
      "    },\n",
      "    \"commentaire\": 75,\n",
      "    \"commentaire_by_value\": {\n",
      "        \"pr\\u00e9face<br/>Paul Chamberland, c\\u2019est Parti pris. Il est Parti pris po\\u00e8te, co..\": 1,\n",
      "        \"<STRONG>Dossier th\\u00e9matique : </STRONG><br/><STRONG>Le Qu\\u00e9bec et la premi\\u00e8re..\": 1,\n",
      "        \"Pr\\u00e9face de 1979<br/>\\u00c9crire debout<br/>\\u00c2\\u00a0<br/>De nos jours, les idoles pourr..\": 1,\n",
      "        \"Pierre Ouellet <br/>Lecture \\u00e0 vue, \\u00e9criture \\u00e0 voix <br/><I>Pr\\u00e9sentation </I..\": 1,\n",
      "        \"L'on a \\u00e9crit des choses magnifiques sur Tinamer, la d\\u00e9licieuse petite fille..\": 1,\n",
      "        \"<STRONG>Introduction</STRONG><br/>Pour un semblant d\\u2019amour, pour de l\\u2019argen..\": 1,\n",
      "        \"<B>Introduction</B><br/><br/><br/>[...] je voudrais que chacun ait grand so..\": 1,\n",
      "        \"Prologue <br/><br/>Nous sommes en l\\u2019an 1335, au temps o\\u00f9 les terres de Fran..\": 1,\n",
      "        \"Aucune analyse\": 1,\n",
      "        \"Glossaire<br/>Acceptation : Accepter l\\u2019autre, c\\u2019est le reconna\\u00eetre pleineme..\": 1\n",
      "    }\n",
      "}\n"
     ]
    }
   ],
   "source": [
    "g_book_ADP = rdflib.Graph()\n",
    "g_book_ADP.parse(\"../Graphes/grapheADPLivres.rdf\")\n",
    "g_author_ADP = rdflib.Graph()\n",
    "g_author_ADP.parse(\"../Graphes/grapheADPAuteurs.rdf\")\n",
    "g_editor_ADP = rdflib.Graph()\n",
    "g_editor_ADP.parse(\"../Graphes/grapheADPEditeurs.rdf\")\n",
    "\n",
    "stats_books_ADP = get_ADP_stats(g_book_ADP, g_author_ADP, g_editor_ADP)\n",
    "ADP_books = get_ADP_books_from_graph(g_book_ADP, g_author_ADP)\n",
    "\n",
    "print(json.dumps(format_result(stats_books_ADP), indent=4))"
   ],
   "metadata": {
    "collapsed": false,
    "pycharm": {
     "name": "#%%\n"
    }
   }
  },
  {
   "cell_type": "markdown",
   "source": [
    "#### Commentaires:\n",
    "On a 15469 livres référencés.\n",
    "- On a un isbn unique par livre: ADP fait la différence entre les éditions\n",
    "- On a un isbn pour chaque livre, pas d'isbn non indiqué\n",
    "- sujet théma présent pour 59% des livres\n",
    "- sujet théma principale présent pour 52% des livres\n",
    "- description présente pour 45% des livres\n",
    "- description promotionnelle présent pour 10% des livres\n",
    "- editeur présent pour tout les livres\n",
    "- titre présent pour tout les livres\n",
    "- 75 commentaire en tout\n",
    "\n",
    "#### Titre\n",
    "Pour le titre on normalise simplement:"
   ],
   "metadata": {
    "collapsed": false,
    "pycharm": {
     "name": "#%% md\n"
    }
   }
  },
  {
   "cell_type": "code",
   "execution_count": 3,
   "outputs": [
    {
     "name": "stdout",
     "output_type": "stream",
     "text": [
      "titre intial: GD DETOUR (LE)  titre traité:  gd detour\n"
     ]
    }
   ],
   "source": [
    "for exemple in ADP_books:\n",
    "    if \"(\" in exemple.title_raw:\n",
    "        print(\"titre intial:\", exemple.title_raw, \" titre traité: \", normalize(exemple.title_raw))\n",
    "        break"
   ],
   "metadata": {
    "collapsed": false,
    "pycharm": {
     "name": "#%%\n"
    }
   }
  },
  {
   "cell_type": "markdown",
   "source": [
    "#### Auteur\n",
    "Pour les auteurs, on normalise en utilisant la fonction de normalisation. Il n'y a pas besoin de traiter plus loin,\n",
    "car la séparation des auteurs est déjà effectuée dans le graph. On retire aussi les caractères '\"' qui sont redondants"
   ],
   "metadata": {
    "collapsed": false
   }
  },
  {
   "cell_type": "code",
   "execution_count": 4,
   "outputs": [
    {
     "name": "stdout",
     "output_type": "stream",
     "text": [
      "auteur(s) initial(s):  ['Stéphanie Milot', 'Isabelle (Dr) Rousseau-Caron'] auteur(s) traité:  ['stephanie milot', 'isabelle rousseau-caron']\n"
     ]
    }
   ],
   "source": [
    "for exemple in ADP_books:\n",
    "    good_exemple = False\n",
    "    if len(exemple.authors) > 1:\n",
    "        for author in exemple.authors_raw:\n",
    "            if '(' in author:\n",
    "                good_exemple = True\n",
    "    if good_exemple:\n",
    "        print(\"auteur(s) initial(s): \", exemple.authors_raw, \"auteur(s) traité: \", exemple.authors)\n",
    "        break"
   ],
   "metadata": {
    "collapsed": false,
    "pycharm": {
     "name": "#%%\n"
    }
   }
  },
  {
   "cell_type": "markdown",
   "source": [
    "#### Isbn\n",
    "Pour ADP, on sait que l'isbn est unique et qu'il sont tous des isbn 13.\n",
    "En revanche certains manquent le chiffre de contrôle. On se contente de le normaliser\n"
   ],
   "metadata": {
    "collapsed": false
   }
  },
  {
   "cell_type": "code",
   "execution_count": 5,
   "outputs": [
    {
     "name": "stdout",
     "output_type": "stream",
     "text": [
      "629048138522#\n",
      "exemple d'isbn avec le chiffre de controle manquant: \n",
      "isbn initial(s):  ['\"629048138522\"'] isbn traité:  ['629048138522#']\n",
      "exemple d'isbn 13 normalisé: \n",
      "isbn initial(s):  ['\"0000000435970\"'] isbn traité:  ['0000000435970']\n"
     ]
    }
   ],
   "source": [
    "for exemple in ADP_books:\n",
    "    if len(exemple.isbns_raw[0].replace(\"\\\"\", \"\")) == 12:\n",
    "        print(normalize_isbn(exemple.isbns_raw[0]))\n",
    "        print(\"exemple d'isbn avec le chiffre de controle manquant: \\nisbn initial(s): \", exemple.isbns_raw, \"isbn traité: \", exemple.isbns)\n",
    "        break\n",
    "for exemple in ADP_books:\n",
    "    if len(exemple.isbns_raw[0].replace(\"\\\"\", \"\")) == 13 and exemple.isbns_raw[0].replace(\"\\\"\", \"\")[-1] != 'X':\n",
    "        print(\"exemple d'isbn 13 normalisé: \\nisbn initial(s): \", exemple.isbns_raw, \"isbn traité: \", exemple.isbns)\n",
    "        break"
   ],
   "metadata": {
    "collapsed": false,
    "pycharm": {
     "name": "#%%\n"
    }
   }
  },
  {
   "cell_type": "markdown",
   "source": [
    "### ILE\n",
    "#### Global"
   ],
   "metadata": {
    "collapsed": false
   }
  },
  {
   "cell_type": "code",
   "execution_count": 6,
   "outputs": [],
   "source": [
    "with open(\"../Data/ILE/auteurs_ILE_comma_separated.csv\", 'r', encoding='ISO-8859-1') as authors_ILE_file:\n",
    "    csv_reader = csv.DictReader(authors_ILE_file, delimiter=',', fieldnames=[\n",
    "        'uri', 'nom', 'bio', 'genres', 'site', 'pseudonyme'])\n",
    "    authors_ILE_from_csv = [x for x in csv_reader]\n",
    "\n",
    "with open(\"../Data/ILE/oeuvres_ILE_comma_separated.csv\", 'r', encoding='ISO-8859-1') as books_ILE_file:\n",
    "    csv_reader = csv.DictReader(books_ILE_file, delimiter=',', fieldnames=[\n",
    "        'id', 'title', 'datePublished', 'author_uri', 'edition', 'publication_place', 'isbn'])\n",
    "    books_ILE_from_csv = [x for x in csv_reader]\n",
    "\n",
    "stats_books_ILE = get_stats_from_csv_reader(books_ILE_from_csv)\n",
    "stats_authors_ILE = get_stats_from_csv_reader(authors_ILE_from_csv)\n",
    "ILE_books = get_ILE_books_from_csv(books_ILE_from_csv, authors_ILE_from_csv)"
   ],
   "metadata": {
    "collapsed": false,
    "pycharm": {
     "name": "#%%\n"
    }
   }
  },
  {
   "cell_type": "markdown",
   "source": [
    "Livres:"
   ],
   "metadata": {
    "collapsed": false,
    "pycharm": {
     "name": "#%% md\n"
    }
   }
  },
  {
   "cell_type": "code",
   "execution_count": 7,
   "outputs": [
    {
     "name": "stdout",
     "output_type": "stream",
     "text": [
      "{\n",
      "    \"total\": 27109,\n",
      "    \"id\": 27109,\n",
      "    \"id_by_value\": {\n",
      "        \"23967\": 1,\n",
      "        \"23770\": 1,\n",
      "        \"25213\": 1,\n",
      "        \"21714\": 1,\n",
      "        \"25095\": 1,\n",
      "        \"25542\": 1,\n",
      "        \"19766\": 1,\n",
      "        \"18901\": 1,\n",
      "        \"19764\": 1,\n",
      "        \"21715\": 1\n",
      "    },\n",
      "    \"title\": 27109,\n",
      "    \"title_by_value\": {\n",
      "        \"Maria Chapdelaine\": 75,\n",
      "        \"Les Anciens Canadiens\": 21,\n",
      "        \"Agaguk\": 19,\n",
      "        \"Po\\u00c3\\u00a8mes\": 19,\n",
      "        \"Le Survenant\": 18,\n",
      "        \"L'Oubli\\u00c3\\u00a9\": 16,\n",
      "        \"Une de perdue, deux de trouv\\u00c3\\u00a9es\": 15,\n",
      "        \"Un homme et son p\\u00c3\\u00a9ch\\u00c3\\u00a9\": 15,\n",
      "        \"Adagio\": 15,\n",
      "        \"Les insolences du fr\\u00c3\\u00a8re Untel\": 14\n",
      "    },\n",
      "    \"datePublished\": 27109,\n",
      "    \"datePublished_by_value\": {\n",
      "        \"2009\": 857,\n",
      "        \"2006\": 781,\n",
      "        \"2007\": 762,\n",
      "        \"2008\": 749,\n",
      "        \"2000\": 709,\n",
      "        \"2005\": 701,\n",
      "        \"2010\": 698,\n",
      "        \"1997\": 697,\n",
      "        \"1999\": 697,\n",
      "        \"2001\": 691\n",
      "    },\n",
      "    \"author_uri\": 27109,\n",
      "    \"author_uri_by_value\": {\n",
      "        \"http://recif.litterature.org/recherche/ecrivains/groulx-lionel-241/\": 208,\n",
      "        \"http://recif.litterature.org/recherche/ecrivains/theriault-yves-443/\": 203,\n",
      "        \"http://recif.litterature.org/recherche/ecrivains/tremblay-michel-449/\": 202,\n",
      "        \"http://recif.litterature.org/recherche/ecrivains/tibo-gilles-446/\": 197,\n",
      "        \"http://recif.litterature.org/recherche/ecrivains/bergeron-alain-m.-1119/\": 178,\n",
      "        \"http://recif.litterature.org/recherche/ecrivains/major-henriette-318/\": 151,\n",
      "        \"http://recif.litterature.org/recherche/ecrivains/blais-marie-claire-1/\": 149,\n",
      "        \"http://recif.litterature.org/recherche/ecrivains/gagnon-cecile-211/\": 148,\n",
      "        \"http://recif.litterature.org/recherche/ecrivains/paradis-raymond-1269/\": 142,\n",
      "        \"http://recif.litterature.org/recherche/ecrivains/beaulieu-victor-levy-58/\": 141\n",
      "    },\n",
      "    \"edition\": 27109,\n",
      "    \"edition_by_value\": {\n",
      "        \"Fides, Collection du n\\u00c3\\u00a9nuphar\": 60,\n",
      "        \"Dominique et compagnie, 2009\": 38,\n",
      "        \"La Courte \\u00c3\\u00a9chelle, 2001\": 36,\n",
      "        \"La Courte \\u00c3\\u00a9chelle, 2009\": 31,\n",
      "        \"Qu\\u00c3\\u00a9bec Am\\u00c3\\u00a9rique, 2009\": 28,\n",
      "        \"Dominique et compagnie, 2010\": 25,\n",
      "        \"les Editions de l'Homme\": 24,\n",
      "        \"Dominique et compagnie, \\u00c3\\u0080 pas de loup. Niveau 3\": 24,\n",
      "        \"Dominique et compagnie, 2012\": 22,\n",
      "        \"Les \\u00c3\\u0089ditions de l'Homme\": 22\n",
      "    },\n",
      "    \"publication_place\": 27109,\n",
      "    \"publication_place_by_value\": {\n",
      "        \"Montr\\u00c3\\u00a9al\": 11618,\n",
      "        \"[Montr\\u00c3\\u00a9al]\": 1676,\n",
      "        \"Qu\\u00c3\\u00a9bec\": 1310,\n",
      "        \"Saint-Lambert\": 1102,\n",
      "        \"Paris\": 845,\n",
      "        \"Saint-Laurent\": 615,\n",
      "        \"Trois-Rivi\\u00c3\\u00a8res\": 533,\n",
      "        \"Toronto\": 516,\n",
      "        \"\": 494,\n",
      "        \"Laval\": 346\n",
      "    },\n",
      "    \"isbn\": 27109,\n",
      "    \"isbn_by_value\": {\n",
      "        \"\\n\": 5931,\n",
      "        \"(Br.)\\n\": 163,\n",
      "        \" Br.\\n\": 70,\n",
      "        \" (Br.)\\n\": 46,\n",
      "        \" Br\\n\": 43,\n",
      "        \"(Rel.)\\n\": 37,\n",
      "        \" Rel\\n\": 30,\n",
      "        \" (Rel.)\\n\": 16,\n",
      "        \"2-7644-0049-7\\n\": 13,\n",
      "        \"2890456145 (br.)\\n\": 7\n",
      "    }\n",
      "}\n"
     ]
    }
   ],
   "source": [
    "print(json.dumps(format_result(stats_books_ILE), indent=4))"
   ],
   "metadata": {
    "collapsed": false,
    "pycharm": {
     "name": "#%%\n"
    }
   }
  },
  {
   "cell_type": "markdown",
   "source": [
    "Auteurs:"
   ],
   "metadata": {
    "collapsed": false,
    "pycharm": {
     "name": "#%% md\n"
    }
   }
  },
  {
   "cell_type": "code",
   "execution_count": 8,
   "outputs": [
    {
     "name": "stdout",
     "output_type": "stream",
     "text": [
      "{\n",
      "    \"total\": 1791,\n",
      "    \"uri\": 1791,\n",
      "    \"uri_by_value\": {\n",
      "        \"http://recif.litterature.org/recherche/ecrivains/.-nathanael-825/\": 1,\n",
      "        \"http://recif.litterature.org/recherche/ecrivains/acquelin-jose-27/\": 1,\n",
      "        \"http://recif.litterature.org/recherche/ecrivains/adam-monique-1679/\": 1,\n",
      "        \"http://recif.litterature.org/recherche/ecrivains/agnant-marie-celie-885/\": 1,\n",
      "        \"http://recif.litterature.org/recherche/ecrivains/ajoul-hassan-1577/\": 1,\n",
      "        \"http://recif.litterature.org/recherche/ecrivains/al-yasiri-issa-hassan-1905/\": 1,\n",
      "        \"http://recif.litterature.org/recherche/ecrivains/alain-sonia-1345/\": 1,\n",
      "        \"http://recif.litterature.org/recherche/ecrivains/alarie-donald-28/\": 1,\n",
      "        \"http://recif.litterature.org/recherche/ecrivains/alavo-yves-1633/\": 1,\n",
      "        \"http://recif.litterature.org/recherche/ecrivains/albert-michel-1262/\": 1\n",
      "    },\n",
      "    \"nom\": 1791,\n",
      "    \"nom_by_value\": {\n",
      "        \"B\\u00c3\\u00a9langer\\\\, Nicole\": 2,\n",
      "        \"Boucher\\\\, Denise\": 2,\n",
      "        \"Dupuis\\\\, Gilbert\": 2,\n",
      "        \"Laberge\\\\, Marie\": 2,\n",
      "        \".\\\\, Nathana\\u00c3\\u00abl\": 1,\n",
      "        \"Acquelin\\\\, Jos\\u00c3\\u00a9\": 1,\n",
      "        \"Adam\\\\, Monique\": 1,\n",
      "        \"Agnant\\\\, Marie-C\\u00c3\\u00a9lie\": 1,\n",
      "        \"Ajoul\\\\, Hassan\": 1,\n",
      "        \"Al-Yasiri\\\\, Issa Hassan\": 1\n",
      "    },\n",
      "    \"bio\": 1791,\n",
      "    \"bio_by_value\": {\n",
      "        \"Roman\": 259,\n",
      "        \"Po\\u00c3\\u00a9sie\": 203,\n",
      "        \"Essai-\\u00c3\\u00a9tude\": 108,\n",
      "        \"Jeunesse\": 96,\n",
      "        \"Nouvelle\\\\,Roman\": 92,\n",
      "        \"Po\\u00c3\\u00a9sie\\\\,Roman\": 66,\n",
      "        \"Jeunesse\\\\,Roman\": 55,\n",
      "        \"Essai-\\u00c3\\u00a9tude\\\\,Roman\": 54,\n",
      "        \"Essai-\\u00c3\\u00a9tude\\\\,Po\\u00c3\\u00a9sie\": 49,\n",
      "        \"Essai-\\u00c3\\u00a9tude\\\\,Po\\u00c3\\u00a9sie\\\\,Roman\": 37\n",
      "    },\n",
      "    \"genres\": 1791,\n",
      "    \"genres_by_value\": {\n",
      "        \" \": 1741,\n",
      "        \"Aisa H. Hashim\": 1,\n",
      "        \"Emmanuel Kraxi\": 1,\n",
      "        \"Dominique Nantel\": 1,\n",
      "        \"Isabelle Berrubey\": 1,\n",
      "        \"Ivy\": 1,\n",
      "        \"JAB\": 1,\n",
      "        \"Paul Aner\": 1,\n",
      "        \"Jean du Pays\": 1,\n",
      "        \"AUDE\": 1\n",
      "    },\n",
      "    \"site\": 1791,\n",
      "    \"site_by_value\": {\n",
      "        \" \": 1284,\n",
      "        \"www.editions-melibee.com/livre.php?isbn=9782362520990\": 1,\n",
      "        \"soniaalain.com.overblog.com\": 1,\n",
      "        \"www.yvesalavo.ca\": 1,\n",
      "        \"www.ritaamabili.com\": 1,\n",
      "        \"www.joseeamesse.com\": 1,\n",
      "        \"www.lindaamyot.com\": 1,\n",
      "        \"www.michelleanctil.info\": 1,\n",
      "        \"bernardandres.com\": 1,\n",
      "        \"www.bernardanton.com\": 1\n",
      "    },\n",
      "    \"pseudonyme\": 1791,\n",
      "    \"pseudonyme_by_value\": {\n",
      "        \"\\n\": 62,\n",
      "        \"Notice biographique\\nNathana\\u00c3\\u00abl est n\\u00c3\\u00a9e \\u00c3\\u00a0 Montr\\u00c3\\u00a9al en 1970. Essayiste\\\\, p..\": 1,\n",
      "        \"Notice biographique\\n(Montr\\u00c3\\u00a9al\\\\, le 4 avril 1956 - ) Po\\u00c3\\u00a8te\\\\, Jos\\u00c3\\u00a9 Acqueli..\": 1,\n",
      "        \"Notice biographique\\n N\\u00c3\\u00a9e \\u00c3\\u00a0 Montr\\u00c3\\u00a9al en juillet 1949\\\\, Monique Adam vit a..\": 1,\n",
      "        \"Notice biographique\\n(Port-au-Prince\\\\, Ha\\u00c3\\u00afti\\\\, 1953 - ) N\\u00c3\\u00a9e \\u00c3\\u00a0 Port-au-Pri..\": 1,\n",
      "        \"Notice biographique\\n(Casablanca\\\\, le 31 ao\\u00c3\\u00bbt 1956 - ) Hassan Ajoul a v\\u00c3\\u00a9cu..\": 1,\n",
      "        \"Notice biographique\\nPo\\u00c3\\u00a8te canadien d\\u00e2\\u0080\\u0099origine irakienne\\\\, Issa Hassan Al-..\": 1,\n",
      "        \"Notice biographique\\n(Matane\\\\, 1968-) Apr\\u00c3\\u00a8s avoir fait son DEC en sciences ..\": 1,\n",
      "        \"Notice biographique\\n(Montr\\u00c3\\u00a9al\\\\,1945- ). Donald Alarie a fait des \\u00c3\\u00a9tudes \\u00c3..\": 1,\n",
      "        \"Notice biographique\\nPo\\u00c3\\u00a8te\\\\, Yves Alavo a publi\\u00c3\\u00a9 Bleu de lune et soleil d\\u00e2..\": 1\n",
      "    }\n",
      "}\n"
     ]
    }
   ],
   "source": [
    "print(json.dumps(format_result(stats_authors_ILE), indent=4))"
   ],
   "metadata": {
    "collapsed": false,
    "pycharm": {
     "name": "#%%\n"
    }
   }
  },
  {
   "cell_type": "markdown",
   "source": [
    "#### Commentaires\n",
    "27109 livres au total\n",
    "- 5931 isbn vide : soit 21%\n",
    "- 405 isbn sont composé de seulement de texte entre parenthèse\n",
    "exemple d'isbn\n",
    "\n",
    "#### titre\n",
    "Pour le titre on normalise simplement\n",
    "On peut remaquer quelques problèmes, par exemples nous n'avons pas le titre\n",
    "pour certains livres"
   ],
   "metadata": {
    "collapsed": false,
    "pycharm": {
     "name": "#%% md\n"
    }
   }
  },
  {
   "cell_type": "code",
   "execution_count": 9,
   "outputs": [
    {
     "name": "stdout",
     "output_type": "stream",
     "text": [
      "exemple simple: titre intial: Absence Where As (Claude Cahun and the Unopened Book)  titre traité:  absence where as\n",
      "titre non existant: titre intial: (Sainte-Famille)  titre traité:  \n"
     ]
    }
   ],
   "source": [
    "for exemple in ILE_books:\n",
    "    if \"(\" in exemple.title_raw:\n",
    "        print(\"exemple simple: titre intial:\", exemple.title_raw, \" titre traité: \", exemple.title)\n",
    "        break\n",
    "for exemple in ILE_books:\n",
    "    if not exemple.title:\n",
    "        print(\"titre non existant: titre intial:\", exemple.title_raw, \" titre traité: \", exemple.title)\n",
    "        break"
   ],
   "metadata": {
    "collapsed": false,
    "pycharm": {
     "name": "#%%\n"
    }
   }
  },
  {
   "cell_type": "markdown",
   "source": [
    "#### auteur\n",
    "Pour les auteurs, on normalise en utilisant la fonction de normalisation. Il n'y a pas besoin de traiter plus loin,\n",
    "car la séparation des auteurs est déjà effectuée dans le graph. On retire aussi les caractères '\"' qui sont redondants"
   ],
   "metadata": {
    "collapsed": false
   }
  },
  {
   "cell_type": "code",
   "execution_count": 10,
   "outputs": [
    {
     "name": "stdout",
     "output_type": "stream",
     "text": [
      "auteur(s) initial(s):  [' Marie-CÃ©lie Agnant\\\\'] auteur(s) traité:  ['marie-celie agnant']\n"
     ]
    }
   ],
   "source": [
    "for exemple in ILE_books:\n",
    "    good_exemple = False\n",
    "    for author in exemple.authors_raw:\n",
    "        if '-' in author:\n",
    "            good_exemple = True\n",
    "    if good_exemple:\n",
    "        print(\"auteur(s) initial(s): \", exemple.authors_raw, \"auteur(s) traité: \", exemple.authors)\n",
    "        break"
   ],
   "metadata": {
    "collapsed": false,
    "pycharm": {
     "name": "#%%\n"
    }
   }
  },
  {
   "cell_type": "markdown",
   "source": [
    "#### isbn\n",
    "Pour ILE, on sait que l'isbn peut être multiple et de forme variée\n",
    "(séparé par des caractères: \"-\", et suivit de parenthèses), une première division s'est faite dans le graph\n",
    "mais cela demande une deuxième passe, notament pour les séparateurs \"|\" et \";\". On normalise par la suite.\n",
    "On peut remarque que certains livres ont une liste conséquente d'isbn"
   ],
   "metadata": {
    "collapsed": false
   }
  },
  {
   "cell_type": "code",
   "execution_count": 11,
   "outputs": [
    {
     "name": "stdout",
     "output_type": "stream",
     "text": [
      "exemple d'isbn 13 normalisé: \n",
      "isbn initial(s):  ['978614419332\\n'] isbn traité:  ['978614419332#']\n",
      "exemple d'isbn 10 normalisé: \n",
      "isbn initial(s):  ['276214713\\n'] isbn traité:  ['276214713']\n",
      "exemple d'isbn séparable par '|':  ['978-2-89428-937-2 (br.)|2-89428-937-5\\n']... isbn traité:  ['97828942...\n",
      "nb d'isbn:  1\n"
     ]
    }
   ],
   "source": [
    "for exemple in ILE_books:\n",
    "    found = False\n",
    "    for isbn in exemple.isbns_raw:\n",
    "        if len(isbn.replace(\"\\\"\", \"\").replace(\"-\", \"\")) == 13 and isbn.replace(\"\\\"\", \"\")[-1] != 'X':\n",
    "            found = True\n",
    "    if found:\n",
    "        print(\"exemple d'isbn 13 normalisé: \\nisbn initial(s): \", exemple.isbns_raw, \"isbn traité: \", exemple.isbns)\n",
    "        break\n",
    "\n",
    "for exemple in ILE_books:\n",
    "    found = False\n",
    "    for isbn in exemple.isbns_raw:\n",
    "        if len(isbn.replace(\"\\\"\", \"\").replace(\"-\", \"\")) == 10 and isbn.replace(\"\\\"\", \"\")[-1] != 'X':\n",
    "            found = True\n",
    "    if found:\n",
    "        print(\"exemple d'isbn 10 normalisé: \\nisbn initial(s): \", exemple.isbns_raw, \"isbn traité: \", exemple.isbns)\n",
    "        break\n",
    "\n",
    "for exemple in ILE_books:\n",
    "    good_example = False\n",
    "    for isbn in exemple.isbns_raw:\n",
    "        for isbn in exemple.isbns_raw:\n",
    "            if \"|\" in isbn:\n",
    "                good_example = True\n",
    "    if good_example:\n",
    "        print(\"exemple d'isbn séparable par '|': \", str(exemple.isbns_raw)[0:100] + \"...\", \"isbn traité: \", str(exemple.isbns)[0:10] + \"...\")\n",
    "        print('nb d\\'isbn: ', len(exemple.isbns_raw))\n",
    "        break\n",
    "\n",
    "for exemple in ILE_books:\n",
    "    if len(exemple.isbns) > 10:\n",
    "        print(\"exemple de livre avec plus de 10 isbn \\nisbn initial(s): \", str(exemple.isbns_raw)[0:100] + \"...\", \"isbn traité: \", str(exemple.isbns)[0:10] + \"...\")\n",
    "        print('nb d\\'isbn: ', len(exemple.isbns))\n",
    "        break"
   ],
   "metadata": {
    "collapsed": false,
    "pycharm": {
     "name": "#%%\n"
    }
   }
  },
  {
   "cell_type": "markdown",
   "source": [
    "Nous allons maintenant analyser le nombre d'isbn par livres"
   ],
   "metadata": {
    "collapsed": false,
    "pycharm": {
     "name": "#%% md\n"
    }
   }
  },
  {
   "cell_type": "code",
   "execution_count": 12,
   "outputs": [
    {
     "name": "stdout",
     "output_type": "stream",
     "text": [
      "exemple de texte entre parenthèses dans les isbns:  (br.) :  8892\n",
      "exemple de texte entre parenthèses dans les isbns:  (rel.) :  648\n",
      "exemple de texte entre parenthèses dans les isbns:  (vol. 1) :  147\n",
      "exemple de texte entre parenthèses dans les isbns:  (vol. 2) :  121\n",
      "exemple de texte entre parenthèses dans les isbns:  (t. 1) :  88\n",
      "exemple de texte entre parenthèses dans les isbns:  (rel. Ã  spirale) :  72\n",
      "exemple de texte entre parenthèses dans les isbns:  (vol. 3) :  58\n",
      "exemple de texte entre parenthèses dans les isbns:  (Ãcrits des Forges) :  57\n",
      "exemple de texte entre parenthèses dans les isbns:  (LemÃ©ac) :  56\n",
      "exemple de texte entre parenthèses dans les isbns:  (Actes sud) :  55\n",
      "exemple de texte entre parenthèses dans les isbns:  (br) :  53\n",
      "exemple de texte entre parenthèses dans les isbns:  (t. 2) :  52\n",
      "exemple de texte entre parenthèses dans les isbns:  (t. 3) :  31\n",
      "exemple de texte entre parenthèses dans les isbns:  (cart.) :  25\n",
      "exemple de texte entre parenthèses dans les isbns:  (erronÃ©) :  22\n",
      "exemple de texte entre parenthèses dans les isbns:  (rel. dans un emboÃ®tage) :  20\n",
      "exemple de texte entre parenthèses dans les isbns:  (en feuilles) :  18\n",
      "exemple de texte entre parenthèses dans les isbns:  (ensemble) :  17\n",
      "exemple de texte entre parenthèses dans les isbns:  (vol. 4) :  17\n",
      "exemple de texte entre parenthèses dans les isbns:  (t. 4) :  15\n",
      "exemple de texte entre parenthèses dans les isbns:  (NoroÃ®t) :  14\n",
      "exemple de texte entre parenthèses dans les isbns:  (UNAM) :  13\n",
      "exemple de texte entre parenthèses dans les isbns:  (rectifiÃ©) :  13\n",
      "exemple de texte entre parenthèses dans les isbns:  (Ãcrits des forges) :  11\n",
      "exemple de texte entre parenthèses dans les isbns:  (Castor astral) :  11\n",
      "exemple de texte entre parenthèses dans les isbns:  (Mantis) :  10\n",
      "exemple de texte entre parenthèses dans les isbns:  (XYZ) :  10\n",
      "exemple de texte entre parenthèses dans les isbns:  (Actes Sud) :  10\n",
      "exemple de texte entre parenthèses dans les isbns:  (Phi) :  8\n",
      "exemple de texte entre parenthèses dans les isbns:  (vol.1) :  8\n",
      "\n",
      "Nombre d'isbn par livre\n",
      "19494  livres ont  1  isbns\n",
      "793  livres ont  2  isbns\n",
      "87  livres ont  3  isbns\n",
      "34  livres ont  4  isbns\n",
      "9  livres ont  5  isbns\n",
      "6  livres ont  6  isbns\n",
      "1  livres ont  7  isbns\n",
      "2  livres ont  8  isbns\n",
      "1  livres ont  13  isbns\n",
      "1  livres ont  14  isbns\n",
      "\n",
      "Nombre d'isbn avec séparation par block (ex: '2-7644-0049-7'):  13487  et sans:  8102\n",
      "\n",
      "Test de récupération des editeurs a partir des isbns et inversement\n",
      "{\n",
      "    \"edition and isbn\": {\n",
      "        \"[Editions Hurtubise], Marc et Mathilde d\\u00c3\\u00a9couvrent le monde des math\\u00c3\\u00a9matiq..\": 7,\n",
      "        \"des presses \\u00c3\\u00a0 vapeur de \\\"l'\\u00c3\\u0089tendard\\\", 1884, 44 p. ; 23 cm. (Br.)\\n\": 4,\n",
      "        \"Carufel & Ayotte libraires-\\u00c3\\u00a9diteurs, 1881, 31 p., [19] f. ; 21 cm. (Br.)\\n\": 4,\n",
      "        \"Maison Alfred Mame & fils ; Montr\\u00c3\\u00a9al (Br.)\\n\": 3,\n",
      "        \"\\u00c3\\u0089cole sociale populaire Secr\\u00c3\\u00a9tariat de l'\\u00c3\\u0089.S.P. (Br.)\\n\": 3,\n",
      "        \"Triptyque, 2004, 185 p. ; 23 cm. 2-89031-512-6 (br.)\\n\": 2,\n",
      "        \"Gu\\u00c3\\u00a9rin litt\\u00c3\\u00a9rature, 1998, 316 p. ; 25 cm. 2-7601-4698-7 (br.)\\n\": 2,\n",
      "        \"XYZ, Romanichels plus, 2004, vol. 2-89261-390-6 (t. 1) (br.)\\n\": 2,\n",
      "        \"Lanct\\u00c3\\u00b4t, Cahiers Jacques-Ferron ; cahier 11, 2004, 146 p. ; 23 cm. 2-89485-290-8 (br.)\\n\": 2,\n",
      "        \"Souli\\u00c3\\u00a8res, Collection Chat de goutti\\u00c3\\u00a8re ; 11, 2004, 101 p. 2-89607-000-1(br.)\\n\": 2\n",
      "    },\n",
      "    \"isbn\": {\n",
      "        \"2-89430-635-0 (rel.)\\n\": 1,\n",
      "        \"2-89430-742-X (rel.)\\n\": 1\n",
      "    },\n",
      "    \"edition\": {\n",
      "        \"Fides, Collection du n\\u00c3\\u00a9nuphar\": 59,\n",
      "        \"Dominique et compagnie, 2009\": 38,\n",
      "        \"La Courte \\u00c3\\u00a9chelle, 2001\": 36,\n",
      "        \"Dominique et compagnie, 2010\": 25,\n",
      "        \"Qu\\u00c3\\u00a9bec Am\\u00c3\\u00a9rique, 2009\": 25,\n",
      "        \"les Editions de l'Homme\": 24,\n",
      "        \"La Courte \\u00c3\\u00a9chelle, 2009\": 23,\n",
      "        \"Dominique et compagnie, 2012\": 22,\n",
      "        \"Les \\u00c3\\u0089ditions de l'Homme\": 22,\n",
      "        \"Bor\\u00c3\\u00a9al, 2009\": 20\n",
      "    }\n",
      "}\n"
     ]
    }
   ],
   "source": [
    "exemple = {}\n",
    "compte = {}\n",
    "compte_minus = {\"sans\":0, \"avec\":0}\n",
    "\n",
    "for isbn_ls in stats_books_ILE[\"isbn_by_value\"]:\n",
    "    isbn_ls = re.split(\"[|;,]\", isbn_ls)\n",
    "    if len(isbn_ls) not in compte:\n",
    "        compte[len(isbn_ls)] = 0\n",
    "    compte[len(isbn_ls)] += 1\n",
    "    for isbn in isbn_ls:\n",
    "        if isbn:\n",
    "            if \"-\" in isbn:\n",
    "                compte_minus[\"avec\"] += 1\n",
    "            else:\n",
    "                compte_minus[\"sans\"] += 1\n",
    "            if \"(\" in isbn:\n",
    "                txt_parentheses = text_between_parentheses(isbn)\n",
    "                for ex in txt_parentheses:\n",
    "                    if ex not in exemple:\n",
    "                        exemple[ex] = 0\n",
    "                    exemple[ex] += 1\n",
    "exemple = [(k, v) for k, v in sorted(exemple.items(), key=lambda item: item[1], reverse=True)]\n",
    "compte = [(k, v) for k, v in sorted(compte.items(), key=lambda item: item[0], reverse=False)]\n",
    "for ex, nb in exemple[:30]:\n",
    "    print(\"exemple de texte entre parenthèses dans les isbns: \", ex, \": \", nb)\n",
    "\n",
    "print(\"\\nNombre d'isbn par livre\")\n",
    "for cpt, nb in compte:\n",
    "    print(nb, \" livres ont \", cpt, \" isbns\")\n",
    "print(\"\\nNombre d'isbn avec séparation par block (ex: '2-7644-0049-7'): \", compte_minus[\"avec\"], ' et sans: ', compte_minus[\"sans\"])\n",
    "\n",
    "print(\"\\nTest de récupération des editeurs a partir des isbns et inversement\")\n",
    "isbn_editor_count = {\"edition and isbn\": 0, \"isbn\": 0, \"edition\": 0, \"None\": 0}\n",
    "isbn_editor_by_value = {\"edition and isbn\": {}, \"isbn\": {}, \"edition\": {}}\n",
    "for book in books_ILE_from_csv:\n",
    "    if normalize(book[\"edition\"]) and text_between_parentheses(book[\"isbn\"]):\n",
    "        isbn_editor_count[\"edition and isbn\"] += 1\n",
    "        if book[\"edition\"] + \" \" + book[\"isbn\"] not in isbn_editor_by_value[\"edition and isbn\"]:\n",
    "            isbn_editor_by_value[\"edition and isbn\"][book[\"edition\"] + \" \" + book[\"isbn\"]] = 0\n",
    "        isbn_editor_by_value[\"edition and isbn\"][book[\"edition\"] + \" \" + book[\"isbn\"]] += 1\n",
    "    elif text_between_parentheses(book[\"isbn\"]):\n",
    "        if book[\"isbn\"] not in isbn_editor_by_value[\"isbn\"]:\n",
    "            isbn_editor_by_value[\"isbn\"][book[\"isbn\"]] = 0\n",
    "        isbn_editor_by_value[\"isbn\"][book[\"isbn\"]] += 1\n",
    "        isbn_editor_count[\"isbn\"] += 1\n",
    "    elif normalize(book[\"edition\"]):\n",
    "        if book[\"edition\"] not in isbn_editor_by_value[\"edition\"]:\n",
    "            isbn_editor_by_value[\"edition\"][book[\"edition\"]] = 0\n",
    "        isbn_editor_by_value[\"edition\"][book[\"edition\"]] += 1\n",
    "        isbn_editor_count[\"edition\"] += 1\n",
    "    else:\n",
    "        isbn_editor_count[\"None\"] += 1\n",
    "print(json.dumps(format_result(isbn_editor_by_value), indent=4))"
   ],
   "metadata": {
    "collapsed": false,
    "pycharm": {
     "name": "#%%\n"
    }
   }
  },
  {
   "cell_type": "markdown",
   "source": [
    "- On peut voir que l'on peut pas récupérerl'information de l'éditeur à partir des parenthèses des isbns, car si l'editeur est entre parenthèse, le champs \"éditeur\" n'est pas vide\n",
    "- certain livres ont plusieur isbn: 793 livres ont 2 isbn, 87 en ont 3, etc....\n",
    "- les informations entre parenthèses sont multiples: \n",
    "    - \"br.\" (8892)\n",
    "    - \"rel.\" (648)\n",
    "    - \"vol.\" \n",
    "    - \"t.\"\n",
    "    - editeurs\n",
    "- les autres informations sont prinicpalements complêtes, pas de problème majeur.\n",
    "\n",
    "### Dépot-légal (Donnée originale, avant changement)\n",
    "#### Global"
   ],
   "metadata": {
    "collapsed": false
   }
  },
  {
   "cell_type": "code",
   "execution_count": 13,
   "outputs": [],
   "source": [
    "g_book_DL = rdflib.Graph()\n",
    "g_book_DL.parse(\"../Graphes/grapheDepotLegal.rdf\")\n",
    "stats_books_DL = get_depot_legal_stats_from_graph(g_book_DL)\n",
    "stats_books_DL_csv = get_depot_legal_stats()\n",
    "DL_books = get_depot_legal_books_from_graph(g_book_DL)\n",
    "DL_authors, _ = generate_all_authors(DL_books, save=False)"
   ],
   "metadata": {
    "collapsed": false,
    "pycharm": {
     "name": "#%%\n"
    }
   }
  },
  {
   "cell_type": "markdown",
   "source": [
    "Depuis le graph:"
   ],
   "metadata": {
    "collapsed": false,
    "pycharm": {
     "name": "#%% md\n"
    }
   }
  },
  {
   "cell_type": "code",
   "execution_count": 14,
   "outputs": [
    {
     "name": "stdout",
     "output_type": "stream",
     "text": [
      "{\n",
      "    \"total\": 56962,\n",
      "    \"auteurs\": 57499,\n",
      "    \"editeurs\": 56962,\n",
      "    \"auteurs_by_value\": {\n",
      "        \" \": 14508,\n",
      "        \"Gilles Tibo\": 203,\n",
      "        \"Robyn Bryant\": 157,\n",
      "        \"Val\\u00e9rie M\\u00e9nard\": 134,\n",
      "        \"Dominique Jolin\": 134,\n",
      "        \"Alain M. Bergeron\": 130,\n",
      "        \"Richard Petit\": 113,\n",
      "        \"Laurent Chabin\": 112,\n",
      "        \"Philip Amsel\": 107,\n",
      "        \"Lucie Papineau\": 104\n",
      "    },\n",
      "    \"editeurs_by_value\": {\n",
      "        \"Courte \\u00c9chelle\": 1705,\n",
      "        \"Lem\\u00e9ac \\u00e9diteur\": 1663,\n",
      "        \"\\u00c9ditions H\\u00e9ritage\": 1655,\n",
      "        \"\\u00c9ditions AdA\": 1500,\n",
      "        \"\\u00c9ditions Hurtubise\": 1470,\n",
      "        \"\\u00c9ditions Qu\\u00e9bec Am\\u00e9rique, QA International\": 1428,\n",
      "        \"\\u00c9ditions Phidal\": 1316,\n",
      "        \"Dominique et compagnie\": 1161,\n",
      "        \"\\u00c9ditions du Bor\\u00e9al\": 1007,\n",
      "        \"Presses Aventure\": 937\n",
      "    },\n",
      "    \"http://www.w3.org/1999/02/22-rdf-syntax-ns#type\": 56962,\n",
      "    \"http://www.w3.org/1999/02/22-rdf-syntax-ns#type_by_value\": {\n",
      "        \"http://dbpedia.org/ontology/Book\": 56962\n",
      "    },\n",
      "    \"https://schema.org/author\": 0,\n",
      "    \"https://schema.org/inLanguage\": 56962,\n",
      "    \"https://schema.org/inLanguage_by_value\": {\n",
      "        \"Fran\\u00e7ais\": 52153,\n",
      "        \"Anglais\": 3298,\n",
      "        \"Autres\": 917,\n",
      "        \"Multilingue\": 578,\n",
      "        \"\": 16\n",
      "    },\n",
      "    \"https://schema.org/name\": 56962,\n",
      "    \"https://schema.org/name_by_value\": {\n",
      "        \"Caillou\": 157,\n",
      "        \"Nouvelles histoires dr\\u00f4les\": 87,\n",
      "        \"Garfield\": 83,\n",
      "        \"Histoires dr\\u00f4les\": 51,\n",
      "        \"Pinocchio\": 36,\n",
      "        \"Les chevaliers d'\\u00c9meraude\": 35,\n",
      "        \"Barbie\": 33,\n",
      "        \"Les trois petits cochons\": 32,\n",
      "        \"Kaboum\": 29,\n",
      "        \"Les couleurs\": 29\n",
      "    },\n",
      "    \"https://schema.org/publisher\": 0,\n",
      "    \"https://schema.org/datePublished\": 56962,\n",
      "    \"https://schema.org/datePublished_by_value\": {\n",
      "        \"2016\": 4163,\n",
      "        \"2015\": 3657,\n",
      "        \"2017\": 3352,\n",
      "        \"2014\": 3296,\n",
      "        \"2013\": 3271,\n",
      "        \"2012\": 3038,\n",
      "        \"2010\": 2915,\n",
      "        \"2009\": 2906,\n",
      "        \"2011\": 2838,\n",
      "        \"2008\": 2744\n",
      "    },\n",
      "    \"https://schema.org/isbn\": 82185,\n",
      "    \"https://schema.org/isbn_by_value\": {\n",
      "        \"9782896605705\": 54,\n",
      "        \"9782896600984\": 53,\n",
      "        \"2895433283\": 53,\n",
      "        \"2895433305\": 53,\n",
      "        \"9782896605248\": 53,\n",
      "        \"2895431442\": 53,\n",
      "        \"2895433089\": 53,\n",
      "        \"2895433933\": 53,\n",
      "        \"9782895438649\": 53,\n",
      "        \"9782895436171\": 53\n",
      "    },\n",
      "    \"http://banq.qc.ca/type\": 56962,\n",
      "    \"http://banq.qc.ca/type_by_value\": {\n",
      "        \"Jeunesse\": 22195,\n",
      "        \"Roman\": 19274,\n",
      "        \"Po\\u00e9sie\": 7909,\n",
      "        \"Contes/Nouvelles\": 3815,\n",
      "        \"Th\\u00e9atre\": 2067,\n",
      "        \"Bandes dessin\\u00e9es\": 1702\n",
      "    }\n",
      "}\n"
     ]
    }
   ],
   "source": [
    "print(json.dumps(format_result(stats_books_DL), indent=4))"
   ],
   "metadata": {
    "collapsed": false,
    "pycharm": {
     "name": "#%%\n"
    }
   }
  },
  {
   "cell_type": "markdown",
   "source": [
    "Depuis le csv:"
   ],
   "metadata": {
    "collapsed": false
   }
  },
  {
   "cell_type": "code",
   "execution_count": 15,
   "outputs": [
    {
     "name": "stdout",
     "output_type": "stream",
     "text": [
      "{\n",
      "    \"total\": 396470,\n",
      "    \"ID_DEPOT\": 396470,\n",
      "    \"ID_DEPOT_by_value\": {\n",
      "        \"2\": 1,\n",
      "        \"6\": 1,\n",
      "        \"7\": 1,\n",
      "        \"13\": 1,\n",
      "        \"23\": 1,\n",
      "        \"26\": 1,\n",
      "        \"27\": 1,\n",
      "        \"30\": 1,\n",
      "        \"32\": 1,\n",
      "        \"33\": 1\n",
      "    },\n",
      "    \"TITRE_PUBLICATION\": 396470,\n",
      "    \"TITRE_PUBLICATION_by_value\": {\n",
      "        \"HerbArt : cours en herboristerie\": 168,\n",
      "        \"Nouvelles histoires dr\\u00f4les / texte, Jeanne Olivier\": 90,\n",
      "        \"Programme d'\\u00e9lectronique : technicien de premier niveau / [Volta Ramirez... et al.]\": 79,\n",
      "        \"Profils socio-\\u00e9conomiques des districts \\u00e9lectoraux de la ville de Montr\\u00e9al\": 51,\n",
      "        \"Profil socio-\\u00e9conomique : district \\u00e9lectoral\": 51,\n",
      "        \"Secr\\u00e9tariat : guide d'apprentissage\": 50,\n",
      "        \"Histoires dr\\u00f4les / texte, Dominique Chauveau\": 48,\n",
      "        \"Electronics program : level one technician\": 47,\n",
      "        \"Carrosserie : guide d'apprentissage\": 46,\n",
      "        \"Comptabilit\\u00e9 : guide d'apprentissage\": 40\n",
      "    },\n",
      "    \"ANNEE_PUBLICATION\": 396470,\n",
      "    \"ANNEE_PUBLICATION_by_value\": {\n",
      "        \"2008\": 18446,\n",
      "        \"2005\": 18224,\n",
      "        \"2007\": 18037,\n",
      "        \"2006\": 17946,\n",
      "        \"2009\": 17561,\n",
      "        \"2014\": 17331,\n",
      "        \"2010\": 17232,\n",
      "        \"2004\": 17115,\n",
      "        \"2012\": 16937,\n",
      "        \"2011\": 16778\n",
      "    },\n",
      "    \"STATUT_REQUETE\": 396470,\n",
      "    \"STATUT_REQUETE_by_value\": {\n",
      "        \"Enregistr\\u00e9\": 396308,\n",
      "        \"Incomplet\": 161,\n",
      "        \"Termin\\u00e9\": 1\n",
      "    },\n",
      "    \"DATE_ENREGISTREMENT\": 396470,\n",
      "    \"DATE_ENREGISTREMENT_by_value\": {\n",
      "        \"2017-06-15\": 272,\n",
      "        \"2017-12-07\": 249,\n",
      "        \"2016-09-14\": 242,\n",
      "        \"2015-05-27\": 238,\n",
      "        \"2016-08-12\": 236,\n",
      "        \"2017-12-06\": 228,\n",
      "        \"2015-04-27\": 227,\n",
      "        \"2015-09-29\": 219,\n",
      "        \"2016-11-03\": 214,\n",
      "        \"2015-01-23\": 206\n",
      "    },\n",
      "    \"CODE_EDITEUR\": 396470,\n",
      "    \"CODE_EDITEUR_by_value\": {\n",
      "        \"MEQ\": 8517,\n",
      "        \"5798\": 3872,\n",
      "        \"MRN03\": 3486,\n",
      "        \"EOQ\": 3266,\n",
      "        \"507\": 3029,\n",
      "        \"3237\": 3013,\n",
      "        \"GERAD\": 3009,\n",
      "        \"MSSS\": 2962,\n",
      "        \"5478\": 2851,\n",
      "        \"396\": 2829\n",
      "    },\n",
      "    \"NOM_EDITEUR\": 396470,\n",
      "    \"NOM_EDITEUR_by_value\": {\n",
      "        \"Minist\\u00e8re de l'\\u00c9ducation et de l'Enseignement sup\\u00e9rieur\": 8517,\n",
      "        \"\\u00c9ditions AdA\": 3872,\n",
      "        \"Minist\\u00e8re de l'\\u00c9nergie et des Ressources naturelles\": 3486,\n",
      "        \"\\u00c9diteur officiel du Qu\\u00e9bec\": 3266,\n",
      "        \"Presses de l'Universit\\u00e9 du Qu\\u00e9bec (PUQ)\": 3029,\n",
      "        \"Cheneli\\u00e8re \\u00c9ducation\": 3013,\n",
      "        \"\\u00c9cole des hautes \\u00e9tudes commerciales. Groupe d'\\u00e9tudes et de recherche en analyse des d\\u00e9cisions\": 3009,\n",
      "        \"Minist\\u00e8re de la Sant\\u00e9 et des Services sociaux\": 2962,\n",
      "        \"Productions d'OZ\": 2851,\n",
      "        \"\\u00c9ditions H\\u00e9ritage\": 2829\n",
      "    },\n",
      "    \"CATEGORIE_EDITEUR\": 396470,\n",
      "    \"CATEGORIE_EDITEUR_by_value\": {\n",
      "        \"01 - \\u00c9diteurs commerciaux\": 191293,\n",
      "        \"02 - Gouvernement du Qu\\u00e9bec\": 75970,\n",
      "        \"99 - Autres (\\u00e9v\\u00each\\u00e9s/galeries/paroisses/partis politiques)\": 40334,\n",
      "        \"06 - Associations diverses (syndicats/corporation prof/etc.)\": 26540,\n",
      "        \"04 - Maisons d'enseignements (Incluant les commissions scolaires)\": 25114,\n",
      "        \"00 - Individus\": 15609,\n",
      "        \"03 - Gouvernements locaux et multi-locaux(CUM/MRC)\": 5719,\n",
      "        \"05 - Compagnies et institutions finaci\\u00e8res\": 5133,\n",
      "        \"\": 4838,\n",
      "        \"08 - Services sociaux et services de sant\\u00e9\": 4548\n",
      "    },\n",
      "    \"TYPE_DOCUMENT\": 396470,\n",
      "    \"TYPE_DOCUMENT_by_value\": {\n",
      "        \"Livre - Priv\\u00e9\": 123839,\n",
      "        \"Brochure - Priv\\u00e9\": 32050,\n",
      "        \"Monographie num\\u00e9rique - priv\\u00e9\": 31951,\n",
      "        \"Monographie num\\u00e9rique - gouvernemental\": 25244,\n",
      "        \"Enregistrement sonore\": 18844,\n",
      "        \"Brochure - Publication pour jeunes\": 17359,\n",
      "        \"Brochure - Gouvernemental\": 17273,\n",
      "        \"Livre - Gouvernemental\": 15771,\n",
      "        \"Affiche\": 14965,\n",
      "        \"Livre - Publication pour jeunes\": 12659\n",
      "    },\n",
      "    \"TYPEPUBLICATION\": 396470,\n",
      "    \"TYPEPUBLICATION_by_value\": {\n",
      "        \"Monographie\": 248576,\n",
      "        \"Publication en ligne ou publication en ligne avec acc\\u00e8s restreint\": 69854,\n",
      "        \"Publication en s\\u00e9rie\": 23305,\n",
      "        \"Enregistrement Sonore\": 18844,\n",
      "        \"Affiche ou reproduction d'oeuvre d'art\": 16009,\n",
      "        \"Estampe\": 10688,\n",
      "        \"Document \\u00e9lectronique/logiciel\": 5222,\n",
      "        \"Carte et Plan\": 2024,\n",
      "        \"Livre d'artiste/ouvrage bibliophile\": 1363,\n",
      "        \"Carte Postale\": 585\n",
      "    },\n",
      "    \"LANGUE_PUBLICATION\": 396470,\n",
      "    \"LANGUE_PUBLICATION_by_value\": {\n",
      "        \"Fran\\u00e7ais\": 324334,\n",
      "        \"Anglais\": 45874,\n",
      "        \"\": 11531,\n",
      "        \"Multilingue\": 9378,\n",
      "        \"Autres\": 5353\n",
      "    },\n",
      "    \"LANGUE_ORIGINALE\": 396470,\n",
      "    \"LANGUE_ORIGINALE_by_value\": {\n",
      "        \"\": 362255,\n",
      "        \"Anglais\": 26351,\n",
      "        \"Fran\\u00e7ais\": 5853,\n",
      "        \"Autres\": 2001,\n",
      "        \"Multilingue\": 10\n",
      "    },\n",
      "    \"CATEGORIE_SUJET\": 396470,\n",
      "    \"CATEGORIE_SUJET_by_value\": {\n",
      "        \"\": 86014,\n",
      "        \"16.00 Langues et litt\\u00e9rature (P)\": 80918,\n",
      "        \"08.00 Sciences sociales (H)\": 56892,\n",
      "        \"18.00 M\\u00e9decine (R)\": 26202,\n",
      "        \"20.00 Technologie (T)\": 22147,\n",
      "        \"02.00 Philosophie, psychologie, religion (B)\": 21827,\n",
      "        \"12.00 \\u00c9ducation (L)\": 18106,\n",
      "        \"17.00 Sciences (Q)\": 16354,\n",
      "        \"11.00 Droit (K)\": 10424,\n",
      "        \"07.00 G\\u00e9ographie, anthropologie, r\\u00e9cr\\u00e9ation (G)\": 10310\n",
      "    },\n",
      "    \"SUJET\": 396470,\n",
      "    \"SUJET_by_value\": {\n",
      "        \"\": 86014,\n",
      "        \"18.00 M\\u00e9decine (R)\": 26202,\n",
      "        \"16.38 Litt\\u00e9rature jeunesse\": 22195,\n",
      "        \"08.20 \\u00c9conomie (HB-HC-HD)\": 20951,\n",
      "        \"08.60 Sociologie (HM-HX)\": 20901,\n",
      "        \"16.34 Roman\": 19274,\n",
      "        \"12.00 \\u00c9ducation (L)\": 18106,\n",
      "        \"16.10 Langues, linguistique (P-PA-PM)\": 14874,\n",
      "        \"11.00 Droit (K)\": 10424,\n",
      "        \"02.30 Religion (BL-BX)\": 9845\n",
      "    },\n",
      "    \"COEDITION\": 396470,\n",
      "    \"COEDITION_by_value\": {\n",
      "        \"Aucun\": 386965,\n",
      "        \"Qu\\u00e9bec/\\u00c9tranger\": 5157,\n",
      "        \"Qu\\u00e9bec/Qu\\u00e9bec\": 4240,\n",
      "        \"\": 108\n",
      "    },\n",
      "    \"PERIODICITE\": 396470,\n",
      "    \"PERIODICITE_by_value\": {\n",
      "        \"\": 365385,\n",
      "        \"annuel\": 15453,\n",
      "        \"irr\\u00e9gulier\": 5272,\n",
      "        \"trimestriel\": 2648,\n",
      "        \"mensuel\": 1682,\n",
      "        \"semestriel\": 992,\n",
      "        \"autre\": 906,\n",
      "        \"bimestriel\": 871,\n",
      "        \"trois fois par an\": 781,\n",
      "        \"hebdomadaire\": 726\n",
      "    },\n",
      "    \"ETAT_PERIODICITE\": 396470,\n",
      "    \"ETAT_PERIODICITE_by_value\": {\n",
      "        \"\": 389230,\n",
      "        \"Nouveau titre\": 7240\n",
      "    },\n",
      "    \"LISTE_ISBN_NETTOYE\": 396470,\n",
      "    \"LISTE_ISBN_NETTOYE_by_value\": {\n",
      "        \"\": 126257,\n",
      "        \"07112440\": 245,\n",
      "        \"2894860005;2894860013;2894860021;289486003X;2894860048;2894860064;289486007..\": 168,\n",
      "        \"9782894861868;9782894861912;9782894861929;9782894861936;9782894861943;97828..\": 97,\n",
      "        \"2554000158;2554000166;2554023387;2554023433;2554023441;2554023506;255402352..\": 65,\n",
      "        \"289543140X;2895431418;2895431434;2895431442;289543199X;2895432007;289543226..\": 60,\n",
      "        \"2551091500;2551091519;2551091527;255116706X;2551170885;2551188679;255120360..\": 52,\n",
      "        \"2894174489;2894174497;2894174500;2894174519;2894174527;2894174535;289417454..\": 51,\n",
      "        \"2894177879;2894177887;2894177895;2894177909;2894177917;2894177925;289417793..\": 51,\n",
      "        \"276250757X;2762562570;2762562589;2762562716;2762562813;2762562821;276256283..\": 48\n",
      "    },\n",
      "    \"LISTE_AUTEUR\": 396470,\n",
      "    \"LISTE_AUTEUR_by_value\": {\n",
      "        \"\": 193112,\n",
      "        \"Gardonio, Stella\": 410,\n",
      "        \"Drouin, Gabriel\": 339,\n",
      "        \"Lancelot, Michel\": 335,\n",
      "        \"Eggleton, Jill\": 319,\n",
      "        \"Beno\\u00eet, Nicole\": 310,\n",
      "        \"Brunet, Nicole\": 289,\n",
      "        \"Demers, Jeanne d'Arc\": 271,\n",
      "        \"Drouin, Gabriel;Pepin, Jean-Pierre-Yves\": 248,\n",
      "        \"Lau, Manuel\": 233\n",
      "    },\n",
      "    \"EST_NUMERIQUE\": 396470,\n",
      "    \"EST_NUMERIQUE_by_value\": {\n",
      "        \"Non\": 329006,\n",
      "        \"Oui\": 67464\n",
      "    }\n",
      "}\n"
     ]
    }
   ],
   "source": [
    "print(json.dumps(format_result(stats_books_DL_csv), indent=4))"
   ],
   "metadata": {
    "collapsed": false,
    "pycharm": {
     "name": "#%%\n"
    }
   }
  },
  {
   "cell_type": "markdown",
   "source": [
    "#### Commentaires pour les stats du graph\n",
    "\n",
    "- 56962 livres au total\n",
    "- 57499 auteurs dont 14508 vide soit 25%\n",
    "- tous ou presque tous les livres ont un nom, un type, une langue, une date de publication, et un isbn\n",
    "\n",
    "#### titre\n",
    "Pour le titre on normalise simplement\n",
    "On peut remaquer quelques problèmes, par exemples nous n'avons pas le titre\n",
    "pour certains livres"
   ],
   "metadata": {
    "collapsed": false,
    "pycharm": {
     "name": "#%% md\n"
    }
   }
  },
  {
   "cell_type": "code",
   "execution_count": 16,
   "outputs": [
    {
     "name": "stdout",
     "output_type": "stream",
     "text": [
      "exemple simple: titre intial: Une virée américaine (version du 2017-01-10)   titre traité:  une viree americaine\n",
      "titre non existant: titre intial: (K)  titre traité:  \n"
     ]
    }
   ],
   "source": [
    "for exemple in DL_books:\n",
    "    if \"(\" in exemple.title_raw and exemple.title:\n",
    "        print(\"exemple simple: titre intial:\", exemple.title_raw, \" titre traité: \", exemple.title)\n",
    "        break\n",
    "for exemple in DL_books:\n",
    "    if not exemple.title:\n",
    "        print(\"titre non existant: titre intial:\", exemple.title_raw, \" titre traité: \", exemple.title)\n",
    "        break"
   ],
   "metadata": {
    "collapsed": false,
    "pycharm": {
     "name": "#%%\n"
    }
   }
  },
  {
   "cell_type": "markdown",
   "source": [
    "#### auteur\n",
    "Pour les auteurs, on normalise en utilisant la fonction de normalisation. Il n'y a pas besoin de traiter plus loin,\n",
    "car la séparation des auteurs est déjà effectuée dans le graph. On retire aussi les caractères '\"' qui sont redondants\n",
    "En revanche, Dépot légal fait la différence entre le nom de famille et le prénom, ce que ne font pas les autres bases\n",
    "de donnée. On va donc simplement concaténer les chaines de caractères avec un espace entre les noms et prénoms"
   ],
   "metadata": {
    "collapsed": false
   }
  },
  {
   "cell_type": "code",
   "execution_count": 17,
   "outputs": [
    {
     "name": "stdout",
     "output_type": "stream",
     "text": [
      "auteur(s) initial(s):  ['\"Marie-Claude\" \"Martel\"', '\"Anik\" \"Lessard\"'] auteur(s) traité:  ['marie-claude martel', 'anik lessard']\n"
     ]
    }
   ],
   "source": [
    "for exemple in DL_books:\n",
    "    good_exemple = False\n",
    "    if len(exemple.authors) > 1:\n",
    "        for author in exemple.authors:\n",
    "            if '-' in author:\n",
    "                good_exemple = True\n",
    "    if good_exemple:\n",
    "        print(\"auteur(s) initial(s): \", exemple.authors_raw, \"auteur(s) traité: \", exemple.authors)\n",
    "        break"
   ],
   "metadata": {
    "collapsed": false,
    "pycharm": {
     "name": "#%%\n"
    }
   }
  },
  {
   "cell_type": "markdown",
   "source": [
    "### isbn\n",
    "Pour Dépot legal, on sait que l'isbn peut être multiple et de forme variée,\n",
    " mais la séparation s'est faite dans la création du graph. On se contente de normaliser\n",
    " On peut remarque que certains livres ont une liste conséquente d'isbn"
   ],
   "metadata": {
    "collapsed": false
   }
  },
  {
   "cell_type": "code",
   "execution_count": 18,
   "outputs": [
    {
     "name": "stdout",
     "output_type": "stream",
     "text": [
      "exemple d'isbn 13 normalisé: \n",
      "isbn initial(s):  ['\"9782924022795\"'] isbn traité:  ['9782924022795']\n",
      "exemple d'isbn 10 normalisé: \n",
      "isbn initial(s):  ['\"2894502494\"'] isbn traité:  ['9782894502494']\n",
      "exemple de livre avec plus de 60 isbn \n",
      "isbn initial(s):  ['\"9782896600984\"', '\"2895433283\"', '\"2895433305\"', '\"9782896605248\"', '\"2895431442\"', '\"2895433089\"... isbn traité:  ['97828966...\n",
      "nb d'isbn:  65\n"
     ]
    }
   ],
   "source": [
    "for exemple in DL_books:\n",
    "    good_exemple = False\n",
    "    for isbn in exemple.isbns_raw:\n",
    "        if len(isbn.replace(\"\\\"\", \"\")) == 13 and isbn.replace(\"\\\"\", \"\")[-1] != 'X':\n",
    "            good_exemple = True\n",
    "    if good_exemple:\n",
    "        print(\"exemple d'isbn 13 normalisé: \\nisbn initial(s): \", exemple.isbns_raw, \"isbn traité: \", exemple.isbns)\n",
    "        break\n",
    "for exemple in DL_books:\n",
    "    good_exemple = False\n",
    "    for isbn in exemple.isbns_raw:\n",
    "        if len(isbn.replace(\"\\\"\", \"\")) == 10 and isbn.replace(\"\\\"\", \"\")[-1] != 'X':\n",
    "            good_exemple = True\n",
    "    if good_exemple:\n",
    "        print(\"exemple d'isbn 10 normalisé: \\nisbn initial(s): \", exemple.isbns_raw, \"isbn traité: \", exemple.isbns)\n",
    "        break\n",
    "for exemple in DL_books:\n",
    "    good_exemple = False\n",
    "    for isbn in exemple.isbns_raw:\n",
    "        if len(exemple.isbns_raw) > 60:\n",
    "            good_exemple = True\n",
    "    if good_exemple:\n",
    "        print(\"exemple de livre avec plus de 60 isbn \\nisbn initial(s): \", str(exemple.isbns_raw)[0:100] + \"...\", \"isbn traité: \", str(exemple.isbns)[0:10] + \"...\")\n",
    "        print('nb d\\'isbn: ', len(exemple.isbns_raw))\n",
    "        break"
   ],
   "metadata": {
    "collapsed": false,
    "pycharm": {
     "name": "#%%\n"
    }
   }
  },
  {
   "cell_type": "markdown",
   "source": [
    "On peut essayer de quantifier les croissements des isbns"
   ],
   "metadata": {
    "collapsed": false,
    "pycharm": {
     "name": "#%% md\n"
    }
   }
  },
  {
   "cell_type": "code",
   "execution_count": 19,
   "outputs": [
    {
     "name": "stdout",
     "output_type": "stream",
     "text": [
      "isbn en commun pour plusieurs livres\n",
      "on retrouve l'isbn:  9782924022795  dans les livres:  ['l ivre muse x 1']\n",
      "on retrouve l'isbn:  9782924022061  dans les livres:  ['l appel de mes nuits x 2']\n",
      "on retrouve l'isbn:  9782896864416  dans les livres:  ['le journal d alice x 6']\n",
      "on retrouve l'isbn:  9782922792508  dans les livres:  ['pierrot et le village des fous x 7']\n",
      "on retrouve l'isbn:  9782922145689  dans les livres:  ['la tapisserie de fionavar x 3']\n",
      "on retrouve l'isbn:  9782890747739  dans les livres:  ['les chevaliers d emeraude x 12']\n",
      "on retrouve l'isbn:  9782923672007  dans les livres:  ['l heritiere de salem x 4']\n",
      "on retrouve l'isbn:  9782896511464  dans les livres:  ['rock rose x 13']\n",
      "on retrouve l'isbn:  9782897031046  dans les livres:  ['le blogue de namaste x 14']\n",
      "on retrouve l'isbn:  9782762572940  dans les livres:  ['histoires droles x 48']\n",
      "on retrouve l'isbn:  9782896675562  dans les livres:  ['les 5 derniers dragons x 8']\n",
      "\n",
      "nombre d'isbn par livre:\n",
      "pour le livre:  garfield  le nombre d'isbn est:  65\n",
      "pour le livre:  noire poesie tome 59  le nombre d'isbn est:  58\n",
      "pour le livre:  histoires droles  le nombre d'isbn est:  50\n",
      "pour le livre:  noire poesie tome 53  le nombre d'isbn est:  50\n",
      "pour le livre:  ali baba  le nombre d'isbn est:  40\n",
      "pour le livre:  noire poesie tome 47  le nombre d'isbn est:  37\n",
      "pour le livre:  noire poesie tome 42  le nombre d'isbn est:  37\n",
      "pour le livre:  noire poesie tome 44  le nombre d'isbn est:  37\n",
      "pour le livre:  noire poesie tome 43  le nombre d'isbn est:  37\n",
      "pour le livre:  noire poesie tome 49  le nombre d'isbn est:  37\n",
      "\n",
      "nombre d'auteurs différents:\n",
      "pour le livre:  bulle v 5 pandemie  le nombre d'auteurs est:  4\n",
      "pour le livre:  la lumiere du silence la luce del silenzio  le nombre d'auteurs est:  4\n",
      "pour le livre:  les ames crepusculaires  le nombre d'auteurs est:  4\n",
      "pour le livre:  haine ou amour  le nombre d'auteurs est:  4\n",
      "pour le livre:  la reine des neiges  le nombre d'auteurs est:  3\n",
      "pour le livre:  le poisson frais  le nombre d'auteurs est:  3\n",
      "pour le livre:  beurk les dechets  le nombre d'auteurs est:  3\n",
      "pour le livre:  la deprime  le nombre d'auteurs est:  3\n",
      "pour le livre:  le coffret des bonnes manieres avec bumpy  le nombre d'auteurs est:  3\n",
      "pour le livre:  trois voix une passion  le nombre d'auteurs est:  3\n",
      "\n",
      "Attribution d'auteurs manquants par isbn en commun avec d'autre livres:\n"
     ]
    }
   ],
   "source": [
    "print(\"isbn en commun pour plusieurs livres\")\n",
    "already_printed = []\n",
    "isbn_dict = {}\n",
    "for book in DL_books:\n",
    "    for isbn in book.isbns:\n",
    "        try:\n",
    "            isbn_dict[isbn].append(book)\n",
    "        except KeyError:\n",
    "            isbn_dict[isbn] = [book]\n",
    "i = 0\n",
    "for isbn, books in isbn_dict.items():\n",
    "    counter = Counter([book.title for book in books])\n",
    "    already_printed_test = False\n",
    "    for name in counter.values():\n",
    "        if name in already_printed:\n",
    "            already_printed_test = True\n",
    "    if not already_printed_test:\n",
    "        for name in counter.values():\n",
    "            already_printed.append(name)\n",
    "        print(\"on retrouve l'isbn: \", isbn, \" dans les livres: \", [str(name) + \" x \" + str(ct) for name, ct in counter.items()])\n",
    "        i += 1\n",
    "    if i > 10:\n",
    "        break\n",
    "print(\"\\nnombre d'isbn par livre:\")\n",
    "title_by_max_nb_isbn = {}\n",
    "for book in DL_books:\n",
    "    if book.title not in title_by_max_nb_isbn:\n",
    "        title_by_max_nb_isbn[book.title] = len(book.isbns)\n",
    "    else:\n",
    "        title_by_max_nb_isbn[book.title] = max(len(book.isbns), title_by_max_nb_isbn[book.title])\n",
    "for title, nb_isbn in sorted(title_by_max_nb_isbn.items(), key=lambda x: x[1], reverse=True)[:10]:\n",
    "    print(\"pour le livre: \", title, \" le nombre d'isbn est: \", nb_isbn)\n",
    "    \n",
    "print(\"\\nnombre d'auteurs différents:\")\n",
    "for book in sorted(DL_books, key= lambda x:len(x.authors), reverse=True)[:10]:\n",
    "    print(\"pour le livre: \", book.title, \" le nombre d'auteurs est: \", len(book.authors))\n",
    "\n",
    "print(\"\\nAttribution d'auteurs manquants par isbn en commun avec d'autre livres:\")\n",
    "counter = 0\n",
    "for book in DL_books:\n",
    "    if not book.authors:\n",
    "        for isbn, subj_isbn in isbn_dict.items():\n",
    "            if book.id in subj_isbn:\n",
    "                test = [i for i in subj_isbn if i!=book.id]\n",
    "                for subj_i in test:\n",
    "                    if subj_i in [book.id for book in DL_books]:\n",
    "                        for book_i in DL_books:\n",
    "                            if subj_i == book_i.id:\n",
    "                                print('Ces deux livres ont le même auteur car ils ont un isbn en commun:')\n",
    "                                print(book)\n",
    "                                print(book_i)\n",
    "                                counter += 1\n",
    "                            \n",
    "    if counter > 20:\n",
    "        break"
   ],
   "metadata": {
    "collapsed": false,
    "pycharm": {
     "name": "#%%\n"
    }
   }
  },
  {
   "cell_type": "markdown",
   "source": [
    "- on peut donc combler certain problème d'auteur manquant en comparant les isbns\n",
    "- certains livres ont un nombre considérable d'isbn, car les tomes sont regroupé ensembles.\n",
    "- le nombre d'auteur n'est pas abérants\n",
    "\n",
    "### Hurtubise\n",
    "\n",
    "#### Global"
   ],
   "metadata": {
    "collapsed": false,
    "pycharm": {
     "name": "#%% md\n"
    }
   }
  },
  {
   "cell_type": "code",
   "execution_count": 20,
   "outputs": [
    {
     "name": "stdout",
     "output_type": "stream",
     "text": [
      "{\n",
      "    \"total\": 1404,\n",
      "    \"Editeur\": 1404,\n",
      "    \"Editeur_by_value\": {\n",
      "        \"\\u00c9ditions Hurtubise\": 1313,\n",
      "        \"\": 91\n",
      "    },\n",
      "    \"ISBN Papier\": 1404,\n",
      "    \"ISBN Papier_by_value\": {\n",
      "        \"\": 94,\n",
      "        \"9782897815189\": 1,\n",
      "        \"9782897815196\": 1,\n",
      "        \"9782897815202\": 1,\n",
      "        \"9782897815219\": 1,\n",
      "        \"9782897814847\": 1,\n",
      "        \"9782897815356\": 1,\n",
      "        \"9782897814878\": 1,\n",
      "        \"9782897812980\": 1,\n",
      "        \"9782897814700\": 1\n",
      "    },\n",
      "    \"ISBN PDF\": 1404,\n",
      "    \"ISBN PDF_by_value\": {\n",
      "        \"\": 570,\n",
      "        \"9782896473304\": 3,\n",
      "        \"9782896473311\": 3,\n",
      "        \"9782896473328\": 3,\n",
      "        \"9782896473335\": 3,\n",
      "        \"9782896475926\": 3,\n",
      "        \"9782896475933\": 3,\n",
      "        \"9782896475940\": 3,\n",
      "        \"9782896474042\": 3,\n",
      "        \"9782896474059\": 3\n",
      "    },\n",
      "    \"ISBN epub\": 1404,\n",
      "    \"ISBN epub_by_value\": {\n",
      "        \"\": 855,\n",
      "        \"9782896476503\": 3,\n",
      "        \"9782896476510\": 3,\n",
      "        \"9782896476527\": 3,\n",
      "        \"9782896476534\": 3,\n",
      "        \"9782897814670\": 3,\n",
      "        \"9782897814687\": 3,\n",
      "        \"9782897814694\": 3,\n",
      "        \"9782896474301\": 3,\n",
      "        \"9782896474318\": 3\n",
      "    },\n",
      "    \"Titre\": 1404,\n",
      "    \"Titre_by_value\": {\n",
      "        \"\": 91,\n",
      "        \"\\u00c0 l'ombre du clocher - Tome 1\": 2,\n",
      "        \"\\u00c0 l'ombre du clocher - Tome 2\": 2,\n",
      "        \"\\u00c0 l'ombre du clocher - Tome 3\": 2,\n",
      "        \"\\u00c0 l'ombre du clocher - Tome 4\": 2,\n",
      "        \"H\\u00e9l\\u00e8ne de Champlain - Tome 1\": 2,\n",
      "        \"H\\u00e9l\\u00e8ne de Champlain - Tome 2\": 2,\n",
      "        \"H\\u00e9l\\u00e8ne de Champlain - Tome 3\": 2,\n",
      "        \"Tout sur l'art\": 2,\n",
      "        \"Un bonheur si fragile - Tome 1\": 2\n",
      "    },\n",
      "    \"Sous - titre\": 1404,\n",
      "    \"Sous - titre_by_value\": {\n",
      "        \"\": 711,\n",
      "        \"Le retour\": 5,\n",
      "        \"Les ann\\u00e9es folles\": 3,\n",
      "        \"Le fils de Gabrielle\": 3,\n",
      "        \"Les amours interdites\": 3,\n",
      "        \"Au rythme des saisons\": 3,\n",
      "        \"Manchon et dentelle\": 3,\n",
      "        \"L'\\u00e9rable rouge\": 3,\n",
      "        \"Gracias a Dios\": 3,\n",
      "        \"L'engagement\": 3\n",
      "    },\n",
      "    \"Titre de la serie\": 1404,\n",
      "    \"Titre de la serie_by_value\": {\n",
      "        \"\": 961,\n",
      "        \"Juliette\": 19,\n",
      "        \"La Poussi\\u00e8re du temps\": 14,\n",
      "        \"\\u00c0 l'ombre du clocher \": 13,\n",
      "        \"Un bonheur si fragile\": 13,\n",
      "        \"Au bord de la rivi\\u00e8re\": 13,\n",
      "        \"La Force de vivre \": 13,\n",
      "        \"Ch\\u00e8re Laurette\": 13,\n",
      "        \"H\\u00e9l\\u00e8ne de Champlain\": 10,\n",
      "        \"Madame Tout-le-monde\": 10\n",
      "    },\n",
      "    \"Contributeurs\": 1404,\n",
      "    \"Contributeurs_by_value\": {\n",
      "        \"\": 91,\n",
      "        \"Michel David (De (auteur))\": 73,\n",
      "        \"Jean-Pierre Charland (De (auteur))\": 56,\n",
      "        \"Michel Langlois (De (auteur))\": 41,\n",
      "        \"Laurent Chabin (De (auteur))\": 33,\n",
      "        \" Collectif (De (auteur))\": 32,\n",
      "        \"Na\\u00efm Kattan (De (auteur))\": 23,\n",
      "        \"Herv\\u00e9 Gagnon (De (auteur))\": 23,\n",
      "        \"Rose-Line Brasset (De (auteur))\": 18,\n",
      "        \"Sophie Rondeau (De (auteur))\": 16\n",
      "    },\n",
      "    \"Contributeur(premier)\": 1404,\n",
      "    \"Contributeur(premier)_by_value\": {\n",
      "        \"\": 91,\n",
      "        \"David Michel\": 73,\n",
      "        \"Charland Jean-Pierre\": 56,\n",
      "        \"Collectif\": 49,\n",
      "        \"Langlois Michel\": 41,\n",
      "        \"Chabin Laurent\": 33,\n",
      "        \"Kattan Na\\u00efm\": 23,\n",
      "        \"Gagnon Herv\\u00e9\": 23,\n",
      "        \"Brasset Rose-Line\": 22,\n",
      "        \"Rondeau Sophie\": 16\n",
      "    },\n",
      "    \"Langue\": 1404,\n",
      "    \"Langue_by_value\": {\n",
      "        \"Fran\\u00e7ais\": 1298,\n",
      "        \"\": 92,\n",
      "        \"Anglais, Fran\\u00e7ais\": 3,\n",
      "        \"Fran\\u00e7ais, Espagnol\": 3,\n",
      "        \"Anglais\": 2,\n",
      "        \"Fran\\u00e7ais, Latin\": 1,\n",
      "        \"Arabe, Fran\\u00e7ais\": 1,\n",
      "        \"Arabe\": 1,\n",
      "        \"Fran\\u00e7ais, Allemand\": 1,\n",
      "        \"Fran\\u00e7ais, Italien\": 1\n",
      "    },\n",
      "    \"Langue Origine\": 1404,\n",
      "    \"Langue Origine_by_value\": {\n",
      "        \"Fran\\u00e7ais\": 943,\n",
      "        \"Anglais\": 314,\n",
      "        \"\": 141,\n",
      "        \"Portugais\": 2,\n",
      "        \"Allemand\": 1,\n",
      "        \"Espagnol\": 1,\n",
      "        \"Arabe, Fran\\u00e7ais\": 1,\n",
      "        \"Arabe\": 1\n",
      "    },\n",
      "    \"Resume\": 1404,\n",
      "    \"Resume_by_value\": {\n",
      "        \"\": 103,\n",
      "        \"1900, un petit village de Gasp\\u00e9sie. Jeune femme de caract\\u00e8re, Marie a \\u00e9pous..\": 2,\n",
      "        \"De retour \\u00e0 Cap-aux-Brumes, Marie doit r\\u00e9soudre son conflit avec Guillaume,..\": 2,\n",
      "        \"Apr\\u00e8s Marie-la-rebelle et la sage Marie-Reine, c\\u2019est au tour d\\u2019Anne-Marie d..\": 2,\n",
      "        \"Apr\\u00e8s Marie-la-rebelle, la sage Marie-Reine et la fantasque Anne-Marie, c'e..\": 2,\n",
      "        \"Qu\\u00e9bec, 1986. Apr\\u00e8s la mort tragique d'Olivier, la veille m\\u00eame de ses noces..\": 2,\n",
      "        \"Qu\\u00e9bec, 1998. Depuis la mort de Majella Roquemont, vingt-deux ans se sont \\u00e9..\": 2,\n",
      "        \"Quelle temp\\u00e9rature fait-il sur V\\u00e9nus? Quelle est la diff\\u00e9rence entre un pul..\": 2,\n",
      "        \"Comment a fait Hercule pour venir \\u00e0 bout de ses douze travaux? Pourquoi Jas..\": 2,\n",
      "        \"\\u00ab\\u00a0Je pense donc je suis\\u00a0\\u00bb, la Caverne de Platon, le Pari de Pascal, le Surh..\": 2\n",
      "    },\n",
      "    \"Nombre de pages\": 1404,\n",
      "    \"Nombre de pages_by_value\": {\n",
      "        \"\": 100,\n",
      "        \"160\": 92,\n",
      "        \"48\": 41,\n",
      "        \"500\": 39,\n",
      "        \"144\": 35,\n",
      "        \"192\": 31,\n",
      "        \"256\": 30,\n",
      "        \"128\": 22,\n",
      "        \"248\": 20,\n",
      "        \"224\": 20\n",
      "    },\n",
      "    \"Date de parution\": 1404,\n",
      "    \"Date de parution_by_value\": {\n",
      "        \"\": 615,\n",
      "        \"2011-03-03\": 11,\n",
      "        \"2010-10-14\": 9,\n",
      "        \"2008-10-01\": 9,\n",
      "        \"2012-02-16\": 8,\n",
      "        \"2011-04-14\": 8,\n",
      "        \"2016-09-22\": 7,\n",
      "        \"2015-10-22\": 7,\n",
      "        \"2014-10-15\": 7,\n",
      "        \"2013-09-26\": 7\n",
      "    },\n",
      "    \"Annee de parution\": 1404,\n",
      "    \"Annee de parution_by_value\": {\n",
      "        \"\": 98,\n",
      "        \"2013\": 93,\n",
      "        \"2019\": 83,\n",
      "        \"2010\": 83,\n",
      "        \"2012\": 82,\n",
      "        \"2017\": 80,\n",
      "        \"2008\": 77,\n",
      "        \"2018\": 73,\n",
      "        \"2014\": 72,\n",
      "        \"2011\": 72\n",
      "    },\n",
      "    \"Sujet  THEMA principal\": 1404,\n",
      "    \"Sujet  THEMA principal_by_value\": {\n",
      "        \"FV - Roman historique\": 242,\n",
      "        \"YFC - Fiction jeunesse\\u00a0: romans d\\u2019action et d\\u2019aventures\": 109,\n",
      "        \"\": 91,\n",
      "        \"DNL - Essais litt\\u00e9raires\": 58,\n",
      "        \"YFN - Fiction jeunesse\\u00a0: histoires familiales et de la vie de tous les jours\": 52,\n",
      "        \"FBA - Litt\\u00e9rature moderne et contemporaine\": 44,\n",
      "        \"YFCF - Fiction jeunesse\\u00a0: romans policiers et \\u00e0 suspense\": 39,\n",
      "        \"YFM - Fiction jeunesse\\u00a0: romans sentimentaux, d\\u2019amour et histoires de relation\": 38,\n",
      "        \"YBCS - Livres d\\u2019histoires illustr\\u00e9s\": 34,\n",
      "        \"YFCB - Fiction jeunesse\\u00a0: thrillers\": 28\n",
      "    },\n",
      "    \"Sujet THEMA\": 1404,\n",
      "    \"Sujet THEMA_by_value\": {\n",
      "        \"\": 494,\n",
      "        \"FT - Sagas familiales, FXD - Th\\u00e8me narratif\\u00a0: amour et relations\": 86,\n",
      "        \"FT - Sagas familiales\": 57,\n",
      "        \"YFN - Fiction jeunesse\\u00a0: histoires familiales et de la vie de tous les jours\": 50,\n",
      "        \"FXD - Th\\u00e8me narratif\\u00a0: amour et relations\": 36,\n",
      "        \"FS - Roman abordant la vie familiale\": 18,\n",
      "        \"YFC - Fiction jeunesse\\u00a0: romans d\\u2019action et d\\u2019aventures\": 16,\n",
      "        \"STK - Hockey sur glace\": 14,\n",
      "        \"FV - Roman historique\": 14,\n",
      "        \"FC - Biographie romanc\\u00e9e, FXD - Th\\u00e8me narratif\\u00a0: amour et relations\": 13\n",
      "    },\n",
      "    \"Quantificateur Georaphique\": 1404,\n",
      "    \"Quantificateur Georaphique_by_value\": {\n",
      "        \"\": 893,\n",
      "        \"1KBC-CA-QMM - Montr\\u00e9al\": 86,\n",
      "        \"1KBC-CA-Q - Qu\\u00e9bec\": 58,\n",
      "        \"1KBC-CA-QY - Qu\\u00e9bec\\u00a0: Centre-du-Qu\\u00e9bec\": 40,\n",
      "        \"1KBC-CA-QFC - Qu\\u00e9bec (ville)\": 33,\n",
      "        \"1DDF - France\": 15,\n",
      "        \"1DDF - France, 1QBK-CA-Q - Nouvelle-France\": 15,\n",
      "        \"1KBC-CA-QX - Qu\\u00e9bec\\u00a0: Mont\\u00e9r\\u00e9gie\": 14,\n",
      "        \"1KBC-CA-QS - Qu\\u00e9bec\\u00a0: Gasp\\u00e9sie\\u2013Iles-de-la-Madeleine\": 12,\n",
      "        \"1KBC-CA-QM - Qu\\u00e9bec\\u00a0: r\\u00e9gion m\\u00e9tropolitaine de Montr\\u00e9al\": 12\n",
      "    },\n",
      "    \"Quantificateur de langue\": 1404,\n",
      "    \"Quantificateur de langue_by_value\": {\n",
      "        \"\": 1369,\n",
      "        \"2ADF - Fran\\u00e7ais\": 20,\n",
      "        \"2ADS - Espagnol\": 4,\n",
      "        \"2ACB - Anglais\": 3,\n",
      "        \"2CSR - Arabe\": 2,\n",
      "        \"2ACB - Anglais, 2ADF - Fran\\u00e7ais\": 1,\n",
      "        \"2JN - Langues autochtones de l\\u2019Am\\u00e9rique du Nord et Centrale\": 1,\n",
      "        \"2ADL - Latin\": 1,\n",
      "        \"2ACG - Allemand\": 1,\n",
      "        \"2ADT - Italien\": 1\n",
      "    },\n",
      "    \"Quantificateur Historique\": 1404,\n",
      "    \"Quantificateur Historique_by_value\": {\n",
      "        \"\": 1024,\n",
      "        \"3MPBGH - D'environ 1920 \\u00e0 1929\": 21,\n",
      "        \"3MPBA - D'environ 1900 \\u00e0 1909\": 21,\n",
      "        \"3MPBL - D'environ 1940 \\u00e0 1949\": 18,\n",
      "        \"3MPBGJ - D'environ 1930 \\u00e0 1939\": 18,\n",
      "        \"3MPQM - D'environ 1950 \\u00e0 1959\": 17,\n",
      "        \"3MNQV - D'environ 1870 \\u00e0 1879\": 15,\n",
      "        \"3MNQX - D'environ 1880 \\u00e0 1889\": 15,\n",
      "        \"3MPQS - D'environ 1960 \\u00e0 1969\": 13,\n",
      "        \"3MPBLB - Seconde Guerre mondiale (de 1939 \\u00e0 1945)\": 12\n",
      "    },\n",
      "    \"Niveau soclaire FR\": 1404,\n",
      "    \"Niveau soclaire FR_by_value\": {\n",
      "        \"\": 1404\n",
      "    },\n",
      "    \"Niveau scolaire QC\": 1404,\n",
      "    \"Niveau scolaire QC_by_value\": {\n",
      "        \"\": 1400,\n",
      "        \"C\\u00e9gep\": 2,\n",
      "        \"5e ann\\u00e9e, 6e ann\\u00e9e\": 1,\n",
      "        \"3e ann\\u00e9e, 4e ann\\u00e9e, 5e ann\\u00e9e, 6e ann\\u00e9e\": 1\n",
      "    },\n",
      "    \"Cycle scolaire FR\": 1404,\n",
      "    \"Cycle scolaire FR_by_value\": {\n",
      "        \"\": 1402,\n",
      "        \"3e cycle du primaire\": 1,\n",
      "        \"2e cycle du primaire, 3e cycle du primaire\": 1\n",
      "    },\n",
      "    \"Niveau de lecture\": 1404,\n",
      "    \"Niveau de lecture_by_value\": {\n",
      "        \"\": 1404\n",
      "    },\n",
      "    \"Echele CECR\": 1404,\n",
      "    \"Echele CECR_by_value\": {\n",
      "        \"\": 1404\n",
      "    },\n",
      "    \"Quantificateur d'interet\": 1404,\n",
      "    \"Quantificateur d'interet_by_value\": {\n",
      "        \"\": 1337,\n",
      "        \"5LB - Relatif \\u00e0 la petite enfance\": 19,\n",
      "        \"5PB-US-E - Relatif aux Am\\u00e9rindiens\": 18,\n",
      "        \"5PGJ - Relatif aux personnes et groupes juifs\": 5,\n",
      "        \"5H - Vacances, \\u00e9v\\u00e8nements et saisons\": 4,\n",
      "        \"5JA - Destin\\u00e9 sp\\u00e9cialement aux femmes et/ou filles\": 3,\n",
      "        \"5LKM - Relatif au milieu de l\\u2019\\u00e2ge adulte\": 3,\n",
      "        \"5PT - Relatif aux personnes transgenres\": 2,\n",
      "        \"5HRD - Saisons\\u00a0: Hiver\": 2,\n",
      "        \"5PB-US-C - Relatif aux Afro-Am\\u00e9ricains\": 1\n",
      "    },\n",
      "    \"Quantificateur d'age\": 1404,\n",
      "    \"Quantificateur d'age_by_value\": {\n",
      "        \"\": 943,\n",
      "        \"5AN - \\u00c2ge : \\u00e0 partir de 12 ans\": 117,\n",
      "        \"5AL - \\u00c2ge : \\u00e0 partir de 10 ans\": 114,\n",
      "        \"5AQ - \\u00c2ge : \\u00e0 partir de 14 ans\": 55,\n",
      "        \"5AJ - \\u00c2ge : \\u00e0 partir de 8 ans\": 44,\n",
      "        \"5AK - \\u00c2ge : \\u00e0 partir de 9 ans\": 37,\n",
      "        \"5AM - \\u00c2ge : \\u00e0 partir de 11 ans\": 29,\n",
      "        \"5AP - \\u00c2ge : \\u00e0 partir de 13 ans\": 26,\n",
      "        \"5AD - \\u00c2ge : \\u00e0 partir de 4 ans\": 13,\n",
      "        \"5AH - \\u00c2ge : \\u00e0 partir de 7 ans\": 8\n",
      "    },\n",
      "    \"Quantificateur de style\": 1404,\n",
      "    \"Quantificateur de style_by_value\": {\n",
      "        \"\": 1398,\n",
      "        \"6RF - Rock\": 2,\n",
      "        \"6PB - Musique pop\": 1,\n",
      "        \"6CA - Classique\": 1,\n",
      "        \"6JD - Jazz\": 1,\n",
      "        \"6MC - Modernisme\": 1\n",
      "    },\n",
      "    \"Classification Editoriale\": 1404,\n",
      "    \"Classification Editoriale_by_value\": {\n",
      "        \"\": 1275,\n",
      "        \"Ouvrage de r\\u00e9f\\u00e9rence\": 78,\n",
      "        \"Beaux livres\": 41,\n",
      "        \"Parcours p\\u00e9dagogiques\": 10\n",
      "    },\n",
      "    \"Mots cles\": 1404,\n",
      "    \"Mots cles_by_value\": {\n",
      "        \"\": 929,\n",
      "        \"maternit\\u00e9\": 17,\n",
      "        \"science\": 13,\n",
      "        \"Science\": 6,\n",
      "        \"art\": 4,\n",
      "        \"suicide\": 4,\n",
      "        \"accouchement, b\\u00e9b\\u00e9, maternit\\u00e9\": 4,\n",
      "        \"mode\": 3,\n",
      "        \"hockey\": 3,\n",
      "        \"Histoire\": 3\n",
      "    }\n",
      "}\n"
     ]
    }
   ],
   "source": [
    "with open(\"../Data/Hurtubise/Exportation-Hurtubise.csv\", \"r\", encoding='ISO-8859-1') as books_Hurtubise_file:\n",
    "    csv_reader = csv.DictReader(books_Hurtubise_file, delimiter=',', fieldnames=[\n",
    "        \"Editeur\", \"ISBN Papier\", \"ISBN PDF\", \"ISBN epub\", \"Titre\", \"Sous - titre\", \"Titre de la serie\",\n",
    "        \"Contributeurs\", \"Contributeur(premier)\", \"Langue\", \"Langue Origine\", \"Resume\", \"Nombre de pages\",\n",
    "        \"Date de parution\", \"Annee de parution\", \"Sujet  THEMA principal\", \"Sujet THEMA\",\n",
    "        \"Quantificateur Georaphique\", \"Quantificateur de langue\", \"Quantificateur Historique\", \"Niveau soclaire FR\",\n",
    "        \"Niveau scolaire QC\", \"Cycle scolaire FR\", \"Niveau de lecture\", \"Echele CECR\", \"Quantificateur d'interet\",\n",
    "        \"Quantificateur d'age\", \"Quantificateur de style\", \"Classification Editoriale\", \"Mots cles\"\n",
    "\n",
    "    ])\n",
    "    Hurtubise_books = get_Hurtubise_books(csv_reader)\n",
    "stats_books_Hurtubise = get_Hurtubise_Stats()\n",
    "print(json.dumps(format_result(stats_books_Hurtubise), indent=4))"
   ],
   "metadata": {
    "collapsed": false,
    "pycharm": {
     "name": "#%%\n"
    }
   }
  },
  {
   "cell_type": "markdown",
   "source": [
    "#### Commentaire\n",
    "\n",
    "- 91 livres sont totalement vides\n",
    "\n",
    "Champs vides:\n",
    "- total de 1404 livres\n",
    "- 94 isbn des papiers sont vides soit 7%\n",
    "- 570 isbn des PDF sont vides soit 40%\n",
    "- 855 des isbn des e-pub sont vides soit 60%\n",
    "- 91 livres n'ont pas de titre principal soit 6%\n",
    "- 711 livres n'ont pas de sous-titre  soit 50%\n",
    "- 961 livres n'ont pas de titre de la série soit 68%\n",
    "- 91 contributeur et contributeur premier sont manquant soit 6%\n",
    "- 92 livres n'ont pas de langue soit 6%\n",
    "- 141 livres n'ont pas de langue d'origine soit 10%\n",
    "- 103 livres n'ont pas de résumé soit 7%\n",
    "- 100 livres n'ont pas de nombre de page soit 7%\n",
    "- 615 livres n'ont pas de date de parution soit 43%\n",
    "- 98 livres n'ont pas d'année de parution soit 7%\n",
    "- 91 livres n'ont pas de sujet THEMA principale soit 6%\n",
    "- 494 livres n'ont pas de sujet THEMA soit 35 %\n",
    "- 893 livre n'ont pas de quantificateur géographique soit 64%\n",
    "- 1369 livres n'ont pas de quantificateur de langue soit 97%\n",
    "- 1024 livres n'ont pas de quantificateur historique soit 72%\n",
    "- aucun livre n'ont de niveau scolaire FR\n",
    "- seulement 4 livres ont un niveau scolaire QC\n",
    "- aucun livre n'ont de niveau de lecture\n",
    "- aucun livre n'ont  d'echele CECR\n",
    "- 1337 livres n'ont pas de quantificateur d'interet soit 95%\n",
    "- 943 livres n'ont pas de quantificateur d'age soit 67%\n",
    "- seulement 6 livres ont un quantificateur de style\n",
    "- 1275 livre n'ont pas de classification éditoriale soit 90%\n",
    "- 929 livres n'ont pas de Mots-clefs soit 66%"
   ],
   "metadata": {
    "collapsed": false,
    "pycharm": {
     "name": "#%% md\n"
    }
   }
  },
  {
   "cell_type": "markdown",
   "source": [
    "### titre\n",
    "Pour le titre on normalise simplement\n",
    "On peut remaquer quelques problèmes, par exemple nous n'avons pas le titre\n",
    "pour certains livres (les 91 livres sans aucune information)"
   ],
   "metadata": {
    "collapsed": false
   }
  },
  {
   "cell_type": "code",
   "execution_count": 21,
   "outputs": [
    {
     "name": "stdout",
     "output_type": "stream",
     "text": [
      "exemple simple: titre intial: Selfies et sushis (coffret)  titre traité:  selfies et sushis\n"
     ]
    }
   ],
   "source": [
    "for exemple in Hurtubise_books:\n",
    "    if \"(\" in exemple.title_raw and exemple.title:\n",
    "        print(\"exemple simple: titre intial:\", exemple.title_raw, \" titre traité: \", exemple.title)\n",
    "        break"
   ],
   "metadata": {
    "collapsed": false,
    "pycharm": {
     "name": "#%%\n"
    }
   }
  },
  {
   "cell_type": "markdown",
   "source": [
    "### auteur\n",
    "Pour les auteurs, on normalise en utilisant la fonction de normalisation. Il n'y a pas besoin de traiter plus loin,\n",
    "car la séparation des auteurs est déjà effectuée dans le graph. On peut remarquer que beaucoup d'information\n",
    "sur le status des auteurs est contenue dans les parenthèses"
   ],
   "metadata": {
    "collapsed": false
   }
  },
  {
   "cell_type": "code",
   "execution_count": 22,
   "outputs": [
    {
     "name": "stdout",
     "output_type": "stream",
     "text": [
      "auteur(s) initial(s):  ['David Skuy (De (auteur))', ' Michel Rudel-Tessier (Traduit par)'] auteur(s) traité:  ['david skuy', 'michel rudel-tessier']\n"
     ]
    }
   ],
   "source": [
    "for exemple in Hurtubise_books:\n",
    "    good_exemple = False\n",
    "    if len(exemple.authors) > 1:\n",
    "        for author in exemple.authors:\n",
    "            if '-' in author:\n",
    "                good_exemple = True\n",
    "    if good_exemple:\n",
    "        print(\"auteur(s) initial(s): \", exemple.authors_raw, \"auteur(s) traité: \", exemple.authors)\n",
    "        break"
   ],
   "metadata": {
    "collapsed": false,
    "pycharm": {
     "name": "#%%\n"
    }
   }
  },
  {
   "cell_type": "markdown",
   "source": [
    "Commentaire entre parenthèse pour les auteurs:"
   ],
   "metadata": {
    "collapsed": false,
    "pycharm": {
     "name": "#%% md\n"
    }
   }
  },
  {
   "cell_type": "code",
   "execution_count": 23,
   "outputs": [
    {
     "name": "stdout",
     "output_type": "stream",
     "text": [
      "exemple de texte entre parenthèses dans les isbns:  (De ) :  594\n",
      "exemple de texte entre parenthèses dans les isbns:  (auteur) :  462\n",
      "exemple de texte entre parenthèses dans les isbns:  (Traduit par) :  112\n",
      "exemple de texte entre parenthèses dans les isbns:  (Coordination éditoriale de) :  14\n",
      "exemple de texte entre parenthèses dans les isbns:  (Illustré par) :  7\n",
      "exemple de texte entre parenthèses dans les isbns:  (Préface de) :  4\n",
      "exemple de texte entre parenthèses dans les isbns:  (photographe) :  3\n",
      "exemple de texte entre parenthèses dans les isbns:  (Photographies de) :  2\n",
      "exemple de texte entre parenthèses dans les isbns:  (dit Larose) :  1\n",
      "exemple de texte entre parenthèses dans les isbns:  (Texte de) :  1\n"
     ]
    }
   ],
   "source": [
    "exemple = {}\n",
    "for isbn, cpt in stats_books_Hurtubise[\"Contributeurs_by_value\"].items():\n",
    "    if isbn:\n",
    "        if \"(\" in isbn:\n",
    "            txt_parentheses = text_between_parentheses(isbn)\n",
    "            for ex in txt_parentheses:\n",
    "                if ex not in exemple:\n",
    "                    exemple[ex] = 0\n",
    "                exemple[ex] += 1\n",
    "exemple = [(k, v) for k, v in sorted(exemple.items(), key=lambda item: item[1], reverse=True)]\n",
    "for ex, nb in exemple:\n",
    "    print(\"exemple de texte entre parenthèses dans les isbns: \", ex, \": \", nb)"
   ],
   "metadata": {
    "collapsed": false,
    "pycharm": {
     "name": "#%%\n"
    }
   }
  },
  {
   "cell_type": "markdown",
   "source": [
    "### isbn\n",
    "Pour Hurtubise, on sait que l'isbn peut être multiple, mais toujours de taille 13. On normalise donc simplement.\n",
    "On peut remarque que certains livres ont plusieurs isbns, mais pas plus de 3"
   ],
   "metadata": {
    "collapsed": false
   }
  },
  {
   "cell_type": "code",
   "execution_count": 24,
   "outputs": [
    {
     "name": "stdout",
     "output_type": "stream",
     "text": [
      "exemple d'isbn 13 normalisé: \n",
      "isbn initial(s):  ['9782897815189', '9782896473304', '9782896476503'] isbn traité:  ['9782897815189', '9782896473304', '9782896476503']\n",
      "exemple de livre avec plus de 60 isbn \n",
      "isbn initial(s):  ['9782897815189', '9782896473304', '9782896476503']... isbn traité:  ['97828978...\n",
      "nb d'isbn:  3\n"
     ]
    }
   ],
   "source": [
    "for exemple in Hurtubise_books:\n",
    "    good_exemple = False\n",
    "    for isbn in exemple.isbns_raw:\n",
    "        if len(isbn.replace(\"\\\"\", \"\")) == 13 and isbn.replace(\"\\\"\", \"\")[-1] != 'X':\n",
    "            good_exemple = True\n",
    "    if good_exemple:\n",
    "        print(\"exemple d'isbn 13 normalisé: \\nisbn initial(s): \", exemple.isbns_raw, \"isbn traité: \", exemple.isbns)\n",
    "        break\n",
    "for exemple in Hurtubise_books:\n",
    "    if len(exemple.isbns_raw) > 2:\n",
    "        print(\"exemple de livre avec plus de 60 isbn \\nisbn initial(s): \", str(exemple.isbns_raw)[0:100] + \"...\", \"isbn traité: \", str(exemple.isbns)[0:10] + \"...\")\n",
    "        print('nb d\\'isbn: ', len(exemple.isbns_raw))\n",
    "        break"
   ],
   "metadata": {
    "collapsed": false,
    "pycharm": {
     "name": "#%%\n"
    }
   }
  },
  {
   "cell_type": "markdown",
   "source": [
    "On veut compter le nombre d'isbn des livres:"
   ],
   "metadata": {
    "collapsed": false,
    "pycharm": {
     "name": "#%% md\n"
    }
   }
  },
  {
   "cell_type": "code",
   "execution_count": 25,
   "outputs": [
    {
     "name": "stdout",
     "output_type": "stream",
     "text": [
      "543  livres ont  3  isbns\n",
      "474  livres ont  1  isbns\n",
      "295  livres ont  2  isbns\n",
      "1  livres ont  0  isbns\n"
     ]
    }
   ],
   "source": [
    "counter_isbn = Counter([len(book.isbns) for book in Hurtubise_books])\n",
    "for key, value in dict(sorted(counter_isbn.items(), key=lambda x: x[1], reverse=True)).items():\n",
    "    print(value, \" livres ont \", key, \" isbns\")"
   ],
   "metadata": {
    "collapsed": false,
    "pycharm": {
     "name": "#%%\n"
    }
   }
  },
  {
   "cell_type": "markdown",
   "source": [
    "###Babelio\n",
    "\n",
    "####Global"
   ],
   "metadata": {
    "collapsed": false,
    "pycharm": {
     "name": "#%% md\n"
    }
   }
  },
  {
   "cell_type": "code",
   "execution_count": 26,
   "outputs": [],
   "source": [
    "with open('../Data/Babelio/babelio_livres.json', 'r') as f:\n",
    "    Babelio_books_data = json.load(f, cls=BookJSONDecoder, encoding=\"utf-8\")\n",
    "\n",
    "with open('../Data/Babelio/babelio_auteurs.json', 'r') as f:\n",
    "    Babelio_authors_data = json.load(f, cls=BookJSONDecoder, encoding=\"utf-8\")\n",
    "\n",
    "stats_book = get_babelio_stats_from_items(Babelio_books_data)\n",
    "stats_author = get_babelio_stats_from_items(Babelio_authors_data)\n",
    "\n",
    "Babelio_books = get_Babelio_books(Babelio_books_data)"
   ],
   "metadata": {
    "collapsed": false,
    "pycharm": {
     "name": "#%%\n"
    }
   }
  },
  {
   "cell_type": "markdown",
   "source": [
    "Livres:"
   ],
   "metadata": {
    "collapsed": false,
    "pycharm": {
     "name": "#%% md\n"
    }
   }
  },
  {
   "cell_type": "code",
   "execution_count": 27,
   "outputs": [
    {
     "name": "stdout",
     "output_type": "stream",
     "text": [
      "{\n",
      "    \"total\": 5553,\n",
      "    \"url\": 5553,\n",
      "    \"url_by_value\": {\n",
      "        \"https://www.babelio.com/livres/Sevigny-Sans-terre/887589\": 1,\n",
      "        \"https://www.babelio.com/livres/Leroux-Madame-Victoria/768705\": 1,\n",
      "        \"https://www.babelio.com/livres/Tremblay-Hotel-Bristol-New-York-N-Y/160254\": 1,\n",
      "        \"https://www.babelio.com/livres/Tremblay-Le-passage-oblige/244745\": 1,\n",
      "        \"https://www.babelio.com/livres/Beaudoin-Hadassa/124739\": 1,\n",
      "        \"https://www.babelio.com/livres/Senecal-Quinze-minutes/459141\": 1,\n",
      "        \"https://www.babelio.com/livres/Dompierre-Un-petit-pas-pour-lhomme/46346\": 1,\n",
      "        \"https://www.babelio.com/livres/Boulerice-Javotte/417516\": 1,\n",
      "        \"https://www.babelio.com/livres/Tremblay-Le-coeur-decouvert/37083\": 1,\n",
      "        \"https://www.babelio.com/livres/Proulx-Ce-quil-reste-de-moi/708379\": 1\n",
      "    },\n",
      "    \"titre\": 5553,\n",
      "    \"titre_by_value\": {\n",
      "        \" Po\\u00e8mes \": 4,\n",
      "        \" Po\\u00e9sies compl\\u00e8tes \": 3,\n",
      "        \" Nous \": 3,\n",
      "        \" Po\\u00e8mes choisis \": 2,\n",
      "        \" Yukonnaise \": 2,\n",
      "        \" Kamouraska \": 2,\n",
      "        \" Maria Chapdelaine \": 2,\n",
      "        \" Mouvances \": 2,\n",
      "        \" La petite patrie \": 2,\n",
      "        \" Ombres \": 2\n",
      "    },\n",
      "    \"auteur\": 6159,\n",
      "    \"auteur_by_value\": {\n",
      "        \"Michel  Tremblay\": 55,\n",
      "        \"Fran\\u00e7ois  Gravel\": 40,\n",
      "        \"Chrystine  Brouillet\": 37,\n",
      "        \"Louise  Tremblay-d'Essiambre\": 30,\n",
      "        \"Michel  David\": 28,\n",
      "        \"Patrick  Sen\\u00e9cal\": 24,\n",
      "        \"Marie  Laberge\": 24,\n",
      "        \"Dominique  Demers\": 23,\n",
      "        \"Gilles  Archambault\": 22,\n",
      "        \"Fran\\u00e7ois  Barcelo\": 22\n",
      "    },\n",
      "    \"id_auteur\": 5553,\n",
      "    \"id_auteur_by_value\": {\n",
      "        \"/auteur/Michel-Tremblay/7243\": 55,\n",
      "        \"/auteur/Francois-Gravel/48018\": 39,\n",
      "        \"/auteur/Chrystine-Brouillet/6073\": 36,\n",
      "        \"/auteur/Louise-Tremblay-dEssiambre/54622\": 30,\n",
      "        \"/auteur/Michel-David/28284\": 28,\n",
      "        \"/auteur/Marie-Laberge/12749\": 24,\n",
      "        \"/auteur/Patrick-Senecal/6796\": 23,\n",
      "        \"/auteur/Dominique-Demers/37912\": 23,\n",
      "        \"/auteur/Gilles-Archambault/2653\": 22,\n",
      "        \"/auteur/Francois-Barcelo/27368\": 22\n",
      "    },\n",
      "    \"infos\": 5553,\n",
      "    \"infos_by_value\": {\n",
      "        \"              \\u00c9diteur :   (01/01/1900)   \": 55,\n",
      "        \"              \\u00c9diteur : Coup d'oeil  (01/01/2012)   \": 3,\n",
      "        \"              \\u00c9diteur : Bor\\u00e9al  (01/01/1900)   \": 3,\n",
      "        \"              \\u00c9diteur : Lem\\u00e9ac (Editeur)  (01/01/1980)   \": 2,\n",
      "        \"              \\u00c9diteur : Les \\u00e9ditions Qu\\u00e9b\\u00e9cor  (01/01/1900)   \": 2,\n",
      "        \"              \\u00c9diteur : Stank\\u00e9  (30/11/-1)   \": 2,\n",
      "        \" EAN : 9782361393090              \\u00c9diteur : Le Mot et le reste  (23/04/2020)   \": 1,\n",
      "        \" EAN : 9782896941926              \\u00c9diteur : Alto  (01/01/2015)   \": 1,\n",
      "        \" EAN : 9782742725830   90 pages            \\u00c9diteur : Actes Sud  (01/01/2000)   \": 1,\n",
      "        \" EAN : 9782742795697   248 pages            \\u00c9diteur : Actes Sud  (02/03/2011)   \": 1\n",
      "    },\n",
      "    \"editeur\": 5420,\n",
      "    \"editeur_by_value\": {\n",
      "        \"Bor\\u00e9al\": 319,\n",
      "        \"VLB Editeur\": 315,\n",
      "        \"Qu\\u00e9bec Am\\u00e9rique\": 219,\n",
      "        \"Lem\\u00e9ac (Editeur)\": 191,\n",
      "        \"\\u00c9ditions Hurtubise\": 133,\n",
      "        \"La Courte Echelle\": 133,\n",
      "        \"Libre Expression\": 118,\n",
      "        \"Le Noroit\": 113,\n",
      "        \"Xyz\": 107,\n",
      "        \"Editions Alire\": 88\n",
      "    },\n",
      "    \"note\": 4823,\n",
      "    \"note_by_value\": {\n",
      "        \"4\": 859,\n",
      "        \"3\": 675,\n",
      "        \"3.5\": 348,\n",
      "        \"5\": 289,\n",
      "        \"4.5\": 175,\n",
      "        \"2\": 174,\n",
      "        \"2.5\": 115,\n",
      "        \"3.67\": 99,\n",
      "        \"3.75\": 99,\n",
      "        \"3.25\": 75\n",
      "    },\n",
      "    \"nb_note\": 4823,\n",
      "    \"nb_note_by_value\": {\n",
      "        \"1\": 1614,\n",
      "        \"2\": 793,\n",
      "        \"3\": 433,\n",
      "        \"4\": 287,\n",
      "        \"5\": 197,\n",
      "        \"6\": 151,\n",
      "        \"7\": 128,\n",
      "        \"8\": 93,\n",
      "        \"9\": 90,\n",
      "        \"11\": 56\n",
      "    },\n",
      "    \"resume\": 5260,\n",
      "    \"resume_by_value\": {\n",
      "        \" La revue de l'ann\\u00e9e en caricatures. \": 3,\n",
      "        \" Anouk a quitt\\u00e9 son appartement confortable de Montr\\u00e9al pour un refuge fore..\": 2,\n",
      "        \" N\\u00e9 \\u00e0 Louiseville en 1952, Denuis Saint-Yves a \\u00e9tudi\\u00e9 \\u00e0 l\\u2019Universit\\u00e9 du Qu\\u00e9..\": 2,\n",
      "        \" Tout le monde conna\\u00eet Pierre Falardeau ou, du moins, croit le conna\\u00eetre. S..\": 2,\n",
      "        \" Pour l'inspecteur Th\\u00e9berge, tout d\\u00e9bute avec la d\\u00e9couverte, dans la voitur..\": 2,\n",
      "        \" Simon Perrot ! Marie l'a aim\\u00e9 de tout son \\u00eatre. Elle a d\\u00e9sir\\u00e9 l'\\u00e9pouser. E..\": 2,\n",
      "        \" En 2013, le pr\\u00e9sident chinois Xi Jinping annon\\u00e7ait un projet d'envergure q..\": 2,\n",
      "        \"Roman de politique-fiction, ce texte se d\\u00e9roule dans les coulisses du pouvo..\": 2,\n",
      "        \" Le roman d'aventures qu\\u00e9b\\u00e9cois du XIXe si\\u00e8cle est tr\\u00e8s souvent historique...\": 2,\n",
      "        \" L\\u2019\\u00cele d\\u2019Orl\\u00e9ans est un bout de terre fertile, baign\\u00e9 des eaux du Saint-Lau..\": 1\n",
      "    },\n",
      "    \"etiquettes\": {\n",
      "        \"tag\": 46099,\n",
      "        \"tag_by_value\": {\n",
      "            \" litt\\u00e9rature qu\\u00e9b\\u00e9coise  \": 4106,\n",
      "            \" qu\\u00e9b\\u00e9cois  \": 2371,\n",
      "            \" roman  \": 1686,\n",
      "            \" r\\u00e9cits  \": 888,\n",
      "            \" \\u00e9crivain femme  \": 755,\n",
      "            \" litt\\u00e9rature jeunesse  \": 643,\n",
      "            \" amour  \": 621,\n",
      "            \" po\\u00e9sie  \": 617,\n",
      "            \" qu\\u00e9bec  \": 579,\n",
      "            \" recueil  \": 518\n",
      "        },\n",
      "        \"info\": 46099,\n",
      "        \"info_by_value\": {\n",
      "            \"tag_t14 tc_1 tc_noreco00 tc_noaff00 tc_bold \": 19447,\n",
      "            \"tag_t14 tc_0 tc_noreco00 tc_noaff00 tc_bold \": 7738,\n",
      "            \"tag_t14 tc_2 tc_noreco00 tc_noaff00 tc_bold \": 6723,\n",
      "            \"tag_t26 tc_0 tc_noreco00 tc_noaff00 tc_bold \": 1615,\n",
      "            \"tag_t26 tc_2 tc_noreco00 tc_noaff00 tc_bold \": 1107,\n",
      "            \"tag_t26 tc_1 tc_noreco00 tc_noaff00 tc_bold \": 899,\n",
      "            \"tag_t19 tc_1 tc_noreco00 tc_noaff00 tc_bold \": 750,\n",
      "            \"tag_t17 tc_1 tc_noreco00 tc_noaff00 tc_bold \": 629,\n",
      "            \"tag_t16 tc_1 tc_noreco00 tc_noaff00 tc_bold \": 536,\n",
      "            \"tag_t21 tc_1 tc_noreco00 tc_noaff00 tc_bold \": 505\n",
      "        },\n",
      "        \"importance\": 46099,\n",
      "        \"importance_by_value\": {\n",
      "            \"14\": 34811,\n",
      "            \"26\": 3686,\n",
      "            \"19\": 1582,\n",
      "            \"21\": 1226,\n",
      "            \"17\": 1150,\n",
      "            \"18\": 968,\n",
      "            \"16\": 881,\n",
      "            \"20\": 376,\n",
      "            \"23\": 376,\n",
      "            \"15\": 374\n",
      "        }\n",
      "    },\n",
      "    \"commentaire\": {\n",
      "        \"id\": 17006,\n",
      "        \"id_by_value\": {\n",
      "            \"B_CRI2291176\": 1,\n",
      "            \"B_CRI2321052\": 1,\n",
      "            \"B_CRI2202376\": 1,\n",
      "            \"B_CRI2318248\": 1,\n",
      "            \"B_CRI1210731\": 1,\n",
      "            \"B_CRI2310443\": 1,\n",
      "            \"B_CRI2310424\": 1,\n",
      "            \"B_CRI1281583\": 1,\n",
      "            \"B_CRI2342178\": 1,\n",
      "            \"B_CRI1496294\": 1\n",
      "        },\n",
      "        \"auteur\": 17006,\n",
      "        \"auteur_by_value\": {\n",
      "            \"Cielvariable\": 441,\n",
      "            \"Lali\": 252,\n",
      "            \"Neneve\": 215,\n",
      "            \"bilodoh\": 212,\n",
      "            \"iarsenea\": 159,\n",
      "            \"ManonCC\": 151,\n",
      "            \"Errant\": 134,\n",
      "            \"argali\": 110,\n",
      "            \"MarianneRichard\": 108,\n",
      "            \"GB\": 104\n",
      "        },\n",
      "        \"date\": 17006,\n",
      "        \"date_by_value\": {\n",
      "            \"07 novembre 2016\": 41,\n",
      "            \"30 mars 2011\": 41,\n",
      "            \"08 novembre 2016\": 40,\n",
      "            \"24 juin 2010\": 33,\n",
      "            \"20 septembre 2020\": 30,\n",
      "            \"05 janvier 2017\": 26,\n",
      "            \"15 novembre 2016\": 25,\n",
      "            \"22 janvier 2017\": 25,\n",
      "            \"07 novembre 2018\": 24,\n",
      "            \"14 septembre 2019\": 22\n",
      "        },\n",
      "        \"note\": 15464,\n",
      "        \"note_by_value\": {\n",
      "            \"4.0\": 5245,\n",
      "            \"5.0\": 4283,\n",
      "            \"3.0\": 2739,\n",
      "            \"2.0\": 847,\n",
      "            \"3.5\": 835,\n",
      "            \"4.5\": 819,\n",
      "            \"1.0\": 334,\n",
      "            \"2.5\": 253,\n",
      "            \"1.5\": 58,\n",
      "            \"0.5\": 51\n",
      "        },\n",
      "        \"popularite\": 17006,\n",
      "        \"popularite_by_value\": {\n",
      "            \"0\": 3784,\n",
      "            \"1\": 3015,\n",
      "            \"2\": 1939,\n",
      "            \"3\": 1584,\n",
      "            \"4\": 1050,\n",
      "            \"5\": 843,\n",
      "            \"6\": 640,\n",
      "            \"7\": 531,\n",
      "            \"8\": 354,\n",
      "            \"9\": 343\n",
      "        },\n",
      "        \"contenu\": 16999,\n",
      "        \"contenu_by_value\": {\n",
      "            \" Lien : \": 78,\n",
      "            \"  trop bien  \": 11,\n",
      "            \"  Malgr\\u00e9 ses 650 pages, c'est un livre que j'ai lu rapidement. L'histoire e..\": 11,\n",
      "            \"  J ai bien aim\\u00e9 le tome 2\": 10,\n",
      "            \"  Une belle s\\u00e9rie. Une  avec une belle plume. Mais pour ma part... trop lon..\": 9,\n",
      "            \"  Une \\u00e9pop\\u00e9e grandiose pour les jeunes que j'ai lu adulte. J'ai aim\\u00e9. Une t..\": 9,\n",
      "            \"  Cette bande dessin\\u00e9e est un v\\u00e9ritable voyage historique dans un petit vil..\": 7,\n",
      "            \"  Excellent! Beaucoup conseill\\u00e9!  \": 7,\n",
      "            \"  .  \": 7,\n",
      "            \" Hatley est \\u00e0 la retraite depuis peu apr\\u00e8s plus de 35 ans pass\\u00e9s \\u00e0 travaill..\": 7\n",
      "        }\n",
      "    },\n",
      "    \"extrait\": {\n",
      "        \"id\": 23594,\n",
      "        \"id_by_value\": {\n",
      "            \"B_CIT2068353\": 1,\n",
      "            \"B_CIT1071445\": 1,\n",
      "            \"B_CIT2067756\": 1,\n",
      "            \"B_CIT2067512\": 1,\n",
      "            \"B_CIT2067509\": 1,\n",
      "            \"B_CIT2067506\": 1,\n",
      "            \"B_CIT1071452\": 1,\n",
      "            \"B_CIT1071450\": 1,\n",
      "            \"B_CIT1071444\": 1,\n",
      "            \"B_CIT1071418\": 1\n",
      "        },\n",
      "        \"auteur\": 23594,\n",
      "        \"auteur_by_value\": {\n",
      "            \"rkhettaoui\": 4784,\n",
      "            \"Cielvariable\": 2468,\n",
      "            \"Lali\": 1421,\n",
      "            \"ManonCC\": 644,\n",
      "            \"bilodoh\": 350,\n",
      "            \"Lucie16\": 346,\n",
      "            \"coco4649\": 329,\n",
      "            \"sweetie\": 264,\n",
      "            \"M-Pi\": 258,\n",
      "            \"fanfanouche24\": 257\n",
      "        },\n",
      "        \"date\": 23594,\n",
      "        \"date_by_value\": {\n",
      "            \"14 mai 2013\": 214,\n",
      "            \"21 novembre 2015\": 106,\n",
      "            \"01 mars 2020\": 88,\n",
      "            \"07 avril 2013\": 87,\n",
      "            \"10 avril 2018\": 76,\n",
      "            \"21 mai 2012\": 73,\n",
      "            \"05 juillet 2015\": 67,\n",
      "            \"06 janvier 2019\": 67,\n",
      "            \"18 avril 2014\": 65,\n",
      "            \"16 d\\u00e9cembre 2015\": 61\n",
      "        },\n",
      "        \"popularite\": 23594,\n",
      "        \"popularite_by_value\": {\n",
      "            \"0\": 7039,\n",
      "            \"1\": 5950,\n",
      "            \"2\": 2940,\n",
      "            \"3\": 1730,\n",
      "            \"4\": 1280,\n",
      "            \"5\": 865,\n",
      "            \"6\": 649,\n",
      "            \"7\": 428,\n",
      "            \"8\": 323,\n",
      "            \"9\": 270\n",
      "        },\n",
      "        \"contenu\": 23589,\n",
      "        \"contenu_by_value\": {\n",
      "            \"  Le sourire chez un mort, c'est une derni\\u00e8re politesse. \": 4,\n",
      "            \"  Tous les espoirs y sont permis et les interdits s'y effondrent dans le fr..\": 3,\n",
      "            \"  je les lu se livre et moi qui a jamais lu de livre sans con me loblige je pouver plus marreter \": 3,\n",
      "            \"  - Grand-m\\u00e8re, pourquoi les Am\\u00e9ricains ont-ils envoy\\u00e9 deux bombes atomique..\": 3,\n",
      "            \"  Une culture qui ne tient compte que des vivants est en danger de mort. \": 3,\n",
      "            \"  je trouve que le 3ieme tome d'aurelie laflamme est le meilleure des septs..\": 3,\n",
      "            \"  Le saumon qui bondit et lutte, un m\\u00eame spectacle pour trois hommes diff\\u00e9r..\": 3,\n",
      "            \"  Depuis des mill\\u00e9naires, la sagesse de l\\u2019\\u00e9vidence suffit \\u00e0 ce peuple : si ..\": 3,\n",
      "            \"  La vie est un combat o\\u00f9 la tristesse entra\\u00eene la d\\u00e9faite. \": 3,\n",
      "            \"  Depuis le temps que tu parles aux morts, fit Cr\\u00e9peau, c'est un peu normal que ce soit leur tour. \": 3\n",
      "        }\n",
      "    },\n",
      "    \"date_edtition\": 5290,\n",
      "    \"date_edtition_by_value\": {\n",
      "        \"01/09/2005\": 250,\n",
      "        \"20/09/2005\": 204,\n",
      "        \"01/01/1900\": 159,\n",
      "        \"25/10/2006\": 54,\n",
      "        \"01/01/2012\": 43,\n",
      "        \"01/01/2010\": 33,\n",
      "        \"01/01/2001\": 29,\n",
      "        \"01/07/1998\": 27,\n",
      "        \"01/01/2008\": 27,\n",
      "        \"01/01/2013\": 26\n",
      "    },\n",
      "    \"isbn\": 5338,\n",
      "    \"isbn_by_value\": {\n",
      "        \"978\": 80,\n",
      "        \"9782361393090\": 1,\n",
      "        \"9782896941926\": 1,\n",
      "        \"9782742725830\": 1,\n",
      "        \"9782742795697\": 1,\n",
      "        \"9782896494132\": 1,\n",
      "        \"9782749909042\": 1,\n",
      "        \"9782760933569\": 1,\n",
      "        \"9782742706303\": 1,\n",
      "        \"9782764623817\": 1\n",
      "    },\n",
      "    \"nb_pages\": 2589,\n",
      "    \"nb_pages_by_value\": {\n",
      "        \"160\": 45,\n",
      "        \"32\": 43,\n",
      "        \"192\": 33,\n",
      "        \"96\": 32,\n",
      "        \"224\": 29,\n",
      "        \"128\": 27,\n",
      "        \"64\": 26,\n",
      "        \"30\": 25,\n",
      "        \"24\": 24,\n",
      "        \"48\": 24\n",
      "    }\n",
      "}\n"
     ]
    }
   ],
   "source": [
    "print(json.dumps(format_result(stats_book), indent=4))"
   ],
   "metadata": {
    "collapsed": false,
    "pycharm": {
     "name": "#%%\n"
    }
   }
  },
  {
   "cell_type": "markdown",
   "source": [
    "Auteurs"
   ],
   "metadata": {
    "collapsed": false,
    "pycharm": {
     "name": "#%% md\n"
    }
   }
  },
  {
   "cell_type": "code",
   "execution_count": 28,
   "outputs": [
    {
     "name": "stdout",
     "output_type": "stream",
     "text": [
      "{\n",
      "    \"total\": 2768,\n",
      "    \"url\": 2768,\n",
      "    \"url_by_value\": {\n",
      "        \"https://www.babelio.com/auteur/Simon-Roy/326355\": 1,\n",
      "        \"https://www.babelio.com/auteur/Milena-Babin/302343\": 1,\n",
      "        \"https://www.babelio.com/auteur/Diane-Lavoie/284029\": 1,\n",
      "        \"https://www.babelio.com/auteur/Veronique-Cote/226136\": 1,\n",
      "        \"https://www.babelio.com/auteur/Charlotte-Gingras/54313\": 1,\n",
      "        \"https://www.babelio.com/auteur/Michel-Jean/149380\": 1,\n",
      "        \"https://www.babelio.com/auteur/Marilyne-Fortin/333365\": 1,\n",
      "        \"https://www.babelio.com/auteur/ric-Plamondon/221283\": 1,\n",
      "        \"https://www.babelio.com/auteur/Olivia-Tapiero/129690\": 1,\n",
      "        \"https://www.babelio.com/auteur/Gilles-Archambault/2653\": 1\n",
      "    },\n",
      "    \"name\": 2768,\n",
      "    \"name_by_value\": {\n",
      "        \" Simon Roy\": 1,\n",
      "        \" Mil\\u00e9na Babin\": 1,\n",
      "        \" Diane Lavoie\": 1,\n",
      "        \" V\\u00e9ronique C\\u00f4t\\u00e9\": 1,\n",
      "        \" Charlotte Gingras\": 1,\n",
      "        \" Michel Jean\": 1,\n",
      "        \" Marilyne Fortin\": 1,\n",
      "        \" \\u00c9ric Plamondon\": 1,\n",
      "        \" Olivia Tapiero\": 1,\n",
      "        \" Gilles Archambault\": 1\n",
      "    },\n",
      "    \"infos\": 2135,\n",
      "    \"infos_by_value\": {\n",
      "        \" Nationalit\\u00e9 :  Canada \": 413,\n",
      "        \" Nationalit\\u00e9 :  Canada  +\": 107,\n",
      "        \" Nationalit\\u00e9 :  France \": 33,\n",
      "        \" Nationalit\\u00e9 :  Canada   N\\u00e9(e) \\u00e0 : Montr\\u00e9al  \": 21,\n",
      "        \" Nationalit\\u00e9 :  France  +\": 16,\n",
      "        \"+\": 15,\n",
      "        \" Nationalit\\u00e9 :  Canada   N\\u00e9(e) \\u00e0 : Qu\\u00e9bec   +\": 7,\n",
      "        \" Nationalit\\u00e9 :  Canada   N\\u00e9(e) \\u00e0 : Qu\\u00e9bec  \": 7,\n",
      "        \" Nationalit\\u00e9 :  Canada    N\\u00e9(e)  :   1946\": 5,\n",
      "        \" Nationalit\\u00e9 :  Canada    N\\u00e9(e)  :   1969\": 5\n",
      "    },\n",
      "    \"bio\": 2171,\n",
      "    \"bio_by_value\": {\n",
      "        \" Biographie :    Simon Roy est professeur de litt\\u00e9rature au Coll\\u00e8ge Lionel-..\": 1,\n",
      "        \" Biographie :    \\u00c9tudiante au baccalaur\\u00e9at en langue fran\\u00e7aise et r\\u00e9daction..\": 1,\n",
      "        \" Biographie :    Diane Lavoie est designer de costumes et travaille \\u00e0 Radio..\": 1,\n",
      "        \" Biographie :    V\\u00e9ronique C\\u00f4t\\u00e9, qui a \\u00e9tudi\\u00e9 au Conservatoire d'art dramat..\": 1,\n",
      "        \" Biographie :    Charlotte Gingras est une romanci\\u00e8re qu\\u00e9b\\u00e9coise. Elle a fa..\": 1,\n",
      "        \" Biographie :    Michel Jean est journaliste et auteur canadien. Apr\\u00e8s un b..\": 1,\n",
      "        \" Biographie :    C'est en r\\u00e9digeant son m\\u00e9moire de ma\\u00eetrise en histoire que..\": 1,\n",
      "        \" Biographie :    \\u00c9ric Plamondon est un \\u00e9crivain qu\\u00e9b\\u00e9cois. Il est dipl\\u00f4m\\u00e9 d..\": 1,\n",
      "        \" Biographie :    Olivia Tapiero est un auteur de romans. \\u00c9tudiante au D\\u00e9par..\": 1,\n",
      "        \" Biographie :    Gilles Archambault  obtient son baccalaur\\u00e9at au Coll\\u00e8ge Sa..\": 1\n",
      "    },\n",
      "    \"etiquettes\": {\n",
      "        \"tag\": 35657,\n",
      "        \"tag_by_value\": {\n",
      "            \" litt\\u00e9rature qu\\u00e9b\\u00e9coise\": 1891,\n",
      "            \" qu\\u00e9b\\u00e9cois\": 1394,\n",
      "            \" roman\": 991,\n",
      "            \" r\\u00e9cits\": 886,\n",
      "            \" \\u00e9crivain femme\": 603,\n",
      "            \" recueil\": 500,\n",
      "            \" amour\": 484,\n",
      "            \" litt\\u00e9rature jeunesse\": 415,\n",
      "            \" po\\u00e9sie\": 407,\n",
      "            \" qu\\u00e9bec\": 351\n",
      "        },\n",
      "        \"info\": 35657,\n",
      "        \"info_by_value\": {\n",
      "            \"tc_1 tag_t14  tc_noreco00 tc_noaff00  \": 13646,\n",
      "            \"tc_0 tag_t14  tc_noreco00 tc_noaff00  \": 4216,\n",
      "            \"tc_2 tag_t14  tc_noreco00 tc_noaff00  \": 3061,\n",
      "            \"tc_1 tag_t16  tc_noreco00 tc_noaff00  \": 1486,\n",
      "            \"tc_1 tag_t15  tc_noreco00 tc_noaff00  \": 1447,\n",
      "            \"tc_0 tag_t26  tc_noreco00 tc_noaff00  \": 1210,\n",
      "            \"tc_1 tag_t17  tc_noreco00 tc_noaff00  \": 999,\n",
      "            \"tc_1 tag_t26  tc_noreco00 tc_noaff00  \": 944,\n",
      "            \"tc_1 tag_t18  tc_noreco00 tc_noaff00  \": 732,\n",
      "            \"tc_2 tag_t26  tc_noreco00 tc_noaff00  \": 706\n",
      "        },\n",
      "        \"importance\": 35657,\n",
      "        \"importance_by_value\": {\n",
      "            \"14\": 21352,\n",
      "            \"26\": 2893,\n",
      "            \"16\": 2569,\n",
      "            \"15\": 2529,\n",
      "            \"17\": 1838,\n",
      "            \"18\": 1492,\n",
      "            \"20\": 1393,\n",
      "            \"22\": 513,\n",
      "            \"19\": 463,\n",
      "            \"23\": 202\n",
      "        }\n",
      "    },\n",
      "    \"relations\": 13559,\n",
      "    \"relations_by_value\": {\n",
      "        \"/auteur/Rejean-Ducharme/21878\": 272,\n",
      "        \"/monprofil.php?id_user=23022\": 231,\n",
      "        \"/auteur/Michel-Tremblay/7243\": 211,\n",
      "        \"/auteur/Anne-Hebert/14788\": 173,\n",
      "        \"/auteur/Jacques-Godbout/24190\": 93,\n",
      "        \"/auteur/Marie-Laberge/12749\": 78,\n",
      "        \"/auteur/Yvon-Rivard/21628\": 66,\n",
      "        \"/auteur/Jacques-Ferron/34621\": 66,\n",
      "        \"/auteur/Jacques-Poulin/13681\": 60,\n",
      "        \"/auteur/Robert-Lalonde/21753\": 59\n",
      "    },\n",
      "    \"note\": 2464,\n",
      "    \"note_by_value\": {\n",
      "        \"4\": 283,\n",
      "        \"3\": 258,\n",
      "        \"3.5\": 156,\n",
      "        \"5\": 86,\n",
      "        \"2\": 73,\n",
      "        \"3.67\": 60,\n",
      "        \"3.75\": 59,\n",
      "        \"4.5\": 46,\n",
      "        \"2.5\": 46,\n",
      "        \"3.25\": 38\n",
      "    },\n",
      "    \"nb_note\": 2464,\n",
      "    \"nb_note_by_value\": {\n",
      "        \"1\": 478,\n",
      "        \"2\": 300,\n",
      "        \"3\": 200,\n",
      "        \"4\": 166,\n",
      "        \"5\": 110,\n",
      "        \"6\": 97,\n",
      "        \"7\": 91,\n",
      "        \"8\": 56,\n",
      "        \"10\": 43,\n",
      "        \"11\": 41\n",
      "    },\n",
      "    \"bibliographie\": 14948,\n",
      "    \"bibliographie_by_value\": {\n",
      "        \"/livres/Larochelle-Premieres-amours/512884\": 2,\n",
      "        \"/livres/Monette-Et-Mathilde-chantait/372718\": 2,\n",
      "        \"/livres/Seymour-Le-gout-de-lelegance/1220801\": 2,\n",
      "        \"/livres/Ferron-Anthologie-de-la-nouvelle-au-Quebec/421872\": 2,\n",
      "        \"/livres/Coup-de-Pouce-150-plats-vege-savoureux/441662\": 2,\n",
      "        \"/livres/Martel-LHistoire-de-Pi/4955\": 2,\n",
      "        \"/livres/Martel-Beatrice-et-Virgile/189929\": 2,\n",
      "        \"/livres/Buies-La-Vallee-de-la-Matapedia-Ouvrage-Historique-Et-D/1238735\": 2,\n",
      "        \"/livres/Buies-Le-Saguenay-et-le-Bassin-du-Lac-Saint-Jean-Ouvrag/1238040\": 2,\n",
      "        \"/livres/Villeneuve-Les-mysteres-de-Felicio/707546\": 2\n",
      "    },\n",
      "    \"interview\": {\n",
      "        \"url\": 2110,\n",
      "        \"url_by_value\": {\n",
      "            \"https://www.youtube.com/v/GTK07coIrc0?version=3\": 7,\n",
      "            \"https://www.youtube.com/v/cImRfZjf8lg?version=3\": 6,\n",
      "            \"https://www.youtube.com/v/YHi3hvEl4V0?version=3\": 5,\n",
      "            \"https://www.youtube.com/v/hrV915UMIC8?version=3\": 5,\n",
      "            \"https://www.youtube.com/v/KEmD60-ARLE?version=3\": 5,\n",
      "            \"https://www.youtube.com/v/gzD8dO5iln8?version=3\": 3,\n",
      "            \"https://www.youtube.com/v/oejDAigJEeY?version=3\": 3,\n",
      "            \"https://www.youtube.com/v/kg-TB9aay-E?version=3\": 3,\n",
      "            \"https://www.youtube.com/v/ykZshKEbmKY?version=3\": 3,\n",
      "            \"https://www.youtube.com/v/8VqgBp6JUFA?version=3\": 3\n",
      "        },\n",
      "        \"date\": 2110,\n",
      "        \"date_by_value\": {\n",
      "            \"Par INA\": 71,\n",
      "            \"19 novembre 2018\": 51,\n",
      "            \"13 novembre 2013\": 36,\n",
      "            \"10 mars 2012\": 36,\n",
      "            \"04 mars 2012\": 29,\n",
      "            \"15 f\\u00e9vrier 2019\": 24,\n",
      "            \"07 janvier 2013\": 22,\n",
      "            \"19 d\\u00e9cembre 2015\": 20,\n",
      "            \"19 d\\u00e9cembre 2019\": 19,\n",
      "            \"18 mars 2011\": 19\n",
      "        },\n",
      "        \"description\": 2101,\n",
      "        \"description_by_value\": {\n",
      "            \" re\\u00e7oit  ,   et  . Les libraires en coulisses, une initiative de l?Associat..\": 12,\n",
      "            \"                Vid\\u00e9o de Grelet Nadine            \": 7,\n",
      "            \"                Catherine Trudeau re\\u00e7oit  ,   et   au Salon du livre de Mon..\": 6,\n",
      "            \"\\u00e0 propos des Rencontres qu\\u00e9b\\u00e9coises en Ha\\u00efti \\u00e0 propos des Rencontres qu\\u00e9b\\u00e9c..\": 6,\n",
      "            \"                Vid\\u00e9o de Bryan Perro            \": 6,\n",
      "            \"                Vid\\u00e9o de Sylvie Payette            \": 6,\n",
      "            \": \": 5,\n",
      "            \"                L'\\u00e9crivain   re\\u00e7oit  ,   et  . Les libraires en coulisses, ..\": 5,\n",
      "            \"                Vid\\u00e9o de Am\\u00e9lie Dubois            \": 5,\n",
      "            \"                L'\\u00e9crivaine   re\\u00e7oit  ,   et  . Les libraires en coulisses,..\": 5\n",
      "        }\n",
      "    },\n",
      "    \"nationalite\": 1502,\n",
      "    \"nationalite_by_value\": {\n",
      "        \":  Canada  \": 1063,\n",
      "        \":  Canada   \": 292,\n",
      "        \":  France  \": 69,\n",
      "        \":  France   \": 35,\n",
      "        \":  \\u00c9tats-Unis  \": 11,\n",
      "        \":  Belgique  \": 10,\n",
      "        \":  Belgique   \": 4,\n",
      "        \":  Italie  \": 3,\n",
      "        \":  Ha\\u00efti  \": 3,\n",
      "        \":  \\u00c9tats-Unis   \": 3\n",
      "    },\n",
      "    \"lieu_de_naissance\": 1125,\n",
      "    \"lieu_de_naissance_by_value\": {\n",
      "        \"\\u00e0 : Montr\\u00e9al \": 247,\n",
      "        \"\\u00e0 : Qu\\u00e9bec \": 102,\n",
      "        \"\\u00e0 : Montr\\u00e9al\": 20,\n",
      "        \"\\u00e0 : Montr\\u00e9al  \": 17,\n",
      "        \"\\u00e0 : Sherbrooke \": 16,\n",
      "        \"\\u00e0 : Trois-Rivi\\u00e8res \": 16,\n",
      "        \"\\u00e0 : Paris \": 15,\n",
      "        \"\\u00e0 : Chicoutimi \": 11,\n",
      "        \"\\u00e0 : Qu\\u00e9bec  \": 9,\n",
      "        \"\\u00e0 : Longueuil \": 8\n",
      "    },\n",
      "    \"date_de_naissance\": 552,\n",
      "    \"date_de_naissance_by_value\": {\n",
      "        \"21/03/1945\": 2,\n",
      "        \"13/12/1946\": 2,\n",
      "        \"30/11/1957\": 2,\n",
      "        \"19/04/1955\": 2,\n",
      "        \"19/11/1953\": 2,\n",
      "        \"10/12/1943\": 1,\n",
      "        \"19/09/1933\": 1,\n",
      "        \"11/01/1962\": 1,\n",
      "        \"12/10/1880\": 1,\n",
      "        \"12/11/1957\": 1\n",
      "    },\n",
      "    \"lieu_de_mort\": 136,\n",
      "    \"lieu_de_mort_by_value\": {\n",
      "        \"\\u00e0 : Montr\\u00e9al \": 49,\n",
      "        \"\\u00e0 : Qu\\u00e9bec \": 15,\n",
      "        \"\\u00e0 : Montr\\u00e9al\": 6,\n",
      "        \"\\u00e0 : Paris \": 4,\n",
      "        \"\\u00e0 : Montr\\u00e9al  \": 3,\n",
      "        \"\\u00e0 : Ottawa \": 2,\n",
      "        \"\\u00e0 : Longueuil \": 2,\n",
      "        \"\\u00e0 : Ottawa\": 2,\n",
      "        \"\\u00e0 : Drummondville \": 2,\n",
      "        \"\\u00e0 : Lac M\\u00e9gantic\": 1\n",
      "    },\n",
      "    \"pays_de_naissance\": 59,\n",
      "    \"pays_de_naissance_by_value\": {\n",
      "        \"Qu\\u00e9bec\": 19,\n",
      "        \"Ontario\": 5,\n",
      "        \"Ha\\u00efti\": 3,\n",
      "        \"Canada\": 2,\n",
      "        \"Manitoba\": 2,\n",
      "        \"Nouveau-Brunswick\": 2,\n",
      "        \"QC\": 2,\n",
      "        \"Montr\\u00e9al\": 2,\n",
      "        \"Maroc\": 2,\n",
      "        \"Liban\": 1\n",
      "    },\n",
      "    \"pays_de_mort\": 6,\n",
      "    \"pays_de_mort_by_value\": {\n",
      "        \"Canada\": 2,\n",
      "        \"Ontario\": 1,\n",
      "        \"Qu\\u00e9bec\": 1,\n",
      "        \"QC\": 1,\n",
      "        \"Mauricie, Qu\\u00e9bec\": 1\n",
      "    },\n",
      "    \"date_de_mort\": 104,\n",
      "    \"date_de_mort_by_value\": {\n",
      "        \"8/07/1913\": 1,\n",
      "        \"14/12/1996\": 1,\n",
      "        \"07/03/1841\": 1,\n",
      "        \"19/12/2016\": 1,\n",
      "        \"18/01/2016\": 1,\n",
      "        \"22/02/1960\": 1,\n",
      "        \"04/08/1882\": 1,\n",
      "        \"12/10/1978\": 1,\n",
      "        \"27/02/2010\": 1,\n",
      "        \"12/10/1994\": 1\n",
      "    },\n",
      "    \"prix\": 37,\n",
      "    \"prix_by_value\": {\n",
      "        \"SNCF du Polar  - 2019\": 1,\n",
      "        \"Goncourt  - G\\u00e9n\\u00e9ral - 1979\": 1,\n",
      "        \"Grand Prix de l'imaginaire  - Roman Francophone - 1982\": 1,\n",
      "        \"M\\u00e9diterran\\u00e9e  - Fran\\u00e7ais - 2013\": 1,\n",
      "        \"Angoul\\u00eame  - Grand Prix - 2003\": 1,\n",
      "        \"Grand Prix de l'imaginaire  - Roman Francophone - 1983\": 1,\n",
      "        \"Acad\\u00e9mie Fran\\u00e7aise  - Grand prix du roman - 2017\": 1,\n",
      "        \"Deux Magots  - 1998\": 1,\n",
      "        \"Acad\\u00e9mie Fran\\u00e7aise  - Grand prix de la francophonie - 1989\": 1,\n",
      "        \"Man Booker Prize  - 2002\": 1\n",
      "    }\n",
      "}\n"
     ]
    }
   ],
   "source": [
    "print(json.dumps(format_result(stats_author), indent=4))"
   ],
   "metadata": {
    "collapsed": false,
    "pycharm": {
     "name": "#%%\n"
    }
   }
  },
  {
   "cell_type": "markdown",
   "source": [
    "### titre\n",
    "Pour le titre on normalise simplement"
   ],
   "metadata": {
    "collapsed": false
   }
  },
  {
   "cell_type": "code",
   "execution_count": 29,
   "outputs": [
    {
     "name": "stdout",
     "output_type": "stream",
     "text": [
      "exemple simple: titre intial:  Ces étrangers du dedans : Une histoire d'écriture migrante au Québec (1937-1997)   titre traité:  ces etrangers du dedans une histoire d ecriture migrante au quebec\n"
     ]
    }
   ],
   "source": [
    "for exemple in Babelio_books:\n",
    "    if \"(\" in exemple.title_raw and exemple.title:\n",
    "        print(\"exemple simple: titre intial:\", exemple.title_raw, \" titre traité: \", exemple.title)\n",
    "        break"
   ],
   "metadata": {
    "collapsed": false,
    "pycharm": {
     "name": "#%%\n"
    }
   }
  },
  {
   "cell_type": "markdown",
   "source": [
    "### auteur\n",
    "Pour les auteurs, on normalise en utilisant la fonction de normalisation. Il n'y a pas besoin de traiter plus loin.\n",
    "On peut remarque que certains livres comportent une quantité conséquente d'auteur"
   ],
   "metadata": {
    "collapsed": false
   }
  },
  {
   "cell_type": "code",
   "execution_count": 30,
   "outputs": [
    {
     "name": "stdout",
     "output_type": "stream",
     "text": [
      "auteur(s) initial(s):  ['Patrick  Senécal', 'Richard  Goulet', 'Nicole  Roberge', 'Claude  Hébert', 'Réjean  Côte', 'Gino  Saint-Germain', 'Maurice  Landry', 'Nathalie  Saint-Germain', \"L'abbé Germain  Langelier\", 'Carmelle  Bourgeois-Pelletier', 'Solange  Lebel', 'Valérie  Leclair', 'Francis  Bruneau', 'Mélodie  Roy', 'Luc  LeClerc', 'François  Desfossés', 'Yves  Boisvert', 'Denise  Lizotte', 'Lorraine  Gingras'] auteur(s) traité:  ['patrick senecal', 'richard goulet', 'nicole roberge', 'claude hebert', 'rejean cote', 'gino saint-germain', 'maurice landry', 'nathalie saint-germain', 'abbe germain langelier', 'carmelle bourgeois-pelletier', 'solange lebel', 'valerie leclair', 'francis bruneau', 'melodie roy', 'luc leclerc', 'francois desfosses', 'yves boisvert', 'denise lizotte', 'lorraine gingras']\n"
     ]
    }
   ],
   "source": [
    "for exemple in Babelio_books:\n",
    "    good_exemple = False\n",
    "    if len(exemple.authors) > 5:\n",
    "        for author in exemple.authors_raw:\n",
    "            if '-' in author:\n",
    "                good_exemple = True\n",
    "    if good_exemple:\n",
    "        print(\"auteur(s) initial(s): \", exemple.authors_raw, \"auteur(s) traité: \", exemple.authors)\n",
    "        break"
   ],
   "metadata": {
    "collapsed": false,
    "pycharm": {
     "name": "#%%\n"
    }
   }
  },
  {
   "cell_type": "markdown",
   "source": [
    "### isbn\n",
    "Pour Babelio, on sait que l'isbn est unique et de la forme isbn 13 (car EAN)"
   ],
   "metadata": {
    "collapsed": false
   }
  },
  {
   "cell_type": "code",
   "execution_count": 31,
   "outputs": [
    {
     "name": "stdout",
     "output_type": "stream",
     "text": [
      "exemple d'isbn 13 normalisé: \n",
      "isbn initial(s):  ['9782361393090'] isbn traité:  ['9782361393090']\n"
     ]
    }
   ],
   "source": [
    "for exemple in Babelio_books:\n",
    "    good_exemple = False\n",
    "    for isbn in exemple.isbns_raw:\n",
    "        if len(isbn.replace(\"\\\"\", \"\")) == 13 and isbn.replace(\"\\\"\", \"\")[-1] != 'X':\n",
    "            good_exemple = True\n",
    "    if good_exemple:\n",
    "        print(\"exemple d'isbn 13 normalisé: \\nisbn initial(s): \", exemple.isbns_raw, \"isbn traité: \", exemple.isbns)\n",
    "        break"
   ],
   "metadata": {
    "collapsed": false,
    "pycharm": {
     "name": "#%%\n"
    }
   }
  },
  {
   "cell_type": "markdown",
   "source": [
    "# Comparaison des livres"
   ],
   "metadata": {
    "collapsed": false
   }
  },
  {
   "cell_type": "code",
   "execution_count": 32,
   "outputs": [
    {
     "name": "stdout",
     "output_type": "stream",
     "text": [
      "ADP_loading_time:  11.84359860420227\n",
      "DL_loading_time:  47.14095640182495\n",
      "ILE_loading time:  4.9068779945373535\n",
      "Hurtubise_loading time:  0.06313133239746094\n",
      "Babelio_loading_time time:  0.5107293128967285\n"
     ]
    }
   ],
   "source": [
    "all_books = generate_all_books(save=False)\n",
    "\n",
    "def compare_book_on_title(book1, book2):\n",
    "    if book1.title and book2.title:\n",
    "        title_eq = Equivalence.PAS_EQUIVALENT\n",
    "        if Levenshtein.distance(book1.title, book2.title) < max(1, min(len(book1.title), len(book2.title)) / 4):\n",
    "            title_eq = Equivalence.EQUIVALENT\n",
    "    else:\n",
    "        title_eq = Equivalence.PAS_INFO\n",
    "    return title_eq\n",
    "\n",
    "\n",
    "def compare_book_on_isbns(book1, book2):\n",
    "    # Comparaison des isbns par intersection des listes\n",
    "    if book1.isbns and book2.isbns:\n",
    "        isbn_eq = Equivalence.PAS_EQUIVALENT\n",
    "        for isbn1 in book1.isbns:\n",
    "            for isbn2 in book2.isbns:\n",
    "                if compare_isbn(isbn1, isbn2):\n",
    "                    isbn_eq = Equivalence.EQUIVALENT\n",
    "    else:\n",
    "        isbn_eq = Equivalence.PAS_INFO\n",
    "    return isbn_eq\n",
    "\n",
    "\n",
    "def compare_book_on_authors(book1, book2):\n",
    "    #Comparaison des auteurs par intersection des listes\n",
    "    if book1.authors and book2.authors:\n",
    "        author_eq = Equivalence.PAS_EQUIVALENT\n",
    "        for author1 in book1.authors:\n",
    "            for author2 in book2.authors:\n",
    "                if compare_authors(author1, author2):\n",
    "                    author_eq = Equivalence.EQUIVALENT\n",
    "    else:\n",
    "        author_eq = Equivalence.PAS_INFO\n",
    "    return author_eq"
   ],
   "metadata": {
    "collapsed": false,
    "pycharm": {
     "name": "#%%\n"
    }
   }
  },
  {
   "cell_type": "markdown",
   "source": [
    "## isbn"
   ],
   "metadata": {
    "collapsed": false
   }
  },
  {
   "cell_type": "code",
   "execution_count": 33,
   "outputs": [
    {
     "name": "stdout",
     "output_type": "stream",
     "text": [
      "exemple de non-concordance d'isbn => isbn1:  ['\"9782896835027\"']  isbn2:  ['\"0000000064637\"']\n",
      "exemple de manque d'infornation => isbn1:  ['\"9782896835027\"']  isbn2:  [' (Br.)\\n']\n",
      "exemple de concordance d'isbn => isbn1:  ['\"9782896511006\"']  isbn2:  ['\"9782896511006\"']\n"
     ]
    }
   ],
   "source": [
    "found_equal, found_non_equals, found_non_info = False, False, False\n",
    "for book1, book2 in combinations(all_books, 2):\n",
    "    isbn_eq = compare_book_on_isbns(book1, book2)\n",
    "    if not found_equal and isbn_eq == Equivalence.EQUIVALENT:\n",
    "        found_equal = True\n",
    "        print(\"exemple de concordance d'isbn => isbn1: \", book1.isbns_raw, \" isbn2: \", book2.isbns_raw)\n",
    "    if not found_non_equals and isbn_eq == Equivalence.PAS_EQUIVALENT:\n",
    "        found_non_equals = True\n",
    "        print(\"exemple de non-concordance d'isbn => isbn1: \", book1.isbns_raw, \" isbn2: \", book2.isbns_raw)\n",
    "    if not found_non_info and isbn_eq == Equivalence.PAS_INFO:\n",
    "        found_non_info = True\n",
    "        print(\"exemple de manque d'infornation => isbn1: \", book1.isbns_raw, \" isbn2: \", book2.isbns_raw)\n",
    "    if found_equal and found_non_equals and found_non_info:\n",
    "        break"
   ],
   "metadata": {
    "collapsed": false,
    "pycharm": {
     "name": "#%%\n"
    }
   }
  },
  {
   "cell_type": "markdown",
   "source": [
    "## auteur"
   ],
   "metadata": {
    "collapsed": false
   }
  },
  {
   "cell_type": "code",
   "execution_count": 34,
   "outputs": [
    {
     "name": "stdout",
     "output_type": "stream",
     "text": [
      "exemple de manque d'infornation => auteur1:  ['\"\" \"\"']  auteur2:  ['MARCEL-MARIE O.P. DESMARAIS']\n",
      "exemple de non-concordance d'auteurs => auteur1:  ['MARCEL-MARIE O.P. DESMARAIS']  auteur2:  ['Eric Pier Sperandio']\n",
      "exemple de concordance d'auteurs => auteur1:  ['MARCEL-MARIE O.P. DESMARAIS']  auteur2:  ['\"Louis\" \"Desmarais\"']\n"
     ]
    }
   ],
   "source": [
    "found_equal, found_non_equals, found_non_info = False, False, False\n",
    "for book1, book2 in combinations(all_books, 2):\n",
    "    author_eq = compare_book_on_authors(book1, book2)\n",
    "    if not found_equal and author_eq == Equivalence.EQUIVALENT:\n",
    "        found_equal = True\n",
    "        print(\"exemple de concordance d'auteurs => auteur1: \", book1.authors_raw, \" auteur2: \", book2.authors_raw)\n",
    "    if not found_non_equals and author_eq == Equivalence.PAS_EQUIVALENT:\n",
    "        found_non_equals = True\n",
    "        print(\"exemple de non-concordance d'auteurs => auteur1: \", book1.authors_raw, \" auteur2: \", book2.authors_raw)\n",
    "    if not found_non_info and author_eq == Equivalence.PAS_INFO:\n",
    "        found_non_info = True\n",
    "        print(\"exemple de manque d'infornation => auteur1: \", book1.authors_raw, \" auteur2: \", book2.authors_raw)\n",
    "    if found_equal and found_non_equals and found_non_info:\n",
    "        break"
   ],
   "metadata": {
    "collapsed": false,
    "pycharm": {
     "name": "#%%\n"
    }
   }
  },
  {
   "cell_type": "markdown",
   "source": [
    "## titres"
   ],
   "metadata": {
    "collapsed": false
   }
  },
  {
   "cell_type": "code",
   "execution_count": 35,
   "outputs": [
    {
     "name": "stdout",
     "output_type": "stream",
     "text": [
      "exemple de non-concordance de titre => titre1:  Beyonders, tome 1  titre2:  Capsules d'optimisme\n",
      "exemple de manque d'infornation => titre1:  Beyonders, tome 1  titre2:  (ParenthÃ¨ses)\n",
      "exemple de concordance de titre => titre1:  Grimoire des herbes magiques  titre2:  Grimoire des objets magiques\n"
     ]
    }
   ],
   "source": [
    "found_equal, found_non_equals, found_non_info = False, False, False\n",
    "for book1, book2 in combinations(all_books, 2):\n",
    "    title_eq = compare_book_on_title(book1, book2)\n",
    "    if not found_equal and title_eq == Equivalence.EQUIVALENT:\n",
    "        found_equal = True\n",
    "        print(\"exemple de concordance de titre => titre1: \", book1.title_raw, \" titre2: \", book2.title_raw)\n",
    "    if not found_non_equals and title_eq == Equivalence.PAS_EQUIVALENT:\n",
    "        found_non_equals = True\n",
    "        print(\"exemple de non-concordance de titre => titre1: \", book1.title_raw, \" titre2: \", book2.title_raw)\n",
    "    if not found_non_info and title_eq == Equivalence.PAS_INFO:\n",
    "        found_non_info = True\n",
    "        print(\"exemple de manque d'infornation => titre1: \", book1.title_raw, \" titre2: \", book2.title_raw)\n",
    "    if found_equal and found_non_equals and found_non_info:\n",
    "        break"
   ],
   "metadata": {
    "collapsed": false,
    "pycharm": {
     "name": "#%%\n"
    }
   }
  },
  {
   "cell_type": "markdown",
   "source": [
    "# Analyse de la décision\n",
    "## Comparaison des livres sur plusieurs critères"
   ],
   "metadata": {
    "collapsed": false
   }
  },
  {
   "cell_type": "code",
   "execution_count": 36,
   "outputs": [
    {
     "name": "stdout",
     "output_type": "stream",
     "text": [
      "\n",
      "Les informations sont manquantes, pas de prise de décision\n",
      "BOOK <http://banq.qc.ca/livre/374249> de Depot_legal Valide:\n",
      "    titre: Beyonders, tome 1 => beyonders tome 1\n",
      "    auteur (x0): ['\"\" \"\"'] => []\n",
      "    isbn (x1): ['\"9782896835027\"'] => ['9782896835027']\n",
      " BOOK <http://www.sogides.com/livre/118611> de ADP Valide:\n",
      "    titre: Capsules d'optimisme => capsules d optimisme\n",
      "    auteur (x1): ['MARCEL-MARIE O.P. DESMARAIS'] => ['marcel-mariep desmarais']\n",
      "    isbn (x1): ['\"0000000064637\"'] => ['0000000064637']\n",
      "\n",
      "\n",
      "isbn different mais titre et auteurs egaux\n",
      "BOOK <http://www.sogides.com/livre/395161> de ADP Valide:\n",
      "    titre: Grimoire des herbes magiques => grimoire des herbes magiques\n",
      "    auteur (x1): ['Eric Pier Sperandio'] => ['eric pier sperandio']\n",
      "    isbn (x1): ['\"9782764021255\"'] => ['9782764021255']\n",
      " BOOK <http://www.sogides.com/livre/297468> de ADP Valide:\n",
      "    titre: Grimoire des objets magiques => grimoire des objets magiques\n",
      "    auteur (x1): ['Eric Pier Sperandio'] => ['eric pier sperandio']\n",
      "    isbn (x1): ['\"9782764009796\"'] => ['9782764009796']\n",
      "\n",
      "\n",
      "isbn egaux et titre similaire\n",
      "BOOK <http://banq.qc.ca/livre/276893> de Depot_legal Valide:\n",
      "    titre: Le gratte-ciel en caramel => le gratte-ciel en caramel\n",
      "    auteur (x1): ['\"Lili\" \"Chartrand\"'] => ['lili chartrand']\n",
      "    isbn (x1): ['\"9782896511006\"'] => ['9782896511006']\n",
      " BOOK <http://www.sogides.com/livre/489447> de ADP Valide:\n",
      "    titre: GRATTE-CIEL EN CARAMEL => gratte-ciel en caramel\n",
      "    auteur (x1): ['Lili Chartrand'] => ['lili chartrand']\n",
      "    isbn (x1): ['\"9782896511006\"'] => ['9782896511006']\n",
      "\n",
      "\n",
      "isbn different mais titres equivalents\n",
      "BOOK <http://banq.qc.ca/livre/276893> de Depot_legal Valide:\n",
      "    titre: Le gratte-ciel en caramel => le gratte-ciel en caramel\n",
      "    auteur (x1): ['\"Lili\" \"Chartrand\"'] => ['lili chartrand']\n",
      "    isbn (x1): ['\"9782896511006\"'] => ['9782896511006']\n",
      " BOOK <http://banq.qc.ca/livre/377321> de Depot_legal Valide:\n",
      "    titre: Le gratte-ciel en caramel => le gratte-ciel en caramel\n",
      "    auteur (x0): ['\"\" \"\"'] => []\n",
      "    isbn (x1): ['\"9782896950737\"'] => ['9782896950737']\n",
      "\n",
      "\n",
      "titre et auteurs egaux\n",
      "BOOK 19082 de ILE Valide:\n",
      "    titre: Supplique Ã  Notre TrÃ¨s-Saint Seigneur et PÃ¨re le Pape Pie IX => supplique a notre tres-saint seigneur et pere le pape pie ix\n",
      "    auteur (x1): [' Louis-FranÃ§ois LaflÃ¨che\\\\'] => ['louis-francois lafleche']\n",
      "    isbn (x0): [' (Br.)\\n'] => []\n",
      " BOOK 19115 de ILE Valide:\n",
      "    titre: Supplique Ã  Notre TrÃ¨s-Saint Seigneur et PÃ¨re le Pape Pie IX => supplique a notre tres-saint seigneur et pere le pape pie ix\n",
      "    auteur (x1): [' Louis-FranÃ§ois LaflÃ¨che\\\\'] => ['louis-francois lafleche']\n",
      "    isbn (x0): [' (Br.)\\n'] => []\n",
      "\n",
      "\n",
      "isbn egaux mais titre très differents\n",
      "BOOK 23341 de ILE Valide:\n",
      "    titre: Ã la recherche du Lucy-Jane => a la recherche du lucy-jane\n",
      "    auteur (x1): [' Anne Bernard-Lenoir\\\\'] => ['anne bernard-lenoir']\n",
      "    isbn (x1): ['978-2-89428-960-0 (br.)|2-89428-960-X\\n'] => ['9782894289600289428960X']\n",
      " BOOK 9782894289600 de Hurtubise Valide:\n",
      "    titre: Les Aventures de Laura Berger - Tome 1 => les aventures de laura berger - tome 1\n",
      "    auteur (x1): ['Anne Bernard Lenoir (De (auteur))'] => ['anne bernard lenoir']\n",
      "    isbn (x2): ['9782894289600', '9782896477562'] => ['9782894289600', '9782896477562']\n",
      "\n",
      "\n",
      "titre equivalents mais auteurs differents\n",
      "BOOK <http://banq.qc.ca/livre/47624> de Depot_legal Valide:\n",
      "    titre: Le passager => le passager\n",
      "    auteur (x1): ['\"Patrick\" \"Senécal\"'] => ['patrick senecal']\n",
      "    isbn (x1): ['\"2894302533\"'] => ['9782894302533']\n",
      " BOOK 11628 de ILE Valide:\n",
      "    titre: Le Passage => le passage\n",
      "    auteur (x1): [' Monique Proulx\\\\'] => ['monique proulx']\n",
      "    isbn (x0): ['\\n'] => []\n",
      "\n",
      "\n",
      "isbn egaux mais titre legerement differents\n",
      "BOOK <http://banq.qc.ca/livre/175474> de Depot_legal Valide:\n",
      "    titre: Les crêpes au sirop d'érable => les crepes au sirop d erable\n",
      "    auteur (x1): ['\"Laïla\" \"Héloua\"'] => ['laila heloua']\n",
      "    isbn (x2): ['\"2895790760\"', '\"9782895790761\"'] => ['9782895790760', '9782895790761']\n",
      " BOOK <http://www.sogides.com/livre/528593> de ADP Valide:\n",
      "    titre: CREPES AU SIROP ERABL 2 => crepes au sirop erabl 2\n",
      "    auteur (x1): ['Laïla Héloua'] => ['laila heloua']\n",
      "    isbn (x1): ['\"9782895790761\"'] => ['9782895790761']\n",
      "\n",
      "\n",
      "titre egaux mais pas d'infos en plus\n",
      "BOOK 24620 de ILE Valide:\n",
      "    titre: Ruego => ruego\n",
      "    auteur (x1): [' MichÃ¨le Laframboise\\\\'] => ['michele laframboise']\n",
      "    isbn (x0): ['\\n'] => []\n",
      " BOOK <http://banq.qc.ca/livre/373179> de Depot_legal Valide:\n",
      "    titre: Fuego => fuego\n",
      "    auteur (x0): ['\"\" \"\"'] => []\n",
      "    isbn (x2): ['\"9782897440268\"', '\"9782894234167\"'] => ['9782897440268', '9782894234167']\n",
      "\n"
     ]
    }
   ],
   "source": [
    "found = {}\n",
    "for case in Case:\n",
    "    found[case] = False\n",
    "for book1, book2 in combinations(all_books, 2):\n",
    "    results = compare_books(book1, book2)\n",
    "    if results == Case.ISBN_TITRE_EQ and found[results] == False:\n",
    "        print(\"\\nisbn egaux et titre similaire\")\n",
    "        print(book1, book2)\n",
    "    if results == Case.ISBN_EQ_TITRE_DIFF and found[results] == False:\n",
    "        print(\"\\nisbn egaux mais titre legerement differents\")\n",
    "        print(book1, book2)\n",
    "    if results == Case.ISBN_EQ_TITRE_T_DIFF and found[results] == False:\n",
    "        print(\"\\nisbn egaux mais titre très differents\")\n",
    "        print(book1, book2)\n",
    "    if results == Case.ISBN_DIFF_TITRE_EQ and found[results] == False:\n",
    "        print(\"\\nisbn different mais titres equivalents\")\n",
    "        print(book1, book2)\n",
    "    if results == Case.ISBN_DIFF_TITRE_AUTEUR_EQ and found[results] == False:\n",
    "        print(\"\\nisbn different mais titre et auteurs egaux\")\n",
    "        print(book1, book2)\n",
    "    if results == Case.TITRE_AUTEUR_EQ and found[results] == False:\n",
    "        print(\"\\ntitre et auteurs egaux\")\n",
    "        print(book1, book2)\n",
    "    if results == Case.TITRE_EQ_AUTEUR_DIFF and found[results] == False:\n",
    "        print(\"\\ntitre equivalents mais auteurs differents\")\n",
    "        print(book1, book2)\n",
    "    if results == Case.TITRE_EQ and found[results] == False:\n",
    "        print(\"\\ntitre egaux mais pas d'infos en plus\")\n",
    "        print(book1, book2)\n",
    "    if results == Case.PAS_INFO and found[results] == False:\n",
    "        print(\"\\nLes informations sont manquantes, pas de prise de décision\")\n",
    "        print(book1, book2)\n",
    "    found[results] = True\n",
    "    if all(found.values()):\n",
    "        break"
   ],
   "metadata": {
    "collapsed": false,
    "pycharm": {
     "name": "#%%\n"
    }
   }
  },
  {
   "cell_type": "markdown",
   "source": [
    "## Comparaison basée sur le titre"
   ],
   "metadata": {
    "collapsed": false
   }
  },
  {
   "cell_type": "code",
   "execution_count": 37,
   "outputs": [
    {
     "name": "stdout",
     "output_type": "stream",
     "text": [
      "\n",
      "maximum titre equivalent atteint pour 1/ 2  de la distance de Levenshtein\n",
      "\n",
      "BOOK <http://banq.qc.ca/livre/374249> de Depot_legal Valide:\n",
      "    titre: Beyonders, tome 1 => beyonders tome 1\n",
      "    auteur (x0): ['\"\" \"\"'] => []\n",
      "    isbn (x1): ['\"9782896835027\"'] => ['9782896835027']\n",
      " BOOK 9782896476039 de Hurtubise Valide:\n",
      "    titre: FÃ©licitÃ© - Tome 1 => felicite - tome 1\n",
      "    auteur (x1): ['Jean-Pierre Charland (De (auteur))'] => ['jean-pierre charland']\n",
      "    isbn (x3): ['9782896476039', '9782896476220', '9782896478569'] => ['9782896476039', '9782896476220', '9782896478569']\n",
      "\n",
      "\n",
      "maximum titre equivalent atteint pour 1/ 3  de la distance de Levenshtein\n",
      "\n",
      "BOOK 28557 de ILE Valide:\n",
      "    titre: Ã la recherche du soi  => a la recherche du soi\n",
      "    auteur (x1): [' Ginette Bureau\\\\'] => ['ginette bureau']\n",
      "    isbn (x1): ['978-2-923705-25-5\\n'] => ['9782923705255']\n",
      " BOOK <http://banq.qc.ca/livre/129730> de Depot_legal Valide:\n",
      "    titre: À la recherche du contraire => a la recherche du contraire\n",
      "    auteur (x1): ['\"Jacques\" \"Foucher\"'] => ['jacques foucher']\n",
      "    isbn (x1): ['\"2922717011\"'] => ['9782922717011']\n",
      "\n",
      "\n",
      "maximum titre equivalent atteint pour 1/ 4  de la distance de Levenshtein\n",
      "\n",
      "BOOK <http://banq.qc.ca/livre/108120> de Depot_legal Valide:\n",
      "    titre: La Juive => la juive\n",
      "    auteur (x1): ['\"François\" \"Canniccioni\"'] => ['francois canniccioni']\n",
      "    isbn (x1): ['\"2894483244\"'] => ['9782894483244']\n",
      " BOOK <http://banq.qc.ca/livre/24592> de Depot_legal Valide:\n",
      "    titre: La fuite => la fuite\n",
      "    auteur (x1): ['\"Denis\" \"Lévesque\"'] => ['denis levesque']\n",
      "    isbn (x1): ['\"2890899950\"'] => ['9782890899950']\n",
      "\n",
      "\n",
      "maximum titre equivalent atteint pour 1/ 5  de la distance de Levenshtein\n",
      "\n",
      "BOOK 3735 de ILE Valide:\n",
      "    titre: Des filles de beautÃ© => des filles de beaute\n",
      "    auteur (x1): [' Robert Baillie\\\\'] => ['robert baillie']\n",
      "    isbn (x1): ['2892950430 (br.)\\n'] => ['9782892950430']\n",
      " BOOK <http://banq.qc.ca/livre/414009> de Depot_legal Valide:\n",
      "    titre: Les filles de l'autre / => les filles de l autre\n",
      "    auteur (x1): ['\"Nicole\" \"Gagné\"'] => ['nicole gagne']\n",
      "    isbn (x1): ['\"9782981697608\"'] => ['9782981697608']\n",
      "\n",
      "\n",
      "maximum titre equivalent atteint pour 1/ 6  de la distance de Levenshtein\n",
      "\n",
      "BOOK <http://banq.qc.ca/livre/280311> de Depot_legal Valide:\n",
      "    titre: Évangéline et Gabriel => evangeline et gabriel\n",
      "    auteur (x1): ['\"Pauline\" \"Gill\"'] => ['pauline gill']\n",
      "    isbn (x1): ['\"9782892953794\"'] => ['9782892953794']\n",
      " BOOK <http://banq.qc.ca/livre/191902> de Depot_legal Valide:\n",
      "    titre: Évangéline & Gabriel => evangeline gabriel\n",
      "    auteur (x1): ['\"Pauline\" \"Gill\"'] => ['pauline gill']\n",
      "    isbn (x2): ['\"2894853718\"', '\"9782894853719\"'] => ['9782894853718', '9782894853719']\n",
      "\n",
      "\n",
      "maximum titre equivalent atteint pour 1/ 7  de la distance de Levenshtein\n",
      "\n",
      "BOOK <http://banq.qc.ca/livre/54562> de Depot_legal Valide:\n",
      "    titre: Errances => errances\n",
      "    auteur (x1): ['\"Sergio\" \"Kokis\"'] => ['sergio kokis']\n",
      "    isbn (x1): ['\"2892611733\"'] => ['9782892611733']\n",
      " BOOK 15925 de ILE Valide:\n",
      "    titre: Errance => errance\n",
      "    auteur (x1): [' Axel Maugey\\\\'] => ['axel maugey']\n",
      "    isbn (x0): ['\\n'] => []\n",
      "\n",
      "\n",
      "maximum titre equivalent atteint pour 1/ 8  de la distance de Levenshtein\n",
      "\n",
      "BOOK <http://banq.qc.ca/livre/397130> de Depot_legal Valide:\n",
      "    titre: La femme qui fuit => la femme qui fuit\n",
      "    auteur (x0): ['\"\" \"\"'] => []\n",
      "    isbn (x1): ['\"9782923896502\"'] => ['9782923896502']\n",
      " BOOK https://www.babelio.com/livres/Pilote-La-femme-qui-rit/1227876 de Babelio Valide:\n",
      "    titre:  La femme qui rit  => la femme qui rit\n",
      "    auteur (x1): ['Brigitte  Pilote'] => ['brigitte pilote']\n",
      "    isbn (x1): ['9782021450514'] => ['9782021450514']\n",
      "\n",
      "\n",
      "maximum titre equivalent atteint pour 1/ 9  de la distance de Levenshtein\n",
      "\n",
      "BOOK <http://www.sogides.com/livre/361039> de ADP Valide:\n",
      "    titre: La fille du Cardinal - Tome 3 => la fille du cardinal - tome 3\n",
      "    auteur (x1): ['Nadine Grelet'] => ['nadine grelet']\n",
      "    isbn (x1): ['\"9782892953251\"'] => ['9782892953251']\n",
      " BOOK https://www.babelio.com/livres/Grelet-La-fille-du-Cardinal-tome-1/165891 de Babelio Valide:\n",
      "    titre:  La fille du Cardinal, tome 1  => la fille du cardinal tome 1\n",
      "    auteur (x1): ['Nadine  Grelet'] => ['nadine grelet']\n",
      "    isbn (x1): ['9782896491131'] => ['9782896491131']\n",
      "\n"
     ]
    }
   ],
   "source": [
    "for threshold in range(2, 10):\n",
    "    for book1, book2 in combinations(all_books, 2):\n",
    "        if book1.title and book2.title:\n",
    "            if Levenshtein.distance(book1.title, book2.title) == min(len(book1.title), len(book2.title)) / threshold:\n",
    "                print(\"\\nmaximum titre equivalent atteint pour 1/\", threshold, \" de la distance de Levenshtein\\n\")\n",
    "                print(book1, book2)\n",
    "                break"
   ],
   "metadata": {
    "collapsed": false,
    "pycharm": {
     "name": "#%%\n"
    }
   }
  }
 ],
 "metadata": {
  "language_info": {
   "codemirror_mode": {
    "name": "ipython",
    "version": 2
   },
   "file_extension": ".py",
   "mimetype": "text/x-python",
   "name": "python",
   "nbconvert_exporter": "python",
   "pygments_lexer": "ipython2",
   "version": "2.7.6"
  },
  "kernelspec": {
   "name": "python3",
   "language": "python",
   "display_name": "Python 3"
  }
 },
 "nbformat": 4,
 "nbformat_minor": 0
}