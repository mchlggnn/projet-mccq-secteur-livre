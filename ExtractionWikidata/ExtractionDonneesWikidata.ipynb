{
 "cells": [
  {
   "cell_type": "code",
   "execution_count": null,
   "metadata": {},
   "outputs": [],
   "source": [
    "import requests\n",
    "import urllib.request\n",
    "import json\n",
    "\n",
    "from SPARQLWrapper import SPARQLWrapper, JSON\n"
   ]
  },
  {
   "cell_type": "markdown",
   "metadata": {},
   "source": [
    "## Wikidata"
   ]
  },
  {
   "cell_type": "markdown",
   "metadata": {},
   "source": [
    "### Recherche des auteurs dans Wikidata"
   ]
  },
  {
   "cell_type": "markdown",
   "metadata": {},
   "source": [
    "Les classes potentiellement pertinentes dans Wikidata sont les suivantes:\n",
    "\n",
    "* wd:Q36180 Écrivain\n",
    "    * wd:Q49757\t    poète\n",
    "    * wd:Q214917\tdramaturge\n",
    "    * wd:Q381353\tfemme de lettres\n",
    "    * wd:Q6625963\tromancier\n",
    "    * wd:Q4853732\tauteur de littérature pour la jeunesse\n",
    "    * wd:Q5434338\técrivain de fantasy\n",
    "    * wd:Q1626130\thomme de lettres\n",
    "    * wd:Q10297252\tauteur de roman policier\n",
    "    * wd:Q18844224\técrivain de science-fiction\n",
    "    * wd:Q15980158\tessayiste\n",
    "    * wd:Q26203955\tauteur de contes\n",
    "    * wd:Q11774202  essayiste\n",
    "    * wd:Q1930187   jounraliste\n",
    "    * wd:Q487596    dramaturge\n",
    "    * wd:Q201788    historien\n",
    "\n",
    "\n",
    "Dans une expérience préliminaire nous avons tenté de retrouver les personnes qui sont des instances de ces classes, nées au Canada et dont la langue est le français.\n",
    "\n",
    "Si on prend la liste des écrivains qu'on a ainsi extraite, et qu'on analyse les écrivains  qui ne se retrouvent pas dans DBpdedia, on peut faire les constatations suivantes:\n",
    "\n",
    "* Près du quart sont effectivement des écrivains québécois (les autres sont en général des auteurs hors Québec, des universitaires, ou des gens qui ne sont tout simplement pas écrivains)\n",
    "* Parmi les écrivains québécois, leur absence de la liste peut être expliquée par les raisons suivantes:\n",
    "    * Erreur dans l'écriture du nom, faisant en sorte que le nom ne correspond pas à l'URI dans DBpedia (Marc-André au lieu de Marc André, par exemple)\n",
    "    * La personne est présente dans Wikipedia mais pas dans DBpedia\n",
    "    * Dans la plupart des cas, les catégories associées à la personne n'ont pas permis de l'identifier clairement comme écrivain\n",
    "* Parmi les écrivains québécois, vraiment très peu sont membres de l'UNEQ (ce qui signifie que cela ne nous aiderait pas à les détecter)\n",
    "\n",
    "\n",
    "Il serait risqué d'utiliser cette liste extraite de Wikidata, puisqu'on aura environ 4000 instances qui ne sont pas des écrivains québécois.\n",
    "\n",
    "On va donc plutôt faire le contraire: on va tenter de prendre les écrivains que nous avons extrait de DBpedia et les retrouver dans Wikidata."
   ]
  },
  {
   "cell_type": "code",
   "execution_count": null,
   "metadata": {},
   "outputs": [],
   "source": [
    "from time import sleep\n",
    "\n",
    "f_dbpedia_fr = open('../Data/DBpedia/ecrivains_dbpedia_fr.txt')\n",
    "f_dbpedia_en = open('../Data/DBpedia/ecrivains_dbpedia_fr.txt')\n",
    "\n",
    "ecrivains = set()\n",
    "for l in f_dbpedia_fr.readlines():\n",
    "    (_,nom) = l.strip().split(' ; ')\n",
    "    ecrivains.add(nom)\n",
    "f_dbpedia_fr.close()\n",
    "\n",
    "for l in f_dbpedia_en.readlines():\n",
    "    (_,nom) = l.strip().split(' ; ')\n",
    "    ecrivains.add(nom)\n",
    "f_dbpedia_en.close()\n",
    "\n",
    "    \n",
    "\n",
    "\n",
    "\n",
    "\n",
    "q_ecrivain = \"\"\"\n",
    "SELECT  DISTINCT ?s \n",
    "WHERE \n",
    "{{\n",
    "\n",
    "  {{ ?s rdfs:label \"{0}\"@fr }} UNION {{ ?s rdfs:label \"{0}\"@en }} UNION {{ ?s skos:altLabel \"{0}\"@fr }}\n",
    "  \n",
    "  {{ ?s wdt:P106  wd:Q36180 }} UNION    \n",
    "  {{ ?s wdt:P106  wd:Q49757 }} UNION\n",
    "  {{ ?s wdt:P106  wd:Q214917 }} UNION\n",
    "  {{ ?s wdt:P106  wd:Q381353 }} UNION\n",
    "  {{ ?s wdt:P106  wd:Q6625963 }} UNION\n",
    "  {{ ?s wdt:P106  wd:Q4853732 }} UNION\n",
    "  {{ ?s wdt:P106  wd:Q5434338 }} UNION\n",
    "  {{ ?s wdt:P106  wd:Q1626130 }} UNION\n",
    "  {{ ?s wdt:P106  wd:Q10297252 }} UNION \n",
    "  {{ ?s wdt:P106  wd:Q18844224 }} UNION \n",
    "  {{ ?s wdt:P106  wd:Q15980158 }} UNION \n",
    "  {{ ?s wdt:P106  wd:Q26203955 }} UNION\n",
    "  {{ ?s wdt:P106  wd:Q11774202 }} UNION\n",
    "  {{ ?s wdt:P106  wd:Q1930187 }} UNION\n",
    "  {{ ?s wdt:P106  wd:Q487596 }} UNION\n",
    "  {{ ?s wdt:P106  wd:Q201788 }}\n",
    "\n",
    "}}\n",
    "\"\"\"\n",
    "\n",
    "ecrivains_wikidata = []\n",
    "\n",
    "for e in ecrivains:\n",
    "    sleep(1)\n",
    "    print(\"---\" + e + \"----\")\n",
    "    rep_wikidata_ecrivain = requests.get('https://query.wikidata.org/sparql?format=json&query=' + q_ecrivain.format(e))\n",
    "    if rep_wikidata_ecrivain.status_code == 200:\n",
    "        if len(rep_wikidata_ecrivain.json()['results']['bindings']) > 0:\n",
    "            for resultat in rep_wikidata_ecrivain.json()['results']['bindings']:\n",
    "                ecrivains_wikidata.append((e, resultat['s']['value']))\n",
    "                print(resultat['s'])\n",
    "        else:\n",
    "            print(\"PAS TROUVÉ DANS WIKIDATA\")\n",
    "    else:\n",
    "        print('ERREUR:',e)\n"
   ]
  },
  {
   "cell_type": "code",
   "execution_count": null,
   "metadata": {},
   "outputs": [],
   "source": [
    "print(\"Sur les\",len(ecrivains), 'trouvés dans DBpedia, on en retrouve',len(ecrivains_wikidata), \"dans Wikidata\")"
   ]
  },
  {
   "cell_type": "code",
   "execution_count": null,
   "metadata": {},
   "outputs": [],
   "source": [
    "f = open('../Data/Wikidata/ecrivains_wikidata2.txt','w')\n",
    "for (nom,uri) in ecrivains_wikidata:\n",
    "    f.write(\"{}<>{}\\n\".format(nom,uri))\n",
    "f.close()"
   ]
  },
  {
   "cell_type": "code",
   "execution_count": null,
   "metadata": {},
   "outputs": [],
   "source": []
  }
 ],
 "metadata": {
  "kernelspec": {
   "display_name": "Python 3",
   "language": "python",
   "name": "python3"
  },
  "language_info": {
   "codemirror_mode": {
    "name": "ipython",
    "version": 3
   },
   "file_extension": ".py",
   "mimetype": "text/x-python",
   "name": "python",
   "nbconvert_exporter": "python",
   "pygments_lexer": "ipython3",
   "version": "3.7.1"
  }
 },
 "nbformat": 4,
 "nbformat_minor": 2
}
