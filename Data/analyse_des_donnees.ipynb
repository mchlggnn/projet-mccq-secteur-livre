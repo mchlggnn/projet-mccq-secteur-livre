{
 "cells": [
  {
   "cell_type": "markdown",
   "source": [
    "# Analyse du traitement des données\n"
   ],
   "metadata": {
    "collapsed": false,
    "pycharm": {
     "name": "#%% md\n"
    }
   }
  },
  {
   "cell_type": "code",
   "execution_count": 48,
   "metadata": {
    "collapsed": true,
    "pycharm": {
     "is_executing": false
    }
   },
   "outputs": [],
   "source": [
    "import re\n",
    "import rdflib\n",
    "import time\n",
    "import csv\n",
    "import json\n"
   ]
  },
  {
   "cell_type": "markdown",
   "source": [
    "Le but des deux fonctions suivantes est de nettoyer les chaines de caractères, de supprimer les caractères non-ascii\n",
    "ou de les remplacer par leurs equivalents\n"
   ],
   "metadata": {
    "collapsed": false,
    "pycharm": {
     "name": "#%% md\n"
    }
   }
  },
  {
   "cell_type": "code",
   "execution_count": 2,
   "outputs": [],
   "source": [
    "def nettoyer_unicode(c):\n",
    "    liste_codes = {\n",
    "        'Ã\\xa0': 'à',\n",
    "        'Ã€': 'À',\n",
    "        'Ã¢': 'â',\n",
    "        'Ã‚': 'Â',\n",
    "        'Ã©': 'é',\n",
    "        'Ã\\x89': 'É',\n",
    "        'Ã\\xa8': 'è',\n",
    "        'Ã\\xaa': 'ê',\n",
    "        'Ã\\x8a': 'Ê',\n",
    "        'Ã«': 'ë',\n",
    "        'Ã®': 'î',\n",
    "        'Ã\\x8e': 'Î',\n",
    "        'Ã¯': 'ï',\n",
    "        'Ã´': 'ô',\n",
    "        'Ã\\x94': 'Ô',\n",
    "        'Ã¹': 'ù',\n",
    "        'Ã»': 'û',\n",
    "        'Å\\x93': 'œ',\n",
    "        'Â«': '«',\n",
    "        'Â»': '»',\n",
    "        'Ã§': 'ç',\n",
    "        'Ã\\x87': 'Ç',\n",
    "        'Âº': 'º',\n",
    "        'â\\x80\\x99': '’',\n",
    "        'â\\x80\\xa6': '…',\n",
    "    }\n",
    "\n",
    "    for code in liste_codes:\n",
    "        c = c.replace(code, liste_codes[code])\n",
    "\n",
    "    return c\n",
    "\n",
    "\n",
    "def nettoyer_accents(c):\n",
    "    \"\"\"\n",
    "    remplace les caractères et accents par leurs équivalents sans accents\n",
    "    :param c: str\n",
    "    :return: même str sans accents\n",
    "    \"\"\"\n",
    "    liste_codes = {\n",
    "        'ã': 'a',\n",
    "        'ã'.upper(): 'A',\n",
    "        'â': 'a',\n",
    "        'Â': 'A',\n",
    "        'à': 'a',\n",
    "        'À': 'A',\n",
    "        'ä': 'a',\n",
    "        'Ä': 'A',\n",
    "        'é': 'e',\n",
    "        'É': 'E',\n",
    "        'è': 'e',\n",
    "        'È': 'E',\n",
    "        'ê': 'e',\n",
    "        'Ê': 'E',\n",
    "        'ï': 'i',\n",
    "        'Ï': 'I',\n",
    "        'î': 'i',\n",
    "        'Î': 'I',\n",
    "        'ô': 'o',\n",
    "        'Ô': 'O',\n",
    "        'ö': 'o',\n",
    "        'Ö': 'O',\n",
    "        'ù': 'u',\n",
    "        'Ù': 'U',\n",
    "        'ü': 'u',\n",
    "        'Ü': 'U',\n",
    "        'û': 'u',\n",
    "        'Û': 'U',\n",
    "        'ÿ': 'y',\n",
    "        'Ÿ': 'y',\n",
    "        'ç': 'c',\n",
    "        'œ': 'oe',\n",
    "        '\\'': ' ',\n",
    "        '\"': '',\n",
    "    }\n",
    "\n",
    "    try:\n",
    "        for code in liste_codes:\n",
    "            c = c.replace(code, liste_codes[code])\n",
    "\n",
    "        return c\n",
    "\n",
    "    except:\n",
    "        return None\n"
   ],
   "metadata": {
    "collapsed": false,
    "pycharm": {
     "name": "#%%\n",
     "is_executing": false
    }
   }
  },
  {
   "cell_type": "markdown",
   "source": [
    "Fonction qui retire toutes les informations à l'interieur des parenthèses.\n",
    "Nous devons utiliser une boucle car les parenthèses peuvent être imbriquées\n",
    "ex: titre_de_l_oeuvre ( nom_auteur (principale))\n"
   ],
   "metadata": {
    "collapsed": false,
    "pycharm": {
     "name": "#%% md\n"
    }
   }
  },
  {
   "cell_type": "code",
   "execution_count": 3,
   "outputs": [],
   "source": [
    "def remove_text_between_parentheses(text):\n",
    "    n = 1  # run at least once\n",
    "    while n:\n",
    "        text, n = re.subn(r'\\([^()]*\\)', '', text)  # remove non-nested/flat balanced parts\n",
    "    return text\n"
   ],
   "metadata": {
    "collapsed": false,
    "pycharm": {
     "name": "#%%\n",
     "is_executing": false
    }
   }
  },
  {
   "cell_type": "markdown",
   "source": [
    "- On retire les caractères non-ascii et accents\n",
    "- On retire les parenthèses et leurs contenus\n",
    "- On supprimes tout les caractères non-alpha-numériques, et les doubles espaces, sauf le caractère \"-\", \n",
    "nécessaire pour les noms composés\n",
    "- On passe la chaine de caractère en lettres minuscules\n"
   ],
   "metadata": {
    "collapsed": false,
    "pycharm": {
     "name": "#%% md\n"
    }
   }
  },
  {
   "cell_type": "code",
   "execution_count": 4,
   "outputs": [],
   "source": [
    "def normalize(string):\n",
    "    \"\"\"\n",
    "    normalise une chaine de caractère pour faciliter leurs comparaisons\n",
    "    :param string: chaine de caractère à normaliser\n",
    "    :return: même chaine de caractère normalisée\n",
    "    \"\"\"\n",
    "\n",
    "    if isinstance(string, str) and string:\n",
    "        string = nettoyer_accents(nettoyer_unicode(string))\n",
    "        string = remove_text_between_parentheses(string)\n",
    "        string = ' '.join(re.sub(r'[^\\w\\s\\-]', ' ', string).split()).lower()\n",
    "        \n",
    "        return string\n",
    "    else:\n",
    "        return None\n"
   ],
   "metadata": {
    "collapsed": false,
    "pycharm": {
     "name": "#%%\n",
     "is_executing": false
    }
   }
  },
  {
   "cell_type": "markdown",
   "source": [
    "On normalise la chaine de caractère et on supprimer les lettres seules\n",
    "ex: A. Nom_de_famille => Nom_de_famille"
   ],
   "metadata": {
    "collapsed": false,
    "pycharm": {
     "name": "#%% md\n"
    }
   }
  },
  {
   "cell_type": "code",
   "execution_count": 5,
   "outputs": [],
   "source": [
    "def normalize_author(string):\n",
    "    \"\"\"\n",
    "    Processus de normalisation des auteurs,\n",
    "    permet de retirer les lettres isolées\n",
    "    :param string: chaine de caractère a traiter\n",
    "    :return: chaine de caractère traitée\n",
    "    \"\"\"\n",
    "    if isinstance(string, str) and string:\n",
    "        return re.sub(r'^\\w\\s|\\s\\w\\s|\\s\\w$', '', normalize(string))\n",
    "    else:\n",
    "        return None\n"
   ],
   "metadata": {
    "collapsed": false,
    "pycharm": {
     "name": "#%%\n",
     "is_executing": false
    }
   }
  },
  {
   "cell_type": "markdown",
   "source": [
    "- On retire le texte entre parenthèse\n",
    "- on supprime les carctères autre que numérique et 'X'\n",
    "- Si l'isbn est un isbn 10, on le transforme en isbn 13 en ajoutant '978' au début\n",
    "- On supprime le dernier chiffre et on le remplace par X (chiffre de controle). Si un chiffre manque, on l'ajoute simplement\n"
   ],
   "metadata": {
    "collapsed": false,
    "pycharm": {
     "name": "#%% md\n"
    }
   }
  },
  {
   "cell_type": "code",
   "execution_count": 6,
   "outputs": [],
   "source": [
    "def normalize_isbn(isbn):\n",
    "    \"\"\"\n",
    "    Retire tout les autres symboles que les chiffres\n",
    "    :param isbn: chaine de caractère\n",
    "    :return: chaine de caratère\n",
    "    \"\"\"\n",
    "    isbn = remove_text_between_parentheses(isbn)\n",
    "    isbn = re.sub(r'[^\\dX]', '', isbn)\n",
    "    if len(isbn) <= 10:\n",
    "        isbn = '978' + isbn\n",
    "    if len(isbn) == 13 or len(isbn) == 10:\n",
    "        isbn = isbn[:-1] + 'X'\n",
    "    elif len(isbn) == 12 or len(isbn) == 9:\n",
    "        isbn = isbn + 'X'\n",
    "    return isbn\n",
    "\n",
    "\n"
   ],
   "metadata": {
    "collapsed": false,
    "pycharm": {
     "name": "#%%\n",
     "is_executing": false
    }
   }
  },
  {
   "cell_type": "markdown",
   "source": [
    "## Analyse du traitement des données ADP\n"
   ],
   "metadata": {
    "collapsed": false,
    "pycharm": {
     "name": "#%% md\n"
    }
   }
  },
  {
   "cell_type": "code",
   "execution_count": 7,
   "outputs": [
    {
     "name": "stdout",
     "text": [
      "ADP_loading_time:  16.98366117477417\n"
     ],
     "output_type": "stream"
    }
   ],
   "source": [
    "start_loading_data_time = time.time()\n",
    "# Loading des données sauvegardées dans la mémoire ram\n",
    "g_book_ADP = rdflib.Graph()\n",
    "g_author_ADP = rdflib.Graph()\n",
    "ADP_book_graph = g_book_ADP.parse(\"../Graphes/grapheADPLivres.rdf\")\n",
    "ADP_author_graph = g_author_ADP.parse(\"../Graphes/grapheADPAuteurs.rdf\")\n",
    "\n",
    "ADP_books = []\n",
    "# Analyse des données ADP à partir des graphs\n",
    "# parcour des triplets du graph\n",
    "for subj, pred in g_book_ADP.subject_predicates(rdflib.URIRef(\"http://www.sogides.com/classe/Livre\")):\n",
    "    book_ADP = g_book_ADP.predicate_objects(subj)\n",
    "    book_ADP_resume = { 'id': subj.n3(), \"data_base\": \"ADP\",\n",
    "                        'title': '', 'author': [], 'isbn': [],\n",
    "                        'title_raw': '', 'author_raw': [], 'isbn_raw': []}\n",
    "\n",
    "    for info in book_ADP:\n",
    "        if info[0] == rdflib.URIRef(\"https://schema.org/name\"):\n",
    "            if not info[1].n3():\n",
    "                print(\"problème !!! infoADP: \", info)\n",
    "            book_ADP_resume['title'] = normalize(info[1])\n",
    "            book_ADP_resume['title_raw'] = info[1]\n",
    "        elif info[0] == rdflib.URIRef(\"https://schema.org/author\"):\n",
    "            author_ADP = g_author_ADP.predicate_objects(info[1])\n",
    "            for author_info in author_ADP:\n",
    "                if author_info[0] == rdflib.URIRef(\"https://schema.org/name\"):\n",
    "                    book_ADP_resume['author_raw'].append(author_info[1].n3())\n",
    "                    if author_info[1].n3().replace(\"\\\"\", \"\"):\n",
    "                        book_ADP_resume['author'].append(normalize_author(author_info[1].n3()))\n",
    "        elif info[0] == rdflib.URIRef(\"https://schema.org/isbn\"):\n",
    "            if isinstance(info[1].n3(), list):\n",
    "                print(\"stop\")\n",
    "            book_ADP_resume['isbn_raw'].append(info[1].n3())\n",
    "            book_ADP_resume['isbn'].append(normalize_isbn(info[1].n3()))\n",
    "    ADP_books.append(book_ADP_resume)\n",
    "\n",
    "ADP_loading_time = time.time()\n",
    "print(\"ADP_loading_time: \", ADP_loading_time - start_loading_data_time)\n"
   ],
   "metadata": {
    "collapsed": false,
    "pycharm": {
     "name": "#%%\n",
     "is_executing": false
    }
   }
  },
  {
   "cell_type": "markdown",
   "source": [
    "\n",
    "### titre\n",
    "Pour le titre on normalise simplement:\n"
   ],
   "metadata": {
    "collapsed": false,
    "pycharm": {
     "name": "#%% md\n"
    }
   }
  },
  {
   "cell_type": "code",
   "execution_count": 8,
   "outputs": [
    {
     "name": "stdout",
     "text": [
      "titre intial: Astronomie (l')  titre traité:  astronomie\n"
     ],
     "output_type": "stream"
    }
   ],
   "source": [
    "for exemple in ADP_books:\n",
    "    if \"(\" in exemple[\"title_raw\"]:\n",
    "        print(\"titre intial:\", exemple[\"title_raw\"], \" titre traité: \", exemple[\"title\"] )\n",
    "        break\n"
   ],
   "metadata": {
    "collapsed": false,
    "pycharm": {
     "name": "#%%\n",
     "is_executing": false
    }
   }
  },
  {
   "cell_type": "markdown",
   "source": [
    "### auteur\n",
    "\n",
    "Pour les auteurs, on normalise en utilisant la fonction de normalisation. Il n'y a pas besoin de traiter plus loin,\n",
    "car la séparation des auteurs est déjà effectuée dans le graph. On retire aussi les caractères '\"' qui sont redondants\n"
   ],
   "metadata": {
    "collapsed": false,
    "pycharm": {
     "name": "#%% md\n"
    }
   }
  },
  {
   "cell_type": "code",
   "execution_count": 9,
   "outputs": [
    {
     "name": "stdout",
     "text": [
      "auteur(s) initial(s):  ['\"Hélène Renaud\"', '\"Jean-Pierre Gagné\"'] auteur(s) traité:  ['helene renaud', 'jean-pierre gagne']\n"
     ],
     "output_type": "stream"
    }
   ],
   "source": [
    "for exemple in ADP_books:\n",
    "    good_exemple = False\n",
    "    if len(exemple[\"author\"]) > 1:\n",
    "        for author in exemple[\"author\"]:\n",
    "            if '-' in author:\n",
    "                good_exemple = True\n",
    "    if good_exemple:            \n",
    "        print(\"auteur(s) initial(s): \", exemple[\"author_raw\"], \"auteur(s) traité: \", exemple[\"author\"])\n",
    "        break   \n"
   ],
   "metadata": {
    "collapsed": false,
    "pycharm": {
     "name": "#%%\n",
     "is_executing": false
    }
   }
  },
  {
   "cell_type": "markdown",
   "source": [
    "### isbn\n",
    "\n",
    "Pour ADP, on sait que l'isbn est unique et qu'il sont tous des isbn 13.\n",
    "En revanche certains manquent le chiffre de contrôle. On se contente de le normaliser"
   ],
   "metadata": {
    "collapsed": false,
    "pycharm": {
     "name": "#%% md\n"
    }
   }
  },
  {
   "cell_type": "code",
   "execution_count": 10,
   "outputs": [
    {
     "name": "stdout",
     "text": [
      "exemple d'isbn avec le chiffre de controle manquant: \nisbn initial(s):  ['\"629048138522\"'] isbn traité:  ['629048138522X']\nexemple d'isbn 13 normalisé: \nisbn initial(s):  ['\"9782924381236\"'] isbn traité:  ['978292438123X']\n"
     ],
     "output_type": "stream"
    }
   ],
   "source": [
    "for exemple in ADP_books:\n",
    "    if len(exemple[\"isbn_raw\"][0].replace(\"\\\"\", \"\")) == 12:\n",
    "        print(\"exemple d'isbn avec le chiffre de controle manquant: \\nisbn initial(s): \", exemple[\"isbn_raw\"], \"isbn traité: \", exemple[\"isbn\"])\n",
    "        break\n",
    "for exemple in ADP_books:\n",
    "    if len(exemple[\"isbn_raw\"][0].replace(\"\\\"\", \"\")) == 13 and exemple[\"isbn_raw\"][0].replace(\"\\\"\", \"\")[-1] != 'X':\n",
    "        print(\"exemple d'isbn 13 normalisé: \\nisbn initial(s): \", exemple[\"isbn_raw\"], \"isbn traité: \", exemple[\"isbn\"])\n",
    "        break\n",
    "        "
   ],
   "metadata": {
    "collapsed": false,
    "pycharm": {
     "name": "#%%\n",
     "is_executing": false
    }
   }
  },
  {
   "cell_type": "markdown",
   "source": [
    "## Analyse du traitement des données Depot_legal\n"
   ],
   "metadata": {
    "collapsed": false
   }
  },
  {
   "cell_type": "code",
   "execution_count": 11,
   "outputs": [
    {
     "name": "stdout",
     "text": [
      "DL_loading_time:  79.84920859336853\n"
     ],
     "output_type": "stream"
    }
   ],
   "source": [
    "start_loading_data_time = time.time()\n",
    "g_item_DL = rdflib.Graph()\n",
    "book_graph_DL = g_item_DL.parse(\"../Graphes/grapheDepotLegal.rdf\")\n",
    "\n",
    "DL_books = []\n",
    "\n",
    "for subj, pred in g_item_DL.subject_predicates(rdflib.URIRef(\"http://dbpedia.org/ontology/Book\")):\n",
    "    book_DL = g_item_DL.predicate_objects(subj)\n",
    "    book_DL_resume = { 'id': subj.n3(), \"data_base\": \"Depot_legal\",\n",
    "                        'title': '', 'author': [], 'isbn': [],\n",
    "                        'title_raw': '', 'author_raw': [], 'isbn_raw': []}\n",
    "    for info in book_DL:\n",
    "        if info[0] == rdflib.URIRef(\"https://schema.org/name\"):\n",
    "            if info[1].n3():\n",
    "                book_DL_resume['title'] = normalize(info[1])\n",
    "                book_DL_resume['title_raw'] = info[1]\n",
    "            else:\n",
    "                print(\"gros probleme DL: \", subj)\n",
    "        elif info[0] == rdflib.URIRef(\"https://schema.org/author\"):\n",
    "            familyName = None\n",
    "            givenName = None\n",
    "            familyName_raw = None\n",
    "            givenName_raw = None\n",
    "            author_ADP = g_item_DL.predicate_objects(info[1])\n",
    "            for author_info in author_ADP:\n",
    "                if author_info[0] == rdflib.URIRef(\"https://schema.org/givenName\"):\n",
    "                    givenName = normalize_author(author_info[1].n3().replace(\"\\\"\", \"\")) if author_info[1].n3() else None\n",
    "                    givenName_raw = author_info[1].n3()\n",
    "                elif author_info[0] == rdflib.URIRef(\"https://schema.org/familyName\"):\n",
    "                    familyName = normalize_author(author_info[1].n3().replace(\"\\\"\", \"\")) if author_info[1].n3() else None\n",
    "                    familyName_raw = author_info[1].n3()\n",
    "            if familyName and givenName:\n",
    "                book_DL_resume['author'].append(\" \".join([givenName, familyName]))\n",
    "                book_DL_resume['author_raw'].append(\" \".join([givenName_raw, familyName_raw]))\n",
    "            elif familyName:\n",
    "                book_DL_resume['author'].append(familyName)\n",
    "                book_DL_resume['author_raw'].append(familyName)\n",
    "            elif givenName:\n",
    "                book_DL_resume['author'].append(givenName)\n",
    "                book_DL_resume['author_raw'].append(givenName)\n",
    "\n",
    "        elif info[0] == rdflib.URIRef(\"https://schema.org/isbn\"):\n",
    "            book_DL_resume['isbn'].append(normalize_isbn(info[1].n3()))\n",
    "            book_DL_resume['isbn_raw'].append(info[1].n3())\n",
    "\n",
    "    DL_books.append(book_DL_resume)\n",
    "    \n",
    "DL_loading_time = time.time()\n",
    "print(\"DL_loading_time: \", DL_loading_time - start_loading_data_time)"
   ],
   "metadata": {
    "collapsed": false,
    "pycharm": {
     "name": "#%%\n",
     "is_executing": false
    }
   }
  },
  {
   "cell_type": "markdown",
   "source": [
    "### titre\n",
    "Pour le titre on normalise simplement\n",
    "On peut remaquer quelques problèmes, par exemples nous n'avons pas le titre \n",
    "pour certains livres\n"
   ],
   "metadata": {
    "collapsed": false,
    "pycharm": {
     "name": "#%% md\n"
    }
   }
  },
  {
   "cell_type": "code",
   "execution_count": 12,
   "outputs": [
    {
     "name": "stdout",
     "text": [
      "exemple simple: titre intial: Les dames de Beauchêne Mylène Gilbert-Dumas [texte (gros caractères)]  titre traité:  les dames de beauchene mylene gilbert-dumas texte\ntitre non existant: titre intial: (K)  titre traité:  \n"
     ],
     "output_type": "stream"
    }
   ],
   "source": [
    "for exemple in DL_books:\n",
    "    if \"(\" in exemple[\"title_raw\"] and exemple[\"title\"]:\n",
    "        print(\"exemple simple: titre intial:\", exemple[\"title_raw\"], \" titre traité: \", exemple[\"title\"] )\n",
    "        break\n",
    "for exemple in DL_books:\n",
    "    if not exemple[\"title\"]:\n",
    "        print(\"titre non existant: titre intial:\", exemple[\"title_raw\"], \" titre traité: \", exemple[\"title\"] )\n",
    "        break\n",
    "\n"
   ],
   "metadata": {
    "collapsed": false,
    "pycharm": {
     "name": "#%%\n",
     "is_executing": false
    }
   }
  },
  {
   "cell_type": "markdown",
   "source": [
    "### auteur\n",
    "\n",
    "Pour les auteurs, on normalise en utilisant la fonction de normalisation. Il n'y a pas besoin de traiter plus loin,\n",
    "car la séparation des auteurs est déjà effectuée dans le graph. On retire aussi les caractères '\"' qui sont redondants\n",
    "En revanche, Dépot légal fait la différence entre le nom de famille et le prénom, ce que ne font pas les autres bases\n",
    "de donnée. On va donc simplement concaténer les chaines de caractères avec un espace entre les noms et prénoms\n"
   ],
   "metadata": {
    "collapsed": false
   }
  },
  {
   "cell_type": "code",
   "execution_count": 13,
   "outputs": [
    {
     "name": "stdout",
     "text": [
      "auteur(s) initial(s):  ['\"Michel\" \"Pelland\"', '\"Marie-Christine\" \"Lachance\"'] auteur(s) traité:  ['michel pelland', 'marie-christine lachance']\n"
     ],
     "output_type": "stream"
    }
   ],
   "source": [
    "for exemple in DL_books:\n",
    "    good_exemple = False\n",
    "    if len(exemple[\"author\"]) > 1:\n",
    "        for author in exemple[\"author\"]:\n",
    "            if '-' in author:\n",
    "                good_exemple = True\n",
    "    if good_exemple:            \n",
    "        print(\"auteur(s) initial(s): \", exemple[\"author_raw\"], \"auteur(s) traité: \", exemple[\"author\"])\n",
    "        break   \n"
   ],
   "metadata": {
    "collapsed": false,
    "pycharm": {
     "name": "#%%\n",
     "is_executing": false
    }
   }
  },
  {
   "cell_type": "markdown",
   "source": [
    "### isbn\n",
    "\n",
    "Pour Dépot legal, on sait que l'isbn peut être multiple et de forme variée,\n",
    " mais la séparation s'est faite dans la création du graph. On se contente de normaliser\n",
    " On peut remarque que certains livres ont une liste conséquente d'isbn"
   ],
   "metadata": {
    "collapsed": false
   }
  },
  {
   "cell_type": "code",
   "execution_count": 14,
   "outputs": [
    {
     "name": "stdout",
     "text": [
      "exemple d'isbn 13 normalisé: \nisbn initial(s):  ['\"9782760906730\"', '\"9782742792306\"'] isbn traité:  ['978276090673X', '978274279230X']\nexemple d'isbn 10 normalisé: \nisbn initial(s):  ['\"2891134079\"', '\"2891134095\"', '\"2891134060\"', '\"2891134109\"', '\"289113415X\"', '\"2891139526\"', '\"2891134206\"', '\"2891134214\"', '\"2891134141\"', '\"2891134133\"', '\"2891134176\"', '\"2891134168\"', '\"2891134192\"', '\"2891134184\"', '\"2891134087\"', '\"2891134125\"', '\"289113625X\"', '\"2891134117\"'] isbn traité:  ['978289113407X', '978289113409X', '978289113406X', '978289113410X', '978289113415X', '978289113952X', '978289113420X', '978289113421X', '978289113414X', '978289113413X', '978289113417X', '978289113416X', '978289113419X', '978289113418X', '978289113408X', '978289113412X', '978289113625X', '978289113411X']\nexemple de livre avec plus de 60 isbn \nisbn initial(s):  ['\"9782895436157\"', '\"9782896602469\"', '\"2895431442\"', '\"9782896601653\"', '\"9782895435433\"', '\"28954... isbn traité:  ['97828954...\nnb d'isbn:  65\n"
     ],
     "output_type": "stream"
    }
   ],
   "source": [
    "for exemple in DL_books:\n",
    "    if len(exemple[\"isbn_raw\"][0].replace(\"\\\"\", \"\")) == 13 and exemple[\"isbn_raw\"][0].replace(\"\\\"\", \"\")[-1] != 'X':\n",
    "        print(\"exemple d'isbn 13 normalisé: \\nisbn initial(s): \", exemple[\"isbn_raw\"], \"isbn traité: \", exemple[\"isbn\"])\n",
    "        break\n",
    "for exemple in DL_books:\n",
    "    if len(exemple[\"isbn_raw\"][0].replace(\"\\\"\", \"\")) == 10 and exemple[\"isbn_raw\"][0].replace(\"\\\"\", \"\")[-1] != 'X':\n",
    "        print(\"exemple d'isbn 10 normalisé: \\nisbn initial(s): \", exemple[\"isbn_raw\"], \"isbn traité: \", exemple[\"isbn\"])\n",
    "        break\n",
    "for exemple in DL_books:\n",
    "    if len(exemple[\"isbn_raw\"]) > 60:\n",
    "        print(\"exemple de livre avec plus de 60 isbn \\nisbn initial(s): \", str(exemple[\"isbn_raw\"])[0:100] + \"...\", \"isbn traité: \", str(exemple[\"isbn\"])[0:10] + \"...\")\n",
    "        print('nb d\\'isbn: ', len(exemple[\"isbn_raw\"]))\n",
    "        break\n"
   ],
   "metadata": {
    "collapsed": false,
    "pycharm": {
     "name": "#%%\n",
     "is_executing": false
    }
   }
  },
  {
   "cell_type": "markdown",
   "source": [
    "## Analyse du traitement des données ILE\n"
   ],
   "metadata": {
    "collapsed": false
   }
  },
  {
   "cell_type": "code",
   "execution_count": 15,
   "outputs": [
    {
     "name": "stdout",
     "text": [
      "ILE_loading time:  92.8710994720459\n"
     ],
     "output_type": "stream"
    }
   ],
   "source": [
    "start_loading_data_time = time.time()\n",
    "g_item_ILE = rdflib.Graph()\n",
    "item_graph_ILE = g_item_ILE.parse(\"../Graphes/grapheILE.rdf\")\n",
    "book_graph_DL = g_item_DL.parse(\"../Graphes/grapheDepotLegal.rdf\")\n",
    "\n",
    "ILE_books = []\n",
    "\n",
    "for subj, pred in g_item_ILE.subject_predicates(rdflib.URIRef(\"http://recif.litterature.org/ontologie/classe/oeuvre\")):\n",
    "    # count_book += 1\n",
    "    ILE_book = g_item_ILE.predicate_objects(subj)\n",
    "    book_ILE_resume = { 'id': subj.n3(), \"data_base\": \"ILE\",\n",
    "                        'title': '', 'author': [], 'isbn': [],\n",
    "                        'title_raw': '', 'author_raw': [], 'isbn_raw': []}\n",
    "    for info in ILE_book:\n",
    "        if info[0] == rdflib.URIRef(\"https://schema.org/name\"):\n",
    "            if info[1].n3():\n",
    "                book_ILE_resume['title'] = normalize(info[1])\n",
    "                book_ILE_resume['title_raw'] = info[1]\n",
    "            else:\n",
    "                print(\"gros probleme ILE: \", subj)\n",
    "        elif info[0] == rdflib.URIRef(\"https://schema.org/author\"):\n",
    "            author_ILE = g_item_ILE.predicate_objects(info[1])\n",
    "            for author_info in author_ILE:\n",
    "                if author_info[0] == rdflib.URIRef(\"https://schema.org/name\"):\n",
    "                    book_ILE_resume['author_raw'].append(author_info[1].n3())\n",
    "                    if author_info[1].n3().replace(\"\\\"\", \"\"):\n",
    "                        book_ILE_resume['author'].append(normalize_author(author_info[1].n3()))\n",
    "        elif info[0] == rdflib.URIRef(\"https://schema.org/isbn\"):\n",
    "            book_ILE_resume['isbn_raw'].append(info[1].n3())\n",
    "            if normalize_isbn(info[1].n3()).replace(\"\\\"\", \"\")\\\n",
    "                and len(normalize_isbn(info[1].n3()).replace(\"\\\"\", \"\")) >= 8:\n",
    "                for isbn in re.split(\"[|;,]\", info[1].n3().replace(\"\\\"\", \"\")):\n",
    "                    book_ILE_resume['isbn'].append(normalize_isbn(isbn))\n",
    "\n",
    "    ILE_books.append(book_ILE_resume)\n",
    "    \n",
    "ILE_loading_time = time.time()\n",
    "print(\"ILE_loading time: \", ILE_loading_time - start_loading_data_time)"
   ],
   "metadata": {
    "collapsed": false,
    "pycharm": {
     "name": "#%%\n",
     "is_executing": false
    }
   }
  },
  {
   "cell_type": "markdown",
   "source": [
    "### titre\n",
    "Pour le titre on normalise simplement\n",
    "On peut remaquer quelques problèmes, par exemples nous n'avons pas le titre \n",
    "pour certains livres\n"
   ],
   "metadata": {
    "collapsed": false
   }
  },
  {
   "cell_type": "code",
   "execution_count": 20,
   "outputs": [
    {
     "name": "stdout",
     "text": [
      "exemple simple: titre intial: Beat(s)  titre traité:  beat\ntitre non existant: titre intial: (Sainte-Famille)  titre traité:  \n"
     ],
     "output_type": "stream"
    }
   ],
   "source": [
    "for exemple in ILE_books:\n",
    "    if \"(\" in exemple[\"title_raw\"] and exemple[\"title\"]:\n",
    "        print(\"exemple simple: titre intial:\", exemple[\"title_raw\"], \" titre traité: \", exemple[\"title\"] )\n",
    "        break\n",
    "for exemple in ILE_books:\n",
    "    if not exemple[\"title\"]:\n",
    "        print(\"titre non existant: titre intial:\", exemple[\"title_raw\"], \" titre traité: \", exemple[\"title\"] )\n",
    "        break\n"
   ],
   "metadata": {
    "collapsed": false,
    "pycharm": {
     "name": "#%%\n",
     "is_executing": false
    }
   }
  },
  {
   "cell_type": "markdown",
   "source": [
    "### auteur\n",
    "\n",
    "Pour les auteurs, on normalise en utilisant la fonction de normalisation. Il n'y a pas besoin de traiter plus loin,\n",
    "car la séparation des auteurs est déjà effectuée dans le graph. On retire aussi les caractères '\"' qui sont redondants\n"
   ],
   "metadata": {
    "collapsed": false
   }
  },
  {
   "cell_type": "code",
   "execution_count": 22,
   "outputs": [
    {
     "name": "stdout",
     "text": [
      "auteur(s) initial(s):  ['\"Chapdelaine-Gagnon, Jean\"'] auteur(s) traité:  ['chapdelaine-gagnon jean']\n"
     ],
     "output_type": "stream"
    }
   ],
   "source": [
    "for exemple in ILE_books:\n",
    "    good_exemple = False\n",
    "    for author in exemple[\"author\"]:\n",
    "        if '-' in author:\n",
    "            good_exemple = True\n",
    "    if good_exemple:            \n",
    "        print(\"auteur(s) initial(s): \", exemple[\"author_raw\"], \"auteur(s) traité: \", exemple[\"author\"])\n",
    "        break   \n"
   ],
   "metadata": {
    "collapsed": false,
    "pycharm": {
     "name": "#%%\n",
     "is_executing": false
    }
   }
  },
  {
   "cell_type": "markdown",
   "source": [
    "### isbn\n",
    "\n",
    "Pour ILE, on sait que l'isbn peut être multiple et de forme variée \n",
    "(séparé par des caractères: \"-\", et suivit de parenthèses), une première division s'est faite dans le graph\n",
    "mais cela demande une deuxième passe, notament pour les séparateurs \"|\" et \";\". On normalise par la suite.\n",
    "On peut remarque que certains livres ont une liste conséquente d'isbn"
   ],
   "metadata": {
    "collapsed": false
   }
  },
  {
   "cell_type": "code",
   "execution_count": 34,
   "outputs": [
    {
     "name": "stdout",
     "text": [
      "exemple d'isbn 13 normalisé: \nisbn initial(s):  ['\"978-2-89018-568-5\"'] isbn traité:  ['978289018568X']\nexemple d'isbn 10 normalisé: \nisbn initial(s):  ['\"2-89006-640-1\"'] isbn traité:  ['978289006640X']\nexemple d'isbn séparable par '|':  ['\"0887506224 (rel.)|0887506216 (br.)\"']... isbn traité:  ['97808875...\nnb d'isbn:  1\nexemple de livre avec plus de 10 isbn \nisbn initial(s):  ['\"9782896951949 (cycle 1, livre 1) ; 9782896951956 (cycle 1, livre 2) ; 9782896952489 (cycle 1, liv... isbn traité:  ['97828969...\nnb d'isbn:  14\n"
     ],
     "output_type": "stream"
    }
   ],
   "source": [
    "for exemple in ILE_books:\n",
    "    if len(exemple[\"isbn_raw\"][0].replace(\"\\\"\", \"\").replace(\"-\", \"\")) == 13 and exemple[\"isbn_raw\"][0].replace(\"\\\"\", \"\")[-1] != 'X':\n",
    "        print(\"exemple d'isbn 13 normalisé: \\nisbn initial(s): \", exemple[\"isbn_raw\"], \"isbn traité: \", exemple[\"isbn\"])\n",
    "        break\n",
    "for exemple in ILE_books:\n",
    "    if len(exemple[\"isbn_raw\"][0].replace(\"\\\"\", \"\").replace(\"-\", \"\")) == 10 and exemple[\"isbn_raw\"][0].replace(\"\\\"\", \"\")[-1] != 'X':\n",
    "        print(\"exemple d'isbn 10 normalisé: \\nisbn initial(s): \", exemple[\"isbn_raw\"], \"isbn traité: \", exemple[\"isbn\"])\n",
    "        break\n",
    "for exemple in ILE_books:\n",
    "    good_example = False\n",
    "    for isbn in exemple[\"isbn_raw\"]:\n",
    "        if \"|\" in isbn:\n",
    "            good_example = True\n",
    "    if good_example:\n",
    "        print(\"exemple d'isbn séparable par '|': \", str(exemple[\"isbn_raw\"])[0:100] + \"...\", \"isbn traité: \", str(exemple[\"isbn\"])[0:10] + \"...\")\n",
    "        print('nb d\\'isbn: ', len(exemple[\"isbn_raw\"]))\n",
    "        break\n",
    "for exemple in ILE_books:\n",
    "    if len(exemple[\"isbn\"]) > 10:\n",
    "        print(\"exemple de livre avec plus de 10 isbn \\nisbn initial(s): \", str(exemple[\"isbn_raw\"])[0:100] + \"...\", \"isbn traité: \", str(exemple[\"isbn\"])[0:10] + \"...\")\n",
    "        print('nb d\\'isbn: ', len(exemple[\"isbn\"]))\n",
    "        break\n",
    " "
   ],
   "metadata": {
    "collapsed": false,
    "pycharm": {
     "name": "#%%\n",
     "is_executing": false
    }
   }
  },
  {
   "cell_type": "markdown",
   "source": [
    "## Analyse du traitement des données d'Hurtubise"
   ],
   "metadata": {
    "collapsed": false,
    "pycharm": {
     "name": "#%% md\n"
    }
   }
  },
  {
   "cell_type": "code",
   "execution_count": 36,
   "outputs": [],
   "source": [
    "books_Hurtubise_file = open(\"./Hurtubise/Exportation-Hurtubise.csv\", \"r\", encoding='ISO-8859-1')\n",
    "csv_reader = csv.DictReader(books_Hurtubise_file, delimiter=',', fieldnames=[\n",
    "    \"Editeur\", \"ISBN Papier\", \"ISBN PDF\", \"ISBN epub\", \"Titre\", \"Sous - titre\", \"Titre de la serie\",\n",
    "    \"Contributeurs\", \"Contributeur(premier)\", \"Langue\", \"Langue Origine\", \"Resume\", \"Nombre de pages\",\n",
    "    \"Date de parution\", \"Annee de parution\", \"Sujet  THEMA principal\", \"Sujet THEMA\",\n",
    "    \"Quantificateur Georaphique\", \"Quantificateur de langue\", \"Quantificateur Historique\", \"Niveau soclaire FR\",\n",
    "    \"Niveau scolaire QC\", \"Cycle scolaire FR\", \"Niveau de lecture\", \"Echele CECR\", \"Quantificateur d'interet\",\n",
    "    \"Quantificateur d'age\", \"Quantificateur de style\", \"Classification Editoriale\", \"Mots cles\"\n",
    "\n",
    "])\n",
    "Hurtubise_books = []\n",
    "first_line = next(csv_reader)\n",
    "for book in csv_reader:\n",
    "    book_Hurtubise_resume = { 'id':None, \"data_base\": \"Hurtubise\",\n",
    "                        'title': '', 'author': [], 'isbn': [],\n",
    "                        'title_raw': '', 'author_raw': [], 'isbn_raw': []}\n",
    "\n",
    "    for key, value in book.items():\n",
    "        if value:\n",
    "            if key == 'Titre':\n",
    "                book_Hurtubise_resume['title'] = normalize(value)\n",
    "                book_Hurtubise_resume['title_raw'] = value\n",
    "\n",
    "            elif key == 'Contributeurs':\n",
    "                book_Hurtubise_resume['author_raw'].append(value.split(','))\n",
    "                for author in value.split(','):\n",
    "                    book_Hurtubise_resume['author'].append(normalize_author(author))\n",
    "\n",
    "            elif key == 'ISBN Papier' or key == 'ISBN PDF' or key == 'ISBN epub':\n",
    "                if key == 'ISBN Papier':\n",
    "                    book_Hurtubise_resume['id'] = value\n",
    "\n",
    "                book_Hurtubise_resume['isbn'].append(normalize_isbn(value))\n",
    "                book_Hurtubise_resume['isbn_raw'].append(value)\n",
    "\n",
    "    Hurtubise_books.append(book_Hurtubise_resume)\n",
    "books_Hurtubise_file.close()"
   ],
   "metadata": {
    "collapsed": false,
    "pycharm": {
     "name": "#%%\n",
     "is_executing": false
    }
   }
  },
  {
   "cell_type": "markdown",
   "source": [
    "### titre\n",
    "Pour le titre on normalise simplement\n",
    "On peut remaquer quelques problèmes, par exemple nous n'avons pas le titre \n",
    "pour certains livres\n"
   ],
   "metadata": {
    "collapsed": false
   }
  },
  {
   "cell_type": "code",
   "execution_count": 40,
   "outputs": [
    {
     "name": "stdout",
     "text": [
      "exemple simple: titre intial: Selfies et sushis (coffret)  titre traité:  selfies et sushis\ntitre non existant: titre intial:   titre traité:  \n"
     ],
     "output_type": "stream"
    }
   ],
   "source": [
    "for exemple in Hurtubise_books:\n",
    "    if \"(\" in exemple[\"title_raw\"] and exemple[\"title\"]:\n",
    "        print(\"exemple simple: titre intial:\", exemple[\"title_raw\"], \" titre traité: \", exemple[\"title\"] )\n",
    "        break\n",
    "for exemple in Hurtubise_books:\n",
    "    if not exemple[\"title\"]:\n",
    "        print(\"titre non existant: titre intial:\", exemple[\"title_raw\"], \" titre traité: \", exemple[\"title\"] )\n",
    "        break\n"
   ],
   "metadata": {
    "collapsed": false,
    "pycharm": {
     "name": "#%%\n",
     "is_executing": false
    }
   }
  },
  {
   "cell_type": "markdown",
   "source": [
    "### auteur\n",
    "\n",
    "Pour les auteurs, on normalise en utilisant la fonction de normalisation. Il n'y a pas besoin de traiter plus loin,\n",
    "car la séparation des auteurs est déjà effectuée dans le graph. On peut remarquer que beaucoup d'information\n",
    "sur le status des auteurs est contenue dans les parenthèses\n"
   ],
   "metadata": {
    "collapsed": false
   }
  },
  {
   "cell_type": "code",
   "execution_count": 39,
   "outputs": [
    {
     "name": "stdout",
     "text": [
      "auteur(s) initial(s):  [['David Skuy (De (auteur))', ' Michel Rudel-Tessier (Traduit par)']] auteur(s) traité:  ['david skuy', 'michel rudel-tessier']\n"
     ],
     "output_type": "stream"
    }
   ],
   "source": [
    "for exemple in Hurtubise_books:\n",
    "    good_exemple = False\n",
    "    if len(exemple[\"author\"]) > 1:\n",
    "        for author in exemple[\"author\"]:\n",
    "            if '-' in author:\n",
    "                good_exemple = True\n",
    "    if good_exemple:            \n",
    "        print(\"auteur(s) initial(s): \", exemple[\"author_raw\"], \"auteur(s) traité: \", exemple[\"author\"])\n",
    "        break   \n"
   ],
   "metadata": {
    "collapsed": false,
    "pycharm": {
     "name": "#%%\n",
     "is_executing": false
    }
   }
  },
  {
   "cell_type": "markdown",
   "source": [
    "### isbn\n",
    "\n",
    "Pour Hurtubise, on sait que l'isbn peut être multiple, mais toujours de taille 13. On normalise donc simplement.\n",
    "On peut remarque que certains livres ont plusieurs isbns, mais pas plus de 3"
   ],
   "metadata": {
    "collapsed": false
   }
  },
  {
   "cell_type": "code",
   "execution_count": 46,
   "outputs": [
    {
     "name": "stdout",
     "text": [
      "exemple d'isbn 13 normalisé: \nisbn initial(s):  ['9782897815189', '9782896473304', '9782896476503'] isbn traité:  ['978289781518X', '978289647330X', '978289647650X']\nexemple de livre avec plus de 60 isbn \nisbn initial(s):  ['9782897815189', '9782896473304', '9782896476503']... isbn traité:  ['97828978...\nnb d'isbn:  3\n"
     ],
     "output_type": "stream"
    }
   ],
   "source": [
    "for exemple in Hurtubise_books:\n",
    "    if len(exemple[\"isbn_raw\"][0].replace(\"\\\"\", \"\")) == 13 and exemple[\"isbn_raw\"][0].replace(\"\\\"\", \"\")[-1] != 'X':\n",
    "        print(\"exemple d'isbn 13 normalisé: \\nisbn initial(s): \", exemple[\"isbn_raw\"], \"isbn traité: \", exemple[\"isbn\"])\n",
    "        break\n",
    "for exemple in Hurtubise_books:\n",
    "    if len(exemple[\"isbn_raw\"]) > 2:\n",
    "        print(\"exemple de livre avec plus de 60 isbn \\nisbn initial(s): \", str(exemple[\"isbn_raw\"])[0:100] + \"...\", \"isbn traité: \", str(exemple[\"isbn\"])[0:10] + \"...\")\n",
    "        print('nb d\\'isbn: ', len(exemple[\"isbn_raw\"]))\n",
    "        break"
   ],
   "metadata": {
    "collapsed": false,
    "pycharm": {
     "name": "#%%\n",
     "is_executing": false
    }
   }
  },
  {
   "cell_type": "markdown",
   "source": [
    "## Analyse du traitement des données de Babelio"
   ],
   "metadata": {
    "collapsed": false,
    "pycharm": {
     "name": "#%% md\n"
    }
   }
  },
  {
   "cell_type": "code",
   "execution_count": 49,
   "outputs": [],
   "source": [
    "\n",
    "babelioJsonBooks = open(\"./Babelio/babelio_livres.json\", \"r\")\n",
    "Babelio_books = []\n",
    "\n",
    "for book in json.load(babelioJsonBooks):\n",
    "    book_Babelio_resume = { 'id':None, \"data_base\": \"Babelio\",\n",
    "                        'title': '', 'author': [], 'isbn': [],\n",
    "                        'title_raw': '', 'author_raw': [], 'isbn_raw': []}\n",
    "\n",
    "    for key, value in book.items():\n",
    "        if value:\n",
    "            if key == 'titre':\n",
    "                book_Babelio_resume['title'] = normalize(value)\n",
    "                book_Babelio_resume['title_raw'] = value\n",
    "\n",
    "            elif key == 'auteur':\n",
    "                book_Babelio_resume['author_raw'].append(value)\n",
    "                for author in value:\n",
    "                    book_Babelio_resume['author'].append(normalize_author(author))\n",
    "\n",
    "            elif key == 'isbn':\n",
    "                book_Babelio_resume['isbn'].append(normalize_isbn(value))\n",
    "                book_Babelio_resume['isbn_raw'].append(value)\n",
    "\n",
    "            elif key == 'url':\n",
    "                book_Babelio_resume['id'] = value\n",
    "\n",
    "    Babelio_books.append(book_Babelio_resume)\n",
    "babelioJsonBooks.close()"
   ],
   "metadata": {
    "collapsed": false,
    "pycharm": {
     "name": "#%%\n",
     "is_executing": false
    }
   }
  },
  {
   "cell_type": "markdown",
   "source": [
    "### titre\n",
    "Pour le titre on normalise simplement\n"
   ],
   "metadata": {
    "collapsed": false
   }
  },
  {
   "cell_type": "code",
   "execution_count": 50,
   "outputs": [
    {
     "name": "stdout",
     "text": [
      "exemple simple: titre intial:  Les fleurs sauvages du Québec (tome 2)   titre traité:  les fleurs sauvages du quebec\n"
     ],
     "output_type": "stream"
    }
   ],
   "source": [
    "for exemple in Babelio_books:\n",
    "    if \"(\" in exemple[\"title_raw\"] and exemple[\"title\"]:\n",
    "        print(\"exemple simple: titre intial:\", exemple[\"title_raw\"], \" titre traité: \", exemple[\"title\"] )\n",
    "        break\n"
   ],
   "metadata": {
    "collapsed": false,
    "pycharm": {
     "name": "#%%\n",
     "is_executing": false
    }
   }
  },
  {
   "cell_type": "markdown",
   "source": [
    "### auteur\n",
    "\n",
    "Pour les auteurs, on normalise en utilisant la fonction de normalisation. Il n'y a pas besoin de traiter plus loin. \n",
    "On peut remarque que certains livres comportent une quantité conséquente d'auteur\n"
   ],
   "metadata": {
    "collapsed": false
   }
  },
  {
   "cell_type": "code",
   "execution_count": 52,
   "outputs": [
    {
     "name": "stdout",
     "text": [
      "auteur(s) initial(s):  [['Maxime  Robin', 'Jean-Michel  Girouard', 'Erika  Soucis', 'Jocelyn  Pelletier', \"Noémie  O'Farrell\", 'Sophie  Grenier-Héroux', 'Lorraine  Côté']] auteur(s) traité:  ['maxime robin', 'jean-michel girouard', 'erika soucis', 'jocelyn pelletier', 'noemiefarrell', 'sophie grenier-heroux', 'lorraine cote']\n"
     ],
     "output_type": "stream"
    }
   ],
   "source": [
    "for exemple in Babelio_books:\n",
    "    good_exemple = False\n",
    "    if len(exemple[\"author\"]) > 3:\n",
    "        for author in exemple[\"author\"]:\n",
    "            if '-' in author:\n",
    "                good_exemple = True\n",
    "    if good_exemple:            \n",
    "        print(\"auteur(s) initial(s): \", exemple[\"author_raw\"], \"auteur(s) traité: \", exemple[\"author\"])\n",
    "        break   \n"
   ],
   "metadata": {
    "collapsed": false,
    "pycharm": {
     "name": "#%%\n",
     "is_executing": false
    }
   }
  },
  {
   "cell_type": "markdown",
   "source": [
    "### isbn\n",
    "\n",
    "Pour Babelio, on sait que l'isbn est unique et de la forme isbn 13 (car EAN)"
   ],
   "metadata": {
    "collapsed": false
   }
  },
  {
   "cell_type": "code",
   "execution_count": 59,
   "outputs": [
    {
     "name": "stdout",
     "text": [
      "exemple d'isbn 13 normalisé: \nisbn initial(s):  ['9782892618617'] isbn traité:  ['978289261861X']\n"
     ],
     "output_type": "stream"
    }
   ],
   "source": [
    "for exemple in Babelio_books:\n",
    "    if len(exemple[\"isbn_raw\"][0].replace(\"\\\"\", \"\")) == 13 and exemple[\"isbn_raw\"][0].replace(\"\\\"\", \"\")[-1] != 'X':\n",
    "        print(\"exemple d'isbn 13 normalisé: \\nisbn initial(s): \", exemple[\"isbn_raw\"], \"isbn traité: \", exemple[\"isbn\"])\n",
    "        break\n",
    "\n"
   ],
   "metadata": {
    "collapsed": false,
    "pycharm": {
     "name": "#%%\n",
     "is_executing": false
    }
   }
  }
 ],
 "metadata": {
  "language_info": {
   "codemirror_mode": {
    "name": "ipython",
    "version": 2
   },
   "file_extension": ".py",
   "mimetype": "text/x-python",
   "name": "python",
   "nbconvert_exporter": "python",
   "pygments_lexer": "ipython2",
   "version": "2.7.6"
  },
  "kernelspec": {
   "name": "python3",
   "language": "python",
   "display_name": "Python 3"
  },
  "pycharm": {
   "stem_cell": {
    "cell_type": "raw",
    "source": [],
    "metadata": {
     "collapsed": false
    }
   }
  }
 },
 "nbformat": 4,
 "nbformat_minor": 0
}