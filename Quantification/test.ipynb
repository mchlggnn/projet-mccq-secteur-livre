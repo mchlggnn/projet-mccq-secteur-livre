{
 "cells": [
  {
   "cell_type": "code",
   "execution_count": 14,
   "metadata": {},
   "outputs": [],
   "source": [
    "import requests\n",
    "import urllib.request\n",
    "import json\n",
    "\n",
    "from SPARQLWrapper import SPARQLWrapper, JSON\n"
   ]
  },
  {
   "cell_type": "code",
   "execution_count": 15,
   "metadata": {},
   "outputs": [],
   "source": [
    "# Fonctions utiles\n",
    "\n",
    "# Pour enlever la qualificatif entre () dans un nom provenant de DBpedia\n",
    "def traiter_nom(chaine):\n",
    "    c = chaine.split(' (')\n",
    "    return c[0]\n"
   ]
  },
  {
   "cell_type": "markdown",
   "metadata": {},
   "source": [
    "# DBpedia français"
   ]
  },
  {
   "cell_type": "code",
   "execution_count": 16,
   "metadata": {},
   "outputs": [],
   "source": [
    "# Recherche dans DBpedia français\n",
    "sparql = SPARQLWrapper(\"http://fr.dbpedia.org/sparql\")\n",
    "sparql.setQuery(\"\"\"\n",
    "  PREFIX dcterms: <http://purl.org/dc/terms/>\n",
    "  PREFIX skos: <http://www.w3.org/2004/02/skos/core#>\n",
    "  PREFIX rdfs: <http://www.w3.org/2000/01/rdf-schema#>\n",
    "  SELECT DISTINCT ?s ?label ?naissance\n",
    "  WHERE {\n",
    "    ?s dcterms:subject ?cat .\n",
    "    ?cat skos:broader* <http://fr.dbpedia.org/resource/Catégorie:Écrivain_québécois> .\n",
    "  \n",
    "    ?s  rdfs:label ?label . \n",
    "    OPTIONAL { ?s <http://dbpedia.org/ontology/birthDate> ?naissance .}\n",
    "    FILTER (lang(?label) = \"fr\")\n",
    "  } \n",
    "\"\"\")\n",
    "\n",
    "sparql.setReturnFormat(JSON)\n",
    "results_dbpedia_fr = sparql.query().convert()"
   ]
  },
  {
   "cell_type": "code",
   "execution_count": 17,
   "metadata": {},
   "outputs": [
    {
     "name": "stdout",
     "output_type": "stream",
     "text": [
      "1259 écrivains du Québec trouvés dans DBpedia français\n"
     ]
    }
   ],
   "source": [
    "filtre = [\"Liste d'écrivains québécois par ordre alphabétique\",\n",
    "           \"Association des écrivaines et des écrivains québécois pour la jeunesse\",\n",
    "           \"Liste de poètes québécois\",\n",
    "           \"Liste d'auteurs québécois par ordre chronologique\",\n",
    "           \"Liste d'auteurs québécois par ordre chronologique de décès\"]\n",
    "\n",
    "\n",
    "# On récupère les données extraites par la requête SPARQL\n",
    "ecrivains_dbpedia_fr = set([(b['s']['value'],\n",
    "                         traiter_nom(b['label']['value']), \n",
    "                         b['naissance']['value'][:4] if 'naissance' in b else 'X') \n",
    "                        for b in results_dbpedia_fr['results']['bindings']])\n",
    "\n",
    "\n",
    "# On retire ceux qui ne correspondent pas à des écrivains\n",
    "ecrivains_dbpedia_fr = [(uri,nom,naiss) for (uri,nom,naiss) in ecrivains_dbpedia_fr if nom not in filtre]\n",
    "\n",
    "print(len(ecrivains_dbpedia_fr), 'écrivains du Québec trouvés dans DBpedia français')\n",
    "      \n",
    "file_writers = open(\"../Data/DBpedia/ecrivains_dbpedia_fr.txt\",\"w\")\n",
    "for e in ecrivains_dbpedia_fr:\n",
    "    file_writers.write(e[0] + \" ; \" + e[1] + '\\n')\n",
    "file_writers.close()\n",
    "\n"
   ]
  },
  {
   "cell_type": "markdown",
   "metadata": {},
   "source": [
    "### Recherche des auteurs dans DBpedia anglais\n",
    "\n",
    "Plusieurs auteurs se retrouvent de DBpedia anglais. Même, certains sont présents seulement dans DBpedia anglais.\n",
    "Pour les retrouver, on pourrait chercher ceux qui sont liés à la catégorie Writers_from_Quebec, ou une de ses sous-catégories. Mais cela couvrerait trop large, puisqu'il y a des sous-catégories, comme \"McGill University alumni\", qui ne représentent pas nécessairement des écrivains. Il faut donc lister toutes les sous-catégories pertinentes. Si on essaie d'utiliser toute la hiérarchie de Writers_from_Quebec et filtrer par la suite les instances du sous-arrbre dominé par la catégorie Academics_in_Quebec, ça ne marche pas, à cause d'un problème de mémoire sur le serveur.\n",
    "\n",
    "À noter que l'on retrouve plus systématiquement les dates de naissance dans DBpedia anglais.\n",
    "    \n",
    "    "
   ]
  },
  {
   "cell_type": "code",
   "execution_count": 18,
   "metadata": {},
   "outputs": [],
   "source": [
    "\n",
    "sparql = SPARQLWrapper(\"http://dbpedia.org/sparql\")\n",
    "sparql.setQuery(\"\"\"\n",
    "   PREFIX dcterms: <http://purl.org/dc/terms/>\n",
    "   PREFIX skos: <http://www.w3.org/2004/02/skos/core#>\n",
    "   PREFIX rdfs: <http://www.w3.org/2000/01/rdf-schema#>\n",
    "   SELECT DISTINCT ?s ?label ?naissance  \n",
    "   WHERE {\n",
    "     {?s dcterms:subject <http://dbpedia.org/resource/Category:Writers_from_Quebec> }\n",
    "     UNION\n",
    "     {?s dcterms:subject <http://dbpedia.org/resource/Category:Writers_from_Montreal> }\n",
    "     UNION\n",
    "     {?s dcterms:subject <http://dbpedia.org/resource/Category:Writers_from_Quebec_City>}\n",
    "\n",
    "     ?s rdfs:label ?label . \n",
    "     OPTIONAL { ?s <http://dbpedia.org/ontology/birthDate> ?naissance .}\n",
    "     \n",
    "     FILTER (lang(?label) IN (\"fr\", \"en\"))\n",
    "    } \n",
    "\"\"\")\n",
    "sparql.setReturnFormat(JSON)\n",
    "results_dbpedia_en = sparql.query().convert()\n",
    "\n"
   ]
  },
  {
   "cell_type": "code",
   "execution_count": 19,
   "metadata": {},
   "outputs": [
    {
     "name": "stdout",
     "output_type": "stream",
     "text": [
      "784 écrivains du Québec trouvés dans DBpedia anglais\n"
     ]
    }
   ],
   "source": [
    "ecrivains_dbpedia_en = set([(b['s']['value'],\n",
    "                             traiter_nom(b['label']['value']),\n",
    "                             b['naissance']['value'][:4] if 'naissance' in b else 'X')\n",
    "                            for b in results_dbpedia_en['results']['bindings']])\n",
    "\n",
    "print(len(ecrivains_dbpedia_en), 'écrivains du Québec trouvés dans DBpedia anglais')\n",
    "\n",
    "\n",
    "\n",
    "file_writers = open(\"../Data/DBpedia/ecrivains_dbpedia_en.txt\",\"w\")\n",
    "for e in ecrivains_dbpedia_en:\n",
    "    file_writers.write(e[0] + \" ; \" + e[1] + '\\n')\n",
    "file_writers.close()\n",
    "    \n",
    "    \n",
    "    "
   ]
  },
  {
   "cell_type": "markdown",
   "metadata": {},
   "source": [
    "Deux écrivains sont dédoublés parce qu'ils ont deux dates de naissances différentes (erreurs dans DBpedia anglais)\n",
    "* Victor Barbeau\n",
    "* Angeline Hango\n",
    "\n",
    "À noter qu'il y a deux écrivains qui ont deux homonymes dans DBpedia français et qui se trouvent aussi dans DBpedia anglais:\n",
    "* Pierre Morency\n",
    "* Louis Émond\n"
   ]
  }
 ],
 "metadata": {
  "kernelspec": {
   "display_name": "Python 3",
   "language": "python",
   "name": "python3"
  },
  "language_info": {
   "codemirror_mode": {
    "name": "ipython",
    "version": 3
   },
   "file_extension": ".py",
   "mimetype": "text/x-python",
   "name": "python",
   "nbconvert_exporter": "python",
   "pygments_lexer": "ipython3",
   "version": "3.8.2"
  }
 },
 "nbformat": 4,
 "nbformat_minor": 4
}
