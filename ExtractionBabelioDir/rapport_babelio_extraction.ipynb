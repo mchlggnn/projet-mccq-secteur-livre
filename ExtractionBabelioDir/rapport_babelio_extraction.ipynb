{
 "cells": [
  {
   "cell_type": "markdown",
   "source": [
    "# Évalutation et visualisation des données récupérées depuis babelio\n",
    "\n",
    "## Importation des données et des modules"
   ],
   "metadata": {
    "collapsed": false,
    "pycharm": {
     "name": "#%% md\n"
    }
   }
  },
  {
   "cell_type": "code",
   "execution_count": 1,
   "outputs": [],
   "source": [
    "import matplotlib.pyplot as plt\n",
    "\n",
    "from Data.stats import *\n",
    "from statistics import *\n",
    "from collections import *\n",
    "\n",
    "with open('babelio_livres.json', 'r') as f:\n",
    "    Babelio_books = json.load(f, encoding=\"utf-8\")\n",
    "\n",
    "with open('babelio_auteurs.json', 'r') as f:\n",
    "    Babelio_authors = json.load(f, encoding=\"utf-8\")"
   ],
   "metadata": {
    "collapsed": false,
    "pycharm": {
     "name": "#%%\n"
    }
   }
  },
  {
   "cell_type": "code",
   "execution_count": 2,
   "outputs": [],
   "source": [
    "stats_book = get_babelio_stats_from_items(Babelio_books)\n",
    "stats_author = get_babelio_stats_from_items(Babelio_authors)"
   ],
   "metadata": {
    "collapsed": false,
    "pycharm": {
     "name": "#%%\n"
    }
   }
  },
  {
   "cell_type": "code",
   "execution_count": 3,
   "outputs": [],
   "source": [
    "stats_book_formated = format_result(stats_book)\n",
    "stats_author_formated = format_result(stats_author)"
   ],
   "metadata": {
    "collapsed": false,
    "pycharm": {
     "name": "#%%\n"
    }
   }
  },
  {
   "cell_type": "markdown",
   "source": [
    "## Nombre de champs non-nuls et compte des valeures de ces champs\n",
    "\n",
    "### Pour les livres:"
   ],
   "metadata": {
    "collapsed": false
   }
  },
  {
   "cell_type": "code",
   "execution_count": 4,
   "outputs": [
    {
     "name": "stdout",
     "output_type": "stream",
     "text": [
      "{\n",
      "  \"total\": 5553,\n",
      "  \"url\": 5553,\n",
      "  \"url_by_value\": {\n",
      "    \"https://www.babelio.com/livres/Sevigny-Sans-terre/887589\": 1,\n",
      "    \"https://www.babelio.com/livres/Leroux-Madame-Victoria/768705\": 1,\n",
      "    \"https://www.babelio.com/livres/Tremblay-Hotel-Bristol-New-York-N-Y/160254\": 1,\n",
      "    \"https://www.babelio.com/livres/Tremblay-Le-passage-oblige/244745\": 1,\n",
      "    \"https://www.babelio.com/livres/Beaudoin-Hadassa/124739\": 1,\n",
      "    \"https://www.babelio.com/livres/Senecal-Quinze-minutes/459141\": 1,\n",
      "    \"https://www.babelio.com/livres/Dompierre-Un-petit-pas-pour-lhomme/46346\": 1,\n",
      "    \"https://www.babelio.com/livres/Boulerice-Javotte/417516\": 1,\n",
      "    \"https://www.babelio.com/livres/Tremblay-Le-coeur-decouvert/37083\": 1,\n",
      "    \"https://www.babelio.com/livres/Proulx-Ce-quil-reste-de-moi/708379\": 1\n",
      "  },\n",
      "  \"titre\": 5553,\n",
      "  \"titre_by_value\": {\n",
      "    \" Po\\u00e8mes \": 4,\n",
      "    \" Po\\u00e9sies compl\\u00e8tes \": 3,\n",
      "    \" Nous \": 3,\n",
      "    \" Po\\u00e8mes choisis \": 2,\n",
      "    \" Yukonnaise \": 2,\n",
      "    \" Kamouraska \": 2,\n",
      "    \" Maria Chapdelaine \": 2,\n",
      "    \" Mouvances \": 2,\n",
      "    \" La petite patrie \": 2,\n",
      "    \" Ombres \": 2\n",
      "  },\n",
      "  \"auteur\": 6159,\n",
      "  \"auteur_by_value\": {\n",
      "    \"Michel  Tremblay\": 55,\n",
      "    \"Fran\\u00e7ois  Gravel\": 40,\n",
      "    \"Chrystine  Brouillet\": 37,\n",
      "    \"Louise  Tremblay-d'Essiambre\": 30,\n",
      "    \"Michel  David\": 28,\n",
      "    \"Patrick  Sen\\u00e9cal\": 24,\n",
      "    \"Marie  Laberge\": 24,\n",
      "    \"Dominique  Demers\": 23,\n",
      "    \"Gilles  Archambault\": 22,\n",
      "    \"Fran\\u00e7ois  Barcelo\": 22\n",
      "  },\n",
      "  \"id_auteur\": 5553,\n",
      "  \"id_auteur_by_value\": {\n",
      "    \"/auteur/Michel-Tremblay/7243\": 55,\n",
      "    \"/auteur/Francois-Gravel/48018\": 39,\n",
      "    \"/auteur/Chrystine-Brouillet/6073\": 36,\n",
      "    \"/auteur/Louise-Tremblay-dEssiambre/54622\": 30,\n",
      "    \"/auteur/Michel-David/28284\": 28,\n",
      "    \"/auteur/Marie-Laberge/12749\": 24,\n",
      "    \"/auteur/Patrick-Senecal/6796\": 23,\n",
      "    \"/auteur/Dominique-Demers/37912\": 23,\n",
      "    \"/auteur/Gilles-Archambault/2653\": 22,\n",
      "    \"/auteur/Francois-Barcelo/27368\": 22\n",
      "  },\n",
      "  \"infos\": 5553,\n",
      "  \"infos_by_value\": {\n",
      "    \"              \\u00c9diteur :   (01/01/1900)   \": 55,\n",
      "    \"              \\u00c9diteur : Coup d'oeil  (01/01/2012)   \": 3,\n",
      "    \"              \\u00c9diteur : Bor\\u00e9al  (01/01/1900)   \": 3,\n",
      "    \"              \\u00c9diteur : Lem\\u00e9ac (Editeur)  (01/01/1980)   \": 2,\n",
      "    \"              \\u00c9diteur : Les \\u00e9ditions Qu\\u00e9b\\u00e9cor  (01/01/1900)   \": 2,\n",
      "    \"              \\u00c9diteur : Stank\\u00e9  (30/11/-1)   \": 2,\n",
      "    \" EAN : 9782361393090              \\u00c9diteur : Le Mot et le reste  (23/04/2020)   \": 1,\n",
      "    \" EAN : 9782896941926              \\u00c9diteur : Alto  (01/01/2015)   \": 1,\n",
      "    \" EAN : 9782742725830   90 pages            \\u00c9diteur : Actes Sud  (01/01/2000)   \": 1,\n",
      "    \" EAN : 9782742795697   248 pages            \\u00c9diteur : Actes Sud  (02/03/2011)   \": 1\n",
      "  },\n",
      "  \"editeur\": 5420,\n",
      "  \"editeur_by_value\": {\n",
      "    \"Bor\\u00e9al\": 319,\n",
      "    \"VLB Editeur\": 315,\n",
      "    \"Qu\\u00e9bec Am\\u00e9rique\": 219,\n",
      "    \"Lem\\u00e9ac (Editeur)\": 191,\n",
      "    \"\\u00c9ditions Hurtubise\": 133,\n",
      "    \"La Courte Echelle\": 133,\n",
      "    \"Libre Expression\": 118,\n",
      "    \"Le Noroit\": 113,\n",
      "    \"Xyz\": 107,\n",
      "    \"Editions Alire\": 88\n",
      "  },\n",
      "  \"note\": 4823,\n",
      "  \"note_by_value\": {\n",
      "    \"4\": 859,\n",
      "    \"3\": 675,\n",
      "    \"3.5\": 348,\n",
      "    \"5\": 289,\n",
      "    \"4.5\": 175,\n",
      "    \"2\": 174,\n",
      "    \"2.5\": 115,\n",
      "    \"3.67\": 99,\n",
      "    \"3.75\": 99,\n",
      "    \"3.25\": 75\n",
      "  },\n",
      "  \"nb_note\": 4823,\n",
      "  \"nb_note_by_value\": {\n",
      "    \"1\": 1614,\n",
      "    \"2\": 793,\n",
      "    \"3\": 433,\n",
      "    \"4\": 287,\n",
      "    \"5\": 197,\n",
      "    \"6\": 151,\n",
      "    \"7\": 128,\n",
      "    \"8\": 93,\n",
      "    \"9\": 90,\n",
      "    \"11\": 56\n",
      "  },\n",
      "  \"resume\": 5260,\n",
      "  \"resume_by_value\": {\n",
      "    \" La revue de l'ann\\u00e9e en caricatures. \": 3,\n",
      "    \" Anouk a quitt\\u00e9 son appartement confortable de Montr\\u00e9al pour un refuge fore..\": 2,\n",
      "    \" N\\u00e9 \\u00e0 Louiseville en 1952, Denuis Saint-Yves a \\u00e9tudi\\u00e9 \\u00e0 l\\u2019Universit\\u00e9 du Qu\\u00e9..\": 2,\n",
      "    \" Tout le monde conna\\u00eet Pierre Falardeau ou, du moins, croit le conna\\u00eetre. S..\": 2,\n",
      "    \" Pour l'inspecteur Th\\u00e9berge, tout d\\u00e9bute avec la d\\u00e9couverte, dans la voitur..\": 2,\n",
      "    \" Simon Perrot ! Marie l'a aim\\u00e9 de tout son \\u00eatre. Elle a d\\u00e9sir\\u00e9 l'\\u00e9pouser. E..\": 2,\n",
      "    \" En 2013, le pr\\u00e9sident chinois Xi Jinping annon\\u00e7ait un projet d'envergure q..\": 2,\n",
      "    \"Roman de politique-fiction, ce texte se d\\u00e9roule dans les coulisses du pouvo..\": 2,\n",
      "    \" Le roman d'aventures qu\\u00e9b\\u00e9cois du XIXe si\\u00e8cle est tr\\u00e8s souvent historique...\": 2,\n",
      "    \" L\\u2019\\u00cele d\\u2019Orl\\u00e9ans est un bout de terre fertile, baign\\u00e9 des eaux du Saint-Lau..\": 1\n",
      "  },\n",
      "  \"etiquettes\": {\n",
      "    \"tag\": 46099,\n",
      "    \"tag_by_value\": {\n",
      "      \" litt\\u00e9rature qu\\u00e9b\\u00e9coise  \": 4106,\n",
      "      \" qu\\u00e9b\\u00e9cois  \": 2371,\n",
      "      \" roman  \": 1686,\n",
      "      \" r\\u00e9cits  \": 888,\n",
      "      \" \\u00e9crivain femme  \": 755,\n",
      "      \" litt\\u00e9rature jeunesse  \": 643,\n",
      "      \" amour  \": 621,\n",
      "      \" po\\u00e9sie  \": 617,\n",
      "      \" qu\\u00e9bec  \": 579,\n",
      "      \" recueil  \": 518\n",
      "    },\n",
      "    \"info\": 46099,\n",
      "    \"info_by_value\": {\n",
      "      \"tag_t14 tc_1 tc_noreco00 tc_noaff00 tc_bold \": 19447,\n",
      "      \"tag_t14 tc_0 tc_noreco00 tc_noaff00 tc_bold \": 7738,\n",
      "      \"tag_t14 tc_2 tc_noreco00 tc_noaff00 tc_bold \": 6723,\n",
      "      \"tag_t26 tc_0 tc_noreco00 tc_noaff00 tc_bold \": 1615,\n",
      "      \"tag_t26 tc_2 tc_noreco00 tc_noaff00 tc_bold \": 1107,\n",
      "      \"tag_t26 tc_1 tc_noreco00 tc_noaff00 tc_bold \": 899,\n",
      "      \"tag_t19 tc_1 tc_noreco00 tc_noaff00 tc_bold \": 750,\n",
      "      \"tag_t17 tc_1 tc_noreco00 tc_noaff00 tc_bold \": 629,\n",
      "      \"tag_t16 tc_1 tc_noreco00 tc_noaff00 tc_bold \": 536,\n",
      "      \"tag_t21 tc_1 tc_noreco00 tc_noaff00 tc_bold \": 505\n",
      "    },\n",
      "    \"importance\": 46099,\n",
      "    \"importance_by_value\": {\n",
      "      \"14\": 34811,\n",
      "      \"26\": 3686,\n",
      "      \"19\": 1582,\n",
      "      \"21\": 1226,\n",
      "      \"17\": 1150,\n",
      "      \"18\": 968,\n",
      "      \"16\": 881,\n",
      "      \"20\": 376,\n",
      "      \"23\": 376,\n",
      "      \"15\": 374\n",
      "    }\n",
      "  },\n",
      "  \"commentaire\": {\n",
      "    \"id\": 17006,\n",
      "    \"id_by_value\": {\n",
      "      \"B_CRI2291176\": 1,\n",
      "      \"B_CRI2321052\": 1,\n",
      "      \"B_CRI2202376\": 1,\n",
      "      \"B_CRI2318248\": 1,\n",
      "      \"B_CRI1210731\": 1,\n",
      "      \"B_CRI2310443\": 1,\n",
      "      \"B_CRI2310424\": 1,\n",
      "      \"B_CRI1281583\": 1,\n",
      "      \"B_CRI2342178\": 1,\n",
      "      \"B_CRI1496294\": 1\n",
      "    },\n",
      "    \"auteur\": 17006,\n",
      "    \"auteur_by_value\": {\n",
      "      \"Cielvariable\": 441,\n",
      "      \"Lali\": 252,\n",
      "      \"Neneve\": 215,\n",
      "      \"bilodoh\": 212,\n",
      "      \"iarsenea\": 159,\n",
      "      \"ManonCC\": 151,\n",
      "      \"Errant\": 134,\n",
      "      \"argali\": 110,\n",
      "      \"MarianneRichard\": 108,\n",
      "      \"GB\": 104\n",
      "    },\n",
      "    \"date\": 17006,\n",
      "    \"date_by_value\": {\n",
      "      \"07 novembre 2016\": 41,\n",
      "      \"30 mars 2011\": 41,\n",
      "      \"08 novembre 2016\": 40,\n",
      "      \"24 juin 2010\": 33,\n",
      "      \"20 septembre 2020\": 30,\n",
      "      \"05 janvier 2017\": 26,\n",
      "      \"15 novembre 2016\": 25,\n",
      "      \"22 janvier 2017\": 25,\n",
      "      \"07 novembre 2018\": 24,\n",
      "      \"14 septembre 2019\": 22\n",
      "    },\n",
      "    \"note\": 15464,\n",
      "    \"note_by_value\": {\n",
      "      \"4.0\": 5245,\n",
      "      \"5.0\": 4283,\n",
      "      \"3.0\": 2739,\n",
      "      \"2.0\": 847,\n",
      "      \"3.5\": 835,\n",
      "      \"4.5\": 819,\n",
      "      \"1.0\": 334,\n",
      "      \"2.5\": 253,\n",
      "      \"1.5\": 58,\n",
      "      \"0.5\": 51\n",
      "    },\n",
      "    \"popularite\": 17006,\n",
      "    \"popularite_by_value\": {\n",
      "      \"0\": 3784,\n",
      "      \"1\": 3015,\n",
      "      \"2\": 1939,\n",
      "      \"3\": 1584,\n",
      "      \"4\": 1050,\n",
      "      \"5\": 843,\n",
      "      \"6\": 640,\n",
      "      \"7\": 531,\n",
      "      \"8\": 354,\n",
      "      \"9\": 343\n",
      "    },\n",
      "    \"contenu\": 16999,\n",
      "    \"contenu_by_value\": {\n",
      "      \" Lien : \": 78,\n",
      "      \"  trop bien  \": 11,\n",
      "      \"  Malgr\\u00e9 ses 650 pages, c'est un livre que j'ai lu rapidement. L'histoire e..\": 11,\n",
      "      \"  J ai bien aim\\u00e9 le tome 2\": 10,\n",
      "      \"  Une belle s\\u00e9rie. Une  avec une belle plume. Mais pour ma part... trop lon..\": 9,\n",
      "      \"  Une \\u00e9pop\\u00e9e grandiose pour les jeunes que j'ai lu adulte. J'ai aim\\u00e9. Une t..\": 9,\n",
      "      \"  Cette bande dessin\\u00e9e est un v\\u00e9ritable voyage historique dans un petit vil..\": 7,\n",
      "      \"  Excellent! Beaucoup conseill\\u00e9!  \": 7,\n",
      "      \"  .  \": 7,\n",
      "      \" Hatley est \\u00e0 la retraite depuis peu apr\\u00e8s plus de 35 ans pass\\u00e9s \\u00e0 travaill..\": 7\n",
      "    }\n",
      "  },\n",
      "  \"extrait\": {\n",
      "    \"id\": 23594,\n",
      "    \"id_by_value\": {\n",
      "      \"B_CIT2068353\": 1,\n",
      "      \"B_CIT1071445\": 1,\n",
      "      \"B_CIT2067756\": 1,\n",
      "      \"B_CIT2067512\": 1,\n",
      "      \"B_CIT2067509\": 1,\n",
      "      \"B_CIT2067506\": 1,\n",
      "      \"B_CIT1071452\": 1,\n",
      "      \"B_CIT1071450\": 1,\n",
      "      \"B_CIT1071444\": 1,\n",
      "      \"B_CIT1071418\": 1\n",
      "    },\n",
      "    \"auteur\": 23594,\n",
      "    \"auteur_by_value\": {\n",
      "      \"rkhettaoui\": 4784,\n",
      "      \"Cielvariable\": 2468,\n",
      "      \"Lali\": 1421,\n",
      "      \"ManonCC\": 644,\n",
      "      \"bilodoh\": 350,\n",
      "      \"Lucie16\": 346,\n",
      "      \"coco4649\": 329,\n",
      "      \"sweetie\": 264,\n",
      "      \"M-Pi\": 258,\n",
      "      \"fanfanouche24\": 257\n",
      "    },\n",
      "    \"date\": 23594,\n",
      "    \"date_by_value\": {\n",
      "      \"14 mai 2013\": 214,\n",
      "      \"21 novembre 2015\": 106,\n",
      "      \"01 mars 2020\": 88,\n",
      "      \"07 avril 2013\": 87,\n",
      "      \"10 avril 2018\": 76,\n",
      "      \"21 mai 2012\": 73,\n",
      "      \"05 juillet 2015\": 67,\n",
      "      \"06 janvier 2019\": 67,\n",
      "      \"18 avril 2014\": 65,\n",
      "      \"16 d\\u00e9cembre 2015\": 61\n",
      "    },\n",
      "    \"popularite\": 23594,\n",
      "    \"popularite_by_value\": {\n",
      "      \"0\": 7039,\n",
      "      \"1\": 5950,\n",
      "      \"2\": 2940,\n",
      "      \"3\": 1730,\n",
      "      \"4\": 1280,\n",
      "      \"5\": 865,\n",
      "      \"6\": 649,\n",
      "      \"7\": 428,\n",
      "      \"8\": 323,\n",
      "      \"9\": 270\n",
      "    },\n",
      "    \"contenu\": 23589,\n",
      "    \"contenu_by_value\": {\n",
      "      \"  Le sourire chez un mort, c'est une derni\\u00e8re politesse. \": 4,\n",
      "      \"  Tous les espoirs y sont permis et les interdits s'y effondrent dans le fr..\": 3,\n",
      "      \"  je les lu se livre et moi qui a jamais lu de livre sans con me loblige je pouver plus marreter \": 3,\n",
      "      \"  - Grand-m\\u00e8re, pourquoi les Am\\u00e9ricains ont-ils envoy\\u00e9 deux bombes atomique..\": 3,\n",
      "      \"  Une culture qui ne tient compte que des vivants est en danger de mort. \": 3,\n",
      "      \"  je trouve que le 3ieme tome d'aurelie laflamme est le meilleure des septs..\": 3,\n",
      "      \"  Le saumon qui bondit et lutte, un m\\u00eame spectacle pour trois hommes diff\\u00e9r..\": 3,\n",
      "      \"  Depuis des mill\\u00e9naires, la sagesse de l\\u2019\\u00e9vidence suffit \\u00e0 ce peuple : si ..\": 3,\n",
      "      \"  La vie est un combat o\\u00f9 la tristesse entra\\u00eene la d\\u00e9faite. \": 3,\n",
      "      \"  Depuis le temps que tu parles aux morts, fit Cr\\u00e9peau, c'est un peu normal que ce soit leur tour. \": 3\n",
      "    }\n",
      "  },\n",
      "  \"date_edtition\": 5290,\n",
      "  \"date_edtition_by_value\": {\n",
      "    \"01/09/2005\": 250,\n",
      "    \"20/09/2005\": 204,\n",
      "    \"01/01/1900\": 159,\n",
      "    \"25/10/2006\": 54,\n",
      "    \"01/01/2012\": 43,\n",
      "    \"01/01/2010\": 33,\n",
      "    \"01/01/2001\": 29,\n",
      "    \"01/07/1998\": 27,\n",
      "    \"01/01/2008\": 27,\n",
      "    \"01/01/2013\": 26\n",
      "  },\n",
      "  \"isbn\": 5338,\n",
      "  \"isbn_by_value\": {\n",
      "    \"978\": 80,\n",
      "    \"9782361393090\": 1,\n",
      "    \"9782896941926\": 1,\n",
      "    \"9782742725830\": 1,\n",
      "    \"9782742795697\": 1,\n",
      "    \"9782896494132\": 1,\n",
      "    \"9782749909042\": 1,\n",
      "    \"9782760933569\": 1,\n",
      "    \"9782742706303\": 1,\n",
      "    \"9782764623817\": 1\n",
      "  },\n",
      "  \"nb_pages\": 2589,\n",
      "  \"nb_pages_by_value\": {\n",
      "    \"160\": 45,\n",
      "    \"32\": 43,\n",
      "    \"192\": 33,\n",
      "    \"96\": 32,\n",
      "    \"224\": 29,\n",
      "    \"128\": 27,\n",
      "    \"64\": 26,\n",
      "    \"30\": 25,\n",
      "    \"24\": 24,\n",
      "    \"48\": 24\n",
      "  }\n",
      "}\n"
     ]
    }
   ],
   "source": [
    "print(json.dumps(stats_book_formated, indent=2))"
   ],
   "metadata": {
    "collapsed": false,
    "pycharm": {
     "name": "#%%\n"
    }
   }
  },
  {
   "cell_type": "markdown",
   "source": [
    "### Pour les auteurs:"
   ],
   "metadata": {
    "collapsed": false,
    "pycharm": {
     "name": "#%% md\n"
    }
   }
  },
  {
   "cell_type": "code",
   "execution_count": 5,
   "outputs": [
    {
     "name": "stdout",
     "output_type": "stream",
     "text": [
      "{\n",
      "  \"total\": 2768,\n",
      "  \"url\": 2768,\n",
      "  \"url_by_value\": {\n",
      "    \"https://www.babelio.com/auteur/Simon-Roy/326355\": 1,\n",
      "    \"https://www.babelio.com/auteur/Milena-Babin/302343\": 1,\n",
      "    \"https://www.babelio.com/auteur/Diane-Lavoie/284029\": 1,\n",
      "    \"https://www.babelio.com/auteur/Veronique-Cote/226136\": 1,\n",
      "    \"https://www.babelio.com/auteur/Charlotte-Gingras/54313\": 1,\n",
      "    \"https://www.babelio.com/auteur/Michel-Jean/149380\": 1,\n",
      "    \"https://www.babelio.com/auteur/Marilyne-Fortin/333365\": 1,\n",
      "    \"https://www.babelio.com/auteur/ric-Plamondon/221283\": 1,\n",
      "    \"https://www.babelio.com/auteur/Olivia-Tapiero/129690\": 1,\n",
      "    \"https://www.babelio.com/auteur/Gilles-Archambault/2653\": 1\n",
      "  },\n",
      "  \"name\": 2768,\n",
      "  \"name_by_value\": {\n",
      "    \" Simon Roy\": 1,\n",
      "    \" Mil\\u00e9na Babin\": 1,\n",
      "    \" Diane Lavoie\": 1,\n",
      "    \" V\\u00e9ronique C\\u00f4t\\u00e9\": 1,\n",
      "    \" Charlotte Gingras\": 1,\n",
      "    \" Michel Jean\": 1,\n",
      "    \" Marilyne Fortin\": 1,\n",
      "    \" \\u00c9ric Plamondon\": 1,\n",
      "    \" Olivia Tapiero\": 1,\n",
      "    \" Gilles Archambault\": 1\n",
      "  },\n",
      "  \"infos\": 2135,\n",
      "  \"infos_by_value\": {\n",
      "    \" Nationalit\\u00e9 :  Canada \": 413,\n",
      "    \" Nationalit\\u00e9 :  Canada  +\": 107,\n",
      "    \" Nationalit\\u00e9 :  France \": 33,\n",
      "    \" Nationalit\\u00e9 :  Canada   N\\u00e9(e) \\u00e0 : Montr\\u00e9al  \": 21,\n",
      "    \" Nationalit\\u00e9 :  France  +\": 16,\n",
      "    \"+\": 15,\n",
      "    \" Nationalit\\u00e9 :  Canada   N\\u00e9(e) \\u00e0 : Qu\\u00e9bec   +\": 7,\n",
      "    \" Nationalit\\u00e9 :  Canada   N\\u00e9(e) \\u00e0 : Qu\\u00e9bec  \": 7,\n",
      "    \" Nationalit\\u00e9 :  Canada    N\\u00e9(e)  :   1946\": 5,\n",
      "    \" Nationalit\\u00e9 :  Canada    N\\u00e9(e)  :   1969\": 5\n",
      "  },\n",
      "  \"bio\": 2171,\n",
      "  \"bio_by_value\": {\n",
      "    \" Biographie :    Simon Roy est professeur de litt\\u00e9rature au Coll\\u00e8ge Lionel-..\": 1,\n",
      "    \" Biographie :    \\u00c9tudiante au baccalaur\\u00e9at en langue fran\\u00e7aise et r\\u00e9daction..\": 1,\n",
      "    \" Biographie :    Diane Lavoie est designer de costumes et travaille \\u00e0 Radio..\": 1,\n",
      "    \" Biographie :    V\\u00e9ronique C\\u00f4t\\u00e9, qui a \\u00e9tudi\\u00e9 au Conservatoire d'art dramat..\": 1,\n",
      "    \" Biographie :    Charlotte Gingras est une romanci\\u00e8re qu\\u00e9b\\u00e9coise. Elle a fa..\": 1,\n",
      "    \" Biographie :    Michel Jean est journaliste et auteur canadien. Apr\\u00e8s un b..\": 1,\n",
      "    \" Biographie :    C'est en r\\u00e9digeant son m\\u00e9moire de ma\\u00eetrise en histoire que..\": 1,\n",
      "    \" Biographie :    \\u00c9ric Plamondon est un \\u00e9crivain qu\\u00e9b\\u00e9cois. Il est dipl\\u00f4m\\u00e9 d..\": 1,\n",
      "    \" Biographie :    Olivia Tapiero est un auteur de romans. \\u00c9tudiante au D\\u00e9par..\": 1,\n",
      "    \" Biographie :    Gilles Archambault  obtient son baccalaur\\u00e9at au Coll\\u00e8ge Sa..\": 1\n",
      "  },\n",
      "  \"etiquettes\": {\n",
      "    \"tag\": 35657,\n",
      "    \"tag_by_value\": {\n",
      "      \" litt\\u00e9rature qu\\u00e9b\\u00e9coise\": 1891,\n",
      "      \" qu\\u00e9b\\u00e9cois\": 1394,\n",
      "      \" roman\": 991,\n",
      "      \" r\\u00e9cits\": 886,\n",
      "      \" \\u00e9crivain femme\": 603,\n",
      "      \" recueil\": 500,\n",
      "      \" amour\": 484,\n",
      "      \" litt\\u00e9rature jeunesse\": 415,\n",
      "      \" po\\u00e9sie\": 407,\n",
      "      \" qu\\u00e9bec\": 351\n",
      "    },\n",
      "    \"info\": 35657,\n",
      "    \"info_by_value\": {\n",
      "      \"tc_1 tag_t14  tc_noreco00 tc_noaff00  \": 13646,\n",
      "      \"tc_0 tag_t14  tc_noreco00 tc_noaff00  \": 4216,\n",
      "      \"tc_2 tag_t14  tc_noreco00 tc_noaff00  \": 3061,\n",
      "      \"tc_1 tag_t16  tc_noreco00 tc_noaff00  \": 1486,\n",
      "      \"tc_1 tag_t15  tc_noreco00 tc_noaff00  \": 1447,\n",
      "      \"tc_0 tag_t26  tc_noreco00 tc_noaff00  \": 1210,\n",
      "      \"tc_1 tag_t17  tc_noreco00 tc_noaff00  \": 999,\n",
      "      \"tc_1 tag_t26  tc_noreco00 tc_noaff00  \": 944,\n",
      "      \"tc_1 tag_t18  tc_noreco00 tc_noaff00  \": 732,\n",
      "      \"tc_2 tag_t26  tc_noreco00 tc_noaff00  \": 706\n",
      "    },\n",
      "    \"importance\": 35657,\n",
      "    \"importance_by_value\": {\n",
      "      \"14\": 21352,\n",
      "      \"26\": 2893,\n",
      "      \"16\": 2569,\n",
      "      \"15\": 2529,\n",
      "      \"17\": 1838,\n",
      "      \"18\": 1492,\n",
      "      \"20\": 1393,\n",
      "      \"22\": 513,\n",
      "      \"19\": 463,\n",
      "      \"23\": 202\n",
      "    }\n",
      "  },\n",
      "  \"relations\": 13559,\n",
      "  \"relations_by_value\": {\n",
      "    \"/auteur/Rejean-Ducharme/21878\": 272,\n",
      "    \"/monprofil.php?id_user=23022\": 231,\n",
      "    \"/auteur/Michel-Tremblay/7243\": 211,\n",
      "    \"/auteur/Anne-Hebert/14788\": 173,\n",
      "    \"/auteur/Jacques-Godbout/24190\": 93,\n",
      "    \"/auteur/Marie-Laberge/12749\": 78,\n",
      "    \"/auteur/Yvon-Rivard/21628\": 66,\n",
      "    \"/auteur/Jacques-Ferron/34621\": 66,\n",
      "    \"/auteur/Jacques-Poulin/13681\": 60,\n",
      "    \"/auteur/Robert-Lalonde/21753\": 59\n",
      "  },\n",
      "  \"note\": 2464,\n",
      "  \"note_by_value\": {\n",
      "    \"4\": 283,\n",
      "    \"3\": 258,\n",
      "    \"3.5\": 156,\n",
      "    \"5\": 86,\n",
      "    \"2\": 73,\n",
      "    \"3.67\": 60,\n",
      "    \"3.75\": 59,\n",
      "    \"4.5\": 46,\n",
      "    \"2.5\": 46,\n",
      "    \"3.25\": 38\n",
      "  },\n",
      "  \"nb_note\": 2464,\n",
      "  \"nb_note_by_value\": {\n",
      "    \"1\": 478,\n",
      "    \"2\": 300,\n",
      "    \"3\": 200,\n",
      "    \"4\": 166,\n",
      "    \"5\": 110,\n",
      "    \"6\": 97,\n",
      "    \"7\": 91,\n",
      "    \"8\": 56,\n",
      "    \"10\": 43,\n",
      "    \"11\": 41\n",
      "  },\n",
      "  \"bibliographie\": 14948,\n",
      "  \"bibliographie_by_value\": {\n",
      "    \"/livres/Larochelle-Premieres-amours/512884\": 2,\n",
      "    \"/livres/Monette-Et-Mathilde-chantait/372718\": 2,\n",
      "    \"/livres/Seymour-Le-gout-de-lelegance/1220801\": 2,\n",
      "    \"/livres/Ferron-Anthologie-de-la-nouvelle-au-Quebec/421872\": 2,\n",
      "    \"/livres/Coup-de-Pouce-150-plats-vege-savoureux/441662\": 2,\n",
      "    \"/livres/Martel-LHistoire-de-Pi/4955\": 2,\n",
      "    \"/livres/Martel-Beatrice-et-Virgile/189929\": 2,\n",
      "    \"/livres/Buies-La-Vallee-de-la-Matapedia-Ouvrage-Historique-Et-D/1238735\": 2,\n",
      "    \"/livres/Buies-Le-Saguenay-et-le-Bassin-du-Lac-Saint-Jean-Ouvrag/1238040\": 2,\n",
      "    \"/livres/Villeneuve-Les-mysteres-de-Felicio/707546\": 2\n",
      "  },\n",
      "  \"interview\": {\n",
      "    \"url\": 2110,\n",
      "    \"url_by_value\": {\n",
      "      \"https://www.youtube.com/v/GTK07coIrc0?version=3\": 7,\n",
      "      \"https://www.youtube.com/v/cImRfZjf8lg?version=3\": 6,\n",
      "      \"https://www.youtube.com/v/YHi3hvEl4V0?version=3\": 5,\n",
      "      \"https://www.youtube.com/v/hrV915UMIC8?version=3\": 5,\n",
      "      \"https://www.youtube.com/v/KEmD60-ARLE?version=3\": 5,\n",
      "      \"https://www.youtube.com/v/gzD8dO5iln8?version=3\": 3,\n",
      "      \"https://www.youtube.com/v/oejDAigJEeY?version=3\": 3,\n",
      "      \"https://www.youtube.com/v/kg-TB9aay-E?version=3\": 3,\n",
      "      \"https://www.youtube.com/v/ykZshKEbmKY?version=3\": 3,\n",
      "      \"https://www.youtube.com/v/8VqgBp6JUFA?version=3\": 3\n",
      "    },\n",
      "    \"date\": 2110,\n",
      "    \"date_by_value\": {\n",
      "      \"Par INA\": 71,\n",
      "      \"19 novembre 2018\": 51,\n",
      "      \"13 novembre 2013\": 36,\n",
      "      \"10 mars 2012\": 36,\n",
      "      \"04 mars 2012\": 29,\n",
      "      \"15 f\\u00e9vrier 2019\": 24,\n",
      "      \"07 janvier 2013\": 22,\n",
      "      \"19 d\\u00e9cembre 2015\": 20,\n",
      "      \"19 d\\u00e9cembre 2019\": 19,\n",
      "      \"18 mars 2011\": 19\n",
      "    },\n",
      "    \"description\": 2101,\n",
      "    \"description_by_value\": {\n",
      "      \" re\\u00e7oit  ,   et  . Les libraires en coulisses, une initiative de l?Associat..\": 12,\n",
      "      \"                Vid\\u00e9o de Grelet Nadine            \": 7,\n",
      "      \"                Catherine Trudeau re\\u00e7oit  ,   et   au Salon du livre de Mon..\": 6,\n",
      "      \"\\u00e0 propos des Rencontres qu\\u00e9b\\u00e9coises en Ha\\u00efti \\u00e0 propos des Rencontres qu\\u00e9b\\u00e9c..\": 6,\n",
      "      \"                Vid\\u00e9o de Bryan Perro            \": 6,\n",
      "      \"                Vid\\u00e9o de Sylvie Payette            \": 6,\n",
      "      \": \": 5,\n",
      "      \"                L'\\u00e9crivain   re\\u00e7oit  ,   et  . Les libraires en coulisses, ..\": 5,\n",
      "      \"                Vid\\u00e9o de Am\\u00e9lie Dubois            \": 5,\n",
      "      \"                L'\\u00e9crivaine   re\\u00e7oit  ,   et  . Les libraires en coulisses,..\": 5\n",
      "    }\n",
      "  },\n",
      "  \"nationalite\": 1502,\n",
      "  \"nationalite_by_value\": {\n",
      "    \":  Canada  \": 1063,\n",
      "    \":  Canada   \": 292,\n",
      "    \":  France  \": 69,\n",
      "    \":  France   \": 35,\n",
      "    \":  \\u00c9tats-Unis  \": 11,\n",
      "    \":  Belgique  \": 10,\n",
      "    \":  Belgique   \": 4,\n",
      "    \":  Italie  \": 3,\n",
      "    \":  Ha\\u00efti  \": 3,\n",
      "    \":  \\u00c9tats-Unis   \": 3\n",
      "  },\n",
      "  \"lieu_de_naissance\": 1125,\n",
      "  \"lieu_de_naissance_by_value\": {\n",
      "    \"\\u00e0 : Montr\\u00e9al \": 247,\n",
      "    \"\\u00e0 : Qu\\u00e9bec \": 102,\n",
      "    \"\\u00e0 : Montr\\u00e9al\": 20,\n",
      "    \"\\u00e0 : Montr\\u00e9al  \": 17,\n",
      "    \"\\u00e0 : Sherbrooke \": 16,\n",
      "    \"\\u00e0 : Trois-Rivi\\u00e8res \": 16,\n",
      "    \"\\u00e0 : Paris \": 15,\n",
      "    \"\\u00e0 : Chicoutimi \": 11,\n",
      "    \"\\u00e0 : Qu\\u00e9bec  \": 9,\n",
      "    \"\\u00e0 : Longueuil \": 8\n",
      "  },\n",
      "  \"date_de_naissance\": 552,\n",
      "  \"date_de_naissance_by_value\": {\n",
      "    \"21/03/1945\": 2,\n",
      "    \"13/12/1946\": 2,\n",
      "    \"30/11/1957\": 2,\n",
      "    \"19/04/1955\": 2,\n",
      "    \"19/11/1953\": 2,\n",
      "    \"10/12/1943\": 1,\n",
      "    \"19/09/1933\": 1,\n",
      "    \"11/01/1962\": 1,\n",
      "    \"12/10/1880\": 1,\n",
      "    \"12/11/1957\": 1\n",
      "  },\n",
      "  \"lieu_de_mort\": 136,\n",
      "  \"lieu_de_mort_by_value\": {\n",
      "    \"\\u00e0 : Montr\\u00e9al \": 49,\n",
      "    \"\\u00e0 : Qu\\u00e9bec \": 15,\n",
      "    \"\\u00e0 : Montr\\u00e9al\": 6,\n",
      "    \"\\u00e0 : Paris \": 4,\n",
      "    \"\\u00e0 : Montr\\u00e9al  \": 3,\n",
      "    \"\\u00e0 : Ottawa \": 2,\n",
      "    \"\\u00e0 : Longueuil \": 2,\n",
      "    \"\\u00e0 : Ottawa\": 2,\n",
      "    \"\\u00e0 : Drummondville \": 2,\n",
      "    \"\\u00e0 : Lac M\\u00e9gantic\": 1\n",
      "  },\n",
      "  \"pays_de_naissance\": 59,\n",
      "  \"pays_de_naissance_by_value\": {\n",
      "    \"Qu\\u00e9bec\": 19,\n",
      "    \"Ontario\": 5,\n",
      "    \"Ha\\u00efti\": 3,\n",
      "    \"Canada\": 2,\n",
      "    \"Manitoba\": 2,\n",
      "    \"Nouveau-Brunswick\": 2,\n",
      "    \"QC\": 2,\n",
      "    \"Montr\\u00e9al\": 2,\n",
      "    \"Maroc\": 2,\n",
      "    \"Liban\": 1\n",
      "  },\n",
      "  \"pays_de_mort\": 6,\n",
      "  \"pays_de_mort_by_value\": {\n",
      "    \"Canada\": 2,\n",
      "    \"Ontario\": 1,\n",
      "    \"Qu\\u00e9bec\": 1,\n",
      "    \"QC\": 1,\n",
      "    \"Mauricie, Qu\\u00e9bec\": 1\n",
      "  },\n",
      "  \"date_de_mort\": 104,\n",
      "  \"date_de_mort_by_value\": {\n",
      "    \"8/07/1913\": 1,\n",
      "    \"14/12/1996\": 1,\n",
      "    \"07/03/1841\": 1,\n",
      "    \"19/12/2016\": 1,\n",
      "    \"18/01/2016\": 1,\n",
      "    \"22/02/1960\": 1,\n",
      "    \"04/08/1882\": 1,\n",
      "    \"12/10/1978\": 1,\n",
      "    \"27/02/2010\": 1,\n",
      "    \"12/10/1994\": 1\n",
      "  },\n",
      "  \"prix\": 37,\n",
      "  \"prix_by_value\": {\n",
      "    \"SNCF du Polar  - 2019\": 1,\n",
      "    \"Goncourt  - G\\u00e9n\\u00e9ral - 1979\": 1,\n",
      "    \"Grand Prix de l'imaginaire  - Roman Francophone - 1982\": 1,\n",
      "    \"M\\u00e9diterran\\u00e9e  - Fran\\u00e7ais - 2013\": 1,\n",
      "    \"Angoul\\u00eame  - Grand Prix - 2003\": 1,\n",
      "    \"Grand Prix de l'imaginaire  - Roman Francophone - 1983\": 1,\n",
      "    \"Acad\\u00e9mie Fran\\u00e7aise  - Grand prix du roman - 2017\": 1,\n",
      "    \"Deux Magots  - 1998\": 1,\n",
      "    \"Acad\\u00e9mie Fran\\u00e7aise  - Grand prix de la francophonie - 1989\": 1,\n",
      "    \"Man Booker Prize  - 2002\": 1\n",
      "  }\n",
      "}\n"
     ]
    }
   ],
   "source": [
    "print(json.dumps(stats_author_formated, indent=2))"
   ],
   "metadata": {
    "collapsed": false,
    "pycharm": {
     "name": "#%%\n"
    }
   }
  },
  {
   "cell_type": "markdown",
   "source": [
    "## Analyse des résumés des livres (0 - 1 résumé par livre):"
   ],
   "metadata": {
    "collapsed": false,
    "pycharm": {
     "name": "#%% md\n"
    }
   }
  },
  {
   "cell_type": "code",
   "execution_count": 6,
   "outputs": [
    {
     "name": "stdout",
     "output_type": "stream",
     "text": [
      "Moyenne du nombre de caractères:  401.30163875382675\n",
      "Medianne du nombre de caractères:  460\n",
      "Écart-typedu nombre de caractères:  130.44595533651858\n",
      "\n",
      "Maximum du nombre de caractères:  475\n",
      "Minimum du nombre de caractères non nul:  9\n",
      "\n",
      "Longueure des 10 plus long résumé:  [475, 475, 475, 475, 475, 475, 475, 475, 475, 475]\n",
      "Longueure des 10 plus courts résumé:  [9, 14, 19, 20, 20, 21, 23, 23, 24, 24]\n",
      "\n",
      "Nombre de non-nul:  5260 , nombre de nul:  293\n",
      "\n",
      "Tailles des résumés\n"
     ]
    },
    {
     "data": {
      "text/plain": "<Figure size 432x288 with 1 Axes>",
      "image/png": "[encoded data removed]"
     },
     "metadata": {
      "needs_background": "light"
     },
     "output_type": "display_data"
    }
   ],
   "source": [
    "lenght = []\n",
    "for resume in [book['resume'] for book in Babelio_books]:\n",
    "    lenght.append(len(resume))\n",
    "print(\"Moyenne du nombre de caractères: \", mean(lenght))\n",
    "print(\"Medianne du nombre de caractères: \", median(lenght))\n",
    "print(\"Écart-typedu nombre de caractères: \", pstdev(lenght))\n",
    "print(\"\\nMaximum du nombre de caractères: \", max(lenght))\n",
    "print(\"Minimum du nombre de caractères non nul: \", min([x for x in lenght if (x != 0) and x]))\n",
    "print(\"\\nLongueure des 10 plus long résumé: \", sorted(lenght, reverse=True)[:10])\n",
    "print(\"Longueure des 10 plus courts résumé: \",sorted([x for x in lenght if x != 0 and x])[:10])\n",
    "print(\"\\nNombre de non-nul: \", len([x for x in lenght if (x != 0) and x]), \", nombre de nul: \", len([x for x in lenght if (x == 0) or not x]))\n",
    "print(\"\\nTailles des résumés\")\n",
    "occurence_count = Counter([x for x in lenght if x != 0 and x])\n",
    "x, y = zip(*sorted(occurence_count.items()))\n",
    "plt.plot(x, y)\n",
    "plt.xlabel(\"Nombre de caractères\")\n",
    "plt.ylabel(\"Nombre d'occurrence\")\n",
    "plt.title(\"Nombre de résumés en fonction de leur nombre de caractères\")\n",
    "plt.show()"
   ],
   "metadata": {
    "collapsed": false,
    "pycharm": {
     "name": "#%%\n"
    }
   }
  },
  {
   "cell_type": "markdown",
   "source": [
    "## Analyse des commentaires des livres (0 - n résumés par livre)\n",
    "\n",
    "### taille et nombre"
   ],
   "metadata": {
    "collapsed": false,
    "pycharm": {
     "name": "#%% md\n"
    }
   }
  },
  {
   "cell_type": "code",
   "execution_count": 7,
   "outputs": [],
   "source": [
    "numbers = []\n",
    "lenght = []\n",
    "ratings = []\n",
    "for review_ls in [book['commentaire'] for book in Babelio_books]:\n",
    "    if not review_ls:\n",
    "        numbers.append(0)\n",
    "    else:\n",
    "        for review in review_ls:\n",
    "            ratings.append(float(review[\"note\"]) if review[\"note\"] else review[\"note\"])\n",
    "            lenght.append(len(\" \".join(review[\"contenu\"])))\n",
    "        numbers.append(len(review_ls))"
   ],
   "metadata": {
    "collapsed": false,
    "pycharm": {
     "name": "#%%\n"
    }
   }
  },
  {
   "cell_type": "code",
   "execution_count": 8,
   "outputs": [
    {
     "name": "stdout",
     "output_type": "stream",
     "text": [
      "Moyenne du nombre de commentaires:  3.0624887448226183\n",
      "Medianne du nombre de commentaires:  1\n",
      "Ecart-type du nombre de commentaires:  11.815934175984815\n",
      "\n",
      "Nombre de non-nul:  2969 , nombre de nul:  7\n",
      "fréquences du nombre de commentaire\n",
      "Nombre de commentaires\n"
     ]
    },
    {
     "data": {
      "text/plain": "<Figure size 432x288 with 1 Axes>",
      "image/png": "[encoded data removed]"
     },
     "metadata": {
      "needs_background": "light"
     },
     "output_type": "display_data"
    }
   ],
   "source": [
    "print(\"Moyenne du nombre de commentaires: \", mean(numbers))\n",
    "print(\"Medianne du nombre de commentaires: \", median(numbers))\n",
    "print(\"Ecart-type du nombre de commentaires: \", pstdev(numbers))\n",
    "print(\"\\nNombre de non-nul: \", len([x for x in numbers if x != 0 and x]), \", nombre de nul: \", len([x for x in lenght if x == 0 or not x]))\n",
    "print(\"fréquences du nombre de commentaire\")\n",
    "print(\"Nombre de commentaires\")\n",
    "occurence_count = Counter([x for x in numbers if x != 0 and x])\n",
    "x, y = zip(*sorted(occurence_count.items()))\n",
    "plt.plot(x, y)\n",
    "plt.xlabel(\"Nombre de commentaire pour un livre donnée\")\n",
    "plt.ylabel(\"Nombre de livre\")\n",
    "plt.title(\"Nombre de livre en fonction de leur nombre de commentaires\")\n",
    "plt.show()"
   ],
   "metadata": {
    "collapsed": false,
    "pycharm": {
     "name": "#%%\n"
    }
   }
  },
  {
   "cell_type": "code",
   "execution_count": 9,
   "outputs": [
    {
     "name": "stdout",
     "output_type": "stream",
     "text": [
      "\n",
      "Moyenne du nombre de caractères:  1806.526814065624\n",
      "Medianne du nombre de caractères:  1373.0\n",
      "Écart-typedu nombre de caractères:  1596.6615521621773\n",
      "\n",
      "Maximum du nombre de caractères:  13493\n",
      "Minimum du nombre de caractères non nul:  9\n",
      "\n",
      "Nombre de non-nul:  16999 , nombre de nul:  7\n",
      "Nombre de caractère par commentaire\n"
     ]
    },
    {
     "data": {
      "text/plain": "<Figure size 432x288 with 1 Axes>",
      "image/png": "[encoded data removed]"
     },
     "metadata": {
      "needs_background": "light"
     },
     "output_type": "display_data"
    }
   ],
   "source": [
    "print(\"\\nMoyenne du nombre de caractères: \", mean(lenght))\n",
    "print(\"Medianne du nombre de caractères: \", median(lenght))\n",
    "print(\"Écart-typedu nombre de caractères: \", pstdev(lenght))\n",
    "print(\"\\nMaximum du nombre de caractères: \", max(lenght))\n",
    "print(\"Minimum du nombre de caractères non nul: \", min([x for x in lenght if x != 0 and x]))\n",
    "print(\"\\nNombre de non-nul: \", len([x for x in lenght if x != 0 and x]), \", nombre de nul: \", len([x for x in lenght if x == 0 or not x]))\n",
    "print(\"Nombre de caractère par commentaire\")\n",
    "occurence_count = Counter(lenght)\n",
    "x, y = zip(*sorted(occurence_count.items()))\n",
    "plt.plot(x, y)\n",
    "plt.xlabel(\"Nombre de caractère pour un commentaire donnée\")\n",
    "plt.ylabel(\"Nombre de commentaire\")\n",
    "plt.title(\"Nombre de commentaire en fonction de leur nombre de caractère\")\n",
    "plt.show()"
   ],
   "metadata": {
    "collapsed": false,
    "pycharm": {
     "name": "#%%\n"
    }
   }
  },
  {
   "cell_type": "markdown",
   "source": [
    "### notes"
   ],
   "metadata": {
    "collapsed": false,
    "pycharm": {
     "name": "#%% md\n"
    }
   }
  },
  {
   "cell_type": "code",
   "execution_count": 10,
   "outputs": [
    {
     "name": "stdout",
     "output_type": "stream",
     "text": [
      "\n",
      "Moyenne des notes:  3.8795266425245734\n",
      "Médianne des notes:  4.0\n",
      "Écart-type des notes:  0.9901728117050013\n",
      "Maximum des notes:  5.0\n",
      "\n",
      "Nombre de non-nul:  15464 , nombre de nul:  1542\n",
      "Nombre de note\n"
     ]
    },
    {
     "data": {
      "text/plain": "<Figure size 432x288 with 1 Axes>",
      "image/png": "[encoded data removed]"
     },
     "metadata": {
      "needs_background": "light"
     },
     "output_type": "display_data"
    }
   ],
   "source": [
    "print(\"\\nMoyenne des notes: \", mean([x for x in ratings if x]))\n",
    "print(\"Médianne des notes: \", median([x for x in ratings if x]))\n",
    "print(\"Écart-type des notes: \", pstdev([x for x in ratings if x]))\n",
    "print(\"Maximum des notes: \", max([x for x in ratings if x]))\n",
    "print(\"\\nNombre de non-nul: \", len([x for x in ratings if x != 0 and x]), \", nombre de nul: \", len([x for x in ratings if x == 0 or not x]))\n",
    "print(\"Nombre de note\")\n",
    "occurence_count = Counter([x for x in ratings if x != 0 and x])\n",
    "x, y = zip(*sorted(occurence_count.items()))\n",
    "plt.plot(x, y)\n",
    "plt.xlabel(\"Valeur de la note\")\n",
    "plt.ylabel(\"Nombre de note\")\n",
    "plt.title(\"Nombre de note en fonction de leur valeur\")\n",
    "plt.show()"
   ],
   "metadata": {
    "collapsed": false,
    "pycharm": {
     "name": "#%%\n"
    }
   }
  },
  {
   "cell_type": "markdown",
   "source": [
    "# Analyse des extraits (0 - n par livre)"
   ],
   "metadata": {
    "collapsed": false
   }
  },
  {
   "cell_type": "code",
   "execution_count": 11,
   "outputs": [],
   "source": [
    "numbers = []\n",
    "lenght = []\n",
    "for extracts_ls in [book['extrait'] for book in Babelio_books]:\n",
    "    if not extracts_ls:\n",
    "        numbers.append(0)\n",
    "    else:\n",
    "        for review in extracts_ls:\n",
    "            lenght.append(len(\" \".join(review[\"contenu\"])))\n",
    "        numbers.append(len(extracts_ls))"
   ],
   "metadata": {
    "collapsed": false,
    "pycharm": {
     "name": "#%%\n"
    }
   }
  },
  {
   "cell_type": "code",
   "execution_count": 12,
   "outputs": [
    {
     "name": "stdout",
     "output_type": "stream",
     "text": [
      "Moyenne du nombre de commentaires:  4.24887448226184\n",
      "Médianne du nombre de commentaires:  1\n",
      "Écart-typedu nombre de commentaires:  11.106641005363713\n",
      "\n",
      "Nombre de non-nul:  2888 , nombre de nul:  5\n",
      "Nombre d'extraits\n"
     ]
    },
    {
     "data": {
      "text/plain": "<Figure size 432x288 with 1 Axes>",
      "image/png": "[encoded data removed]"
     },
     "metadata": {
      "needs_background": "light"
     },
     "output_type": "display_data"
    }
   ],
   "source": [
    "print(\"Moyenne du nombre de commentaires: \", mean(numbers))\n",
    "print(\"Médianne du nombre de commentaires: \", median(numbers))\n",
    "print(\"Écart-typedu nombre de commentaires: \", pstdev(numbers))\n",
    "print(\"\\nNombre de non-nul: \", len([x for x in numbers if x != 0 and x]), \", nombre de nul: \", len([x for x in lenght if x == 0 or not x]))\n",
    "print(\"Nombre d'extraits\")\n",
    "occurence_count = Counter([x for x in numbers if x != 0 and x])\n",
    "x, y = zip(*sorted(occurence_count.items()))\n",
    "plt.plot(x, y)\n",
    "plt.xlabel(\"Nombre d'extrait par livre\")\n",
    "plt.ylabel(\"Nombre de livres\")\n",
    "plt.title(\"Nombre de livre en fonction de leur nombre d'extrait\")\n",
    "plt.show()"
   ],
   "metadata": {
    "collapsed": false,
    "pycharm": {
     "name": "#%%\n"
    }
   }
  },
  {
   "cell_type": "code",
   "execution_count": 13,
   "outputs": [
    {
     "name": "stdout",
     "output_type": "stream",
     "text": [
      "\n",
      "Moyenne du nombre de caractères:  646.6120623887429\n",
      "Médianne du nombre de caractères:  469.0\n",
      "Écart-typedu nombre de caractères:  692.1644722292436\n",
      "\n",
      "Maximum du nombre de caractères:  18157\n",
      "Minimum du nombre de caractères non nul:  13\n",
      "\n",
      "Nombre de non-nul:  23589 , nombre de nul:  5\n",
      "fréquences des tailles de résumés\n"
     ]
    },
    {
     "data": {
      "text/plain": "<Figure size 432x288 with 1 Axes>",
      "image/png": "[encoded data removed]"
     },
     "metadata": {
      "needs_background": "light"
     },
     "output_type": "display_data"
    }
   ],
   "source": [
    "print(\"\\nMoyenne du nombre de caractères: \", mean(lenght))\n",
    "print(\"Médianne du nombre de caractères: \", median(lenght))\n",
    "print(\"Écart-typedu nombre de caractères: \", pstdev(lenght))\n",
    "print(\"\\nMaximum du nombre de caractères: \", max(lenght))\n",
    "print(\"Minimum du nombre de caractères non nul: \", min([x for x in lenght if x != 0 and x]))\n",
    "print(\"\\nNombre de non-nul: \", len([x for x in lenght if x != 0 and x]), \", nombre de nul: \", len([x for x in lenght if x == 0 or not x]))\n",
    "print(\"fréquences des tailles de résumés\")\n",
    "occurence_count = Counter(lenght)\n",
    "x, y = zip(*sorted(occurence_count.items()))\n",
    "plt.plot(x, y)\n",
    "plt.xlabel(\"Nombre de caractère pour un extrait donnée\")\n",
    "plt.ylabel(\"Nombre d'extraits\")\n",
    "plt.title(\"Nombre d'extraits en fonction de leur nombre de caractère\")\n",
    "plt.show()"
   ],
   "metadata": {
    "collapsed": false,
    "pycharm": {
     "name": "#%%\n"
    }
   }
  }
 ],
 "metadata": {
  "language_info": {
   "codemirror_mode": {
    "name": "ipython",
    "version": 2
   },
   "file_extension": ".py",
   "mimetype": "text/x-python",
   "name": "python",
   "nbconvert_exporter": "python",
   "pygments_lexer": "ipython2",
   "version": "2.7.6"
  },
  "kernelspec": {
   "name": "python3",
   "language": "python",
   "display_name": "Python 3"
  }
 },
 "nbformat": 4,
 "nbformat_minor": 0
}