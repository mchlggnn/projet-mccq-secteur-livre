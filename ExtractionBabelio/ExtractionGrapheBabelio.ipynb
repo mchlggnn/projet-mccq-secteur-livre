{
 "cells": [
  {
   "cell_type": "code",
   "execution_count": 1,
   "metadata": {},
   "outputs": [],
   "source": [
    "import json"
   ]
  },
  {
   "cell_type": "code",
   "execution_count": 2,
   "metadata": {},
   "outputs": [],
   "source": [
    "with open('../Data/Babelio/item.json') as json_data:\n",
    "    babelioData = json.load(json_data)"
   ]
  },
  {
   "cell_type": "code",
   "execution_count": 3,
   "metadata": {},
   "outputs": [
    {
     "name": "stdout",
     "output_type": "stream",
     "text": [
      "{'url': 'https://www.babelio.com/livres/Rivard-La-Complainte-du-phoque-en-Alaska/461730', 'title': ' La Complainte du phoque en Alaska ', 'author': ['Michel ', 'Isabelle ', 'Rivard', 'Chatellard'], 'author_id': '/auteur/Michel-Rivard/258147', 'infos': ' EAN : 9782278053346   24 pages            Éditeur : Didier Jeunesse  (23/04/2003)   ', 'editor': 'Didier Jeunesse', 'rating': None, 'nb_rating': None, 'resume': [' La complainte du phoque en Alaska est une chanson qui fut un succès pour le groupe québécois \"Beau Dommage\" en 1974. Cette fable québécoise évoque un amour mis à mal par le rêve américain sous les traits d\\'un phoque abandonné par sa compagne pour aller gagner sa vie dans un cirque aux Etats-Unis...  '], 'tags': [{'tag': ' fables  ', 'info': 'tag_t14 tc_0 tc_noreco00 tc_noaff00 tc_bold ', 'importance': '14'}, {'tag': ' littérature jeunesse  ', 'info': 'tag_t14 tc_0 tc_noreco00 tc_noaff00 tc_bold ', 'importance': '14'}, {'tag': ' jeunesse  ', 'info': 'tag_t14 tc_0 tc_noreco00 tc_noaff00 tc_bold ', 'importance': '14'}, {'tag': ' cirque  ', 'info': 'tag_t14 tc_1 tc_noreco00 tc_noaff00 tc_bold ', 'importance': '14'}, {'tag': ' phoques  ', 'info': 'tag_t14 tc_1 tc_noreco00 tc_noaff00 tc_bold ', 'importance': '14'}, {'tag': ' chanson  ', 'info': 'tag_t26 tc_1 tc_noreco00 tc_noaff00 tc_bold ', 'importance': '26'}, {'tag': ' québécois  ', 'info': 'tag_t14 tc_2 tc_noreco00 tc_noaff00 tc_bold ', 'importance': '14'}], 'reviews': [{'id': 'B_CRI1524549', 'author': ['Epivoine'], 'date': '25 janvier 2018', 'rating': None, 'pop': '0', 'content': ['  En lien avec la chanson, à voir  ']}], 'extracts': [{'id': 'B_CIT253012', 'author': 'alicejo', 'date': '18 février 2013', 'pop': '1', 'content': ['  Cré-moé, cré-moé pas, quéqu´ part en Alaska', 'Y a un phoque qui s´ennuie en maudit', 'Sa blonde est partie gagner sa vie', 'Dans un cirque aux Etats-Unis ']}], 'edition_date': '23/04/2003', 'EAN': '9782278053346', 'nb_pages': '24'}\n"
     ]
    }
   ],
   "source": [
    "print(babelioData[2])"
   ]
  },
  {
   "cell_type": "code",
   "execution_count": 4,
   "metadata": {},
   "outputs": [],
   "source": [
    "class Livre:\n",
    "     def __init__(self, titre = \"***NO TITLE***\"):\n",
    "        self.titre = titre\n",
    "        self.rating = None\n",
    "        self.annee = \"\"\n",
    "        self.auteur = \"\"\n",
    "        self.isbn = []\n",
    "        self.tags = []\n",
    "        self.editeur = None\n",
    "        self.url = \"\"\n",
    "        \n",
    "class Tag:\n",
    "    def __init__(self, name, info, importance):\n",
    "        self.name = name\n",
    "        self.info = info\n",
    "        self.importance = importance"
   ]
  },
  {
   "cell_type": "code",
   "execution_count": 5,
   "metadata": {},
   "outputs": [],
   "source": [
    "def extraireTitre(string):\n",
    "    return  string.split(' / ')[0].split(' : ')[0]\n",
    "\n",
    "def extraireAnnee(string):\n",
    "    return  string.split(' / ')[-1]"
   ]
  },
  {
   "cell_type": "code",
   "execution_count": 13,
   "metadata": {},
   "outputs": [
    {
     "name": "stdout",
     "output_type": "stream",
     "text": [
      "1793\n",
      "1568\n"
     ]
    }
   ],
   "source": [
    "livres = []\n",
    "error = []\n",
    "\n",
    "for data in babelioData:\n",
    "    try :\n",
    "        livre = Livre(extraireTitre(data[\"title\"]))\n",
    "        livre.id = babelioData.index(data)\n",
    "        livre.annee = data['edition_date']\n",
    "        livre.isbn = data['EAN']\n",
    "        livre.auteur = data['author']\n",
    "        livre.editeur = data['editor']\n",
    "        livre.url = data['url']\n",
    "        for t in data['tags']:\n",
    "            livre.tags.append(Tag(t['tag'], t['info'], t['importance']))\n",
    "\n",
    "        livres.append(livre)\n",
    "    except:\n",
    "        error.append('')\n",
    "print(len(livres))\n",
    "print(len(error))"
   ]
  },
  {
   "cell_type": "markdown",
   "metadata": {},
   "source": [
    "# Création du graphe RDF"
   ]
  },
  {
   "cell_type": "code",
   "execution_count": 7,
   "metadata": {},
   "outputs": [],
   "source": [
    "from rdflib import Graph, Namespace, Literal, URIRef\n",
    "from rdflib import RDF, RDFS, OWL, XSD\n",
    "\n",
    "SCHEMA = Namespace(\"https://schema.org/\")\n",
    "DBO = Namespace(\"http://dbpedia.org/ontology/\")\n"
   ]
  },
  {
   "cell_type": "code",
   "execution_count": 8,
   "metadata": {},
   "outputs": [],
   "source": [
    "grapheBabelio = Graph()\n",
    "\n",
    "def creerUriAuteur(auteur):\n",
    "    return SCHEMA['auteur/' + str(auteur.id)]\n",
    "\n",
    "# for a in auteurs:\n",
    "    \n",
    "\n",
    "for l in livres:\n",
    "    #TODO check avec Gregoire si ID existe sur Babelio, sinon creer un\n",
    "    livre_uri = SCHEMA['livre/' + str(l.id)]\n",
    "    grapheBabelio.add((livre_uri, SCHEMA.name, Literal(l.titre)))\n",
    "    grapheBabelio.add((livre_uri, RDF.type, SCHEMA['Book']))\n",
    "    grapheBabelio.add((livre_uri, SCHEMA.isbn, Literal(l.isbn)))\n",
    "\n",
    "    grapheBabelio.add((livre_uri, SCHEMA.author, Literal(l.auteur)))\n",
    "\n",
    "    grapheBabelio.add((livre_uri, SCHEMA.datePublished, Literal(l.annee)))\n",
    "\n",
    "#     grapheBabelio.add((livre_uri, SCHEMA.publisher, creerUriEditeur(l.editeur)))\n",
    "    grapheBabelio.add((livre_uri, SCHEMA.publisher, Literal(l.editeur)))\n",
    "\n"
   ]
  },
  {
   "cell_type": "markdown",
   "metadata": {},
   "source": [
    "# Sauvegarde du graphe"
   ]
  },
  {
   "cell_type": "code",
   "execution_count": 9,
   "metadata": {},
   "outputs": [],
   "source": [
    "fichier = open(\"../Graphes/grapheBabelio.rdf\",\"wb\")\n",
    "grapheBabelio.serialize(fichier) \n",
    "fichier.close()"
   ]
  }
 ],
 "metadata": {
  "kernelspec": {
   "display_name": "Python 3",
   "language": "python",
   "name": "python3"
  },
  "language_info": {
   "codemirror_mode": {
    "name": "ipython",
    "version": 3
   },
   "file_extension": ".py",
   "mimetype": "text/x-python",
   "name": "python",
   "nbconvert_exporter": "python",
   "pygments_lexer": "ipython3",
   "version": "3.7.6"
  }
 },
 "nbformat": 4,
 "nbformat_minor": 4
}
