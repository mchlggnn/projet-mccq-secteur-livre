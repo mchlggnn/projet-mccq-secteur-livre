{
 "cells": [
  {
   "cell_type": "code",
   "execution_count": 1,
   "outputs": [],
   "source": [
    "import rdflib\n",
    "import time\n",
    "import json\n",
    "import re\n",
    "import csv\n",
    "\n",
    "# from collections import OrderedDict\n",
    "from collections import Counter\n",
    "import matplotlib.pyplot as plt\n",
    "\n",
    "def format_result(res):\n",
    "    \"\"\"\n",
    "    permet de formater les stats avant de les sauvegarder/afficher\n",
    "    :param res: resultat d'un get_stats()\n",
    "    :return: res formaté\n",
    "    \"\"\"\n",
    "\n",
    "    def check_len_str(stat):\n",
    "        \"\"\"\n",
    "        Si la longeure de la chaine de caractère est trop importante, on la coupe après 100 caractères\n",
    "        :param stat: chaine de caractère\n",
    "        :return: chaine de caractère tronquée\n",
    "        \"\"\"\n",
    "        if isinstance(stat, str):\n",
    "            if len(stat) > 100:\n",
    "                return stat[:100] + \"...\"\n",
    "            else:\n",
    "                return stat\n",
    "        else:\n",
    "            return stat\n",
    "\n",
    "    cleaned_res = {}\n",
    "    for key, stat in res.items():\n",
    "        cleaned_res[key] = {}\n",
    "        if isinstance(stat, dict):\n",
    "            # on selectionne uniquement les 10 plus fréquents items si il y en a plus de 10,\n",
    "            # et on tronque leurs longueures\n",
    "            nested = False\n",
    "            for value in list(stat.values()):\n",
    "                if isinstance(value, dict):\n",
    "                    nested = True\n",
    "            if not nested:\n",
    "                if len(list(stat.items())) > 10:\n",
    "                    cleaned_res[check_len_str(key)] = dict([(check_len_str(k), v) for k, v in sorted(stat.items(), key=lambda item: item[1], reverse=True)][:10])\n",
    "                else:\n",
    "                    cleaned_res[check_len_str(key)] = stat\n",
    "            else:\n",
    "                # si il y a une couche de plus, on selectionne les 10 premiers elements et on tronque leurs longueure\n",
    "                for key_stat, stat_value in stat.items():\n",
    "                    if isinstance(stat_value, dict):\n",
    "                        if len(list(stat_value.items())) > 10:\n",
    "                            cleaned_res[check_len_str(key)][check_len_str(key_stat)] = dict([(check_len_str(k), v) for k, v in sorted(stat_value.items(), key=lambda item: item[1], reverse=True)][:10])\n",
    "                        else:\n",
    "                            cleaned_res[check_len_str(key)][check_len_str(key_stat)] = stat_value\n",
    "                    else:\n",
    "                        cleaned_res[check_len_str(key)][check_len_str(key_stat)] = stat_value\n",
    "        # si c'est un entier, on tronque juste la taille de la clef\n",
    "        elif isinstance(stat, int):\n",
    "            cleaned_res[check_len_str(key)] = stat\n",
    "\n",
    "    # on affiche le resultat avant la sauvegarde\n",
    "    json_print = json.dumps(cleaned_res, indent=2, ensure_ascii=False)\n",
    "    print(json_print)\n",
    "    return cleaned_res\n",
    "\n",
    "def text_between_parentheses(text):\n",
    "    n = 1  # run at least once\n",
    "    parenthese = []\n",
    "    while n:\n",
    "        if re.search(r'\\([^()]*\\)', text):\n",
    "            parenthese.append(re.search(r'\\([^()]*\\)', text).group(0))\n",
    "        text, n = re.subn(r'\\([^()]*\\)', '', text)  # remove non-nested/flat balanced parts\n",
    "    return parenthese"
   ],
   "metadata": {
    "collapsed": false,
    "pycharm": {
     "name": "#%%\n",
     "is_executing": false
    }
   }
  },
  {
   "cell_type": "markdown",
   "metadata": {
    "collapsed": true,
    "pycharm": {
     "name": "#%% md\n"
    }
   },
   "source": [
    "# Rapport sur les données complêtes\n",
    "\n",
    "## Par base de donnée:\n",
    "### ADP\n",
    "\n",
    "#### Global"
   ]
  },
  {
   "cell_type": "code",
   "execution_count": 15,
   "outputs": [
    {
     "name": "stdout",
     "text": [
      "ADP_loading_time:  13.60962986946106\n{\n  \"publisher\": 15469,\n  \"publisher_by_value\": {\n    \"http://www.sogides.com/editeur/18\": 2282,\n    \"http://www.sogides.com/editeur/20\": 1211,\n    \"http://www.sogides.com/editeur/29\": 979,\n    \"http://www.sogides.com/editeur/34\": 978,\n    \"http://www.sogides.com/editeur/36\": 833,\n    \"http://www.sogides.com/editeur/3\": 782,\n    \"http://www.sogides.com/editeur/24\": 779,\n    \"http://www.sogides.com/editeur/33\": 759,\n    \"http://www.sogides.com/editeur/16\": 752,\n    \"http://www.sogides.com/editeur/11\": 734\n  },\n  \"22-rdf-syntax-ns#type\": 15469,\n  \"22-rdf-syntax-ns#type_by_value\": {\n    \"None\": 0,\n    \"http://www.sogides.com/classe/Livre\": 15469\n  },\n  \"author\": 17266,\n  \"author_by_value\": {\n    \"http://www.sogides.com/auteur/473\": 676,\n    \"http://www.sogides.com/auteur/494\": 215,\n    \"http://www.sogides.com/auteur/479\": 196,\n    \"http://www.sogides.com/auteur/495\": 192,\n    \"http://www.sogides.com/auteur/132\": 173,\n    \"http://www.sogides.com/auteur/759\": 88,\n    \"http://www.sogides.com/auteur/5708\": 81,\n    \"http://www.sogides.com/auteur/178\": 64,\n    \"http://www.sogides.com/auteur/1793\": 60,\n    \"http://www.sogides.com/auteur/502\": 58\n  },\n  \"isbn\": 15469,\n  \"isbn_by_value\": {\n    \"9782924025055\": 1,\n    \"9782764005675\": 1,\n    \"9782897510589\": 1,\n    \"9782921735858\": 1,\n    \"9782896702190\": 1,\n    \"9782896604081\": 1,\n    \"9782923860183\": 1,\n    \"9782892258592\": 1,\n    \"9782891112895\": 1,\n    \"9782760408708\": 1\n  },\n  \"descriptionPromotionnelle\": 1464,\n  \"descriptionPromotionnelle_by_value\": {\n    \"Savais-tu? La collection des enfants curieux des bêtes curieuses!\": 28,\n    \"Détendez-vous tout en créant de merveilleuses images\": 9,\n    \"Des documentaires humoristiques sur les animaux servis à la manière BD. Un rendez-vous avec l'origin...\": 8,\n    \"SAVAIS-TU ? La collection des enfants curieux des bêtes curieuses!\": 6,\n    \"Carnet de dessins magiques et créatifs hauts en couleur !\": 5,\n    \"Une saga historique avec intrigues et suspense à profusionÂ !\": 5,\n    \"<span style=\\\"font-weight: bold;\\\">Cinq auteurs, cinq styles, cinq romans, cinq étages, un bâtiment : ...\": 5,\n    \"Découvrez ou redécouvrez cette épopée qui a captivé des millions d'admirateurs à travers le monde!\": 4,\n    \"Collection de poche 10 sur 10, de grands ouvrages dans de petits livres.\": 4,\n    \"Une nouvelle compilation de bandes dessinées Garfield !\": 4\n  },\n  \"description\": 7076,\n  \"description_by_value\": {\n    \"Qu’arrivera-t-il de vos amours ? Comment évolueront vos relations familiales, d’amitié ou d’affaires...\": 30,\n    \"Que vous réserve l'année 2014? Trouverez-vous l'amour de votre vie? Obtiendrez-vous ce nouvel emploi...\": 9,\n    \"Coloriages, labyrinthes, casse-tête, jeux d'erreurs et d'associations.... Plus de 50 activités créat...\": 6,\n    \"Un tout-petit peut : <br />\\n<br />\\nâ¢ chercher, montrer et associer <br />\\nâ¢ faire des comparaiso...\": 4,\n    \"Un album de bandes dessinées d'aventures de Garfield toutes en couleur!\": 4,\n    \"Ce cahier propose plus de 60 activités stimulantes pour s’amuser et apprendre en compagnie de Caillo...\": 4,\n    \"Apprends à jouer la chanson de Caillou avec ton livre-piano, puis amuse-toi à la chanter à ta famill...\": 3,\n    \"Du plaisir en boîte! Voici 120 grilles de mots mystères de niveau facile à intermédiaire, créées ave...\": 3,\n    \"Qu'il aboie joyeusement pour réclamer sa promenade ou qu'il vous réconforte d'un câlin quand vous en...\": 3,\n    \"La nuit, quand les gens dorment, un monde s'agite dans l'ombre.\": 3\n  },\n  \"subjectThema\": 9109,\n  \"subjectThema_by_value\": {\n    \"FB\": 1288,\n    \"YFB\": 992,\n    \"WZS\": 966,\n    \"JM\": 690,\n    \"JNLB\": 519,\n    \"DC\": 423,\n    \"VX\": 251,\n    \"XAK\": 229,\n    \"MB\": 206,\n    \"SC\": 181\n  },\n  \"name\": 15469,\n  \"name_by_value\": {\n    \"Garfield\": 25,\n    \"L'année de la science-fiction et du fantastique québécois\": 16,\n    \"Je révise avec mon enfant\": 12,\n    \"Réduisez vos impôts\": 8,\n    \"Caillou\": 7,\n    \"Les dragouilles\": 7,\n    \"Techniques d'impact pour grandir\": 7,\n    \"L'homme rapaillé\": 5,\n    \"Guérir l'anxiété de nos enfants\": 5,\n    \"Les Fridolinades\": 5\n  },\n  \"mainSubjectThema\": 8092,\n  \"mainSubjectThema_by_value\": {\n    \"FB\": 1270,\n    \"WZS\": 965,\n    \"YFB\": 892,\n    \"JM\": 688,\n    \"JNLB\": 519,\n    \"DC\": 417,\n    \"VX\": 249,\n    \"XAK\": 220,\n    \"MB\": 205,\n    \"SC\": 180\n  },\n  \"commentaire\": 75,\n  \"commentaire_by_value\": {\n    \"Introduction<br/>Au commencement, il y eut la séparation. Élevée au rang de principe fondateur depui...\": 1,\n    \"Avant-propos<br/>L’épisode des « filles du roy » a marqué un point tournant dans l’histoire de ce je...\": 1,\n    \"Il convient de saluer d'une façon bien spéciale la réédition, dix ans après sa parution, de <EM>Forê...\": 1,\n    \"Préface<br/>Vouloir parler de Francophonie, vouloir faire mieux connaître la Francophonie, vouloir r...\": 1,\n    \"Prologue <br/>C’est une autre histoire d’amour. Une histoire arrivée vrai comme on en raconte chez l...\": 1,\n    \"PRÉFACE<br/><br/><br/>Tout un automne, la poésie d'Hélène Dorion m'a hanté. Je ne me trouvais plus d...\": 1,\n    \"Avec <I>Les fées ont soif</I>, si on parle de conception, il faut d’abord voir un texte qui n’est pa...\": 1,\n    \"Prologue<br/>La scène ou la page, c’est pareil…<br/>Un écriteau, « Entrée des artistes ». Vous en êt...\": 1,\n    \"Préface<br/><EM>Au cœur de la rose</EM>, dans sa version théâtrale, fut créée à la Boulangerie des A...\": 1,\n    \"<STRONG>Collaborateurs</STRONG><br/>Robert Aird est chercheur associé à la Chaire Hector-Fabre d’his...\": 1\n  }\n}\n"
     ],
     "output_type": "stream"
    }
   ],
   "source": [
    "start_loading_data_time = time.time()\n",
    "# Loading des données sauvegardées dans la mémoire ram\n",
    "g_book_ADP = rdflib.Graph()\n",
    "g_author_ADP = rdflib.Graph()\n",
    "ADP_book_graph = g_book_ADP.parse(\"../Graphes/grapheADPLivres.rdf\")\n",
    "ADP_author_graph = g_author_ADP.parse(\"../Graphes/grapheADPAuteurs.rdf\")\n",
    "\n",
    "ADP_books = {}\n",
    "# Analyse des données ADP à partir des graphs\n",
    "# parcour des triplets du graph\n",
    "for subj, pred in g_book_ADP.subject_predicates(rdflib.URIRef(\"http://www.sogides.com/classe/Livre\")):\n",
    "    book_ADP = g_book_ADP.predicate_objects(subj)\n",
    "\n",
    "    for info in book_ADP:\n",
    "        if info[0].split(\"/\")[-1] not in ADP_books:\n",
    "            ADP_books[info[0].split(\"/\")[-1]] = 0\n",
    "            ADP_books[info[0].split(\"/\")[-1] + \"_by_value\"] = {\"None\":0}\n",
    "        if info[1]:\n",
    "            ADP_books[info[0].split(\"/\")[-1]] += 1\n",
    "            if info[1] not in ADP_books[info[0].split(\"/\")[-1] + \"_by_value\"]:\n",
    "                ADP_books[info[0].split(\"/\")[-1] + \"_by_value\"][info[1]] = 0\n",
    "            ADP_books[info[0].split(\"/\")[-1] + \"_by_value\"][info[1]] += 1\n",
    "        else:\n",
    "            ADP_books[info[0].split(\"/\")[-1] + \"_by_value\"][\"None\"] += 1\n",
    "        \n",
    "\n",
    "ADP_loading_time = time.time()\n",
    "print(\"ADP_loading_time: \", ADP_loading_time - start_loading_data_time)\n",
    "res = format_result(ADP_books)\n"
   ],
   "metadata": {
    "collapsed": false,
    "pycharm": {
     "name": "#%%\n",
     "is_executing": false
    }
   }
  },
  {
   "cell_type": "markdown",
   "source": [
    "\n",
    "#### Commentaires:\n",
    "On a 15469 livres référencés.\n",
    "- On a un isbn unique par livre: ADP fait la différence entre les éditions\n",
    "- On a un isbn pour chaque livre, pas d'isbn non indiqué\n",
    "- sujet théma présent pour 59% des livres\n",
    "- sujet théma principale présent pour 52% des livres\n",
    "- description présente pour 45% des livres\n",
    "- description promotionnelle présent pour 10% des livres\n",
    "- editeur présent pour tout les livres\n",
    "- titre présent pour tout les livres\n",
    "- 75 commentaire en tout\n",
    "\n",
    "### ILE\n",
    "\n",
    "#### Global"
   ],
   "metadata": {
    "collapsed": false,
    "pycharm": {
     "name": "#%% md\n"
    }
   }
  },
  {
   "cell_type": "code",
   "execution_count": 33,
   "outputs": [
    {
     "name": "stdout",
     "text": [
      "ILE_loading time:  27.75906229019165\n",
      "{\n  \"author\": 27109,\n  \"author_by_value\": {\n    \"Groulx, Lionel\": 208,\n    \"Thériault, Yves\": 203,\n    \"Tremblay, Michel\": 202,\n    \"Tibo, Gilles\": 197,\n    \"Bergeron, Alain M.\": 178,\n    \"Major, Henriette\": 151,\n    \"Blais, Marie-Claire\": 149,\n    \"Gagnon, Cécile\": 148,\n    \"Paradis, Raymond\": 142,\n    \"Beaulieu, Victor-Lévy\": 141\n  },\n  \"22-rdf-syntax-ns#type\": 27109,\n  \"22-rdf-syntax-ns#type_by_value\": {\n    \"None\": 0,\n    \"http://recif.litterature.org/ontologie/classe/oeuvre\": 27109\n  },\n  \"datePublished\": 27008,\n  \"datePublished_by_value\": {\n    \"2009\": 857,\n    \"2006\": 781,\n    \"2007\": 762,\n    \"2008\": 749,\n    \"2000\": 709,\n    \"2005\": 701,\n    \"2010\": 698,\n    \"1997\": 697,\n    \"1999\": 697,\n    \"2001\": 691\n  },\n  \"lieuPublication\": 26615,\n  \"lieuPublication_by_value\": {\n    \"Montréal\": 11618,\n    \"[Montréal]\": 1676,\n    \"Québec\": 1310,\n    \"Saint-Lambert\": 1102,\n    \"Paris\": 845,\n    \"Saint-Laurent\": 615,\n    \"Trois-Rivières\": 533,\n    \"Toronto\": 516,\n    \"None\": 494,\n    \"Laval\": 346\n  },\n  \"isbn\": 21178,\n  \"isbn_by_value\": {\n    \"None\": 5931,\n    \"(Br.)\": 163,\n    \" Br.\": 70,\n    \" (Br.)\": 46,\n    \" Br\": 43,\n    \"(Rel.)\": 37,\n    \" Rel\": 30,\n    \" (Rel.)\": 16,\n    \"2-7644-0049-7\": 13,\n    \"2890456145 (br.)\": 7\n  },\n  \"name\": 27109,\n  \"name_by_value\": {\n    \"Maria Chapdelaine\": 75,\n    \"Les Anciens Canadiens\": 21,\n    \"Poèmes\": 19,\n    \"Agaguk\": 19,\n    \"Le Survenant\": 18,\n    \"L'Oublié\": 16,\n    \"Une de perdue, deux de trouvées\": 15,\n    \"Un homme et son péché\": 15,\n    \"Adagio\": 15,\n    \"Les insolences du frère Untel\": 14\n  },\n  \"bookEdition\": 27094,\n  \"bookEdition_by_value\": {\n    \"Fides, Collection du nénuphar\": 60,\n    \"Dominique et compagnie, 2009\": 38,\n    \"La Courte échelle, 2001\": 36,\n    \"La Courte échelle, 2009\": 31,\n    \"Québec Amérique, 2009\": 28,\n    \"Dominique et compagnie, 2010\": 25,\n    \"Dominique et compagnie, À pas de loup. Niveau 3\": 24,\n    \"les Editions de l'Homme\": 24,\n    \"Les Éditions de l'Homme\": 22,\n    \"Dominique et compagnie, 2012\": 22\n  }\n}\n"
     ],
     "output_type": "stream"
    }
   ],
   "source": [
    "start_loading_data_time = time.time()\n",
    "g_item_ILE = rdflib.Graph()\n",
    "item_graph_ILE = g_item_ILE.parse(\"../Graphes/grapheILE.rdf\")\n",
    "ILE_books = {\"author\": 0, \"author_by_value\": {\"None\": 0}}\n",
    "editor_finding = {}\n",
    "for subj, pred in g_item_ILE.subject_predicates(rdflib.URIRef(\"http://recif.litterature.org/ontologie/classe/oeuvre\")):\n",
    "    ILE_book = g_item_ILE.predicate_objects(subj)\n",
    "\n",
    "    # pour chaque coupe prédictat-objet\n",
    "    for info in ILE_book:\n",
    "        \n",
    "        if info[0] == rdflib.URIRef(\"https://schema.org/author\"):\n",
    "            author_ILE = g_item_ILE.predicate_objects(info[1])\n",
    "            for author_info in author_ILE:\n",
    "                if author_info[0] == rdflib.URIRef(\"https://schema.org/name\"):\n",
    "                    \n",
    "                    if author_info[1] not in ILE_books[\"author_by_value\"]:\n",
    "                        ILE_books[\"author_by_value\"][author_info[1]] = 0\n",
    "                    ILE_books[\"author_by_value\"][author_info[1]] += 1\n",
    "                    if author_info[1]:\n",
    "                        ILE_books[\"author\"] += 1\n",
    "                    else:\n",
    "                        ILE_books[\"author_by_value\"][\"None\"] += 1\n",
    "        else:            \n",
    "            if info[0].split(\"/\")[-1] not in ILE_books:\n",
    "                ILE_books[info[0].split(\"/\")[-1]] = 0\n",
    "                ILE_books[info[0].split(\"/\")[-1] + \"_by_value\"] = {\"None\":0}\n",
    "            if info[1]:\n",
    "                ILE_books[info[0].split(\"/\")[-1]] += 1\n",
    "                if info[1] not in ILE_books[info[0].split(\"/\")[-1] + \"_by_value\"]:\n",
    "                    ILE_books[info[0].split(\"/\")[-1] + \"_by_value\"][info[1]] = 0\n",
    "                ILE_books[info[0].split(\"/\")[-1] + \"_by_value\"][info[1]] += 1\n",
    "            else:\n",
    "                ILE_books[info[0].split(\"/\")[-1] + \"_by_value\"][\"None\"] += 1\n",
    "            \n",
    "        if info[0].split(\"/\")[-1] == \"bookEdition\" or info[0].split(\"/\")[-1] == \"isbn\":\n",
    "            if subj not in editor_finding:\n",
    "                editor_finding[subj] = {}\n",
    "            if info[0].split(\"/\")[-1] == \"bookEdition\":\n",
    "                if info[1]:\n",
    "                    editor_finding[subj][\"editor\"] = info[1]\n",
    "            if info[0].split(\"/\")[-1] == \"isbn\":\n",
    "                if info[1] and \"(\" in info[1]:\n",
    "                    txt_parentheses = text_between_parentheses(info[1])\n",
    "                    if txt_parentheses:\n",
    "                        editor_finding[subj][\"isbn\"] = txt_parentheses[0]\n",
    "                    \n",
    "ILE_loading_time = time.time()\n",
    "print(\"ILE_loading time: \", ILE_loading_time - start_loading_data_time)\n",
    "res = format_result(ILE_books)\n"
   ],
   "metadata": {
    "collapsed": false,
    "pycharm": {
     "name": "#%%\n",
     "is_executing": false
    }
   }
  },
  {
   "cell_type": "markdown",
   "source": [
    "#### Commentaires\n",
    "\n",
    "27109 livres au total\n",
    "- 5931 isbn vide : soit 21%\n",
    "- 405 isbn sont composé de seulement de texte entre parenthèse\n",
    "exemple d'isbn"
   ],
   "metadata": {
    "collapsed": false,
    "pycharm": {
     "name": "#%% md\n"
    }
   }
  },
  {
   "cell_type": "code",
   "execution_count": 34,
   "outputs": [
    {
     "name": "stdout",
     "text": [
      "exemple de texte entre parenthèses dans les isbns:  (br.) :  8892\nexemple de texte entre parenthèses dans les isbns:  (rel.) :  648\nexemple de texte entre parenthèses dans les isbns:  (vol. 1) :  147\nexemple de texte entre parenthèses dans les isbns:  (vol. 2) :  121\nexemple de texte entre parenthèses dans les isbns:  (t. 1) :  88\nexemple de texte entre parenthèses dans les isbns:  (rel. à spirale) :  72\nexemple de texte entre parenthèses dans les isbns:  (vol. 3) :  58\nexemple de texte entre parenthèses dans les isbns:  (Écrits des Forges) :  57\nexemple de texte entre parenthèses dans les isbns:  (Leméac) :  56\nexemple de texte entre parenthèses dans les isbns:  (Actes sud) :  55\nexemple de texte entre parenthèses dans les isbns:  (br) :  53\nexemple de texte entre parenthèses dans les isbns:  (t. 2) :  52\nexemple de texte entre parenthèses dans les isbns:  (t. 3) :  31\nexemple de texte entre parenthèses dans les isbns:  (cart.) :  25\nexemple de texte entre parenthèses dans les isbns:  (erroné) :  22\nexemple de texte entre parenthèses dans les isbns:  (rel. dans un emboîtage) :  20\nexemple de texte entre parenthèses dans les isbns:  (en feuilles) :  18\nexemple de texte entre parenthèses dans les isbns:  (ensemble) :  17\nexemple de texte entre parenthèses dans les isbns:  (vol. 4) :  17\nexemple de texte entre parenthèses dans les isbns:  (t. 4) :  15\nexemple de texte entre parenthèses dans les isbns:  (Noroît) :  14\nexemple de texte entre parenthèses dans les isbns:  (rectifié) :  13\nexemple de texte entre parenthèses dans les isbns:  (UNAM) :  13\nexemple de texte entre parenthèses dans les isbns:  (Écrits des forges) :  11\nexemple de texte entre parenthèses dans les isbns:  (Castor astral) :  11\nexemple de texte entre parenthèses dans les isbns:  (XYZ) :  10\nexemple de texte entre parenthèses dans les isbns:  (Mantis) :  10\nexemple de texte entre parenthèses dans les isbns:  (Actes Sud) :  10\nexemple de texte entre parenthèses dans les isbns:  (pbk.) :  8\nexemple de texte entre parenthèses dans les isbns:  (vol.1) :  8\n\n Nombre d'isbn par livre\n19494  livres ont  19494  isbns\n793  livres ont  793  isbns\n87  livres ont  87  isbns\n34  livres ont  34  isbns\n9  livres ont  9  isbns\n6  livres ont  6  isbns\n1  livres ont  1  isbns\n2  livres ont  2  isbns\n1  livres ont  1  isbns\n1  livres ont  1  isbns\n\n Nombre d'isbn avec séparation par block (ex: '2-7644-0049-7'):  13487  et sans:  8100\ntest de récupération des editeurs a partir des isbns et inversement\n",
      "{\n  \"editor and isbn\": {\n    \"Dominique et compagnie, À pas de loup. Niveau 3 (br.)\": 17,\n    \"Héritage (br.)\": 14,\n    \"Actes sud ; [Montréal] (Leméac)\": 13,\n    \"Leméac ; [Arles France] (Leméac)\": 12,\n    \"Lidec, Célébrités (br.)\": 11,\n    \"Dominique et compagnie, À pas de loup. Niveau 2 (br.)\": 11,\n    \"Éducation Québec ; [Montréal] (rel.)\": 10,\n    \"Dominique & Friends, 1999, [32] p. (br.)\": 9,\n    \"Le Sablier inc., Collection Tic tac toc. Série Tic, 1978, 15 p. (br.)\": 9,\n    \"Publications Graficor, Collection Tic tac toc. Série Tic, 1983, 15 p. (br.)\": 9\n  },\n  \"isbn\": {\n    \"(rel.)\": 2\n  },\n  \"editor\": {\n    \"Fides, Collection du nénuphar\": 59,\n    \"Dominique et compagnie, 2009\": 38,\n    \"La Courte échelle, 2001\": 36,\n    \"Québec Amérique, 2009\": 25,\n    \"Dominique et compagnie, 2010\": 25,\n    \"les Editions de l'Homme\": 24,\n    \"La Courte échelle, 2009\": 23,\n    \"Les Éditions de l'Homme\": 22,\n    \"Dominique et compagnie, 2012\": 22,\n    \"Boréal, 2009\": 20\n  }\n}\n"
     ],
     "output_type": "stream"
    },
    {
     "data": {
      "text/plain": "{'editor and isbn': {rdflib.term.Literal('Dominique et compagnie, À pas de loup. Niveau 3 (br.)'): 17,\n  rdflib.term.Literal('Héritage (br.)'): 14,\n  rdflib.term.Literal('Actes sud ; [Montréal] (Leméac)'): 13,\n  rdflib.term.Literal('Leméac ; [Arles France] (Leméac)'): 12,\n  rdflib.term.Literal('Lidec, Célébrités (br.)'): 11,\n  rdflib.term.Literal('Dominique et compagnie, À pas de loup. Niveau 2 (br.)'): 11,\n  rdflib.term.Literal('Éducation Québec ; [Montréal] (rel.)'): 10,\n  rdflib.term.Literal('Dominique & Friends, 1999, [32] p. (br.)'): 9,\n  rdflib.term.Literal('Le Sablier inc., Collection Tic tac toc. Série Tic, 1978, 15 p. (br.)'): 9,\n  rdflib.term.Literal('Publications Graficor, Collection Tic tac toc. Série Tic, 1983, 15 p. (br.)'): 9},\n 'isbn': {'(rel.)': 2},\n 'editor': {rdflib.term.Literal('Fides, Collection du nénuphar'): 59,\n  rdflib.term.Literal('Dominique et compagnie, 2009'): 38,\n  rdflib.term.Literal('La Courte échelle, 2001'): 36,\n  rdflib.term.Literal('Québec Amérique, 2009'): 25,\n  rdflib.term.Literal('Dominique et compagnie, 2010'): 25,\n  rdflib.term.Literal(\"les Editions de l'Homme\"): 24,\n  rdflib.term.Literal('La Courte échelle, 2009'): 23,\n  rdflib.term.Literal(\"Les Éditions de l'Homme\"): 22,\n  rdflib.term.Literal('Dominique et compagnie, 2012'): 22,\n  rdflib.term.Literal('Boréal, 2009'): 20}}"
     },
     "metadata": {},
     "output_type": "execute_result",
     "execution_count": 34
    }
   ],
   "source": [
    "exemple = {}\n",
    "compte = {}\n",
    "compte_minus = {\"sans\":0, \"avec\":0}\n",
    "\n",
    "for isbn_ls in ILE_books[\"isbn_by_value\"]:\n",
    "    isbn_ls = re.split(\"[|;,]\", isbn_ls)\n",
    "    if len(isbn_ls) not in compte:\n",
    "        compte[len(isbn_ls)] = 0\n",
    "    compte[len(isbn_ls)] += 1\n",
    "    for isbn in isbn_ls:\n",
    "        if isbn:\n",
    "            if \"-\" in isbn:\n",
    "                compte_minus[\"avec\"] += 1\n",
    "            else:\n",
    "                compte_minus[\"sans\"] += 1\n",
    "            if \"(\" in isbn:\n",
    "                txt_parentheses = text_between_parentheses(isbn)\n",
    "                for ex in txt_parentheses:\n",
    "                    if ex not in exemple:\n",
    "                        exemple[ex] = 0\n",
    "                    exemple[ex] += 1\n",
    "exemple = [(k, v) for k, v in sorted(exemple.items(), key=lambda item: item[1], reverse=True)]\n",
    "compte = [(k, v) for k, v in sorted(compte.items(), key=lambda item: item[0], reverse=False)]\n",
    "for ex, nb in exemple[:30]:\n",
    "    print(\"exemple de texte entre parenthèses dans les isbns: \", ex, \": \", nb)\n",
    "\n",
    "print(\"\\n Nombre d'isbn par livre\")\n",
    "for cpt, nb in compte:\n",
    "    print(nb, \" livres ont \", nb, \" isbns\")\n",
    "print(\"\\n Nombre d'isbn avec séparation par block (ex: '2-7644-0049-7'): \", compte_minus[\"avec\"], ' et sans: ', compte_minus[\"sans\"])\n",
    "\n",
    "print(\"test de récupération des editeurs a partir des isbns et inversement\")\n",
    "isbn_editor_count = {\"editor and isbn\": 0, \"isbn\": 0, \"editor\": 0, \"None\": 0}\n",
    "isbn_editor_by_value = {\"editor and isbn\": {}, \"isbn\": {}, \"editor\": {}}\n",
    "for subj, book in editor_finding.items():\n",
    "    if \"editor\" in book and \"isbn\" in book:\n",
    "        isbn_editor_count[\"editor and isbn\"] += 1\n",
    "        if book[\"editor\"] + \" \" + book[\"isbn\"] not in isbn_editor_by_value[\"editor and isbn\"]:\n",
    "            isbn_editor_by_value[\"editor and isbn\"][book[\"editor\"] + \" \" + book[\"isbn\"]] = 0\n",
    "        isbn_editor_by_value[\"editor and isbn\"][book[\"editor\"] + \" \" + book[\"isbn\"]] += 1\n",
    "    elif \"isbn\" in book:\n",
    "        if book[\"isbn\"] not in isbn_editor_by_value[\"isbn\"]:\n",
    "            isbn_editor_by_value[\"isbn\"][book[\"isbn\"]] = 0\n",
    "        isbn_editor_by_value[\"isbn\"][book[\"isbn\"]] += 1\n",
    "        isbn_editor_count[\"isbn\"] += 1\n",
    "    else:\n",
    "        isbn_editor_count[\"None\"] += 1\n",
    "_ = format_result(isbn_editor_by_value)\n",
    "        \n"
   ],
   "metadata": {
    "collapsed": false,
    "pycharm": {
     "name": "#%% \n",
     "is_executing": false
    }
   }
  },
  {
   "cell_type": "markdown",
   "source": [
    "- On peut voir que l'on peut pas récupérerl'information de l'éditeur à partir des parenthèses des isbns, car si l'editeur est entre parenthèse, le champs \"éditeur\" n'est pas vide\n",
    "- certain livres ont plusieur isbn: 793 livres ont 2 isbn, 87 en ont 3, etc....\n",
    "- les informations entre parenthèses sont multiples: \n",
    "    - \"br.\" (8892)\n",
    "    - \"rel.\" (648)\n",
    "    - \"vol.\" \n",
    "    - \"t.\"\n",
    "    - editeurs\n",
    "- les autres informations sont prinicpalements complêtes, pas de problème majeur.\n",
    "\n",
    "### Dépot-légal\n",
    "\n",
    "#### Global\n"
   ],
   "metadata": {
    "collapsed": false
   }
  },
  {
   "cell_type": "code",
   "execution_count": 5,
   "outputs": [
    {
     "name": "stdout",
     "text": [
      "DL_loading_time:  66.35741996765137\n",
      "{\n  \"author\": 42991,\n  \"author_by_value\": {\n    \"None\": 14508,\n    \"Tibo Gilles\": 203,\n    \"Bryant Robyn\": 157,\n    \"Ménard Valérie\": 134,\n    \"Jolin Dominique\": 134,\n    \"Bergeron Alain M.\": 130,\n    \"Petit Richard\": 113,\n    \"Chabin Laurent\": 112,\n    \"Amsel Philip\": 107,\n    \"Papineau Lucie\": 104\n  },\n  \"editor\": 56962,\n  \"editor_by_value\": {\n    \"Courte Échelle\": 1705,\n    \"Leméac éditeur\": 1663,\n    \"Éditions Héritage\": 1655,\n    \"Éditions AdA\": 1500,\n    \"Éditions Hurtubise\": 1470,\n    \"Éditions Québec Amérique, QA International\": 1428,\n    \"Éditions Phidal\": 1316,\n    \"Dominique et compagnie\": 1161,\n    \"Éditions du Boréal\": 1007,\n    \"Presses Aventure\": 937\n  },\n  \"22-rdf-syntax-ns#type\": 56962,\n  \"22-rdf-syntax-ns#type_by_value\": {\n    \"None\": 0,\n    \"http://dbpedia.org/ontology/Book\": 56962\n  },\n  \"name\": 56962,\n  \"name_by_value\": {\n    \"Caillou\": 157,\n    \"Nouvelles histoires drôles\": 87,\n    \"Garfield\": 83,\n    \"Histoires drôles\": 51,\n    \"Pinocchio\": 36,\n    \"Les chevaliers d'Émeraude\": 35,\n    \"Barbie\": 33,\n    \"Les trois petits cochons\": 32,\n    \"Cendrillon\": 29,\n    \"Kaboum\": 29\n  },\n  \"type\": 56962,\n  \"type_by_value\": {\n    \"None\": 0,\n    \"Jeunesse\": 22195,\n    \"Roman\": 19274,\n    \"Poésie\": 7909,\n    \"Bandes dessinées\": 1702,\n    \"Contes/Nouvelles\": 3815,\n    \"Théatre\": 2067\n  },\n  \"datePublished\": 56961,\n  \"datePublished_by_value\": {\n    \"2016\": 4163,\n    \"2015\": 3657,\n    \"2017\": 3352,\n    \"2014\": 3296,\n    \"2013\": 3271,\n    \"2012\": 3038,\n    \"2010\": 2915,\n    \"2009\": 2906,\n    \"2011\": 2838,\n    \"2008\": 2744\n  },\n  \"isbn\": 82185,\n  \"isbn_by_value\": {\n    \"9782896605705\": 54,\n    \"9782896604395\": 53,\n    \"2895433291\": 53,\n    \"2895432279\": 53,\n    \"9782895438663\": 53,\n    \"9782895438533\": 53,\n    \"9782895436157\": 53,\n    \"9782896602872\": 53,\n    \"9782896601653\": 53,\n    \"9782895437581\": 53\n  },\n  \"inLanguage\": 56946,\n  \"inLanguage_by_value\": {\n    \"None\": 16,\n    \"Français\": 52153,\n    \"Multilingue\": 578,\n    \"Autres\": 917,\n    \"Anglais\": 3298\n  }\n}\n"
     ],
     "output_type": "stream"
    }
   ],
   "source": [
    "start_loading_data_time = time.time()\n",
    "g_book_DL = rdflib.Graph()\n",
    "g_book_DL.parse(\"../Graphes/grapheDepotLegal.rdf\")\n",
    "\n",
    "DL_books = {\n",
    "    \"author\": 0,\n",
    "    \"author_by_value\": {\"None\": 0},\n",
    "    \"editor\": 0,\n",
    "    \"editor_by_value\": {\"None\": 0},\n",
    "}\n",
    "compte_isbn = {}\n",
    "compte_author = {}\n",
    "name_dict = {}\n",
    "isbn_dict = {}\n",
    "author_dict = {}\n",
    "\n",
    "for subj, pred in g_book_DL.subject_predicates(rdflib.URIRef(\"http://dbpedia.org/ontology/Book\")):\n",
    "    author_dict[subj] = None\n",
    "    DL_book = g_book_DL.predicate_objects(subj)\n",
    "    # pour chaque coupe prédictat-objet\n",
    "    for info in DL_book:\n",
    "        \n",
    "        if info[0] == rdflib.URIRef(\"https://schema.org/author\"):\n",
    "            author_DL = g_book_DL.predicate_objects(info[1])\n",
    "            familyName = \"\"\n",
    "            givenName = \"\"\n",
    "            for author_info in author_DL:\n",
    "                if author_info[0] == rdflib.URIRef(\"https://schema.org/givenName\"):\n",
    "                    givenName = author_info[1].n3().replace(\"\\\"\", \"\")\n",
    "                elif author_info[0] == rdflib.URIRef(\"https://schema.org/familyName\"):\n",
    "                    familyName = author_info[1].n3().replace(\"\\\"\", \"\")\n",
    "\n",
    "            if familyName or givenName:\n",
    "                if familyName + \" \" + givenName not in DL_books[\"author_by_value\"]:\n",
    "                    DL_books[\"author_by_value\"][familyName + \" \" + givenName] = 0\n",
    "                DL_books[\"author_by_value\"][familyName + \" \" + givenName] += 1\n",
    "                DL_books[\"author\"] += 1\n",
    "                author_dict[subj] = familyName + \" \" + givenName\n",
    "            else:\n",
    "                DL_books[\"author_by_value\"][\"None\"] += 1\n",
    "    \n",
    "            if subj not in compte_author:\n",
    "                compte_author[subj] = 0\n",
    "            compte_author[subj] += 1\n",
    "\n",
    "        elif info[0] == rdflib.term.URIRef('https://schema.org/publisher'):\n",
    "            # si l'objet n'est pas stoqué dans les valeurs connues, on l'y ajoute\n",
    "            editor_DL = g_book_DL.predicate_objects(info[1])\n",
    "            for editor_info in editor_DL:\n",
    "                if editor_info[0] == rdflib.URIRef(\"https://schema.org/name\"):\n",
    "                    if editor_info[1] not in DL_books[\"editor_by_value\"]:\n",
    "                        DL_books[\"editor_by_value\"][editor_info[1]] = 0\n",
    "                    DL_books[\"editor_by_value\"][editor_info[1]] += 1\n",
    "                    if editor_info[1]:\n",
    "                        DL_books[\"editor\"] += 1\n",
    "                    else:\n",
    "                        DL_books[\"editor_by_value\"][\"None\"] += 1\n",
    "        else:            \n",
    "            if info[0].split(\"/\")[-1] not in DL_books:\n",
    "                DL_books[info[0].split(\"/\")[-1]] = 0\n",
    "                DL_books[info[0].split(\"/\")[-1] + \"_by_value\"] = {\"None\":0}\n",
    "            if info[1]:\n",
    "                DL_books[info[0].split(\"/\")[-1]] += 1\n",
    "                if info[1] not in DL_books[info[0].split(\"/\")[-1] + \"_by_value\"]:\n",
    "                    DL_books[info[0].split(\"/\")[-1] + \"_by_value\"][info[1]] = 0\n",
    "                DL_books[info[0].split(\"/\")[-1] + \"_by_value\"][info[1]] += 1\n",
    "            else:\n",
    "                DL_books[info[0].split(\"/\")[-1] + \"_by_value\"][\"None\"] += 1\n",
    "                \n",
    "        if info[0].split(\"/\")[-1] == \"isbn\":\n",
    "            if info[1] not in isbn_dict:\n",
    "                isbn_dict[info[1]] = []\n",
    "            isbn_dict[info[1]].append(subj)\n",
    "            if subj not in compte_isbn:\n",
    "                compte_isbn[subj] = 0\n",
    "            compte_isbn[subj] += 1\n",
    "            \n",
    "        if info[0].split(\"/\")[-1] == \"name\":\n",
    "            name_dict[subj] = info[1]\n",
    "                                    \n",
    "isbn_dict = [(k, v) for k, v in sorted(isbn_dict.items(), key=lambda item: len(item[1]), reverse=True)]\n",
    "compte_isbn = [(k, v) for k, v in sorted(compte_isbn.items(), key=lambda item: item[1], reverse=True)]\n",
    "compte_author = [(k, v) for k, v in sorted(compte_author.items(), key=lambda item: item[1], reverse=True)]           \n",
    "\n",
    "DL_loading_time = time.time()\n",
    "print(\"DL_loading_time: \", DL_loading_time - start_loading_data_time)\n",
    "formated_stats_books_DL = format_result(DL_books)\n",
    "#TODO quels sont les isbns en commun dans Hurtubise et edition Hurtubise\n",
    "#TODO regarder si un seul isbn  apparait plusieur fois dans un seul livre\n",
    "#TODO regarder si les noirs poesies ont les isbns en commun"
   ],
   "metadata": {
    "collapsed": false,
    "pycharm": {
     "name": "#%%\n",
     "is_executing": false
    }
   }
  },
  {
   "cell_type": "markdown",
   "source": [
    "#### Commentaires\n",
    "\n",
    "- 56962 livres au total\n",
    "- 57499 auteurs dont 14508 vide soit 25%\n",
    "- tout ou presque tout les livres ont un nom, un type, une langue, une date de publication, et un isbn"
   ],
   "metadata": {
    "collapsed": false,
    "pycharm": {
     "name": "#%% md\n"
    }
   }
  },
  {
   "cell_type": "code",
   "execution_count": 12,
   "outputs": [
    {
     "name": "stdout",
     "text": [
      "isbn en commun pour plusieurs livres\non retrouve l'isbn:  9782896605705  dans les livres:  ['Garfield x 54']\non retrouve l'isbn:  9782896604395  dans les livres:  ['Garfield x 53']\non retrouve l'isbn:  2762586127  dans les livres:  ['Histoires drôles x 48']\non retrouve l'isbn:  9782896510436  dans les livres:  ['Kaboum x 29', 'Le souffle de Mistral x 1']\non retrouve l'isbn:  9782923474250  dans les livres:  ['Once upon a time-- x 19']\non retrouve l'isbn:  2895680868  dans les livres:  ['Collection Souriceau, [6-7 ans] x 16']\non retrouve l'isbn:  9782897031046  dans les livres:  ['Le blogue de Namasté x 14']\non retrouve l'isbn:  9782896513154  dans les livres:  ['Psy malgré moi x 13']\non retrouve l'isbn:  9782895656067  dans les livres:  ['À vous de jouer! x 9', 'Les merveilleuses histoires de Ralph x 4']\non retrouve l'isbn:  2890746860  dans les livres:  [\"Les chevaliers d'Émeraude x 12\"]\non retrouve l'isbn:  9782894354322  dans les livres:  ['Luna x 11']\n\nnombre d'isbn par livre:\npour le livre:  Garfield  le nombre d'isbn est:  65\npour le livre:  Noire poésie, tome 59  le nombre d'isbn est:  58\npour le livre:  Histoires drôles  le nombre d'isbn est:  50\npour le livre:  Noire poésie, tome 53  le nombre d'isbn est:  50\npour le livre:  Ali Baba  le nombre d'isbn est:  40\npour le livre:  Noire poésie, tome 40  le nombre d'isbn est:  37\npour le livre:  Noire poésie, tome 46  le nombre d'isbn est:  37\npour le livre:  Noire poésie, tome 47  le nombre d'isbn est:  37\npour le livre:  Noire poésie, tome 43  le nombre d'isbn est:  37\npour le livre:  Noire poésie, tome 42  le nombre d'isbn est:  37\n\nnombre d'auteurs différents:\npour le livre:  La lumière du silence = la luce del silenzio  le nombre d'auteurs est:  4\npour le livre:  Les âmes crépusculaires /  le nombre d'auteurs est:  4\npour le livre:  Haine ou amour? /  le nombre d'auteurs est:  4\npour le livre:  Bulle v.5 Pandémie  le nombre d'auteurs est:  4\npour le livre:  Superhéros 5  le nombre d'auteurs est:  3\npour le livre:  Les merveilles de la nature  le nombre d'auteurs est:  3\npour le livre:  Le treizième  le nombre d'auteurs est:  3\npour le livre:  Une journée à la ferme  le nombre d'auteurs est:  3\npour le livre:  Le coffret des bonnes manières avec Bumpy /  le nombre d'auteurs est:  3\npour le livre:  Le poisson frais  le nombre d'auteurs est:  3\n",
      "le livre:  Poetically speaking, v. 6  ( http://banq.qc.ca/livre/133809 ) et le livre  Blanc, noir et gris  ( http://banq.qc.ca/livre/50799 ) ont le même isbn  2922141179  et donc l'auteur commun:  Beauchamp Karine\n",
      "le livre:  Le labyrinthe des rêves  ( http://banq.qc.ca/livre/302061 ) et le livre  Le labyrinthe des rêves  ( http://banq.qc.ca/livre/280184 ) ont le même isbn  9782896951864  et donc l'auteur commun:  Gagné Johanne\n",
      "le livre:  Parce que c'était toi  ( http://banq.qc.ca/livre/393911 ) et le livre  Parce que c'était toi  ( http://banq.qc.ca/livre/291212 ) ont le même isbn  9782764410394  et donc l'auteur commun:  Fisher Marc\n",
      "le livre:  Oiseaux de Malheur  ( http://banq.qc.ca/livre/344839 ) et le livre  Le château des exilées  ( http://banq.qc.ca/livre/344837 ) ont le même isbn  9782981517302  et donc l'auteur commun:  Guilbault Raphaël\n",
      "le livre:  Les Beatles  ( http://banq.qc.ca/livre/311378 ) et le livre  Les Beatles  ( http://banq.qc.ca/livre/287637 ) ont le même isbn  9782895853046  et donc l'auteur commun:  Trudel Éric\n",
      "le livre:  Le fruit tombé de l'arbre /  ( http://banq.qc.ca/livre/415206 ) et le livre  Le fruit tombé de l'arbre  ( http://banq.qc.ca/livre/417048 ) ont le même isbn  9782897660871  et donc l'auteur commun:  Chamberland Paul\n",
      "le livre:  La route de Chlifa roman /  ( http://banq.qc.ca/livre/286956 ) et le livre  La route de Chlifa  ( http://banq.qc.ca/livre/253414 ) ont le même isbn  9782764407943  et donc l'auteur commun:  Marineau Michèle\n",
      "le livre:  Poetically speaking, v. 7  ( http://banq.qc.ca/livre/141826 ) et le livre  Blanc, noir et gris  ( http://banq.qc.ca/livre/50799 ) ont le même isbn  2922141179  et donc l'auteur commun:  Beauchamp Karine\n",
      "le livre:  Noire poésie, tome 8  ( http://banq.qc.ca/livre/385517 ) et le livre  Noire poésie, tome 53  ( http://banq.qc.ca/livre/414412 ) ont le même isbn  9782924622094  et donc l'auteur commun:  Jean Yvon\nle livre:  Noire poésie, tome 8  ( http://banq.qc.ca/livre/385517 ) et le livre  Noire poésie, tome 40  ( http://banq.qc.ca/livre/410230 ) ont le même isbn  9782924622094  et donc l'auteur commun:  Jean Yvon\nle livre:  Noire poésie, tome 8  ( http://banq.qc.ca/livre/385517 ) et le livre  Noire poésie, tome 46  ( http://banq.qc.ca/livre/410238 ) ont le même isbn  9782924622094  et donc l'auteur commun:  Jean Yvon\nle livre:  Noire poésie, tome 8  ( http://banq.qc.ca/livre/385517 ) et le livre  Noire Poésie   ( http://banq.qc.ca/livre/372656 ) ont le même isbn  9782924622094  et donc l'auteur commun:  Jean Yvon\nle livre:  Noire poésie, tome 8  ( http://banq.qc.ca/livre/385517 ) et le livre  Noire poésie, tome 43  ( http://banq.qc.ca/livre/410234 ) ont le même isbn  9782924622094  et donc l'auteur commun:  Jean Yvon\nle livre:  Noire poésie, tome 8  ( http://banq.qc.ca/livre/385517 ) et le livre  Noire poésie, tome 59  ( http://banq.qc.ca/livre/414889 ) ont le même isbn  9782924622094  et donc l'auteur commun:  Jean Yvon\nle livre:  Noire poésie, tome 8  ( http://banq.qc.ca/livre/385517 ) et le livre  Noire poésie, tome 42  ( http://banq.qc.ca/livre/410232 ) ont le même isbn  9782924622094  et donc l'auteur commun:  Jean Yvon\nle livre:  Noire poésie, tome 8  ( http://banq.qc.ca/livre/385517 ) et le livre  Noire poésie, tome 48  ( http://banq.qc.ca/livre/410237 ) ont le même isbn  9782924622094  et donc l'auteur commun:  Jean Yvon\nle livre:  Noire poésie, tome 8  ( http://banq.qc.ca/livre/385517 ) et le livre  Noire poésie, tome 49  ( http://banq.qc.ca/livre/410240 ) ont le même isbn  9782924622094  et donc l'auteur commun:  Jean Yvon\nle livre:  Noire poésie, tome 8  ( http://banq.qc.ca/livre/385517 ) et le livre  Noire poésie, tome 44  ( http://banq.qc.ca/livre/410235 ) ont le même isbn  9782924622094  et donc l'auteur commun:  Jean Yvon\n",
      "le livre:  Poetically speaking, v. 9  ( http://banq.qc.ca/livre/181123 ) et le livre  Blanc, noir et gris  ( http://banq.qc.ca/livre/50799 ) ont le même isbn  2922141179  et donc l'auteur commun:  Beauchamp Karine\n",
      "le livre:  Aventures jeunesse  ( http://banq.qc.ca/livre/122481 ) et le livre  Robin des Bois  ( http://banq.qc.ca/livre/16937 ) ont le même isbn  2894293755  et donc l'auteur commun:  Brierley Jane\n",
      "le livre:  Model disciple  ( http://banq.qc.ca/livre/380812 ) et le livre  The chemical life /  ( http://banq.qc.ca/livre/411640 ) ont le même isbn  9781550654394  et donc l'auteur commun:  Johnstone Jim\n"
     ],
     "output_type": "stream"
    }
   ],
   "source": [
    "print(\"isbn en commun pour plusieurs livres\")\n",
    "already_printed = []\n",
    "i = 0\n",
    "for isbn, subjs in isbn_dict:\n",
    "    counter = Counter([str(name_dict[subj]) for subj in subjs])\n",
    "    already_printed_test = False\n",
    "    for name in counter.values():\n",
    "        if name in already_printed:\n",
    "            already_printed_test = True\n",
    "    if not already_printed_test:\n",
    "        for name in counter.values():\n",
    "            already_printed.append(name)\n",
    "        print(\"on retrouve l'isbn: \", isbn, \" dans les livres: \", [str(name) + \" x \" + str(ct) for name, ct in counter.items()])\n",
    "        i += 1\n",
    "    if i > 10:\n",
    "        break\n",
    "print(\"\\nnombre d'isbn par livre:\")\n",
    "to_print = {}\n",
    "for subj, cpt in compte_isbn:\n",
    "    if name_dict[subj] not in to_print:\n",
    "        to_print[name_dict[subj]] = cpt\n",
    "    else:\n",
    "        if to_print[name_dict[subj]] < cpt:\n",
    "            to_print[name_dict[subj]] = cpt\n",
    "for name, cpt in list(to_print.items())[:10]:\n",
    "    print(\"pour le livre: \", name, \" le nombre d'isbn est: \", cpt)\n",
    "    \n",
    "print(\"\\nnombre d'auteurs différents:\")\n",
    "for subj, cpt in compte_author[:10]:\n",
    "    print(\"pour le livre: \", name_dict[subj], \" le nombre d'auteurs est: \", cpt)\n",
    "print(\"\\nattribution d'auteurs manquants par isbn en commun avec d'autre livres:\")\n",
    "counter = 0\n",
    "for subj, author in author_dict.items():\n",
    "    if not author:\n",
    "        for isbn, subj_isbn in isbn_dict:\n",
    "            if subj in subj_isbn:\n",
    "                test = [i for i in subj_isbn if i!=subj]\n",
    "                for subj_i in test:\n",
    "                    if subj_i in author_dict:\n",
    "                        if author_dict[subj_i]:\n",
    "                            print(\"le livre: \", name_dict[subj], \" (\", subj , \") et le livre \", name_dict[subj_i] , \" (\", subj_i , \") ont le même isbn \", isbn, \" et donc l'auteur commun: \", author_dict[subj_i])\n",
    "                            counter += 1\n",
    "                            \n",
    "    if counter > 20:\n",
    "        break"
   ],
   "metadata": {
    "collapsed": false,
    "pycharm": {
     "name": "#%%\n",
     "is_executing": false
    }
   }
  },
  {
   "cell_type": "markdown",
   "source": [
    "- on peut donc combler certain problème d'auteur manquant en comparant les isbns\n",
    "- certains livres ont un nombre considérable d'isbn, car les tomes sont regroupé ensembles.\n",
    "- le nombre d'auteur n'est pas abérants\n",
    "\n",
    "### Hurtubise\n",
    "\n",
    "#### Global"
   ],
   "metadata": {
    "collapsed": false,
    "pycharm": {
     "name": "#%% md\n"
    }
   }
  },
  {
   "cell_type": "code",
   "execution_count": 19,
   "outputs": [
    {
     "name": "stdout",
     "text": [
      "{\n  \"total\": 1404,\n  \"Editeur\": 1313,\n  \"Editeur_by_value\": {\n    \"Éditions Hurtubise\": 1313,\n    \"None\": 91\n  },\n  \"ISBN Papier\": 1310,\n  \"ISBN Papier_by_value\": {\n    \"None\": 94,\n    \"9782897815189\": 1,\n    \"9782897815196\": 1,\n    \"9782897815202\": 1,\n    \"9782897815219\": 1,\n    \"9782897814847\": 1,\n    \"9782897815356\": 1,\n    \"9782897814878\": 1,\n    \"9782897812980\": 1,\n    \"9782897814700\": 1\n  },\n  \"ISBN PDF\": 834,\n  \"ISBN PDF_by_value\": {\n    \"None\": 570,\n    \"9782896473304\": 3,\n    \"9782896473311\": 3,\n    \"9782896473328\": 3,\n    \"9782896473335\": 3,\n    \"9782896475926\": 3,\n    \"9782896475933\": 3,\n    \"9782896475940\": 3,\n    \"9782896474042\": 3,\n    \"9782896474059\": 3\n  },\n  \"ISBN epub\": 549,\n  \"ISBN epub_by_value\": {\n    \"None\": 855,\n    \"9782896476503\": 3,\n    \"9782896476510\": 3,\n    \"9782896476527\": 3,\n    \"9782896476534\": 3,\n    \"9782897814670\": 3,\n    \"9782897814687\": 3,\n    \"9782897814694\": 3,\n    \"9782896474301\": 3,\n    \"9782896474318\": 3\n  },\n  \"Titre\": 1313,\n  \"Titre_by_value\": {\n    \"None\": 91,\n    \"À l'ombre du clocher - Tome 1\": 2,\n    \"À l'ombre du clocher - Tome 2\": 2,\n    \"À l'ombre du clocher - Tome 3\": 2,\n    \"À l'ombre du clocher - Tome 4\": 2,\n    \"Hélène de Champlain - Tome 1\": 2,\n    \"Hélène de Champlain - Tome 2\": 2,\n    \"Hélène de Champlain - Tome 3\": 2,\n    \"Tout sur l'art\": 2,\n    \"Un bonheur si fragile - Tome 1\": 2\n  },\n  \"Sous - titre\": 693,\n  \"Sous - titre_by_value\": {\n    \"None\": 711,\n    \"Le retour\": 5,\n    \"Les années folles\": 3,\n    \"Le fils de Gabrielle\": 3,\n    \"Les amours interdites\": 3,\n    \"Au rythme des saisons\": 3,\n    \"Manchon et dentelle\": 3,\n    \"L'érable rouge\": 3,\n    \"Gracias a Dios\": 3,\n    \"L'engagement\": 3\n  },\n  \"Titre de la serie\": 443,\n  \"Titre de la serie_by_value\": {\n    \"None\": 961,\n    \"Juliette\": 19,\n    \"La Poussière du temps\": 14,\n    \"À l'ombre du clocher \": 13,\n    \"Un bonheur si fragile\": 13,\n    \"Au bord de la rivière\": 13,\n    \"La Force de vivre \": 13,\n    \"Chère Laurette\": 13,\n    \"Hélène de Champlain\": 10,\n    \"Madame Tout-le-monde\": 10\n  },\n  \"Contributeurs\": 1313,\n  \"Contributeurs_by_value\": {\n    \"None\": 91,\n    \"Michel David (De (auteur))\": 73,\n    \"Jean-Pierre Charland (De (auteur))\": 56,\n    \"Michel Langlois (De (auteur))\": 41,\n    \"Laurent Chabin (De (auteur))\": 33,\n    \" Collectif (De (auteur))\": 32,\n    \"Naïm Kattan (De (auteur))\": 23,\n    \"Hervé Gagnon (De (auteur))\": 23,\n    \"Rose-Line Brasset (De (auteur))\": 18,\n    \"Sophie Rondeau (De (auteur))\": 16\n  },\n  \"Contributeur(premier)\": 1313,\n  \"Contributeur(premier)_by_value\": {\n    \"None\": 91,\n    \"David Michel\": 73,\n    \"Charland Jean-Pierre\": 56,\n    \"Collectif\": 49,\n    \"Langlois Michel\": 41,\n    \"Chabin Laurent\": 33,\n    \"Kattan Naïm\": 23,\n    \"Gagnon Hervé\": 23,\n    \"Brasset Rose-Line\": 22,\n    \"Rondeau Sophie\": 16\n  },\n  \"Langue\": 1312,\n  \"Langue_by_value\": {\n    \"Français\": 1298,\n    \"None\": 92,\n    \"Anglais, Français\": 3,\n    \"Français, Espagnol\": 3,\n    \"Anglais\": 2,\n    \"Français, Latin\": 1,\n    \"Arabe, Français\": 1,\n    \"Arabe\": 1,\n    \"Français, Allemand\": 1,\n    \"Français, Italien\": 1\n  },\n  \"Langue Origine\": 1263,\n  \"Langue Origine_by_value\": {\n    \"Français\": 943,\n    \"Anglais\": 314,\n    \"None\": 141,\n    \"Portugais\": 2,\n    \"Allemand\": 1,\n    \"Espagnol\": 1,\n    \"Arabe, Français\": 1,\n    \"Arabe\": 1\n  },\n  \"Resume\": 1301,\n  \"Resume_by_value\": {\n    \"None\": 103,\n    \"1900, un petit village de Gaspésie. Jeune femme de caractère, Marie a épousé Guillaume, capitaine de...\": 2,\n    \"De retour à Cap-aux-Brumes, Marie doit résoudre son conflit avec Guillaume, venu la rejoindre au che...\": 2,\n    \"Après Marie-la-rebelle et la sage Marie-Reine, c’est au tour d’Anne-Marie d’accomplir sa destinée de...\": 2,\n    \"Après Marie-la-rebelle, la sage Marie-Reine et la fantasque Anne-Marie, c'est au tour de Valérie d'a...\": 2,\n    \"Québec, 1986. Après la mort tragique d'Olivier, la veille même de ses noces, Valérie s'est consacrée...\": 2,\n    \"Québec, 1998. Depuis la mort de Majella Roquemont, vingt-deux ans se sont écoulés. Son fils aîné, Ch...\": 2,\n    \"Quelle température fait-il sur Vénus? Quelle est la différence entre un pulsar et un quasar? Doit-on...\": 2,\n    \"Comment a fait Hercule pour venir à bout de ses douze travaux? Pourquoi Jason est-il parti en quête ...\": 2,\n    \"« Je pense donc je suis », la Caverne de Platon, le Pari de Pascal, le Surhomme de Nietzsche, l’état...\": 2\n  },\n  \"Nombre de pages\": 1304,\n  \"Nombre de pages_by_value\": {\n    \"None\": 100,\n    \"160\": 92,\n    \"48\": 41,\n    \"500\": 39,\n    \"144\": 35,\n    \"192\": 31,\n    \"256\": 30,\n    \"128\": 22,\n    \"248\": 20,\n    \"224\": 20\n  },\n  \"Date de parution\": 789,\n  \"Date de parution_by_value\": {\n    \"None\": 615,\n    \"2011-03-03\": 11,\n    \"2010-10-14\": 9,\n    \"2008-10-01\": 9,\n    \"2012-02-16\": 8,\n    \"2011-04-14\": 8,\n    \"2016-09-22\": 7,\n    \"2015-10-22\": 7,\n    \"2014-10-15\": 7,\n    \"2013-09-26\": 7\n  },\n  \"Annee de parution\": 1306,\n  \"Annee de parution_by_value\": {\n    \"None\": 98,\n    \"2013\": 93,\n    \"2019\": 83,\n    \"2010\": 83,\n    \"2012\": 82,\n    \"2017\": 80,\n    \"2008\": 77,\n    \"2018\": 73,\n    \"2014\": 72,\n    \"2011\": 72\n  },\n  \"Sujet  THEMA principal\": 1313,\n  \"Sujet  THEMA principal_by_value\": {\n    \"FV - Roman historique\": 242,\n    \"YFC - Fiction jeunesse : romans d’action et d’aventures\": 109,\n    \"None\": 91,\n    \"DNL - Essais littéraires\": 58,\n    \"YFN - Fiction jeunesse : histoires familiales et de la vie de tous les jours\": 52,\n    \"FBA - Littérature moderne et contemporaine\": 44,\n    \"YFCF - Fiction jeunesse : romans policiers et à suspense\": 39,\n    \"YFM - Fiction jeunesse : romans sentimentaux, d’amour et histoires de relation\": 38,\n    \"YBCS - Livres d’histoires illustrés\": 34,\n    \"YFCB - Fiction jeunesse : thrillers\": 28\n  },\n  \"Sujet THEMA\": 910,\n  \"Sujet THEMA_by_value\": {\n    \"None\": 494,\n    \"FT - Sagas familiales, FXD - Thème narratif : amour et relations\": 86,\n    \"FT - Sagas familiales\": 57,\n    \"YFN - Fiction jeunesse : histoires familiales et de la vie de tous les jours\": 50,\n    \"FXD - Thème narratif : amour et relations\": 36,\n    \"FS - Roman abordant la vie familiale\": 18,\n    \"YFC - Fiction jeunesse : romans d’action et d’aventures\": 16,\n    \"YFN - Fiction jeunesse : histoires familiales et de la vie de tous les jours, YFS - Fiction jeunesse...\": 16,\n    \"STK - Hockey sur glace\": 14,\n    \"FV - Roman historique\": 14\n  },\n  \"Quantificateur Georaphique\": 511,\n  \"Quantificateur Georaphique_by_value\": {\n    \"None\": 893,\n    \"1KBC-CA-QMM - Montréal\": 86,\n    \"1KBC-CA-Q - Québec\": 58,\n    \"1KBC-CA-QY - Québec : Centre-du-Québec\": 40,\n    \"1KBC-CA-QFC - Québec (ville)\": 33,\n    \"1DDF - France\": 15,\n    \"1DDF - France, 1QBK-CA-Q - Nouvelle-France\": 15,\n    \"1KBC-CA-QX - Québec : Montérégie\": 14,\n    \"1KBC-CA-QS - Québec : Gaspésie–Iles-de-la-Madeleine\": 12,\n    \"1KBC-CA-QM - Québec : région métropolitaine de Montréal\": 12\n  },\n  \"Quantificateur de langue\": 35,\n  \"Quantificateur de langue_by_value\": {\n    \"None\": 1369,\n    \"2ADF - Français\": 20,\n    \"2ADS - Espagnol\": 4,\n    \"2ACB - Anglais\": 3,\n    \"2CSR - Arabe\": 2,\n    \"2ACB - Anglais, 2ADF - Français\": 1,\n    \"2JN - Langues autochtones de l’Amérique du Nord et Centrale\": 1,\n    \"2ADL - Latin\": 1,\n    \"2ACG - Allemand\": 1,\n    \"2ADT - Italien\": 1\n  },\n  \"Quantificateur Historique\": 380,\n  \"Quantificateur Historique_by_value\": {\n    \"None\": 1024,\n    \"3MPBGH - D'environ 1920 à 1929\": 21,\n    \"3MPBA - D'environ 1900 à 1909\": 21,\n    \"3MPBL - D'environ 1940 à 1949\": 18,\n    \"3MPBGJ - D'environ 1930 à 1939\": 18,\n    \"3MPQM - D'environ 1950 à 1959\": 17,\n    \"3MNQV - D'environ 1870 à 1879\": 15,\n    \"3MNQX - D'environ 1880 à 1889\": 15,\n    \"3MPQS - D'environ 1960 à 1969\": 13,\n    \"3MPBLB - Seconde Guerre mondiale (de 1939 à 1945)\": 12\n  },\n  \"Niveau soclaire FR\": 0,\n  \"Niveau soclaire FR_by_value\": {\n    \"None\": 1404\n  },\n  \"Niveau scolaire QC\": 4,\n  \"Niveau scolaire QC_by_value\": {\n    \"None\": 1400,\n    \"Cégep\": 2,\n    \"5e année, 6e année\": 1,\n    \"3e année, 4e année, 5e année, 6e année\": 1\n  },\n  \"Cycle scolaire FR\": 2,\n  \"Cycle scolaire FR_by_value\": {\n    \"None\": 1402,\n    \"3e cycle du primaire\": 1,\n    \"2e cycle du primaire, 3e cycle du primaire\": 1\n  },\n  \"Niveau de lecture\": 0,\n  \"Niveau de lecture_by_value\": {\n    \"None\": 1404\n  },\n  \"Echele CECR\": 0,\n  \"Echele CECR_by_value\": {\n    \"None\": 1404\n  },\n  \"Quantificateur d'interet\": 67,\n  \"Quantificateur d'interet_by_value\": {\n    \"None\": 1337,\n    \"5LB - Relatif à la petite enfance\": 19,\n    \"5PB-US-E - Relatif aux Amérindiens\": 18,\n    \"5PGJ - Relatif aux personnes et groupes juifs\": 5,\n    \"5H - Vacances, évènements et saisons\": 4,\n    \"5JA - Destiné spécialement aux femmes et/ou filles\": 3,\n    \"5LKM - Relatif au milieu de l’âge adulte\": 3,\n    \"5PT - Relatif aux personnes transgenres\": 2,\n    \"5HRD - Saisons : Hiver\": 2,\n    \"5PB-US-C - Relatif aux Afro-Américains\": 1\n  },\n  \"Quantificateur d'age\": 461,\n  \"Quantificateur d'age_by_value\": {\n    \"None\": 943,\n    \"5AN - Âge : à partir de 12 ans\": 117,\n    \"5AL - Âge : à partir de 10 ans\": 114,\n    \"5AQ - Âge : à partir de 14 ans\": 55,\n    \"5AJ - Âge : à partir de 8 ans\": 44,\n    \"5AK - Âge : à partir de 9 ans\": 37,\n    \"5AM - Âge : à partir de 11 ans\": 29,\n    \"5AP - Âge : à partir de 13 ans\": 26,\n    \"5AD - Âge : à partir de 4 ans\": 13,\n    \"5AH - Âge : à partir de 7 ans\": 8\n  },\n  \"Quantificateur de style\": 6,\n  \"Quantificateur de style_by_value\": {\n    \"None\": 1398,\n    \"6RF - Rock\": 2,\n    \"6PB - Musique pop\": 1,\n    \"6CA - Classique\": 1,\n    \"6JD - Jazz\": 1,\n    \"6MC - Modernisme\": 1\n  },\n  \"Classification Editoriale\": 129,\n  \"Classification Editoriale_by_value\": {\n    \"None\": 1275,\n    \"Ouvrage de référence\": 78,\n    \"Beaux livres\": 41,\n    \"Parcours pédagogiques\": 10\n  },\n  \"Mots cles\": 475,\n  \"Mots cles_by_value\": {\n    \"None\": 929,\n    \"maternité\": 17,\n    \"science\": 13,\n    \"Science\": 6,\n    \"art\": 4,\n    \"suicide\": 4,\n    \"accouchement, bébé, maternité\": 4,\n    \"mode\": 3,\n    \"hockey\": 3,\n    \"Histoire\": 3\n  }\n}\n"
     ],
     "output_type": "stream"
    }
   ],
   "source": [
    "books_Hurtubise_file = open(\"./Hurtubise/Exportation-Hurtubise.csv\", \"r\", encoding='utf-8')\n",
    "csv_reader = csv.DictReader(books_Hurtubise_file, delimiter=',', fieldnames=[\n",
    "    \"Editeur\", \"ISBN Papier\", \"ISBN PDF\", \"ISBN epub\", \"Titre\", \"Sous - titre\", \"Titre de la serie\",\n",
    "    \"Contributeurs\", \"Contributeur(premier)\", \"Langue\", \"Langue Origine\", \"Resume\", \"Nombre de pages\",\n",
    "    \"Date de parution\", \"Annee de parution\", \"Sujet  THEMA principal\", \"Sujet THEMA\",\n",
    "    \"Quantificateur Georaphique\", \"Quantificateur de langue\", \"Quantificateur Historique\", \"Niveau soclaire FR\",\n",
    "    \"Niveau scolaire QC\", \"Cycle scolaire FR\", \"Niveau de lecture\", \"Echele CECR\", \"Quantificateur d'interet\",\n",
    "    \"Quantificateur d'age\", \"Quantificateur de style\", \"Classification Editoriale\", \"Mots cles\"\n",
    "\n",
    "])\n",
    "header = next(csv_reader)\n",
    "count_isbn = []\n",
    "count_info = []\n",
    "Hurtubise_books = {\"total\": 0}\n",
    "for book in csv_reader:\n",
    "    count_isbn_i = 0\n",
    "    count_info_i = 0\n",
    "    Hurtubise_books[\"total\"] += 1\n",
    "    for key, value in book.items():\n",
    "        if key == 'ISBN Papier' or key == 'ISBN PDF' or key == 'ISBN epub':\n",
    "            if value:\n",
    "                count_isbn_i += 1\n",
    "        if value:\n",
    "            count_info_i += 1\n",
    "        if key not in Hurtubise_books:\n",
    "            Hurtubise_books[key] = 0\n",
    "        if key + \"_by_value\" not in Hurtubise_books:\n",
    "            Hurtubise_books[key + \"_by_value\"] = {\"None\": 0}\n",
    "        if value:\n",
    "            Hurtubise_books[key] += 1\n",
    "            if value not in Hurtubise_books[key + \"_by_value\"]:\n",
    "                Hurtubise_books[key + \"_by_value\"][value] = 0\n",
    "            Hurtubise_books[key + \"_by_value\"][value] += 1\n",
    "        else:\n",
    "            Hurtubise_books[key + \"_by_value\"][\"None\"] += 1\n",
    "    count_isbn.append(count_isbn_i)\n",
    "    count_info.append(count_info_i)\n",
    "\n",
    "for key, value in Hurtubise_books.items():\n",
    "    if isinstance(value, dict):\n",
    "        Hurtubise_books[key] = {k: v for k, v in sorted(Hurtubise_books[key].items(),\n",
    "                                                   key=lambda item: item[1], reverse=True)}\n",
    "\n",
    "books_Hurtubise_file.close()\n",
    "formated_Hurtubise_book = format_result(Hurtubise_books)"
   ],
   "metadata": {
    "collapsed": false,
    "pycharm": {
     "name": "#%%\n",
     "is_executing": false
    }
   }
  },
  {
   "cell_type": "markdown",
   "source": [
    "#### Commentaire\n",
    "\n",
    "Champs vides:\n",
    "- total de 1404 livres\n",
    "- 94 isbn des papiers sont vides soit 7%\n",
    "- 570 isbn des PDF sont vides soit 40%\n",
    "- 855 des isbn des e-pub sont vides soit 60%\n",
    "- 91 livres n'ont pas de titre principal soit 6%\n",
    "- 711 livres n'ont pas de sous-titre  soit 50%\n",
    "- 961 livres n'ont pas de titre de la série soit 68%\n",
    "- 91 contributeur et contributeur premier sont manquant soit 6%\n",
    "- 92 livres n'ont pas de langue soit 6%\n",
    "- 141 livres n'ont pas de langue d'origine soit 10%\n",
    "- 103 livres n'ont pas de résumé soit 7%\n",
    "- 100 livres n'ont pas de nombre de page soit 7%\n",
    "- 615 livres n'ont pas de date de parution soit 43%\n",
    "- 98 livres n'ont pas d'année de parution soit 7%\n",
    "- 91 livres n'ont pas de sujet THEMA principale soit 6%\n",
    "- 494 livres n'ont pas de sujet THEMA soit 35 %\n",
    "- 893 livre n'ont pas de quantificateur géographique soit 64%\n",
    "- 1369 livres n'ont pas de quantificateur de langue soit 97%\n",
    "- 1024 livres n'ont pas de quantificateur historique soit 72%\n",
    "- aucun livre n'ont de niveau scolaire FR\n",
    "- seulement 4 livres ont un niveau scolaire QC\n",
    "- aucun livre n'ont de niveau de lecture\n",
    "- aucun livre n'ont  d'echele CECR\n",
    "- 1337 livres n'ont pas de quantificateur d'interet soit 95%\n",
    "- 943 livres n'ont pas de quantificateur d'age soit 67%\n",
    "- seulement 6 livres ont un quantificateur de style\n",
    "- 1275 livre n'ont pas de classification éditoriale soit 90%\n",
    "- 929 livres n'ont pas de Mots-clefs soit 66%\n",
    "\n",
    "test des isbns:"
   ],
   "metadata": {
    "collapsed": false,
    "pycharm": {
     "name": "#%% md\n"
    }
   }
  },
  {
   "cell_type": "code",
   "execution_count": 20,
   "outputs": [
    {
     "name": "stdout",
     "text": [
      "543  livres ont  3  isbns\n474  livres ont  1  isbns\n295  livres ont  2  isbns\n92  livres ont  0  isbns\n"
     ],
     "output_type": "stream"
    }
   ],
   "source": [
    "counter_isbn = Counter(count_isbn)\n",
    "for key, value in counter_isbn.items():\n",
    "    print(value, \" livres ont \", key, \" isbns\")\n"
   ],
   "metadata": {
    "collapsed": false,
    "pycharm": {
     "name": "#%%\n",
     "is_executing": false
    }
   }
  },
  {
   "cell_type": "markdown",
   "source": [
    "Nombre d'information par livres:"
   ],
   "metadata": {
    "collapsed": false,
    "pycharm": {
     "name": "#%% md\n"
    }
   }
  },
  {
   "cell_type": "code",
   "execution_count": 21,
   "outputs": [
    {
     "name": "stdout",
     "text": [
      "212  livres ont  19  informations\n141  livres ont  18  informations\n183  livres ont  15  informations\n135  livres ont  17  informations\n157  livres ont  16  informations\n24  livres ont  20  informations\n150  livres ont  14  informations\n166  livres ont  13  informations\n94  livres ont  12  informations\n11  livres ont  21  informations\n6  livres ont  10  informations\n91  livres ont  0  informations\n34  livres ont  11  informations\n\n Nombre de livre par nombre d'information disponible\n"
     ],
     "output_type": "stream"
    },
    {
     "data": {
      "text/plain": "<Figure size 432x288 with 1 Axes>",
      "image/png": "[encoded data removed]"
     },
     "metadata": {
      "needs_background": "light"
     },
     "output_type": "display_data"
    }
   ],
   "source": [
    "counter_info = Counter(count_info)\n",
    "for key, value in counter_info.items():\n",
    "    print(value, \" livres ont \", key, \" informations\")\n",
    "print(\"\\n Nombre de livre par nombre d'information disponible\")\n",
    "x, y = zip(*sorted(counter_info.items()))\n",
    "plt.plot(x,y)\n",
    "plt.show()"
   ],
   "metadata": {
    "collapsed": false,
    "pycharm": {
     "name": "#%%\n",
     "is_executing": false
    }
   }
  },
  {
   "cell_type": "markdown",
   "source": [
    "- 91 livres sont totalement vides\n",
    "\n",
    "Commentaire entre parenthèse pour les auteurs:"
   ],
   "metadata": {
    "collapsed": false,
    "pycharm": {
     "name": "#%% md\n"
    }
   }
  },
  {
   "cell_type": "code",
   "execution_count": 22,
   "outputs": [
    {
     "name": "stdout",
     "text": [
      "exemple de texte entre parenthèses dans les isbns:  (De ) :  594\nexemple de texte entre parenthèses dans les isbns:  (auteur) :  462\nexemple de texte entre parenthèses dans les isbns:  (Traduit par) :  112\nexemple de texte entre parenthèses dans les isbns:  (Coordination éditoriale de) :  14\nexemple de texte entre parenthèses dans les isbns:  (Illustré par) :  7\nexemple de texte entre parenthèses dans les isbns:  (Préface de) :  4\nexemple de texte entre parenthèses dans les isbns:  (photographe) :  3\nexemple de texte entre parenthèses dans les isbns:  (Photographies de) :  2\nexemple de texte entre parenthèses dans les isbns:  (dit Larose) :  1\nexemple de texte entre parenthèses dans les isbns:  (Texte de) :  1\n"
     ],
     "output_type": "stream"
    }
   ],
   "source": [
    "exemple = {}\n",
    "for isbn, cpt in Hurtubise_books[\"Contributeurs_by_value\"].items():\n",
    "    if isbn:\n",
    "        if \"(\" in isbn:\n",
    "            txt_parentheses = text_between_parentheses(isbn)\n",
    "            for ex in txt_parentheses:\n",
    "                if ex not in exemple:\n",
    "                    exemple[ex] = 0\n",
    "                exemple[ex] += 1\n",
    "exemple = [(k, v) for k, v in sorted(exemple.items(), key=lambda item: item[1], reverse=True)]\n",
    "for ex, nb in exemple:\n",
    "    print(\"exemple de texte entre parenthèses dans les isbns: \", ex, \": \", nb)\n"
   ],
   "metadata": {
    "collapsed": false,
    "pycharm": {
     "name": "#%%\n",
     "is_executing": false
    }
   }
  },
  {
   "cell_type": "markdown",
   "source": [
    "### Babelio\n",
    "\n",
    "#### Global\n"
   ],
   "metadata": {
    "collapsed": false,
    "pycharm": {
     "name": "#%% md\n",
     "is_executing": false
    }
   }
  },
  {
   "cell_type": "code",
   "execution_count": 23,
   "outputs": [
    {
     "name": "stdout",
     "text": [
      "babelio_loading_time:  1.0248770713806152\n{\n  \"total\": 2041,\n  \"url\": 2041,\n  \"url_by_value\": {\n    \"https://www.babelio.com/livres/Letourneau-Notre-Duplex/655410\": 1,\n    \"https://www.babelio.com/livres/Lepage-Vers-lOuest/152344\": 1,\n    \"https://www.babelio.com/livres/Belisle-Planete-verte/710115\": 1,\n    \"https://www.babelio.com/livres/Cloutier-Independance-Le-PQ-a-trahi-ses-militants/1129490\": 1,\n    \"https://www.babelio.com/livres/Brisebois-Coups-de-feu-au-Forum/723616\": 1,\n    \"https://www.babelio.com/livres/Girard-Les-Belles-Soeurs--Loeuvre-qui-a-tout-change/1038624\": 1,\n    \"https://www.babelio.com/livres/Morgan-Les-Flibustieres-Bonny-Read/934415\": 1,\n    \"https://www.babelio.com/livres/Barranger-Maria-chappe-de-haine/287218\": 1,\n    \"https://www.babelio.com/livres/Jacques-La-tete-de-mort/1184443\": 1,\n    \"https://www.babelio.com/livres/Leclerc-La-vie-rurale-1866-1953/542075\": 1\n  },\n  \"title\": 2041,\n  \"title_by_value\": {\n    \" Mon pays à feu et à sang \": 2,\n    \" Sociologie contemporaine \": 2,\n    \" Poésies complètes \": 2,\n    \" Montréal \": 2,\n    \" Bienvenue Chez Monsieur B \": 2,\n    \" Fin de cycle \": 2,\n    \" Allers simples \": 2,\n    \" Notre Duplex \": 1,\n    \" Vers l'Ouest \": 1,\n    \" Planète verte \": 1\n  },\n  \"author\": 2041,\n  \"author_by_value\": {\n    \"Michel  Tremblay\": 22,\n    \"Chrystine  Brouillet\": 19,\n    \"Patrick  Senécal\": 14,\n    \"Michel  David\": 13,\n    \"Marie  Laberge\": 10,\n    \"Jacques  Ferron\": 9,\n    \"Yves  Beauchemin\": 9,\n    \"Micheline  Dalpé\": 9,\n    \"Daniel  Shelton\": 9,\n    \"Jacques  Poulin\": 8\n  },\n  \"author_id\": 2041,\n  \"author_id_by_value\": {\n    \"/auteur/Michel-Tremblay/7243\": 22,\n    \"/auteur/Chrystine-Brouillet/6073\": 19,\n    \"/auteur/Patrick-Senecal/6796\": 14,\n    \"/auteur/Michel-David/28284\": 13,\n    \"/auteur/Marie-Laberge/12749\": 11,\n    \"/auteur/Jacques-Ferron/34621\": 10,\n    \"/auteur/Marie-Claire-Blais/41165\": 9,\n    \"/auteur/Yves-Beauchemin/15447\": 9,\n    \"/auteur/Micheline-Dalpe/237112\": 9,\n    \"/auteur/Daniel-Shelton/91829\": 9\n  },\n  \"infos\": 2041,\n  \"infos_by_value\": {\n    \"              Éditeur :   (01/01/1900)   \": 19,\n    \"              Éditeur : Boréal  (01/01/1900)   \": 2,\n    \"              Éditeur : Stanké  (30/11/-1)   \": 2,\n    \"              Éditeur : Coup d'oeil  (01/01/2012)   \": 2,\n    \" EAN : 9782892618617              Éditeur : Xyz  (03/09/2014)   \": 1,\n    \" EAN : 9782814502857              Éditeur : publie.net  (01/01/1900)   \": 1,\n    \" EAN : 9782897192013              Éditeur : ECOSOCIETE EDITIONS  (01/04/2015)   \": 1,\n    \" EAN : 9782924078006   88 pages            Éditeur : ÉDITIONS SCHNEIDER  (06/02/2012)   \": 1,\n    \" EAN : 9782897235949              Éditeur : Éditions Hurtubise  (18/05/2015)   \": 1,\n    \" EAN : 9782897056438              Éditeur : Editions de la Presse  (04/04/2018)   \": 1\n  },\n  \"editor\": 1989,\n  \"editor_by_value\": {\n    \"Boréal\": 98,\n    \"Québec Amérique\": 64,\n    \"Éditions Hurtubise\": 55,\n    \"None\": 52,\n    \"La Courte Echelle\": 45,\n    \"Presses Universitaires du Septentrion\": 41,\n    \"VLB Editeur\": 40,\n    \"Leméac (Editeur)\": 39,\n    \"Libre Expression\": 32,\n    \"Editions Alire\": 32\n  },\n  \"rating\": 1590,\n  \"rating_by_value\": {\n    \"None\": 451,\n    \"4\": 266,\n    \"3\": 182,\n    \"5\": 129,\n    \"3.5\": 101,\n    \"4.5\": 68,\n    \"2\": 57,\n    \"3.25\": 37,\n    \"2.5\": 36,\n    \"3.67\": 33\n  },\n  \"nb_rating\": 1590,\n  \"nb_rating_by_value\": {\n    \"1\": 524,\n    \"None\": 451,\n    \"2\": 290,\n    \"3\": 140,\n    \"4\": 83,\n    \"5\": 52,\n    \"7\": 43,\n    \"6\": 40,\n    \"9\": 23,\n    \"12\": 20\n  },\n  \"resume\": 1990,\n  \"resume_by_value\": {\n    \"None\": 51,\n    \"Roman de politique-fiction, ce texte se déroule dans les coulisses du pouvoir juif de Montréal. Jeun...\": 2,\n    \" Le roman d'aventures québécois du XIXe siècle est très souvent historique. C'est ainsi qu'à travers...\": 2,\n    \" Saga historique québécoise dont les personnages principaux sont les bourgeois et les notables de la...\": 2,\n    \" Il y a trois ans, Marie et Véronique faisaient l'acquisition d'un duplex dans le quartier Rosemont....\": 1,\n    \" (édition numérique) ’ai été soufflé. Dès l’ouverture. Je savais Mahigan occupé, depuis 2 ans, à un ...\": 1,\n    \" Préface de Christian Vachon  André Bélisle, président et cofondateur de l’Association québécoise de...\": 1,\n    \" Me Pierre Cloutier est avocat à la retraite depuis avril 2011, mais il continue d'exercer son métie...\": 1,\n    \" Le 17 mars 1955, une tension à couper au couteau règne au Forum de Montréal, alors que le Canadien ...\": 1,\n    \" La pièce Les Belles-Soeurs de Michel Tremblay est née le 4 mars 1968 lors d'une lecture publique da...\": 1\n  },\n  \"tags\": 17277,\n  \"tags_by_value\": {\n    \" québécois  \": 1996,\n    \" littérature québécoise  \": 608,\n    \" roman  \": 517,\n    \" récits  \": 334,\n    \" québec  \": 263,\n    \" écrivain femme  \": 245,\n    \" littérature jeunesse  \": 180,\n    \" amour  \": 179,\n    \" jeunesse  \": 158,\n    \" littérature canadienne  \": 156\n  },\n  \"reviews\": 1093,\n  \"reviews_by_value\": {\n    \"None\": 948,\n    \"id\": 1093,\n    \"id_by_value\": {\n      \"None\": 1,\n      \"B_CRI23157\": 1,\n      \"B_CRI2050227\": 1,\n      \"B_CRI1822346\": 1,\n      \"B_CRI1287026\": 1,\n      \"B_CRI126704\": 1,\n      \"B_CRI2057661\": 1,\n      \"B_CRI1209494\": 1,\n      \"B_CRI898531\": 1,\n      \"B_CRI1764313\": 1\n    },\n    \"author\": 1093,\n    \"author_by_value\": {\n      \"iarsenea\": 68,\n      \"MilleetunepagesLM\": 50,\n      \"bilodoh\": 41,\n      \"Cielvariable\": 28,\n      \"Lali\": 27,\n      \"MarianneRichard\": 23,\n      \"Neneve\": 19,\n      \"SebastienCreo\": 15,\n      \"Pixie_dust\": 14,\n      \"GB\": 14\n    },\n    \"date\": 1093,\n    \"date_by_value\": {\n      \"13 décembre 2013\": 5,\n      \"28 décembre 2019\": 4,\n      \"24 juin 2010\": 4,\n      \"04 mars 2015\": 4,\n      \"31 janvier 2013\": 3,\n      \"03 juillet 2017\": 3,\n      \"07 février 2020\": 3,\n      \"18 novembre 2018\": 3,\n      \"11 mars 2019\": 3,\n      \"14 septembre 2019\": 3\n    },\n    \"rating\": 1002,\n    \"rating_by_value\": {\n      \"4.0\": 303,\n      \"3.0\": 231,\n      \"5.0\": 230,\n      \"None\": 92,\n      \"3.5\": 67,\n      \"4.5\": 59,\n      \"2.0\": 57,\n      \"1.0\": 27,\n      \"2.5\": 21,\n      \"1.5\": 4\n    },\n    \"pop\": 1093,\n    \"pop_by_value\": {\n      \"0\": 235,\n      \"1\": 183,\n      \"2\": 116,\n      \"3\": 84,\n      \"4\": 70,\n      \"5\": 46,\n      \"6\": 40,\n      \"7\": 33,\n      \"9\": 21,\n      \"8\": 20\n    },\n    \"content\": 1093,\n    \"content_by_value\": {\n      \" Lien : \": 5,\n      \" Hatley est à la retraite depuis peu après plus de 35 ans passés à travailler dur. Marié depuis long...\": 5,\n      \"Mon entrevue accordée au Journal Les Versants de Saint-Bruno de Montarville Publié le mardi 29 Janvi...\": 2,\n      \"  De la lecture facile, agréable. Une belle série. Une ode à l'amitié féminine et à l'amour beau et ...\": 2,\n      \"None\": 1,\n      \"  La route   d'un adolescent québécois, un des temps d'après moi, un qui est parti, lui, dans l'idée...\": 1,\n      \"  Bonjour mes Lecteurs, Je vous amène au delà des frontières de notre métropole française avec la le...\": 1,\n      \"  Le commentaire de Lynda : J'ai entre les mains un petit bijou de livre. Un coup de heart sans aucu...\": 1,\n      \"  Définitivement je ne suis pas le public cible pour ce genre de roman malgré que j'aime beaucoup le...\": 1,\n      \"      le corps de Quentin Cointreau est retrouvé flottant sur les eaux du lac Memphrémagog, au Québe...\": 1\n    }\n  },\n  \"extracts\": 872,\n  \"extracts_by_value\": {\n    \"None\": 1169,\n    \"id\": 872,\n    \"id_by_value\": {\n      \"None\": 1,\n      \"B_CIT10638\": 1,\n      \"B_CIT1852553\": 1,\n      \"B_CIT77811\": 1,\n      \"B_CIT1709890\": 1,\n      \"B_CIT1103085\": 1,\n      \"B_CIT1191253\": 1,\n      \"B_CIT1329149\": 1,\n      \"B_CIT778269\": 1,\n      \"B_CIT1725875\": 1\n    },\n    \"author\": 872,\n    \"author_by_value\": {\n      \"r k h e t t a o u i\": 88,\n      \"C i e l v a r i a b l e\": 74,\n      \"b i l o d o h\": 36,\n      \"i e o 9\": 33,\n      \"L a l i\": 23,\n      \"J a c o p o\": 19,\n      \"i a r s e n e a\": 17,\n      \"D a n i e l j e a n\": 17,\n      \"S a c h e n k a\": 15,\n      \"P i x i e _ d u s t\": 14\n    },\n    \"date\": 872,\n    \"date_by_value\": {\n      \"14 mars 2020\": 4,\n      \"16 février 2015\": 4,\n      \"07 juin 2016\": 4,\n      \"26 février 2013\": 4,\n      \"10 juin 2016\": 4,\n      \"18 mai 2015\": 3,\n      \"16 mai 2012\": 3,\n      \"04 mai 2017\": 3,\n      \"01 mars 2020\": 3,\n      \"06 mars 2017\": 3\n    },\n    \"pop\": 872,\n    \"pop_by_value\": {\n      \"1\": 172,\n      \"2\": 129,\n      \"0\": 113,\n      \"3\": 77,\n      \"4\": 65,\n      \"5\": 44,\n      \"6\": 42,\n      \"7\": 30,\n      \"8\": 20,\n      \"11\": 17\n    },\n    \"content\": 871,\n    \"content_by_value\": {\n      \"None\": 2,\n      \"  La route défile sous le capot et la couleur de l’asphalte est indéfinissable. On ne sait exactemen...\": 1,\n      \"  Ce n'était pas la première fois que les idées de grandeur lui trottaient dans la tête. Dans ses je...\": 1,\n      \"  Une famille entière d’Amerloques lambda aurait pu pioncer côte à côte dans le pageot super king si...\": 1,\n      \"  Manger (édition 1943) L’homme mange tous les jours et même plusieurs fois le jour. Et si on examin...\": 1,\n      \"  Avec ce drôle  de coeur que j'avais, Kim ne représentait pas toujours la même chose pour moi. Suiv...\": 1,\n      \"  Le métier de l'avenir, c'est le métier d'éducateur. Il y faudra des hommes entièrement dévoués, ca...\": 1,\n      \"  Alors, la chatte a poussé un MMMEAO ! à me surgeler le sang. Ses yeux étincelaient, semblables à d...\": 1,\n      \"  « Pourquoi souriez-vous, mère? demanda Baltair qui chevauchait aux côtés de la voiture. – Je songe...\": 1,\n      \"  Ce livre était très drôle ! Un chien qui fait d'excellente patates. J'ai aimé la fin de l'histoire...\": 1\n    }\n  },\n  \"edition_date\": 1938,\n  \"edition_date_by_value\": {\n    \"01/09/2005\": 67,\n    \"01/01/1900\": 60,\n    \"20/09/2005\": 40,\n    \"01/01/2012\": 20,\n    \"25/10/2006\": 14,\n    \"01/01/2013\": 11,\n    \"01/01/2010\": 10,\n    \"01/01/2001\": 9,\n    \"01/01/2011\": 9,\n    \"01/01/1999\": 9\n  },\n  \"EAN\": 1961,\n  \"EAN_by_value\": {\n    \"978\": 35,\n    \"9782892618617\": 1,\n    \"9782814502857\": 1,\n    \"9782897192013\": 1,\n    \"9782924078006\": 1,\n    \"9782897235949\": 1,\n    \"9782897056438\": 1,\n    \"9782895857372\": 1,\n    \"9782842194833\": 1,\n    \"9782894287576\": 1\n  },\n  \"nb_pages\": 1120,\n  \"nb_pages_by_value\": {\n    \"160\": 30,\n    \"32\": 18,\n    \"224\": 17,\n    \"24\": 15,\n    \"240\": 15,\n    \"48\": 14,\n    \"256\": 12,\n    \"192\": 12,\n    \"30\": 11,\n    \"96\": 10\n  }\n}\n"
     ],
     "output_type": "stream"
    }
   ],
   "source": [
    "\n",
    "Babaelio_loading_time = time.time()\n",
    "babelioJson = open(\"./Babelio/item.json\", \"r\")\n",
    "babelioData = json.load(babelioJson)[0:]\n",
    "babelioJson.close()\n",
    "\n",
    "stats_book = {\n",
    "    \"total\": 0\n",
    "}\n",
    "stats_author = {\n",
    "    \"total\": 0\n",
    "}\n",
    "tags_count = []\n",
    "for babelio_item in babelioData:\n",
    "    # on check si il s'agit d'un livre ou d'un auteur\n",
    "    if \"author_id\" in babelio_item:\n",
    "        stats_book[\"total\"] += 1\n",
    "        tags_counter_i = 0\n",
    "        # si c'est un auteur, on parcours ses attributs\n",
    "        for key, value in babelio_item.items():\n",
    "            # si la clef n'existe pas, on créé une nouvelle catégorie\n",
    "            if key not in stats_book:\n",
    "                stats_book[key] = 0\n",
    "            # si le compte par occurence n'existe pas, on l'instancie\n",
    "            if key + \"_by_value\" not in stats_book:\n",
    "                    stats_book[key + \"_by_value\"] = {\"None\": 0}\n",
    "            # traitement des catégories où l'objet est une simple chaine de caractère\n",
    "            if key not in [\"reviews\", \"extracts\", \"author\", \"resume\", \"tags\"]:\n",
    "                if value:\n",
    "                    # si la valeur n'est pas dans le compte par occurence, on l'ajoute\n",
    "                    if value not in stats_book[key + \"_by_value\"]:\n",
    "                        stats_book[key + \"_by_value\"][value] = 0\n",
    "                    # sinon, on compte +1 pour cette valeur\n",
    "                    stats_book[key + \"_by_value\"][value] += 1\n",
    "                    stats_book[key] += 1\n",
    "                else:\n",
    "                    stats_book[key + \"_by_value\"][\"None\"] += 1\n",
    "            # pour l'auteur ou le résumé, on doit regrouper les informations avant de les compter,\n",
    "            # car c'est un tableau de chaine de caractère, on ne veut pas considérer \"jean\" comme une valeur,\n",
    "            # mais bien \"jean nom_de_famille\" par exemple\n",
    "            elif key == \"author\" or key == \"resume\":\n",
    "                if value:\n",
    "                    if \" \".join(value) not in stats_book[key + \"_by_value\"]:\n",
    "                        stats_book[key + \"_by_value\"][\" \".join(value)] = 0\n",
    "                    stats_book[key + \"_by_value\"][\" \".join(value)] += 1\n",
    "                    stats_book[key] += 1\n",
    "                else:\n",
    "                    stats_book[key + \"_by_value\"][\"None\"] += 1\n",
    "                \n",
    "            # pour les tags, on doit faire la différence entre les tags,\n",
    "            # et donc compter les tags individuellement\n",
    "            elif key == \"tags\":\n",
    "                for value_ in value:\n",
    "                    tags_counter_i += 1\n",
    "                    if value_:\n",
    "                        if value_[\"tag\"] not in stats_book[key + \"_by_value\"]:\n",
    "                            stats_book[key + \"_by_value\"][value_[\"tag\"]] = 0\n",
    "                        stats_book[key + \"_by_value\"][value_[\"tag\"]] += 1\n",
    "                        stats_book[key] += 1\n",
    "                    else:\n",
    "                        stats_book[key + \"_by_value\"][\"None\"] += 1\n",
    "            # cas où les informations sont sous une couche de plus (reviews et extract)\n",
    "            # exemple: reviews ont un identifiant, un auteur, etc...\n",
    "            # on doit donc faire une couche de plus d'analyse\n",
    "            else:\n",
    "                if value:\n",
    "                    for key_, value_ in value[0].items():\n",
    "                        if key_ not in stats_book[key + \"_by_value\"]:\n",
    "                            stats_book[key + \"_by_value\"][key_] = 0\n",
    "                        if key_ == 'author' or key_ == 'content':\n",
    "                            value_ = \" \".join(value_)\n",
    "                        if key_ + \"_by_value\" not in stats_book[key + \"_by_value\"]:\n",
    "                            stats_book[key + \"_by_value\"][key_ + \"_by_value\"] = {\"None\": 1}\n",
    "                        if value_:\n",
    "                            if value_ not in stats_book[key + \"_by_value\"][key_ + \"_by_value\"]:\n",
    "                                stats_book[key + \"_by_value\"][key_ + \"_by_value\"][value_] = 0\n",
    "                            stats_book[key + \"_by_value\"][key_ + \"_by_value\"][value_] += 1\n",
    "                            stats_book[key + \"_by_value\"][key_] += 1\n",
    "                        else:\n",
    "                            stats_book[key + \"_by_value\"][key_ + \"_by_value\"][\"None\"] += 1\n",
    "                    \n",
    "                    stats_book[key] += 1\n",
    "                else:\n",
    "                    stats_book[key + \"_by_value\"][\"None\"] += 1 \n",
    "            \n",
    "        tags_count.append(tags_counter_i)\n",
    "    else:\n",
    "        stats_author[\"total\"] += 1\n",
    "        for key, value in babelio_item.items():\n",
    "            if key not in stats_author:\n",
    "                stats_author[key] = 0\n",
    "            if key + \"_by_value\" not in stats_author:\n",
    "                stats_author[key + \"_by_value\"] = {\"None\": 0}\n",
    "            if key not in [\"bio\", \"tags\", \"friends\", 'bibliography', 'media', 'prices']:\n",
    "                if value:\n",
    "                    if value not in stats_author[key + \"_by_value\"]:\n",
    "                        stats_author[key + \"_by_value\"][value] = 0\n",
    "                    stats_author[key + \"_by_value\"][value] += 1\n",
    "                    stats_author[key] += 1\n",
    "                else:\n",
    "                    stats_author[key + \"_by_value\"][\"None\"] += 1\n",
    "            elif key == \"bio\":\n",
    "                if value:\n",
    "                    if \" \".join(value) not in stats_author[key + \"_by_value\"]:\n",
    "                        stats_author[key + \"_by_value\"][\" \".join(value)] = 0\n",
    "                    stats_author[key + \"_by_value\"][\" \".join(value)] += 1\n",
    "                    stats_author[key] += 1\n",
    "                else:\n",
    "                    stats_author[key + \"_by_value\"][\"None\"] += 1\n",
    "            elif key == \"tags\":\n",
    "                for value_ in value:\n",
    "                    if value_:\n",
    "                        if value_[\"tag\"] not in stats_author[key + \"_by_value\"]:\n",
    "                            stats_author[key + \"_by_value\"][value_[\"tag\"]] = 0\n",
    "                        stats_author[key + \"_by_value\"][value_[\"tag\"]] += 1\n",
    "                        stats_author[key] += 1\n",
    "                    else:\n",
    "                        stats_author[key + \"_by_value\"][\"None\"] += 1\n",
    "\n",
    "            elif key in [\"friends\", 'bibliography', 'prices']:\n",
    "                for value_ in value:\n",
    "                    if value_:\n",
    "                        if value_ not in stats_author[key + \"_by_value\"]:\n",
    "                            stats_author[key + \"_by_value\"][value_] = 0\n",
    "                        stats_author[key + \"_by_value\"][value_] += 1\n",
    "                        stats_author[key] += 1\n",
    "                    else:\n",
    "                        stats_author[key + \"_by_value\"][\"None\"] += 1\n",
    "\n",
    "            elif key == 'media':\n",
    "                if value:\n",
    "                    for key_, value_ in value[0].items():\n",
    "                        if key_ not in stats_author[key + \"_by_value\"]:\n",
    "                            stats_author[key + \"_by_value\"][key_] = 0\n",
    "                        if key_ + \"_by_value\" not in stats_author[key + \"_by_value\"]:\n",
    "                            stats_author[key + \"_by_value\"][key_ + \"_by_value\"] = {\"None\": 0}\n",
    "                        if value_:\n",
    "                            if key_ == 'author' or key_ == 'description':\n",
    "                                value_ = \" \".join(value_)\n",
    "                            if value_ not in stats_author[key + \"_by_value\"][key_ + \"_by_value\"]:\n",
    "                                stats_author[key + \"_by_value\"][key_ + \"_by_value\"][value_] = 0\n",
    "                            stats_author[key + \"_by_value\"][key_ + \"_by_value\"][value_] += 1\n",
    "                            stats_author[key + \"_by_value\"][key_] += 1\n",
    "                        else:\n",
    "                            stats_author[key + \"_by_value\"][key_ + \"_by_value\"][\"None\"] += 1\n",
    "                else:\n",
    "                    stats_author[key + \"_by_value\"][\"None\"] += 1 \n",
    "\n",
    "print(\"babelio_loading_time: \", time.time() - Babaelio_loading_time)\n",
    "_ = format_result(stats_book)\n"
   ],
   "metadata": {
    "collapsed": false,
    "pycharm": {
     "name": "#%%\n",
     "is_executing": false
    }
   }
  },
  {
   "cell_type": "markdown",
   "source": [
    "#### Commentaire:\n",
    "\n",
    "total: 2041 livres\n",
    "\n",
    "valeurs nulles:\n",
    "- 451 livres n'ont pas de note soit 22%\n",
    "- 51 livres n'ont pas de résumé soit 2%\n",
    "- 921 livres n'ont pas de nombre de pages soit 45%\n"
   ],
   "metadata": {
    "collapsed": false,
    "pycharm": {
     "name": "#%% md\n"
    }
   }
  },
  {
   "cell_type": "code",
   "execution_count": 24,
   "outputs": [
    {
     "name": "stdout",
     "text": [
      "158  livres ont  9  tags\n187  livres ont  7  tags\n169  livres ont  8  tags\n79  livres ont  10  tags\n296  livres ont  20  tags\n102  livres ont  2  tags\n18  livres ont  1  tags\n217  livres ont  6  tags\n21  livres ont  17  tags\n220  livres ont  5  tags\n243  livres ont  4  tags\n197  livres ont  3  tags\n14  livres ont  19  tags\n18  livres ont  18  tags\n25  livres ont  11  tags\n13  livres ont  16  tags\n17  livres ont  15  tags\n20  livres ont  14  tags\n19  livres ont  12  tags\n8  livres ont  13  tags\n\n Nombre de livre par nombre de tags\n"
     ],
     "output_type": "stream"
    },
    {
     "data": {
      "text/plain": "<Figure size 432x288 with 1 Axes>",
      "image/png": "[encoded data removed]"
     },
     "metadata": {
      "needs_background": "light"
     },
     "output_type": "display_data"
    }
   ],
   "source": [
    "tags_counter = Counter(tags_count)\n",
    "total = 0\n",
    "for key, value in tags_counter.items():\n",
    "    total += int(key) * int(value)\n",
    "    print(value, \" livres ont \", key, \" tags\")\n",
    "\n",
    "print(\"\\n Nombre de livre par nombre de tags\")\n",
    "x, y = zip(*sorted(tags_counter.items()))\n",
    "plt.plot(x,y)\n",
    "plt.show()\n"
   ],
   "metadata": {
    "collapsed": false,
    "pycharm": {
     "name": "#%%\n",
     "is_executing": false
    }
   }
  }
 ],
 "metadata": {
  "language_info": {
   "codemirror_mode": {
    "name": "ipython",
    "version": 2
   },
   "file_extension": ".py",
   "mimetype": "text/x-python",
   "name": "python",
   "nbconvert_exporter": "python",
   "pygments_lexer": "ipython2",
   "version": "2.7.6"
  },
  "kernelspec": {
   "name": "pycharm-4836ba77",
   "language": "python",
   "display_name": "PyCharm (projet)"
  },
  "pycharm": {
   "stem_cell": {
    "cell_type": "raw",
    "source": [],
    "metadata": {
     "collapsed": false
    }
   }
  }
 },
 "nbformat": 4,
 "nbformat_minor": 0
}