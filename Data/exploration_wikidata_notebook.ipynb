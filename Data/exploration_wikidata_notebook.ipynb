{
 "cells": [
  {
   "cell_type": "code",
   "execution_count": 3,
   "metadata": {
    "collapsed": true
   },
   "outputs": [],
   "source": [
    "import Levenshtein\n",
    "import requests\n",
    "\n",
    "from tqdm import tqdm\n",
    "from statistics import mean\n",
    "\n",
    "from extract_books_from_DB import *"
   ]
  },
  {
   "cell_type": "code",
   "execution_count": 2,
   "outputs": [
    {
     "name": "stdout",
     "output_type": "stream",
     "text": [
      "ADP_loading_time:  10.358738422393799\n",
      "DL_loading_time:  42.671600580215454\n",
      "ILE_loading time:  14.520714044570923\n",
      "loading_data_time:  67.851145029068\n",
      "recoupement des auteurs\n",
      "{'total': 21515, 'ADP': 5201, 'ILE': 0, 'Hurtubise': 884, 'Babelio': 1651, 'Depot_legal': 13779}\n"
     ]
    },
    {
     "name": "stderr",
     "output_type": "stream",
     "text": [
      "100%|██████████| 102985/102985 [00:00<00:00, 122249.71it/s]\n"
     ]
    }
   ],
   "source": [
    "all_books = generate_all_books()"
   ],
   "metadata": {
    "collapsed": false,
    "pycharm": {
     "name": "#%%\n"
    }
   }
  },
  {
   "cell_type": "code",
   "execution_count": null,
   "outputs": [],
   "source": [
    "author_ls = {}\n",
    "\n",
    "for book in tqdm(all_books, total=len(all_books)):\n",
    "    for author in book.authors:\n",
    "        if author not in author_ls:\n",
    "            author_ls[author] = [book]\n",
    "        else:\n",
    "            author_ls[author].append(book)\n",
    "\n",
    "with open('authors_ls.json', 'w') as outfile:\n",
    "    json.dump(author_ls, outfile, cls=BookJSONEncoder)\n",
    "\n",
    "raw_author_ls = {}\n",
    "\n",
    "for book in tqdm(all_books, total=len(all_books)):\n",
    "    for author in book.authors_raw:\n",
    "        if author not in author_ls:\n",
    "            author_ls[author] = [book]\n",
    "        else:\n",
    "            author_ls[author].append(book)\n",
    "\n",
    "with open('raw_authors_ls.json', 'w') as outfile:\n",
    "    json.dump(author_ls, outfile, cls=BookJSONEncoder)"
   ],
   "metadata": {
    "collapsed": false,
    "pycharm": {
     "name": "#%%\n"
    }
   }
  },
  {
   "cell_type": "code",
   "execution_count": 4,
   "outputs": [],
   "source": [
    "\"\"\"\n",
    "Numero de prop importante:\n",
    "- sex or gender (P21)\n",
    "- country of citizenship (P27)\n",
    "- name in native language (P1559)\n",
    "- birth name (P1477)\n",
    "-  given name  (P735)\n",
    "- family name (P734)\n",
    "- date of birth (P569)\n",
    "- place of birth (P19)\n",
    "- date of death  (P570)\n",
    "- place of death  (P20)\n",
    "- occupation (P106)\n",
    "    - author (Q482980)\n",
    "    - writer (Q36180)\n",
    "- notable work (P800)\n",
    "- genre (P136)\n",
    "- award received (P166)\n",
    "- nominated for (P1411)\n",
    "- country of citizenship (P27)\n",
    "\n",
    "premiere query: ecrivain canadiens parlant/ecrivant en francais => 1232 resultats\n",
    "SELECT ?item ?itemLabel\n",
    "WHERE\n",
    "{{\n",
    "\n",
    "    ?item wdt:P31 wd:Q5 .\n",
    "    ?item wdt:P106 wd:Q36180 .\n",
    "    ?item wdt:P27 wd:Q16 .\n",
    "    ?item wdt:P1412 wd:Q150\n",
    "\n",
    "    SERVICE wikibase:label { bd:serviceParam wikibase:language \"[AUTO_LANGUAGE],en\".}\n",
    "}}\n",
    "\n",
    "deuxieme query: ecrivain canadiens parlant/ecrivant en francais qui ont un produit notable => 82 resultats\n",
    "SELECT ?item ?itemLabel ?bookLabel\n",
    "WHERE\n",
    "{\n",
    "\n",
    "  ?item wdt:P31 wd:Q5 .\n",
    "  ?item wdt:P106 wd:Q36180 .\n",
    "  ?item wdt:P27 wd:Q16 .\n",
    "  ?item wdt:P1412 wd:Q150 .\n",
    "  ?item wdt:P800 ?book\n",
    "\n",
    "  SERVICE wikibase:label { bd:serviceParam wikibase:language \"[AUTO_LANGUAGE],en\".}\n",
    "}\n",
    "\n",
    "\"\"\""
   ],
   "metadata": {
    "collapsed": false,
    "pycharm": {
     "name": "#%%\n"
    }
   }
  },
  {
   "cell_type": "code",
   "execution_count": 12,
   "outputs": [
    {
     "name": "stderr",
     "output_type": "stream",
     "text": [
      "100%|██████████| 11/11 [00:56<00:00,  5.13s/it]\n"
     ]
    },
    {
     "name": "stdout",
     "output_type": "stream",
     "text": [
      "tset query\n",
      "Nombre d'auteurs trouvés:  9  soit  81.81818181818181 %\n"
     ]
    }
   ],
   "source": [
    "# On recherche par nom, et par occupation (occupation fille de \"ecrivant\"), et on en récupère les labels\n",
    "q = \"\"\"\n",
    "SELECT DISTINCT ?s ?book ?bookLabel\n",
    "WHERE\n",
    "{{\n",
    "    ?s wdt:P31 wd:Q5 .\n",
    "    ?s wdt:P106 ?occup .\n",
    "    ?occup wdt:P279 wd:Q36180 .\n",
    "\n",
    "    {{ ?s rdfs:label \"{0}\"@fr }} UNION {{ ?s rdfs:label \"{0}\"@en }} UNION {{ ?s skos:altLabel \"{0}\"@fr }} .\n",
    "    OPTIONAL {{ ?s wdt:P800 ?book . }}\n",
    "\n",
    "    SERVICE wikibase:label {{ bd:serviceParam wikibase:language \"fr,en\".}}\n",
    "}}\n",
    "\"\"\""
   ],
   "metadata": {
    "collapsed": false,
    "pycharm": {
     "name": "#%%\n"
    }
   }
  },
  {
   "cell_type": "code",
   "execution_count": null,
   "outputs": [],
   "source": [
    "# test with famous authors\n",
    "\n",
    "famous = ['Michel Tremblay', 'Anne Hébert', 'Gabrielle Roy', 'Marie Cardinal', 'Réjean Ducharme',\n",
    "                'Jacques Ferron', 'Victor-Lévy Beaulieu', 'Marcel Dubé', 'Yves Thériault', 'Jacques Poulin',\n",
    "                'André Langevin']\n",
    "\n",
    "search_results = {}\n",
    "print('tset query')\n",
    "nb_author_found = 0\n",
    "for author in tqdm(famous, total=len(famous)):\n",
    "    time.sleep(1)\n",
    "    rep_wikidata_ecrivain = requests.get('https://query.wikidata.org/sparql?format=json&query=' + q.format(author))\n",
    "\n",
    "    if rep_wikidata_ecrivain.status_code == 429:\n",
    "        print(\"trop rapide !!!\")\n",
    "\n",
    "    if rep_wikidata_ecrivain.status_code == 200:\n",
    "        if len(rep_wikidata_ecrivain.json()['results']['bindings']) > 0:\n",
    "            nb_author_found += 1\n",
    "            search_results[author] = {'id':rep_wikidata_ecrivain.json()['results']['bindings'][0]['s']['value'], 'books':[]}\n",
    "            for result in rep_wikidata_ecrivain.json()['results']['bindings']:\n",
    "                try:\n",
    "                    search_results[author]['books'].append({'book_id': result['book']['value'], 'book_label': result['bookLabel']['value']})\n",
    "                except KeyError:\n",
    "                    pass\n",
    "print(\"Nombre d'auteurs trouvés: \", nb_author_found, \" soit \", nb_author_found * 100/len(famous), \"%\")"
   ],
   "metadata": {
    "collapsed": false,
    "pycharm": {
     "name": "#%%\n"
    }
   }
  },
  {
   "cell_type": "code",
   "execution_count": 14,
   "outputs": [
    {
     "name": "stderr",
     "output_type": "stream",
     "text": [
      "100%|██████████| 21515/21515 [7:14:56<00:00,  1.21s/it]   \n"
     ]
    },
    {
     "name": "stdout",
     "output_type": "stream",
     "text": [
      "query\n",
      "trop rapide !!!\n",
      "trop rapide !!!\n",
      "trop rapide !!!\n",
      "trop rapide !!!\n",
      "trop rapide !!!\n",
      "trop rapide !!!\n",
      "trop rapide !!!\n",
      "trop rapide !!!\n",
      "trop rapide !!!\n",
      "Nombre d'auteurs trouvés:  2582  soit  12.000929584011155 %\n"
     ]
    }
   ],
   "source": [
    "# recherche par auteurs\n",
    "\n",
    "search_results = {}\n",
    "print('query')\n",
    "nb_author_found = 0\n",
    "for author in tqdm(raw_author_ls, total=len(raw_author_ls)):\n",
    "    time.sleep(1)\n",
    "    rep_wikidata_ecrivain = requests.get('https://query.wikidata.org/sparql?format=json&query=' + q.format(author))\n",
    "\n",
    "    if rep_wikidata_ecrivain.status_code == 429:\n",
    "        print(\"trop rapide !!!\")\n",
    "\n",
    "    if rep_wikidata_ecrivain.status_code == 200:\n",
    "        if len(rep_wikidata_ecrivain.json()['results']['bindings']) > 0:\n",
    "            nb_author_found += 1\n",
    "            search_results[author] = {'id':rep_wikidata_ecrivain.json()['results']['bindings'][0]['s']['value'], 'books':[]}\n",
    "            for result in rep_wikidata_ecrivain.json()['results']['bindings']:\n",
    "                try:\n",
    "                    search_results[author]['books'].append({'book_id': result['book']['value'], 'book_label': result['bookLabel']['value']})\n",
    "                except KeyError:\n",
    "                    pass\n",
    "print(\"Nombre d'auteurs trouvés: \", nb_author_found, \" soit \", nb_author_found * 100/len(raw_author_ls), \"%\")\n",
    "\n",
    "with open('wikidata_author_&_books_found_by_name_search.json', 'w') as outfile:\n",
    "    json.dump(search_results, outfile)"
   ],
   "metadata": {
    "collapsed": false,
    "pycharm": {
     "name": "#%%\n"
    }
   }
  },
  {
   "cell_type": "code",
   "execution_count": 6,
   "outputs": [
    {
     "name": "stdout",
     "output_type": "stream",
     "text": [
      "code_status:  200\n"
     ]
    }
   ],
   "source": [
    "# On cherche maintenant tout les auteurs francophones de wikidata pour faire la recherche localement\n",
    "all_authors_query = \"\"\"\n",
    "SELECT DISTINCT ?author ?authorLabel ?bookLabel ?awardLabel\n",
    "WHERE\n",
    "{\n",
    "    ?author wdt:P31 wd:Q5 .\n",
    "    ?author wdt:P27 ?country .\n",
    "    ?country wdt:P2936 wd:Q150 .\n",
    "    ?author wdt:P106 ?occup .\n",
    "    ?occup wdt:P279 wd:Q36180\n",
    "\n",
    "    OPTIONAL { ?author wdt:P800 ?book . }\n",
    "    OPTIONAL { ?author wdt:P166 ?award . }\n",
    "\n",
    "    SERVICE wikibase:label { bd:serviceParam wikibase:language \"fr,en\".}\n",
    "\n",
    "}\"\"\"\n",
    "rep_wikidata_ecrivain = requests.get('https://query.wikidata.org/sparql?format=json&query=' + all_authors_query)\n",
    "print('code_status: ', rep_wikidata_ecrivain.status_code)\n",
    "if rep_wikidata_ecrivain.status_code == 200:\n",
    "    if len(rep_wikidata_ecrivain.json()['results']['bindings']) > 0:\n",
    "        print('success ! Nombre d\\e lignes: ', len(rep_wikidata_ecrivain.json()['results']['bindings']))"
   ],
   "metadata": {
    "collapsed": false,
    "pycharm": {
     "name": "#%%\n"
    }
   }
  },
  {
   "cell_type": "code",
   "execution_count": 10,
   "outputs": [],
   "source": [
    "# On sauvegarde le résultat de la recherche car elle peut échouer en fonction de la charge sur les serveurs de wikidata\n",
    "if rep_wikidata_ecrivain.status_code == 200:\n",
    "    if len(rep_wikidata_ecrivain.json()['results']['bindings']) > 0:\n",
    "        with open('Wikidata/request_allfrench_author_books_price_wikidata.json', 'w') as output_file:\n",
    "            json.dump(rep_wikidata_ecrivain.json()['results']['bindings'], output_file)"
   ],
   "metadata": {
    "collapsed": false,
    "pycharm": {
     "name": "#%%\n"
    }
   }
  },
  {
   "cell_type": "code",
   "execution_count": 6,
   "outputs": [],
   "source": [
    "with open('Wikidata/request_allfrench_author_books_price_wikidata.json') as input_file:\n",
    "    res = json.load(input_file)\n",
    "\n",
    "cleaned_data = {}\n",
    "\n",
    "for result in res:\n",
    "    try:\n",
    "        cleaned_data[result['author']]['works'].add(result['bookLabel'])\n",
    "        cleaned_data[result['author']]['awards'].add(result['awardLabel'])\n",
    "    except KeyError:\n",
    "        cleaned_data[result['author']] = {\n",
    "            'author_uri': result['author'],\n",
    "            'author_label': result['authorLabel'],\n",
    "            'works': {[result['bookLabel']]} if 'bookLable' in result else set(),\n",
    "            'awards': {result['awardLabel']} if 'awardLabel' in result else set()\n",
    "        }\n",
    "\n",
    "with open('Wikidata/parsed_request_allfrench_author_books_price_wikidata.json', 'w') as output_file:\n",
    "    json.dump(cleaned_data, output_file, cls=BookJSONEncoder)"
   ],
   "metadata": {
    "collapsed": false,
    "pycharm": {
     "name": "#%%\n"
    }
   }
  },
  {
   "cell_type": "code",
   "execution_count": 9,
   "outputs": [
    {
     "name": "stderr",
     "output_type": "stream",
     "text": [
      "100%|██████████| 18826/18826 [07:38<00:00, 41.09it/s]\n"
     ]
    },
    {
     "name": "stdout",
     "output_type": "stream",
     "text": [
      "nombre d'autheurs en commun:  1277  soit  6.544019678179768 %\n",
      "nombre d'autheurs reconnus:  1345  soit  1.0532498042286609  auteur dans nos bases de donnée par auteur reconnu dans wikidata\n",
      "Frequence de reconnaissance des 10 auteurs de wikidata les plus reconnus:  [('Michel Côté', 3), ('Denise Boucher', 3), ('Michel Tremblay', 3), ('Sylvie Bérard', 3), ('Jean-Claude Lauzon', 2), ('Michel Marc Bouchard', 2), ('Denis Thériault', 2), ('Gaëtan Brulotte', 2), ('Jacques Godbout', 2), ('Francis Simard', 2)]\n",
      "Répartition des livres des auteurs reconnus dans les bases de données: \n",
      "1/8:  {\"ILE\": 13478, \"Depot_legal\": 8764, \"ADP\": 2681, \"Babelio\": 629}\n",
      "20 premiers couples à la limite d'être considérés comme égaux\n",
      "Autheur DB:  david descoteaux                         Autheur wikidata:  david decoteau\n",
      "Autheur DB:  pierre lambert                           Autheur wikidata:  pierre aubert\n",
      "Autheur DB:  pierre hebert                            Autheur wikidata:  pierre aubert\n",
      "Autheur DB:  etienne poirier                          Autheur wikidata:  etienne perier\n",
      "Autheur DB:  fernand emond                            Autheur wikidata:  bernard emond\n",
      "Autheur DB:  michael colgan                           Autheur wikidata:  michael hogan\n",
      "Autheur DB:  francois ricard                          Autheur wikidata:  francois girard\n",
      "Autheur DB:  francois simard                          Autheur wikidata:  francois girard\n",
      "Autheur DB:  francois picard                          Autheur wikidata:  francois girard\n",
      "Autheur DB:  patrick bernard                          Autheur wikidata:  patrick bernauw\n",
      "Autheur DB:  michael ulmer                            Autheur wikidata:  michael rymer\n",
      "Autheur DB:  claude bernier                           Autheur wikidata:  claude meunier\n",
      "Autheur DB:  claude messier                           Autheur wikidata:  claude meunier\n",
      "Autheur DB:  claire gagnon                            Autheur wikidata:  claude gagnon\n",
      "Autheur DB:  claire demers                            Autheur wikidata:  claude demers\n",
      "Autheur DB:  claude renault                           Autheur wikidata:  claude legault\n",
      "Autheur DB:  denyse langlois                          Autheur wikidata:  denis langlois\n",
      "Autheur DB:  dee henderson                            Autheur wikidata:  dell henderson\n",
      "Autheur DB:  andre duhaime                            Autheur wikidata:  andre ducharme\n",
      "Autheur DB:  alain boudreault                         Autheur wikidata:  alain boudreau\n"
     ]
    }
   ],
   "source": [
    "# Comparaison avec wikidata\n",
    "with open('Wikidata/parsed_request_allfrench_author_books_price_wikidata.json', 'r') as author_file:\n",
    "    wikidata_authors = json.load(author_file)\n",
    "\n",
    "with open('authors_ls.json', 'r') as input_file:\n",
    "    author_ls = json.load(input_file, cls=BookJSONDecoder)\n",
    "\n",
    "# Couple dont on estime que les deux auteurs sont les mêmes\n",
    "couple_writers = []\n",
    "# Couple dont on estime que les deux auteurs sont différents mais à la limite d'être les mêmes\n",
    "neg_couple_writers = []\n",
    "\n",
    "# Compte les livres des auteurs par base de donnée (permet de voir si une base de donnée n'a aucun match)\n",
    "data_base_stats = {}\n",
    "# Compte les auteurs de wikidata qui ont été trouvé dans nos bases de donnée\n",
    "found_at_least_once = 0\n",
    "# Compte le nombre de couples\n",
    "nb_couple = 0\n",
    "# Compte le nombre de fois qu'un auteur de wikidata a été trouvé dans nos bases de donnée\n",
    "author_found_freq = {}\n",
    "\n",
    "for wiki_author_id, wiki_author_info in tqdm(wikidata_authors.items()):\n",
    "    normalised_wikidata_title = normalize(wiki_author_info['author_label'])\n",
    "    # Compte le nombre de fois que l'auteur wikidata a été associé a un auteur de nos bases de donnée\n",
    "    wiki_author_found_count = 0\n",
    "    for DB_author, DB_author_books in author_ls.items():\n",
    "        dist_auteur = Levenshtein.distance(DB_author, normalised_wikidata_title)\n",
    "        if max(1, min(len(DB_author), len(normalised_wikidata_title)) / 6) > dist_auteur > max(1, min(len(DB_author), len(normalised_wikidata_title)) / 8):\n",
    "            neg_couple_writers.append({\n",
    "                        'author_DB': {'name': DB_author, 'books': DB_author_books},\n",
    "                        'author_wiki': {'name': normalised_wikidata_title,\n",
    "                                        'name_raw': wiki_author_info['author_label'],\n",
    "                                        'info': wiki_author_info}\n",
    "                        })\n",
    "        elif dist_auteur < max(1, min(len(DB_author), len(normalised_wikidata_title)) / 8):\n",
    "\n",
    "            new_couple = {\n",
    "                        'author_DB': {'name': DB_author, 'books': DB_author_books},\n",
    "                        'author_wiki': {'name': normalised_wikidata_title,\n",
    "                                        'name_raw': wiki_author_info['author_label'],\n",
    "                                        'info': wiki_author_info}\n",
    "                    }\n",
    "\n",
    "            nb_couple += 1\n",
    "            wiki_author_found_count += 1\n",
    "\n",
    "            couple_writers.append(new_couple)\n",
    "            for book in DB_author_books:\n",
    "                try:\n",
    "                    data_base_stats[book['data_base']] += 1\n",
    "                except:\n",
    "                    data_base_stats[book['data_base']] = 1\n",
    "\n",
    "    if wiki_author_found_count:\n",
    "        found_at_least_once += 1\n",
    "        author_found_freq[wiki_author_info['author_label']] = wiki_author_found_count\n",
    "\n",
    "print(\"nombre d'autheurs en commun: \", found_at_least_once, \" soit \", found_at_least_once * 100 / len(list(author_ls)), \"%\")\n",
    "print(\"nombre d'autheurs reconnus: \", nb_couple, \" soit \", nb_couple/found_at_least_once, ' auteur dans nos bases de donnée par auteur reconnu dans wikidata')\n",
    "print(\"Frequence de reconnaissance des 10 auteurs de wikidata les plus reconnus: \", sorted(author_found_freq.items(), key=lambda item: item[1], reverse=True)[:10])\n",
    "\n",
    "\n",
    "print(\"Répartition des livres des auteurs reconnus dans les bases de données: \")\n",
    "print('1/8: ', json.dumps(data_base_stats))\n",
    "\n",
    "print(\"20 premiers couples à la limite d'être considérés comme égaux\")\n",
    "for couple in neg_couple_writers[:20]:\n",
    "    print(\"Autheur DB: \", couple['author_DB']['name'] + \" \" * (40 - len(couple['author_DB']['name'])),\n",
    "          \"Autheur wikidata: \", couple['author_wiki']['name'])\n",
    "\n",
    "with open('Wikidata/couple_authors_wikidata.json', 'w') as outfile:\n",
    "    json.dump(couple_writers, outfile, cls=BookJSONEncoder)"
   ],
   "metadata": {
    "collapsed": false,
    "pycharm": {
     "name": "#%%\n"
    }
   }
  },
  {
   "cell_type": "code",
   "execution_count": 13,
   "outputs": [
    {
     "name": "stdout",
     "output_type": "stream",
     "text": [
      "Nombre d'artiste ayant des livres attribués:  61\n",
      "Nombre de livres global récupérés:  193\n",
      "Nombre d'artiste ayant des prix attribués:  414\n",
      "Nombre de prix global récupérés:  1117\n",
      "exemple des prix:  {'Golden Globe de la meilleure actrice dans un film dramatique', \"Ours d'or\", 'prix Booker', 'Panthéon de la musique canadienne', 'prix Schiller', \"prix de poésie de la ville d'Angers\", 'prix Mercier', 'prix Sant Jordi du cinéma', 'Prix Gilles-Corbeil', 'Prix de la bande à Mœbius', 'Prix des lecteurs du Marché de la poésie de Montréal', 'Prix du grand public du Salon du livre de Montréal - La Presse', 'PEN/Nabokov Award', 'Prix des Écrivains francophones d’Amérique', 'prix Denise-Pelletier', 'Aurora Award for Best Graphic Novel', 'Gerald Lampert Award', 'prix international Man-Booker', 'prix du scénario du Festival de Cannes', 'prix Tollander', 'Neustadt International Prize for Literature', 'Zamenhof award', 'prix Anthony', 'Stella Prize', 'prix Viareggio', 'Prix littéraire Adrienne-Choquette', \"docteur honoris causa de l'Université de Montréal\", 'prix Louis-Guilloux', 'prix Rea', \"Ours d'argent de la meilleure actrice\", 'grand prix du roman métis', 'grand prix de la francophonie', 'personnage historique identifié', 'British Academy Film Award de la meilleure actrice', 'Oscar de la meilleure actrice', 'prix du Gouverneur général', \"docteur honoris causa de l'université de Vienne\", 'Canada Council Senior Arts Fellowship', 'Membre de l’Ordre du Canada', 'grand prix du théâtre (Académie française)', 'prix Nobel de littérature', 'prix Franz-Kafka', 'Zilveren Griffel', 'Asian/Pacific American Awards for Literature', 'chevalier du Mérite wallon', '24e cérémonie des Prix Génie', \"membre de l'Académie royale des arts du Canada\", 'PEN Pinter Prize', 'prix Casa de las Américas', 'coupe Volpi pour la meilleure interprétation féminine', 'Prix Victor-Barbeau', 'Kampé de Fériet Award', 'Prix Alvine-Bélisle', \"chevalier de l'ordre national du Québec\", \"grand officier de la Légion d'honneur\", \"Ordre des francophones d'Amérique\", 'Société des Dix', 'Prix du cinéma suisse', 'prix WH Smith', 'prix Thyde-Monnier', 'Prix Primeurs', 'prix Broquette-Gonin', 'Prize Italo Calvino', \"commandeur de l'ordre national du Mérite\", 'ordre du Sourire', 'Prix Gabrielle-Roy', 'Q809002', 'prix Guillaume-Apollinaire', 'prix PEN/Malamud', 'prix du Cercle du livre de France', \"docteur honoris causa de l'Université d'Ottawa\", 'Griffin Poetry Prize', 'Prix Félix', 'prix Formentor', \"chevalier grand-croix de l'ordre du Mérite de la République italienne\", \"docteur honoris causa de l'université de Liège\", 'Canadian Film Award', 'prix Rauriser de littérature', \"grand officier de l'ordre de la Couronne de chêne\", 'prix Médicis', 'Prix Louise-Labé', 'prix Québec-Paris', \"chevalier de l'ordre de la Pléiade\", \"prix Juno du compositeur de l'année\", 'médaille Jacques-Blanchet', 'prix Max-Pol-Fouchet', 'commandeur des Arts et des Lettres', 'prix de la paix des libraires allemands', \"officier de l'ordre de l'Empire britannique\", 'prix Molson', 'Matt Cohen Award', 'Prix Saint-Pacôme', 'prix Jean-Arp de littérature francophone', 'Prix du Gouverneur général : théâtre de langue française', 'médaille Rumford', 'Grand prix du livre de Montréal', 'Hammett Prize', 'prix Patrick White', 'Walk of Fame', 'Rock and Roll Hall of Fame', 'prix Archon-Despérouses', \"grand prix de l'Imaginaire\", 'prix Helmerich', \"membre de l'Académie américaine des arts et des sciences\", 'prix du Gouverneur général : romans et nouvelles de langue anglaise', 'prix Giller', 'bourse Fulbright', 'Q48806967', 'prix Goncourt des lycéens', 'prix Tristan-Tzara', 'compagnon de la Royal Society of Literature', 'prix Peter Pan', \"docteur honoris causa de l'université McGill\", 'prix Médicis essai', \"officier de l'ordre du Mérite culturel de Monaco\", 'Batty Weber Prize', 'Q37878921', 'prix Prince-Pierre-de-Monaco', 'prix Nelly-Sachs', 'Canadian Library Association Young Adult Book Award', 'Ordre du Canada', 'Prix Pierre de Régnier', \"prix Juno de l'artiste de l'année\", 'CWA New Blood Dagger', 'Combat des livres', 'médaille du centenaire de l’université Harvard', \"Prix TD de littérature canadienne pour l'enfance et la jeunesse\", 'Société royale du Canada', 'prix Winsor-McCay', 'Ken Kesey Award for Fiction', 'prix Émile-Nelligan', 'prix Acfas André-Laurendeau', \"grand prix de poésie de l'Académie française\", 'prix des libraires', \"membre de l'ordre d'Australie\", \"commandeur de l'ordre de l'Empire britannique\", 'prix Guy-Mauffette', 'prix Auguste-Capdeville', 'prix du Meilleur livre étranger', 'Fiducies Killam', 'prix Roger-Nimier', 'prix Femina', 'bourse Guggenheim', 'médaille Cothenius', 'Médaille de la gratitude', 'Pat Lowther Award', 'médaille Anni-Swan', \"ordre de l'Ontario\", 'prix de littérature française de la Ville de Tournai', \"officier de l'ordre national du Québec\", 'Seiun Award for Best Translated Novel', 'prix Goethe de la Ville de Francfort', 'Toronto Book Awards', 'Prix du Gouverneur général : poésie de langue anglaise', 'prix Marcelin-Guérin', 'Grand Prix littéraire Archambault', 'Los Angeles Times Book Prize', 'Harry Jerome Award', 'Liste Goncourt : le choix polonais', \"chevalier grand-croix de l'ordre du Saint-Sépulcre\", 'prix RFO du livre', 'National Book Critics Circle Award', \"docteur honoris causa de l'université Harvard\", 'prix Anisfield-Wolf', 'Compagnon de l’Ordre du Canada', \"docteur honoris causa de l'université de Toronto\", 'prix Mondello', \"docteur honoris causa de l'université de l'Alberta\", 'Floyd S. Chalmers Canadian Play Award', \"humaniste de l'année\", 'honoris causa', 'Bourse Rhodes', 'Prix Suisse-Canada', 'prix Otherwise', \"Médaille de l'Académie des lettres du Québec\", \"grand officier de l'ordre national du Québec\", \"Commonwealth Writers' Prize\", 'prix Acfas Marcel-Vincent', 'prix Mallarmé', 'The Story Prize', 'Prix Louis-Guillaume', 'médaille Dromkeen', 'Prix Siminovitch', 'Prix Georges-Émile-Lapalme', \"médaille Pro Finlandia de l'ordre du Lion de Finlande\", 'prix Médicis étranger', 'prix France Culture', 'Prix du cinéma européen du meilleur film non-européen', 'Prix du Gouverneur général : littérature jeunesse de langue française - illustration', \"hallebarde d'or\", 'prix du Gouverneur général : poésie ou théâtre de langue anglaise', \"docteur honoris causa de l'université de Waterloo\", 'Christopher Brennan Award', 'prix Bauernfeld', 'prix Finlandia', 'prix Marian Engel', \"Prix Guy-L'Écuyer\", 'prix Acfas Léo-Pariseau', 'prix Strega', \"Oscar du meilleur court métrage d'animation\", 'médaille du Centenaire', 'Panthéon des auteurs et compositeurs canadiens', 'personnage historique désigné', 'prix Athanase-David', 'prix George-Polk', 'AACTA Award du meilleur scénario adapté', 'ordre des Arts et des Lettres', \"docteur honoris causa de l'université de Windsor\", 'Prix de littérature Windham-Campbell', \"prix littéraire de l'Université de Saint-Louis\", 'Prix du Gouverneur général : romans et nouvelles de langue française', 'prix Maurice et Gisèle Gauchez-Philippot', \"commandeur de la Légion d'honneur\", \"Ruban d'argent de la meilleure actrice dans un second rôle\", \"docteur honoris causa de l'université Laval\", 'Prix Jeunesse des univers parallèles', 'Prix Ludger-Duvernay', \"Palme d'or du court métrage\", 'Prix des nouveaux réalisateurs de la Directors Guild of Japan', 'Ethel Wilson Fiction Prize', 'officier des Arts et des Lettres', 'prix Rambert', 'prix Kléber-Haedens', 'prix Goncourt de la nouvelle', 'prix Nils-Holgersson', 'prix Arthur C. Clarke', \"ordre de l'Amitié\", 'prix O. Henry', 'prix Miles Franklin', 'prix Raymond-Klibansky', 'prix de la langue française', 'Prix Marcel-Couture', \"docteur honoris causa de l'université Pierre-et-Marie-Curie\", 'prix Arthur-Ellis', 'prix de poésie Pierrette-Micheloud', 'Prix Iris-Hommage', 'prix du livre M. Christie', 'prix Tähtivaeltaja', 'Prix Servais', 'Songwriters Hall of Fame', 'pensionnaire de la villa Médicis', \"chevalier de l'ordre national du Mérite\", 'Jussi Awards 1968', 'Cornplanter Medal', 'prix Champlain', 'Mårbacka Award', \"chevalier de la Légion d'honneur\", 'grand prix du Festival de Cannes', \"prix Finlande de l'Académie suédoise\", \"Grammy Award de l'album de l'année\", 'Ordre du Nouveau-Brunswick', 'prix Max-Jacob', 'Langston Hughes Medal', 'Prix Jean-Éthier-Blais', 'prix Édouard-Glissant', 'Royal Society of Arts', 'prix Goncourt', 'prix littéraire PEN Oakland/Josephine Miles', 'prix littéraire des Caraïbes', 'Golden Wreath', 'prix Marcel Thiry', 'Prix Félix-Antoine-Savard', 'prix des libraires du Québec', 'Prix de la Communauté flamande du Mérite culturel général', 'prix Selma-Lagerlöf', 'prix Edgar-Allan-Poe', 'Grand Prix des lectrices de ELLE Québec', 'prix du Livre Inter', 'prix Albert-Tessier', \"prix de la laïcité de l'association Comité Laïcité République\", \"Ruban d'argent du meilleur sujet\", 'David di Donatello de la meilleure actrice principale', 'prix Dilys', 'prix Raymond-Chandler', 'prix Lionel-Groulx', 'ordre du mérite de la République italienne', 'prix de poésie Kenneth Slessor', 'prix du Gouverneur général pour les arts du spectacle', 'Prix de la Vocation en poésie', 'prix Nobel de chimie', 'prix littéraire Canada-Communauté française de Belgique', \"Officier de l'Ordre du Canada\", 'Genie Award for Best Screenplay', 'prix Orange du livre', 'Prix Ringuet', 'prix Bagutta', 'prix Fénéon', \"Grammy du couronnement d'une carrière\", 'prix Princesse des Asturies', \"Rogers Writers' Trust Fiction Prize\", 'Prix Alibis', 'prix Campiello', 'Montaigne-Preis', 'Prix Bogolioubov', 'prix Dora Mavor Moore', 'prix Roland de Jouvenel', 'Prix Jean-Hamelin', 'prix Princesse des Asturies de littérature', 'Médaille Lorne Pierce', 'prix PEN de traduction de poésie', 'prix Eric-Gregory', 'prix Pulitzer de la fiction', 'prix David', 'Prix Anne-Hébert', 'Prix Extraordinaire des Utopiales', 'prix Ahmadou-Kourouma', 'prix Goncourt de la poésie', 'Académie des lettres du Québec', 'Prix Alain-Grandbois', 'Grammy Awards', 'prix littéraire du Gouverneur général', \"compagnon d'honneur\", \"Compagne/Compagnon de l'Ordre des arts et des lettres du Québec\", 'prix Trillium', 'allée des célébrités canadiennes', \"prix Juno de la vidéo de l'année\", 'prix Lambda Literary', 'grand prix de poésie de la SGDL', \"Ruban d'argent du meilleur réalisateur\", 'New York Film Critics Circle', 'National Board of Review Award de la meilleure actrice', 'prix du Québec', 'Prix Arthur-Buies', \"docteur honoris causa de l'université de la Colombie-Britannique\", 'prix Acfas Jacques-Rousseau', \"officier de la Légion d'honneur\", 'Plaque Elsa-Beskow', 'prix Renaudot', 'Earle Grey Award', 'Berlin Prize', 'grand prix de littérature de la SGDL', 'prix Maurice Carême', 'prix du livre jeunesse des bibliothèques de Montréal', 'Prix littéraire Desjardins', 'Aurealis Award for best science fiction novel', 'Prix Napoli', \"docteur honoris causa de l'université de Valladolid\", \"Officier de l'Ordre de Montréal\", \"grand prix littéraire d'Afrique noire\", 'prix Francqui', 'Lucy Award', 'Prix Gratien-Gélinas', 'prix Gottfried-Keller', 'Oscar du meilleur scénario adapté', 'Svenska Akademiens stora pris', 'American Book Awards', 'prix Roger-Caillois', 'prix Gémeaux', 'prix Victor-Rossel', 'prix Hans-Christian-Andersen', 'chevalier des Arts et des Lettres', 'prix Glenn-Gould', 'prix de littérature religieuse', 'membre de la Royal Society', 'Shelley Memorial Award', \"Ruban d'argent de la meilleure actrice\", 'Pour le Mérite pour les sciences et arts', 'Prix Casper', 'Honda Prize', 'prix MacArthur', 'prix Antonio-Feltrinelli', 'Prix Agatha', 'prix Kurt-Tucholsky', 'médaille Pierre-Chauveau', 'grand prix RTL-Lire', 'Prix Robert-Cliche', 'prix Dan-David', \"octave d'honneur\", 'officier des Palmes académiques', 'membre de la Société royale du Canada', \"ordre national de la Légion d'honneur\", 'Kinema Junpo', 'officier du Mérite wallon', \"docteur honoris causa de l'université Concordia\"}\n"
     ]
    }
   ],
   "source": [
    "count_books = 0\n",
    "nb_books_for_each_wiki_author = []\n",
    "\n",
    "count_awards = 0\n",
    "nb_awards_for_each_wiki_author = []\n",
    "\n",
    "all_awards_name = set()\n",
    "\n",
    "for couple in couple_writers:\n",
    "    if couple['info_wikidata']['works']:\n",
    "        count_books += 1\n",
    "\n",
    "    if couple['info_wikidata']['awards']:\n",
    "        count_awards += 1\n",
    "        all_awards_name.update(couple['info_wikidata']['awards'])\n",
    "\n",
    "    nb_books_for_each_wiki_author.append(len(couple['info_wikidata']['works']))\n",
    "    nb_awards_for_each_wiki_author.append(len(couple['info_wikidata']['awards']))\n",
    "print(\"Nombre d'artiste ayant des livres attribués: \", count_books)\n",
    "print(\"Nombre de livres global récupérés: \", sum(nb_books_for_each_wiki_author))\n",
    "\n",
    "print(\"Nombre d'artiste ayant des prix attribués: \", count_awards)\n",
    "print(\"Nombre de prix global récupérés: \", sum(nb_awards_for_each_wiki_author))\n",
    "\n",
    "print(\"exemple des prix: \", all_awards_name[:20])"
   ],
   "metadata": {
    "collapsed": false,
    "pycharm": {
     "name": "#%%\n"
    }
   }
  },
  {
   "cell_type": "code",
   "execution_count": 32,
   "outputs": [
    {
     "name": "stderr",
     "output_type": "stream",
     "text": [
      "100%|██████████| 1357/1357 [00:00<00:00, 17553.61it/s]\n"
     ]
    },
    {
     "name": "stdout",
     "output_type": "stream",
     "text": [
      "nombre de couple:  1357\n",
      "nombre de couples confirmés par titres:  28\n",
      "nombre de couples infirmés par titres:  33\n",
      "nombre de couples sans titres de wikipedia:  1296\n"
     ]
    }
   ],
   "source": [
    "# Listes pour stoker nos couples confirmé, invalidé et ceux dont on ne peut pas conclure car il n'y a pas de titres\n",
    "couples_confirmed = []\n",
    "couples_infirmed = []\n",
    "couples_unsure = []\n",
    "# Compte les cas ci-dessus\n",
    "count_checked_by_titles = 0\n",
    "count_no_titles = 0\n",
    "count_differentiate_by_titles = 0\n",
    "\n",
    "for couple in tqdm(couple_writers):\n",
    "    confirmed_by_title_match = False\n",
    "    confirmed_by_title_match_re = False\n",
    "\n",
    "    # On vérifie si on peut trouver des titres proches en comparant les titres parsés\n",
    "    # au titres normalisés de nos bases de donnée\n",
    "    book_titles_DB = [book['title'] for book in couple['book DB']]\n",
    "    for title in book_titles_DB:\n",
    "        normalised_wikidata_title_ls = [normalize(title_wikidata) for title_wikidata in couple['info_wikidata']['works']]\n",
    "        for title_wikidata in normalised_wikidata_title_ls:\n",
    "            dist_titles = Levenshtein.distance(title, title_wikidata)\n",
    "            if dist_titles < max(1, min(len(title), len(title_wikidata)) / 4):\n",
    "                confirmed_by_title_match = True\n",
    "                break\n",
    "    # On recherche par le suite le titre du livre directement dans les titres non nettoyé de la page wikipédia\n",
    "    # via expression régulières\n",
    "    for title in book_titles_DB:\n",
    "        for title_wiki_raw in couple['info_wikidata']['works']:\n",
    "            if re.search(normalize(title), normalize(title_wiki_raw)):\n",
    "                confirmed_by_title_match_re = True\n",
    "                break\n",
    "\n",
    "    # On liste les cas possibles: 0,1,2 tests réussis\n",
    "    if (not confirmed_by_title_match) and (not confirmed_by_title_match_re):\n",
    "        if couple['info_wikidata']['works']:\n",
    "            count_differentiate_by_titles += 1\n",
    "            couples_infirmed.append(couple)\n",
    "        else:\n",
    "            count_no_titles += 1\n",
    "            couples_unsure.append(couple)\n",
    "    else:\n",
    "        count_checked_by_titles += 1\n",
    "        couples_confirmed.append(couple)\n",
    "\n",
    "    # On sauvegarde comment avons nous trouvé les correspondances entre les deux listes de titres\n",
    "    couple['confirmed_by_title_match'] = confirmed_by_title_match\n",
    "    couple['confirmed_by_title_match_re'] = confirmed_by_title_match_re\n",
    "\n",
    "print('nombre de couple: ', len(couple_writers))\n",
    "print('nombre de couples confirmés par titres: ', count_checked_by_titles)\n",
    "print('nombre de couples infirmés par titres: ', count_differentiate_by_titles)\n",
    "print('nombre de couples sans titres de wikipedia: ', count_no_titles)\n",
    "\n",
    "with open('Wikidata/couple_authors_wikidata_confirmed.json', 'w') as outfile:\n",
    "    json.dump(couples_confirmed, outfile, cls=BookJSONEncoder)\n",
    "\n",
    "with open('Wikidata/couple_authors_wikidata_infirmed.json', 'w') as outfile:\n",
    "    json.dump(couples_infirmed, outfile, cls=BookJSONEncoder)\n",
    "\n",
    "with open('Wikidata/couple_authors_wikidata_unsure.json', 'w') as outfile:\n",
    "    json.dump(couples_unsure, outfile, cls=BookJSONEncoder)"
   ],
   "metadata": {
    "collapsed": false,
    "pycharm": {
     "name": "#%%\n"
    }
   }
  },
  {
   "cell_type": "code",
   "execution_count": 25,
   "outputs": [
    {
     "name": "stdout",
     "output_type": "stream",
     "text": [
      "Nombre d'auteur dont on a récupéré des prix:  414\n",
      "Nombre total de prix:  1117\n"
     ]
    }
   ],
   "source": [
    "count_awards = 0\n",
    "nb_awards_for_each_wiki_author = []\n",
    "for couple in couple_writers:\n",
    "    if couple['info_wikidata']['awards']:\n",
    "        count_awards += 1\n",
    "    nb_awards_for_each_wiki_author.append(len(couple['info_wikidata']['awards']))\n",
    "\n",
    "print(\"Nombre d'artiste ayant des prix attribués: \", count_awards)\n",
    "print(\"Nombre de prix global récupérés: \", sum(nb_awards_for_each_wiki_author))"
   ],
   "metadata": {
    "collapsed": false,
    "pycharm": {
     "name": "#%%\n"
    }
   }
  },
  {
   "cell_type": "code",
   "execution_count": 7,
   "outputs": [
    {
     "name": "stderr",
     "output_type": "stream",
     "text": [
      "100%|██████████| 18826/18826 [00:00<00:00, 649352.94it/s]\n"
     ]
    },
    {
     "name": "stdout",
     "output_type": "stream",
     "text": [
      "code_status:  200\n",
      "exemples: \n",
      "[\n",
      "  {\n",
      "    \"author\": {\n",
      "      \"type\": \"uri\",\n",
      "      \"value\": \"http://www.wikidata.org/entity/Q34922\"\n",
      "    }\n",
      "  },\n",
      "  {\n",
      "    \"author\": {\n",
      "      \"type\": \"uri\",\n",
      "      \"value\": \"http://www.wikidata.org/entity/Q35109\"\n",
      "    }\n",
      "  }\n",
      "]\n"
     ]
    }
   ],
   "source": [
    "# Recherche de tout les champs disponibles depuis wikidata soit depuis tout les auteurs francophones,\n",
    "# soit depuis les auteurs dont on a trouvé une instance dans notre base de donnée\n",
    "\n",
    "# Recherche des URI de tout les auteurs de wikidata francophones\n",
    "all_authors_query = \"\"\"\n",
    "SELECT DISTINCT ?author\n",
    "WHERE\n",
    "{\n",
    "    ?author wdt:P31 wd:Q5 .\n",
    "    ?author wdt:P27 ?country .\n",
    "    ?country wdt:P2936 wd:Q150 .\n",
    "    ?author wdt:P106 ?occup .\n",
    "    ?occup wdt:P279 wd:Q36180\n",
    "\n",
    "}\"\"\"\n",
    "rep_wikidata_ecrivain = requests.get('https://query.wikidata.org/sparql?format=json&query=' + all_authors_query)\n",
    "print('code_status: ', rep_wikidata_ecrivain.status_code)\n",
    "\n",
    "authors_uri = []\n",
    "if rep_wikidata_ecrivain.status_code == 200:\n",
    "    if len(rep_wikidata_ecrivain.json()['results']['bindings']) > 0:\n",
    "        print('exemples: ')\n",
    "        print(json.dumps(rep_wikidata_ecrivain.json()['results']['bindings'][:2], indent=2))\n",
    "        for result in tqdm(rep_wikidata_ecrivain.json()['results']['bindings']):\n",
    "            authors_uri.append(result['author']['value'])"
   ],
   "metadata": {
    "collapsed": false,
    "pycharm": {
     "name": "#%%\n"
    }
   }
  },
  {
   "cell_type": "code",
   "execution_count": 14,
   "outputs": [
    {
     "name": "stderr",
     "output_type": "stream",
     "text": [
      "100%|██████████| 1357/1357 [30:06<00:00,  1.33s/it]\n"
     ]
    }
   ],
   "source": [
    "result = {}\n",
    "# # Version pour tout les auteurs francophones\n",
    "# for uri in tqdm(authors_uri):\n",
    "# Version pour tout les auteurs dont on a trouvé un équivalent dans notre base de donnée\n",
    "for couple in tqdm(couple_writers):\n",
    "    uri = couple['info_wikidata']['author_uri'].split('/')[-1]\n",
    "    # partie générique\n",
    "    time.sleep(1)\n",
    "    get_all_fields_query = \"\"\"\n",
    "    SELECT ?pLabel ?objLabel\n",
    "    WHERE {{\n",
    "        wd:{0} ?predicate ?obj.\n",
    "        BIND( IRI(REPLACE( STR(?predicate),\"prop/direct/\",\"entity/\" )) AS ?p)\n",
    "        SERVICE wikibase:label {{ bd:serviceParam wikibase:language \"fr, en\". }}\n",
    "    }}\n",
    "    \"\"\"\n",
    "    rep_wikidata_ecrivain = requests.get('https://query.wikidata.org/sparql?format=json&query=' + get_all_fields_query.format(uri))\n",
    "\n",
    "    if rep_wikidata_ecrivain.status_code == 429:\n",
    "            print(\"trop rapide !!!\")\n",
    "\n",
    "    if rep_wikidata_ecrivain.status_code == 200:\n",
    "        if len(rep_wikidata_ecrivain.json()['results']['bindings']) > 0:\n",
    "\n",
    "            result[uri] = [(duo['pLabel']['value'], duo['objLabel']['value']) for duo in rep_wikidata_ecrivain.json()['results']['bindings']]\n",
    "    else:\n",
    "        print(\"erreur code: \", rep_wikidata_ecrivain.status_code)"
   ],
   "metadata": {
    "collapsed": false,
    "pycharm": {
     "name": "#%%\n"
    }
   }
  },
  {
   "cell_type": "code",
   "execution_count": 18,
   "outputs": [],
   "source": [
    "# Toutes les propriété possibles\n",
    "all_properties = set()\n",
    "for properties in result.values():\n",
    "    all_properties.update([property[0]for property in properties])\n",
    "\n",
    "# Pour chaque auteur, on compte combien de fois chaque propriété apparait\n",
    "properties_dict = {}\n",
    "for author_uri, properties in result.items():\n",
    "    for knowed_property in all_properties:\n",
    "        counter = 0\n",
    "        for property in properties:\n",
    "            if property[0] == knowed_property:\n",
    "                counter += 1\n",
    "        try:\n",
    "            properties_dict[knowed_property].append(counter)\n",
    "        except:\n",
    "            properties_dict[knowed_property] = [counter]\n",
    "\n",
    "# On tire des mesures du dictionnaire créé si desssus\n",
    "properties_resume = {}\n",
    "for knowed_property in properties_dict:\n",
    "    properties_resume[knowed_property] = {\n",
    "        # Moyenne du nombre de fois qu'apparait une propriété quand elle est présente chez un auteur\n",
    "        'non_null_mean': mean([e for e in properties_dict[knowed_property] if e]),\n",
    "        # Nombres d'auteur qui ont cette propriété\n",
    "        'nb_non_null': sum([1 for e in properties_dict[knowed_property] if e]),\n",
    "        # Nombre total de fois qu'apparait une propriété\n",
    "        'sum': sum(properties_dict[knowed_property]),\n",
    "    }\n",
    "\n",
    "# On sauvegarde ces mesures sous csv\n",
    "with open('Wikidata/list_properies_by_author.csv', 'w') as csvfile:\n",
    "        writer = csv.DictWriter(csvfile, fieldnames=['name', 'non_null_mean', 'nb_non_null', 'sum' ])\n",
    "        writer.writeheader()\n",
    "        for rep_prop_name, rep_prop_dict in properties_resume.items():\n",
    "            if rep_prop_name.find(\"http://www.wikidata.org/prop/\") == -1:\n",
    "                rep_prop_dict['name'] = rep_prop_name\n",
    "                writer.writerow(rep_prop_dict)\n",
    "\n"
   ],
   "metadata": {
    "collapsed": false,
    "pycharm": {
     "name": "#%%\n"
    }
   }
  }
 ],
 "metadata": {
  "kernelspec": {
   "display_name": "Python 3",
   "language": "python",
   "name": "python3"
  },
  "language_info": {
   "codemirror_mode": {
    "name": "ipython",
    "version": 2
   },
   "file_extension": ".py",
   "mimetype": "text/x-python",
   "name": "python",
   "nbconvert_exporter": "python",
   "pygments_lexer": "ipython2",
   "version": "2.7.6"
  }
 },
 "nbformat": 4,
 "nbformat_minor": 0
}