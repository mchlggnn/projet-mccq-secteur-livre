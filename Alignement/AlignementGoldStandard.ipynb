{
 "cells": [
  {
   "cell_type": "code",
   "execution_count": 1,
   "metadata": {},
   "outputs": [],
   "source": [
    "from rdflib import Graph, Namespace, Literal, URIRef\n",
    "from rdflib import RDF, RDFS, OWL, XSD\n",
    "\n",
    "\n",
    "SCHEMA = Namespace(\"https://schema.org/\")\n",
    "DCTERMS = Namespace(\"http://purl.org/dc/terms/\")\n",
    "DBO = Namespace(\"http://dbpedia.org/ontology/\")\n",
    "SOGIDES = Namespace(\"http://www.sogides.com/\")\n",
    "SOGIDES_PROP = Namespace(\"http://www.sogides.com/prop/\")\n",
    "BANQ = Namespace(\"http://banq.qc.ca/\")\n",
    "WDT = Namespace(\"http://www.wikidata.org/prop/direct/\")\n",
    "WD = Namespace(\"http://www.wikidata.org/entity/\")"
   ]
  },
  {
   "cell_type": "markdown",
   "metadata": {},
   "source": [
    "# Chargement des graphes RDF\n",
    "\n",
    "Nos disposons de cinq graphes RDF distincts:\n",
    "\n",
    "* Celui extrait des donnnées fournies par Messagerie ADP (séparé en deux: un graphe pour les auteurs et un autre pour les livres)\n",
    "* Celui extrait à partir du site de l'Infocentre littéraire des écrivains, L’ÎLE (http://recif.litterature.org/)\n",
    "* Celui construit à partir du Dépôt légal de BAnQ (https://www.donneesquebec.ca/recherche/fr/dataset/publications-recues-en-depot-legal)\n",
    "* Celui extrait des données fournies par Hurtubise\n",
    "* Celui extrait des données récupérées par Grégoire sur Babelio(séparé en deux: un graphe pour les auteurs et un autre pour les livres)"
   ]
  },
  {
   "cell_type": "code",
   "execution_count": 2,
   "metadata": {},
   "outputs": [
    {
     "data": {
      "text/plain": [
       "<Graph identifier=Nb1202f196709467f9e1b459ea9f92b10 (<class 'rdflib.graph.Graph'>)>"
      ]
     },
     "execution_count": 2,
     "metadata": {},
     "output_type": "execute_result"
    }
   ],
   "source": [
    "grapheAuteursADP = Graph()\n",
    "grapheAuteursADP.parse('../Graphes/grapheADPAuteurs.rdf')\n"
   ]
  },
  {
   "cell_type": "code",
   "execution_count": 3,
   "metadata": {},
   "outputs": [
    {
     "data": {
      "text/plain": [
       "<Graph identifier=N939d9cde8a0c46feab25b1f0b492edd6 (<class 'rdflib.graph.Graph'>)>"
      ]
     },
     "execution_count": 3,
     "metadata": {},
     "output_type": "execute_result"
    }
   ],
   "source": [
    "grapheLivresADP = Graph()\n",
    "grapheLivresADP.parse('../Graphes/grapheADPLivres.rdf')\n"
   ]
  },
  {
   "cell_type": "code",
   "execution_count": 4,
   "metadata": {},
   "outputs": [
    {
     "data": {
      "text/plain": [
       "<Graph identifier=Na20525ce9e8646aa98000b97ee606052 (<class 'rdflib.graph.Graph'>)>"
      ]
     },
     "execution_count": 4,
     "metadata": {},
     "output_type": "execute_result"
    }
   ],
   "source": [
    "grapheILE = Graph()\n",
    "grapheILE.parse('../Graphes/grapheILE.rdf')"
   ]
  },
  {
   "cell_type": "code",
   "execution_count": 5,
   "metadata": {},
   "outputs": [
    {
     "data": {
      "text/plain": [
       "<Graph identifier=N820fa5be4c714f24bd67df07b227b908 (<class 'rdflib.graph.Graph'>)>"
      ]
     },
     "execution_count": 5,
     "metadata": {},
     "output_type": "execute_result"
    }
   ],
   "source": [
    "grapheDepotLegal = Graph()\n",
    "grapheDepotLegal.parse('../Graphes/grapheDepotLegal.rdf')"
   ]
  },
  {
   "cell_type": "code",
   "execution_count": 6,
   "metadata": {},
   "outputs": [
    {
     "data": {
      "text/plain": [
       "<Graph identifier=Na6bb1f3593864de081adcc2662ef9833 (<class 'rdflib.graph.Graph'>)>"
      ]
     },
     "execution_count": 6,
     "metadata": {},
     "output_type": "execute_result"
    }
   ],
   "source": [
    "grapheHurtubise = Graph()\n",
    "grapheHurtubise.parse('../Graphes/grapheHurtubise.rdf')"
   ]
  },
  {
   "cell_type": "code",
   "execution_count": 7,
   "metadata": {},
   "outputs": [
    {
     "data": {
      "text/plain": [
       "<Graph identifier=N16af3c42c0024d4db5912c51939d4aa5 (<class 'rdflib.graph.Graph'>)>"
      ]
     },
     "execution_count": 7,
     "metadata": {},
     "output_type": "execute_result"
    }
   ],
   "source": [
    "grapheBabelio = Graph()\n",
    "grapheBabelio.parse('../Graphes/grapheBabelio.rdf')"
   ]
  },
  {
   "cell_type": "code",
   "execution_count": 8,
   "metadata": {},
   "outputs": [],
   "source": [
    "def nettoyer_unicode(c):\n",
    "    liste_codes =  {\n",
    "        'Ã\\xa0': 'à',\n",
    "        'Ã€': 'À',\n",
    "        'Ã¢': 'â',\n",
    "        'Ã‚': 'Â',\n",
    "        'Ã©': 'é',\n",
    "        'Ã\\x89': 'É',\n",
    "        'Ã\\xa8': 'è',\n",
    "        'Ã\\xaa': 'ê',\n",
    "        'Ã\\x8a': 'Ê',        \n",
    "        'Ã«': 'ë',\n",
    "        'Ã®':'î',\n",
    "        'Ã\\x8e':'Î',        \n",
    "        'Ã¯': 'ï', \n",
    "        'Ã´': 'ô',\n",
    "        'Ã\\x94': 'Ô',\n",
    "        'Ã¹': 'ù', \n",
    "        'Ã»': 'û',\n",
    "        'Å\\x93': 'œ', \n",
    "        'Â«': '«',\n",
    "        'Â»': '»',\n",
    "        'Ã§': 'ç',\n",
    "        'Ã\\x87': 'Ç',\n",
    "        'Âº': 'º',\n",
    "        'â\\x80\\x99': '’',\n",
    "        'â\\x80\\xa6' : '…',\n",
    "    }\n",
    "    \n",
    "    for code in liste_codes:\n",
    "        c = c.replace(code,liste_codes[code])\n",
    "        \n",
    "    return c"
   ]
  },
  {
   "cell_type": "code",
   "execution_count": 9,
   "metadata": {},
   "outputs": [
    {
     "name": "stdout",
     "output_type": "stream",
     "text": [
      "978289006591X\n",
      "9872890065913\n",
      "987289006591X\n",
      "9782890065912\n"
     ]
    }
   ],
   "source": [
    "import re\n",
    "\n",
    "# def format_isbn(s):\n",
    "#     \"\"\"\n",
    "#     nettoyage du isbn, x-xxxxx-xxx-x (info) --> xxxxxxxxxx\n",
    "#     :param string: chaine de caractère à normaliser\n",
    "#     :return: même chaine de caractère normalisée\n",
    "#     \"\"\"\n",
    "#     string = re.sub(r'[^0-9]', '', s)\n",
    "#     if len(string) == 10:\n",
    "#         string = '978' + string\n",
    "#     string = string[:-1] + 'X'\n",
    "#     return string\n",
    "\n",
    "# import re\n",
    "\n",
    "def format_isbn(s):\n",
    "    \"\"\"\n",
    "    nettoyage du isbn, x-xxxxx-xxx-x (info) --> xxxxxxxxxx\n",
    "    :param string: chaine de caractère à normaliser\n",
    "    :return: même chaine de caractère normalisée\n",
    "    \"\"\"\n",
    "#     string = s[:-1] + 'X'\n",
    "    # todo not X probleme FIX \n",
    "    string = re.sub(r'\\D', '', s)\n",
    "    if len(string) == 9 or len(string) == 12:\n",
    "        string += 'X'\n",
    "    if len(string) == 10:\n",
    "        string = '978' + string\n",
    "    return string\n",
    "\n",
    "print(format_isbn('289006591X'))\n",
    "print(format_isbn('9872890065913'))\n",
    "print(format_isbn('987289006591X'))\n",
    "print(format_isbn('2890065912'))"
   ]
  },
  {
   "cell_type": "markdown",
   "metadata": {},
   "source": [
    "# Extraction de livres de ADP"
   ]
  },
  {
   "cell_type": "code",
   "execution_count": 10,
   "metadata": {},
   "outputs": [],
   "source": [
    "qres = grapheLivresADP.query(\n",
    "    \"\"\"PREFIX schema: <https://schema.org/>\n",
    "       SELECT DISTINCT ?livre ?titre ?isbn\n",
    "       WHERE {\n",
    "          ?livre a <http://www.sogides.com/classe/Livre> ;\n",
    "             schema:name ?titre ;\n",
    "             schema:isbn ?isbn .\n",
    "       }\"\"\")\n",
    "\n",
    "#adp auteur\n",
    "#  ?auteur a <http://www.sogides.com/classe/Auteur> ;\n",
    "#              schema:name  ?nom . \n",
    "\n",
    "livres_adp = {}\n",
    "for r in qres:\n",
    "    livres_adp[format_isbn(r['isbn'].toPython())] = nettoyer_unicode(r['titre'])"
   ]
  },
  {
   "cell_type": "code",
   "execution_count": 11,
   "metadata": {},
   "outputs": [
    {
     "name": "stdout",
     "output_type": "stream",
     "text": [
      "15469\n"
     ]
    }
   ],
   "source": [
    "print(len(livres_adp))"
   ]
  },
  {
   "cell_type": "markdown",
   "metadata": {},
   "source": [
    "# Extraction de livres Dépôt Légal"
   ]
  },
  {
   "cell_type": "code",
   "execution_count": 12,
   "metadata": {},
   "outputs": [],
   "source": [
    "qres = grapheDepotLegal.query(\n",
    "     \"\"\"PREFIX ns1: <https://schema.org/>\n",
    "        SELECT DISTINCT ?livre ?isbn ?titre\n",
    "        WHERE {\n",
    "            ?livre a <http://dbpedia.org/ontology/Book>;\n",
    "                ns1:name ?titre ;\n",
    "                ns1:isbn ?isbn .\n",
    "        }\"\"\")\n",
    "\n",
    "livres_depot = {}\n",
    "for r in qres:\n",
    "    livres_depot[format_isbn(r['isbn'].toPython())] = nettoyer_unicode(r['titre'])"
   ]
  },
  {
   "cell_type": "code",
   "execution_count": 13,
   "metadata": {},
   "outputs": [
    {
     "name": "stdout",
     "output_type": "stream",
     "text": [
      "61570\n"
     ]
    }
   ],
   "source": [
    "print(len(livres_depot))"
   ]
  },
  {
   "cell_type": "markdown",
   "metadata": {},
   "source": [
    "# Extraction livres Dépôt ILE"
   ]
  },
  {
   "cell_type": "code",
   "execution_count": 14,
   "metadata": {},
   "outputs": [],
   "source": [
    "qres = grapheILE.query(\n",
    "     \"\"\"PREFIX schema: <https://schema.org/>\n",
    "        SELECT DISTINCT ?livre ?isbn ?titre\n",
    "        WHERE {\n",
    "            ?livre a <http://recif.litterature.org/ontologie/classe/oeuvre> ;\n",
    "                schema:name ?titre ;\n",
    "                schema:isbn ?isbn .\n",
    "        }\"\"\")\n",
    "\n",
    "\n",
    "#ile auteur\n",
    "#            ?auteur a <http://recif.litterature.org/ontologie/classe/ecrivain> ;\n",
    "#              schema:givenName ?prenom ;\n",
    "#              schema:familyName ?nom .\n",
    "\n",
    "livres_ile = {}\n",
    "for r in qres:\n",
    "    livres_ile[format_isbn(r['isbn'].toPython())] = nettoyer_unicode(r['titre'])"
   ]
  },
  {
   "cell_type": "code",
   "execution_count": 15,
   "metadata": {},
   "outputs": [
    {
     "name": "stdout",
     "output_type": "stream",
     "text": [
      "20251\n"
     ]
    }
   ],
   "source": [
    "print(len(livres_ile))"
   ]
  },
  {
   "cell_type": "markdown",
   "metadata": {},
   "source": [
    "# Extraction livres Hurtubise"
   ]
  },
  {
   "cell_type": "code",
   "execution_count": 16,
   "metadata": {},
   "outputs": [],
   "source": [
    "qres = grapheHurtubise.query(\n",
    "     \"\"\"PREFIX ns1: <http://schema.org/>\n",
    "        PREFIX hurtubise: <https://distributionhmh.com/onto/>\n",
    "        SELECT DISTINCT ?livre ?titre ?isbn ?isbnpdf ?isbnepub\n",
    "        WHERE {\n",
    "            ?livre a <http://schema.org/Book> ;\n",
    "                ns1:name ?titre ;\n",
    "                ns1:isbn ?isbn .\n",
    "            OPTIONAL {\n",
    "            ?livre hurtubise:isbnpdf ?isbnpdf } .\n",
    "            OPTIONAL {\n",
    "            ?livre hurtubise:isbnepub ?isbnepub }\n",
    "        }\"\"\")\n",
    "\n",
    "livres_hurtubise = {}\n",
    "for r in qres:\n",
    "    livres_hurtubise[format_isbn(r['isbn'].toPython())] = r['titre']\n",
    "    if r['isbnpdf']:\n",
    "        livres_hurtubise[format_isbn(r['isbnpdf'].toPython())] = r['titre']\n",
    "    if r['isbnepub']:\n",
    "        livres_hurtubise[format_isbn(r['isbnepub'].toPython())] = r['titre']"
   ]
  },
  {
   "cell_type": "markdown",
   "metadata": {},
   "source": [
    "# Extraction livres Babelio"
   ]
  },
  {
   "cell_type": "code",
   "execution_count": 17,
   "metadata": {
    "scrolled": false
   },
   "outputs": [
    {
     "name": "stdout",
     "output_type": "stream",
     "text": [
      "1793\n"
     ]
    }
   ],
   "source": [
    "qres = grapheBabelio.query(\n",
    "     \"\"\"PREFIX ns1: <https://schema.org/>\n",
    "        SELECT DISTINCT ?livre ?titre ?isbn\n",
    "         WHERE {\n",
    "            ?livre a <https://schema.org/Book> ;\n",
    "                ns1:name ?titre ;\n",
    "                ns1:isbn ?isbn .\n",
    "        }\"\"\")\n",
    "\n",
    "livres_babelio = {}\n",
    "print(len(qres))\n",
    "for r in qres:\n",
    "    livres_babelio[format_isbn(r['isbn'].toPython())] = r['titre']"
   ]
  },
  {
   "cell_type": "markdown",
   "metadata": {},
   "source": [
    "# Candidats à l'alignement (gold standard)\n",
    "Livres confirmés comme étant le même par leur isbn"
   ]
  },
  {
   "cell_type": "code",
   "execution_count": 18,
   "metadata": {},
   "outputs": [],
   "source": [
    "import re\n",
    "\n",
    "def normalize(string):\n",
    "    \"\"\"\n",
    "    normalise une chaine de caractère pour faciliter leurs comparaisons\n",
    "    :param string: chaine de caractère à normaliser\n",
    "    :return: même chaine de caractère normalisée\n",
    "    \"\"\"\n",
    "    try:\n",
    "#         string = nettoyer_accents(string)\n",
    "        string = re.sub(r'^\\W+|\\W+$', '', string)\n",
    "        string = re.sub(r'\\W', ' ', string)\n",
    "        string = re.sub(r' +', ' ', string)\n",
    "        string = re.sub(r',', '', string)\n",
    "        return string\n",
    "    except:\n",
    "        return None"
   ]
  },
  {
   "cell_type": "code",
   "execution_count": 19,
   "metadata": {},
   "outputs": [
    {
     "name": "stdout",
     "output_type": "stream",
     "text": [
      "13824\n"
     ]
    }
   ],
   "source": [
    "alignement = {}\n",
    "\n",
    "set_adp_dep = set(livres_adp) & set(livres_depot)\n",
    "set_adp_ile = set(livres_adp) & set(livres_ile)\n",
    "set_adp_hur = set(livres_adp) & set(livres_hurtubise)\n",
    "set_adp_bab = set(livres_adp) & set(livres_babelio)\n",
    "set_ile_dep = set(livres_ile) & set(livres_depot)\n",
    "set_ile_hur = set(livres_ile) & set(livres_hurtubise)\n",
    "set_ile_bab = set(livres_ile) & set(livres_babelio)\n",
    "set_dep_hur = set(livres_depot) & set(livres_hurtubise)\n",
    "set_dep_bab = set(livres_depot) & set(livres_babelio)\n",
    "set_hur_bab = set(livres_hurtubise) & set(livres_babelio)\n",
    "\n",
    "isbns = set(set_adp_dep ^ set_adp_ile ^ set_adp_hur ^ set_ile_dep ^ set_ile_hur ^ set_ile_bab ^ set_dep_hur ^ set_dep_bab ^ set_hur_bab)\n",
    "print(len(isbns))\n",
    "for isbn in isbns:\n",
    "    \n",
    "    value = (isbn, '', '', '', '', '')\n",
    "    value = list(value)\n",
    "    \n",
    "    if isbn in livres_adp:\n",
    "        value[1] = livres_adp[isbn]\n",
    "    \n",
    "    if isbn in livres_ile:\n",
    "        value[2] = livres_ile[isbn]\n",
    "\n",
    "    if isbn in livres_depot:\n",
    "        value[3] = livres_depot[isbn]\n",
    "\n",
    "    if isbn in livres_hurtubise:\n",
    "        value[4] = livres_hurtubise[isbn]\n",
    "\n",
    "    if isbn in livres_babelio:\n",
    "        value[5] = livres_babelio[isbn]\n",
    "\n",
    "    \n",
    "    alignement[isbn] = value"
   ]
  },
  {
   "cell_type": "code",
   "execution_count": 25,
   "metadata": {},
   "outputs": [
    {
     "name": "stdout",
     "output_type": "stream",
     "text": [
      "13824\n",
      "['9782897230319', '', '', \"Mais qu'est-ce que tu fais là, tout seul?\", rdflib.term.Literal(\"Mais qu'est-ce que tu fais là, tout seul?\"), '']\n"
     ]
    }
   ],
   "source": [
    "print(len(alignement))\n",
    "print(alignement['9782897230319'])\n"
   ]
  },
  {
   "cell_type": "code",
   "execution_count": 26,
   "metadata": {},
   "outputs": [],
   "source": [
    "import csv\n",
    "\n",
    "csv_columns = ['ISBN', 'ADP', 'ILE', 'Depot Legal', 'Hurtubise', 'Babelio']\n",
    "\n",
    "with open('alignement.csv', 'w') as f:\n",
    "    for key in alignement.keys():\n",
    "        f.write(\"%s, %s, %s, %s, %s, %s\\n\" % (key, normalize(alignement[key][1]),  normalize(alignement[key][2]), normalize(alignement[key][3]), normalize(alignement[key][4]), normalize(alignement[key][5])))\n"
   ]
  },
  {
   "cell_type": "markdown",
   "metadata": {},
   "source": [
    "# Création des paires positives\n",
    "\n",
    "Pour créer des paires positives il nous faut éliminer les "
   ]
  }
 ],
 "metadata": {
  "kernelspec": {
   "display_name": "Python 3",
   "language": "python",
   "name": "python3"
  },
  "language_info": {
   "codemirror_mode": {
    "name": "ipython",
    "version": 3
   },
   "file_extension": ".py",
   "mimetype": "text/x-python",
   "name": "python",
   "nbconvert_exporter": "python",
   "pygments_lexer": "ipython3",
   "version": "3.7.6"
  }
 },
 "nbformat": 4,
 "nbformat_minor": 4
}
