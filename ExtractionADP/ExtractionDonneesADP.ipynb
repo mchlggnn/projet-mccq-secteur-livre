{
 "cells": [
  {
   "cell_type": "markdown",
   "metadata": {},
   "source": [
    "# Extractions des données"
   ]
  },
  {
   "cell_type": "code",
   "execution_count": null,
   "metadata": {},
   "outputs": [],
   "source": [
    "import requests\n",
    "import urllib.request\n",
    "from time import sleep"
   ]
  },
  {
   "cell_type": "code",
   "execution_count": null,
   "metadata": {},
   "outputs": [],
   "source": [
    "# Fonctions utiles\n",
    "\n",
    "def decomposer_code(code):\n",
    "    return (code[0:4], code[4:7], code[7:10], code[10:])\n",
    "\n",
    "def get_data(code):\n",
    "    (c1, c2, c3, c4) = decomposer_code(code)\n",
    "    print(\"https://secure.sogides.com/public/produits/{0}/{1}/{2}/onix_3_0_{3}.xml\".\n",
    "                              format(c1,c2,c3,code))\n",
    "    rep = requests.get(\"https://secure.sogides.com/public/produits/{0}/{1}/{2}/onix_3_0_{3}.xml\".\n",
    "                              format(c1,c2,c3,code))\n",
    "    \n",
    "    if rep.status_code == 200:\n",
    "        return rep.text\n",
    "    else:\n",
    "        return 'ERREUR' + ' ' + str(rep.status_code)\n",
    "    \n",
    "    \n"
   ]
  },
  {
   "cell_type": "code",
   "execution_count": null,
   "metadata": {},
   "outputs": [],
   "source": [
    "# On récupère la liste des codes\n",
    "\n",
    "codes = []\n",
    "fichier_codes = open('codes_isbn_adp.txt')\n",
    "lines_codes = fichier_codes.readlines()\n",
    "for l in lines_codes:\n",
    "    codes.append(l.split('\\t')[0])"
   ]
  },
  {
   "cell_type": "code",
   "execution_count": null,
   "metadata": {},
   "outputs": [],
   "source": [
    "data = {}"
   ]
  },
  {
   "cell_type": "code",
   "execution_count": null,
   "metadata": {},
   "outputs": [],
   "source": [
    "# Pour chaque code, on va chercher le document XML correspondant\n",
    "\n",
    "for code in codes:\n",
    "    data_xml = get_data(code)\n",
    "    if not data_xml.startswith('ERREUR'):\n",
    "        data[code] = data_xml\n",
    "    else:\n",
    "        print('ERREUR', code)"
   ]
  },
  {
   "cell_type": "code",
   "execution_count": null,
   "metadata": {},
   "outputs": [],
   "source": [
    "print(len(data))"
   ]
  },
  {
   "cell_type": "markdown",
   "metadata": {},
   "source": [
    "# Sauvegarde des documents XML"
   ]
  },
  {
   "cell_type": "code",
   "execution_count": null,
   "metadata": {},
   "outputs": [],
   "source": [
    "import pickle \n",
    "\n",
    "filehandler = open(\"../Data/ADP/liste_adp_complete.py\", 'wb') \n",
    "pickle.dump(data, filehandler)"
   ]
  },
  {
   "cell_type": "code",
   "execution_count": null,
   "metadata": {},
   "outputs": [],
   "source": []
  }
 ],
 "metadata": {
  "kernelspec": {
   "display_name": "Python 3",
   "language": "python",
   "name": "python3"
  },
  "language_info": {
   "codemirror_mode": {
    "name": "ipython",
    "version": 3
   },
   "file_extension": ".py",
   "mimetype": "text/x-python",
   "name": "python",
   "nbconvert_exporter": "python",
   "pygments_lexer": "ipython3",
   "version": "3.7.1"
  }
 },
 "nbformat": 4,
 "nbformat_minor": 2
}
