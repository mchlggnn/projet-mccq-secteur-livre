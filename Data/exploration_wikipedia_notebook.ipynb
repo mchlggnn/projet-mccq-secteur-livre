{
 "cells": [
  {
   "cell_type": "code",
   "execution_count": 2,
   "metadata": {
    "collapsed": true
   },
   "outputs": [],
   "source": [
    "import Levenshtein\n",
    "import wikitextparser as wtp\n",
    "from tqdm import tqdm\n",
    "from wiki_dump_reader import iterate\n",
    "\n",
    "from extract_books_from_DB import *"
   ]
  },
  {
   "cell_type": "markdown",
   "source": [
    "Chargement des livres depuis les bases de données"
   ],
   "metadata": {
    "collapsed": false,
    "pycharm": {
     "name": "#%% md\n"
    }
   }
  },
  {
   "cell_type": "code",
   "execution_count": 5,
   "outputs": [
    {
     "name": "stdout",
     "output_type": "stream",
     "text": [
      "ADP_loading_time:  10.54570746421814\n",
      "DL_loading_time:  41.25322675704956\n",
      "ILE_loading time:  3.8861887454986572\n",
      "Hurtubise_loading time:  0.0596621036529541\n",
      "Babelio_loading_time time:  0.1908266544342041\n"
     ]
    }
   ],
   "source": [
    "all_books = generate_all_books()"
   ],
   "metadata": {
    "collapsed": false,
    "pycharm": {
     "name": "#%%\n"
    }
   }
  },
  {
   "cell_type": "code",
   "execution_count": 6,
   "outputs": [],
   "source": [
    "with open('all_books.json', 'r') as input_file:\n",
    "    all_books = json.load(input_file, cls=BookJSONDecoder)"
   ],
   "metadata": {
    "collapsed": false,
    "pycharm": {
     "name": "#%%\n"
    }
   }
  },
  {
   "cell_type": "markdown",
   "source": [
    "Regroupement des livres par auteur. On utilise les noms des auteurs normalisés comme clef dans un dictionnaire\n",
    "où les valeurs sont les livres dont ils sont l'auteur"
   ],
   "metadata": {
    "collapsed": false,
    "pycharm": {
     "name": "#%% md\n"
    }
   }
  },
  {
   "cell_type": "code",
   "execution_count": 25,
   "outputs": [
    {
     "name": "stderr",
     "output_type": "stream",
     "text": [
      "100%|██████████| 101581/101581 [00:00<00:00, 690430.01it/s]\n"
     ]
    }
   ],
   "source": [
    "# On recupère les données sauvegardées\n",
    "\n",
    "author_ls = {}\n",
    "\n",
    "for book in tqdm(all_books, total=len(all_books)):\n",
    "    for author in book.authors:\n",
    "        if author not in author_ls:\n",
    "            author_ls[author] = [book]\n",
    "        else:\n",
    "            author_ls[author].append(book)\n",
    "\n",
    "with open('authors_ls.json', 'w') as outfile:\n",
    "    json.dump(author_ls, outfile, cls=BookJSONEncoder)\n",
    "\n",
    "famous = ['Michel Tremblay', 'Anne Hébert', 'Gabrielle Roy', 'Marie Cardinal', 'Réjean Ducharme',\n",
    "                'Jacques Ferron', 'Victor-Lévy Beaulieu', 'Marcel Dubé', 'Yves Thériault', 'Jacques Poulin',\n",
    "                'André Langevin']"
   ],
   "metadata": {
    "collapsed": false,
    "pycharm": {
     "name": "#%%\n"
    }
   }
  },
  {
   "cell_type": "markdown",
   "source": [
    "On selectionne maitenant parmis le dump wikipédia les pages qui concernent des livres ou des auteurs"
   ],
   "metadata": {
    "collapsed": false,
    "pycharm": {
     "name": "#%% md\n"
    }
   }
  },
  {
   "cell_type": "code",
   "execution_count": 17,
   "outputs": [
    {
     "name": "stderr",
     "output_type": "stream",
     "text": [
      " 19%|█▉        | 3799564/20200401 [19:20<1:23:28, 3274.70it/s]\n"
     ]
    },
    {
     "name": "stdout",
     "output_type": "stream",
     "text": [
      "count_books:  16749\n",
      "count_authors:  40625\n"
     ]
    }
   ],
   "source": [
    "book_to_keep = {}\n",
    "writer_to_keep = {}\n",
    "count_author = 0\n",
    "count_book = 0\n",
    "\n",
    "for title, text in tqdm(iterate('./Wikipedia/frwiki-20200401-pages-articles-multistream.xml'), total=20200401):\n",
    "\n",
    "    is_book_re = re.search(r\"Infobox (Ouvrage|Livre)\", text)\n",
    "    is_ebauche_re = re.search(r\"{{Ébauche\\|livre}}\", text)\n",
    "    if is_book_re or is_ebauche_re:\n",
    "        book_to_keep[title] = text\n",
    "        count_book += 1\n",
    "\n",
    "    is_writer_re = re.search(r\"Infobox Écrivain\", text)\n",
    "    is_Ecrivain_Quebecois_re = re.search(r\"Catégorie:Écrivain\", text)\n",
    "    if is_writer_re or is_Ecrivain_Quebecois_re:\n",
    "        writer_to_keep[title] = text\n",
    "        count_author += 1\n",
    "\n",
    "print('count_books: ', count_book)\n",
    "with open('./Wikipedia/fr_dumps_wikipedia_books.json', 'w') as outfile:\n",
    "    json.dump(book_to_keep, outfile)\n",
    "print('count_authors: ', count_author)\n",
    "with open('./Wikipedia/fr_dumps_wikipedia_writers.json', 'w') as outfile:\n",
    "    json.dump(writer_to_keep, outfile)"
   ],
   "metadata": {
    "collapsed": false,
    "pycharm": {
     "name": "#%%\n"
    }
   }
  },
  {
   "cell_type": "markdown",
   "source": [
    "On recherche maintenant les auteurs et livres en communs avec la base de donnée"
   ],
   "metadata": {
    "collapsed": false,
    "pycharm": {
     "name": "#%% md\n"
    }
   }
  },
  {
   "cell_type": "code",
   "execution_count": 24,
   "outputs": [
    {
     "name": "stderr",
     "output_type": "stream",
     "text": [
      "100%|██████████| 16749/16749 [44:35<00:00,  6.26it/s] \n"
     ]
    },
    {
     "name": "stdout",
     "output_type": "stream",
     "text": [
      "nombre d'autheurs en commun:  3853  soit  3.79303216152627 %\n",
      "nombre d'autheurs reconnus:  13116  soit  3.4041007007526605  livre dans nos bases de donnée par livre reconnu dans wikipédia\n",
      "Frequence de reconnaissance:  [('Maria Chapdelaine', 92), ('Le Petit Chaperon rouge', 38), ('Les Anciens Canadiens', 38), (\"Les Chevaliers d'Émeraude\", 35), ('Poems (Agatha Christie)', 35), ('Un homme et son péché (roman)', 34), ('La Reine des anges', 31), ('La Reine des neiges (roman)', 30), ('La Reine des neiges', 30), ('Agaguk', 28)]\n",
      "repartition dans les bases de données: \n",
      "1/8:  {\"Depot_legal\": 2852, \"ADP\": 313, \"ILE\": 1396, \"Babelio\": 106}\n",
      "1/6:  {\"Depot_legal\": 700, \"ILE\": 320, \"ADP\": 83, \"Babelio\": 14}\n",
      "1/4:  {\"Depot_legal\": 4661, \"ILE\": 2028, \"ADP\": 498, \"Babelio\": 145}\n"
     ]
    }
   ],
   "source": [
    "couple_books_4 = []\n",
    "couple_books_6 = []\n",
    "couple_books_8 = []\n",
    "\n",
    "data_base_stats_4 = {}\n",
    "data_base_stats_6 = {}\n",
    "data_base_stats_8 = {}\n",
    "\n",
    "found_at_least_once = 0\n",
    "nb_couple = 0\n",
    "\n",
    "count_freq = {}\n",
    "\n",
    "with open('./Wikipedia/fr_dumps_wikipedia_books.json', 'r') as input_file:\n",
    "    wiki_books = json.load(input_file)\n",
    "\n",
    "with open('all_books.json', 'r') as input_file:\n",
    "    all_books = json.load(input_file, cls=BookJSONDecoder)\n",
    "\n",
    "for wiki_book, wiki_text in tqdm(wiki_books.items()):\n",
    "    found = False\n",
    "    count_freq_i = 0\n",
    "    normalized_wiki_book = normalize(wiki_book)\n",
    "    for DB_book in all_books:\n",
    "        dist_auteur = Levenshtein.distance(DB_book.title, normalized_wiki_book)\n",
    "        if dist_auteur < max(1, min(len(DB_book.title), len(normalized_wiki_book)) / 4):\n",
    "            new_couple = {\n",
    "                        'book DB': DB_book,\n",
    "                        'book wiki': {'title': normalized_wiki_book, 'title_raw':wiki_book, 'text': wiki_text}\n",
    "                    }\n",
    "            nb_couple += 1\n",
    "            count_freq_i += 1\n",
    "            found = True\n",
    "\n",
    "            if dist_auteur < max(1, min(len(DB_book.title), len(wiki_book)) / 8):\n",
    "                    couple_books_8.append(new_couple)\n",
    "                    try:\n",
    "                        data_base_stats_8[DB_book.data_base] += 1\n",
    "                    except:\n",
    "                        data_base_stats_8[DB_book.data_base] = 1\n",
    "            elif dist_auteur < max(1, min(len(DB_book.title), len(wiki_book)) / 6):\n",
    "                couple_books_6.append(new_couple)\n",
    "                try:\n",
    "                    data_base_stats_6[DB_book.data_base] += 1\n",
    "                except:\n",
    "                    data_base_stats_6[DB_book.data_base] = 1\n",
    "            else:\n",
    "                couple_books_4.append(new_couple)\n",
    "                try:\n",
    "                    data_base_stats_4[DB_book.data_base] += 1\n",
    "                except:\n",
    "                    data_base_stats_4[DB_book.data_base] = 1\n",
    "    if found:\n",
    "        found_at_least_once += 1\n",
    "        count_freq[wiki_book] = count_freq_i\n",
    "\n",
    "print(\"nombre d'autheurs en commun: \", found_at_least_once, \" soit \", found_at_least_once * 100 / len(wiki_books), \"%\")\n",
    "print(\"nombre d'autheurs reconnus: \", nb_couple, \" soit \", nb_couple/found_at_least_once, ' livre dans nos bases de donnée par livre reconnu dans wikipédia')\n",
    "print(\"Frequence de reconnaissance: \", sorted(count_freq.items(), key=lambda item: item[1], reverse=True)[:10])\n",
    "\n",
    "print(\"repartition dans les bases de données: \")\n",
    "print('1/8: ', json.dumps(data_base_stats_8))\n",
    "print('1/6: ', json.dumps(data_base_stats_6))\n",
    "print('1/4: ', json.dumps(data_base_stats_4))\n",
    "\n",
    "with open('Wikipedia/couple_books_wikipedia_4.json', 'w') as outfile:\n",
    "    json.dump(couple_books_4, outfile, cls=BookJSONEncoder)\n",
    "\n",
    "with open('Wikipedia/couple_books_wikipedia_6.json', 'w') as outfile:\n",
    "    json.dump(couple_books_6, outfile, cls=BookJSONEncoder)\n",
    "\n",
    "with open('Wikipedia/couple_books_wikipedia_8.json', 'w') as outfile:\n",
    "    json.dump(couple_books_8, outfile, cls=BookJSONEncoder)"
   ],
   "metadata": {
    "collapsed": false,
    "pycharm": {
     "name": "#%%\n"
    }
   }
  },
  {
   "cell_type": "code",
   "execution_count": 5,
   "outputs": [
    {
     "name": "stderr",
     "output_type": "stream",
     "text": [
      "100%|██████████| 40625/40625 [14:59<00:00, 45.17it/s]\n"
     ]
    },
    {
     "name": "stdout",
     "output_type": "stream",
     "text": [
      "nombre d'autheurs en commun:  5883  soit  14.48123076923077 %\n",
      "nombre d'autheurs reconnus:  10322  soit  1.7545469998300187  auteur dans nos bases de donnée par auteur reconnu dans wikipedia\n",
      "Frequence de reconnaissance:  {'Antoine de Saint-Exupéry': 1, 'Alfred de Musset': 1, 'Alain-Fournier': 3, 'Aldous Huxley': 1, 'Bernard Werber': 1, 'Carl Sagan': 1, 'Charles Péguy': 1, 'Charles Baudelaire': 1, 'Edgar Allan Poe': 1, 'Guillaume Apollinaire': 1, 'Gérard Manset': 1, 'Henry James': 2, 'Hermann Hesse': 1, 'Isaac Asimov': 1, 'Imre Kertész': 1, 'Jules Verne': 1, 'John Fowles': 1, 'Maurice Leblanc': 1, 'Mary Shelley': 1, 'Molière': 2, 'Marcel Aymé': 2, 'Michael Moore': 1, 'Oscar Wilde': 1, 'Paul Auster': 1, 'Pierre Boulle': 6, 'Stephen King': 1, 'Thích Nhất Hạnh': 1, 'Victor Hugo': 1, 'William Morris': 1, 'Guy de Maupassant': 1, 'Gustave Flaubert': 1, 'John Steinbeck': 1, 'Bram Stoker': 1, 'Wilbur Smith': 2, 'Henry David Thoreau': 1, 'Jean-Jacques Sempé': 1, 'Timothy Findley': 1, 'Théophile Gautier': 1, 'Jean-Marie Muller': 3, 'Homère': 1, 'Michel Tournier': 1, 'Jean Racine': 1, 'François Rabelais': 2, 'Rabindranath Tagore': 1, 'Jane Jacobs': 1, 'Jean Cocteau': 1, 'Arthur Rimbaud': 1, 'Ken Follett': 1, 'Jacqueline Harpman': 2, 'Henry Bauchau': 1, 'Alphonse Daudet': 2, 'Denis Diderot': 1, 'H. G. Wells': 1, 'Romain Gary': 1, 'Sébastien Japrisot': 1, 'Paul Bourget': 2, 'Michel Butor': 2, 'André Chénier': 4, 'Walt Whitman': 1, 'Maurice Renard (écrivain)': 1, 'Ursula K. Le Guin': 1, 'Marcel Allain': 1, 'Marcel Arland': 1, 'René Benjamin': 1, 'René Bazin': 2, 'Frédéric Dard': 5, 'Alexandre Dumas (fils)': 1, 'Colette': 1, 'Pierre Corneille': 2, 'Maurice Druon': 1, 'Pierre Emmanuel': 1, 'Émile Gaboriau': 1, 'Jean Giono': 1, 'Edmond de Goncourt': 1, 'Jack London': 1, 'Alfred Jarry': 1, 'Joseph Kessel': 1, 'Jean Calvin': 1, 'Edgar Morin': 1, 'Mohammed Dib': 1, 'Jacques Prévert': 1, 'François Cheng': 1, 'Kim Stanley Robinson': 1, 'Stendhal': 1, 'Gaston Leroux': 1, 'Jonathan Swift': 1, 'Pierre Mertens': 3, 'Edmond Rostand': 1, 'Maurice Maeterlinck': 1, 'Carlo Collodi': 2, 'Jean Ray (écrivain)': 2, 'Philippe Delerm': 2, 'Marcel Pagnol': 1, 'Pier Paolo Pasolini': 1, 'Claude (empereur romain)': 1, 'Pierre Abélard': 3, 'Marcel Achard': 1, 'Jean Aicard': 3, 'Nicolas Gogol': 3, 'Jean de Joinville': 1, 'Charlotte Brontë': 1, 'François de Sales': 2, 'Emily Brontë': 1, 'John Keats': 1, 'Plaute': 1, 'Roger Garaudy': 1, 'Jean Bodin': 1, 'Sophocle': 1, 'Elia Kazan': 1, 'Wilfrid Lemoine': 1, 'Claude Tillier': 1, 'Claude Chabrol': 1, 'Frères Grimm': 1, 'Aristophane': 1, 'Hector Malot': 1, 'Philippe Geluck': 1, 'Arthur Miller': 2, 'Emmanuel Kant': 2, 'Woody Allen': 1, 'Gabriel Marcel': 2, 'David Hume': 1, 'Anne Rice': 2, 'Pierre Herbart': 2, 'Paul Nizan': 1, 'Robert Louis Stevenson': 1, 'Catherine Baker': 1, 'E. Armand': 1, 'Pierre Bost': 1, 'Patricia Highsmith': 1, 'Catherine Breillat': 2, 'Anton Tchekhov': 1, 'Euripide': 1, 'Alexis de Tocqueville': 1, 'Pierre Carlet de Chamblain de Marivaux': 1, 'Jean-Christophe Rufin': 4, 'Prosper Mérimée': 1, 'Jacques Roubaud': 2, 'Marcel Maréchal': 1, 'Jean-François Revel': 3, 'Maurice Bedel': 3, 'Naguib Mahfouz': 1, 'Julia Verlanger': 1, 'Loup Durand': 1, 'Lewis Carroll': 1, 'François Mauriac': 1, 'Maurice Joyeux': 1, 'Luc Plamondon': 2, 'Maurice Joly': 1, 'Richard Brautigan': 1, 'Louise Michel': 1, 'Herman Melville': 1, 'George Sand': 1, 'Pablo Neruda': 1, 'Mark Twain': 1, 'Caroline Roe': 1, 'David Brin': 3, 'Roger Bacon': 1, 'Ingeborg Bachmann': 1, 'Franz Kafka': 1, 'Charles Perrault': 2, 'François Brigneau': 2, 'Henryk Sienkiewicz': 1, 'Rainer Maria Rilke': 1, 'Charles Aznavour': 1, 'Jean-Louis Costes (artiste)': 2, 'Pierre Perret': 4, 'Alexandre de Rhodes': 1, 'Leonard Cohen': 2, 'Gilles Archambault': 3, 'Roch Carrier': 1, 'Georges Dor': 1, 'Anne Hébert': 2, 'Émile Nelligan': 1, 'Mordecai Richler': 1, 'Gilles Vigneault': 1, 'Pierre Vallières': 1, 'Dominique Lapierre': 1, 'Larry Collins': 1, 'Honoré Beaugrand': 1, 'Jean Bauhin': 1, 'Francis Bacon (philosophe)': 2, 'Jacob Grimm': 1, 'Gérard Bessette': 2, 'Pierre Dac': 1, 'Alexandre Jardin': 2, 'Francis Favereau': 1, 'Élisée Reclus': 1, 'Claude Cossette': 1, 'Jonathan Franzen': 1, 'Philippe Labro': 4, 'Nathaniel Hawthorne': 2, 'Giacomo Casanova': 1, 'Friedrich Hölderlin': 1, 'Jérôme Cardan': 1, 'Maurice Chevalier': 1, 'Guillaume Farel': 3, 'Françoise Nimal': 1, 'Jón Kalman Stefánsson': 1, 'Yōko Ogawa': 1, 'Pierre Louÿs': 1, 'André Maurois': 3, 'Frédéric Vitoux': 1, 'Daniel Defoe': 2, 'Jacques Laurent': 4, 'Stephen Baxter': 1, 'Dalton Trumbo': 1, 'Ralph Waldo Emerson': 1, 'André Gillois': 1, 'Lionel Groulx': 1, 'Fernand Ouellette': 2, 'Robert Pinget': 1, 'Juan Gelman': 1, 'Michel Déon': 3, 'Guy Darol': 1, 'Jean-François Marmontel': 2, 'Louise Labé': 2, 'Pierre Seghers': 1, 'Jules Lermina': 1, 'Jacques Bergier': 5, 'Alexandre Vialatte': 2, 'Corinne Maier': 1, 'Omar Khayyam': 1, 'Pierre Pelot': 1, 'Josiane Balasko': 1, 'Gabrielle Roy': 2, 'Astrid Lindgren': 1, 'Marc Levy': 1, 'Paulo Coelho': 1, 'Simon Leys': 1, 'C. S. Forester': 1, 'Jean-Pierre Faye': 7, 'Bernard Maris': 1, 'Gilles Luneau': 1, 'Clément Marot': 2, 'Lucy Maud Montgomery': 1, 'Georges Duby': 3, 'Jean-Pierre Rosnay': 5, 'Sébastien Brant': 3, 'Richard Russo': 1, 'Jean-François Regnard': 7, 'Martin Bucer': 1, 'Stéphane Marsan': 1, 'Richard Bach': 1, 'Stig Dagerman': 1, 'Jean-Paul Marat': 2, 'Héloïse (abbesse)': 1, 'Bernard Assiniwi': 1, 'Antonine Maillet': 1, 'John Muir': 1, 'Pierre Michon': 5, 'Jean Rouaud': 1, 'Richard Millet': 2, 'Charlotte Aïssé': 1, 'Walter Scott': 1, 'Hubert Aquin': 1, 'Jean Simoneau': 1, 'Robert Walser (écrivain)': 4, 'Assia Djebar': 1, 'Carol Shields': 1, 'André Frossard': 1, 'Nérée Beauchemin': 1, 'Conrad Black': 1, 'Nicole Brossard': 1, 'Georges Bugnet': 1, 'Philippe Aubert de Gaspé': 1, 'Gilles Ménage (grammairien)': 2, 'Michael Ende': 1, 'Herménégilde Chiasson': 1, 'Gilles Paris': 1, 'Jean-Pierre Brisset': 3, 'Jean Marcel': 3, 'Marie Gevers': 1, 'Philippe Bouvard': 3, 'Pierre Billon (écrivain)': 4, 'Victor Serge': 1, 'Denis Robert': 1, 'Nick Cave': 1, 'Samuel Johnson': 1, 'Marc Behm': 1, 'Vladimir Maïakovski': 1, 'Bernard Dimey': 4, 'Matthieu Ricard': 3, 'Philippe Besson': 1, 'Guillaume Budé': 2, 'Elizabeth Goudge': 2, 'Jean Perrin': 1, 'Claude Bernard': 6, 'Robert Graves': 2, 'Julos Beaucarne': 1, 'Christopher Frank': 1, 'Bernard Clavel': 2, 'Xavier Hanotte': 1, 'Dominique Aury': 1, 'Fernand Braudel': 1, 'Jean Piat': 1, 'Zeami': 1, 'Robert Grossetête': 1, 'Claude Marti': 2, 'Philippe Labarde': 2, 'Antoine Favre (1557 - 1624)': 1, 'Peter David': 1, 'Paul Morand': 1, 'A. D. G.': 1, 'Paul Scarron': 1, 'Michel Bernard (écrivain, 1934-2004)': 4, 'Pierre Béarn': 1, 'Christian Signol': 1, 'Pierre Reverdy': 1, 'Philippe Soupault': 1, 'Jacques Godbout': 3, 'Martin Le Franc': 1, 'Alain Chartier': 2, 'Christophe Pauly': 1, 'Yves Berger': 2, 'Sylvie Germain': 1, 'Georges Chaulet': 1, 'Ilan Duran Cohen': 1, 'Jean-François Nahmias': 2, 'André Birabeau': 1, 'Alain Duhamel': 1, 'John Gay': 1, 'Pierre de Blois': 1, 'C. S. Lewis': 1, 'John Ray': 1, 'Stefano Benni': 1, 'Kate Atkinson': 1, 'Seamus Heaney': 1, 'Gudule (auteur)': 1, 'Raymond Radiguet': 1, 'Pierre Berton (écrivain)': 11, 'Roland Dorgelès': 1, 'Lieve Joris': 1, 'Zoé Valdés': 1, 'Jacques Perret (écrivain)': 2, 'Félix Leclerc': 1, 'Gabriel Byrne': 1, 'Samuel Richardson': 1, 'Pierre Dhainaut': 2, 'Françoise Verny': 2, 'John Milton': 1, 'Jacques Duquesne (écrivain)': 2, 'Dany Laferrière': 1, 'Charles Guérin (poète)': 1, 'Jacques Vallée': 1, 'Pierre Grimbert': 1, 'David Friedman (écrivain)': 1, 'Robert Frost': 1, 'Tonino Benacquista': 1, 'Ugo Monticone': 1, 'Michel Leiris': 2, 'André Laurendeau': 1, 'Georges Piroué': 1, 'T. S. Eliot': 1, 'Michel Besnier': 4, 'Francesco Redi': 1, 'Daniel Handler': 1, 'Lemony Snicket': 1, 'Edward Lear': 1, 'Jean-François Bizot': 8, 'Claude Piron': 1, 'Miguel Hernández': 1, 'Dominique Jamet': 1, 'Louis Hémon': 2, 'Andrée-Anne Gratton': 1, 'Michel Ragon': 1, 'Jean Moreau (chanoine)': 2, 'Pierre Naudin': 3, 'Daniel Boulanger': 2, 'Didier Decoin': 1, 'Alexandre Arnoux': 1, 'Gabriel Naudé': 1, 'Philippe Hériat': 1, 'Emmanuel Roblès': 1, 'Hunter S. Thompson': 1, 'Eudore Évanturel': 1, 'Margaret Atwood': 1, 'Douglas Coupland': 1, 'Jeanne Bourin': 2, 'Jean-François Parot': 11, 'François Dupeyron': 1, 'Stéphane Arfi': 1, 'Raphaël Confiant': 1, 'Jean Bernabé': 1, 'Robert Lepage': 2, 'René Maran': 2, 'John Dee': 1, 'Göran Tunström': 1, 'Olivier Ka': 1, 'Claude Vignon (1832-1888)': 1, 'Ibrahima Aya': 1, 'Martin Winckler': 1, 'Eduardo Galeano': 1, 'Pierre Bellemare': 1, 'Selma Lagerlöf': 1, 'Michèle Bernstein': 1, 'Michel Vinaver': 2, 'Claude Galien': 2, 'Vincent Peillon': 1, 'Serge Latouche': 1, 'Aimé Michel': 1, 'Guillaume Dustan': 1, 'Patrick Lapeyre': 1, 'Johanna Spyri': 1, 'Jean-Pierre Chabrol': 3, 'Jean-Pierre Siméon': 5, 'Christophe Honoré': 2, 'Vanessa Duriès': 1, 'Pedro Calderón de la Barca': 1, 'Jean-Michel Maulpoix': 1, 'Jean-Paul Bignon': 2, 'Raymond Plante': 2, 'Nicolas Hulot': 1, 'Emmanuel Berl': 2, 'John Grisham': 1, 'Johannes V. Jensen': 1, 'Charles Pettit': 1, 'Barbara Cartland': 1, 'Albert Samain': 1, 'Michel Rio (écrivain)': 3, 'Élisabeth Vonarburg': 2, 'Carlos Ruiz Zafón': 1, 'Gaston Miron': 1, 'François Hédelin': 1, 'Jean-Philippe Abelin': 3, 'Jean-Claude St-Onge': 1, 'Michel Rabagliati': 1, 'Jean-Jacques Pelletier': 1, 'Jacques Monod': 1, 'Jean Ferry': 2, 'François Viète': 1, 'Roger Grenier': 3, 'Jean-Denis Bredin': 1, 'Goran Petrović': 1, 'André Martel': 1, 'Robert Musil': 1, 'Jean-Michel Charlier': 2, 'Elizabeth George': 1, 'Jacques Goimard': 2, 'Edward Gorey': 1, 'Emmanuelle Arsan': 1, 'Jean-François Deniau': 9, 'Jean-Marie Rouart': 2, 'Pierre Moinot': 2, 'Suzanne Myre': 1, 'Norman Mailer': 1, 'Jacques Lamalle': 2, 'Wajdi Mouawad': 1, 'Michel Valette': 1, 'André Léo': 1, 'Christian Plume': 1, 'Dick Higgins': 1, 'André Chamson': 1, 'Jacques Bainville': 2, 'Maurice Constantin-Weyer': 1, 'Paul Carton': 2, 'Pierre Bénard': 9, 'Jean Bernier (journaliste)': 2, 'Christophe Bourseiller': 1, 'Jean Herbert': 1, 'François Caradec': 2, 'Dominique Venner': 2, 'Jacques Sadoul (éditeur)': 2, 'Nelly Arcan': 1, 'Jean Lahougue': 1, 'Jean-François Chabrun': 7, 'François Maynard': 2, 'Jean-Yves Reuzeau': 1, 'Réjean Ducharme': 1, 'Marcel Dubé': 2, 'Françoise Morvan': 2, 'Hella S. Haasse': 1, 'André Blavier': 1, 'Alain Guel': 1, 'Jean Carrière': 2, 'Beatrix Potter': 1, 'Jean Boucher (théologien)': 3, 'Fatima Gallaire': 1, 'Giovanni Villani': 1, 'André Theuriet': 1, 'Pierre Sansot': 1, 'Jacques Chauviré': 1, 'Andre Norton': 2, 'Pierre Daru': 1, 'Charles Cotin': 5, 'Arnaud Desjardins': 2, 'Vincent Ferrier': 3, 'François Ponsard': 1, 'Pierre Boujut': 3, 'Jean-François Susbielle': 2, 'Claude Semal': 1, 'Jacques Vaché': 3, 'Christopher Paolini': 1, 'François David (écrivain)': 4, 'Nicolas Gédoyn': 2, 'Jean-Louis Laya': 1, 'Germaine Guèvremont': 1, 'Jules-Paul Tardivel': 1, 'Pierre Trottier': 2, 'Alain Beaulieu': 2, 'Jacques Ferron': 5, 'Jean-François Ménard': 5, 'Baltasar Gracián': 1, 'Marie Uguay': 2, 'John Berger': 2, 'Christian Querre': 1, 'Pierre Gripari': 1, 'Abel Dufresne': 1, 'Dominique Demers': 2, 'Daniel Pinard': 3, 'Jean-Marie Perrot': 2, 'Bernard Manciet': 1, 'Pierre Péron': 4, 'Charles Loyson': 1, 'Alain Gerbault': 2, 'Gamal Ghitany': 1, 'Abanîndranâth Tagore': 1, 'François Pédron': 3, 'Jacques Grévin': 1, 'Jacques Dubois (médecin)': 1, 'Théophile Gautier (fils)': 1, 'Claude Quillet': 1, 'Jean Marot (poète)': 2, 'Louis Le Pelletier': 1, 'Patrice Duvic': 1, 'Nicolas Bouvier': 1, 'Jean-Claude Deret': 10, 'Jacques Poulin': 3, 'Paul Fournel': 1, 'Jean Delay (psychiatre, écrivain)': 2, 'Aurobindo Ghose': 1, 'Renaud Marhic': 1, 'Philippe Quinault': 2, 'Marcel Clément': 1, 'Jean-Christophe Grangé': 3, 'Pascal Krop': 1, 'Suzanne Citron': 2, 'Claude Jasmin': 2, 'Michel Camus': 1, 'Pascal Lainé': 1, 'Tristan Derème': 1, 'Claude Allard': 7, 'Claude Baduel': 2, 'Nicolas Aubin': 4, 'Maurice Clavel': 1, 'Jean Le Masle': 1, 'Jean Barclay': 1, 'Jacques Lacoursière': 1, 'Jacques Lacombe (1724-1811)': 3, 'Arthur Buies': 1, 'Daniel Picouly': 1, 'Marie Le Franc': 2, 'Philippe Sollers': 1, 'François Marion': 5, 'Frédéric Lenormand': 2, 'Charles Sorel': 1, 'Pascal Guy': 1, 'Christiane Rochefort': 1, 'Jean Rohou': 1, 'Ed McBain': 1, 'François Vallée (linguiste)': 1, 'Jacques Mercier (écrivain)': 4, 'Adonis (poète)': 1, 'Jean Merrien': 2, 'Olivier Bournac': 1, 'Jean Choleau': 2, 'Gilles Bresson': 2, 'Terry Brooks': 1, 'Gérard Defois': 1, 'Pierre Borel': 2, 'Jacqueline Pascal': 1, 'Jean-Pierre Le Dantec': 1, 'Maurice Zundel': 1, 'Maurice Carême': 1, 'Stéphanie Benson': 1, 'Jacques Goddet': 2, 'Yves Trottier': 2, 'Jean-Pierre Monnier': 7, 'Christian Zuber': 1, 'Frédéric Toussaint': 1, 'Charles Plisnier': 1, 'Claude Farrère': 2, 'Charles Daudet': 1, 'Sarah Kane': 1, 'Patrick Pelloux': 1, 'Tanella Boni': 1, 'Patrick Viveret': 1, 'Louis Pergaud': 1, 'Michèle Mercier': 2, 'François Mevellec': 3, 'François Cadic': 6, 'Martin Nadaud': 1, 'Dacia Maraini': 1, 'Arlette Cousture': 1, 'Roberto Bolaño': 1, 'Alain Suied': 1, 'Daniel Sernine': 1, 'Pierre Magnan': 2, 'Pierre Véry': 1, 'Hermann Kesten': 1, 'Yann Martel': 1, 'Louis-Philippe Ouimet': 4, 'Monique Laederach': 1, 'Hector de Saint-Denys Garneau': 1, 'Paul Savoie': 1, 'Rossel Vien': 1, 'Zachary Richard': 1, 'Robert Littell': 1, 'Jean-Pierre Thomin': 2, 'Wilkie Collins': 1, 'Jean-Yves Royer': 2, 'Mathieu Bénézet': 1, 'Paco Ignacio Taibo II': 1, 'Esther Rochon': 1, 'Benjamin Rabier': 1, 'Yannick Pelletier (écrivain)': 1, 'Martin Gray': 2, 'Yves Le Febvre': 1, 'Jean-Claude Miossec': 1, 'Claude Campagne': 1, 'Georges Métivier': 1, 'Jean-Pierre Poccioni': 1, 'Jean Yole': 2, 'Alain Bergeron': 7, 'Samuel Bochart': 1, 'Richard Rhodes': 1, 'Maryse Condé': 2, 'Pierre Pithou': 1, 'Stéphane Jougla': 1, 'Alexandre Chatrian': 1, 'Stanley Ellin': 1, 'Jacques Rennes': 2, 'Auguste Maquet': 1, 'James Redfield': 1, 'Jean-Paul Alègre': 1, 'Philippe Torreton': 1, 'Guy Gavriel Kay': 1, 'Pierre-Luc Lafrance': 1, 'Patrick Senécal': 1, 'O. Henry': 1, 'Jean-Louis Trudel': 4, 'Natasha Beaulieu': 1, 'Jean-François Bladé': 11, 'Jean Balde': 1, 'Jean Paul': 2, 'Marie-Claire Blais': 1, 'Pierre Yergeau': 4, 'Sylvie Bérard': 7, 'Olivier Py': 1, 'Marie Laberge': 4, 'Jacques Salomé': 3, 'Christian Bobin': 9, 'Jean-Simon DesRochers': 1, 'Gary Gaignon': 1, 'Francine Pelletier': 4, 'Jacques Languirand': 1, 'Gilles Proulx': 1, 'Georges Leroux': 1, 'Herbjørg Wassmo': 1, 'Pierre Boutang': 1, 'Jacques Lacarrière (écrivain)': 1, 'Jacques Lainez': 1, 'Maurice Nadeau': 5, 'Normand Baillargeon': 1, 'Doris Lussier': 2, 'Rabah Belamri': 1, 'Loïc Barrière': 1, 'Boubacar Boris Diop': 1, 'Frédéric H. Fajardie': 1, 'Éric Gauthier': 2, 'E. M. Forster': 1, 'Francis Paul Wilson': 1, 'Pierre Matthieu': 1, 'Nicolas Sanson (cartographe)': 3, 'Jean Barbe': 2, 'Jacques Delval': 1, 'Christopher Wood (écrivain)': 1, 'Évelyne Brisou-Pellen': 1, 'Tad Williams': 1, 'Alexandre Voisard': 2, 'August Strindberg': 1, 'Daniel Mandon': 4, 'Nicolas Vanier': 3, 'Georges Athénas': 1, 'Lenia Major': 1, 'Jean-Michel Di Falco': 1, 'Pierre Mérot': 2, 'Marc Lescarbot': 1, 'Claude-Henri Grignon': 1, 'Virgile Rossel': 1, 'Christian Liger': 2, 'Maurice Chappaz': 1, 'Pedro Juan Gutiérrez': 1, 'Jacques Cambry': 2, 'Maurice Donnay': 1, 'Pierre Decourcelle': 1, 'Martin Waddell': 1, 'Philippe Cornu': 2, 'Charles Dobzynski': 1, 'Jim Thompson': 1, 'Russell Banks': 1, 'Claude Bourdet': 1, 'Jane Yolen': 1, 'James A. Michener': 1, 'Robert Hainard': 1, 'Michel Butel': 3, 'John Banville': 1, 'Jean-Luc Marion': 1, 'Christine Orban': 3, 'Alfred Döblin': 1, 'Alexandre Duval': 1, 'Pierre Perrin (poète)': 6, 'Georges Corm': 2, 'Henriette Dessaulles': 1, 'Julien Peleus': 1, 'Jacques Drillon': 3, 'Christian Violy': 2, 'Henri Lefebvre': 1, 'Ann Scott': 1, 'Jean-Christophe Victor': 2, 'Olivier Basselin': 1, 'Robert Garnier': 4, 'André Langevin (écrivain)': 2, 'David Rousset': 1, 'Pierre Morency': 1, 'Ken Saro-Wiwa': 1, 'Peter Carey': 2, 'Jacques Dyssord': 1, 'Sonallah Ibrahim': 1, 'Annie Jay': 1, 'Pierre Jourde': 5, 'Alessandro Verri': 1, 'Pierre Béhel': 1, 'Louise Hervieu': 1, 'Daniel Tammet': 1, 'Pierre-Olivier Walzer': 1, 'Bernard Comment': 1, 'Charles Porée': 2, 'Louise Levesque': 2, 'Robert Choquette': 2, 'Pierre Kalfon (journaliste)': 4, 'André Baillon': 1, 'Muriel Diallo': 1, 'Michel Crépu': 1, 'Évelyne Bernard': 2, 'François Bordes': 1, 'Francis Ricard': 7, 'Marcel Trudel': 2, 'Joël Champetier': 1, 'Laure Conan': 1, 'Seichō Matsumoto': 1, 'Richard Morgan': 1, 'Claude Aveline': 1, 'Patrick Renou': 2, 'Jean-Louis Bory': 1, 'Gabriel Hanot': 1, 'Jean Joubert': 1, 'Béatrix Beck': 1, 'Albert Béguin': 1, 'Jacques Borel (écrivain)': 4, 'Gustavo Adolfo Bécquer': 1, 'Joyce Carol Oates': 1, 'Monique Proulx': 3, 'Paul Meurice': 1, 'Guillaume Vigneault': 2, 'Ben Jonson': 1, 'Jean-Luc Outers': 1, 'Jean de Gerson': 1, 'Jean Dorat': 1, 'Pierre Milza': 1, 'Réjean Tremblay': 2, 'Pierre Grimal': 1, 'Robert Marteau': 2, 'Jules Hermann': 1, 'Henri Tranquille': 1, 'Raymond Federman': 1, 'Ronald Laing': 1, 'Anne Robillard': 1, 'Bernard Dadié': 3, 'Douglas Harding': 1, 'Gérard Oberlé': 1, 'Marc Leclerc (écrivain)': 1, 'Jean Papire Masson': 1, 'François Hotman': 1, 'Marcel Bélanger': 7, 'François Avard': 6, 'Fernand Dumont (sociologue)': 2, 'Pierre Vadeboncœur': 2, 'Yves Thériault': 1, 'Jacques Brault': 2, 'Jean Éthier-Blais': 1, 'André Major': 1, 'Gilles Hénault': 3, 'Monique Bosco': 1, 'Gilles Marcotte': 2, 'Roland Giguère': 1, 'Michel van Schendel': 1, 'Naïm Kattan': 1, 'Pierre Nepveu': 1, 'Félix-Antoine Savard': 1, 'Alain Grandbois': 1, 'Paul-Marie Lapointe': 2, 'Gérald Leblanc': 1, 'Neale Donald Walsch': 1, 'André Giroux': 1, 'Ying Chen': 1, 'Bruno Hébert': 1, 'Nadine Bismuth': 1, 'Gil Courtemanche': 2, 'Sylvain Trudel': 3, 'Lise Tremblay': 9, 'Gérald Godin': 1, 'Robert Lalonde': 3, 'Monique LaRue': 8, 'Émile Ollivier (écrivain)': 1, 'Anne Élaine Cliche': 1, 'Pierre Gobeil (écrivain)': 2, 'Sergio Kokis': 1, 'Aki Shimazaki': 1, 'Yvon Rivard': 1, 'Willie Thomas': 2, 'Joël Des Rosiers': 1, 'Régine Robin': 1, 'Louis Gauthier': 3, 'David Solway': 1, 'Gaëtan Brulotte': 2, 'Madeleine Monette': 2, 'Louise Leblanc': 2, 'Danielle Dubé': 2, 'Jean-Robert Sansfaçon': 1, 'Raymond Beaudet': 2, 'Louise Doyon': 1, 'Jean-Alain Tremblay': 2, \"Jean Fontaine (missionnaire d'Afrique)\": 1, 'André Girard (écrivain)': 3, 'Gabrielle Gourdeau': 2, 'Jacques Desautels': 1, 'Robert Gagnon': 3, 'Danielle Roy': 4, 'Raymonde Lamothe': 1, 'Michel Désautels': 1, 'Guy Moreau': 1, 'Chantal Gevrey': 4, 'Arlette Fortin': 1, 'Mylène Gilbert-Dumas': 1, 'Gilles Jobidon': 3, 'Reine-Aimée Côté': 1, 'Roxanne Bouchard': 2, 'Suzanne Paradis': 3, 'Claire Martin': 5, 'Yves Préfontaine': 1, 'Guy Frégault': 1, 'Jean-Marc Desgent': 1, 'Geneviève Billette': 3, 'Robert Charbonneau': 4, 'Léo-Paul Desrosiers': 1, 'Robert de Roquebrune': 1, 'Philippe Panneton': 1, 'Victor Barbeau': 1, 'Jean Simard': 3, 'Marcel Rioux': 1, 'Robert-Lionel Séguin': 1, 'Jacques Brossard (écrivain)': 4, 'Louis Caron': 1, 'Jacques Folch-Ribas': 1, 'Heinz Weinmann': 1, 'Jean Larose': 2, 'Daniel Castillo Durante': 1, 'Gilles Lapointe (écrivain)': 2, 'Marcel Olscamp': 1, 'Daniel Jacques': 2, 'René Lapierre': 4, 'Robert Melançon': 1, 'François Paré': 12, 'Jean Royer (écrivain)': 2, 'Jean-Pierre Coffe': 8, 'Gilbert Langevin': 2, 'Rachel Leclerc': 4, 'Claude Beausoleil': 1, 'Paul Chanel Malenfant': 2, 'Hugues Corriveau': 1, 'Michel Beaulieu': 1, 'Jean-Philippe Bergeron': 1, 'Raymond Barbeau': 1, 'Paul Morin (poète)': 4, 'Pierre Daviault': 1, 'Paul Beaulieu': 2, 'Réginald Martel': 1, 'Jean-Marc Léger (écrivain)': 2, 'Doris Lessing': 1, 'Richard Clarke': 1, 'Michel Jobert': 3, 'Jacques Amyot (évêque)': 2, 'Yves Beauchemin': 1, 'Benoît Lacroix': 2, 'David Rome': 2, 'Roger Lemelin': 1, 'Alain Stanké': 1, 'Jacques Valier': 3, 'Jean-Jacques Pauvert': 1, 'Benoît Dutrizac': 1, 'Jared Diamond': 3, 'Lise Payette': 2, 'Christophe Cousin': 1, 'Patrick Delperdange': 1, 'Lucien Bodard': 1, 'Jacques Spitz': 1, 'Robert Guy': 1, 'Pierre Andrieu (XXe siècle)': 2, 'Pierre Pierrard': 1, 'Richard Leblanc': 1, 'Jean-Loup Chiflet': 1, 'Louis Bertrand (écrivain)': 1, 'Georges Darien': 3, 'Gérard Delteil': 1, 'Serge Quadruppani': 1, 'Mihai Eminescu': 1, 'Georgette Lacroix': 1, 'Louise Dechêne': 2, 'Jovette Marchessault': 2, 'Diane Giguère': 1, 'Jean-Aubert Loranger': 1, 'Gilbert Choquette': 2, 'Francine Ouellette': 6, 'Dominique Blondeau (écrivain)': 3, 'Sylvain Simard': 2, 'Louise Simard': 3, 'Micheline La France': 2, 'Jean-François Beauchemin': 3, 'Maryse Barbance': 1, 'Denis Thériault': 6, 'Marie Hélène Poitras': 2, 'Claude Bolduc': 2, 'André de Richaud': 1, 'Michel Quint': 1, 'Jean-Pierre Fontana': 1, 'Mathieu Fortin': 5, 'Gilles Rozier': 3, 'Cécile Fortier Keays': 1, 'Charles Varin': 4, 'Michel Leclerc (poète)': 5, 'David Ferrand': 2, 'Mario Mercier': 1, 'Nicolas Gilbert': 1, 'Abdourahman Waberi': 1, 'Pierre Audard': 5, 'Jacques Pradon': 2, 'Thomas Owen': 2, 'Guillaume Gosselin': 1, 'Maurice Henry (poète)': 1, 'Joseph Le Bayon': 1, 'Jean-Marie Le Jean': 1, 'Jacques Rigaut': 1, 'Jean-Marie Mary': 2, 'Pierre Laurent (poète)': 2, 'Pierre Martin (poète)': 10, 'Claude Le Prat': 1, 'Fred Pellerin': 1, 'Eugène Dupont': 1, 'Jean Amrouche': 1, 'Jacques Rouzet': 2, 'Pierre Minet': 1, 'Eyvind Johnson': 2, 'Lysette Brochu': 1, 'Ook Chung': 1, 'Karl Kraus': 1, 'Stéphane Denis': 1, 'Juana Inés de la Cruz': 1, 'Philippe Alexandre': 1, 'Hervé Fischer': 1, 'Jean-Paul Jody': 3, 'François Rollin': 5, 'Michel Durafour': 1, 'Germaine Beaumont': 1, 'Harriet Martineau': 1, 'Viateur Lefrançois': 1, 'Roger Munier': 1, 'Jean-Paul Fugère': 3, 'Dominique Bona': 2, 'Antonio Porchia': 1, 'Georges-Olivier Châteaureynaud': 1, 'Yves Navarre': 1, 'K. W. Jeter': 1, 'Michel Vastel': 2, 'Ghislain Taschereau': 1, 'Alain Raimbault': 1, 'Jean Le Moyne': 1, 'Georges-André Vachon': 1, 'Laurent Mailhot': 1, 'Roger Fournier (écrivain)': 3, 'Pauline Harvey': 1, 'Jacques Cujas': 1, 'Dominique Douay': 3, 'Luis Martín Santos': 1, 'Alain Mabanckou': 1, 'Bernard Lenteric': 1, 'Larry McMurtry': 1, 'Carol Higgins Clark': 1, 'Christian Beck': 1, 'Robert Meyrat': 1, 'Claude Villers': 1, 'Don DeLillo': 1, 'Luc Nefontaine': 1, 'Maurice Blanchard': 2, 'Claude Romano': 1, 'Jean-François Lisée': 10, 'Andreï Guelassimov': 1, 'Jean-Jacques Bachelier': 1, 'Minette Walters': 1, 'Guillaume Parvy': 1, 'David Adams Richards': 1, 'Michel Deguy': 1, 'Jean-Pierre Duprey': 5, 'John Wilmot (2e comte de Rochester)': 1, 'Olivier Larronde': 1, 'Jean-Claude Germain': 3, 'Philippe Porée-Kurrer': 1, 'Damase Potvin': 2, 'Jean-Guy Noël': 1, 'Bernard Noël': 1, 'François George': 2, 'Jean Bale': 3, 'Jacques Balmes': 2, 'Daniel Barbaro': 1, 'Robert Barclay': 1, 'Pierre Barral (homme de lettres)': 7, 'Jean-François Bastien': 10, 'Ramón J. Sender': 1, 'Dominique Baudier': 6, 'Jean Baudoin (académicien)': 1, 'Pierre Torreilles': 1, 'Christine Aventin': 1, 'André Figueras': 1, 'Jean-Pierre Pernaut': 3, 'Maurice Garçon': 1, 'Denise Desautels': 1, 'William Baxter (philologue)': 1, 'Alexandre Hardy': 2, 'François Ricard': 6, 'Jean Macé': 2, 'Francine Ruel': 9, 'Louis-Edmond Hamelin': 1, 'André Barbeau': 3, 'Michel Ohl': 2, 'Marco Micone': 2, 'François Bellanger': 5, 'Suzanne Prou': 1, 'Hélène Pelletier-Baillargeon': 1, 'René Benoît (religieux)': 1, 'Jérôme Garcin': 2, 'Conrad Detrez': 1, 'Pierre Costar': 2, 'Clément Marchand': 1, 'Hugh MacLennan': 1, 'Jacques Lanctôt': 2, 'Jean-François Sarrasin': 2, 'André Girard (peintre)': 3, 'Maurice Lebel': 1, 'Yves Meynard': 1, 'Robert Menasse': 1, 'André Dacier': 1, 'Patrick Pearse': 1, 'Pierre Martinet (agent secret)': 1, 'Camille Roy': 2, 'Jean-Frédéric Bernard': 1, 'Francesco Berni': 1, 'François Bernier (philosophe)': 3, 'Alexandre Bertrand (médecin)': 1, 'Louis Émond (écrivain, 1969)': 2, 'Richard Garneau': 2, 'Arnauld Pontier': 1, 'Napoléon Bourassa': 1, 'Jean-François Miniac': 5, 'Nicolas Faret': 1, 'François Rivière': 2, 'Guy Boulizon': 1, 'Gilles Boulet': 2, 'Aurélien Boivin': 1, 'François Blanchet (prédicateur)': 1, 'Denis Guiot': 1, 'Camille Cousin': 1, 'Adolphe-Basile Routhier': 1, 'Albert Laberge': 1, 'Alina Reyes': 1, 'Gilbert La Rocque': 1, 'Philippe Haeck': 2, 'François Charron': 2, 'Jean-Yves Collette': 1, 'Philippe Ségur': 3, 'Gilles Boileau': 2, 'Georges Badin': 3, 'Jean Bolland': 1, 'Giovanni Bona': 1, 'Gilles Perrault': 2, 'Charles Borde': 3, \"Jamie O'Neill\": 1, 'Catherine Bensaïd': 2, 'Jean Bouchet': 1, 'Michel X Côté': 3, 'Maurice Baring': 1, 'Gaétan Soucy': 1, 'Nicole Filion': 5, 'Richard Arès': 1, 'Laurent McAllister': 1, 'Anne-Marie Alonzo': 2, 'Alice Munro': 1, 'François Richard (écrivain)': 5, 'André Brochu': 2, 'Fernand Ouellet': 2, 'Jean-Pierre Wallot': 9, 'Marius Barbeau': 1, 'Robert Lowell': 3, 'Paul Toupin': 2, 'Philippe Madec': 3, 'Guillaume Lebeau': 2, 'Akira Yoshimura': 1, 'Nicolas Brazier': 2, 'Antoine Bret': 1, 'Philippe Muray': 1, 'Brigitte de Suède': 1, 'Victor Brodeau': 1, 'Frances Brooke': 1, 'Claude Brossette': 1, 'John Brown (essayiste)': 1, 'Jacques Allard (écrivain)': 6, 'Napoléon Aubin': 2, 'Jean-Marie Gourio': 1, 'Robert Burton (écrivain)': 1, 'Leif Davidsen': 1, 'Marc Paillet': 1, 'Reynald Cantin': 1, 'Victor Pelevine': 1, 'Joaquín Sabina': 1, 'Jean Grave': 1, 'Charles Frémine': 1, 'Mahmoud Darwich': 1, 'Nina Roberts': 2, 'Dominique Zardi': 1, 'Jacques Renaud': 3, 'Jean-Louis Aubert (1731-1814)': 2, 'Marie-Christine Koundja': 1, 'Martin Walser': 3, 'Paul Nizon': 1, 'Paul Emond': 1, 'Philippe Blanchet': 1, 'Jean-Pierre Hubin': 7, 'François Brune (écrivain)': 2, 'Patrick Dennis': 1, 'Jacques Pasquet': 2, 'John Campbell (écrivain écossais)': 1, 'Jean-Pierre Camus': 8, 'Martin Esslin': 1, 'William Cowper': 1, 'Louis Bellaud': 1, 'Roy Lewis': 1, 'Roberto Juarroz': 1, 'Gil Jouanard': 1, 'Louis-Bernard Robitaille': 1, 'Richard Hétu': 1, 'Pierre Barbet (écrivain)': 7, 'Adrien Thério': 1, 'Louis Dantin': 1, 'Stéphane Venne': 1, 'Jean-Charles Harvey': 2, 'John Saul': 2, 'Laurent Laplante': 2, 'Jeanne Williams': 1, 'Kazuo Ishiguro': 1, 'Robert Harris (écrivain)': 5, 'Georges Neveux': 1, 'R. L. Stine': 1, 'Valerius Caton': 1, 'Robert Bloch': 1, 'Louis Calaferte': 1, 'Pierre Miquel': 2, 'Jacques Duval': 1, 'Jaime Sabartés': 1, 'Frédéric Soulié': 1, 'Carole Tremblay': 2, 'Françoise Dorin': 9, 'Serge Pey': 1, 'Jean-Pierre Garen': 21, 'François Charpentier': 1, 'François Muratet': 2, 'Denis Roche (1937-2015)': 1, 'Alain Gagnon': 3, 'Arthur Dee': 1, 'Bernard Berger': 2, 'François Bégaudeau': 1, 'Philippe Goy': 1, 'Jean-Baptiste Dubos': 1, 'Simonne Monet-Chartrand': 1, 'Alexandre Beliaïev': 2, 'Tracy Hickman': 1, 'Violette Leduc': 1, 'Nicolas Dickner': 1, 'Sebastian Faulks': 1, 'Marc Alyn': 2, 'François Gacon': 7, 'Philippe Halvick': 1, 'Jules Fournier': 3, 'François Gautier': 5, 'Michel Danino': 1, 'Robert Mallet (écrivain)': 4, 'Pierre Hassner': 1, 'Jacques Briend': 1, 'Martin Flavin': 2, 'Daniel Bernard (écrivain)': 7, 'Jean Hubert (historien)': 1, 'Jean-François Poupart': 4, 'Gatien Lapointe': 1, 'Françoise Loranger': 2, 'Louise Maheux-Forcier': 1, 'Yves Roby': 1, 'Suzanne Jacob': 1, 'Hélisenne de Crenne': 1, 'Jean-Pierre Duquette': 3, 'Roger Brien': 2, 'John Dunton': 1, 'Francisco Ayala': 2, 'Michel Le Tellier (jésuite)': 1, 'Claire Démar': 2, 'Maryse Pelletier': 4, 'Jean-François Kervéan': 6, 'Jean-Pierre Thiollet': 3, 'Danièle Starenkyj': 1, 'Jean-Pierre Bastid': 6, 'Chantal Hébert': 4, 'Nathaniel Thorne': 2, 'Frances Hodgson Burnett': 1, 'Dominique de Roux': 2, 'Louis Ménard': 1, 'Nicholas Rowe': 1, 'Charles Gildon': 1, 'Albert Giraud': 1, 'Mário de Carvalho': 1, 'Stéphane Despatie': 1, 'Madeleine Ferron': 2, \"Jacques Grand'Maison\": 1, 'Pauline Gill': 1, 'Simon St-Onge': 2, 'Pierre Boitel': 2, 'Christian Oster': 1, 'Philippe Trouvé': 2, 'Louise Bombardier': 2, 'Chrystine Brouillet': 2, 'Pierre Fontanier': 1, 'Alain Fortaich': 1, 'Michel Saad': 1, 'Miriam Toews': 1, 'Paul Ricœur': 1, 'Louisa May Alcott': 1, 'Gérard Bouchard': 3, 'Michel Venne': 1, 'Jean Paré (journaliste)': 3, 'Jean Désy': 1, 'Guillaume Musso': 1, 'Edward Albee': 1, 'Martin Amis': 1, 'Isabelle Wéry': 4, 'Céline Arnauld': 1, 'Pierre Perrin (écrivain)': 6, 'Jules Beaulac': 1, 'Bernard Morlino': 2, 'Paul Dermée': 1, 'Colette Nys-Mazure': 1, 'Charles Dumoulin': 1, 'France Bastia': 2, 'Charles Collé': 1, 'Jacques Dupuy': 1, 'Michel David': 2, 'Jean-Christophe Notin': 2, 'Michel Cournot': 1, 'Josh Freed': 1, 'Jean-Marc Ligny': 1, 'Denis Monette': 3, 'Nicolas Fargues': 1, 'Guillaume Morel': 2, 'Jean-Marc Lenglen': 2, 'Georges Mamy': 1, 'Pierre Labrie': 6, 'Marcel Moreau': 5, 'Mavis Gallant': 2, 'André Du Chesne': 1, 'Jacques Chancel': 2, 'Andrée Laberge': 3, 'Roger Gouze': 1, 'François Dousa': 4, 'Robert Charroux': 1, 'Jean Rolin': 3, 'Anne François': 1, \"Jean O'Neil\": 1, 'Charles Dibdin': 2, 'Jean-François Josselin': 1, 'François Cérésa': 1, 'Pierre Anctil': 2, 'Francis Cohen (médecin)': 2, 'Laurent-Michel Vacher': 1, 'Edmond de Nevers': 1, 'Denys Gagnon (écrivain)': 2, 'Jacques Jouet': 4, 'Jacques Sojcher': 1, 'Carl Norac': 1, 'Ornela Vorpsi': 1, 'François Dupuis': 2, 'Marie Müller': 1, 'Alain Hervé': 1, 'Stéphane Bourguignon': 1, 'Gisèle Cavali': 1, 'Michel Pratt': 2, 'Maxime Roussy': 1, 'Gaston Deschamps': 1, 'Madeleine Bourdouxhe': 1, 'Charles Bertin': 1, 'François Hertel': 3, 'Charles Lesca': 2, 'Annie Saumont': 1, 'Nicolas Chorier': 1, 'Michel Maillard': 2, 'Pierre Des Vignes': 1, 'Jacques Perry': 2, 'Jean-Pierre Hubert': 8, 'Maryse Dubuc': 1, 'Jean-François Gayraud': 5, 'Marthe Gagnon-Thibaudeau': 2, 'Jean-Jacques Gautier': 2, 'Adam Ferguson': 1, 'Christian Prigent': 1, 'Micheline Morisset': 3, 'Louis Cornellier': 1, 'Guillaume Faye': 4, 'Robert Soulières': 1, 'T. Carmi': 1, 'Sunny Duval': 1, 'Nicolas Fontaine (écrivain)': 2, 'Jean-Michel Riou': 2, 'Emmanuel Bove': 4, 'Peter Høeg': 1, 'Andrée Ferretti': 1, 'Giovanni Lista': 1, 'Augusto Monterroso': 1, 'Eckhart Tolle': 1, 'Bernard Mourad': 1, 'Peter Berling': 1, 'James Crichton': 1, 'Jean-Denis Cochin (1726-1783)': 2, 'Alexandre Guiraud': 1, 'Philippe Aubert de Gaspé, fils': 1, 'François Colletet': 1, 'Paul Cazin': 1, 'Jean-Marie Nadeau': 5, 'Caroline Quine': 2, 'Hector Fabre': 1, 'Claude Ber': 1, 'Tom Robbins': 1, 'Jean-Pierre Galland': 5, 'Viviane Moore': 1, 'Jean-Marc Rouillan': 1, 'Jean-Louis Curtis': 2, 'Antoine Bernard': 1, 'Pierre Chany': 1, 'Denise Boucher': 7, 'André Belleau': 2, 'Robert Lytton': 1, 'Philippe Bone': 4, 'Jean-Jacques Régnier': 1, 'Dominique Farale': 1, 'Joseph-Charles Taché': 1, 'Charles Dantzig': 1, 'Reinaldo Arenas': 1, 'Louis Grignon (écrivain)': 1, 'Narcisse-Henri-Édouard Faucher de Saint-Maurice': 1, 'Robert Challe': 2, 'Patrick Straram': 2, 'Gabriel Ringlet': 1, 'Jean Allary': 1, 'Bianca Lamblin': 1, 'Janine Boissard': 1, 'Alice Ferney': 1, 'Daniel De Bruycker': 1, 'François Raguenet': 1, 'Bernard Wolfe': 1, 'Jean-Louis Vaudoyer': 3, 'Jean Mitry': 1, 'Joseph Marmette': 1, 'Ludwig Geiger': 1, 'Tania Boulet': 1, 'Jacques Savoie': 3, 'Michel André (acteur)': 1, 'Margaret Laurence': 1, 'Paul Ariès': 2, 'Jacques Hardion': 4, 'Pierre Bertrand (philosophe)': 3, 'Olivier Patru': 1, 'Sylvain Tesson': 1, 'François Garasse': 2, 'Wilhelm Hauff': 1, 'Jean Fontaine (écrivain)': 1, 'Georges David': 2, 'Pierre Coton': 3, 'Nathalie Le Gendre': 1, 'Lewis Wallace': 1, 'Emmanuel Tugny': 1, 'Javier Marías': 1, 'Charlotte Bousquet': 1, 'Michael Marrak': 1, 'Michael Frayn': 1, 'Pierre Devoluy': 1, 'Alexandre Toursky': 1, 'Philippe Doumenc': 1, 'Patrick Corneau': 1, 'Ruth Rendell': 1, 'Charles Duits': 1, 'Nicolas Ancion': 1, 'Jean Filiatrault': 2, 'Pierre Daignault (acteur)': 2, 'Paul-Émile Roy': 1, 'Jean-Claude Martin': 15, 'Isabella Bird': 2, 'Jean-Louis Foncine': 1, 'Benoît Damon': 2, 'Jean-François Duval': 4, 'Jean Renaud (écrivain)': 1, 'Jacques Izoard': 5, 'Pierre Coran': 3, 'François de Callières': 2, 'Mario Bergeron': 6, 'Sidney Sheldon': 1, 'Dan Millman': 1, 'Gabrielle Bernard': 3, 'Stanley Péan': 1, 'David Frawley': 1, 'Charlotte Link': 2, 'Daniel Maximin': 2, 'Henry Rollins': 1, 'Pierre de La Ramée': 1, 'Thierry Séchan': 1, 'Robert Pinsky': 1, 'Pierre Dumayet': 2, 'Pierre Le Baud': 1, 'Pierre Bardin': 9, 'Jacques Brenner': 2, 'Victor Tissot': 1, 'Guy Denis': 2, 'Philippe Maxence': 1, 'Camilo Castelo Branco': 1, 'Marc Bernard': 1, 'Jack Higgins': 1, 'Diane Boudreau': 2, 'Richard Jorif': 2, 'Mireille Best': 2, 'Richard Rohmer': 1, 'Aude (écrivain)': 1, 'David B. Coe': 1, 'Marilyn Hacker': 1, 'Michel Bibaud': 7, 'Edmond Robillard': 1, 'Graham Fraser (journaliste)': 1, 'Jacques Roumain': 2, 'Thierry Laget': 1, 'Philippe Forest': 2, 'Alain Le Bussy': 1, 'Nicholas Evans': 1, 'Robert Hübner': 2, 'Stieg Larsson': 1, 'Élisabeth Barbier': 1, 'Kriss (animatrice)': 1, 'Noël Laflamme': 1, 'Tayeb Salih': 1, 'Bernard Wallet': 3, 'Pierre Fournier (journaliste)': 3, 'François Roger': 3, 'Jean-Pierre Naugrette': 1, 'François Caron (explorateur)': 7, 'Stéphane Laurent': 2, 'Benoît Malon': 1, 'Jacques Dubois (professeur)': 1, 'Daniel Taillé': 1, 'Edward Bellamy': 1, 'Roger Magini': 1, 'Pierre Ichac': 1, 'James Clavell': 1, 'Gustave Lamarche': 1, 'Hélène Pedneault': 1, 'Vénus Khoury-Ghata': 1, 'Pierre Rey': 2, 'Jean-Paul Desbiens': 3, 'Gabriel Sénac de Meilhan': 1, 'Eugène Lapointe': 1, 'Guy Dufresne': 1, 'Marie Gaudreau': 2, 'Marie-Francine Hébert': 1, 'Elias Khoury': 1, 'John Neal': 1, 'Victor-Lévy Beaulieu': 1, 'Jean Charbonneau': 1, 'Jean Ménard': 2, 'Francis Édeline': 1, 'Louise Dupré': 2, 'Eduardo Manet': 1, 'Robert Matteau': 1, 'Michael Chabon': 1, 'Alexandre Moix': 1, 'Pierre Barouh': 4, 'Paul André (poète belge)': 1, 'Hubert Nyssen': 1, 'Alexandre Hepp': 1, 'Jean Améry': 1, 'Sarah Waters': 1, 'Claude Morin': 3, 'Marcel Dugas': 1, 'Alphonse Piché': 1, 'Alberto Manguel': 1, 'Jean Graton': 1, 'Christian Millau': 1, 'Olivier Paquet': 2, 'James Herriot': 1, 'Bastien Fournier': 1, 'Jean-Philippe Cazier': 3, 'Liliane Wouters': 1, 'François Coupry': 2, 'Roger Duhamel': 1, 'Neil Bissoondath': 1, 'Jacques Lamarche': 1, 'Dominique Guirous': 1, 'Anthony Bourdain': 1, 'Denis Monière': 2, 'Paul Goodman': 1, 'Élizabeth Filion': 1, 'Robert Forward': 1, 'Sylvaine Tremblay': 5, 'Pierre Gilles': 2, 'Jean-Marc Grenier': 3, 'Gilles Farcet': 2, 'Jean-Paul Aron': 2, 'Jean Huguet': 1, 'Metin Arditi': 1, 'Bertrand Bergeron': 1, 'Hervé Claude': 1, 'Gilles Pellerin (écrivain)': 1, 'Marie de France (poétesse)': 2, 'Richard Hell': 1, 'Sylvain Meunier': 1, 'David A. Poulsen': 1, 'Bertrand Gauthier': 2, 'Lucie Bergeron': 4, 'Susanne Julien': 2, 'Hélène Vachon': 2, 'Pierre Rigoulot': 1, 'Nadya Larouche': 1, 'Rodrigue Larue': 2, 'Pierre Barret': 7, 'Abdelhak Serhane': 1, 'François Ladame': 2, 'Paul Biron': 1, 'Hector Crinon': 1, 'Patrice Desbiens': 1, 'Daniel Crozes': 3, 'Michel Hoëllard': 3, 'Christian Grenier': 2, 'Elizabeth May (femme politique)': 6, 'Paul Reboux': 1, 'Maurice Joncas': 1, 'Jonathan Littell': 1, 'Michelle Meyer': 1, 'Guy Corneau': 2, 'Philippe Bouin': 7, 'Jean-François Brieu': 9, 'Thomas Warton': 2, 'Philippe Belin': 6, 'Mathias Énard': 1, 'Jean Kay': 1, 'Lise Vekeman': 1, 'Étienne Lalonde': 1, 'François Lelord': 1, 'Mike Ward': 1, 'Michel Marmin': 6, 'Fannie Flagg': 1, 'Gilles Lapouge': 3, 'Robert Gaguin': 4, 'Léandre Bergeron': 2, 'Nicolas Jouin': 2, 'Julien Bigras': 3, 'Johanna Sinisalo': 1, 'William Mason': 1, 'Georges Lafontaine (écrivain)': 1, 'Marc Patin': 1, 'François Fabié': 4, 'Ian McDonald (écrivain)': 1, 'Mary Higgins Clark': 1, 'Véronique Ovaldé': 1, 'Jean Reynaud': 1, 'Juan José Cañas': 1, 'Raymond Guérin': 1, 'Diana Gabaldon': 1, 'Claude Élien': 2, 'Claire Varin': 4, 'John Gower': 1, 'Robert Greene': 1, 'Jacques Baron': 10, \"Pierre d'Abernon\": 1, 'Robert Sténuit': 1, 'Maurice Heine': 1, 'Thierry Lenain': 3, 'Georges Henein': 1, 'Marc Large': 1, 'Patrice Duret': 4, 'Alistair MacLean': 1, 'Catherine David (écrivain)': 1, 'Danny Plourde': 1, 'François-Marc Gagnon': 2, 'Jacques Cellard': 5, 'Philippe Barrès': 2, 'Michèle Fabien': 1, 'Jean-François Six': 8, 'Erika Mann': 1, 'Francine Noël': 3, 'Mitch Albom': 1, 'Mark Frost': 1, 'India Desjardins': 1, 'Karoline Georges': 1, 'François Briand': 1, 'François-Xavier Liagre': 2, 'Alan Paton': 1, 'Pascal Martin (auteur dramatique)': 2, 'Nicolas Langelier': 1, 'François Véron': 4, 'André Berthiaume': 1, 'Michael Coney': 1, 'Jean-Pierre Girard (écrivain)': 7, 'Christiane Frenette': 4, 'Judith McNaught': 1, 'Michel Dufour (écrivain)': 5, 'Michael Delisle': 1, 'Pierre Clément (écrivain)': 1, 'Maurice Vidal': 1, 'Marcelyne Claudais': 1, 'Sylvain Hotte': 2, 'Mireille Havet': 2, 'Robert Garcet': 2, 'Claude Marc Bourget': 1, 'Yves Martin (écrivain)': 3, 'Mathieu Blais': 2, 'Philippe Girard (auteur)': 4, 'Nora Roberts': 2, 'W.W. Jacobs': 1, 'Marie-Camille Roy Nobert': 1, 'François Gravel': 3, 'Bernard Andrès': 2, 'Pierre Gévart': 8, 'Alexander McCall Smith': 1, 'Pierre Hamp': 2, 'Jean-Claude Marsan': 10, 'Marcel Fournier (historien)': 1, 'Jean-Louis Major': 1, 'Sergine Desjardins': 3, 'Caroline B. Cooney': 2, 'Suzanne Lilar': 1, 'Lillian Hellman': 1, 'Alexandra Larochelle': 2, 'Jean Marc Dalpé': 1, 'Pierre Chalmin': 1, 'Philippe Dagen': 4, 'Charles Joret': 1, 'Michel Quoist': 1, 'Franck Pavloff': 1, 'William E. Bell (écrivain)': 1, 'Yolande Villemaire': 1, 'Allan Tremblay': 3, 'Pierre Grimblat': 1, 'Antoine Boute': 1, 'Christophe Béguin': 2, 'Per Olov Enquist': 1, 'Bertrand Gervais': 1, 'Jean-Claude Grumberg': 2, 'Torgny Lindgren': 1, 'Mathieu-Robert Sauvé': 1, 'Charles Du Bos': 1, 'Sylvain Joubert': 2, 'Thérèse de Saint-Phalle': 1, 'Denis Marion': 2, 'Alain M. Bergeron': 2, 'Michel Lebrun (écrivain)': 3, 'André Savignon': 1, 'Lucien Parizeau': 2, 'Robert Penn Warren': 1, 'François Nodot': 6, 'Charles Leland': 2, 'Christopher Bram': 1, 'Jean Lamarre (historien)': 1, 'Amadou Lamine Sall': 1, 'Jean Godard': 1, 'Jacques Marchand': 2, 'William Kirby (écrivain)': 1, 'Martine Latulippe': 2, 'Monique Pariseau': 1, 'Vincent Engel': 2, 'Wendell Berry': 1, 'Alain Bagnoud': 1, 'Chantal Cadieux': 1, 'Ian Stewart (mathématicien)': 1, 'Jean-Philippe Béja': 3, 'Pamphile Le May': 1, 'Patrick Gyger': 1, 'Michel Marc Bouchard': 2, 'Jean-Luc Moreau (écrivain)': 2, 'Pierre Bameul': 1, 'Claude Ollier': 3, 'Jean-Christophe Bailly': 2, 'Serge Sautreau': 1, 'Marguerite Audoux': 2, 'Denis Langlois (écrivain)': 4, 'Michel Giard': 3, 'William Chapman': 1, 'Nadine Monfils': 1, 'Jacques Despars': 1, 'Louis Gardel': 2, 'François Sureau': 4, 'Robert Giraud': 4, 'Robert Cormier': 3, 'Véronique Olmi': 1, 'François Buot': 7, 'Steve Fisher': 1, 'Jérôme Leroy (écrivain)': 1, 'Paul de Musset': 1, 'Jean-Claude Claeys': 2, 'James Sacré': 1, 'Jean Féron': 4, 'Charles Mauron': 2, 'Isabelle Lecomte': 2, 'Tom Holland (écrivain)': 2, 'Pierre Montlaur (auteur)': 1, 'Gaëtan Picard': 2, 'Fernand Dumont (écrivain belge)': 2, 'Jeanne Hyvrard': 1, 'Marguerite Buffet': 2, 'Marcel Lecomte': 1, 'Serge Bouchard': 6, 'Julie River': 2, 'Thomas King (écrivain)': 1, 'Georgette Leblanc': 1, 'Jean-Marc Chatel': 3, 'Marcel Mariën': 1, 'Robert Lafont (occitaniste)': 5, 'Émile Roberge': 1, 'Daniel Doujet': 2, 'Robert Stroud': 1, \"Patrick O'Brian\": 1, 'Pierre de Bellefeuille': 1, 'Maurice Blain': 1, 'Christopher Dawson': 2, 'Jacques Prado': 1, 'André Davesne': 1, 'Pierre Lorrain (journaliste)': 1, 'B. Traven': 2, 'Jacques Devos': 2, 'Monique Watteau': 1, 'Richard Powers': 1, 'Jean-Claude Michéa': 1, 'Pierre Camo': 2, 'Jean Laffitte (écrivain)': 1, 'Voltaire': 1, 'Jean-Pierre Gaudreau': 3, 'Daniel Desbiens': 1, 'Norah McClintock': 1, 'Jacques Duchateau': 1, 'Jean Queval': 1, 'Fernand Laudet': 1, 'Michael Ondaatje': 1, 'Daniel Lemire': 2, 'Jacques Vallet': 4, 'Marie-Sissi Labrèche': 1, 'Erik Simon': 1, 'Frédéric Durand (écrivain)': 3, 'Jacques Chazot': 1, 'Emmanuel Aquin': 1, 'James Huston': 2, 'Jean-Claude Milner': 3, 'Georges Ohnet': 1, 'Patrice Lacombe': 1, 'Marguerite Maillet': 2, 'Christophe Donner': 2, 'Patrick Girard (écrivain)': 3, 'Antonin Nantel': 1, 'Albert Pelletier': 1, 'Carl Lacharité': 1, 'Rodolphe Girard': 1, 'Dominique Fabre': 1, 'Gerald Messadié': 1, 'Serge Mongeau': 4, 'Philippe Setbon': 1, 'Michael Roes': 1, 'Fulvio Caccia': 1, 'Marie-Hélène Ferrari': 2, 'Ernest Gagnon': 1, 'François Grudé': 7, 'Jean-Pierre Niceron': 2, 'Alix Renaud': 1, 'François Darnaudet': 1, 'Michel Dodane': 1, 'Jean Liron': 4, 'Marc Michon': 2, 'Jean Carle': 2, 'Pierre Dupont (chansonnier)': 3, 'Lucas Fournier': 2, 'Jeanne-Mance Delisle': 1, 'Pierre Lasserre': 3, 'Claude de Vert': 1, 'Pierre Daix': 2, 'Jacqueline Monsigny': 1, 'Henri Jabineau': 1, 'John Colet': 1, 'Gilles Laporte': 2, 'Philippe Braz': 2, 'Claude Sarrau': 1, 'Robert B. Parker': 1, 'Robert Blondel': 2, 'Werner Lambersy': 1, 'Dick King-Smith': 1, 'François Thibaux': 1, 'Jorge Edwards': 1, 'Catherine Leblanc': 4, 'Barbara Polla': 1, 'Philippe Garnier': 1, 'John Colson': 1, 'Gary Caldwell (sociologue)': 1, 'Paul Desjardins': 2, 'Robert J Mailhot': 1, 'Françoise Gilot': 2, 'Robert Linhart': 1, 'Henri Martineau': 1, 'Daniel Kay': 4, 'Jacques Dor': 2, 'Victor Séjour': 1, 'Hédi Bouraoui': 1, 'François Énault': 1, 'Claude Joly': 1, 'Véronique Beucler': 1, 'Peter Mayle': 1, 'Robert Herberigs': 1, 'Georges Hugnet': 1, 'Patrick Besnier': 2, 'Thierry Bouchard': 1, 'Alain Gerber': 1, 'Patrick Cauvin': 2, 'Lise Gauvin': 1, 'Jean Chauvel': 1, 'Eduard von Keyserling': 1, 'Alexandre Blok': 1, 'Jean-Benoît Nadeau': 1, 'Julie Barlow': 1, 'Lucie Bourassa': 3, 'Gilles Gougeon': 2, 'Marie-Louise Fischer': 1, 'Marcel Gori': 1, 'Richard Lebeau': 1, 'Urbain Gohier': 1, 'Anne-Marie Bauer': 1, 'Michel Mourlet': 2, 'Philippe Leuckx': 1, 'Robert Morris (artiste)': 2, 'Jean-Louis Perret': 4, 'Alaa al-Aswany': 1, 'Jean-Pierre Ferrière': 2, 'Jean Proal': 1, 'François Archambault': 1, 'Jules Moinaux': 1, 'Pierre Labarthe (administrateur)': 3, 'Robert Fauvel': 2, 'Kenneth Oppel': 1, 'Marielle Gervais': 1, 'Carlo Goldoni': 2, 'Michel Louyot': 2, 'James Herbert': 1, 'Jean-Claude Pirotte': 1, 'Stéphane Dompierre': 3, 'Charles Berlitz': 1, 'Michelle Allen': 1, 'José Acquelin': 1, 'Jean-Jacques Antier': 1, 'John Steakley': 2, 'Marie-Célie Agnant': 1, 'Donald Alarie': 1, 'Francine Allard': 5, 'Marguerite Andersen': 1, 'Pierre Baillargeon': 3, 'Robert Baillie': 3, 'François Barcelo': 2, 'Jean-Claude Snyders': 2, 'Louis Hamelin': 2, 'Joe Klein': 1, 'Henriette Bichonnier': 1, 'Valérie Bonnier': 1, 'Louis Chaigne': 1, 'Claude Pélieu': 2, 'Pierre Ouellet': 2, 'Benoit Jutras (écrivain)': 1, 'Louise Cotnoir': 1, 'Paul Bélanger': 1, 'Marc André Brouillette': 2, 'Marie-Christine Lê-Huu': 4, 'Pascale Quiviger': 1, 'Mario Brassard': 1, 'Yves Boisvert (poète)': 1, 'Jean Bédard': 2, 'Serge Patrice Thibodeau': 1, 'Octave Crémazie': 1, 'Emmanuel Hocquard': 1, 'Harry Bernard': 2, 'George Boucher de Boucherville': 2, 'Romain Légaré': 1, 'Napoléon Legendre': 1, 'Gilles Châtelet': 1, 'Alexandre Fadeïev (écrivain)': 1, 'Mikhaïl W. Ramseier': 1, 'Marie-Colombe Robichaud': 1, 'Guy Breton (journaliste-auteur)': 2, 'Sylvain Garneau': 4, 'Laurent Gaudé': 1, 'Abla Farhoud': 1, 'Christiane Duchesne': 2, 'Guillaume Guéraud': 1, 'Jean Lemieux (écrivain)': 1, 'Charlotte Gingras': 1, 'Claude Péloquin': 2, 'Carlene Thompson': 1, 'Anne Provoost': 2, 'Michel Dugué': 1, 'Jean-Pierre Boulic': 5, 'Claude Magnier': 6, 'Michèle Lesbre': 1, 'Louky Bersianik': 1, 'Muhammad Awzal': 1, 'Jean-François Nadeau': 2, 'Jean Côté': 5, 'Antoine Audouard': 1, 'Gérard Le Gouic': 1, 'Chester Aaron': 1, 'Gilles Cyr': 1, 'Louis Lefebvre (écrivain)': 2, 'Pierre Turgeon (écrivain)': 3, 'Robert Prévost (historien)': 2, 'Claude Lévesque': 1, 'Raymond Jean': 1, 'Louis Mercier (poète)': 2, 'André Ricard': 3, 'Pierre Hébert (professeur)': 7, 'Jean-François Viot': 7, 'Jacques Lazure (écrivain)': 4, 'Réal Benoit': 1, 'Guy Robert (écrivain)': 1, 'René Levesque (pédagogue)': 7, 'Christian Garcin': 5, 'Yves Gosselin': 1, 'Aline Poulin': 1, 'Jean-Pierre Davidts': 3, 'Michèle Marineau': 3, 'Jean-Pierre Maxence': 3, 'Jacques Josse': 1, 'Joseph Murphy': 1, 'Bernard Friot (écrivain)': 2, 'Kathleen Winsor': 1, 'Daniel Brassard': 3, 'David H. Keller': 1, 'Françoise Pommaret': 1, 'Nicole Houde': 2, 'Daniel Poliquin': 1, 'Guy Lalancette': 2, 'Jean-Rock Gaudreault': 1, 'Danielle Marcotte': 1, 'Marie Page': 2, 'Nancy Montour': 1, 'Lin Carter': 1, 'Renaud Longchamps': 1, 'Claude Paré': 2, 'Danielle Dussault': 5, 'Suzanne Martel': 5, 'Gerard Reve': 1, 'Charles Dickens': 1, 'Normand Chaurette': 1, 'Marcel Labine': 1, 'Hervé Bouchard': 5, 'Christian Mistral': 1, 'Pierre Desruisseaux': 1, 'Robert Claing': 2, 'Charles Montpetit': 1, 'Gérald Tougas': 1, 'Emmanuel Brouillard': 2, 'Denys Chabot': 1, 'Andrée A. Michaud': 3, 'Émile Martel (écrivain)': 1, 'Anne Legault': 4, 'Jean-François Boisard': 7, 'Martha Grimes': 1, 'André Roy (écrivain)': 2, 'Roger Des Roches': 1, 'Dominique Sorrente': 1, 'Jean Gavot': 1, 'Christian Lax': 4, 'Jean-Claude Bourlès': 4, 'Alain Paucard': 1, 'Pierre Dubois (auteur)': 2, 'Michel Oliver': 1, 'Gérard Jaeger': 1, 'André Blanchard (écrivain)': 2, 'Bernadette Renaud': 2, 'Claude Burneau': 2, 'Monique Corriveau': 1, 'Philippe Chauveau (écrivain)': 2, 'Yves Beauchesne': 1, 'Daniel Marchildon': 1, 'Bertrand Laverdure': 1, 'Cynthia Voigt': 1, 'Abdelmadjid Kaouah': 1, 'Richard Bandler': 2, 'Louise Warren': 3, 'Gilles Tibo': 1, 'Guy Dessureault': 2, 'Stefan Psenak': 1, 'Renée Dupuis (avocate)': 1, 'Hélène Ouvrard': 3, 'Michel Fattal': 1, 'Paule Noyart': 1, 'Michel Gosselin': 4, 'Gilbert Dupuis (écrivain)': 1, 'Hélène Rioux': 1, 'Georges-Hébert Germain': 1, 'Jean Laborde (journaliste)': 2, 'Philippe Béha': 2, 'Sébastien Doubinsky': 1, 'Pierre Bayard': 6, 'Stéphane Poulin': 5, 'Nathalie Loignon': 2, 'Guy Perrier': 1, 'Nimrod (écrivain)': 1, 'Philippe Beck': 2, 'Jacques Nougier': 3, 'Michael Jackson (écrivain)': 1, 'Rober Racine': 1, 'Andrée Yanacopoulo': 1, 'Jasmine Dubé': 1, 'Michel Noël (écrivain)': 2, 'Chantal Saint-Jarre': 1, 'Pierre Pratt': 1, 'Jean-Claude Dubé': 1, 'André Vachon': 1, 'Louis-Philippe Audet': 3, 'Frans Gunnar Bengtsson': 1, 'Roland Viau': 1, 'Daniel Latouche': 1, 'Angèle Delaunois': 1, 'Danielle Simard': 5, 'André Carpentier': 2, 'Michel Bélil': 2, 'Trevor Ferguson': 1, 'Dominic Champagne': 1, 'Monique Deland': 4, 'Mathieu Boily': 2, 'Jean-Éric Riopel': 1, 'Suzanne Lebeau': 2, 'Marcel Godin': 2, 'Roland Bourneuf': 1, 'Guy Gervais': 1, 'Alfred DesRochers': 1, 'Daniel Roy': 3, 'Renée-Berthe Drapeau': 1, 'Patrick Nicol': 3, 'Claire Mallet': 3, 'Jean-François Somain': 6, 'Josette Labbé': 1, 'Négovan Rajic': 1, 'Maurice Gagnon': 7, 'Normand Rousseau': 3, 'Jean-Pierre Guay': 3, 'Georges Cartier (1929-1994)': 2, 'Christiane Rancé': 1, 'Bertrand Vac': 1, 'Daniel Gagnon': 10, 'Roseline Tremblay': 2, 'Bernard Genest': 1, 'Jacques Michon (professeur)': 3, 'Yvette Francoli': 1, 'Jeanne Benameur': 1, 'Roger Toumson': 1, 'Tafsir Ndické Dièye': 1, 'André Gervais (écrivain)': 1, 'Luc Bureau': 1, 'Francis Jammes': 1, 'Thierry Demey': 1, 'Guillaume Plançon': 1, 'Pierre Nord': 1, 'Christian Chaix': 1, 'Pierre Ménard (écrivain, 1743)': 9, 'Jean Ousset': 1, 'Charles Deulin': 2, 'François Noël': 2, 'François Noel': 4, \"Sylvain d'Auteuil\": 1, 'André Thérive': 1, 'Michael Albert': 3, 'Claude Esteban': 1, 'Christian Denis': 2, 'Charles Cogan': 1, 'Frederick Rolfe': 1, 'Jean Pellerin': 1, 'Pierre Tilman': 2, 'Howard Pyle': 1, 'John Bradshaw (théologien)': 1, 'Pierre Varillon': 2, 'Malorie Blackman': 1, 'Jacques Boulenger': 1, 'Daniel Foucher': 2, 'Jacques Henric': 1, 'Daniel Honoré': 1, 'Jean-Paul Clébert': 2, 'François L. Désaulniers': 2, 'Anselme Chiasson': 1, 'Joseph Boyden': 1, 'Leena Lander': 1, 'Marie-France Comte': 3, 'Marie Cardinal': 3, 'Alexandre Poussin': 1, 'Françoise Lefebvre': 2, 'Philippe Ward': 6, 'Claire de Lamirande': 1, 'Jacques Layani': 1, 'Jean Richard (écrivain)': 2, 'Michel Honaker': 2, 'Jean Forton': 2, 'Kerstin Ekman': 1, 'Jean-Louis Fournier (écrivain)': 4, 'Mireille Calmel': 1, 'Robert Margerit': 1, 'Etgar Keret': 1, 'Nicci French': 1, 'Arno Bertina': 1, 'Albert Monniot': 1, 'Robert Reed (écrivain)': 1, 'Claude Minière': 1, 'Dominique Laporte': 1, 'Jacques Bacot': 6, 'Charles Dugas': 1, 'Antoine Thomas': 1, 'Éric Ollivier': 1, 'Jean Héritier': 1, 'Anne Poiré': 1, 'Julie Stanton': 1, 'Guillaume Dasquié': 1, 'Alain Locke': 1, 'Jean Toomer': 1, 'Jocelyne Robert': 1, 'Christopher Golden': 1, 'Dominique Lauzon': 2, 'Simone de Saint-Exupéry': 1, 'Didier Leclair': 1, 'Alain Kervern': 1, 'Frédérick Durand': 1, 'Jean Romain': 1, 'François Aubral': 1, 'Michel Tremblay': 3, 'Alan Duff': 1, 'Gilles Fortin': 5, 'Patrícia Melo': 1, 'David Gibbins': 1, 'Jean Lavoué': 1, 'Honoré de Balzac': 1, 'Véronique Vasseur': 1, 'Yannick Jaulin': 1, 'Jean-Louis Lombard': 1, 'Michel Pichon': 4, 'Francis Hutcheson (philosophe)': 1, 'Charles Darwin': 5, 'Daniel Kehlmann': 1, 'Edwidge Danticat': 1, 'Sue Townsend': 1, 'Mélanie Vincelette': 1, 'Marc Vaillancourt': 7, 'Richard Steele': 1, 'Paul Parin': 2, 'Ben Elton': 1, 'Jean-Pierre Gattégno': 3, 'Michael Dorris': 2, 'Laurent Mérer': 1, 'Philippe Pichon': 1, 'Fernand Foisy': 1, 'Joy Fielding': 1, 'Charles Rabou': 1, 'Marc Benda': 1, 'Alberto Ruy-Sánchez': 1, 'Patrick Gaumer': 2, 'Michel Châteauneuf': 1, 'Sylvie Huguet': 3, 'Philip Le Roy': 1, 'Louis Havet': 1, 'Jean Piel': 1, 'Jean-Marie Drot': 3, 'Sophie Mereau': 1, 'Pierre Verger': 4, 'Michel Calonne': 1, 'Benjamin Barber': 1, 'Nicolas Cirier': 2, 'David Mitchell': 1, 'Christian Massé': 2, 'Nicolas Bergier': 1, 'Elias Sanbar': 1, 'Jean-Michel Cadiot': 2, 'Maurice Lecœur': 1, 'Joel Yanofsky': 1, 'James Hogg': 1, 'Claude Gutman': 2, 'Christopher Anstey': 1, 'Francis Ryck': 1, 'Cristina Rodríguez': 1, 'Lobsang Rampa': 1, 'Claude Dagens': 1, 'Corinne Bouchard': 1, 'Jennifer Camper': 1, 'Jacques Gaillard (écrivain)': 4, 'Daniel Guimond': 1, 'Louis Lymburner': 1, 'Jacques Boulerice': 1, 'Jean-Paul Daoust': 1, 'Ann Jonas': 2, 'Pierre Molinier': 3, 'Pierre Saviste': 1, 'Christian Bruel': 3, 'Rascal (dessinateur)': 1, 'Samuel Rogers': 1, 'Mireille Calle-Gruber': 1, 'Maxime-Olivier Moutier': 2, 'Pierre Périaux': 2, 'Catherine Arley': 1, 'John Webster': 1, 'Philippe Laloux': 1, 'Françoise Wanson': 1, 'François Couplan': 1, 'François Jobin': 8, 'Mélikah Abdelmoumen': 2, 'Yvon Péan': 1, 'Belva Plain': 1, 'Jean-Marc Rivet': 2, 'Jean Renart': 1, 'François Varillon': 1, 'Michel Schneider': 1, 'Nicolas Trifon': 1, 'Stéphane Bourgoin': 3, 'Marcel Michaud': 4, 'Steve Murphy': 1, 'Rémi Fontaine': 2, 'Ramón Gómez de la Serna': 1, 'William Shakespeare': 1, 'Daniel Rocher': 4, 'Michel Loirette': 2, 'Serge Lamothe': 1, 'Michel Sabbagh': 2, 'Melania Mazzucco': 1, 'Maurice Colin': 3, 'André Beucler': 3, 'Françoise Le Mer': 1, 'Eugène Maon': 1, 'Patrice Lanoy': 1, 'Michel Bounan': 5, 'Christopher Pike': 1, 'Stéphane Dugast': 3, 'Denis Lalanne': 1, 'Jacques Marlaud': 4, 'Barbara Ward': 1, 'Jean Daive': 2, 'Patrick Boman': 3, 'Pierre Chatillon': 2, 'Philippe Lafon (littérature)': 3, 'Pierre Gibert (jésuite)': 7, 'Sonia Marmen': 1, 'Christian Laborde': 3, 'Marco Lodoli': 1, 'Olivier Pichon': 1, 'Pierre Lhande': 4, 'Louis-Adolphe Paquet': 1, 'Nicolas Bonnal (écrivain)': 1, 'Pierre Virion': 5, 'Charles Magnin': 2, 'Guillaume Edinger': 1, 'Jean-Luc Wauthier': 1, 'Nadine Grelet': 1, 'Juli Zeh': 1, 'Alexandre Latil': 2, 'Laurier Veilleux': 1, 'Marcel Boulenger': 1, 'Carlo Bordoni': 1, 'Charles Patin': 4, 'Madeleine Patin': 2, 'Jacques Barbéri': 1, 'Robert Dun': 2, 'Sylvain Toulze': 2, 'Martin Hébert': 3, 'Michel Sauquet': 1, 'Pierre Laville': 6, 'Pierre Duchesne (homme politique)': 4, 'Ludovic Massé': 1, 'Arsène Bessette': 1, 'Michel Braudeau': 2, 'Ross Thomas': 1, 'Paul Gilson': 1, 'Jean Demais': 1, 'Paul Cervières': 1, 'Claude Renaudy': 1, 'Pierre Giffard': 3, 'Laurent Bourdelas': 1, 'Jacques Soubrier': 1, 'Chantal Bergeron': 1, 'Arnon Grünberg': 1, 'Dominique Rolin': 5, 'André Guy (auteur régionaliste)': 1, 'Martin Peltier': 1, 'Pierre Gourdon': 2, 'Jean-Marie Apostolidès': 1, 'Éric Dupin': 2, 'Michel Luneau': 3, 'André Lamandé': 2, 'Robert Goffin': 1, 'Gérard Étienne': 1, 'Len Deighton': 1, 'Charles Morice': 1, 'Jean-Luc Moreau (universitaire)': 2, 'Christina Rossetti': 1, 'Philippe Beaussant': 1, 'Agnès Grimaud': 1, 'Jacques Hiron': 5, 'Michael Benson': 1, 'Thomas Watson': 1, 'Albert Bonneau': 1, 'François Le Lay': 2, 'Rita Amabili-Rivet': 1, 'Davide Ferrario': 1, 'Jean-Paul Török': 1, 'Gisèle Pineau': 2, 'Georges Louza': 1, 'Jacqueline Duché': 2, 'Yves Gauthier': 1, 'Pierre Devaux (1901-1966)': 3, 'Bernard Arcand': 2, 'Kathy Reichs': 1, 'Dominique Mainard': 2, 'John Brown (esclave)': 1, 'Michèle Pétin': 2, 'François Boyer': 1, 'Philippe Vilain': 1, 'Germaine Beaulieu': 2, 'Pierre Chanlaine': 1, 'Guy Lardreau': 1, 'Roland Piguet': 1, 'Michel Manière': 2, 'Paul Acker': 1, 'André Halimi': 1, 'Thomas Sébillet': 1, 'François Bellec': 2, 'Pierre Parlant': 2, 'Françoise Houdart': 1, 'Jean-Claude Villain': 3, 'Amédée Papineau': 1, 'Eric Knight': 1, 'Claude Simon': 2, 'Jean Lambert (germaniste)': 2, 'Pierre Senges': 2, 'Julián Gorkin': 1, 'Martin Page': 1, 'Catherine Gide': 6, 'Évelyne Wilwerth': 1, 'Michel Guiomar': 1, 'John D. MacDonald': 1, 'Eduardo Berti': 1, 'Lucien Laugier': 1, 'Jean-Michel Ribettes': 1, 'Jacques Robert (écrivain)': 3, 'Jacques Baudou': 3, 'Philippe Huet': 2, 'Antoine Billot': 1, 'William Wharton': 1, 'Michel J. Lévesque': 1, 'Laurent Botti': 2, 'Marie Jade': 2, 'Jean-Pierre Lemaire': 4, 'Michel Renouard': 2, 'Christiane Aimery': 1, 'Claude Garnier': 5, 'Dag Solstad': 1, 'James Frey': 1, 'Heinz Wismann': 1, 'Michelle Paver': 1, 'Dominique Sels': 1, 'Hubert Corbin': 1, 'Jean Kéry': 2, 'Alban Lefranc': 1, 'Jacques Wallius': 1, 'Pierre-Augustin Caron de Beaumarchais': 1, 'Jean-Marc Roberts': 1, 'Delly': 1, 'Laurent Martin (écrivain)': 2, 'Denis Desjardins': 2, 'Georges Beaume': 1, 'Étienne Leroux (pseudonyme)': 1, 'Louis Piérard': 2, 'Yvon Mauffret': 1, 'Camille Debans': 1, 'Louis Héry': 1, 'Maurice Champagne (écrivain français)': 1, 'Andrew Weiner': 1, 'Maurice Champagne (écrivain canadien)': 1, 'James Barclay': 1, 'Charles Olson': 1, 'François Dufeu': 6, \"John O'Brien (écrivain)\": 2, 'Jean Loret': 1, 'Louis-Philippe Dalembert': 3, 'Francis (auteur)': 1, 'Georges Le Faure': 1, 'Félix Timmermans': 1, 'Pierre Delcourt (écrivain)': 1, 'Louis Fournel': 2, 'Claude Gauvreau': 2, 'Catherine Gonnard': 2, 'Michel Servet': 1, 'Jules Roy': 1, 'Kiran Desai': 1, 'Robert Florigni': 1, 'Paul Salmon (écrivain)': 1, 'Annie Prévost': 3, 'José Emilio Pacheco': 1, 'Guillaume Voisine': 1, 'Jonathan Reynolds': 1, 'Antonio Piazza': 1, 'Michel Arrivé': 1, 'Bernard Simiot': 1, 'Catherine Tramell': 1, 'Dominique Lampson': 1, 'Susanna Tamaro': 1, 'François Gibault': 1, 'Pierre Lorquet': 1, 'Sébastien Mamerot': 1, 'Christian Briec': 3, 'Rosette Poletti': 1, 'Nicolas Deniker': 2, 'Francis Dupuis-Déri': 1, 'Léon Deschamps': 2, 'Gabriel Vicaire': 1, 'Guillaume Le Touze': 1, 'Jean-François Dauven': 7, 'Raymond Viger': 1, 'Bill James': 1, 'Évelyne Gauthier': 2, 'John Barnes (auteur)': 1, 'Michel Giroud (artiste)': 4, 'Christian Laval': 2, 'Christophe Fiat': 1, 'François Darbon': 2, 'Jean Laroche': 2, 'Denis Lachaud': 1, 'Harry Mulisch': 1, 'Emmanuel Adely': 1, 'Marianne Fritz': 1, 'Ann Rule': 1, 'Daniel Leduc': 1, 'Michel Robert (écrivain français)': 4, 'Albert du Bois': 1, 'Thomas Merton': 3, 'Danielle Charest': 1, 'Jean Rameau': 2, 'Marc Elder': 1, 'Bernard Alliot': 2, 'Anthony de Mello': 1, 'Guillaume Bouchet': 1, 'Patrick Neate': 1, 'Yves Steinmetz': 1, 'Jacqueline Mirande': 2, 'Jean-Claude Andro': 2, 'Marie-Claude Bomsel': 5, 'Jean-Marc Valladier': 1, 'Jean-Pierre Milelli': 1, 'Dominic Bellavance': 1, 'Pierre Frégeac': 1, 'Jacques Besson': 2, 'Robert Linssen': 1, 'Frances Mayes': 2, 'Alan Butler': 1, 'Richard Adams (romancier)': 1, 'Patrick Bouvet': 3, 'Jehane Benoît': 2, 'Jacques Sivan': 1, 'Jean Lacouture': 1, 'Frederic Prokosch': 1, 'Maurice Maindron': 1, 'Yves Buin': 1, 'Martin Villeneuve': 5, 'Michel Verne': 1, 'Guy Fontaine': 1, 'Jocelyne François': 1, 'Colin Harrison (écrivain)': 1, 'Christopher Hope': 3, 'Alfred Mercier': 1, 'Bernard Galand': 2, 'David Turgeon': 2, 'Jacques Robert (poète)': 3, 'Louis Maynard': 2, 'Michel Cosem': 1, 'Helen McCarthy': 2, 'Jean-Pierre Georges': 3, 'Gaston Marchou': 1, 'Andrée Poulin': 3, 'Georges Navel': 1, 'Nathalie Gassel': 1, 'André Berry': 1, 'Michel Amelin (auteur pour enfants)': 1, 'Mathieu Laine': 1, 'Dane Zajc': 1, 'Anna Enquist': 1, 'Stéphane Mosès': 2, 'Pierre Hazette': 4, 'Bernard Sallé': 2, 'David Albahari': 1, 'Jean Robin (écrivain)': 3, 'Philippe Vasset': 1, 'Eugène Cloutier': 1, 'Michel Robert (écrivain belge)': 4, 'Luc Mary': 1, 'François Guérif': 2, 'Jean-Claude Barreau': 2, 'Robert Élie': 1, 'Jean-Cléo Godin': 1, 'Gabriel Delanne': 1, 'Jacques Bretel': 3, 'Michel Germain (historien)': 1, 'Rose Friedman': 1, 'Lloyd C. Douglas': 1, 'André Duval': 1, 'Gabriel Faure': 1, 'Léandre Vaillat': 1, 'Michel Grimaud': 4, 'Steve Proulx': 1, 'Madeleine Ley': 1, 'Alain Bron': 1, 'Joumana Haddad': 1, 'Valéri Brioussov': 1, 'Nicolas Bokov': 1, 'André Coyné': 1, 'Daniel Riolo': 1, 'Rachid El-Daïf': 1, 'Jean-Paul Tapie': 1, 'Eugenio Corti': 1, 'Antonio Ongaro': 1, 'Sébastien Perez (écrivain)': 2, 'Elizabeth Bowen': 1, 'Gregory David Roberts': 1, 'Emmanuel Looten': 1, 'Frédéric Mazé': 5, 'David Bergelson': 1, 'Claire Mazard': 1, 'Michèle Leleu': 2, 'Stéphane Héaume': 1, 'Louis Perin': 1, 'Pierre Nourry': 3, 'Michel A. Thérien': 2, 'Denise Desjardins': 6, 'Jean-Pierre Otte': 2, 'Georges Bonnet (écrivain)': 1, 'Richard Caron': 7, 'Jean-Marie Cuny': 2, 'Jacques de Vismes': 1, 'Jean-Pierre Levaray': 3, 'Hélène Berr': 1, 'Marthe Bibesco': 1, 'Alexander Lernet-Holenia': 1, 'Jean de Laroque': 1, 'Catherine Diran': 3, 'Stig Claesson': 1, 'Sophie Béroud': 3, 'Marcel Laurent (écrivain)': 2, 'Michaël Prazan': 1, 'Stephen Clarke (écrivain)': 1, 'Philipp Vandenberg': 1, 'Renaud Rosset': 1, 'André Lefèvre (1717-1768)': 1, 'Marc Boyer': 1, 'Gérard de Cortanze': 1, 'Michel de Montaigne': 1, 'Alain Surget': 2, 'Pierre Gamarra': 1, 'Jean le Bel': 1, 'Marc Brunet (scénariste)': 2, 'Marcel Proust': 1, 'Christophe Vergnaud': 1, 'Alain Roger': 1, 'Pierre Mathiote': 1, 'Claude Sernet': 1, 'Suzanne Verdier': 1, 'Jean-François Chabas': 4, 'Claude Gagnière': 1, 'Michel Piquemal': 1, 'Sébastien Lapaque': 3, 'Philippe Bordas': 1, 'Audrey Benoît': 2, 'André Géraud': 1, 'Ramón Armando Garzón Mendoza': 1, \"Georges L'Hôte\": 1, 'Dominique Manotti': 3, 'Jean-Pierre Cescosse': 1, 'Denis Roche (1868-1951)': 1, 'Lucien Arnault': 1, 'Antoine Emaz': 1, 'Thierry Lévy': 2, 'César Millan': 1, 'Phyllis Whitney': 1, 'Jean-Claude Baudet': 7, 'Jean-Pierre Muret': 19, 'Frédéric Boyer': 2, 'Antonio Elorza': 1, 'Sylvain Coher': 4, 'Georges Sauvé': 2, 'Catherine Mavrikakis': 1, 'Jean-Pierre Balpe': 13, 'Catherine Ternaux': 3, 'Corinne De Vailly': 1, 'Bernard Gerland': 2, 'Li Zhi (1527-1602)': 1, 'Jean-Paul Chabrier': 1, 'Charles Beys': 1, 'Mario Francis': 1, 'Audrey Niffenegger': 1, 'François Le Breton': 1, 'Pierre Soletti': 1, 'Ollivier Dyens': 1, 'Gavin Maxwell': 1, 'Michel Morphy': 1, 'Jean-Pierre Renouard': 1, 'Robert Bober': 2, 'Maeve Binchy': 1, 'Tim Parks': 2, 'Philippe Cospéan': 1, 'Roy Campbell (écrivain)': 1, 'Émilie Leblanc': 3, 'Peter Iden': 1, 'Nicolas Madget': 1, 'Pierre Grognet': 1, 'Jérôme Lambert (écrivain)': 1, 'Isabelle Kaiser': 1, 'Rémy Beaurieux': 1, 'Jean-Pierre April': 10, 'Maurice Bossard': 2, 'Julien Paillet': 1, 'Olivier Maurel (auteur)': 4, 'Suzanne Césaire': 1, 'Mary Mapes Dodge': 1, 'André Couteaux': 1, 'Victor Teboul': 1, 'Constance Malleson': 1, 'Sia Figiel': 1, 'Patrick Bonté': 2, 'Christian Authier': 4, 'Jacqueline Duhême': 1, 'Frédéric Godet': 3, 'Alain Roullier': 2, 'Philippe Thirault': 1, 'Andrea Maria Schenkel': 1, 'Marie-Sabine Roger': 1, 'Pierre Maraval (artiste)': 4, 'Rafaële Germain': 2, 'Kelley Armstrong': 1, 'Philippe de Baleine': 1, 'Yolande Grisé': 2, 'Louisa Paulin': 2, 'Jean-François Haas': 9, 'Tabitha King': 1, 'Robert Byron': 1, 'Pierre Garnier': 3, 'Stéphane Jourat': 1, 'Christopher Stork': 1, 'Rachel Ward': 1, 'Lalie Walker': 1, 'Hans-Jürgen Greif': 1, 'Alistair MacLeod': 1, 'Pierre Brouillette': 1, 'Georges Walter': 2, 'Philippe Lacadée': 2, 'Catherine Cusset': 1, 'Lauren Conrad': 1, 'Gilbert Dupé': 2, 'Louise Tondreau-Levert': 1, 'Philippe Caspar': 1, 'François Xavier (écrivain)': 2, 'David Robinson (écrivain)': 3, 'Napoleon Hill': 1, 'John Jakes': 1, 'Alain Ravennes': 1, 'Seyhmus Dagtekin': 1, 'François Hébert (écrivain)': 8, 'Christine Dumitriu Van Saanen': 1, 'Muriel Cerf': 1, 'Georges Riguet': 1, 'Elizabeth Moon': 1, 'Sylvie Granotier': 1, 'Françoise Pirart': 2, 'Christine Féret-Fleury': 1, 'Bruce Hutchison': 1, 'Pierre Bannier': 1, 'Marie Gray': 2, 'David Payne (écrivain)': 1, 'Pierre Dupuy (écrivain)': 2, 'Jean-Philippe de Béla': 1, 'Michael Cox': 1, 'Tony DiTerlizzi': 1, 'Véronique Roy (archiviste)': 2, 'Pierre Michel (écrivain)': 1, 'Olivier Weber': 2, 'Armand Got': 1, 'Jacques Fournier (poète)': 3, 'Pierre Blais (écrivain)': 1, 'Julie Hubert': 2, 'Christophe Claro': 1, 'Isabel Arvide': 1, 'Camara Nangala': 1, 'Louis-Philippe Hébert (écrivain)': 6, 'Bernard Benson': 1, 'Richard Canal': 1, 'François Bréda': 2, 'Robert Heron': 1, 'Camilla Läckberg': 1, 'Jacques Krier': 5, 'Karl Müller (philologue)': 1, 'Heinrich von Kleist': 1, 'Guy Bergeron': 1, 'Nicholas Sparks (écrivain)': 1, 'Jean-François Malherbe': 7, 'Richard Platt': 3, 'Françoise Pascal (poétesse)': 2, 'John Hawkes (écrivain)': 1, \"Jean-Michel Caradec'h\": 1, 'Robert Crais': 1, 'Jean Bernard (médecin)': 4, 'Richard Zimler': 2, 'Bruno Durocher': 1, 'Pierre Jaubert (économiste)': 2, 'Gérard Pouchain': 1, 'Giovanni Rossi (anarchiste)': 1, 'Fernand Séverin': 1, 'Pierre Caron (homme de lettres)': 4, 'Joseph Delaney': 1, 'François Nepveu': 1, 'Pierre Gauvreau': 2, 'Robert Blondin': 2, 'Lambert Schlechter': 1, 'Jean Portante': 2, 'Jean-Pierre Lacroux': 1, 'Dominique Autié': 2, 'Madeleine Vernet': 2, 'François Brune (prêtre)': 2, 'Francis Godwin': 3, 'Antoine Dufour (évêque)': 2, 'Alí Chumacero': 1, 'Suzanne Labin': 2, 'Jean-Claude Dague': 7, 'Charles Dellon': 1, 'Elizabeth Kay': 5, 'James Thurber': 1, 'Jean-Pierre Giraudoux': 1, 'Marc Séguin': 1, 'Thierry Fabre (écrivain)': 1, 'Cate Tiernan': 1, 'Jean-Philippe Blondel': 1, 'Gilbert Dupuis (dramaturge)': 1, 'Jérémie Drexel': 1, 'Pierre Perrault (1611-1680)': 3, 'Norbert Spehner': 1, 'Patrick Graham': 1, 'Bob Flanagan': 1, 'Jean-Pierre Bobillot': 2, 'William T. Vollmann': 1, 'François Vernet': 2, 'Pierre Borhan': 5, 'Jean-Pierre Biondi': 1, 'Sébastien Chabot': 2, 'Jean-Marc Cormier': 4, 'Frédéric Andréi': 1, 'Françoise Sagan': 3, 'Isabelle Juppé': 1, 'Patrick Carré': 3, 'Michèle Laframboise': 1, 'Michel Lapierre': 2, 'Paul Colin (écrivain)': 4, 'Sonia K. Laflamme': 1, 'Bryan Perro': 1, 'Pierre Joannon': 1, 'Christopher Smart': 1, 'Abraham Goldfaden': 1, 'Michel Random': 1, 'Michele Amari': 1, 'Michel Guérin': 2, 'Paul Davies (physicien)': 2, 'Matthieu Simard': 3, 'Daniel Guérin': 1, 'Jeffrey Archer': 1, 'Pierre Charras': 4, 'Charlaine Harris': 1, 'Richard Marsh': 1, 'Pierre Mille': 1, 'Jean-Pierre Richard (écrivain)': 6, 'Gilles Ratier': 5, 'Jean-Claude Dubreuil': 1, 'Tracy Chevalier': 1, 'Robert Ressler': 2, 'Jean-François Samlong': 5, 'Pascale Maret': 2, 'André Landault': 2, 'Jean-Pierre Guéno': 7, 'Patrick Drevet': 2, 'Tamiki Hara': 1, 'Nicolas Fallet': 1, 'Jacques Poirier (poète)': 3, 'Jacques Verdier': 4, 'François Granet': 5, 'Maurice Lelong': 1, 'Alfred Maury': 1, 'François Sonkin': 4, 'Michel Dard': 2, 'François Matton': 5, 'Paule Bernard': 1, 'Georges Lebouc': 1, 'Pierre Albert': 3, 'Patrice Pluyette': 1, 'Edward Duyker': 1, 'Jacques Darras': 1, 'Roger Lapassade': 1, 'Paul Marchand': 1, 'Jean-Pierre Koffel': 5, 'Elena Botchorichvili': 1, 'Dale Carnegie': 1, 'Francis Maugard': 1, 'Marin Ledun': 1, 'Georges Arout': 1, 'Jane Austen': 1, 'Sébastien Célerin': 2, 'Pere Calders': 1, 'Michèle Laforest': 1, 'Jean Pérol': 3, 'Alexandre Dumas': 1, 'Peter Bieri (écrivain)': 1, 'Frédéric Ciriez': 1, 'Hélène Brodeur': 1, 'Christian Bazin': 9, 'Claudie Gallay': 1, 'John Grant (écrivain)': 1, 'Pierre Villiers': 1, 'Jean-Louis Gouraud': 1, 'José Carlos Somoza': 1, 'Émile Coderre': 1, 'André Caroff': 1, 'Vilma Fuentes': 1, 'Francis Malka': 2, 'Patrick Cintas': 1, 'Bertrand-B. Leblanc': 2, 'Maurice Caillet (médecin)': 1, 'Jacques Danois': 3, 'Jean-François Solnon': 5, 'Patrick Bard': 1, 'Yves Antoine': 1, 'Claude Vaillancourt (écrivain)': 3, \"Fredrick d'Anterny\": 2, 'Robert Allan': 2, 'Stéphane-Albert Boulais': 1, 'Yves Rouquette': 1, 'Pierre Salducci': 1, 'Diane Lacombe (écrivaine)': 1, 'Suzanne Aubry': 1, 'Louis Jolicoeur': 2, 'Georgette Heyer': 1, 'Anique Poitras': 1, 'Philippe Frey': 3, 'Marie-Andrée Donovan': 1, 'Gabrielle Baron': 1, 'José-Louis Bocquet': 1, 'Frédéric Kiesel': 1, 'Maïté Bernard': 1, 'Claude Roulet': 2, 'Isabelle Eberhardt': 1, 'Jennifer Crusie': 1, 'Judith Cowan': 1, 'Jean-Paul Delfino': 2, 'Janet Dailey': 1, 'David Collin': 1, 'Mathieu Belezi': 1, 'Catherine Perret': 3, 'Percival Everett': 1, 'Annette Saint-Pierre': 2, 'André Marois': 4, 'LaVyrle Spencer': 1, 'Annie Agopian': 1, 'Jeff Noon': 1, 'Pierre Goudelin (juriste)': 1, 'François-René de Chateaubriand': 1, 'Laurent Chollet': 1, 'Marlen Haushofer': 1, 'Martin Ouellet (poète)': 3, 'Louise Rousseau': 2, 'Bruno Massé': 1, 'François Chamoux': 2, 'Pierre K. Rey': 1, 'Alexandre Kouprine': 1, 'Charles Dumas (poète)': 2, 'Juan Pérez (Petreius)': 1, 'Stéphane Hoffmann': 1, 'Éric Mouzat': 1, 'Jacques Martinez': 2, 'Sarah Cohen-Scali': 1, 'Agnès Poirier': 2, 'Gérard Guégan': 1, 'Daniel Rondeau': 3, 'Pierre Samson': 4, 'Jean-François Cerquand': 4, 'Malika Wagner': 1, 'Patrick Bauwen': 1, 'Georges Dampt': 1, 'Isabelle Hausser': 1, 'Alain Claude Sulzer': 1, 'Jean-Pierre Martinet': 5, 'Catherine Coulter': 2, 'Christianna Brand': 1, 'Dominique Potard': 2, 'Philippe Aziz': 1, 'Charles Berlet': 1, 'Marjolaine Deschênes': 1, 'Mathieu Arsenault': 2, 'Marc Menant': 1, 'Paco Ignacio Taibo I': 1, 'William Lashner': 1, 'Edvard Kocbek': 1, 'Horacio Castellanos Moya': 1, 'Caroline Lamb': 2, 'Albert Jacquemart': 1, 'Anne-Marie Sirois': 4, 'Antoine Dole': 1, 'Carole Mortimer': 1, 'Michel Cassé': 2, 'Michel Albertini': 1, 'Laurie McBain': 1, 'Catherine Anderson': 1, 'Pauline Johnson': 1, 'Paul Éluard': 1, 'Michele Jaffe': 2, 'Gilles Ortlieb': 1, 'Pierre Charpentier': 1, 'Jean-Paul Goux': 2, 'François Moulin': 11, 'Miguel Serrano': 1, 'Claude Pujade-Renaud': 1, 'Philippe Camus (écrivain)': 1, 'Anne-Marie Blondeau': 1, 'Jean-Michel Payet': 4, 'Thomas Norton (alchimiste)': 2, 'Daniel Zimmermann (écrivain)': 1, 'Robert Rey': 4, 'Michael Buckley (auteur)': 1, 'Alain Le Saux (poète)': 1, 'Pierre Kériec': 1, 'Patrick Segal': 4, 'Raymond Sebon': 1, 'Daniel Danis': 3, 'Huguette Maure': 2, 'Hélène Mongin': 3, 'Claude Le Bouthillier': 1, 'Claire Fourier': 2, 'Victor Baroni': 1, 'Charles Coran': 2, 'Mário de Andrade': 1, 'Pierre-André Marchand': 1, 'Jean-François Pérès': 8, 'Marie Brassard': 2, 'Marcel Martinet': 1, 'Laurence Pernoud': 1, 'François Porché': 3, 'Michaël La Chance': 2, 'Fernand Benoit': 1, 'Laurent Chabin': 2, 'Patrick Mimouni': 1, 'Georges Blanchard': 1, 'Guillaume Gruel': 1, 'Annie Groovie': 2, 'Brigitte Marleau': 1, 'Jean Fayard': 1, 'Bernard Nabonne': 1, 'Pierre Fisson': 5, 'Georges Govy': 1, 'Roger Bordier': 2, 'Salvat Etchart': 1, 'Jean Colombier (écrivain)': 2, 'Jacques Almira': 2, 'Claude Durand': 5, 'Jacques Morel (écrivain)': 4, 'Dominique Dunois': 2, 'Robert Francis (écrivain)': 1, 'Charles Ficat': 1, 'Jean Husson': 1, 'Yves Gandon': 2, 'Albert Touchard': 1, 'Camille Mayran': 1, 'René Laporte': 1, 'Romain Roussel': 1, 'Jean Portelle': 2, 'Pierre Léger (écrivain)': 5, 'Robert Fred': 1, 'Jean-Michel Royer': 3, 'Martin Provost': 1, 'Marc Mangin': 1, 'Jean-Marie Lhôte': 1, 'Alain Ruiz': 1, 'Agnès Ruiz': 1, 'Harriet Walter': 1, 'Nicolas Charette': 1, 'Marie-Claude Sandrin': 1, 'Ahmed Kalouaz': 1, 'Patrick Eris': 2, 'Marie-Hélène Lafon': 4, 'Michel Vianey': 1, 'Christophe Geffroy': 1, 'Philibert Audebrand': 1, 'Charles Morgan': 2, 'Michel Roy (administrateur)': 3, 'Christian Charrière (écrivain)': 1, 'Lynn Coady': 1, 'Pascal Henrard': 2, 'Philippe Lauzun': 2, 'Lorraine Côté': 1, 'Éric Meyer (journaliste)': 1, 'Theodore Hook': 1, 'Jacques Dufresne': 2, 'Robert de Blois': 1, 'Jean-Pierre Deloux': 3, 'Michel Bouts': 1, 'Pierre Mabille': 1, 'Elizabeth Walker': 1, 'Patrick Simon (poète)': 3, 'Alain Dubos': 1, 'Serge Brindeau': 1, 'Christophe André': 3, 'Jean-Paul Curnier': 2, 'Anne Givaudan': 1, 'Daniel Meurois': 1, 'John Ford (écrivain)': 1, 'François Dufay': 2, 'Patrice Lesparre': 2, 'Bernard Bretonnière': 1, 'Jean Barbier': 2, 'Pierre Nevelet': 1, 'Pierre Leyris': 2, 'Valère Bernard': 2, 'Christopher Gérard': 3, 'Geneviève Desbiens': 3, 'Jérôme Lafond': 1, 'Jean-Pierre Poisot': 5, \"Jean-Louis Baghio'o\": 1, 'John Barbour': 1, 'Jacqueline Rose': 6, 'Richard Mason': 5, 'Jacques Vergier': 4, 'Jean Legrand': 1, 'Annie M.G. Schmidt': 1, 'Patrick Weber': 3, 'Vladimir Dahl': 1, 'Anne-Marie Ropars': 1, 'Catherine Fradier': 1, 'Pierre Dubois (légiste)': 2, 'Marcel Moussy': 1, 'Ronald Wright': 1, 'Jacques P. Ouellet': 2, 'Anna Sewell': 1, 'George Grigore': 1, 'Lucie Chenu': 1, 'Rose Berryl': 1, 'Gérald Gagnon': 4, 'Jacqueline Carey': 4, 'Jacqueline Wilson': 1, 'Pierre Verdet': 1, 'André Bourin': 1, \"Antonio D'Alfonso\": 1, 'Théodore Pavie': 1, 'Christian Roux': 3, 'Frédéric Brun (écrivain)': 3, 'Florence Hinckel': 1, 'Claude Jaunière': 2, 'Christian Petr': 1, 'Elizabeth Haydon': 3, 'Michel Delon': 1, 'Philippe Blanchon': 1, 'François Turner': 2, 'David Wellington': 1, 'Philippe Leduc (compositeur)': 2, 'Héloïse Côté': 1, 'Jean-Claude Derey': 7, 'Jacques Mazeau': 4, 'Jean-Claude Renard': 1, 'Pierre Courtade': 2, 'John Barth': 2, 'Robert Folz': 1, 'Kurt Hiller': 1, 'Anne Pons': 1, 'Élodie Tirel': 1, 'Jean-Pierre Tardif': 7, 'Marianne Curley': 1, 'Alexandre Jollien': 2, 'Jean Broutin': 1, 'Claude Villaret': 1, 'Peter Härtling': 1, 'Lina Morgenstern': 1, 'Andrew Miller (romancier)': 2, 'Marie-Andrée Clermont': 1, 'Jean-Claude Leroy (écrivain)': 7, 'Jacques Farisy': 3, 'Yves Chevalier': 1, 'Anne Weber': 1, 'Denis Côté (écrivain)': 1, 'Philippe Gardy': 4, 'Philippe Madral': 1, 'Roger Vailland': 1, 'Alexandra Lapierre': 1, 'John Wain': 2, 'Alexandre Papadiamándis': 1, 'André Beaunier': 2, 'Daniel Sangsue': 1, 'Jacques Lemarchand': 1, 'Elizabeth Strout': 1, 'Marion Milner': 1, 'David Jones (poète)': 1, 'Claude Alranq': 2, 'Eugène Nyon': 1, 'J. V. Jones': 1, 'François Bott': 3, 'Pierre Lassalle': 2, 'Jean Martet': 3, 'Joëlle Morissette': 4, 'Constantin Frosin': 1, 'Nancy Huston': 1, 'Étienne Perret': 1, 'Caroline Norton': 1, 'Henri Vernes': 1, 'Jean-Michel Reynard': 1, 'Dynah Psyché': 1, 'André Balland': 1, 'François Place (écrivain)': 3, 'Jean-Yves Potel': 1, 'Robert Giroux': 1, 'Benoît Melançon': 1, 'Pierre Veber': 3, 'Pierre Lartigue (écrivain)': 1, 'Jacques Pessis': 1, 'Robert Garric': 2, 'Pierre Bonnaud (géographe)': 2, 'Jean-Jacques Walter': 2, 'André Ferré': 1, 'Louis Rouquier': 1, 'Richard Baker': 5, 'Claude Guillon (écrivain)': 1, 'Charlotte Roche': 1, 'François Salvaing': 1, 'Catherine Enjolet': 1, 'Jacques Meunier': 3, 'Daniel Rousseau': 4, 'André Velter': 1, 'Stéphane Bouquet': 2, 'Claude Hardy': 1, 'Bernard Pingaud': 1, 'André Vinas': 1, 'Robert Solé': 3, 'Pierre Maubé': 1, 'Liliana Lazar': 1, 'Patrick Laupin': 2, 'Pierre Barbéris': 1, 'Hubert Juin': 1, 'André Pézard': 1, 'Christian Hubin': 2, 'Jean Marteau (écrivain)': 3, 'Alain Bertrand (écrivain)': 2, 'Robert Stone': 2, 'Antoine Caillot': 1, 'Caya Makhélé': 1, 'Jonathan Raban': 1, 'Julien Hervier': 1, 'Philippe Hermann': 1, 'Michel Lamy': 1, 'Stéphanie Hochet': 1, 'Gary Klang': 1, 'Jean-Christophe Macquet': 2, 'William Bowen (économiste)': 1, 'François Boulay (écrivain)': 2, 'Madeleine Ouellette-Michalska': 1, 'Alain Roy': 1, 'Jacques Yonnet': 1, 'Thierry Jonquet': 1, 'Jean-Claude Legros': 5, 'Pierre Boudot': 5, 'Christian Ruby': 1, 'Maurice Darmon': 1, 'Nicolas Remin': 1, 'Frédéric Lisak': 1, 'Lise Baucher-Morency': 1, 'Alain Lévêque': 2, 'Alain Lercher': 2, 'Nicole Gonthier': 1, 'Claude Pérez': 1, 'Pierre Déom': 1, 'Guy Rachet': 1, 'Edvard Radzinsky': 1, 'Patrick de Friberg': 1, 'François Pardigon': 2, 'Nikolaj Frobenius': 1, 'Jean-François Chassay': 3, 'Joanne Harris': 2, 'Dominique Pagnier': 5, 'Marie-Hélène Verdier': 3, 'Christiane Saleh': 1, 'Simon Harel': 3, 'Michel Caffier': 2, 'Étienne Lepage': 1, 'Stéphane Beau': 4, 'Manon Hubert': 2, 'Geneviève Latour': 3, 'Jean-Claude Lamy': 2, 'Olivier Lhote': 1, 'Justin Fleming': 1, 'Benjamin Fillon': 1, 'Évelyne Pisier': 1, 'Jean-Pierre Santini': 2, 'Laurent Duhan': 2, 'Gérald Aubert': 1, 'Serge Martin': 3, 'Jean-Robert Léonidas': 1, 'Wilhelm Schubart': 1, 'Michel Cals': 2, 'Lyonel Trouillot': 1, 'Pierre Pevel': 1, 'Maxime Lachaud': 1, 'Rafael Cadenas': 1, 'Emmanuel Roïdis': 1, 'Edem Awumey': 1, 'Alexandre de Théis': 1, 'Franz Xaver Kroetz': 1, 'Michel Vézina': 2, 'Philippe Godard': 5, 'Pierre Aleaume': 1, 'Christophe Mory': 2, 'Richard Holmes (biographe)': 3, 'Nicolas Bouchard': 2, 'Philippe Audoin': 4, 'Michel Brûlé': 1, 'Sarah Bouyain': 1, 'Jean-Louis Bouquet': 6, 'Paul Aron': 2, 'Pierre Falardeau': 1, 'Daniel Foucard': 1, 'Jean Labbé': 1, 'Juluan Godest': 1, 'Richard Wagner (écrivain)': 3, 'Emmanuel Robin': 2, 'James Hilton': 1, 'Albert Dasnoy': 1, 'Bernard Coussée': 1, 'Jean-Marc Loubier': 2, 'Jacques Cousseau': 1, 'Christian Polak': 1, 'Paul Johnson (historien)': 1, 'Denis Johnson (écrivain)': 2, 'Bernard Collin': 2, 'Andrew McGahan': 1, 'Stéphan Bilodeau': 1, 'Michel Rose (écrivain)': 4, 'René Bonneville': 2, 'Arthur Conan Doyle': 1, 'Barbara Gowdy': 1, 'Fabienne Jagou': 2, 'Rodica Draghincescu': 1, 'Philippe Boyer (écrivain)': 2, 'Françoise Jay': 3, 'Jacques Côté (écrivain)': 1, 'Mario Cortesi': 1, 'André Vanasse': 2, 'Antonio Porta': 2, 'Anne Enright': 1, 'Pierre Gevaert': 3, 'Francis Combes': 1, 'Pierre Du Bois': 1, 'Olivia Tapiero': 1, 'Michel Moutot': 2, 'Éric Walter (auteur)': 1, 'Noël Duret': 1, 'Philippe Sauve': 3, 'Michael Buckley (réalisateur)': 1, 'Joan Brady': 1, 'Richard Sale': 2, 'Jacques Gimard': 6, 'Matthew Weiner': 1, 'Jason Dark': 1, 'Barun Roy': 1, 'Louis Duret': 1, 'Patricia Carson': 1, 'Philippe Paquet (journaliste, sinologue)': 1, 'Daniel Ménager': 2, 'Meir Shalev': 1, 'Didier-Georges Gabily': 1, 'Françoise Collin (philosophe)': 2, 'Bernard Marcotte': 2, 'Sophie Bienvenu': 1, 'Richard Bausch': 1, 'Robert Descamps': 1, 'Anne Tyler': 2, 'Philippe Monnier (écrivain)': 1, \"Pierre Daniel (d'Orléans)\": 4, 'André Robèr': 2, 'André Benchetrit': 1, 'Gérard Bollon': 1, 'Denis Vairasse': 1, 'Patrick Rödel': 4, 'Valérie Nimal': 1, 'Naomi Novik': 1, 'Kamal Benkirane': 1, 'Patrick Brisebois': 1, 'Christine Schilte': 1, 'Josef Lada': 1, 'Franco Fortini': 2, 'John Burdett': 1, 'Jean Papon': 2, 'Moacyr Scliar': 1, 'François Mirante': 1, 'Jef Geeraerts': 1, 'Emili Rosales': 1, 'Elizabeth Berridge (romancière)': 1, 'Ludovic Bablon': 1, 'Carlo Bordini': 1, 'Christophe Graizon': 1, 'Gérard Pangon': 1, 'Sebastian Barry': 1, 'Philip Reeve': 1, 'Olivier Boura': 2, 'Joseph Girard (1881-1962)': 1, 'Linda Joy Singleton': 1, 'Daniel Gillès': 1, 'Anise Koltz': 1, 'Nadine Decobert': 2, 'Madeleine Robitaille': 2, 'Marcel Raymond': 1, 'Suzanne Tenand': 1, 'Michel Goya': 2, 'Jean de La Fontaine': 2, 'Bruno Roy (écrivain)': 1, 'Philippe Routier': 1, 'Maurice Attia': 1, 'Philippe Chardin': 2, 'Pierre Hanot': 1, 'Katarina Mazetti': 1, 'Claude Pinault': 1, 'Éric Simard': 3, 'Charles Didier (écrivain)': 1, 'Michel Marulle': 1, 'Jean-Louis Brau': 1, 'Martin Laporte': 8, 'Georges Anglade': 1, 'Étienne Nouvion': 1, 'Antoine Rault': 1, 'André Rivet': 1, 'A. M. Homes': 1, 'Jean-François Martos': 8, 'Noel Barber': 1, 'Robert Greene (écrivain américain)': 1, 'Jeffery Deaver': 1, 'Daniel Boivin': 6, 'Robert Barlow': 1, 'Roger Martin (écrivain)': 1, 'Pierre Lagier': 11, 'Suzanne Duchesne': 1, 'Michel Mardore': 1, 'Philippe Greffet': 1, 'Alain Page': 1, 'Jan Erik Vold': 1, 'Amélie Bosquet': 1, 'Nadine Ribault': 1, 'Françoise Lepage': 3, 'Frédérique Lorient': 1, 'Catherine Laurent': 4, 'François Foucart': 1, 'Georges Aubin': 1, 'Renée Blanchet': 1, 'Pierre Girard': 7, 'Thierry Lentz': 2, 'Jean-François Comte': 8, 'Serge Arcouët': 1, 'Jean Fouchard': 1, 'Gérard Dhôtel': 1, 'May Telmissany': 1, 'André Mary': 1, 'Louis Émond (écrivain, 1957)': 2, 'Gilles Boileau (professeur)': 2, 'Maurice Le Blond': 1, 'Claude Champagne (auteur)': 1, 'Alexandre Lazareff': 1, 'Jacques Serena': 1, 'Robert Salmon': 1, 'Pierre Bonardi': 2, 'William Latimer (helléniste)': 1, 'François de Rosset': 1, 'Alex Shearer': 1, 'Denis-Martin Chabot': 1, 'Bernard-Henri Lévy': 1, 'Richard N. Goodwin': 1, 'Camille Bouchard': 4, 'Bruno Roy (médiéviste)': 1, 'Francis Lamberg': 1, 'Catherine Laboubée': 1, 'Salim Barakat': 1, 'Vincent Fleury': 1, 'France Boisvert': 2, 'Alexandre Braud': 3, 'Claude Raucy': 1, 'Claude Mollard': 2, 'Jean-Claude Forêt': 10, 'Cécile Monnier': 1, 'Pierre Monnier (1911-2006)': 4, 'Georges Dessommes': 1, 'Alain Lequien': 1, 'Helene Tursten': 1, 'Jean-Pierre Enard': 7, 'Marie Hart': 2, 'Jean-Jacques Leuliette': 1, 'Jean-Marie Dallet': 2, 'Audrey Parily': 1, 'François Beauvy': 2, 'Andrée Chedid': 1, 'Jean-Pierre Paumier': 6, 'Jean-Christophe Chaumette': 1, 'Élisabeth Filhol': 1, 'Christian Laux': 2, 'Louis Gardet': 1, 'Jonathan Maberry': 1, 'Pierre Letourneur': 1, 'César Aira': 1, 'Barbara Haworth-Attard': 1, 'Hubert Comte': 1, 'Maurice Lubin': 1, 'Henri Bessière': 1, 'François Richard (auteur de science-fiction)': 5, 'Jacques Sargos': 2, 'Laurent Lachance': 2, 'Charles Poncy': 1, 'Pablo Urbanyi': 1, 'David Jones (missionnaire)': 1, 'Claudine Glot': 1, 'David Bensoussan': 1, 'Michel Pichat': 3, 'Joël Dehasse': 1, 'Chantal Herbé': 2, 'Valérie Harvey': 4, 'Thomas Shaw': 1, 'John Ashbery': 1, 'Germain Moüette': 1, 'Christian Léourier': 2, 'Alain Bonnand': 2, 'Rodolfo Walsh': 2, 'Timothy Freke': 2, 'Isabelle Pivert': 6, 'Antoine Biet': 1, 'Sinclair Dumontais': 1, 'Alan Wake': 1, 'Roger Dévigne': 1, 'Boris Vian': 1, 'Michael Krüger': 1, 'Denis Vanier': 1, 'Pierre Demers': 5, 'Brigitte Hamann': 1, 'Gayle Forman': 1, 'François Gantheret': 2, 'Lionel Noël': 1, 'France-Marie Watkins': 1, 'William Bayer': 1, 'Mona Latif-Ghattas': 2, 'Bernard Minoret': 1, 'Amy Lachapelle': 4, 'Jean-Paul Ribes': 3, 'Daniel Amson': 2, 'Jean Marquet': 2, 'Jean-Jacques Greif': 1, 'Michael Byrnes': 1, 'Étienne Gervais': 1, 'Annie Vintze': 1, 'David S. Khara': 1, 'Fred Mustard Stewart': 1, 'Michelle Rowen': 4, 'Louise Marley': 4, 'François Tétreau': 3, 'Marcel Möring': 2, 'Christopher Anvil': 1, 'Michel Delville': 1, 'Françoise Simpère': 2, 'Jean Oporin': 1, 'Michèle Barbier': 1, 'Henri Dalby': 1, 'Véronique Bergen': 1, 'Jean-Pierre Harris': 7, 'Barbara Baraldi': 1, 'Marcia Muller': 1, 'Richard Falk': 1, 'Maxime Roy-Desruisseaux': 1, 'Marcel Sauvage': 1, 'Lélia Young': 2, 'François Martineau': 3, 'Michel Ponte': 4, 'Pierre Viallet': 1, 'Estelle Beauchamp': 1, 'Pierre Barthe': 5, 'Lisa Unger': 1, 'Jacqueline Starer': 2, 'Christopher Hale': 2, 'Catherine Vigourt': 1, 'France Daigle': 1, 'David Lonergan': 1, 'Daniel Bernard (écrivain français)': 7, 'Dominique Curtiss': 2, 'Antoine Piazza': 1, 'Claude Delmas': 3, 'Henry Vaughan': 1, 'Gérard Coulon': 1, 'Jean Louis Fleury': 2, 'Michel Faré': 3, 'Ernest Pépin': 1, 'François Sabbathier': 1, 'Robert Marinier': 3, 'Pascal Riou': 1, 'Robert Leroux (sociologue)': 2, 'Philippe Laïk': 3, 'Eugenio Garin': 1, 'Jean Diwo': 1, 'Jean-Pierre Martin': 12, 'Michel Hébert (écrivain)': 4, 'Eric L. Harry': 1, 'Philippe Gourdin': 4, 'Hélène Harbec': 2, 'Gracia Couturier': 1, 'Michèle Blanchet': 1, 'Gilles Lacombe': 1, 'Jocelyne Mallet-Parent': 1, 'Claude Marceau': 5, 'Katia Canciani': 1, 'Sophie Nauleau': 2, 'Claude Forand': 5, \"Guillaume d'Alaman\": 1, 'Jacques-René Doyon': 1, 'Dominique Simonnet': 2, 'Michel David (auteur)': 2, 'André Mathieu (auteur)': 2, 'Gilbert Ganne': 1, 'Bernard Joubert (écrivain)': 2, 'Sam Savage': 1, 'Francine Chicoine': 2, 'Dave Pelzer': 1, 'Suzanne Bernard (écrivain)': 1, 'Fabrice Boulanger': 2, 'Pierre Cormon': 8, 'Victoria Holmes': 1, 'Kate Cary': 1, 'Jean Mogin': 1, 'Jean des Vallières': 1, 'Sarah Dars': 1, 'Caroline Allard': 6, 'Alain Blanc': 1, 'Pierre Mari': 3, 'Jules Laroche': 1, 'Charles Maignen': 1, 'Robert Liddell': 1, 'Jacqueline Susann': 1, 'David Wilkerson': 1, 'Nathalie Kuperman': 1, 'David Leblanc (écrivain)': 2, 'Jean Carré': 2, 'Jenny Siler': 1, 'Pierre Delaire': 3, 'Mauricio Segura': 1, 'Jean Pierre Ceton': 2, 'Claude Arnaud': 1, 'France Cayouette': 3, 'Guy Arsenault': 1, 'Seamus Deane': 1, 'Jean-Claude Walter': 6, 'Gervais Pomerleau': 1, 'James Noël': 1, 'Christian Morissette': 1, 'Gary Jennings': 1, 'John Rastell': 1, 'Nassira Belloula': 1, 'Artur Dinter': 1, 'Denis Humbert': 1, 'François Jacquier': 1, 'Claude Morgan': 4, 'François Lévesque': 2, 'Javier Cercas': 1, 'Christophe Carlier': 1, 'Catherine Tregenna': 1, 'Sara Shepard': 1, 'Jô Soares': 1, 'David Sedaris': 1, 'Jean-Louis Baudry': 5, 'André Lamontagne (professeur)': 2, 'Jean-François Foppens': 1, 'François Sweerts': 1, 'Robert Alexis': 1, 'John Pule': 1, 'Dan Savage': 1, 'Jacques Tournier': 2, 'Alain Gagnol': 3, 'Maurice Demers': 1, 'Jørgen-Frantz Jacobsen': 1, 'Pierre Merle (écrivain)': 1, 'Mylaine Demers': 1, 'André Brissaud': 1, 'Christian Matras (philologue)': 2, 'Kenneth J. Harvey': 1, 'Jean-Christophe Giesbert': 1, 'Patrick Gale': 1, 'Gérard Gartner': 1, 'Eino Leino': 1, 'André Lafon': 2, 'Paul Fredericq': 1, 'François de Licht': 1, 'Lise Thouin': 2, 'Jean Bernard (compagnon du devoir)': 4, 'Louise Gauthier': 4, 'Christopher Rice': 2, 'Jacques Edouard': 2, 'Elizabeth A. Lynn': 1, 'Richard Specht': 1, 'Maxime Montel': 1, 'Jean Pierre Vidal': 2, 'Louise Bourbonnaud': 1, 'Caroline Gravière': 1, 'Jérôme Ferrari': 2, 'William Maginn': 1, 'Nathalie Papin': 3, 'Michael Collins (écrivain irlandais)': 4, 'Laure Charpentier': 1, 'Paul Foucher': 2, 'André Capron (professeur)': 1, 'Louise Anne Bouchard': 3, 'Daniel Simon': 1, 'Jean Marcenac': 1, 'Robert L. May': 1, 'Sylvie-Catherine De Vailly': 2, 'Alain Emery': 1, 'Antoine Girard (jésuite)': 2, 'Jean Lamoureux': 2, 'Robert Cordier': 3, 'Nikos Kachtitsis': 1, 'Joséphine Bacon': 1, 'Philippe Denis': 3, 'Catherine Jarrett': 2, 'John Green (écrivain)': 2, 'Jean Billot': 1, 'Maurice Briault': 1, 'Ubald Paquin': 1, 'Michèle LeBlanc': 3, 'Patrick Deville': 1, 'Horacio Hidrovo Peñaherrera': 1, 'Jean Bart (écrivain)': 1, 'Pierre Martel (1923-2001)': 7, 'Didier Garcia (écrivain)': 1, 'Maurice Martin (écrivain)': 5, 'Pierre Rousseau (vulgarisateur)': 3, 'José Claer': 1, 'Simon Boulerice': 2, 'Corinne Chevallier': 1, 'Michael Buthe': 2, 'Myriam Beaudoin': 1, 'Pierre Lecuire': 4, 'Sébastien Gendron': 1, 'Jean-Claude Buhrer': 2, 'Michel Picard (écrivain)': 10, 'Philippe Lombard': 1, 'Comtesse Dash': 1, 'Normand Renaud': 1, 'Geneviève Patte': 7, 'Maurice Henrie': 2, 'Robert Dehoux': 1, 'Oscar-Paul Gilbert': 1, \"Madeleine L'Engle\": 1, 'Jean-Paul Bertaud': 1, 'Jean-François Mandar': 3, 'Eduardo Antonio Parra': 1, 'Jean Rigaud (écrivain)': 1, 'Marc Saporta': 1, 'Esther Vilar': 1, 'François Manet': 8, 'François Dumont (professeur)': 3, 'Guy Ménard': 1, 'Marcel Cohen (écrivain)': 2, 'Lars Kepler': 1, 'Martine Bisson-Rodriguez': 1, 'Norman Vincent Peale': 1, 'Berthelot Brunet': 1, 'Charles Portis': 1, 'Menyhért Lakatos': 1, 'Alessandro Mercuri': 1, 'Marie-José Lamothe': 1, 'Giorgio Faletti': 1, 'Linnea Sinclair': 1, 'Benjamin Faucon': 1, 'Jean-François Vilar': 5, 'Svetislav Basara': 1, 'Régis Bergeron': 3, 'Georges Guillain (poète)': 1, 'Marie Caillet': 1, 'Sophie van der Stap': 1, 'Roméo Savoie': 1, 'Peter May': 1, 'Richard Collasse': 1, 'Réal-Gabriel Bujold': 1, 'Stéphane Crémer': 1, 'Francis Zamponi': 1, 'Bill James (baseball)': 1, 'Sébastien Vrancx': 1, 'Jean Mohsen Fahmy': 1, 'Michel Rostain': 2, 'Hugo Boris': 1, 'Pierre Chabert (poète)': 3, 'Alain Bellet': 1, 'Jean-Pierre Chanod': 7, 'Jean-François Godescard': 2, 'Claudia Rusch': 1, 'Georges Gaudy': 3, 'Jean-Christophe Valtat': 1, 'Shane Peacock': 1, 'Thierry Lefèvre': 1, 'Michel Bernard (écrivain, 1958)': 4, 'Marie-Christine Masset': 7, 'Marc Laberge': 3, 'Miljenko Jergović': 1, 'Michel Gagné': 1, 'Barbara Ogier': 1, 'Philippe J. Dubois': 1, 'Charles Bernard (écrivain)': 1, 'Paul Caso': 2, 'Daniel Serceau': 2, 'François Balsan': 1, 'Patricia Geary': 2, 'Jean-Pierre Conty': 8, 'Judith Tarr': 1, 'Esther Friesner': 1, 'David Homel': 1, 'Catherine Asaro': 1, 'Claude Aubert (ingénieur)': 4, 'Marc-Antoine Hersan': 1, 'Jean Le Boël': 1, 'Emily Clark': 1, 'Thomas Shelton (traducteur)': 1, 'Laurent Gidon': 1, 'John Mortimer': 1, 'Matthew Fort': 1, 'Daniel Juré': 2, 'Roger Bruge': 1, 'Elizabeth Gilbert': 1, 'Caroline Jaubert': 3, 'Evgueni Schwarz': 1, 'Amanda Hocking': 1, 'Mélissa Verreault': 2, 'François Debré': 4, 'Laure Buisson': 1, 'Pierre Poiret': 3, 'Antonio Scarpa': 1, 'Nicolas Grozelier': 2, 'Grégory Lemay': 1, 'Jeannine Lafontaine': 2, 'Émeline Pierre': 2, 'Paul Fournier (sculpteur)': 1, 'Jodi Picoult': 1, 'Edouard H. Bond': 1, 'Marion Gilbert': 3, 'Jim Rohn': 1, 'Dominique Legrand': 5, 'John C. Wright': 1, 'Lisi Harrison': 1, 'Gilles Vincent': 1, 'Christian Cazalot': 1, 'Bruno Doucey': 1, 'Claude Cénac': 1, 'Erwan Chartier': 1, 'Alexandra Ivy': 2, 'Jacques Bron': 4, 'Catherine Henri': 1, 'Michel Buenzod': 1, 'Philippe Aubert (écrivain)': 2, 'Jacques Poujol': 1, 'Philippe Monot': 1, 'Éric Clémens': 1, 'Annick Perrot-Bishop': 1, 'Carol LeBel': 1, 'Christian Milat': 3, 'Christie Golden': 1, 'Pierre Galland': 2, 'Pierre Chaine': 1, 'François Charles': 6, 'Philippe Vigand': 3, 'Laurence Tacou': 1, 'Jacques Gauthier (écrivain)': 4, 'Jeanne Painchaud': 1, 'Loïse Lavallée': 2, 'Louise de Gonzague Pelletier': 1, 'Lyne Richard': 2, 'Pierre Ladoué': 8, 'Pierre Crépeau': 2, 'Robert Viau': 1, 'Simone Piuze': 1, 'Jean-Louis Grosmaire': 1, 'Stéphane Jean': 2, 'Sophie Bérubé': 1, 'Claire Boulé': 2, 'Michel Gaulin': 5, 'Tomson Highway': 1, 'Robert Barrat (journaliste)': 1, 'Gustav Renker': 1, 'Philippe Amiguet': 1, 'Jean Billeter': 1, 'Jean-Pierre Burgart': 4, 'Louise Royer': 1, 'Frédéric Lamoth': 1, 'Denise Bourdet': 1, 'Sorour Kasmaï': 1, 'Stéphane Tamaillon': 1, 'Michel Jaccard': 3, 'Isabelle Jarry': 2, 'Brandon Mull': 1, 'Jacques Meylan': 1, 'Thérèse Moreau': 1, 'Jean-Pierre Vallotton': 1, 'Christian Viredaz': 1, 'Michel Cuvelier': 1, 'Jean-Pierre Fattal': 7, 'François Rouiller': 2, 'Bernard Barbey': 2, 'René Berger': 2, 'Hélène Bezençon': 1, 'Alain Cavenne': 2, 'Louise Penny': 1, 'Marie-Christine Clément': 4, 'Nicolas Verdan': 1, 'Diane Drory': 1, 'Raphaël Aubert': 1, 'Roger Facon': 1, 'Jean-François Fournier': 5, 'Rémi Tremblay': 6, 'Laurent Granier (auteur-réalisateur)': 1, 'Alain Guyard': 1, \"Kathleen O'Neal Gear\": 1, 'Paul Tournier': 1, 'Marcel Aymon': 2, 'Marie-José Auderset': 1, 'Bernard Antenen': 1, 'Michel Bühler': 1, 'Jean-François Aubé': 8, 'Edward Lee (évêque)': 1, 'Jean Dumur': 1, 'Georges Duplain': 1, 'Philippe Bonzon': 1, 'Michel Bory': 2, 'Jacqueline Tanner': 2, 'Daniel Simond': 2, 'Frédérique Deghelt': 3, 'Nicole Lambert': 2, 'Patrick Leroux': 2, 'Dominique Zalitis': 1, 'Marie-José Piguet': 1, 'Louis Geoffroy': 1, 'Claire Gallois': 1, 'James Leo Herlihy': 1, 'Eugénie Boillet': 1, 'Jacques Chantier': 1, 'François Conod': 1, 'Janine Massard': 1, 'Nicolas Garreau': 2, 'Gilbert Salem': 2, 'Michel Sandoz': 5, 'Dominique Scheder': 1, 'Anne-Marie Simond': 3, 'Jean-François Sonnay': 3, 'Philippe Testa': 1, 'Michèle Tharin': 4, 'Patrick Denaud': 3, 'Jean-Pierre Dutilleux': 2, 'Catherine Colomb': 1, 'Jacques Donzel': 1, 'Jon Ferguson': 2, 'Georges Haldas': 1, 'Françoise Levie': 6, 'Jean-Louis Kuffer': 1, 'Pierre Lepori': 7, 'Dominique Nohain': 2, 'Marcel Miracle': 1, 'Hélène Duffau': 2, 'Michel Moret': 2, 'Patrick Moser': 3, 'Jacques Neirynck': 1, 'Frédéric Pajak': 1, 'Robert Elms': 1, 'Marie-Thérèse Cuny': 2, 'Marc Robitaille': 2, 'André Bolduc': 1, 'Jacques Roman': 2, 'Stéphane Rose': 4, 'Philippe Boggio': 1, 'Jean-Louis Chaubert': 1, 'Marie-Agnès Courouble': 1, 'Anne Richter': 1, 'Michel Contat': 3, 'Georges Caméra': 1, 'Miroslav Antić': 1, 'Isabelle Alexis': 1, 'Leo Vaz': 1, 'Erik Larson': 1, 'Solomon Northup': 1, 'Frédéric Veille': 1, 'Jean-Pierre Richardot': 1, 'Jean-Michel Valade': 1, 'Mireille Reymond': 1, 'André Péry': 1, 'Françoise Renaud': 2, 'Pierre-André Rieben': 1, 'Françoise Roubaudi': 2, 'Jean-Pierre Rochat': 10, 'Stéphanie Pfister': 2, 'Jean-Jacques Belet': 1, 'Claude Berney': 2, 'Luc Gonin': 1, 'Georges Caspari': 1, 'Valerie Anand': 1, 'Pierre Bellmann': 2, 'Carole Martinez': 4, 'François Iselin': 1, 'Françoise Matthey': 1, 'Jacqueline Thériault': 1, 'Catherine Delors': 1, 'Madison Smartt Bell': 1, 'Jean-Michel Olivier': 1, 'Robert Randau': 1, 'Frédéric Dumond': 4, 'Alphonse Séché': 1, 'Claude Leclerc': 2, 'Catherine Millot': 2, 'Frans Ben Callado': 1, 'Anne Bouin': 1, 'Stéphane Kelly': 2, 'Jean-Claude Larouche': 1, 'Olivier Gaillard (écrivain)': 1, 'Laurent Sagalovitsch': 1, 'Jacques Martel (chansonnier)': 5, 'Alexandre Guhl': 1, 'Martin Michaud': 3, 'Stéphane Bataillon': 1, 'Paul Renaudin': 1, 'Catherine Lovey': 3, 'Pierre le Patrice': 1, 'Christophe Gallaz': 1, 'François Billard': 3, 'Isabelle Guisan': 1, 'Raymond Paquin': 2, 'Pascal Janovjak': 1, 'Michel Gardère': 3, 'Jean-Pierre Le Mat': 4, 'Jean Bury': 1, 'Jean Redon': 3, 'Gérard Genot': 1, 'Pierre Lepape': 3, 'Béatrice Cussol': 1, 'Jean-Claude Larocque': 2, 'Roland Villeneuve': 3, 'François de Cortète': 1, 'Gérard Noiret': 1, 'Michael Kennedy': 1, 'Émile Zola': 1, 'Paul André (écrivain suisse)': 1, 'Yves Vaillancourt': 7, 'Jean-Pierre Moulin (écrivain)': 8, 'Kathryn Stockett': 1, 'Christophe Goarant': 1, 'Nicolas Pages': 1, 'Michel Moulin (comédien)': 6, 'Anne Fontaine (poétesse)': 3, 'Jean-Blaise Adema': 1, 'Michel Lacroix (philosophe)': 3, 'Claudia Larochelle': 1, 'Philippe Daudy': 1, 'Jean-Pierre Jackson': 3, 'Jean-Claude Peyrot': 1, 'Jean-Baptiste Coyos': 1, 'Nicolas Grenier': 3, 'Pierre Davity': 1, 'Michel Lambert (écrivain)': 2, 'Alexandre Lacroix': 3, 'Jean de Serres': 1, 'Jean Duraz': 2, 'Pierre Dalloz': 1, 'Sylvie Massicotte': 3, 'Paul Budry': 1, 'Bernard Violet': 5, 'Richard Yates (auteur)': 2, 'Jean-Claude Piguet': 3, 'Pierre Versins': 1, 'Jean-Jacques Gay': 1, 'Pierre Dudan': 1, 'André Bonnard': 2, 'Pierre Gélinas': 2, 'Michael Lewis': 1, 'Françoise Parturier': 1, 'Jean-Louis Davant': 2, 'François Guérin (écrivain)': 4, 'Hélène Bessette': 2, 'Dominique Sigaud': 3, 'Georges Simenon': 1, 'Gérard Lenne': 1, 'Jacques Henrard': 6, 'Martina Cole': 1, 'Louise Cornaz': 2, 'Katherine Quenot': 1, 'Marguerite Bourcet': 2, 'Béatrice Leca': 1, 'Leopoldo Marechal': 1, 'Stéphanie Hurtubise': 1, 'Pier-Luc Lasalle': 1, 'Sue Miller': 2, 'Catherine Klein': 1, 'Jean-Louis Hue': 1, 'Antoine Dodé': 1, 'Alain Lessard': 2, 'Sébastien Geraci': 1, 'Serge Boucher': 2, 'Jacques Benoît (écrivain)': 2, 'Jean-Michel Junod': 1, 'Jacques Burko': 1, 'Richard Dehmel': 1, 'Emmanuel Moses': 1, 'Barbara Grier': 1, 'François Baudot': 6, 'Florence Aubry': 1, 'Jocelyne Saucier': 1, 'Jean-Claude Romera': 5, 'Christopher Caldwell': 1, 'Jean-Philippe Querton': 3, 'Jean-Pierre Leclerc': 1, 'Michel Laroche': 5, 'Frédéric Couderc': 1, 'Patrick Lane': 2, 'Jean Libert (écrivain)': 1, 'Terry Carr': 1, 'Jonathan Tropper': 1, 'Olivier Rey (philosophe)': 1, 'Michel Massian': 1, 'Jacques Goupil': 1, 'Jean-François Steiner': 6, 'Sophie Jomain': 1, 'Perrine Leblanc': 1, 'Jacques Meuris': 1, 'Marie Le Drian': 1, 'Jean-Michel Goutier': 1, 'Chitra Banerjee Divakaruni': 1, 'Jean-Noël Paquot': 1, 'Raymond Breton': 1, 'Michel Germain (Dom)': 1, 'Bernard Boudeau': 2, 'Benoît Bouthillette': 1, 'Georges Jean': 1, 'Patrick Marcel': 2, 'François Pagery': 2, 'Michel Falguières': 1, 'Emmanuel Cocke': 4, 'Daniel Besnehard': 1, 'Dominique Muller': 2, 'Elizabeth Hand': 6, 'Jesse Kellerman': 1, 'Geneviève Immè': 3, 'Paolo Rumiz': 1, 'Richard Wilson (écrivain)': 3, 'James Kahn': 1, 'Jean Roy (écrivain)': 1, 'Patrice Robin (écrivain)': 2, 'Daniel Adam': 2, 'Robert Raymer': 1, 'Richard Lange': 5, 'Jacques Boislève': 1, 'Eugene Lyons': 1, 'Stéphane Allix': 2, 'Olivier Lafay': 1, 'Louis Garon': 1, 'Maxime Catellier': 1, 'Dominique Joubert': 2, 'Alejandro Saravia': 1, 'Isabel Vaillancourt': 2, \"Fitz-James O'Brien\": 1, 'Roger Lagassé': 1, 'Jean-Jacques Salgon': 1, 'Gérard Bialestowski': 2, 'Guy Fontaine (écrivain)': 1, 'Jacques Jurquet': 1, 'André Gardies': 3, 'Frank M. Robinson': 1, 'Marcel Aymar': 1, 'Laurent Chabot': 1, 'Daniel Mauroc': 2, 'Jean-Marc Baude': 2, 'Jean Taboureau': 1, 'Lorenzo Carcaterra': 1, 'Nicolas Millet': 2, 'Claudine Douville': 2, 'Kjell Eriksson': 1, 'Eugène Mounier': 1, 'Michael Banim': 1, 'Andreas Latzko': 1, 'Michel Baglin': 5, 'Stéphanie Vincent': 1, 'Marie Borin': 1, 'Makenzy Orcel': 1, 'Marc Victor': 1, 'Christopher G. Moore': 2, 'Jean-Jacques Lafaye': 1, 'Marie Desjardins': 5, 'Dominique Meens': 2, 'Élisabeth Bourgois': 1, 'Claude Juin': 2, 'Nathalie Handal': 1, 'Pierre Guénin': 4, 'Louis Baron (écrivain)': 1, 'Paul Collin': 2, 'Susan Hill': 2, 'Jacques Mulliez': 1, 'Anna Maria Porter': 1, 'Pierre Vabre': 2, 'Pascal Morin': 2, 'Pierre Devaux (1897-1969)': 3, 'Paul Wagner': 1, 'Michaël Ferrier': 1, 'Pierre Tanguy': 2, 'Claire Marin': 4, 'Hélène Rompré': 2, 'Alexandre Palm': 1, 'Michel Clerc': 1, 'Marcel Brouillard': 2, 'Philippe Garnier (écrivain)': 1, 'Jacques Basse': 5, 'Jean Bernard (prêtre)': 4, \"Wilfried N'Sondé\": 1, 'Kunzang Choden': 1, 'Luigi Guarnieri': 1, 'Keigo Higashino': 1, 'Nita Rousseau': 1, 'Philippe Boegner': 1, 'Henri Danoy': 1, 'Michael Collins (écrivain américain)': 4, 'Étienne Bours': 2, 'Laurent Grison': 2, 'Richard Sapir': 2, 'Frank Kane': 1, 'Jean-Marie Turpin': 2, 'Louis Dudek': 1, 'Daniel Margot': 2, 'Xinran': 1, 'Charles Dovalle': 1, 'Geneviève Damas': 3, 'Jean-Marie Lamblard': 1, 'François Garagnon': 4, 'Dominique Roulet': 5, 'Peter Corris': 1, 'Pierre Latour (artiste)': 7, 'Paul Cain': 1, 'Claude Berger (écrivain)': 4, 'Joseph Heath': 1, 'Richard Twiss': 1, 'Jean-Pierre Pastori': 2, 'Alain Le Ninèze': 1, 'Maria Luisa Spaziani': 1, 'Jean-Pierre Dopagne': 2, 'Mario Levrero': 1, 'François Garde': 10, 'Nicolas Tenzer': 2, 'Placide Gaboury': 1, 'Mack Reynolds': 1, 'David Guterson': 1, 'Toby Olson': 1, 'Patrick Meney': 1, 'Alain Pigeard': 2, 'Jonathan Ames': 5, 'Ánchel Conte': 1, 'Frédéric Boutet': 2, 'Alan Villiers': 1, 'Réjean Thomas (poète)': 1, 'Charles Ogier': 1, 'William Kotzwinkle': 1, 'François Ogier': 3, 'Joanna Trollope': 1, 'Jacques Camatte': 1, 'Christian Rapin': 5, 'Michel Goeldlin': 2, 'Jean Vaquié': 1, 'Claude Faber': 1, 'Jean-Paul Tibéri': 1, 'Marie-Bernadette Dupuy': 1, 'Emmanuel Godo': 3, 'Jean Guerrin': 1, 'Jean Basin': 2, 'Daniel Brévint': 1, 'Daniel Binaud': 4, 'Harry Dent': 1, 'Francis Pagnon': 4, 'Calouan': 1, 'Simone Jollivet': 1, 'Philippe Burty': 1, 'Robert Davreu': 2, 'Pierre Lagarde (écrivain)': 4, 'Andreu Martín': 2, 'Myriam Leroy': 1, 'Richard Wormser': 1, 'Robert Reeves': 2, 'Christine Jordis': 2, 'Christian Rudel': 1, 'Alan Green': 1, 'Amalia Guglielminetti': 1, 'Bertrand Beyern': 2, 'Michel Duvert': 4, 'Richard S. Prather': 1, 'Charles Dubois': 1, 'Daniel Pozner': 5, 'Mathieu Simonet (écrivain)': 1, 'Alexandre Langlade': 1, 'Olivier Delau': 1, 'Pierre Bidart': 4, 'Françoise Bourdon': 1, 'Michele Mari': 2, 'Bernard Villaret': 1, 'Catherine Lépront': 4, 'Nancy Pickard': 2, 'André Tacquet': 1, 'Patrice Romain': 1, 'Richard Crashaw': 1, 'John Clare': 1, 'Jean-Jules Richard': 1, 'Jacques Bienvenu': 1, 'Michel Théron': 3, 'Emmanuel Guillon': 1, 'Catherine Girard-Audet': 1, 'Djemila Benhabib': 1, 'Claude Margat': 3, 'Kij Johnson': 1, 'Paul Groussac': 1, 'Tracy Letts': 1, 'Roger Viau': 1, 'Michel Carlier': 3, 'Paul Archambault': 1, 'Jean-Pierre Cabanes': 4, 'Jean Jour': 1, 'Jules Moulier': 1, 'Alain Ade': 1, 'Marina Lewycka': 1, 'Jean Valbert': 1, 'Richard Stoker': 3, 'David Liss': 1, 'Carmen Boullosa': 1, 'Julianna Baggott': 1, 'Jean Saint-Pierre': 4, 'Jan Costin Wagner': 1, 'Pierre Chabert (écrivain provençal)': 3, 'Roger Jouet': 1, 'Antonio Tovar': 1, 'Élodie Bernard': 1, 'Stéphane Guérin': 1, 'William Danby': 1, 'Charles Bolduc': 1, 'Daniel Percheron (écrivain)': 1, 'Pierre Lesou': 2, 'Gabrielle Roth': 3, 'Christine Love': 3, 'Jean-François Caron (écrivain)': 11, 'Jacques Houllier': 1, 'Marie Christine Bernard': 1, 'Janis Locas': 1, 'Richard Deming': 3, 'Olivier Dupin': 1, 'Larry Tremblay': 5, 'Michel Waldberg': 1, 'Michel Tauriac': 2, 'André Thirion': 1, 'Alexandra Varrin': 1, 'Émilie Frèche': 1, 'Philippe de La Genardière': 1, 'Pia Petersen': 1, 'Judy Quinn': 1, 'Germain Rallon': 2, 'Xavier-Marie Bonnot': 1, 'Carlos Salem': 1, 'In Koli Jean Bofane': 1, 'Roger Marx': 1, 'Jean-François Caron (dramaturge)': 11, 'Claire Goll': 1, 'Gustav Regler': 1, 'Michael Brett': 1, 'Danielle Trussoni': 1, 'Patrice Lessard': 1, 'Michèle Bayar': 1, 'François Richard (écrivain limousin)': 5, 'Dan Wells': 1, 'Bernard Minier': 4, 'Jean-Paul Goujon': 2, 'Jean-Luc Marty': 1, 'Marcellin Caze': 1, 'Pierre Marc': 2, 'Samuel Archibald': 1, 'Yves Namur': 1, 'Linda Wilscam': 2, 'Sean Williams (écrivain)': 1, 'Gilles Vidal (écrivain)': 1, 'Pierre Léger (écrivain et musicien)': 5, 'Claude Courtot': 1, 'Philippe Sers': 2, 'Patricia Moyes': 1, 'Jean Lebon': 2, 'François Boher': 1, 'Marc-André Pilon': 2, 'Michel Lécureur': 1, 'Michèle Lacrosil': 1, 'Michel Maurette (écrivain)': 1, 'Christian Jougla': 1, 'Michael Mando': 2, 'Émile Clermont': 1, 'Elizabeth Bear': 3, 'Véronique Sales': 1, 'Médéric Charot': 1, 'Serge Gagnier': 3, 'Frédéric Roux (écrivain)': 3, \"François d'Escherny\": 1, 'Stéphane Osmont': 1, 'Magali (écrivain)': 1, 'Gustav Preller': 1, 'Todd Strasser': 1, 'Olivier May': 1, 'Michael Gruber (écrivain)': 2, 'Vincent Borel': 3, 'Christophe Mouton': 2, 'Jean-Yves Loude': 1, 'Rodney Saint-Éloi': 1, 'Robert Clarke (journaliste)': 3, 'Claude Mouchard': 2, 'Paul Wilson (criminologue)': 1, 'André Bay (écrivain)': 2, 'Christophe Contoléon': 1, 'David Carkeet': 1, 'Pierre Billotey': 1, 'Maureen Jennings': 1, 'Vittorio Frigerio': 1, 'Jean Faucher (réalisateur)': 1, 'André Jacques': 2, 'Sophie Rondeau': 1, 'Pierre Coret': 1, 'June Thomson': 1, 'Hanan El-Cheikh': 1, 'Raphaël Albert': 1, 'André Lebey': 1, 'Stéphanie Le Bail': 1, 'Jeanne Lapointe': 2, 'Jon Cohen': 1, 'Jean-Claude Lalumière': 1, 'Monica Ali': 1, 'David Whitaker (scénariste)': 1, 'Paul-François Sylvestre': 1, 'Philippe Gindre': 1, 'Gérard Moncomble': 1, 'Nele Neuhaus': 1, 'Patrick deWitt': 1, 'Pierre Stasse': 1, 'Veronica Roth': 2, 'Colette Piat': 1, 'Daniel Danoot': 1, 'Jean-Pierre Favard': 8, 'Halina Birenbaum': 1, 'Aline Apostolska': 1, 'André Bessière': 2, 'Campbell Armstrong': 1, 'Louis Haché': 2, 'Jean-Marie Petit': 1, 'François Solier': 2, 'Yehuda Elberg': 1, 'Pierre Josset': 3, 'Valérie Domain': 4, 'Jean-Louis Magnan': 2, 'Henry Bonnier': 1, 'Melvin Gallant': 3, 'Ludwig Herzer': 1, 'Marie-Christine Horn': 4, 'Jean-François Pissard': 8, 'Antoine de Latour': 1, 'Pierre Lepère': 8, 'Robert Kiyosaki': 1, 'Michel Pallanca': 1, 'Alexandre Postel': 1, 'Jacques Ouvard': 7, 'Eduardo Mallea': 1, 'Jean-Louis Bourdon': 4, 'Wayne LaPierre': 1, 'Elizabeth Ferrars': 1, 'Catherine Dorion': 5, 'Dominique Tron': 5, 'Michel Provins': 1, 'Robert Bage': 2, 'Françoise Lefèvre': 2, 'André Charlier (écrivain)': 3, 'Serge Barranx': 1, 'Marc de Bel': 1, 'Jean-Claude Demay': 4, 'Michel Guibert': 2, 'Henry Holt (écrivain)': 1, 'Christiane Baroche': 3, 'Anne Roze': 1, 'Richard Camand': 3, 'Maurizio Serra': 1, 'Daniel Giraud': 3, 'Jean-Paul Gunsett': 1, 'Frédéric Horning': 1, 'Gilles Joye': 1, 'Olivier Gay': 1, 'Robert Gernhardt': 1, 'Sylvie Payette': 1, 'John Ball (écrivain)': 3, 'Lawrence Sanders': 1, 'Catherine Decours': 2, 'Jack Whyte': 1, 'Richard Condon': 2, 'David Hume (écrivain)': 1, 'G. Jean-Aubry': 1, 'Suzanne Frémont': 1, 'John Godey': 1, 'Robert Barnard': 1, 'Isabelle Gaul': 4, 'Pierre Descargues': 2, 'Jennifer Tremblay': 1, 'Philippe Ducros': 3, 'Christiane Saint-Pierre': 1, 'Charles Regnault (auteur)': 1, 'Pierre Mortier': 7, 'Richard Neely': 1, 'Leonard Nolens': 1, 'Christophe Gavat': 1, \"Christine D'haen\": 2, 'Stefaan Van den Bremt': 1, 'Olivier Lemire': 1, 'Brian Jones (poète)': 1, 'Louis Malteste': 1, 'André Fargues': 2, 'Denis Lacombe': 1, 'Henri Lapierre': 2, 'Pierre Biron': 5, 'Charles Barry (écrivain)': 1, 'Robert Brough': 1, 'Marvin Albert': 1, 'Raymond Blanc (écrivain)': 2, 'Jacques Flamand': 2, 'Guillermo Rosales': 1, 'Richard Essex': 1, 'Rubén Bonifaz Nuño': 1, 'John Ferguson (écrivain)': 1, 'James Hatfield': 1, 'Dominique Fortier': 6, 'Sara Woods': 1, 'Frank King (écrivain)': 1, 'Gaston Tremblay (écrivain)': 3, 'Daniel Wallard': 1, 'Michel Faber': 2, 'Sydney Horler': 1, 'John Laurence': 1, 'Julien Capron': 1, 'Charles Courtin (écrivain)': 1, 'Jacques Baroche': 1, 'Michel Haas (écrivain)': 1, 'Catherine Leroux': 3, 'Thomas Wharton (écrivain)': 1, 'Patricia Carlon': 1, 'Ken Liu': 1, 'Christian Vilà': 3, 'Martin Olave': 1, 'Frédéric Lehné': 2, 'Kidi Bebey': 1, 'André Armandy': 1, 'Martine Desjardins (écrivaine)': 7, 'Christine Eddie': 1, 'Max Férandon': 1, 'Carla Guelfenbein': 1, 'Lori Lansens': 1, 'Patrick Hutin': 2, 'Maurice Culpan': 1, 'Benjamin Farjeon': 1, 'Michael Cronin': 1, 'Francesco Bello': 1, 'Catherine Guigon': 1, 'Raymond Perrin': 3, 'Andrew Kooman': 1, 'Elizabeth Daly': 7, 'Richard Olivier': 1, 'C.S. Richardson': 1, 'Thierry Bizot': 1, 'Geneviève Maury': 2, 'Ricardo Rojas': 1, 'Joseph Desanat': 1, 'Rawi Hage': 1, 'Andrew Kaufman': 1, 'Anne Michaels': 3, 'Steven Galloway': 1, 'Robert Richardson (écrivain)': 1, 'Elizabeth Cadell': 2, 'Pierre Lelong (écrivain)': 3, 'Dominique Dugay': 1, 'Jean-Michel Calvez': 3, 'Michel Rival': 2, 'Pierre Rousset': 3, 'Víctor del Árbol': 1, 'Pierre Vinçard': 4, 'Pierre Maudru': 1, 'Alain Monnier': 3, 'Hélène Sevestre': 1, 'Jean-François Fournel (écrivain)': 9, 'Jean Buhler': 1, 'Mike Butterworth': 1, 'Marc Alaux': 1, 'Lucien Noullez': 1, 'E. Richard Johnson': 2, 'Julia Pawlowicz': 1, 'Dominique Conil': 2, 'David Gradis (1742-1811)': 1, 'Gabrielle Rolin': 2, 'Catherine Valogne': 1, 'François Prunier': 1, 'Vincent Liegey': 1, 'Richard Forrest': 1, 'Éric Dupont': 1, 'Richard Powell': 1, 'Michel Pintoin': 1, 'Anne Perry-Bouquet': 1, 'Clément Vautel': 1, 'Pierre Salmon': 5, 'Emmanuel Ménard': 1, 'Caroline Finkel': 1, 'Éric Nonn': 2, 'Nicolas Presl': 1, 'Jean-Louis Coatrieux': 1, 'Michel Jobin': 3, 'Bernard Pouchèle': 1, 'Jean-Pierre Brouillaud': 1, 'Eugène Nicole': 1, 'Audrée Wilhelmy': 1, 'Emilie Richards': 1, 'Jean-François Elslander': 1, 'Michel Viala': 1, 'Richard Grayson (écrivain)': 3, 'Gabriel Marfond': 1, 'William March': 1, 'Françoise Guérin': 2, 'Thierry Renard': 2, 'Oswald Wynd': 1, 'Julie Pellerin': 2, 'John Rodker': 1, 'James Ross (écrivain américain)': 1, 'Guillaume Tardif': 1, 'Philippe Conil': 1, 'Roger Bodart': 1, 'Claude Bauwens': 1, 'André Doms': 2, 'Robert Vivier': 3, 'Michel Beauquey': 2, 'Alain Mercier': 4, 'Jean-Pierre Chambon (poète)': 4, 'John Wessel': 1, 'David Bergen': 1, 'Yves Delange': 1, 'Bernard Peters': 1, 'Marguerite Coppin': 3, 'James Allen (écrivain)': 1, 'Marcel Drouin': 2, 'Martin Lessard': 3, 'Pierre Gauthiez': 1, 'Étienne Brunet (linguiste)': 1, 'Christopher Moore': 3, 'Daniel Blanchard': 1, 'Christian Limousin': 1, 'Rosamunde Pilcher': 1, 'Pan Bouyoucas': 1, 'Danielle Auby': 2, 'Gerard Lee': 1, 'François Lavallée': 2, 'Didier Kelvin': 1, 'Marguerite Baulu': 1, 'Brad Williams': 1, 'Jacques Gaucheron': 1, 'Michael Grandt': 3, 'Jean Larriaga': 1, 'William Gager': 2, 'François Camé': 2, 'Paul Scott': 1, 'Peter Rabe': 3, 'Robert Wilson (écrivain)': 1, 'Michael Gilbert': 2, 'François Porcile': 1, 'Jean Wells': 1, 'Anne Brown (concepteur de jeux)': 1, 'Frank Mentzer': 1, 'Patrick Séry': 1, 'Barbara Frost': 1, 'Patricia Dupuy': 1, 'Georges Desportes': 1, 'Marc Gagné': 3, 'Michel Hubaut': 1, 'Stéphanie Filion': 2, 'Elizabeth Powers': 1, 'Michael Haulică': 1, 'Michael Huber': 2, 'Alexandre de Roes': 1, 'Daniel Le Clerc': 1, 'Gabriel Deblander': 1, 'Emmanuel Merle': 1, 'Charles Paron': 5, 'Étienne Martin (peintre)': 2, 'Claude Alibert': 2, 'Michael Carey': 1, 'Dominique Frischer': 2, 'Jean-François Merle (écrivain)': 14, 'John Cole (journaliste)': 1, 'Pierre Galante': 1, 'Alfred Colling': 1, 'François Poirié': 2, 'Thomas Harlan': 2, 'Benoit Caudoux': 1, 'Steven Barnes': 2, 'David Sherman': 1, 'John Hart (écrivain)': 4, 'Robert Leckie (auteur)': 1, 'Cassandra Clare': 2, 'Marie Allain': 1, 'Jean Muret (secrétaire pontifical)': 1, 'Martin Blais': 2, 'Leopoldo María Panero': 1, 'Patrice Leraut': 4, 'Victor Chan': 1, 'Jonathan Valin': 1, 'Claude Maillard': 2, 'Alain Durel': 1, 'Elizabeth David': 1, 'Sean Stewart': 1, 'Laurent Corvin': 1, 'John Straley': 1, 'Jacques Forgeas': 1, 'David Wilson (criminologue)': 1, 'Louis Musin': 1, 'Jacques Bourdu': 1, 'Jean-Claude Ulian': 2, 'André Dumas (poète)': 1, 'François Joly (écrivain)': 5, 'Henri Belliot': 1, 'Michel Carnal': 2, 'Philippe Durand': 1, 'Robert Boudet': 1, 'Peter Maas': 1, 'Jean-François de Pons': 4, 'Danielle Boulianne': 1, 'Valérie Simon': 1, 'Fernande Gontier': 1, 'Valeriu Marcu': 1, 'Guillaume Siaudeau': 1, 'Jean Frémon': 1, 'François Euvé': 6, 'Roger Longrigg': 1, 'Bernard Lefort (écrivain)': 1, 'François Jonquet': 1, 'Les Roberts': 1, 'Jean Mansel': 1, 'Pierre Ménard (écrivain, 1969)': 9, 'Michel Lamart': 3, 'Christian Doumet': 1, 'Francine Mathews': 1, 'Nicolae Filimon': 1, 'Jean-Pierre Farkas': 8, 'Thierry Gosset': 1, 'Isabelle Langlois': 2, 'Robert Rossner': 1, 'Robert E. Alter': 1, 'Pierre Besnier': 5, 'Paul Bilhaud': 1, 'Claude Voilier': 1, 'Pierre Laurendeau (écrivain)': 2, 'Marcel Garnier': 2, 'Michel Soukar': 2, 'Jacques Bardin': 6, 'John Buell': 1, 'Robert Sylvester': 1, 'Dominique Joly': 4, 'Jean Savaron': 1, 'Homero Aridjis': 1, 'Frédéric Verger': 1, 'Jean-Louis Mayne': 1, 'André Rousseau (écrivain)': 1, 'Germaine Mornand': 1, 'Charlotte Bingham': 1, 'Pierre-Yves Leprince': 1, 'Chris Boucher': 2, 'Albert Marenčin': 1, 'Charles Lancar': 2, 'Catherine Zell': 1, 'René Caboz': 1, 'Jean Tétreau': 1, 'Alain Wagneur': 1, 'Leslie Waller': 1, 'Peter Luke': 1, 'Robert Lévesque': 2, 'Hélène Frédérick': 1, 'Jacques Risser': 1, 'Jean Morel (poète latiniste)': 2, 'Jean Plaud': 1, 'Anne Rivers Siddons': 1, 'Jean-Pierre Issenhuth': 1, 'Éric Vinson': 1, 'Jill Johnston': 1, 'Maurice Muret': 3, 'Bill Goode': 1, 'Cyrille Martinez': 1, 'Paul Boldt': 1, 'Robert Leeson': 1, 'Louis Charbonneau': 3, 'Patrick Seale': 1, 'Bob Barrett': 1, 'Martin Beradt': 1, 'Henry Porter (dramaturge)': 1, 'Jacques Gerber (critique de cinéma)': 3, 'Daniel Yonnet': 2, 'Michèle Courbou': 1, 'Rita Mestokosho': 1, 'Dominique Dyens': 2, 'Caroline Myss': 1, 'James Colbert': 1, 'Hermann Essig': 1, 'Robert Eunson': 2, 'Mary Renault': 1, 'Claude Cherrier': 2, 'Daniel Faria': 1, 'Christian Laborie': 4, 'René Varennes': 1, 'Christian Durieux': 1, 'Steven Farley': 1, 'Christophe Galfard': 2, 'Ben Benson': 1, 'Michel Cousin': 7, 'Paul Leppin': 1, 'Marcel Beyer': 1, 'Gerhard Meier': 1, 'Pierre Ripert': 3, 'Martin Kessel': 1, 'Richard Harper': 4, 'Gert Hofmann': 1, 'Richard Laymon': 2, 'Michael Maar': 1, 'Jacques Finné': 1, 'François Chéron': 7, 'Samuel Rowley': 1, 'Jean-Paul Didierlaurent': 1, 'Jacques Mailhos': 1, 'Rick Boyer': 1, 'Jacques Barbaut': 1, 'Paul Thiès': 2, 'Claude Aubery': 3, 'Julie Smith (écrivain)': 1, 'Margaret Maron': 1, 'Jan Burke': 1, 'Sébastien Harrisson': 1, 'Pierre Basson': 5, 'Yishai Sarid': 1, 'David McCullough': 1, 'George LaFountaine': 1, 'Philippe Daverio': 1, 'Elizabeth Burgos': 2, 'Stanley Elkin': 1, 'Alexis Wright': 1, 'Clément Huart': 1, 'Murray Bail': 1, 'Lawrence Hill': 1, 'Richard Kadrey': 1, 'Robert Weyl': 1, 'William Mole': 1, 'Jean-Marie Chevrier': 2, 'Antoine Peccot': 1, 'Frederick Nebel': 1, 'Martin Moller': 2, 'Emmanuel Ruben': 1, 'Jean-Pierre Jossua': 1, 'Élise Champagne': 2, 'Valerio Magrelli': 1, 'Vincent Landel (écrivain)': 2, 'Peter Seeberg': 1, 'Hanne Ørstavik': 1, 'Richard Ste-Marie': 1, 'Thomas Berger': 1, 'André Guibaut': 1, 'Stig Larsson (écrivain)': 1, 'Carolyn Weston': 1, 'Vincent Pieri': 1, 'Jacques Werup': 1, 'Joelle Charbonneau': 5, 'Michael Levey': 1, 'Christopher Nicole': 2, 'Anton Quintana': 1, 'Stefan Haenni': 1, 'Erik Reger': 1, 'Jackie Collins': 1, 'William Krasner': 1, 'Jean-Pierre Ohl': 1, 'Urbain Olivier': 3, 'Michael Franck': 1, 'Jean-Pierre Geay': 1, 'Étienne Cattin': 1, 'Paul Ohl': 2, 'Jean-Pierre Charland': 2, 'Caroline Boidé': 2, 'Andreas Burnier': 1, 'Michelle Maillet': 2, 'Fabienne Jacob': 1, 'Donald Antrim': 1, 'Joseph Farah': 1, 'Sophie Divry': 1, 'Jean-Claude Alizet': 1, 'Loïc Henry': 1, 'Gareth Roberts (écrivain)': 1, 'Antony Béraud': 1, 'Émile Carré': 1, 'Jaime Sabines': 1, 'Véronique Poulain': 1, 'Christian Bachelin': 1, 'Martine Cadieu': 1, 'John Wilson (dramaturge)': 1, 'François Cariès': 7, 'Jean-Marie Barnaud': 2, 'Françoise Clédat': 1, 'Sylvestre Clancier': 1, 'Louis Laforce': 2, 'Marie-Claude Gay': 2, 'Johanne Harrelle': 1, 'Jean-Pierre Cannet': 8, 'Lynette Roberts': 1, 'André Lagarde (auteur occitan)': 1, 'Robert Wilson (dramaturge)': 1, 'Raymond Renard': 1, 'Barbara Toy': 1, 'Gerald Verner': 1, 'Michel Masson': 4, 'Georges Warda': 2, 'John Farris': 1, 'Michelle Lora': 2, 'Jennifer Clement': 1, 'Andre Dubus': 1, 'Diane Pearson': 2, 'Philippe Renard': 4, 'Robert Hervet': 1, 'Shen Rong': 1, 'Robert Charles': 2, 'Amara Lakhous': 1, 'François Gerber': 5, 'Jonathan Fast': 1, 'Andrea Jourdan': 1, 'Robert Reid (écrivain)': 1, 'Nathalie Bauer': 3, 'Michael Geller': 2, 'Henri Germain (écrivain)': 1, 'Bruce Fogle': 1, 'J. A. Baker': 1, 'Jamie Harrison': 1, 'George Sandys': 1, 'Philippe Isard': 4, 'Violaine Bérot': 1, 'François Fertiault': 2, 'Fernand Grenard': 1, 'Michael Jahn': 1, 'Patrick Roth': 1, 'Christopher Landon': 2, 'Marcel Lobet': 1, 'Alexandre Dumal': 1, 'Marcel Lévy': 1, 'Jacques Nantet': 6, 'Jean Fourton': 1, 'Richard Himmel': 2, 'Jean-Pierre Orban': 9, 'Chantal Ringuet': 1, 'Michael Grant (écrivain)': 3, 'Marius Girard': 3, 'Morley Torgov': 1, 'María Mercedes Carranza': 1, 'Emmanuel Kattan': 1, 'Sophie Hannah': 1, 'Bruce Talkington': 1, 'Isabelle Holland': 1, 'Yves Hughes': 1, 'David Vogel': 1, 'David Bell (écrivain)': 1, 'Charles Haquet': 2, 'Stephanie Vetter': 1, 'Vincent Karle': 1, 'Stéphane Chaumet': 1, 'David Montrose': 1, 'Henri-Frédéric Blanc': 1, 'Sophie Dabat': 1, 'Jean Camp': 1, 'Mario Ropp': 1, 'François Poli': 7, 'Eoin McNamee': 1, 'Bernard Mathieu (écrivain)': 1, 'Michelle Tourneur': 1, 'Patrick Baud': 1, 'Geneviève Manceron': 1, 'Pierre Bourson (homme politique)': 6, 'Catherine de Saint Phalle': 1, 'David Gilman': 1, 'Alfred Silver': 1, 'Louisa Lawson': 1, 'Madeleine Vivan': 1, 'Jean-Louis Pradel': 3, 'Jacqueline Queneau': 1, 'Jean-Claude Bajeux': 3, 'Robert Vaudois': 1, 'Priska Poirier': 1, 'François Esperet': 1, 'Estelle Nollet': 1, 'Paul Duport': 1, 'René Bichet': 1, 'Robert Ross (écrivain)': 1, 'Sylviane Corgiat': 1, \"Fernando d'Almeida\": 1, 'Charles Normand (auteur)': 1, 'Patrick Gillet': 1, 'Loïc Merle': 1, 'Sampar': 1, 'Jim Kelly (écrivain)': 2, 'Marcia Talley': 1, 'David Wong': 1, 'Anne Pérard': 1, 'Charles Paolini': 1, 'Sloan Wilson': 1, 'Richard Lortz': 1, 'Marie-Hélène Delval': 1, 'Alain Farah': 1, 'Jean-Marc Mendel': 1, 'Jean-Michel Dagory': 4, 'Olivier Barde-Cabuçon': 1, 'Isabelle Rivière': 2, 'Alice Hoffman': 1, 'Hervé Gagnon': 2, 'Suzanne Renaud': 1, 'Samuel Warren (écrivain)': 1, 'Charles Dickinson': 1, 'René Cambon': 1, 'Christian Jouhaud': 1, 'Bayard Taylor': 1, 'Fernand Nicolaÿ': 1, 'Stéphane Carlier': 2, 'John Hudson (classiciste)': 1, 'Jean Pellerin (journaliste)': 1, 'Catherine Gros': 5, 'Marie-Chantale Gariépy': 1, 'Jack Coggins': 1, 'Robert Martin (écrivain)': 8, 'Véronique Biefnot': 1, 'George Burnett': 1, 'Jacques Seray': 1, 'Samm Sinclair Baker': 1, 'Mel Gosselin': 1, 'Pierre Pélissier': 3, 'Catherine Doherty': 2, 'Jean Durry': 1, 'Jacques Dubessy': 1, 'Louis Sicard': 2, 'Charlotte Dacre': 1, 'Dominique Fabre (scénariste)': 1, 'Suzanne Blanc': 1, 'Claude Marais': 4, 'Louise Allen': 1, 'Marie-Thérèse Bodart': 2, 'Roger Parkes': 1, 'Marie-Pascale Huglo': 1, 'Jean-Jacques Gandini': 1, 'Cornelia Read': 1, 'Claude Roussin': 1, 'Edney Silvestre': 2, 'Albert Harding': 1, 'Christiane Passevant': 1, 'John Rossiter': 1, 'François du Jon': 3, 'Tere Tereba': 1, 'Frédéric Bastien': 1, 'Paul Thomas (philologue)': 2, 'Pierre Guéguen': 2, 'Caroline Miller': 3, 'Jean-Marie Catonné': 1, 'John A. Lee': 1, 'François Laur': 5, 'Jean-Claude Perrier': 2, 'Craig Strete': 1, 'Michael Conner': 1, 'Gabriel Bernard': 1, 'Jean-Pierre Perrin': 9, 'Jacques Blois (écrivain)': 4, 'Claude Virmonne': 1, 'Claude Fayard (écrivain)': 8, 'Pierre Leroux (écrivain)': 4, 'Isabelle Lorédan': 1, 'Jacques Bourderon': 1, 'Jacques Hoven': 1, 'Jean-Claude Barry': 5, 'Richard Connell': 1, 'Michael Larsen': 1, 'Paul Masson (écrivain)': 2, 'Élisabeth Carter': 2, 'Agop J. Hacikyan': 1, 'Éric Plamondon': 2, 'Christian Beaudin': 2, 'Jean-François Coulomb': 3, 'Lucien Marchal (écrivain)': 2, 'David Wagoner': 1, 'Michel Chevron': 2, 'Louise Glück': 1, 'George Barrington': 1, 'Christian Mantey': 2, 'Bernard-G. Landry': 1, 'Vincent Cornier': 3, 'Pierre Courcel': 3, 'Khaled Al Khamissi': 1, 'André Lay': 1, 'Jean-Philippe Depotte': 1, 'Jacques Cauda': 6, 'Paulina Dachkova': 1, 'Robert Daley': 2, 'Robert Dansler': 2, 'Christophe Nicolas (auteur)': 1, 'Claude Carlier (historien)': 2, 'François Ganneron': 3, 'Elaine Proctor': 1, 'Sarah Dunant': 1, 'Erin Morgenstern': 1, 'Frank Tarloff': 1, 'Charles Valois': 1, 'Susan Cain': 1, 'Elizabeth Fenwick': 2, 'Marion Schreiber': 1, 'David Marusek': 1, 'Sylvie Baron': 1, 'W.D. Wetherell': 1, 'Jean-Yves Soucy': 2, 'Stéphanie Bodet': 2, 'Louis Meunier': 2, 'Christine Lavant': 1, 'Laurence Gough': 2, 'Pierre Karch': 1, 'Clémentine Mélois': 1, 'Michael Harrison': 2, 'Sparkle Hayter': 1, 'Jacques Herment': 1, 'Gérard Néry': 1, 'Patrick Facon': 2, 'Ionuț Caragea': 1, 'Henry Jacques (réalisateur)': 1, 'Christopher Hudson': 1, 'Charles Veron': 3, 'Maggie Stiefvater': 1, 'Rosto': 1, 'Iris Johansen': 1, 'Marcel Moré': 3, 'Daniel Grenier (écrivain)': 2, 'Geneviève Pettersen': 1, 'Bernard Marck': 2, 'Jacques Kober': 2, 'Georges Castera': 2, 'François Lebouteux': 1, 'Vickie Gendreau': 1, 'Charles Bowden': 1, 'Jean Marsus': 2, 'Juan Martini': 1, 'Robert Boudry': 1, 'Sandy Williams': 1, 'Martin Meroy': 1, 'Karim Akouche': 1, 'Jean-Louis Riguet': 4, 'Nicolas Chalifour': 1, 'Gilbert Michel': 1, 'Patrick Roy (écrivain)': 3, 'Pierre Véron (journaliste)': 4, 'Michael Rosen (écrivain)': 2, 'Daniel Boucard': 3, 'Michel Bouchard': 2, 'François Hauter': 9, 'Julia Alvarez': 1, 'Maxime Coton': 1, 'Alex Gray (écrivain)': 1, 'Robert Yergeau': 1, 'Louis Asseline': 1, 'Charles Forot': 2, 'David Morgon': 1, 'Michael Köhlmeier': 1, 'Melanie Joy': 2, 'Wayne Dyer': 1, 'Pierre Nemours': 2, 'Patrice Louis': 1, 'Arthur Mee': 1, 'Carl Bessette': 2, 'Charles Pain': 1, 'Jean-Yves Paumier': 2, 'Michael Palmer (écrivain)': 1, 'George Gregory': 1, 'Barbara Parker': 1, 'Isabelle Monnin': 3, 'Julie Parsons': 1, 'Joseph Périgot': 1, 'Georges Rency': 1, 'Alain Duret': 1, 'Jean-Pierre Dickès': 2, 'N. Richard Nash': 1, 'Stephen Wyatt': 1, 'Yang Shen': 1, 'Agnès Boucher': 1, 'Peter Lerangis': 1, 'Jean-François Dion': 9, 'Lee Howard': 1, 'Jeanne Marais': 2, 'Christopher Reich': 1, 'William J. Reynolds': 1, 'Nancy Taylor Rosenberg': 1, 'Greg Iles': 1, 'Jean Guenot': 1, 'Mathias Bernardi': 1, 'Dominique Daguet': 1, 'Claude Leroy (écrivain)': 1, 'Jacques Vettier': 4, 'Andrew Cartmel': 1, 'Gabriel Nadeau': 2, 'Michael Zuroy': 1, 'Louis Camara (écrivain)': 1, 'Charles Ewald': 1, 'Charles Lever': 2, 'Daniel Lauret': 1, 'Louis Trimble': 1, 'Ying Chang': 2, 'Robert Walpole (érudit)': 1, 'James N. Frey': 1, 'William Johnston (écrivain)': 1, 'Christian Garrison': 1, 'Gérard Carré': 1, 'Antonio Prata': 1, 'Guillaume Coppier': 3, 'Jean-Louis Crimon': 1, 'Anne-Marie Derèse': 2, 'Peter Heller': 1, 'Claire Lejeune': 1, 'Martin Arz': 1, 'Charles Plowden': 1, 'Dominique Martel': 6, 'Jean Arroy': 1, 'Martin Edwards': 1, 'Dominique Robert (poète)': 3, 'Corinne Royer': 1, 'Siron': 1, 'Véronique Sels': 1, 'Sue Henry': 1, 'Amarna Miller': 1, 'Martin Charbonneau': 3, 'Marie-Christine Kessler': 2, 'G. M. Malliet': 1, 'Gilles Boyer': 1, 'Jacques Moulin (écrivain)': 4, 'Dorothy Cannell': 1, 'Alain Prévost': 1, 'Michel Meurger': 2, 'Gillian Roberts': 1, 'Nicholas Monsarrat': 1, 'Jean Cheron': 1, 'Marcel Pineau': 3, 'John Grant (scénariste)': 1, 'John Sack': 2, 'Katherine Boo': 1, 'Pierre Simenon': 2, 'Robin Burcell': 1, 'Dana Cameron': 1, 'John Bell (historien)': 3, 'Richard Rosen': 1, 'Pierre Wemmers': 1, 'Robert Gilbert (musicien)': 1, 'Jean-Claude Pinson': 4, 'Roxane Desjardins': 3, 'Richard Rayner': 3, 'Jean-François Paillard (auteur)': 5, 'Daniel de Saint-Pierre': 2, 'Jean Matter': 1, 'André Michel (compositeur)': 1, 'Emmanuel Desrosiers': 1, 'Suzanne de Garros': 1, 'Bill Gunston': 1, 'Kathleen Winter': 1, 'Rosemary Aubert': 1, 'Rick Mofina': 1, 'Flemming Jensen': 1, 'Tilmann Rammstedt': 1, 'André Touret': 1, 'Jacques Baurein': 4, 'Jean Magnon': 1, 'Richard Brody': 1, 'Daniel Depp': 1, 'Richard Reeves (auteur)': 1, 'Michel Gautier': 6, 'Patrick Kessel': 1, 'Christophe Mauri': 1, 'Pierre-Luc Landry': 1, 'Pierre Drachline': 1, 'David Ely': 2, 'Jean-François Migaud': 3, 'Richard Sipe': 1, 'Fabienne Kanor': 2, 'Guillaume Livet': 1, 'Anne Guglielmetti': 1, 'Neil Bartlett (écrivain)': 1, 'Alain Gérard (écrivain 1950-2016)': 2, 'Michel Fustier': 1, 'Vincent Bernière': 1, 'John Hutton (écrivain)': 1, 'François Vidal (félibre)': 1, 'Mike Phillips (écrivain)': 1, 'Barbara Nadel': 1, 'Louis Piéchaud': 1, 'Tod Robbins': 1, 'Danièle Henkel': 1, 'Philippe Malone': 4, 'Charles Cabot': 1, 'Yann Fortier': 1, 'Jessica Mann': 1, 'Marie-Claire Matip': 1, 'Geoffrey Archer': 1, 'Maxime Caron': 1, 'Jacques Prévot': 1, 'Annie Laurent': 2, 'Monique Hervo': 2, 'Jean-Claude Lumet': 10, 'Martin R. Dean': 1, 'Christian Milne': 2, 'Barbara Taylor Bradford': 2, 'Daniel Rojo': 1, 'Stephen L. Carter': 2, 'Pierre Latrobe': 3, 'Michelle Gagnon': 3, 'David Bollier': 2, 'Julie Hétu': 2, 'Jacques Duron': 8, 'Georges Lauris': 3, 'David Goudreault': 1, 'Paul Saunière': 1, 'Michael Dobbs': 1, 'Michel Servin': 2, 'Natasha Kanapé Fontaine': 1, 'Michel Granger (auteur)': 2, 'Olivier Norek': 1, 'Robert J. Lang': 1, 'Bernard David (prêtre)': 2, 'Alexandre de Ferrière': 1, 'Louis Labarre': 2, 'Émilie Devienne': 1, 'Marianne Chaillan': 1, 'Alexandra Pecker': 1, 'Elizabeth Benger': 1, 'Pierre Scherrer': 1, 'Benoît Minville': 1, 'Luan Starova': 1, 'Gabriele Sima': 1, 'Louis Bergeron': 3, 'Frédéric Badré': 3, 'Jean Leduc (écrivain)': 1, 'Marianne Apostolides': 1, 'Barbara Owens': 1, 'Nicolas Martin (écrivain)': 2, 'Georges Lory': 1, 'Christopher Zara': 1, 'Pierre de Rozières': 1, 'Fabienne Radi': 1, 'Patrick Ness': 1, 'Jean-Pierre Le Goff (écrivain)': 2, 'Neil Smith (auteur)': 1, 'Charles Rozan': 2, 'Daniel Depland': 3, 'Michael Pollan': 5, 'François Baranger': 2, 'Christian Servina': 1, 'Bruce Holbert': 1, 'François Sarda': 7, 'Maurice Couturier': 1, 'Marie Potvin': 2, 'Emmanuel Joyau': 2, 'Thierry Suzan': 1, 'Pierre Pascal (iraniste)': 1, 'Michael Cronin (écrivain)': 1, 'Jax Miller': 1, 'Philippe Mottu': 1, 'Marcel Caruel': 1, 'Lu Märten': 1, 'Jean-Pierre Guillet': 5, 'Frédéric Weil': 3, 'Jean-Yves Bras': 1, 'Catherine Rey': 4, 'Pierre Jourda (doyen)': 1, 'Jacques Bugier': 2, 'Blake Crouch': 1, 'Roy Fuller': 1, 'Mary Roberts (femme de lettres)': 3, 'Laurence Picq': 1, 'Johannes Aavik': 1, 'Margaret Wise Brown': 1, 'Pauline Michel': 3, 'Claude Châtelain': 1, 'François Roux (écrivain)': 5, 'Guillaume Chérel': 1, 'Mario Pelletier': 4, 'François Vidron': 2, 'Michael Berenbaum': 1, 'Paul Coban': 2, 'Jean-Marie Paupert': 1, 'Mario Bois': 1, 'Jonathan Weiner': 1, 'Andy Duncan': 1, 'Nicolas Idier': 2, 'Philippe Delamain': 2, 'Paul Baudry (1825-1909)': 1, 'Richard Lévesque': 1, 'Katica Kulavkova': 1, 'Guillaume Corbeil': 1, 'Jean-Claude Touzeil': 1, 'Raymond Penblanc': 1, 'Nicolas Baudy': 1, 'Carl Rocheleau': 1, 'Robert Flinker': 1, 'Nancy Vickers': 1, 'Francesco Negri (explorateur)': 1, 'Jean-Yves Blot': 1, 'Éric Sadin': 1, 'Gabriel Anctil': 2, 'Geneviève Blouin': 5, 'Dominique Rocher': 4, 'Gabriel Trujillo Muñoz': 1, 'Thilo Thielke': 1, 'Henry Porter': 1, 'Jules Arboux': 1, 'Antoine Brea': 1, 'Jean-Michel Damian': 3, 'Jacques Morin': 7, 'Antoine Jofre': 1, 'Pascale Ferroul': 1, 'Stéphane Batigne': 1, 'Marie-Noëlle Sehr': 1, 'Alexandre Torquet': 1, 'Robert Munsch': 1, 'Waciny Laredj': 1, 'Nicolas Richard (écrivain)': 2, 'Michel Dufour (kinésithérapeute)': 5, 'Michèle Gavazzi': 1, 'Barbara Sadoul': 1, 'Daniel Piret': 1, 'Julia Roy': 1, 'Pierre Buigues': 1, 'Gérard Poteau': 1, 'John MacGregor (explorateur)': 1, 'Dominique Paravel': 4, 'Andrée Lacelle': 2, 'Fabien Cloutier': 2, 'Laetitia Kermel': 1, 'Sarah-Maude Beauchesne': 1, 'Lauren Oliver': 1, 'Nicolas Walter': 2, 'Raymond Farina': 2, 'Nicolas Saudray': 1, 'Raphaëlle Giordano': 1, 'Michel Koch (philosophe)': 1, 'Emmanuelle Jay': 2, 'Véronique Lévy': 1, 'Jacques Mordal': 2, 'Jacques Lafaye': 2, 'Olivier Maurel (écrivain)': 4, 'Mustapha Jmahri': 1, 'Jean-Christophe Tixier': 3, 'Sébastien Lepetit': 1, 'Thom Bray': 1, 'Sylvain Rivière': 3, 'Claude K. Dubois': 1, 'Pierre Gariépy': 1, 'Mathieu Leroux': 1, 'Pierre Marlson': 1, 'Jamal Mahjoub': 1, 'Christopher Bollen': 1, 'Sophie Tasma': 1, 'Nicolas Gauthier': 2, 'Jean-Pierre Armand (metteur en scène)': 5, 'Martine Perrin': 1, 'Claude Clément (jésuite)': 1, 'Hélène Gaudy': 1, 'John Wray (écrivain)': 1, 'Guillaume Jacquemyns': 1, 'Caroline Vu': 1, 'Yves Taschereau': 1, 'Christian Buder': 2, 'Alexandre Dolinine': 1, 'Antoine Bayle': 1, 'Lori Saint-Martin': 1, 'Daniel Bourdon': 3, 'Suzanne de Nervèze': 1, 'Nicolas Brizard': 1, 'André Madeline': 1, 'Marilou Addison': 1, 'Julien Decoin': 1, 'Simon Rich': 1, 'Catherine Poulain': 2, 'Marguerite Olagnier': 1, 'André Duval (1564-1638)': 1, 'Jack Black (écrivain)': 2, 'Jonathan Roberge': 1, 'Jean-Sébastien Guillermou': 1, 'Charles Baxter': 1, 'Ryad Assani-Razaki': 1, 'Allen Tate': 1, 'Caroline Gordon': 2, 'Gilbert Foliot': 1, 'Chloé Savoie-Bernard': 1, 'Jacques Zeiller': 1, 'Marvel Moreno': 2, 'Robert Brown (explorateur)': 1, 'Jean-François Bimont': 7, 'Richard Weiner': 2, 'Michel Aubouin': 3, 'Laurent Lasne': 2, 'Robert Dugoni': 2, 'Robert Karjel': 1, 'Françoise Leclerc': 2, 'Dan Waddell': 1, 'Jay Asher': 1, 'Simon Toyne': 1, 'Stéphane Larue (écrivain)': 5, 'Daniel Leblanc-Poirier': 2, 'Rob Roberge': 1, 'Roger Landy': 1, 'Daniel Boukman': 1, 'Alain Jugnon': 1, 'Olivier Romac': 1, 'Jean-François Thomas': 1, 'Ariane Gélinas': 2, 'Pierre Raymond': 1, 'Robert F. Dorr': 1, 'Denis Emorine': 1, 'Régis Roy': 1, 'Michel Dallaire (écrivain)': 3, 'Jean Hegland': 1, 'Charles Nokan': 1, 'Daniel Loxton': 3, 'Alexandre Amprimoz': 1, 'Maurice Beaulieu': 1, 'Benoit Gignac': 1, 'C. L. Taylor': 1, 'François Migeat': 1, 'Marc Légasse': 1, 'Dominique Tellier': 6, 'Frédéric Blayo': 1, 'Dominique Dupuis (écrivain)': 2, 'Maude Veilleux': 2, 'Catherine Booth': 2, 'Julie Mazzieri': 1, 'Marc-André Selosse': 1, 'Joris Chamblain': 1, 'Michael Kardos': 1, 'Robert McGill': 1, 'Richard Olney (écrivain)': 1, 'Pierre Bellot': 4, 'Charles Burton (universitaire)': 2, 'Jean-Claude Baillon': 3, 'Pierre Joris': 2, 'Claude Fournet': 2, 'Claude Favre': 1, 'Charles Bernard (historiographe)': 1, 'Janet Lewis': 1, 'Olivier Gadet': 2, 'Jean Tarin': 3, 'François Armanet': 1, 'François Baert': 7, 'Didier Lazard': 1, 'Francis Yaiche': 1, 'Jean-Marc Caré': 5, 'Eduard Bertz': 1, 'Vladimir Piast': 1, 'Charles Gancel': 2, 'Jean-Jacques Gabut': 1, 'Patrick Barbier': 3, 'Marcel Joannon': 1, 'Wenceslas-Eugène Dick': 2, 'Joël Baqué': 1, 'Réal Ouellet': 2, 'Jean-Marie Poupart': 1, 'Guillaume Poix': 1, 'Martin Frigon': 2, 'Michael Theurillat': 1, 'Michel Demion': 4, 'Pierre Monette': 3, 'Catherine Claude': 1, 'Olivier Bernard (pharmacien)': 1, 'Jean-Claude Racinet': 2, 'Clare Sheridan': 1, 'Claude Fayet': 1, 'Charles Ball': 1, 'Francis Nautet': 1, 'Jean Collette': 1, 'Christian Bök': 6, 'Élisabeth Ebory': 1, 'Derek Beaulieu': 2, 'André Bernold': 2, 'Baptiste Beaulieu': 1, 'Mustapha Fersi': 1, 'Patrick Laude': 3, 'Jacques Bonnet (critique littéraire)': 2, 'Earl Thompson': 1, 'Patrick Loranger': 2, 'Caroline Chevalier': 1, 'Georges Habra': 2, 'Patrick Avrane': 1, 'Ernest Gagnon (écrivain)': 1, 'Alex Epstein': 1, 'Charles Madge': 1, 'François Gault': 6, 'Élisabeth Brami': 1, 'Myriam Montoya': 1, 'François-Michel Franzen': 1, 'Georges Laure': 4, 'Robert Wallace': 2, 'Jean Dello': 1, 'Jean Croiset': 1, 'Flore Hazoumé': 1, 'Simon Dary': 1, 'Stéphanie Nicot': 1, 'Béatrice Bottet': 1, 'Alexandre Delon': 2, 'Madeleine Gilard': 2, 'Jacques Goldstyn': 1, 'Christian Guay-Poliquin': 1, 'Marc Zender': 1, 'Marie Leblanc': 10, 'Ian Graham': 2, 'Christopher Evans': 1, 'Patrice Jean': 1, 'Simon Roy': 1, 'David Kyle': 1, 'Sébastien David': 3, 'Fanny Britt': 1, 'Biz (rappeur)': 1, 'Pete Johnson (écrivain)': 1, 'Charles North': 1, 'Marjolaine Bouchard': 2, 'Jean-Philippe Baril Guérard': 2, 'Alain Vadeboncoeur': 1, 'Sarah Berthiaume': 1, 'Christopher Ryan': 1, 'Emmanuelle Lambert': 2, 'Arthur Sze': 1, 'Francesco Verso': 1, 'William Weintraub': 1, 'Adam Biro': 1, 'André Bertera': 4, 'Serge Gauthier': 2, 'Thomas Scotto': 1, 'Pierre Coré': 2, 'Catherine Lalonde': 4, 'Pierre Debresse': 1, 'Khadidja Saâd': 1, 'Pierre Blanchard': 1, 'David C. Taylor': 1, 'Michael Finkel': 1, 'Jim Tully': 1, 'Claude Jaeglé': 1, 'René Philippe': 1, 'Jean-Claude Montel': 6, 'Ben Richards': 1, 'Julia Keller': 1, 'Shahnon Ahmad': 1, 'Michael Arlen': 2, 'Danielle Girard': 3, 'Eric Wright (écrivain)': 1, 'Maurice Allem': 1, 'Daniel Cario': 1, 'Will Alexander': 1, 'Sylvain Forge': 2, 'Catherine Lord': 5, 'Claude Ragon': 1, 'Georges Lubin': 1, 'Guy Langlois': 1, 'Danielle Boissé': 1, 'André Arnaud (écrivain)': 1, 'André Delabarre': 1, 'Tony Burgess': 1, 'Michel Gastine': 1, 'Jean-Louis Viot': 2, 'Emmanuelle Richard': 1, 'Michel de Roy': 1, 'Roger Labrusse': 1, 'Maxime Raymond Bock': 1, 'John Mill': 1, 'Georgette LeBlanc': 1, 'Wendy James': 1, 'Michel Pleau': 1, 'François Vernes': 3, 'John Dale': 1, 'George Elliott Clarke': 1, 'George Bowering': 1, 'John Steffler': 1, 'Paul Thomas (écrivain)': 2, 'Philippe-Aubert Côté': 1, 'Gabrielle Lord': 1, 'Emmanuelle Caron': 3, 'George Tomkyns Chesney': 1, 'Kevin Lambert': 2, 'Emmanuelle Favier': 1, 'Carolyn Haines': 1, 'François Beaune': 4, 'Eva Dolan': 1, 'Jean-François Robinet': 10, 'Marianne Durano': 1, 'Patrick Harpur': 1, 'Robert Aickman': 1, 'Marthe Saint-Laurent': 2, 'Bernard Larhant': 1, 'Bernard Ollier': 2, 'Dominique Le Brun': 1, 'Elisabeth Castonier': 1, 'Caroline Moreno': 1, 'Michèle Plomer': 2, 'Naomi Fontaine': 1, 'Leonard Rosen': 2, 'Marie-Aldine Girard': 1, 'Patrice Debré': 2, 'Frederic Farrar': 1, 'Robert Cowie': 1, 'Joseph Kürschner': 1, 'Louise Ure': 3, 'Marcel Lajeunesse': 1, 'Pierre Gallet (1765-1836)': 2, 'André Bucher (écrivain)': 3, 'Fernand Basty': 1, 'Andrew Porter (écrivain)': 2, 'Marc-André Poissant': 3, 'Alejandro Casarin': 1, 'Christiane Éluère': 2, 'Robert (Steed) Dunn': 2, 'Caroline Solé': 5, 'Heloneida Studart': 1, 'Placide Vigneau': 1, 'Barbara Kesel': 1, 'Robert Graham (historien)': 1, 'Lia Timmermans': 1, 'Jason Fry': 1, 'David McFadden': 1, 'Maurice Caudel': 2, 'Patrick Deval': 3, 'Jean Thenaud (écrivain)': 1, 'Paul J. Levine': 1, 'Francesco Negri (théologien)': 1, 'Jacques Géraud': 4, 'Bernard Fonlon': 1, 'William Clapier': 1, 'Jean-Pierre Chopin': 5, 'Maria Ernestam': 1, 'Vincent Lowy': 1, 'Gautier Langevin': 1, 'Vladimir Stavski': 1, 'François Rioux': 1, 'Jean-Philippe Schmit': 1, 'Susan Moody': 1, 'Jonathan Gash': 2, 'Catherine Aird': 4, 'Sylvain Neuvel': 2, 'Tim Heald': 1, 'Frédéric Bouix': 3, 'Pierre Gaulon': 7, 'Jacqueline Saveria': 1, 'Jean-Claude Clari': 5, 'Emmanuel Martin': 2, 'Caroline Amblard': 2, 'Françoise Ega': 3, 'Don Lemon': 1, 'Georges Maurens': 1, 'Pierre Rouanne': 1, 'André Orain': 1, 'Gerard Jones (écrivain)': 1, 'Pierre de Besse': 1, 'Philippe Baqué': 5, 'Étienne Molinier': 1, 'Mario Cardinali': 2, 'Jacques Biroat': 2, 'Olivier Challet': 1, 'John Home': 1, 'Valérie Manteau': 3, 'Pierre Hubac': 1, 'Virginie Francoeur': 1, 'Michel Hachet': 2, 'Madeleine Deslandes': 1, 'Marguerite Aron': 2, 'Emmanuel Ostian': 1, \"Jean-Pierre Kerloc'h\": 3, 'Antonio Giarola': 1, 'Jean Bagot': 1, 'Janice Raymond': 2, 'Marion Brunet': 1, 'Jean-Pierre Devillers': 2, 'Catherine Drew': 2, 'Daniel Hébrard': 3, 'Jean Cavé': 3, 'Maurice Cadet': 3, 'Alexandra Rossi': 1, 'Elizabeth Somers': 1, 'Alexandre Duyck': 1, 'Nicolas Garcin': 2, 'Alexandra Dezzi': 1, 'Michel Gheude': 1, 'William S. Messier': 2, 'Philippe Lemaire (écrivain)': 1, 'John J. Miller': 1, 'Frédéric Saenen': 2, 'Hank Green': 1, 'Nicolas Lebel (écrivain)': 3, 'Mirjam Mous': 1, 'Jean-Paul Léon': 4, 'Cédric Ferrand': 1, 'Jonathan Bate': 5, 'Mathieu Lacroix (écrivain)': 2, 'François de Cornière': 1, 'André Nadal': 2, 'Lynn Diamond': 2, 'Jean Masset': 2, 'Jean Coin': 3, 'Patrick Froehlich': 1, 'John Freeman (poète)': 1, 'Jules Croiset': 1, 'Richard Guidry': 1, 'Philippe Lamon': 3, 'Aleilton Fonseca': 1, 'Charles-Auguste Grivot': 1, 'Michel Hennin': 1, 'Stephanie Zvan': 1, 'Patrick Mahéo': 1, 'Stéphane Krebs': 1, 'Paul Merault': 1, 'Paula Dumont': 1, 'Robert Mayer (écrivain)': 2, 'François Lange': 4, 'Philippe Joudiou': 1, 'Emmanuel Dazin': 2, 'Henri Zerner': 2, 'Alain Gérard (historien)': 2, 'Jean-Yves Clément': 1, 'Jacques Nayral': 3, 'Olivier Liron': 1, 'Alexandre Ducros': 2, 'Patrice Cartier': 1, 'Tade Thompson': 1, 'Jean-Euphèle Milcé': 1, 'Margarita Carrera': 1, \"Jean d'Aubry\": 1, 'Danielle S. Marcotte': 1, 'Pierre Campion': 1, 'Peter Horton (chanteur)': 1, 'David Olivier': 2, 'Michael Basse': 2, 'Frédéric Faber': 1, \"André Michel (historien de l'art)\": 1, 'Ella Young': 1, 'Camille Gagnon': 3, 'Anne Barnard': 1, 'Olavo de Carvalho': 1, 'Michel Pierre (herboriste)': 3, 'Philippe Séguy': 3, 'Marguerite Comert': 2, 'Alexandre Dupont': 2, 'Camille Latreille': 1, 'Louis Harmand': 2, 'Kochka': 1, 'Jean Gaudon': 4, 'Jean-Michel Frank (poète)': 1, 'Maurice Audebert': 2, 'André Paccard': 1, 'Howard McCord': 1, 'Thomas Gordon (écrivain)': 1, 'Wayson Choy': 1, 'Elizabeth Bruenig': 1, 'Louis Lormel': 1, 'Jan J. Dominique': 2, 'Jean Bouthillette': 2, 'Jean-Marc Chaput': 2, 'Gabriel Robichaud': 1, 'Antoine Charbonneau-Demers': 1, 'Jean Rousseau (écrivain belge)': 1, 'Virginie Barbet': 1, 'Pierre Spagnou': 1, 'Mathieu Marais': 2, 'Gabrielle Réval': 2, 'Frédérick Lavoie': 1, 'Claude Jordan': 3, 'Patrick Lafontaine': 3, 'Christine Avel': 2, 'Joy Hester': 1, 'John Reed (mécène)': 2, 'Bernard Bertrand': 1, 'Jacques Lemaire (dramaturge)': 2, 'Annie Coz': 1, 'Annie-Claude Thériault': 1, 'Michel Lafon (auteur)': 1, 'Philippe Godet': 1, 'Albert Laborde': 1, 'Michel David (psychanalyste et auteur)': 2, 'Françoise Brauner': 3, 'Marie-Andrée Beaudet': 1, 'Sébastien Bérubé': 1, 'David Pawson': 1, 'T. A. Barron': 1, 'Paul-André Lesort': 1, 'Thomas Kinne': 1, 'François Chaignaud': 1, 'Ghislaine Herbéra': 1, 'Pierre Hamel': 4, 'Michael Greger': 2, 'Louis Moutier': 3, 'Philippe Aubert (pasteur)': 2, 'Marie Biard': 1, 'Thomas Gaudin': 2, 'Valérie Cachard': 1, 'Alain Médam': 1, 'Sophie Bernier': 5, 'Nicolas Rozier': 4, 'Jacques Godron': 6, 'Pierre Harispe': 1, 'Guillaume Favre': 3, 'François Soulès': 3, 'Coline Pierré': 2, 'Terry Atkinson': 1, 'Martin Marteau': 1, 'Annie Rolland': 1, 'Pierre Mornand': 2, \"Louise d'Alq\": 1, 'Paul Grégoire (dessinateur)': 1, 'Jean-Philippe Thiellay': 1, 'Nicole Giroud': 1, 'Amélie Chevalier': 1, 'Jacques Rancourt': 1, 'Claire Ly': 3, 'Richard Bartle': 1, 'Sébastien Spitzer': 1, 'Charles Compan': 1, 'Mathieu Orsini': 1, 'Ann Taylor (écrivaine)': 1, 'Claude Huan': 2, 'Isabelle Garron': 5, 'Frédéric Bérard (chroniqueur)': 1, 'Michel Arseneault': 1, 'Stéphane Velut': 2, 'Robert Ferrigno': 1, 'Jean-Pierre George': 5, 'Alissa York': 1, 'Pierre Buffault': 2, 'Bernard Lorimy': 1, 'Désirée Szucsany': 1, 'Judith Cutler': 1, 'Robert Hénard': 2, 'Elizabeth Tudor': 1, 'Christopher Hail': 1, 'Philippe Rodet': 1, 'François Blais (écrivain)': 1, 'Marie-Françoise Balard': 1, 'Philippe Albert (poète)': 2, 'Roger Giroux': 1, 'Ghislaine Lejard': 1, 'Elaine Morgan (écrivain)': 2, 'Judith Guest': 1, 'Peter Guttridge': 1, 'Thomas Mullen': 1, 'Jean-Marie Beuzelin': 1, 'Laurence Rosier': 1, 'Jean-Christophe Réhel': 4}\n",
      "repartition dans les bases de données: \n",
      "1/8:  {\"Depot_legal\": 12731, \"ADP\": 4530, \"ILE\": 17054, \"Babelio\": 944}\n",
      "1/6:  {\"ADP\": 793, \"ILE\": 1890, \"Depot_legal\": 2049, \"Babelio\": 140}\n",
      "1/4:  {\"Depot_legal\": 16236, \"Babelio\": 1311, \"ILE\": 12731, \"ADP\": 7333}\n"
     ]
    }
   ],
   "source": [
    "couple_writers_4 = []\n",
    "couple_writers_6 = []\n",
    "couple_writers_8 = []\n",
    "\n",
    "data_base_stats_4 = {}\n",
    "data_base_stats_6 = {}\n",
    "data_base_stats_8 = {}\n",
    "\n",
    "found_at_least_once = 0\n",
    "nb_couple = 0\n",
    "\n",
    "count_freq = {}\n",
    "\n",
    "with open('./Wikipedia/fr_dumps_wikipedia_writers.json', 'r') as input_file:\n",
    "    wiki_authors = json.load(input_file)\n",
    "\n",
    "with open('authors_ls.json', 'r') as input_file:\n",
    "    author_ls = json.load(input_file, cls=BookJSONDecoder)\n",
    "\n",
    "for wiki_author, wiki_author_text in tqdm(wiki_authors.items()):\n",
    "    found = False\n",
    "    count_freq_i = 0\n",
    "    normalized_wiki_author = normalize_author(wiki_author)\n",
    "    for DB_author, DB_author_books in author_ls.items():\n",
    "        dist_auteur = Levenshtein.distance(DB_author, normalized_wiki_author)\n",
    "\n",
    "        if dist_auteur < max(1, min(len(DB_author), len(normalized_wiki_author)) / 4):\n",
    "            new_couple = {\n",
    "                        'author_DB': {'name': DB_author, 'books': DB_author_books},\n",
    "                        'author_wiki': {'name': normalized_wiki_author, 'name_raw': wiki_author, 'text':wiki_author_text}\n",
    "                    }\n",
    "\n",
    "            nb_couple += 1\n",
    "            count_freq_i += 1\n",
    "            found = True\n",
    "\n",
    "            if dist_auteur < max(1, min(len(DB_author), len(normalized_wiki_author)) / 8):\n",
    "                    couple_writers_8.append(new_couple)\n",
    "                    for book in DB_author_books:\n",
    "                        try:\n",
    "                            data_base_stats_8[book.data_base] += 1\n",
    "                        except:\n",
    "                            data_base_stats_8[book.data_base] = 1\n",
    "            elif dist_auteur < max(1, min(len(DB_author), len(normalized_wiki_author)) / 6):\n",
    "                couple_writers_6.append(new_couple)\n",
    "                for book in DB_author_books:\n",
    "                    try:\n",
    "                        data_base_stats_6[book.data_base] += 1\n",
    "                    except:\n",
    "                        data_base_stats_6[book.data_base] = 1\n",
    "            else:\n",
    "                couple_writers_4.append(new_couple)\n",
    "                for book in DB_author_books:\n",
    "                    try:\n",
    "                        data_base_stats_4[book.data_base] += 1\n",
    "                    except:\n",
    "                        data_base_stats_4[book.data_base] = 1\n",
    "    if found:\n",
    "        found_at_least_once += 1\n",
    "        count_freq[wiki_author] = count_freq_i\n",
    "    # if count_freq_i > 10:\n",
    "    #     print(\"compte superieur a 10: \", author_DB)\n",
    "\n",
    "print(\"nombre d'autheurs en commun: \", found_at_least_once, \" soit \", found_at_least_once * 100 / len(wiki_authors), \"%\")\n",
    "print(\"nombre d'autheurs reconnus: \", nb_couple, \" soit \", nb_couple/found_at_least_once, ' auteur dans nos bases de donnée par auteur reconnu dans wikipedia')\n",
    "print(\"Frequence de reconnaissance: \", count_freq)\n",
    "\n",
    "print(\"repartition dans les bases de données: \")\n",
    "print('1/8: ', json.dumps(data_base_stats_8))\n",
    "print('1/6: ', json.dumps(data_base_stats_6))\n",
    "print('1/4: ', json.dumps(data_base_stats_4))\n",
    "\n",
    "with open('Wikipedia/couple_authors_wikipedia_4.json', 'w') as outfile:\n",
    "    json.dump(couple_writers_4, outfile, cls=BookJSONEncoder)\n",
    "\n",
    "with open('Wikipedia/couple_authors_wikipedia_6.json', 'w') as outfile:\n",
    "    json.dump(couple_writers_6, outfile, cls=BookJSONEncoder)\n",
    "\n",
    "with open('Wikipedia/couple_authors_wikipedia_8.json', 'w') as outfile:\n",
    "    json.dump(couple_writers_8, outfile, cls=BookJSONEncoder)"
   ],
   "metadata": {
    "collapsed": false,
    "pycharm": {
     "name": "#%%\n"
    }
   }
  },
  {
   "cell_type": "code",
   "execution_count": 6,
   "outputs": [
    {
     "name": "stderr",
     "output_type": "stream",
     "text": [
      "100%|██████████| 2412/2412 [00:12<00:00, 188.16it/s]\n"
     ]
    },
    {
     "name": "stdout",
     "output_type": "stream",
     "text": [
      "titre des sections:  [\n",
      "  [\n",
      "    null,\n",
      "    2412\n",
      "  ],\n",
      "  [\n",
      "    \" Liens externes \",\n",
      "    1977\n",
      "  ],\n",
      "  [\n",
      "    \" Biographie \",\n",
      "    1720\n",
      "  ],\n",
      "  [\n",
      "    \" Notes et r\\u00e9f\\u00e9rences \",\n",
      "    1423\n",
      "  ],\n",
      "  [\n",
      "    \" \\u0152uvres \",\n",
      "    810\n",
      "  ],\n",
      "  [\n",
      "    \" Bibliographie \",\n",
      "    706\n",
      "  ],\n",
      "  [\n",
      "    \" Romans \",\n",
      "    521\n",
      "  ],\n",
      "  [\n",
      "    \" \\u0152uvre \",\n",
      "    458\n",
      "  ],\n",
      "  [\n",
      "    \" Voir aussi \",\n",
      "    417\n",
      "  ],\n",
      "  [\n",
      "    \" R\\u00e9f\\u00e9rences \",\n",
      "    409\n",
      "  ],\n",
      "  [\n",
      "    \" Honneurs \",\n",
      "    298\n",
      "  ],\n",
      "  [\n",
      "    \" Articles connexes \",\n",
      "    291\n",
      "  ],\n",
      "  [\n",
      "    \" Publications \",\n",
      "    223\n",
      "  ],\n",
      "  [\n",
      "    \" Th\\u00e9\\u00e2tre \",\n",
      "    211\n",
      "  ],\n",
      "  [\n",
      "    \" Annexes \",\n",
      "    208\n",
      "  ],\n",
      "  [\n",
      "    \" Po\\u00e9sie \",\n",
      "    189\n",
      "  ],\n",
      "  [\n",
      "    \" Nouvelles \",\n",
      "    179\n",
      "  ],\n",
      "  [\n",
      "    \" Prix et distinctions \",\n",
      "    176\n",
      "  ],\n",
      "  [\n",
      "    \" Filmographie \",\n",
      "    165\n",
      "  ],\n",
      "  [\n",
      "    \" Essais \",\n",
      "    152\n",
      "  ],\n",
      "  [\n",
      "    \" Sources \",\n",
      "    147\n",
      "  ],\n",
      "  [\n",
      "    \" Distinctions \",\n",
      "    141\n",
      "  ],\n",
      "  [\n",
      "    \" Notes \",\n",
      "    124\n",
      "  ],\n",
      "  [\n",
      "    \"Biographie\",\n",
      "    116\n",
      "  ],\n",
      "  [\n",
      "    \" Recueils de nouvelles \",\n",
      "    106\n",
      "  ]\n",
      "]\n"
     ]
    }
   ],
   "source": [
    "def format_list(page):\n",
    "    \"\"\"\n",
    "    Prend une page wikipédia et supprime les indications de colonnes pour permettre au parseur de trouver les listes\n",
    "    :param str page: page wikipédia\n",
    "    :return: même page sans {{colonnes|taille=|nombre=2| ... }} tout en conservant le contenu\n",
    "    \"\"\"\n",
    "    page = re.sub(r'\\*\\*', '*', page)\n",
    "    page_serach_re = re.search(r'\\{\\{colonnes\\|.*?\\|\\n', page, re.DOTALL)\n",
    "    while page_serach_re:\n",
    "        nb_bracket = 0\n",
    "        start_index = page_serach_re.span()[0]\n",
    "        for index, caractere in enumerate(page[start_index:]):\n",
    "            if caractere == '{':\n",
    "                nb_bracket += 1\n",
    "            elif caractere == '}':\n",
    "                nb_bracket -= 1\n",
    "            if nb_bracket == 0:\n",
    "                page = page[:start_index + index - 1] + page[start_index + index + 2:]\n",
    "                page = re.sub(r'\\{\\{colonnes\\|.*?\\|\\n', '', page)\n",
    "                break\n",
    "        page_serach_re = re.search(r'\\{\\{colonnes\\|.*?\\|\\n', page, re.DOTALL)\n",
    "    return page\n",
    "\n",
    "def split_info_box(page):\n",
    "    \"\"\"\n",
    "    Sépare un page wikipédia en son infobox et le reste de la page. Si il n'y a pas d'Infobox, retourne un champs vide\n",
    "    pour L'infobox, et la page complete pour le reste de la page\n",
    "    :param str page: page wikipédia\n",
    "    :return (str, str): Infobox et contenu de la page sans l'infobox\n",
    "    \"\"\"\n",
    "    nb_bracket = 0\n",
    "    start_index = page.find(\"{{Infobox\")\n",
    "    for index, caractere in enumerate(page[start_index:]):\n",
    "        if caractere == '{':\n",
    "            nb_bracket += 1\n",
    "        elif caractere == '}':\n",
    "            nb_bracket -= 1\n",
    "        if nb_bracket == 0:\n",
    "            return page[:start_index + index + 1], page[start_index + index + 2:]\n",
    "    return \"\", page\n",
    "\n",
    "def get_info_from_infobox(raw_infos):\n",
    "    \"\"\"\n",
    "    retourne les champs de l'infobox sous forme de dictionnaire à partir de sa chaine de caractère, ou si\n",
    "    :param str raw_infos: chaine de caractère de l'infobox\n",
    "    :return dict[str, str]: champs de l'infobox\n",
    "    \"\"\"\n",
    "    infos = {}\n",
    "    for info in re.split(r\"\\n\\||\\n\\}\", raw_infos, flags=re.DOTALL)[1:-1]:\n",
    "        if len(info.split('=')) > 1:\n",
    "            key, value = info.split('=')[0], info.split('=')[1]\n",
    "            infos[key] = value\n",
    "    return infos\n",
    "\n",
    "\n",
    "def parse_section(section, title_ls, level):\n",
    "    \"\"\"\n",
    "    Trie les informations que l'on peut récupérer à part d'une section tirée du parseur,\n",
    "    et fait de même pour ses sous-sections si elles existent\n",
    "    :param wikitextparser.Section section: Section de la page wikipedia\n",
    "    :param set title_ls: liste des intitulés des sections\n",
    "    :param int level: Niveau de la section (section principale, secondaire, tertiaire, etc...)\n",
    "    :return dict[str: UNION[dict, list, int]]: informations pertinantes sur la section et ses sous-sections\n",
    "    \"\"\"\n",
    "\n",
    "    section_dict = {'content': section.contents,\n",
    "                    'list': [re.sub(r\"\\'\\'\", \"\", item) for list in section.get_lists() for item in list.items],\n",
    "                    'sub_section': {},\n",
    "                    'level':level\n",
    "                    }\n",
    "\n",
    "    # les deux premières sections sont toujours: \"\\n\", section_actuelle\n",
    "    if len(section.sections) > 2:\n",
    "        sub_sections = section.sections[2:]\n",
    "        for sub_sect in sub_sections:\n",
    "            # On verifie bien qu'ils sagit de sous-sections\n",
    "            if sub_sect.level == level + 1:\n",
    "                title_ls.add(sub_sect.title)\n",
    "                # Si il y a des sous-sections, on applique la fonction sur celles-ci\n",
    "                section_dict['sub_section'][sub_sect.title] = parse_section(sub_sect, title_ls, sub_sect.level)\n",
    "\n",
    "    return section_dict\n",
    "\n",
    "with open('./Wikipedia/couple_authors_wikipedia_8.json', 'r') as outfile:\n",
    "    couple_writers = json.load(outfile, cls=BookJSONDecoder)\n",
    "\n",
    "# On compte les intitulés des sections pour la suite\n",
    "title_dict = {}\n",
    "\n",
    "for couple in tqdm(couple_writers):\n",
    "\n",
    "    info_box, page = split_info_box(couple['author_wiki']['text'])\n",
    "\n",
    "    couple['author_wiki']['info_box'] = get_info_from_infobox(info_box)\n",
    "\n",
    "    parsed_page = wtp.parse(format_list(page))\n",
    "    sections_infos = {}\n",
    "    section_titles = set()\n",
    "\n",
    "    for section in parsed_page.sections:\n",
    "        if section.level <= 2:\n",
    "            section_titles.add(section.title)\n",
    "            sections_infos[section.title] = parse_section(section, section_titles, section.level)\n",
    "\n",
    "\n",
    "    couple['author_wiki']['parsed_text'] = sections_infos\n",
    "\n",
    "    # On met a jour le compte des intitulés des sections\n",
    "    for title in section_titles:\n",
    "        try:\n",
    "            title_dict[title] += 1\n",
    "        except KeyError:\n",
    "            title_dict[title] = 1\n",
    "\n",
    "\n",
    "print(\"titre des sections: \", json.dumps(sorted(title_dict.items(), key=lambda item: item[1], reverse=True)[:25], indent=2))\n",
    "\n",
    "with open('Wikipedia/parsed_couple_writers.json', 'w') as outfile:\n",
    "    json.dump(couple_writers, outfile, cls=BookJSONEncoder)"
   ],
   "metadata": {
    "collapsed": false,
    "pycharm": {
     "name": "#%%\n"
    }
   }
  },
  {
   "cell_type": "code",
   "execution_count": 11,
   "outputs": [
    {
     "name": "stderr",
     "output_type": "stream",
     "text": [
      "100%|██████████| 2412/2412 [00:19<00:00, 122.91it/s]\n"
     ]
    },
    {
     "name": "stdout",
     "output_type": "stream",
     "text": [
      "nombre de couple:  2412\n",
      "nombre de couples confirmés par titres:  1574\n",
      "nombre de couples infirmés par titres:  628\n",
      "nombre de couples sans titres de wikipedia:  210\n"
     ]
    }
   ],
   "source": [
    "def extract_title_from_list(list):\n",
    "    \"\"\"\n",
    "    Extrait le titre des livres depuis les listes d'items générée par le parseur\n",
    "    2 étapes:\n",
    "        - Si les données sont structurées : {{Ouvrage|titre=... }}, on récupère directement le titre\n",
    "        - Si les donnée ne sont pas structurée: ''L'Effet des rayons gamma sur les vieux garçons'' (de [[Paul Zindel]]), Leméac ([[1970]])\n",
    "          On doit eliminer les infornations en trop et ne garder que le titre.\n",
    "    :param list[str] list: liste du parseur d'où extraire les titres\n",
    "    :return list[str]: liste comportant uniquement les informations des titres\n",
    "    \"\"\"\n",
    "    titles = []\n",
    "    for item in [item.replace('\\n', '') for item in list]:\n",
    "        added = False\n",
    "\n",
    "        # Si les informations sur les livres sont structurées\n",
    "        meta_data_re = re.search(r\"\\{\\{(Ouvrage|Écrit).*\\}\\}\", item)\n",
    "        if meta_data_re:\n",
    "            meta_data = meta_data_re.group()\n",
    "            # On selectionne le titre et le sous titre\n",
    "            title_re = re.search(r'(?<=titre=).*?(?=\\|)', meta_data)\n",
    "            subtitle_re = re.search(r'(?<=sous-titre=).*?(?=\\|)', meta_data)\n",
    "            # Quand un sous-titre est présent, C'est souvent un tome d'une série. On concatène le titre et le sous-titre\n",
    "            if title_re or subtitle_re:\n",
    "                added = True\n",
    "                if title_re and subtitle_re:\n",
    "                    titles.append(normalize(title_re.group() + ' ' + subtitle_re.group()))\n",
    "                elif title_re:\n",
    "                    titles.append(normalize(title_re.group()))\n",
    "                elif subtitle_re:\n",
    "                    titles.append(normalize(subtitle_re.group()))\n",
    "\n",
    "        # Si les informations ne sont pas structurées, ou que l'extraction a échouée\n",
    "        if not added:\n",
    "            # On retire les \"{{ ...  }}\", ce sont des méta-data\n",
    "            n = 1\n",
    "            while n:\n",
    "                item, n = re.subn(r\"\\{\\{.*\\}\\}\", '', item)\n",
    "            n = 1\n",
    "            # On retire les balises html, ce sont des liens vers d'autres pages\n",
    "            while n:\n",
    "                item, n = re.subn(r\"<.+?>.*?</.+?>\", '', item)\n",
    "            # On seletionne les élements entre [[...]]\n",
    "            brackets_re = re.search(r'(?<=\\[\\[).*?(?=\\]\\])', item)\n",
    "            while brackets_re:\n",
    "                # Si on rencontre cette configuration: [[info1|info2|info3]], il s'agit de la même information\n",
    "                # sous plusieures formes différentes. On choisi arbitrairement la dernière et on supprime les [[ et ]]\n",
    "                item = re.sub(r\"\\[\\[.*?\\]\\]\", brackets_re.group().split('|')[-1], item, count=1)\n",
    "                brackets_re = re.search(r'(?<=\\[\\[).*?(?=\\]\\])', item)\n",
    "            # On retire dans l'ordre le texte entre parenthèse, les reférences, les années en début de chaine,\n",
    "            # les espaces, les tirets et les \":\" en début de chaine.\n",
    "            item = remove_text_between_parentheses(item)\n",
    "            item = re.sub(r'<ref .+?\\\\>', '', item)\n",
    "            item = re.sub(r'^\\s*?\\d{4}', '', item)\n",
    "            item = re.sub(r'^-\\s', '', item)\n",
    "            item = re.sub(r'^:', '', item)\n",
    "            if normalize(item.split(',')[0]):\n",
    "                titles.append(normalize(item.split(',')[0]))\n",
    "\n",
    "    return titles\n",
    "\n",
    "with open('Wikipedia/parsed_couple_writers.json', 'r') as couples_file:\n",
    "    couple_writers = json.load(couples_file, cls=BookJSONDecoder)\n",
    "\n",
    "with open('authors_ls.json', 'r') as input_file:\n",
    "    author_ls = json.load(input_file, cls=BookJSONDecoder)\n",
    "\n",
    "# Listes pour stoker nos couples confirmé, invalider et ceux dont on ne peut pas conclure car il n'y a pas de titres\n",
    "couples_confirmed = []\n",
    "couples_infirmed = []\n",
    "couples_unsure = []\n",
    "\n",
    "count_checked_by_titles = 0\n",
    "count_differentiate_by_titles = 0\n",
    "count_no_titles = 0\n",
    "for couple in tqdm(couple_writers):\n",
    "    confirmed_by_title_match = False\n",
    "    confirmed_by_title_match_re = False\n",
    "    book_titles = set()\n",
    "    book_titles_raw = set()\n",
    "\n",
    "    # On recupère tout les titres des livres de la page sous forme de set\n",
    "    for title, section in couple['author_wiki']['parsed_text'].items():\n",
    "        try:\n",
    "            if re.search(r'bibliographie|Œuvres|Œuvre|théâtre|poésie|nouvelles|essais|publications|romans|roman|Littérature|Ouvrages|Filmographie', title, re.IGNORECASE):\n",
    "                book_titles.update(extract_title_from_list(section['list']))\n",
    "                book_titles_raw.update(section['list'])\n",
    "        except KeyError:\n",
    "            pass\n",
    "\n",
    "    # On vérifie si on peut trouver des titres proches en comparant les titres parsés\n",
    "    # au titres normalisés de nos bases de donnée\n",
    "    book_titles_DB = [book.title for book in couple['author_DB']['books']]\n",
    "    for title in book_titles_DB:\n",
    "        for title_wiki in book_titles:\n",
    "            dist_titles = Levenshtein.distance(title, title_wiki)\n",
    "            if dist_titles < max(1, min(len(title), len(title_wiki)) / 4):\n",
    "                confirmed_by_title_match = True\n",
    "                break\n",
    "    # En cas d'échec, on recherche le titre du livre directement dans les titres non nettoyé de la page wikipédia\n",
    "    # via expression régulières\n",
    "    for title in book_titles_DB:\n",
    "        for title_wiki_raw in book_titles_raw:\n",
    "            if re.search(normalize(title), normalize(title_wiki_raw)):\n",
    "                confirmed_by_title_match_re = True\n",
    "                break\n",
    "\n",
    "    # On liste les cas possibles: 0,1,2 tests réussis\n",
    "    if (not confirmed_by_title_match) and (not confirmed_by_title_match_re):\n",
    "        if book_titles and book_titles_DB:\n",
    "            count_differentiate_by_titles += 1\n",
    "            couples_infirmed.append(couple)\n",
    "        else:\n",
    "            count_no_titles += 1\n",
    "            couples_unsure.append(couple)\n",
    "    else:\n",
    "        count_checked_by_titles += 1\n",
    "        couples_confirmed.append(couple)\n",
    "\n",
    "    # On sauvegarde comment avons nous trouvé les correspondances entre les deux listes de titres\n",
    "    couple['confirmed_by_title_match'] = confirmed_by_title_match\n",
    "    couple['confirmed_by_title_match_re'] = confirmed_by_title_match_re\n",
    "\n",
    "print('nombre de couple: ', len(couple_writers))\n",
    "print('nombre de couples confirmés par titres: ', count_checked_by_titles)\n",
    "print('nombre de couples infirmés par titres: ', count_differentiate_by_titles)\n",
    "print('nombre de couples sans titres de wikipedia: ', count_no_titles)\n",
    "\n",
    "with open('Wikipedia/couple_authors_wikipedia_confirmed.json', 'w') as outfile:\n",
    "    json.dump(couples_confirmed, outfile, cls=BookJSONEncoder)\n",
    "\n",
    "with open('Wikipedia/couple_authors_wikipedia_infirmed.json', 'w') as outfile:\n",
    "    json.dump(couples_infirmed, outfile, cls=BookJSONEncoder)\n",
    "\n",
    "with open('Wikipedia/couple_authors_wikipedia_unsure.json', 'w') as outfile:\n",
    "    json.dump(couples_unsure, outfile, cls=BookJSONEncoder)"
   ],
   "metadata": {
    "collapsed": false,
    "pycharm": {
     "name": "#%%\n"
    }
   }
  },
  {
   "cell_type": "code",
   "execution_count": 14,
   "outputs": [
    {
     "name": "stdout",
     "output_type": "stream",
     "text": [
      "Nombre d'auteur dont on a récupéré des prix:  346\n",
      "Nombre total de prix:  2458\n"
     ]
    }
   ],
   "source": [
    "with open('Wikipedia/parsed_couple_writers.json', 'r') as input_file:\n",
    "    couples_writers = json.load(input_file, cls=BookJSONDecoder)\n",
    "\n",
    "count = 0\n",
    "mean_count = []\n",
    "for couple in couples_writers:\n",
    "    award_titles = set()\n",
    "\n",
    "    for title, section in couple['author_wiki']['parsed_text'].items():\n",
    "        try:\n",
    "            if re.search(r'prix', title, re.IGNORECASE):\n",
    "                awards = extract_title_from_list(section['list'])\n",
    "                award_titles.update(awards)\n",
    "        except KeyError:\n",
    "            pass\n",
    "\n",
    "    if award_titles:\n",
    "        count += 1\n",
    "    mean_count.append(len(award_titles))\n",
    "print(\"Nombre d'auteur dont on a récupéré des prix: \", count)\n",
    "print(\"Nombre total de prix: \", sum(mean_count))\n"
   ],
   "metadata": {
    "collapsed": false,
    "pycharm": {
     "name": "#%%\n"
    }
   }
  },
  {
   "cell_type": "code",
   "execution_count": 16,
   "outputs": [
    {
     "ename": "KeyError",
     "evalue": "'author_DB'",
     "output_type": "error",
     "traceback": [
      "\u001B[0;31m---------------------------------------------------------------------------\u001B[0m",
      "\u001B[0;31mKeyError\u001B[0m                                  Traceback (most recent call last)",
      "\u001B[0;32m<ipython-input-16-2ea6b4be324e>\u001B[0m in \u001B[0;36m<module>\u001B[0;34m\u001B[0m\n\u001B[1;32m     10\u001B[0m \u001B[0;32mfor\u001B[0m \u001B[0mwikipedia_couple\u001B[0m \u001B[0;32min\u001B[0m \u001B[0mwikipedia_couple_writers\u001B[0m\u001B[0;34m:\u001B[0m\u001B[0;34m\u001B[0m\u001B[0;34m\u001B[0m\u001B[0m\n\u001B[1;32m     11\u001B[0m     \u001B[0;32mfor\u001B[0m \u001B[0mwikidata_couple\u001B[0m \u001B[0;32min\u001B[0m \u001B[0mwikidata_couple_writers\u001B[0m\u001B[0;34m:\u001B[0m\u001B[0;34m\u001B[0m\u001B[0;34m\u001B[0m\u001B[0m\n\u001B[0;32m---> 12\u001B[0;31m         \u001B[0;32mif\u001B[0m \u001B[0mwikidata_couple\u001B[0m\u001B[0;34m[\u001B[0m\u001B[0;34m'author_DB'\u001B[0m\u001B[0;34m]\u001B[0m \u001B[0;34m==\u001B[0m \u001B[0mwikipedia_couple\u001B[0m\u001B[0;34m[\u001B[0m\u001B[0;34m'author_DB'\u001B[0m\u001B[0;34m]\u001B[0m\u001B[0;34m:\u001B[0m\u001B[0;34m\u001B[0m\u001B[0;34m\u001B[0m\u001B[0m\n\u001B[0m\u001B[1;32m     13\u001B[0m             \u001B[0mcount\u001B[0m \u001B[0;34m+=\u001B[0m \u001B[0;36m1\u001B[0m\u001B[0;34m\u001B[0m\u001B[0;34m\u001B[0m\u001B[0m\n\u001B[1;32m     14\u001B[0m \u001B[0mprint\u001B[0m\u001B[0;34m(\u001B[0m\u001B[0;34m\"Nombre d'auteurs en communs: \"\u001B[0m\u001B[0;34m,\u001B[0m \u001B[0mcount\u001B[0m\u001B[0;34m)\u001B[0m\u001B[0;34m\u001B[0m\u001B[0;34m\u001B[0m\u001B[0m\n",
      "\u001B[0;31mKeyError\u001B[0m: 'author_DB'"
     ]
    }
   ],
   "source": [
    "with open('Wikipedia/parsed_couple_writers.json', 'r') as couples_file:\n",
    "    wikipedia_couple_writers = json.load(couples_file)\n",
    "\n",
    "with open('Wikidata/couple_authors_wikidata.json', 'r') as couples_file:\n",
    "    wikidata_couple_writers = json.load(couples_file)\n",
    "#diagramme de weinn database, wikipedia, wikidata\n",
    "\n",
    "count = 0\n",
    "couples_wikipedia_wikidata = []\n",
    "for wikipedia_couple in wikipedia_couple_writers:\n",
    "    for wikidata_couple in wikidata_couple_writers:\n",
    "        if wikidata_couple['author_DB'] == wikipedia_couple['author_DB']:\n",
    "            count += 1\n",
    "print(\"Nombre d'auteurs en communs: \", count)\n",
    "\n",
    "with open('couple_authors_wikipedia_wikidata.json', 'w') as outfile:\n",
    "    json.dump(couples_wikipedia_wikidata, outfile)\n",
    "\n"
   ],
   "metadata": {
    "collapsed": false,
    "pycharm": {
     "name": "#%%\n"
    }
   }
  }
 ],
 "metadata": {
  "kernelspec": {
   "display_name": "Python 3",
   "language": "python",
   "name": "python3"
  },
  "language_info": {
   "codemirror_mode": {
    "name": "ipython",
    "version": 2
   },
   "file_extension": ".py",
   "mimetype": "text/x-python",
   "name": "python",
   "nbconvert_exporter": "python",
   "pygments_lexer": "ipython2",
   "version": "2.7.6"
  }
 },
 "nbformat": 4,
 "nbformat_minor": 0
}